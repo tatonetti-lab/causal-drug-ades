{
 "cells": [
  {
   "cell_type": "code",
   "execution_count": 18,
   "metadata": {},
   "outputs": [],
   "source": [
    "import polars as pl\n",
    "import json\n",
    "\n",
    "# import\n",
    "from langchain_community.document_loaders import DirectoryLoader\n",
    "from langchain_community.embeddings.sentence_transformer import (\n",
    "    SentenceTransformerEmbeddings\n",
    ")\n",
    "from langchain_community.embeddings import OpenAIEmbeddings\n",
    "from langchain_community.vectorstores import Chroma\n",
    "from langchain_text_splitters import CharacterTextSplitter\n",
    "from openai import OpenAI, AzureOpenAI\n"
   ]
  },
  {
   "cell_type": "code",
   "execution_count": 15,
   "metadata": {},
   "outputs": [],
   "source": [
    "config = json.load(open('./config.json'))\n",
    "\n",
    "organization = \"\"\n",
    "\n",
    "api_source = 'OpenAI'\n",
    "\n",
    "api_key = config[api_source]['openai_api_key'] #constants.AZURE_OPENAI_KEY\n",
    "api_endpoint = config[api_source]['openai_api_endpoint']  "
   ]
  },
  {
   "cell_type": "code",
   "execution_count": 7,
   "metadata": {},
   "outputs": [],
   "source": [
    "loader = DirectoryLoader('./reference_labels', glob = '*.txt')\n",
    "documents  = loader.load()"
   ]
  },
  {
   "cell_type": "code",
   "execution_count": 16,
   "metadata": {},
   "outputs": [],
   "source": [
    "## saving embeddings\n",
    "text_splitter = CharacterTextSplitter()\n",
    "chunks = text_splitter.split_documents(documents)\n",
    "db = Chroma.from_documents(chunks, OpenAIEmbeddings(openai_api_key=api_key), persist_directory=\"../Chroma\")\n",
    "db.persist()\n",
    "\n",
    "## loading them\n",
    "db = Chroma(persist_directory=\"../Chroma\", embedding_function=OpenAIEmbeddings(openai_api_key=api_key))"
   ]
  },
  {
   "cell_type": "code",
   "execution_count": 21,
   "metadata": {},
   "outputs": [],
   "source": [
    "client = OpenAI(api_key=api_key)\n",
    "chat_completion = client.chat.completions.create(\n",
    "    messages=[\n",
    "        {\"role\": \"system\", \"content\": \"you are a fact finder and you answer in yes, no or unsure\"},\n",
    "        {\n",
    "            \"role\": \"user\",\n",
    "            \"content\": \"\"\"\n",
    "            Is there any evidence for the association between the use of Lisinopril and Acute Kidney Injury?\"\"\"\n",
    "        }\n",
    "    ],\n",
    "    model='gpt-4-1106-preview',\n",
    "    temperature=0,\n",
    ")\n",
    "term = chat_completion.choices[0].message.content\n"
   ]
  },
  {
   "cell_type": "code",
   "execution_count": 22,
   "metadata": {},
   "outputs": [
    {
     "data": {
      "text/plain": [
       "'Lisinopril is an angiotensin-converting enzyme (ACE) inhibitor commonly prescribed for the treatment of high blood pressure, heart failure, and other conditions. While ACE inhibitors like lisinopril are generally safe and effective, they can affect kidney function and, in certain situations, may lead to acute kidney injury (AKI).\\n\\nThe association between ACE inhibitors, including lisinopril, and acute kidney injury is well-documented in medical literature. The risk of AKI is particularly increased in certain populations or under specific conditions, such as:\\n\\n1. Patients with pre-existing chronic kidney disease.\\n2. Individuals with severe congestive heart failure.\\n3. Patients with dehydration or volume depletion.\\n4. Those undergoing major surgery or during episodes of severe hypotension.\\n5. Patients with bilateral renal artery stenosis or stenosis in the artery to a single functioning kidney.\\n\\nThe mechanism by which lisinopril and other ACE inhibitors can cause AKI is related to their effect on the renin-angiotensin-aldosterone system (RAAS). By inhibiting the conversion of angiotensin I to angiotensin II, ACE inhibitors reduce the constriction of efferent arterioles in the kidneys, which can lead to a decrease in glomerular filtration pressure and potentially impair kidney function.\\n\\nIt is important for healthcare providers to monitor kidney function when initiating or adjusting the dosage of lisinopril, especially in patients with risk factors for AKI. Regular blood tests to measure serum creatinine and electrolytes, as well as assessing urine output, can help detect early signs of kidney impairment.\\n\\nPatients taking lisinopril or other ACE inhibitors should be educated about the signs and symptoms of AKI and advised to maintain adequate hydration. They should also be informed about the importance of not using nonsteroidal anti-inflammatory drugs (NSAIDs) concomitantly without medical supervision, as NSAIDs can further increase the risk of AKI.\\n\\nIn summary, there is evidence for an association between the use of lisinopril and the development of acute kidney injury, particularly in at-risk populations. Careful monitoring and patient education are essential to minimize this risk.'"
      ]
     },
     "execution_count": 22,
     "metadata": {},
     "output_type": "execute_result"
    }
   ],
   "source": [
    "term"
   ]
  },
  {
   "cell_type": "code",
   "execution_count": null,
   "metadata": {},
   "outputs": [],
   "source": []
  }
 ],
 "metadata": {
  "kernelspec": {
   "display_name": "llm_cpus",
   "language": "python",
   "name": "python3"
  },
  "language_info": {
   "codemirror_mode": {
    "name": "ipython",
    "version": 3
   },
   "file_extension": ".py",
   "mimetype": "text/x-python",
   "name": "python",
   "nbconvert_exporter": "python",
   "pygments_lexer": "ipython3",
   "version": "3.11.7"
  }
 },
 "nbformat": 4,
 "nbformat_minor": 2
}
