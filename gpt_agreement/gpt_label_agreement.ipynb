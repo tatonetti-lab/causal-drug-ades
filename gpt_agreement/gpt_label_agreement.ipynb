{
 "cells": [
  {
   "cell_type": "code",
   "execution_count": 1,
   "metadata": {},
   "outputs": [],
   "source": [
    "import os\n",
    "import time\n",
    "import json\n",
    "\n",
    "import concurrent\n",
    "import numpy as np\n",
    "import pandas as pd\n",
    "from tqdm import tqdm\n",
    "from openai import OpenAI, AzureOpenAI\n",
    "from sentence_transformers import SentenceTransformer"
   ]
  },
  {
   "cell_type": "code",
   "execution_count": 34,
   "metadata": {},
   "outputs": [],
   "source": [
    "def gpt_call(api_source, config, system_content, prompt, drug, adr, temperature=0):\n",
    "    if api_source == 'OpenAI':\n",
    "        client = OpenAI(api_key=config[api_source]['openai_api_key'])\n",
    "    elif api_source == 'Azure':\n",
    "        client = AzureOpenAI(api_key=config[api_source]['openai_api_key'], api_version=\"2023-12-01-preview\", azure_endpoint=config[api_source]['openai_api_endpoint'])\n",
    "    else:\n",
    "        raise Exception(f\"Unexpected API source requested: {api_source}\")\n",
    "  \n",
    "    chat_completion = client.chat.completions.create(\n",
    "        messages=[\n",
    "            {\"role\": \"system\", \"content\": system_content},\n",
    "            {\n",
    "                \"role\": \"user\",\n",
    "                \"content\": prompt.format(adr, drug)\n",
    "            }\n",
    "        ],\n",
    "        model='gpt-3.5-turbo',\n",
    "        temperature=0,\n",
    "    )\n",
    "    term = chat_completion.choices[0].message.content\n",
    "    return term"
   ]
  },
  {
   "cell_type": "code",
   "execution_count": 3,
   "metadata": {},
   "outputs": [],
   "source": [
    "config = json.load(open('../config.json'))\n",
    "\n",
    "organization = \"\"\n",
    "\n",
    "api_source = 'OpenAI'\n",
    "\n",
    "api_key = config[api_source]['openai_api_key'] #constants.AZURE_OPENAI_KEY\n",
    "api_endpoint = config[api_source]['openai_api_endpoint'] \n",
    "\n",
    "gpt_model = config[api_source][\"gpt_model\"]\n",
    "temperature = 0"
   ]
  },
  {
   "cell_type": "code",
   "execution_count": 60,
   "metadata": {},
   "outputs": [],
   "source": [
    "nruns = 3\n",
    "\n",
    "system_options = {\n",
    "    \"lie-detector\": \"\"\"\n",
    "    You are a lie detector. You will be given a statement and you have to determine if it is true or false.\n",
    "    Do not include an explanation. Only respond with \"true\" or \"false\".\n",
    "    \"\"\",\n",
    "    \"pharmaco-expert\": \"\"\"\n",
    "    You are a pharmacologist. You will be given a statement regarding a drug and potential adverse reaction\n",
    "    and you have to determine state whether it is true or false.\n",
    "    Do not include an explanation. Only respond with \"true\" or \"false\".\n",
    "    \"\"\",\n",
    "}\n",
    "\n",
    "prompt_options = {\n",
    "    \"side-effect\": \"\"\"\n",
    "True or False: {} is a side effect caused by {}.\n",
    "\"\"\",\n",
    "    \"adverse-reaction\": \"\"\"\n",
    "{} is an adverse reaction of {}.\n",
    "\"\"\",\n",
    "    \"caused-by\": \"\"\"\n",
    "{} is caused by {}.\n",
    "\"\"\"\n",
    "}"
   ]
  },
  {
   "cell_type": "code",
   "execution_count": 61,
   "metadata": {},
   "outputs": [],
   "source": [
    "system_name = \"pharmaco-expert\"\n",
    "system_content = system_options[system_name]\n",
    "\n",
    "prompt_name = \"caused-by\"\n",
    "prompt = prompt_options[prompt_name]"
   ]
  },
  {
   "cell_type": "code",
   "execution_count": 11,
   "metadata": {},
   "outputs": [
    {
     "name": "stdout",
     "output_type": "stream",
     "text": [
      "(1894, 4)\n"
     ]
    },
    {
     "data": {
      "text/html": [
       "<div>\n",
       "<style scoped>\n",
       "    .dataframe tbody tr th:only-of-type {\n",
       "        vertical-align: middle;\n",
       "    }\n",
       "\n",
       "    .dataframe tbody tr th {\n",
       "        vertical-align: top;\n",
       "    }\n",
       "\n",
       "    .dataframe thead th {\n",
       "        text-align: right;\n",
       "    }\n",
       "</style>\n",
       "<table border=\"1\" class=\"dataframe\">\n",
       "  <thead>\n",
       "    <tr style=\"text-align: right;\">\n",
       "      <th></th>\n",
       "      <th>ingredient_name</th>\n",
       "      <th>pt_meddra_term</th>\n",
       "      <th>condition_name</th>\n",
       "      <th>affect</th>\n",
       "    </tr>\n",
       "  </thead>\n",
       "  <tbody>\n",
       "    <tr>\n",
       "      <th>0</th>\n",
       "      <td>isotretinoin</td>\n",
       "      <td>hepatotoxicity</td>\n",
       "      <td>acute liver injury</td>\n",
       "      <td>0.0</td>\n",
       "    </tr>\n",
       "    <tr>\n",
       "      <th>1</th>\n",
       "      <td>carvedilol</td>\n",
       "      <td>gastrointestinal haemorrhage</td>\n",
       "      <td>gi bleed</td>\n",
       "      <td>0.0</td>\n",
       "    </tr>\n",
       "    <tr>\n",
       "      <th>2</th>\n",
       "      <td>propafenone</td>\n",
       "      <td>hepatic enzyme increased</td>\n",
       "      <td>acute liver injury</td>\n",
       "      <td>0.0</td>\n",
       "    </tr>\n",
       "    <tr>\n",
       "      <th>3</th>\n",
       "      <td>valproate</td>\n",
       "      <td>haematemesis</td>\n",
       "      <td>gi bleed</td>\n",
       "      <td>0.0</td>\n",
       "    </tr>\n",
       "    <tr>\n",
       "      <th>4</th>\n",
       "      <td>omeprazole</td>\n",
       "      <td>hepatic necrosis</td>\n",
       "      <td>acute liver injury</td>\n",
       "      <td>0.0</td>\n",
       "    </tr>\n",
       "  </tbody>\n",
       "</table>\n",
       "</div>"
      ],
      "text/plain": [
       "  ingredient_name                pt_meddra_term      condition_name  affect\n",
       "0    isotretinoin                hepatotoxicity  acute liver injury     0.0\n",
       "1      carvedilol  gastrointestinal haemorrhage            gi bleed     0.0\n",
       "2     propafenone      hepatic enzyme increased  acute liver injury     0.0\n",
       "3       valproate                  haematemesis            gi bleed     0.0\n",
       "4      omeprazole              hepatic necrosis  acute liver injury     0.0"
      ]
     },
     "execution_count": 11,
     "metadata": {},
     "output_type": "execute_result"
    }
   ],
   "source": [
    "labels_w_ADRs = pd.read_csv(\"../data/labels_w_ADRs.csv\")[[\n",
    "    'ingredient_name', 'pt_meddra_term', 'condition_name', 'affect'\n",
    "    ]].drop_duplicates().fillna(0)\n",
    "print(labels_w_ADRs.shape)\n",
    "labels_w_ADRs.head()"
   ]
  },
  {
   "cell_type": "code",
   "execution_count": 12,
   "metadata": {},
   "outputs": [
    {
     "data": {
      "text/plain": [
       "affect\n",
       "0.0    1648\n",
       "1.0     246\n",
       "Name: count, dtype: int64"
      ]
     },
     "execution_count": 12,
     "metadata": {},
     "output_type": "execute_result"
    }
   ],
   "source": [
    "labels_w_ADRs['affect'].value_counts()"
   ]
  },
  {
   "cell_type": "code",
   "execution_count": 30,
   "metadata": {},
   "outputs": [
    {
     "data": {
      "text/plain": [
       "'true'"
      ]
     },
     "execution_count": 30,
     "metadata": {},
     "output_type": "execute_result"
    }
   ],
   "source": [
    "gpt_call(api_source, config, system_content, prompt, 'lisinopril', 'acute kidney injury')"
   ]
  },
  {
   "cell_type": "code",
   "execution_count": 50,
   "metadata": {},
   "outputs": [],
   "source": [
    "def run_iteration(row):\n",
    "    drug = row[0]\n",
    "    adr = row[1]\n",
    "    condition = row[2]\n",
    "    print(drug, adr)\n",
    "    try:\n",
    "        gpt_out = gpt_call(api_source, config, system_content, prompt, drug, condition)\n",
    "        # ['ingredient_name', 'pt_meddra_term', 'condition_name', 'affect', 'gpt_output']\n",
    "        return [drug, adr, condition, row[3], gpt_out]\n",
    "    except Exception as err:\n",
    "        print(f\"Encountered an exception for row: {drug} {adr}. Error message below:\")\n",
    "        print(err)\n",
    "        return None"
   ]
  },
  {
   "cell_type": "code",
   "execution_count": 51,
   "metadata": {},
   "outputs": [
    {
     "name": "stdout",
     "output_type": "stream",
     "text": [
      "['isotretinoin' 'hepatotoxicity' 'acute liver injury' 0.0]\n"
     ]
    }
   ],
   "source": [
    "for row in labels_w_ADRs.values:\n",
    "    print(row)\n",
    "    break"
   ]
  },
  {
   "cell_type": "code",
   "execution_count": 63,
   "metadata": {},
   "outputs": [
    {
     "name": "stdout",
     "output_type": "stream",
     "text": [
      "isotretinoin hepatotoxicity\n",
      "carvedilol gastrointestinal haemorrhage\n",
      "propafenone hepatic enzyme increased\n",
      "valproate haematemesis\n",
      "omeprazole hepatic necrosis\n",
      "nisoldipine gastrointestinal haemorrhage\n",
      "quinapril myocardial infarction\n",
      "quinapril renal failure\n",
      "caffeine gastrointestinal haemorrhage\n",
      "nicardipine myocardial infarction\n"
     ]
    },
    {
     "name": "stderr",
     "output_type": "stream",
     "text": [
      "  0%|          | 1/1894 [00:00<12:00,  2.63it/s]"
     ]
    },
    {
     "name": "stdout",
     "output_type": "stream",
     "text": [
      "celecoxib myocardial infarction\n",
      "azithromycin hepatic failure\n",
      "piroxicam renal failure\n",
      "ciprofloxacin myocardial infarction\n",
      "bupropion myocardial infarction\n",
      "bupropion liver injury\n",
      "clopidogrel acute kidney injury\n",
      "venlafaxine haematemesis\n",
      "memantine gastrointestinal haemorrhage\n"
     ]
    },
    {
     "name": "stderr",
     "output_type": "stream",
     "text": [
      "  1%|          | 11/1894 [00:00<01:38, 19.04it/s]"
     ]
    },
    {
     "name": "stdout",
     "output_type": "stream",
     "text": [
      "fluoxetine haematemesis\n",
      "fluoxetine liver function test abnormal\n"
     ]
    },
    {
     "name": "stderr",
     "output_type": "stream",
     "text": [
      "  1%|          | 14/1894 [00:00<02:03, 15.28it/s]"
     ]
    },
    {
     "name": "stdout",
     "output_type": "stream",
     "text": [
      "fluoxetine myocardial infarction\n",
      "cilostazol haematemesis\n",
      "cilostazol myocardial infarction\n",
      "tramadol hepatic failure\n",
      "metoclopramide hepatotoxicity\n",
      "capecitabine renal impairment\n",
      "stavudine hepatic failure\n",
      "lorazepam gastrointestinal haemorrhage\n",
      "etravirine hepatic failure\n"
     ]
    },
    {
     "name": "stderr",
     "output_type": "stream",
     "text": [
      "  1%|▏         | 24/1894 [00:01<01:31, 20.39it/s]"
     ]
    },
    {
     "name": "stdout",
     "output_type": "stream",
     "text": [
      "didanosine hepatic failure\n",
      "ketorolac hepatic enzyme increased\n",
      "guanfacine liver function test abnormal\n",
      "lansoprazole myocardial infarction\n"
     ]
    },
    {
     "name": "stderr",
     "output_type": "stream",
     "text": [
      "  1%|▏         | 27/1894 [00:01<01:40, 18.66it/s]"
     ]
    },
    {
     "name": "stdout",
     "output_type": "stream",
     "text": [
      "eszopiclone liver injury\n",
      "lamotrigine gastrointestinal haemorrhage\n",
      "lamotrigine renal failure\n",
      "eletriptan haematemesis\n",
      "donepezil myocardial infarction\n",
      "rifabutin hepatic enzyme increased\n",
      "linezolid gastrointestinal haemorrhage\n",
      "balsalazide hepatotoxicity\n",
      "methyldopa liver function test abnormal\n"
     ]
    },
    {
     "name": "stderr",
     "output_type": "stream",
     "text": [
      "  2%|▏         | 37/1894 [00:02<01:30, 20.54it/s]"
     ]
    },
    {
     "name": "stdout",
     "output_type": "stream",
     "text": [
      "fluvastatin acute kidney injury\n",
      "rosuvastatin hepatic enzyme increased\n",
      "cyclosporine hepatocellular injury\n",
      "cyclosporine hepatotoxicity\n",
      "valacyclovir hepatic enzyme abnormal\n",
      "oseltamivir liver function test abnormal\n",
      "erlotinib acute kidney injury\n",
      "escitalopram hepatic failure\n",
      "anagrelide renal impairment\n"
     ]
    },
    {
     "name": "stderr",
     "output_type": "stream",
     "text": [
      "  2%|▏         | 42/1894 [00:02<01:24, 21.86it/s]"
     ]
    },
    {
     "name": "stdout",
     "output_type": "stream",
     "text": [
      "epoetin alfa myocardial infarction\n",
      "efavirenz hepatic failure\n"
     ]
    },
    {
     "name": "stderr",
     "output_type": "stream",
     "text": [
      "  3%|▎         | 54/1894 [00:02<01:18, 23.56it/s]"
     ]
    },
    {
     "name": "stdout",
     "output_type": "stream",
     "text": [
      "fluvastatin hepatic failure\n",
      "venlafaxine liver function test abnormal\n",
      "ursodeoxycholate liver function test abnormal\n",
      "ethacrynate gastrointestinal haemorrhage\n",
      "griseofulvin hepatic enzyme increased\n",
      "fenoprofen hepatotoxicity\n",
      "olmesartan myocardial infarction\n",
      "celecoxib hepatotoxicity\n",
      "mitomycin renal failure\n",
      "albendazole liver function test abnormal\n"
     ]
    },
    {
     "name": "stderr",
     "output_type": "stream",
     "text": [
      "  3%|▎         | 58/1894 [00:03<01:55, 15.94it/s]"
     ]
    },
    {
     "name": "stdout",
     "output_type": "stream",
     "text": [
      "ifosfamide gastrointestinal haemorrhage\n",
      "vancomycin acute kidney injury\n",
      "dolutegravir acute hepatic failure\n",
      "imatinib hepatotoxicity\n",
      "docetaxel renal failure\n",
      "tolcapone acute hepatic failure\n",
      "daptomycin liver function test abnormal\n",
      "rivaroxaban gastrointestinal haemorrhage\n"
     ]
    },
    {
     "name": "stderr",
     "output_type": "stream",
     "text": [
      "  3%|▎         | 61/1894 [00:03<02:03, 14.79it/s]"
     ]
    },
    {
     "name": "stdout",
     "output_type": "stream",
     "text": [
      "cyclosporine liver injury\n",
      "aminophylline haematemesis\n",
      "dexmethylphenidate myocardial infarction\n",
      "inotuzumab ozogamicin hepatocellular injury\n"
     ]
    },
    {
     "name": "stderr",
     "output_type": "stream",
     "text": [
      "  4%|▎         | 67/1894 [00:03<01:31, 20.00it/s]"
     ]
    },
    {
     "name": "stdout",
     "output_type": "stream",
     "text": [
      "inotuzumab ozogamicin hepatotoxicity\n",
      "deferasirox liver injury\n",
      "methohexital liver function test abnormal\n"
     ]
    },
    {
     "name": "stderr",
     "output_type": "stream",
     "text": [
      "  4%|▍         | 76/1894 [00:04<01:22, 22.12it/s]"
     ]
    },
    {
     "name": "stdout",
     "output_type": "stream",
     "text": [
      "liraglutide renal impairment\n",
      "mefenamate hepatic failure\n",
      "allopurinol hepatotoxicity\n",
      "cysteamine renal failure\n",
      "lomitapide hepatotoxicity\n",
      "bendamustine hepatotoxicity\n",
      "lenalidomide liver function test abnormal\n",
      "secnidazole hepatic failure\n",
      "bosutinib hepatotoxicity\n",
      "bosutinib hepatic enzyme increased\n",
      "bosutinib liver injury\n",
      "tivozanib haematemesis\n",
      "selpercatinib haematemesis\n",
      "goserelin haematemesis\n",
      "sulfasalazine liver function test abnormal\n"
     ]
    },
    {
     "name": "stderr",
     "output_type": "stream",
     "text": [
      "  5%|▍         | 88/1894 [00:04<01:19, 22.83it/s]"
     ]
    },
    {
     "name": "stdout",
     "output_type": "stream",
     "text": [
      "nintedanib liver function test abnormal\n",
      "ponatinib hepatotoxicity\n",
      "tolvaptan liver injury\n",
      "ixazomib hepatotoxicity\n",
      "radium renal failure\n"
     ]
    },
    {
     "name": "stderr",
     "output_type": "stream",
     "text": [
      "  5%|▍         | 92/1894 [00:05<01:32, 19.51it/s]"
     ]
    },
    {
     "name": "stdout",
     "output_type": "stream",
     "text": [
      "certolizumab pegol myocardial infarction\n",
      "elotuzumab acute kidney injury\n",
      "belatacept renal impairment\n",
      "ixabepilone acute hepatic failure\n",
      "trastuzumab acute hepatic failure\n",
      "saxagliptin acute kidney injury\n",
      "dasatinib hepatotoxicity\n",
      "posaconazole renal failure\n",
      "thalidomide renal failure\n"
     ]
    },
    {
     "name": "stderr",
     "output_type": "stream",
     "text": [
      "  5%|▌         | 97/1894 [00:05<01:37, 18.40it/s]"
     ]
    },
    {
     "name": "stdout",
     "output_type": "stream",
     "text": [
      "thalidomide acute kidney injury\n",
      "relugolix myocardial infarction\n",
      "adalimumab hepatic failure\n",
      "adalimumab hepatic necrosis\n",
      "niraparib acute kidney injury\n"
     ]
    },
    {
     "name": "stderr",
     "output_type": "stream",
     "text": [
      "  6%|▌         | 107/1894 [00:05<01:22, 21.65it/s]"
     ]
    },
    {
     "name": "stdout",
     "output_type": "stream",
     "text": [
      "atezolizumab acute kidney injury\n",
      "melphalan hepatotoxicity\n",
      "durvalumab hepatotoxicity\n",
      "ipilimumab hepatic failure\n",
      "isopropyl alcohol gastrointestinal haemorrhage\n",
      "eltrombopag acute kidney injury\n"
     ]
    },
    {
     "name": "stderr",
     "output_type": "stream",
     "text": [
      "  6%|▌         | 110/1894 [00:05<01:30, 19.65it/s]"
     ]
    },
    {
     "name": "stdout",
     "output_type": "stream",
     "text": [
      "levomilnacipran liver function test abnormal\n",
      "cabozantinib hepatotoxicity\n",
      "cabozantinib renal failure\n",
      "aldesleukin hepatic failure\n",
      "axitinib acute kidney injury\n",
      "encorafenib gastrointestinal haemorrhage\n"
     ]
    },
    {
     "name": "stderr",
     "output_type": "stream",
     "text": [
      "  6%|▌         | 118/1894 [00:06<01:12, 24.59it/s]"
     ]
    },
    {
     "name": "stdout",
     "output_type": "stream",
     "text": [
      "ketorolac renal impairment\n",
      "cidofovir renal impairment\n",
      "metformin renal impairment\n",
      "sparsentan hepatic failure\n",
      "enalaprilat myocardial infarction\n"
     ]
    },
    {
     "name": "stderr",
     "output_type": "stream",
     "text": [
      "  6%|▋         | 122/1894 [00:06<01:16, 23.28it/s]"
     ]
    },
    {
     "name": "stdout",
     "output_type": "stream",
     "text": [
      "nitrofurantoin hepatic necrosis\n",
      "ibuprofen gastrointestinal haemorrhage\n",
      "gabapentin haematemesis\n",
      "gabapentin acute kidney injury\n",
      "testosterone renal impairment\n",
      "celecoxib acute kidney injury\n"
     ]
    },
    {
     "name": "stderr",
     "output_type": "stream",
     "text": [
      "  7%|▋         | 127/1894 [00:06<01:08, 25.84it/s]"
     ]
    },
    {
     "name": "stdout",
     "output_type": "stream",
     "text": [
      "propoxyphene hepatocellular injury\n",
      "sumatriptan liver function test abnormal\n",
      "azithromycin hepatic enzyme abnormal\n",
      "alfuzosin renal impairment\n",
      "topiramate hepatic failure\n",
      "memantine myocardial infarction\n",
      "misoprostol gastrointestinal haemorrhage\n",
      "fluoxetine renal failure\n",
      "frovatriptan myocardial infarction\n",
      "modafinil hepatic enzyme increased\n"
     ]
    },
    {
     "name": "stderr",
     "output_type": "stream",
     "text": [
      "  7%|▋         | 138/1894 [00:07<01:17, 22.78it/s]"
     ]
    },
    {
     "name": "stdout",
     "output_type": "stream",
     "text": [
      "captopril renal failure\n",
      "didanosine acute kidney injury\n",
      "aripiprazole hepatic enzyme increased\n",
      "guanfacine acute kidney injury\n",
      "lansoprazole gastrointestinal haemorrhage\n"
     ]
    },
    {
     "name": "stderr",
     "output_type": "stream",
     "text": [
      "  8%|▊         | 147/1894 [00:07<01:08, 25.39it/s]"
     ]
    },
    {
     "name": "stdout",
     "output_type": "stream",
     "text": [
      "lansoprazole haematemesis\n",
      "lansoprazole renal impairment\n",
      "etodolac renal impairment\n",
      "ibuprofen hepatic enzyme increased\n",
      "ropinirole haematemesis\n",
      "labetalol hepatic necrosis\n",
      "risedronate liver function test abnormal\n"
     ]
    },
    {
     "name": "stderr",
     "output_type": "stream",
     "text": [
      "  8%|▊         | 151/1894 [00:07<01:19, 21.92it/s]"
     ]
    },
    {
     "name": "stdout",
     "output_type": "stream",
     "text": [
      "sildenafil liver function test abnormal\n",
      "eletriptan myocardial infarction\n",
      "nadolol hepatic enzyme increased\n",
      "eplerenone hepatic failure\n",
      "bupropion hepatotoxicity\n",
      "trifluoperazine liver injury\n",
      "diflunisal gastrointestinal haemorrhage\n",
      "atenolol acute kidney injury\n",
      "prednisone renal failure\n",
      "auranofin hepatic enzyme increased\n"
     ]
    },
    {
     "name": "stderr",
     "output_type": "stream",
     "text": [
      "  8%|▊         | 154/1894 [00:08<02:03, 14.12it/s]"
     ]
    },
    {
     "name": "stdout",
     "output_type": "stream",
     "text": [
      "irbesartan renal failure\n",
      "famciclovir liver function test abnormal\n",
      "dronedarone liver injury\n",
      "erlotinib gastrointestinal haemorrhage\n",
      "nafcillin renal failure\n"
     ]
    },
    {
     "name": "stderr",
     "output_type": "stream",
     "text": [
      "  9%|▊         | 165/1894 [00:08<01:17, 22.19it/s]"
     ]
    },
    {
     "name": "stdout",
     "output_type": "stream",
     "text": [
      "dexlansoprazole liver function test abnormal\n",
      "estropipate myocardial infarction\n",
      "sitagliptin renal impairment\n",
      "telavancin acute kidney injury\n",
      "ganciclovir renal failure\n",
      "itraconazole hepatic enzyme increased\n",
      "acamprosate haematemesis\n"
     ]
    },
    {
     "name": "stderr",
     "output_type": "stream",
     "text": [
      "  9%|▉         | 173/1894 [00:08<01:23, 20.65it/s]"
     ]
    },
    {
     "name": "stdout",
     "output_type": "stream",
     "text": [
      "meropenem renal failure\n",
      "ibandronate acute kidney injury\n",
      "cisplatin acute kidney injury\n",
      "ifosfamide hepatotoxicity\n",
      "temsirolimus gastrointestinal haemorrhage\n",
      "azacitidine hepatotoxicity\n",
      "voriconazole gastrointestinal haemorrhage\n",
      "voriconazole hepatic enzyme increased\n",
      "nafcillin acute kidney injury\n",
      "docetaxel gastrointestinal haemorrhage\n",
      "sufentanil renal failure\n",
      "famotidine hepatic enzyme increased\n",
      "sodium tetradecyl sulfate myocardial infarction\n",
      "eptifibatide haematemesis\n",
      "vinblastine myocardial infarction\n"
     ]
    },
    {
     "name": "stderr",
     "output_type": "stream",
     "text": [
      "  9%|▉         | 176/1894 [00:09<02:21, 12.10it/s]"
     ]
    },
    {
     "name": "stdout",
     "output_type": "stream",
     "text": [
      "cefoxitin renal impairment\n",
      "zileuton hepatotoxicity\n",
      "cyclophosphamide myocardial infarction\n",
      "cyclophosphamide renal impairment\n"
     ]
    },
    {
     "name": "stderr",
     "output_type": "stream",
     "text": [
      " 10%|█         | 190/1894 [00:09<01:15, 22.72it/s]"
     ]
    },
    {
     "name": "stdout",
     "output_type": "stream",
     "text": [
      "micafungin myocardial infarction\n",
      "cefuroxime myocardial infarction\n",
      "methyltestosterone myocardial infarction\n",
      "alirocumab hepatic enzyme increased\n",
      "liraglutide acute kidney injury\n"
     ]
    },
    {
     "name": "stderr",
     "output_type": "stream",
     "text": [
      " 10%|█         | 195/1894 [00:10<01:11, 23.71it/s]"
     ]
    },
    {
     "name": "stdout",
     "output_type": "stream",
     "text": [
      "sunitinib renal failure\n",
      "hydroxocobalamin renal impairment\n",
      "pentostatin renal failure\n",
      "adenosine myocardial infarction\n",
      "tinidazole hepatotoxicity\n",
      "naratriptan myocardial infarction\n"
     ]
    },
    {
     "name": "stderr",
     "output_type": "stream",
     "text": [
      " 11%|█         | 204/1894 [00:10<01:06, 25.24it/s]"
     ]
    },
    {
     "name": "stdout",
     "output_type": "stream",
     "text": [
      "sirolimus liver function test abnormal\n",
      "tretinoin myocardial infarction\n",
      "delafloxacin renal impairment\n",
      "everolimus haematemesis\n",
      "bendamustine myocardial infarction\n"
     ]
    },
    {
     "name": "stderr",
     "output_type": "stream",
     "text": [
      " 11%|█         | 207/1894 [00:10<01:07, 24.98it/s]"
     ]
    },
    {
     "name": "stdout",
     "output_type": "stream",
     "text": [
      "17-alpha-hydroxyprogesterone myocardial infarction\n",
      "amphetamine myocardial infarction\n",
      "roflumilast acute kidney injury\n",
      "bosutinib hepatocellular injury\n",
      "bosutinib liver function test abnormal\n",
      "bosutinib acute kidney injury\n"
     ]
    },
    {
     "name": "stderr",
     "output_type": "stream",
     "text": [
      " 11%|█         | 211/1894 [00:10<01:06, 25.31it/s]"
     ]
    },
    {
     "name": "stdout",
     "output_type": "stream",
     "text": [
      "tivozanib gastrointestinal haemorrhage\n",
      "tivozanib myocardial infarction\n",
      "omacetaxine mepesuccinate gastrointestinal haemorrhage\n",
      "pexidartinib hepatotoxicity\n",
      "ropeginterferon alfa-2b hepatotoxicity\n"
     ]
    },
    {
     "name": "stderr",
     "output_type": "stream",
     "text": [
      " 12%|█▏        | 221/1894 [00:10<01:00, 27.85it/s]"
     ]
    },
    {
     "name": "stdout",
     "output_type": "stream",
     "text": [
      "carfilzomib renal impairment\n",
      "everolimus myocardial infarction\n",
      "regorafenib hepatotoxicity\n",
      "balsalazide renal impairment\n",
      "daratumumab renal failure\n",
      "ixabepilone renal failure\n"
     ]
    },
    {
     "name": "stderr",
     "output_type": "stream",
     "text": [
      " 12%|█▏        | 225/1894 [00:11<01:05, 25.32it/s]"
     ]
    },
    {
     "name": "stdout",
     "output_type": "stream",
     "text": [
      "tucatinib hepatotoxicity\n",
      "dotatate hepatotoxicity\n",
      "lorlatinib hepatotoxicity\n",
      "pomalidomide hepatotoxicity\n",
      "pomalidomide renal failure\n"
     ]
    },
    {
     "name": "stderr",
     "output_type": "stream",
     "text": [
      " 12%|█▏        | 228/1894 [00:11<01:10, 23.65it/s]"
     ]
    },
    {
     "name": "stdout",
     "output_type": "stream",
     "text": [
      "pomalidomide hepatic enzyme increased\n",
      "adalimumab myocardial infarction\n",
      "epcoritamab hepatotoxicity\n",
      "macitentan hepatic failure\n",
      "ipilimumab hepatocellular injury\n",
      "nilotinib myocardial infarction\n",
      "isopropyl alcohol acute hepatic failure\n",
      "cabazitaxel renal failure\n",
      "eltrombopag hepatotoxicity\n",
      "ceritinib renal failure\n",
      "trastuzumab liver function test abnormal\n",
      "cabozantinib acute kidney injury\n",
      "crizotinib hepatic failure\n",
      "avelumab hepatotoxicity\n"
     ]
    },
    {
     "name": "stderr",
     "output_type": "stream",
     "text": [
      " 12%|█▏        | 231/1894 [00:12<02:34, 10.79it/s]"
     ]
    },
    {
     "name": "stdout",
     "output_type": "stream",
     "text": [
      "avelumab renal failure\n",
      "avelumab hepatic enzyme increased\n",
      "binimetinib myocardial infarction\n",
      "gallium renal failure\n",
      "tolcapone hepatic failure\n",
      "meclofenamate myocardial infarction\n",
      "abrocitinib myocardial infarction\n",
      "pazopanib hepatotoxicity\n",
      "irbesartan acute kidney injury\n",
      "dantrolene gastrointestinal haemorrhage\n",
      "dantrolene renal failure\n"
     ]
    },
    {
     "name": "stderr",
     "output_type": "stream",
     "text": [
      " 13%|█▎        | 244/1894 [00:12<01:39, 16.56it/s]"
     ]
    },
    {
     "name": "stdout",
     "output_type": "stream",
     "text": [
      "busulfan haematemesis\n",
      "enalaprilat renal failure\n",
      "verapamil hepatic enzyme increased\n",
      "clarithromycin hepatic failure\n",
      "nisoldipine myocardial infarction\n",
      "quinapril liver function test abnormal\n",
      "quinapril acute kidney injury\n",
      "clopidogrel gastrointestinal haemorrhage\n",
      "diltiazem myocardial infarction\n"
     ]
    },
    {
     "name": "stderr",
     "output_type": "stream",
     "text": [
      " 14%|█▍        | 265/1894 [00:13<01:00, 26.82it/s]"
     ]
    },
    {
     "name": "stdout",
     "output_type": "stream",
     "text": [
      "naproxen renal failure\n",
      "paroxetine liver function test abnormal\n",
      "mesalamine hepatocellular injury\n",
      "tadalafil myocardial infarction\n",
      "capecitabine gastrointestinal haemorrhage\n",
      "capecitabine liver function test abnormal\n",
      "enalapril renal failure\n"
     ]
    },
    {
     "name": "stderr",
     "output_type": "stream",
     "text": [
      " 14%|█▍        | 270/1894 [00:13<00:56, 28.58it/s]"
     ]
    },
    {
     "name": "stdout",
     "output_type": "stream",
     "text": [
      "etravirine haematemesis\n",
      "etravirine myocardial infarction\n",
      "indinavir acute kidney injury\n",
      "sodium phosphate acute kidney injury\n",
      "salmon calcitonin myocardial infarction\n",
      "guanfacine myocardial infarction\n",
      "pramipexole haematemesis\n",
      "etodolac haematemesis\n",
      "rasagiline acute kidney injury\n",
      "lamotrigine acute kidney injury\n",
      "febuxostat renal failure\n",
      "febuxostat renal impairment\n"
     ]
    },
    {
     "name": "stderr",
     "output_type": "stream",
     "text": [
      " 15%|█▍        | 281/1894 [00:13<01:08, 23.69it/s]"
     ]
    },
    {
     "name": "stdout",
     "output_type": "stream",
     "text": [
      "zonisamide haematemesis\n",
      "fentanyl gastrointestinal haemorrhage\n",
      "fentanyl renal failure\n",
      "dabigatran etexilate gastrointestinal haemorrhage\n"
     ]
    },
    {
     "name": "stderr",
     "output_type": "stream",
     "text": [
      " 15%|█▌        | 290/1894 [00:14<01:02, 25.51it/s]"
     ]
    },
    {
     "name": "stdout",
     "output_type": "stream",
     "text": [
      "pregabalin gastrointestinal haemorrhage\n",
      "oxcarbazepine liver function test abnormal\n",
      "propylthiouracil acute kidney injury\n",
      "erlotinib hepatic failure\n",
      "exenatide acute kidney injury\n",
      "telithromycin hepatic necrosis\n",
      "desvenlafaxine gastrointestinal haemorrhage\n",
      "desvenlafaxine myocardial infarction\n"
     ]
    },
    {
     "name": "stderr",
     "output_type": "stream",
     "text": [
      " 16%|█▌        | 294/1894 [00:14<01:09, 22.92it/s]"
     ]
    },
    {
     "name": "stdout",
     "output_type": "stream",
     "text": [
      "cefditoren renal impairment\n",
      "sitagliptin acute kidney injury\n",
      "gemcitabine myocardial infarction\n"
     ]
    },
    {
     "name": "stderr",
     "output_type": "stream",
     "text": [
      " 16%|█▌        | 297/1894 [00:14<01:22, 19.36it/s]"
     ]
    },
    {
     "name": "stdout",
     "output_type": "stream",
     "text": [
      "ganciclovir hepatic failure\n",
      "aspirin renal failure\n",
      "entecavir renal failure\n",
      "meloxicam hepatotoxicity\n",
      "ticlopidine gastrointestinal haemorrhage\n",
      "acamprosate myocardial infarction\n",
      "capecitabine acute kidney injury\n",
      "flucytosine gastrointestinal haemorrhage\n",
      "albendazole renal failure\n"
     ]
    },
    {
     "name": "stderr",
     "output_type": "stream",
     "text": [
      " 16%|█▌        | 304/1894 [00:14<01:14, 21.46it/s]"
     ]
    },
    {
     "name": "stdout",
     "output_type": "stream",
     "text": [
      "ketoconazole hepatic necrosis\n",
      "cisplatin renal failure\n"
     ]
    },
    {
     "name": "stderr",
     "output_type": "stream",
     "text": [
      " 16%|█▌        | 307/1894 [00:15<01:21, 19.39it/s]"
     ]
    },
    {
     "name": "stdout",
     "output_type": "stream",
     "text": [
      "deferoxamine acute kidney injury\n",
      "6-aminocaproic acid renal failure\n",
      "fludarabine myocardial infarction\n",
      "voriconazole haematemesis\n",
      "abiraterone hepatotoxicity\n",
      "niacin liver function test abnormal\n",
      "sufentanil hepatic enzyme increased\n",
      "methotrexate haematemesis\n",
      "minocycline hepatic enzyme increased\n"
     ]
    },
    {
     "name": "stderr",
     "output_type": "stream",
     "text": [
      " 16%|█▋        | 310/1894 [00:15<02:19, 11.34it/s]"
     ]
    },
    {
     "name": "stdout",
     "output_type": "stream",
     "text": [
      "rivaroxaban hepatocellular injury\n",
      "thiotepa renal failure\n",
      "dexmedetomidine acute kidney injury\n"
     ]
    },
    {
     "name": "stderr",
     "output_type": "stream",
     "text": [
      " 17%|█▋        | 323/1894 [00:15<01:08, 22.89it/s]"
     ]
    },
    {
     "name": "stdout",
     "output_type": "stream",
     "text": [
      "deferasirox gastrointestinal haemorrhage\n",
      "deferasirox renal failure\n",
      "granisetron hepatic enzyme increased\n",
      "micafungin hepatic failure\n",
      "mannitol renal failure\n",
      "apixaban liver function test abnormal\n",
      "fulvestrant hepatic enzyme increased\n"
     ]
    },
    {
     "name": "stderr",
     "output_type": "stream",
     "text": [
      " 17%|█▋        | 327/1894 [00:16<01:03, 24.73it/s]"
     ]
    },
    {
     "name": "stdout",
     "output_type": "stream",
     "text": [
      "foscarnet acute kidney injury\n",
      "fentanyl haematemesis\n"
     ]
    },
    {
     "name": "stderr",
     "output_type": "stream",
     "text": [
      " 17%|█▋        | 331/1894 [00:16<01:19, 19.66it/s]"
     ]
    },
    {
     "name": "stdout",
     "output_type": "stream",
     "text": [
      "gemtuzumab ozogamicin hepatotoxicity\n",
      "sunitinib renal impairment\n",
      "infliximab liver injury\n",
      "pertuzumab acute kidney injury\n",
      "voriconazole renal impairment\n",
      "sirolimus hepatotoxicity\n"
     ]
    },
    {
     "name": "stderr",
     "output_type": "stream",
     "text": [
      " 18%|█▊        | 337/1894 [00:16<01:17, 20.06it/s]"
     ]
    },
    {
     "name": "stdout",
     "output_type": "stream",
     "text": [
      "fosfomycin hepatic necrosis\n",
      "tretinoin acute kidney injury\n",
      "idelalisib hepatotoxicity\n",
      "everolimus renal impairment\n",
      "neratinib renal impairment\n"
     ]
    },
    {
     "name": "stderr",
     "output_type": "stream",
     "text": [
      " 18%|█▊        | 342/1894 [00:16<01:01, 25.19it/s]"
     ]
    },
    {
     "name": "stdout",
     "output_type": "stream",
     "text": [
      "lenalidomide hepatic failure\n",
      "afatinib acute kidney injury\n",
      "cladribine liver injury\n",
      "clevidipine acute kidney injury\n",
      "alogliptin acute hepatic failure\n"
     ]
    },
    {
     "name": "stderr",
     "output_type": "stream",
     "text": [
      " 18%|█▊        | 346/1894 [00:17<01:14, 20.86it/s]"
     ]
    },
    {
     "name": "stdout",
     "output_type": "stream",
     "text": [
      "carfilzomib hepatic failure\n",
      "desflurane hepatic failure\n",
      "etoposide renal failure\n",
      "voclosporin renal failure\n",
      "empagliflozin renal impairment\n"
     ]
    },
    {
     "name": "stderr",
     "output_type": "stream",
     "text": [
      " 19%|█▊        | 352/1894 [00:17<01:18, 19.68it/s]"
     ]
    },
    {
     "name": "stdout",
     "output_type": "stream",
     "text": [
      "olanzapine hepatic enzyme increased\n",
      "belatacept acute kidney injury\n",
      "benznidazole hepatotoxicity\n",
      "saxagliptin renal failure\n",
      "saxagliptin renal impairment\n",
      "posaconazole acute kidney injury\n"
     ]
    },
    {
     "name": "stderr",
     "output_type": "stream",
     "text": [
      " 19%|█▉        | 357/1894 [00:17<01:00, 25.31it/s]"
     ]
    },
    {
     "name": "stdout",
     "output_type": "stream",
     "text": [
      "olutasidenib liver function test abnormal\n",
      "lymphocyte immune globulin, anti-thymocyte globulin myocardial infarction\n",
      "vipivotide tetraxetan renal failure\n",
      "gilteritinib hepatic enzyme increased\n",
      "abemaciclib renal impairment\n",
      "anidulafungin hepatic enzyme increased\n",
      "sirolimus acute kidney injury\n",
      "midostaurin renal failure\n",
      "asenapine hepatic enzyme increased\n"
     ]
    },
    {
     "name": "stderr",
     "output_type": "stream",
     "text": [
      " 19%|█▉        | 366/1894 [00:18<01:11, 21.44it/s]"
     ]
    },
    {
     "name": "stdout",
     "output_type": "stream",
     "text": [
      "cobimetinib gastrointestinal haemorrhage\n",
      "macitentan hepatotoxicity\n",
      "3-iodobenzylguanidine renal failure\n",
      "durvalumab acute kidney injury\n",
      "ipilimumab liver function test abnormal\n",
      "ipilimumab renal failure\n"
     ]
    },
    {
     "name": "stderr",
     "output_type": "stream",
     "text": [
      " 20%|█▉        | 371/1894 [00:18<01:11, 21.43it/s]"
     ]
    },
    {
     "name": "stdout",
     "output_type": "stream",
     "text": [
      "agalsidase beta renal failure\n",
      "cisplatin hepatotoxicity\n",
      "ponesimod liver injury\n",
      "tiotropium liver function test abnormal\n",
      "methylene blue hepatic enzyme increased\n"
     ]
    },
    {
     "name": "stderr",
     "output_type": "stream",
     "text": [
      " 20%|█▉        | 375/1894 [00:18<01:06, 22.91it/s]"
     ]
    },
    {
     "name": "stdout",
     "output_type": "stream",
     "text": [
      "ivacaftor hepatic enzyme increased\n",
      "dextroamphetamine myocardial infarction\n",
      "flutamide hepatic failure\n",
      "meloxicam gastrointestinal haemorrhage\n"
     ]
    },
    {
     "name": "stderr",
     "output_type": "stream",
     "text": [
      " 20%|██        | 381/1894 [00:18<01:11, 21.09it/s]"
     ]
    },
    {
     "name": "stdout",
     "output_type": "stream",
     "text": [
      "meloxicam myocardial infarction\n",
      "atenolol myocardial infarction\n",
      "nisoldipine liver function test abnormal\n",
      "felodipine myocardial infarction\n",
      "ibuprofen liver function test abnormal\n"
     ]
    },
    {
     "name": "stderr",
     "output_type": "stream",
     "text": [
      " 20%|██        | 384/1894 [00:18<01:10, 21.41it/s]"
     ]
    },
    {
     "name": "stdout",
     "output_type": "stream",
     "text": [
      "estradiol myocardial infarction\n",
      "ranitidine hepatic failure\n",
      "cyclobenzaprine myocardial infarction\n",
      "rosiglitazone hepatic failure\n",
      "citalopram gastrointestinal haemorrhage\n"
     ]
    },
    {
     "name": "stderr",
     "output_type": "stream",
     "text": [
      " 21%|██        | 392/1894 [00:19<01:09, 21.70it/s]"
     ]
    },
    {
     "name": "stdout",
     "output_type": "stream",
     "text": [
      "naproxen hepatic failure\n",
      "paroxetine acute kidney injury\n",
      "spironolactone renal failure\n",
      "nabumetone gastrointestinal haemorrhage\n",
      "nabumetone renal failure\n"
     ]
    },
    {
     "name": "stderr",
     "output_type": "stream",
     "text": [
      " 21%|██        | 396/1894 [00:19<01:00, 24.68it/s]"
     ]
    },
    {
     "name": "stdout",
     "output_type": "stream",
     "text": [
      "ranolazine renal failure\n",
      "quinine liver function test abnormal\n",
      "warfarin hepatic enzyme increased\n",
      "capecitabine hepatotoxicity\n",
      "capecitabine renal failure\n",
      "ribavirin hepatic failure\n"
     ]
    },
    {
     "name": "stderr",
     "output_type": "stream",
     "text": [
      " 21%|██        | 402/1894 [00:19<01:06, 22.46it/s]"
     ]
    },
    {
     "name": "stdout",
     "output_type": "stream",
     "text": [
      "enalapril hepatic failure\n",
      "captopril myocardial infarction\n",
      "zafirlukast hepatotoxicity\n"
     ]
    },
    {
     "name": "stderr",
     "output_type": "stream",
     "text": [
      " 22%|██▏       | 409/1894 [00:19<01:00, 24.60it/s]"
     ]
    },
    {
     "name": "stdout",
     "output_type": "stream",
     "text": [
      "etravirine acute kidney injury\n",
      "cefdinir myocardial infarction\n",
      "aripiprazole myocardial infarction\n",
      "leflunomide hepatic failure\n",
      "cefotaxime renal failure\n",
      "flecainide myocardial infarction\n",
      "febuxostat myocardial infarction\n",
      "leuprolide myocardial infarction\n"
     ]
    },
    {
     "name": "stderr",
     "output_type": "stream",
     "text": [
      " 22%|██▏       | 412/1894 [00:20<01:05, 22.78it/s]"
     ]
    },
    {
     "name": "stdout",
     "output_type": "stream",
     "text": [
      "aprepitant myocardial infarction\n",
      "levofloxacin hepatotoxicity\n",
      "valsartan renal impairment\n"
     ]
    },
    {
     "name": "stderr",
     "output_type": "stream",
     "text": [
      " 22%|██▏       | 415/1894 [00:20<01:22, 18.00it/s]"
     ]
    },
    {
     "name": "stdout",
     "output_type": "stream",
     "text": [
      "levofloxacin hepatic enzyme increased\n",
      "anagrelide myocardial infarction\n",
      "telavancin renal failure\n",
      "mesalamine acute kidney injury\n",
      "entecavir hepatic failure\n",
      "ticlopidine renal failure\n",
      "acamprosate liver function test abnormal\n",
      "meropenem myocardial infarction\n"
     ]
    },
    {
     "name": "stderr",
     "output_type": "stream",
     "text": [
      " 22%|██▏       | 421/1894 [00:20<01:00, 24.47it/s]"
     ]
    },
    {
     "name": "stdout",
     "output_type": "stream",
     "text": [
      "propofol myocardial infarction\n",
      "abacavir renal failure\n",
      "thioridazine hepatotoxicity\n"
     ]
    },
    {
     "name": "stderr",
     "output_type": "stream",
     "text": [
      " 23%|██▎       | 427/1894 [00:20<01:15, 19.34it/s]"
     ]
    },
    {
     "name": "stdout",
     "output_type": "stream",
     "text": [
      "pentobarbital liver injury\n",
      "carbidopa gastrointestinal haemorrhage\n",
      "ibandronate renal failure\n",
      "enalapril renal impairment\n",
      "paricalcitol gastrointestinal haemorrhage\n"
     ]
    },
    {
     "name": "stderr",
     "output_type": "stream",
     "text": [
      " 23%|██▎       | 430/1894 [00:21<01:19, 18.48it/s]"
     ]
    },
    {
     "name": "stdout",
     "output_type": "stream",
     "text": [
      "dolutegravir hepatotoxicity\n",
      "imatinib haematemesis\n",
      "imatinib acute kidney injury\n",
      "tobramycin renal impairment\n",
      "abiraterone acute hepatic failure\n",
      "fentanyl renal impairment\n"
     ]
    },
    {
     "name": "stderr",
     "output_type": "stream",
     "text": [
      " 23%|██▎       | 438/1894 [00:21<01:05, 22.15it/s]"
     ]
    },
    {
     "name": "stdout",
     "output_type": "stream",
     "text": [
      "decitabine myocardial infarction\n",
      "teriflunomide myocardial infarction\n",
      "methylphenidate acute hepatic failure\n",
      "deferasirox hepatic failure\n",
      "vigabatrin gastrointestinal haemorrhage\n"
     ]
    },
    {
     "name": "stderr",
     "output_type": "stream",
     "text": [
      " 23%|██▎       | 442/1894 [00:21<01:05, 22.12it/s]"
     ]
    },
    {
     "name": "stdout",
     "output_type": "stream",
     "text": [
      "cyclophosphamide hepatic enzyme increased\n",
      "remifentanil renal failure\n",
      "liothyronine myocardial infarction\n",
      "haloperidol liver function test abnormal\n",
      "ibutilide renal failure\n"
     ]
    },
    {
     "name": "stderr",
     "output_type": "stream",
     "text": [
      " 24%|██▎       | 448/1894 [00:21<00:54, 26.37it/s]"
     ]
    },
    {
     "name": "stdout",
     "output_type": "stream",
     "text": [
      "mesalamine liver function test abnormal\n",
      "foscarnet renal impairment\n",
      "carmustine hepatotoxicity\n",
      "pentostatin liver function test abnormal\n",
      "lovastatin hepatic enzyme abnormal\n"
     ]
    },
    {
     "name": "stderr",
     "output_type": "stream",
     "text": [
      " 24%|██▍       | 451/1894 [00:21<01:02, 23.18it/s]"
     ]
    },
    {
     "name": "stdout",
     "output_type": "stream",
     "text": [
      "trastuzumab renal failure\n",
      "trastuzumab renal impairment\n",
      "voriconazole renal failure\n",
      "tinidazole acute hepatic failure\n"
     ]
    },
    {
     "name": "stderr",
     "output_type": "stream",
     "text": [
      " 24%|██▍       | 455/1894 [00:22<01:04, 22.23it/s]"
     ]
    },
    {
     "name": "stdout",
     "output_type": "stream",
     "text": [
      "alvimopan myocardial infarction\n",
      "bendamustine acute kidney injury\n",
      "tipranavir hepatic failure\n",
      "iloprost renal failure\n",
      "amifostine renal failure\n",
      "fluvoxamine liver function test abnormal\n",
      "procarbazine haematemesis\n",
      "tocilizumab hepatic failure\n",
      "fexinidazole hepatic failure\n",
      "elotuzumab renal failure\n"
     ]
    },
    {
     "name": "stderr",
     "output_type": "stream",
     "text": [
      " 24%|██▍       | 458/1894 [00:22<01:54, 12.58it/s]"
     ]
    },
    {
     "name": "stdout",
     "output_type": "stream",
     "text": [
      "vincristine myocardial infarction\n",
      "sacituzumab acute kidney injury\n",
      "sparsentan hepatotoxicity\n",
      "dotatate renal impairment\n"
     ]
    },
    {
     "name": "stderr",
     "output_type": "stream",
     "text": [
      " 25%|██▍       | 469/1894 [00:22<00:58, 24.46it/s]"
     ]
    },
    {
     "name": "stdout",
     "output_type": "stream",
     "text": [
      "venetoclax gastrointestinal haemorrhage\n",
      "ziconotide acute kidney injury\n",
      "maralixibat gastrointestinal haemorrhage\n",
      "adalimumab acute hepatic failure\n",
      "polatuzumab vedotin hepatotoxicity\n",
      "fecal microbiota spores, live renal impairment\n"
     ]
    },
    {
     "name": "stderr",
     "output_type": "stream",
     "text": [
      " 25%|██▌       | 481/1894 [00:23<00:54, 25.82it/s]"
     ]
    },
    {
     "name": "stdout",
     "output_type": "stream",
     "text": [
      "ferumoxytolomaveloxolone hepatic enzyme increased\n",
      " myocardial infarction\n",
      "atezolizumab gastrointestinal haemorrhage\n",
      "cobimetinib haematemesis\n",
      "cobimetinib liver function test abnormal\n",
      "brentuximab vedotin hepatotoxicity\n",
      "blinatumomab hepatic enzyme increased\n",
      "capmatinib acute kidney injury\n",
      "isopropyl alcohol hepatic necrosis\n",
      "allogeneic processed thymus tissue renal failure\n"
     ]
    },
    {
     "name": "stderr",
     "output_type": "stream",
     "text": [
      " 26%|██▌       | 486/1894 [00:23<01:12, 19.37it/s]"
     ]
    },
    {
     "name": "stdout",
     "output_type": "stream",
     "text": [
      "allogeneic processed thymus tissue renal impairment\n",
      "allogeneic processed thymus tissue acute kidney injury\n",
      "trastuzumab hepatic enzyme increased\n",
      "daprodustat myocardial infarction\n",
      "oxandrolone hepatic failure\n",
      "valproate liver injury\n",
      "acetaminophen liver injury\n",
      "tolvaptan hepatotoxicity\n",
      "tolvaptan acute hepatic failure\n",
      "upadacitinib myocardial infarction\n",
      "ruxolitinib myocardial infarction\n"
     ]
    },
    {
     "name": "stderr",
     "output_type": "stream",
     "text": [
      " 26%|██▌       | 490/1894 [00:24<01:56, 12.10it/s]"
     ]
    },
    {
     "name": "stdout",
     "output_type": "stream",
     "text": [
      "hydrochlorothiazidezolpidem myocardial infarction\n",
      " renal failure\n",
      "secobarbital liver injury\n",
      "cephalexin renal impairment\n",
      "disopyramide hepatic enzyme increased\n",
      "valproate hepatotoxicity\n",
      "nitrofurantoin renal impairment\n"
     ]
    },
    {
     "name": "stderr",
     "output_type": "stream",
     "text": [
      " 26%|██▋       | 501/1894 [00:25<01:38, 14.17it/s]"
     ]
    },
    {
     "name": "stdout",
     "output_type": "stream",
     "text": [
      "sumatriptan myocardial infarction\n",
      "allopurinol hepatic necrosis\n"
     ]
    },
    {
     "name": "stderr",
     "output_type": "stream",
     "text": [
      " 27%|██▋       | 508/1894 [00:25<01:37, 14.26it/s]"
     ]
    },
    {
     "name": "stdout",
     "output_type": "stream",
     "text": [
      "amitriptyline myocardial infarction\n",
      "prochlorperazine liver injury\n",
      "tizanidine gastrointestinal haemorrhage\n",
      "paroxetine haematemesis\n",
      "mesalamine gastrointestinal haemorrhage\n",
      "lamivudine renal failure\n",
      "simvastatin hepatic failure\n",
      "mirtazapine liver function test abnormal\n",
      "olanzapine hepatic failure\n"
     ]
    },
    {
     "name": "stderr",
     "output_type": "stream",
     "text": [
      " 27%|██▋       | 515/1894 [00:25<01:15, 18.26it/s]"
     ]
    },
    {
     "name": "stdout",
     "output_type": "stream",
     "text": [
      "raltegravir renal failure\n",
      "darunavir hepatic enzyme increased\n",
      "progesterone hepatic failure\n"
     ]
    },
    {
     "name": "stderr",
     "output_type": "stream",
     "text": [
      " 27%|██▋       | 518/1894 [00:26<01:22, 16.68it/s]"
     ]
    },
    {
     "name": "stdout",
     "output_type": "stream",
     "text": [
      "progesterone hepatic necrosis\n",
      "progesterone hepatic enzyme increased\n",
      "pioglitazone hepatic failure\n"
     ]
    },
    {
     "name": "stderr",
     "output_type": "stream",
     "text": [
      " 28%|██▊       | 521/1894 [00:26<01:29, 15.42it/s]"
     ]
    },
    {
     "name": "stdout",
     "output_type": "stream",
     "text": [
      "imiquimod myocardial infarction\n",
      "ketorolac haematemesis\n",
      "vardenafil myocardial infarction\n",
      "lansoprazole liver function test abnormal\n",
      "pilocarpine liver function test abnormal\n",
      "varenicline acute kidney injury\n",
      "rasagiline gastrointestinal haemorrhage\n",
      "eletriptan liver function test abnormal\n",
      "cilostazol gastrointestinal haemorrhage\n",
      "losartan renal impairment\n"
     ]
    },
    {
     "name": "stderr",
     "output_type": "stream",
     "text": [
      " 28%|██▊       | 523/1894 [00:26<01:50, 12.43it/s]"
     ]
    },
    {
     "name": "stdout",
     "output_type": "stream",
     "text": [
      "ergocalciferol renal failure\n",
      "fosinopril hepatic failure\n",
      "zidovudine hepatic failure\n",
      "mycophenolate mofetil acute kidney injury\n",
      "rosuvastatin hepatic enzyme abnormal\n",
      "diflunisal renal impairment\n",
      "milrinone liver function test abnormal\n"
     ]
    },
    {
     "name": "stderr",
     "output_type": "stream",
     "text": [
      " 28%|██▊       | 533/1894 [00:26<01:05, 20.93it/s]"
     ]
    },
    {
     "name": "stdout",
     "output_type": "stream",
     "text": [
      "propylthiouracil liver injury\n",
      "dexlansoprazole acute kidney injury\n",
      "ciprofloxacin renal impairment\n"
     ]
    },
    {
     "name": "stderr",
     "output_type": "stream",
     "text": [
      " 28%|██▊       | 536/1894 [00:27<01:33, 14.51it/s]"
     ]
    },
    {
     "name": "stdout",
     "output_type": "stream",
     "text": [
      "escitalopram hepatic necrosis\n",
      "simvastatin myocardial infarction\n",
      "disulfiram hepatic failure\n",
      "naltrexone hepatocellular injury\n",
      "betaxolol myocardial infarction\n",
      "desvenlafaxine liver function test abnormal\n",
      "valproate hepatic failure\n",
      "gemcitabine renal failure\n"
     ]
    },
    {
     "name": "stderr",
     "output_type": "stream",
     "text": [
      " 29%|██▉       | 551/1894 [00:27<01:06, 20.21it/s]"
     ]
    },
    {
     "name": "stdout",
     "output_type": "stream",
     "text": [
      "demeclocycline hepatic failure\n",
      "ganciclovir renal impairment\n",
      "clozapine myocardial infarction\n",
      "sildenafil myocardial infarction\n",
      "tramadol renal failure\n",
      "diclofenac acute kidney injury\n"
     ]
    },
    {
     "name": "stderr",
     "output_type": "stream",
     "text": [
      " 29%|██▉       | 554/1894 [00:27<01:05, 20.44it/s]"
     ]
    },
    {
     "name": "stdout",
     "output_type": "stream",
     "text": [
      "procainamide hepatic enzyme increased\n",
      "iloperidone acute kidney injury\n",
      "albendazole acute kidney injury\n",
      "fosphenytoin gastrointestinal haemorrhage\n"
     ]
    },
    {
     "name": "stderr",
     "output_type": "stream",
     "text": [
      " 29%|██▉       | 558/1894 [00:28<00:58, 22.76it/s]"
     ]
    },
    {
     "name": "stdout",
     "output_type": "stream",
     "text": [
      "fludarabine hepatic failure\n"
     ]
    },
    {
     "name": "stderr",
     "output_type": "stream",
     "text": [
      " 30%|██▉       | 561/1894 [00:28<01:27, 15.22it/s]"
     ]
    },
    {
     "name": "stdout",
     "output_type": "stream",
     "text": [
      "zoledronic acid acute kidney injury\n",
      "leflunomide hepatotoxicity\n",
      "toremifene myocardial infarction\n",
      "dolutegravir renal impairment\n",
      "quetiapine hepatic necrosis\n",
      "cyclosporine hepatic failure\n",
      "bexarotene liver function test abnormal\n",
      "sevelamer gastrointestinal haemorrhage\n",
      "semaglutide acute kidney injury\n",
      "deferasirox liver function test abnormal\n"
     ]
    },
    {
     "name": "stderr",
     "output_type": "stream",
     "text": [
      " 30%|███       | 569/1894 [00:28<01:15, 17.55it/s]"
     ]
    },
    {
     "name": "stdout",
     "output_type": "stream",
     "text": [
      "cyclophosphamide renal failure\n",
      "micafungin liver function test abnormal\n",
      "mannitol acute kidney injury\n",
      "eravacycline renal impairment\n"
     ]
    },
    {
     "name": "stderr",
     "output_type": "stream",
     "text": [
      " 30%|███       | 576/1894 [00:29<01:10, 18.58it/s]"
     ]
    },
    {
     "name": "stdout",
     "output_type": "stream",
     "text": [
      "infliximab acute hepatic failure\n",
      "rituximab myocardial infarction\n",
      "mycophenolic acid renal impairment\n",
      "ibuprofen renal failure\n",
      "peginterferon alfa-2a gastrointestinal haemorrhage\n",
      "potassium iodide gastrointestinal haemorrhage\n",
      "delafloxacin renal failure\n"
     ]
    },
    {
     "name": "stderr",
     "output_type": "stream",
     "text": [
      " 31%|███       | 581/1894 [00:29<00:57, 22.69it/s]"
     ]
    },
    {
     "name": "stdout",
     "output_type": "stream",
     "text": [
      "6-aminocaproic acid acute kidney injury\n",
      "dalbavancin hepatotoxicity\n",
      "amifostine myocardial infarction\n",
      "vorinostat gastrointestinal haemorrhage\n"
     ]
    },
    {
     "name": "stderr",
     "output_type": "stream",
     "text": [
      " 31%|███       | 584/1894 [00:29<01:07, 19.39it/s]"
     ]
    },
    {
     "name": "stdout",
     "output_type": "stream",
     "text": [
      "alteplase myocardial infarction\n",
      "pentamidine renal impairment\n",
      "selpercatinib gastrointestinal haemorrhage\n",
      "alogliptin renal impairment\n",
      "goserelin renal failure\n"
     ]
    },
    {
     "name": "stderr",
     "output_type": "stream",
     "text": [
      " 31%|███       | 587/1894 [00:29<01:16, 17.02it/s]"
     ]
    },
    {
     "name": "stdout",
     "output_type": "stream",
     "text": [
      "carfilzomib acute kidney injury\n",
      "thiotepa gastrointestinal haemorrhage\n",
      "canagliflozin renal impairment\n",
      "asparaginase hepatotoxicity\n",
      "dapagliflozin acute kidney injury\n"
     ]
    },
    {
     "name": "stderr",
     "output_type": "stream",
     "text": [
      " 32%|███▏      | 598/1894 [00:30<00:53, 24.12it/s]"
     ]
    },
    {
     "name": "stdout",
     "output_type": "stream",
     "text": [
      "iron sucrose myocardial infarction\n",
      "isoflurane renal failure\n",
      "isoflurane acute kidney injury\n",
      "tucatinib hepatocellular injury\n",
      "aripiprazole liver function test abnormal\n"
     ]
    },
    {
     "name": "stderr",
     "output_type": "stream",
     "text": [
      " 32%|███▏      | 601/1894 [00:30<00:59, 21.72it/s]"
     ]
    },
    {
     "name": "stdout",
     "output_type": "stream",
     "text": [
      "nafarelin myocardial infarction\n",
      "cabotegravir hepatotoxicity\n",
      "lorlatinib myocardial infarction\n",
      "vemurafenib hepatotoxicity\n",
      "vemurafenib renal failure\n",
      "pomalidomide gastrointestinal haemorrhage\n",
      "tretinoin hepatotoxicity\n",
      "amobarbital liver injury\n",
      "polatuzumab vedotin renal failure\n",
      "estramustine myocardial infarction\n",
      "abemaciclib myocardial infarction\n",
      "atezolizumab hepatocellular injury\n"
     ]
    },
    {
     "name": "stderr",
     "output_type": "stream",
     "text": [
      " 32%|███▏      | 604/1894 [00:31<02:15,  9.50it/s]"
     ]
    },
    {
     "name": "stdout",
     "output_type": "stream",
     "text": [
      "tezepelumab myocardial infarction\n",
      "cobimetinib acute kidney injury\n",
      "capmatinib hepatotoxicity\n",
      "cabazitaxel renal impairment\n",
      "cabazitaxel acute kidney injury\n",
      "eltrombopag hepatic failure\n",
      "ceritinib myocardial infarction\n"
     ]
    },
    {
     "name": "stderr",
     "output_type": "stream",
     "text": [
      " 33%|███▎      | 619/1894 [00:31<01:02, 20.52it/s]"
     ]
    },
    {
     "name": "stdout",
     "output_type": "stream",
     "text": [
      "dihematoporphyrin ether haematemesis\n",
      "obinutuzumab hepatotoxicity\n",
      "trastuzumab hepatotoxicity\n",
      "trametinib renal failure\n",
      "enfortumab acute kidney injury\n",
      "tirzepatide acute kidney injury\n",
      "cabozantinib hepatic enzyme increased\n",
      "nefazodone hepatocellular injury\n",
      "lamivudine hepatotoxicity\n",
      "ribavirin myocardial infarction\n",
      "nadolol myocardial infarction\n",
      "amiloride renal failure\n"
     ]
    },
    {
     "name": "stderr",
     "output_type": "stream",
     "text": [
      " 33%|███▎      | 623/1894 [00:32<01:36, 13.16it/s]"
     ]
    },
    {
     "name": "stdout",
     "output_type": "stream",
     "text": [
      "mexiletine liver injury\n",
      "fenoprofen myocardial infarction\n",
      "gentamicin renal impairment\n"
     ]
    },
    {
     "name": "stderr",
     "output_type": "stream",
     "text": [
      " 34%|███▍      | 640/1894 [00:32<00:49, 25.09it/s]"
     ]
    },
    {
     "name": "stdout",
     "output_type": "stream",
     "text": [
      "acitretin hepatotoxicity\n",
      "propranolol myocardial infarction\n",
      "teriflunomide acute hepatic failure\n",
      "ketorolac acute kidney injury\n",
      "cefuroxime renal impairment\n",
      "nefazodone liver function test abnormal\n",
      "sumatriptan haematemesis\n",
      "gabapentin liver function test abnormal\n",
      "testosterone liver function test abnormal\n",
      "allopurinol gastrointestinal haemorrhage\n"
     ]
    },
    {
     "name": "stderr",
     "output_type": "stream",
     "text": [
      " 34%|███▍      | 645/1894 [00:32<01:05, 19.19it/s]"
     ]
    },
    {
     "name": "stdout",
     "output_type": "stream",
     "text": [
      "zaleplon liver function test abnormal\n",
      "propoxyphene liver function test abnormal\n",
      "diclofenac haematemesis\n",
      "ciprofloxacin renal failure\n",
      "oxaprozin haematemesis\n",
      "oxaprozin hepatic failure\n",
      "clopidogrel hepatic enzyme increased\n"
     ]
    },
    {
     "name": "stderr",
     "output_type": "stream",
     "text": [
      " 34%|███▍      | 649/1894 [00:32<01:00, 20.42it/s]"
     ]
    },
    {
     "name": "stdout",
     "output_type": "stream",
     "text": [
      "fluvoxamine haematemesis\n",
      "tetracycline hepatic failure\n",
      "sertraline myocardial infarction\n"
     ]
    },
    {
     "name": "stderr",
     "output_type": "stream",
     "text": [
      " 35%|███▍      | 656/1894 [00:33<01:04, 19.05it/s]"
     ]
    },
    {
     "name": "stdout",
     "output_type": "stream",
     "text": [
      "mesalamine hepatic failure\n",
      "fluoxetine gastrointestinal haemorrhage\n",
      "phenytoin liver injury\n",
      "isoniazid liver injury\n",
      "tramadol hepatic enzyme increased\n",
      "rifampin acute kidney injury\n",
      "quetiapine acute kidney injury\n",
      "duloxetine myocardial infarction\n",
      "fenofibrate liver function test abnormal\n",
      "carvedilol renal failure\n"
     ]
    },
    {
     "name": "stderr",
     "output_type": "stream",
     "text": [
      " 35%|███▌      | 663/1894 [00:33<00:59, 20.73it/s]"
     ]
    },
    {
     "name": "stdout",
     "output_type": "stream",
     "text": [
      "ketorolac renal failure\n",
      "glipizide liver injury\n",
      "etodolac renal failure\n",
      "varenicline liver function test abnormal\n",
      "ropinirole acute kidney injury\n",
      "dicloxacillin hepatotoxicity\n"
     ]
    },
    {
     "name": "stderr",
     "output_type": "stream",
     "text": [
      " 35%|███▌      | 669/1894 [00:34<00:59, 20.58it/s]"
     ]
    },
    {
     "name": "stdout",
     "output_type": "stream",
     "text": [
      "ketoprofen gastrointestinal haemorrhage\n",
      "prasugrel gastrointestinal haemorrhage\n",
      "propafenone liver function test abnormal\n",
      "propafenone myocardial infarction\n"
     ]
    },
    {
     "name": "stderr",
     "output_type": "stream",
     "text": [
      " 36%|███▌      | 673/1894 [00:34<01:10, 17.28it/s]"
     ]
    },
    {
     "name": "stdout",
     "output_type": "stream",
     "text": [
      "diflunisal renal failure\n",
      "oxcarbazepine haematemesis\n",
      "auranofin gastrointestinal haemorrhage\n",
      "escitalopram gastrointestinal haemorrhage\n",
      "anagrelide renal failure\n",
      "maraviroc myocardial infarction\n",
      "almotriptan myocardial infarction\n",
      "candesartan renal impairment\n",
      "cidofovir hepatic necrosis\n"
     ]
    },
    {
     "name": "stderr",
     "output_type": "stream",
     "text": [
      " 36%|███▌      | 684/1894 [00:34<00:56, 21.53it/s]"
     ]
    },
    {
     "name": "stdout",
     "output_type": "stream",
     "text": [
      "olsalazine hepatocellular injury\n",
      "clozapine hepatic failure\n",
      "clozapine liver injury\n",
      "itraconazole renal impairment\n"
     ]
    },
    {
     "name": "stderr",
     "output_type": "stream",
     "text": [
      " 36%|███▋      | 687/1894 [00:34<00:59, 20.34it/s]"
     ]
    },
    {
     "name": "stdout",
     "output_type": "stream",
     "text": [
      "acamprosate acute kidney injury\n",
      "paclitaxel hepatic necrosis\n",
      "procainamide hepatic failure\n",
      "dofetilide liver injury\n",
      "oxaliplatin gastrointestinal haemorrhage\n",
      "mitomycin haematemesis\n"
     ]
    },
    {
     "name": "stderr",
     "output_type": "stream",
     "text": [
      " 37%|███▋      | 696/1894 [00:35<00:52, 22.68it/s]"
     ]
    },
    {
     "name": "stdout",
     "output_type": "stream",
     "text": [
      "carbidopa myocardial infarction\n",
      "valganciclovir renal failure\n",
      "voriconazole liver function test abnormal\n",
      "docetaxel hepatotoxicity\n",
      "piroxicam hepatotoxicity\n",
      "ambrisentan liver injury\n",
      "ifosfamide renal impairment\n"
     ]
    },
    {
     "name": "stderr",
     "output_type": "stream",
     "text": [
      " 37%|███▋      | 702/1894 [00:35<01:00, 19.72it/s]"
     ]
    },
    {
     "name": "stdout",
     "output_type": "stream",
     "text": [
      "bortezomib haematemesis\n",
      "decitabine liver function test abnormal\n",
      "flurbiprofen hepatotoxicity\n",
      "cefotaxime acute kidney injury\n",
      "megestrol renal failure\n",
      "protriptyline myocardial infarction\n"
     ]
    },
    {
     "name": "stderr",
     "output_type": "stream",
     "text": [
      " 37%|███▋      | 709/1894 [00:35<00:52, 22.71it/s]"
     ]
    },
    {
     "name": "stdout",
     "output_type": "stream",
     "text": [
      "palonosetron hepatic enzyme increased\n",
      "cyclophosphamide gastrointestinal haemorrhage\n",
      "nafcillin hepatic failure\n",
      "liraglutide renal failure\n",
      "epinephrine renal failure\n",
      "chlorthalidone renal impairment\n"
     ]
    },
    {
     "name": "stderr",
     "output_type": "stream",
     "text": [
      " 38%|███▊      | 712/1894 [00:36<00:56, 20.90it/s]"
     ]
    },
    {
     "name": "stdout",
     "output_type": "stream",
     "text": [
      "fenoldopam myocardial infarction\n",
      "gemtuzumab ozogamicin hepatic failure\n",
      "pentostatin hepatic enzyme increased\n",
      "romidepsin acute kidney injury\n",
      "tinidazole hepatic failure\n"
     ]
    },
    {
     "name": "stderr",
     "output_type": "stream",
     "text": [
      " 38%|███▊      | 720/1894 [00:36<00:49, 23.85it/s]"
     ]
    },
    {
     "name": "stdout",
     "output_type": "stream",
     "text": [
      "prednisolone myocardial infarction\n",
      "allopurinol renal impairment\n",
      "mefenamate gastrointestinal haemorrhage\n",
      "delafloxacin hepatic enzyme increased\n",
      "glatiramer haematemesis\n",
      "ketorolac hepatotoxicity\n",
      "pemetrexed acute kidney injury\n"
     ]
    },
    {
     "name": "stderr",
     "output_type": "stream",
     "text": [
      " 38%|███▊      | 726/1894 [00:36<00:54, 21.56it/s]"
     ]
    },
    {
     "name": "stdout",
     "output_type": "stream",
     "text": [
      "neratinib acute kidney injury\n",
      "sevoflurane hepatic necrosis\n",
      "secnidazole acute hepatic failure\n",
      "eculizumab renal impairment\n",
      "bosutinib renal failure\n"
     ]
    },
    {
     "name": "stderr",
     "output_type": "stream",
     "text": [
      " 38%|███▊      | 729/1894 [00:36<00:50, 23.27it/s]"
     ]
    },
    {
     "name": "stdout",
     "output_type": "stream",
     "text": [
      "enasidenib renal failure\n",
      "desflurane hepatic necrosis\n",
      "ceftaroline fosamil renal failure\n",
      "canagliflozin acute kidney injury\n",
      "empagliflozin acute kidney injury\n"
     ]
    },
    {
     "name": "stderr",
     "output_type": "stream",
     "text": [
      " 39%|███▉      | 736/1894 [00:37<00:50, 23.03it/s]"
     ]
    },
    {
     "name": "stdout",
     "output_type": "stream",
     "text": [
      "sevoflurane hepatic failure\n",
      "benznidazole hepatic failure\n",
      "apalutamide acute kidney injury\n",
      "belantamab mafodotin renal impairment\n",
      "rezafungin acute kidney injury\n",
      "cobimetinib hepatotoxicity\n"
     ]
    },
    {
     "name": "stderr",
     "output_type": "stream",
     "text": [
      " 39%|███▉      | 742/1894 [00:37<00:55, 20.61it/s]"
     ]
    },
    {
     "name": "stdout",
     "output_type": "stream",
     "text": [
      "macitentan liver injury\n",
      "panitumumab acute kidney injury\n",
      "ipilimumab hepatic enzyme increased\n",
      "octreotide renal failure\n",
      "basiliximab gastrointestinal haemorrhage\n",
      "ceritinib hepatotoxicity\n",
      "ponesimod hepatic enzyme increased\n",
      "brigatinib hepatotoxicity\n",
      "avanafil myocardial infarction\n",
      "abatacept acute kidney injury\n"
     ]
    },
    {
     "name": "stderr",
     "output_type": "stream",
     "text": [
      " 40%|███▉      | 753/1894 [00:37<00:49, 22.93it/s]"
     ]
    },
    {
     "name": "stdout",
     "output_type": "stream",
     "text": [
      "bempedoic acid hepatic enzyme increased\n",
      "cabozantinib liver function test abnormal\n",
      "bedaquiline hepatotoxicity\n",
      "binimetinib hepatotoxicity\n",
      "binimetinib acute kidney injury\n",
      "nefazodone liver injury\n",
      "mexiletine myocardial infarction\n",
      "teriflunomide hepatic failure\n"
     ]
    },
    {
     "name": "stderr",
     "output_type": "stream",
     "text": [
      " 40%|████      | 759/1894 [00:38<00:51, 21.84it/s]"
     ]
    },
    {
     "name": "stdout",
     "output_type": "stream",
     "text": [
      "sofosbuvir hepatic failure\n",
      "methamphetamine myocardial infarction\n",
      "meloxicam hepatic failure\n"
     ]
    },
    {
     "name": "stderr",
     "output_type": "stream",
     "text": [
      " 40%|████      | 762/1894 [00:38<00:57, 19.71it/s]"
     ]
    },
    {
     "name": "stdout",
     "output_type": "stream",
     "text": [
      "flurbiprofen hepatic enzyme increased\n",
      "atenolol renal failure\n",
      "propafenone renal failure\n",
      "ibuprofen acute kidney injury\n",
      "ceftibuten renal impairment\n",
      "diclofenac hepatic failure\n",
      "diclofenac hepatic enzyme increased\n",
      "doxycycline hepatotoxicity\n",
      "ciprofloxacin gastrointestinal haemorrhage\n"
     ]
    },
    {
     "name": "stderr",
     "output_type": "stream",
     "text": [
      " 41%|████      | 769/1894 [00:38<00:49, 22.72it/s]"
     ]
    },
    {
     "name": "stdout",
     "output_type": "stream",
     "text": [
      "ciprofloxacin hepatic failure\n",
      "pantoprazole gastrointestinal haemorrhage\n",
      "pantoprazole hepatocellular injury\n",
      "mesalamine hepatotoxicity\n"
     ]
    },
    {
     "name": "stderr",
     "output_type": "stream",
     "text": [
      " 41%|████      | 775/1894 [00:38<00:54, 20.52it/s]"
     ]
    },
    {
     "name": "stdout",
     "output_type": "stream",
     "text": [
      "perphenazine liver injury\n",
      "nabumetone hepatic failure\n",
      "nabumetone myocardial infarction\n",
      "zafirlukast hepatic failure\n",
      "erythromycin renal failure\n"
     ]
    },
    {
     "name": "stderr",
     "output_type": "stream",
     "text": [
      " 41%|████      | 778/1894 [00:48<14:22,  1.29it/s]"
     ]
    },
    {
     "name": "stdout",
     "output_type": "stream",
     "text": [
      "leflunomide liver injury\n",
      "Encountered an exception for row: ciprofloxacin hepatic failure. Error message below:\n",
      "Error code: 429 - {'error': {'message': 'Rate limit reached for gpt-3.5-turbo in organization org-wi3cHq5g1FGXIxQyl0trnye1 on requests per day (RPD): Limit 10000, Used 10000, Requested 1. Please try again in 8.64s. Visit https://platform.openai.com/account/rate-limits to learn more.', 'type': 'requests', 'param': None, 'code': 'rate_limit_exceeded'}}\n",
      "milnacipran acute kidney injury\n",
      "Encountered an exception for row: pantoprazole hepatocellular injury. Error message below:\n",
      "Error code: 429 - {'error': {'message': 'Rate limit reached for gpt-3.5-turbo in organization org-wi3cHq5g1FGXIxQyl0trnye1 on requests per day (RPD): Limit 10000, Used 10000, Requested 1. Please try again in 8.64s. Visit https://platform.openai.com/account/rate-limits to learn more.', 'type': 'requests', 'param': None, 'code': 'rate_limit_exceeded'}}\n",
      "pramipexole myocardial infarction\n",
      "Encountered an exception for row: mesalamine hepatotoxicity. Error message below:\n",
      "Error code: 429 - {'error': {'message': 'Rate limit reached for gpt-3.5-turbo in organization org-wi3cHq5g1FGXIxQyl0trnye1 on requests per day (RPD): Limit 10000, Used 10000, Requested 1. Please try again in 8.64s. Visit https://platform.openai.com/account/rate-limits to learn more.', 'type': 'requests', 'param': None, 'code': 'rate_limit_exceeded'}}\n",
      "ropinirole gastrointestinal haemorrhage\n"
     ]
    },
    {
     "name": "stderr",
     "output_type": "stream",
     "text": [
      " 41%|████      | 780/1894 [00:56<26:39,  1.44s/it]"
     ]
    },
    {
     "name": "stdout",
     "output_type": "stream",
     "text": [
      "ketoprofen haematemesis\n",
      "Encountered an exception for row: perphenazine liver injury. Error message below:\n",
      "Error code: 429 - {'error': {'message': 'Rate limit reached for gpt-3.5-turbo in organization org-wi3cHq5g1FGXIxQyl0trnye1 on requests per day (RPD): Limit 10000, Used 10000, Requested 1. Please try again in 8.64s. Visit https://platform.openai.com/account/rate-limits to learn more.', 'type': 'requests', 'param': None, 'code': 'rate_limit_exceeded'}}\n",
      "febuxostat haematemesis\n",
      "Encountered an exception for row: nabumetone hepatic failure. Error message below:\n",
      "Error code: 429 - {'error': {'message': 'Rate limit reached for gpt-3.5-turbo in organization org-wi3cHq5g1FGXIxQyl0trnye1 on requests per day (RPD): Limit 10000, Used 10000, Requested 1. Please try again in 8.64s. Visit https://platform.openai.com/account/rate-limits to learn more.', 'type': 'requests', 'param': None, 'code': 'rate_limit_exceeded'}}\n",
      "leuprolide gastrointestinal haemorrhage\n",
      "Encountered an exception for row: nabumetone myocardial infarction. Error message below:\n",
      "Error code: 429 - {'error': {'message': 'Rate limit reached for gpt-3.5-turbo in organization org-wi3cHq5g1FGXIxQyl0trnye1 on requests per day (RPD): Limit 10000, Used 10000, Requested 1. Please try again in 8.64s. Visit https://platform.openai.com/account/rate-limits to learn more.', 'type': 'requests', 'param': None, 'code': 'rate_limit_exceeded'}}\n",
      "colesevelam myocardial infarction\n",
      "Encountered an exception for row: erythromycin renal failure. Error message below:\n",
      "Error code: 429 - {'error': {'message': 'Rate limit reached for gpt-3.5-turbo in organization org-wi3cHq5g1FGXIxQyl0trnye1 on requests per day (RPD): Limit 10000, Used 10000, Requested 1. Please try again in 8.64s. Visit https://platform.openai.com/account/rate-limits to learn more.', 'type': 'requests', 'param': None, 'code': 'rate_limit_exceeded'}}\n",
      "balsalazide hepatocellular injury\n",
      "Encountered an exception for row: zafirlukast hepatic failure. Error message below:\n",
      "Error code: 429 - {'error': {'message': 'Rate limit reached for gpt-3.5-turbo in organization org-wi3cHq5g1FGXIxQyl0trnye1 on requests per day (RPD): Limit 10000, Used 10000, Requested 1. Please try again in 8.64s. Visit https://platform.openai.com/account/rate-limits to learn more.', 'type': 'requests', 'param': None, 'code': 'rate_limit_exceeded'}}\n",
      "balsalazide renal failure\n"
     ]
    },
    {
     "name": "stderr",
     "output_type": "stream",
     "text": [
      " 42%|████▏     | 788/1894 [01:05<23:43,  1.29s/it]"
     ]
    },
    {
     "name": "stdout",
     "output_type": "stream",
     "text": [
      "morphine liver function test abnormal\n",
      "Encountered an exception for row: leflunomide liver injury. Error message below:\n",
      "Error code: 429 - {'error': {'message': 'Rate limit reached for gpt-3.5-turbo in organization org-wi3cHq5g1FGXIxQyl0trnye1 on requests per day (RPD): Limit 10000, Used 10000, Requested 1. Please try again in 8.64s. Visit https://platform.openai.com/account/rate-limits to learn more.', 'type': 'requests', 'param': None, 'code': 'rate_limit_exceeded'}}\n",
      "cyclosporine renal failure\n",
      "Encountered an exception for row: ropinirole gastrointestinal haemorrhage. Error message below:\n",
      "Error code: 429 - {'error': {'message': 'Rate limit reached for gpt-3.5-turbo in organization org-wi3cHq5g1FGXIxQyl0trnye1 on requests per day (RPD): Limit 10000, Used 10000, Requested 1. Please try again in 8.64s. Visit https://platform.openai.com/account/rate-limits to learn more.', 'type': 'requests', 'param': None, 'code': 'rate_limit_exceeded'}}\n",
      "cevimeline myocardial infarction\n",
      "Encountered an exception for row: ketoprofen haematemesis. Error message below:\n",
      "Error code: 429 - {'error': {'message': 'Rate limit reached for gpt-3.5-turbo in organization org-wi3cHq5g1FGXIxQyl0trnye1 on requests per day (RPD): Limit 10000, Used 10000, Requested 1. Please try again in 8.64s. Visit https://platform.openai.com/account/rate-limits to learn more.', 'type': 'requests', 'param': None, 'code': 'rate_limit_exceeded'}}\n",
      "tolmetin renal failure\n",
      "Encountered an exception for row: colesevelam myocardial infarction. Error message below:\n",
      "Error code: 429 - {'error': {'message': 'Rate limit reached for gpt-3.5-turbo in organization org-wi3cHq5g1FGXIxQyl0trnye1 on requests per day (RPD): Limit 10000, Used 10000, Requested 1. Please try again in 8.64s. Visit https://platform.openai.com/account/rate-limits to learn more.', 'type': 'requests', 'param': None, 'code': 'rate_limit_exceeded'}}\n",
      "prednisone myocardial infarction\n",
      "Encountered an exception for row: leuprolide gastrointestinal haemorrhage. Error message below:\n",
      "Error code: 429 - {'error': {'message': 'Rate limit reached for gpt-3.5-turbo in organization org-wi3cHq5g1FGXIxQyl0trnye1 on requests per day (RPD): Limit 10000, Used 10000, Requested 1. Please try again in 8.64s. Visit https://platform.openai.com/account/rate-limits to learn more.', 'type': 'requests', 'param': None, 'code': 'rate_limit_exceeded'}}\n",
      "tadalafil renal impairment\n",
      "Encountered an exception for row: febuxostat haematemesis. Error message below:\n",
      "Error code: 429 - {'error': {'message': 'Rate limit reached for gpt-3.5-turbo in organization org-wi3cHq5g1FGXIxQyl0trnye1 on requests per day (RPD): Limit 10000, Used 10000, Requested 1. Please try again in 8.64s. Visit https://platform.openai.com/account/rate-limits to learn more.', 'type': 'requests', 'param': None, 'code': 'rate_limit_exceeded'}}\n",
      "irbesartan myocardial infarction\n"
     ]
    },
    {
     "name": "stderr",
     "output_type": "stream",
     "text": [
      " 42%|████▏     | 790/1894 [01:14<32:39,  1.78s/it]"
     ]
    },
    {
     "name": "stdout",
     "output_type": "stream",
     "text": [
      "irbesartan renal impairment\n",
      "Encountered an exception for row: balsalazide renal failure. Error message below:\n",
      "Error code: 429 - {'error': {'message': 'Rate limit reached for gpt-3.5-turbo in organization org-wi3cHq5g1FGXIxQyl0trnye1 on requests per day (RPD): Limit 10000, Used 10000, Requested 1. Please try again in 8.64s. Visit https://platform.openai.com/account/rate-limits to learn more.', 'type': 'requests', 'param': None, 'code': 'rate_limit_exceeded'}}\n",
      "lisdexamfetamine myocardial infarction\n",
      "Encountered an exception for row: balsalazide hepatocellular injury. Error message below:\n",
      "Error code: 429 - {'error': {'message': 'Rate limit reached for gpt-3.5-turbo in organization org-wi3cHq5g1FGXIxQyl0trnye1 on requests per day (RPD): Limit 10000, Used 10000, Requested 1. Please try again in 8.64s. Visit https://platform.openai.com/account/rate-limits to learn more.', 'type': 'requests', 'param': None, 'code': 'rate_limit_exceeded'}}\n",
      "erlotinib liver function test abnormal\n"
     ]
    },
    {
     "name": "stderr",
     "output_type": "stream",
     "text": [
      " 42%|████▏     | 799/1894 [01:23<24:45,  1.36s/it]"
     ]
    },
    {
     "name": "stdout",
     "output_type": "stream",
     "text": [
      "Encountered an exception for row: morphine liver function test abnormal. Error message below:\n",
      "Error code: 429 - {'error': {'message': 'Rate limit reached for gpt-3.5-turbo in organization org-wi3cHq5g1FGXIxQyl0trnye1 on requests per day (RPD): Limit 10000, Used 10000, Requested 1. Please try again in 8.64s. Visit https://platform.openai.com/account/rate-limits to learn more.', 'type': 'requests', 'param': None, 'code': 'rate_limit_exceeded'}}\n",
      "erlotinib myocardial infarction\n",
      "Encountered an exception for row: cyclosporine renal failure. Error message below:\n",
      "Error code: 429 - {'error': {'message': 'Rate limit reached for gpt-3.5-turbo in organization org-wi3cHq5g1FGXIxQyl0trnye1 on requests per day (RPD): Limit 10000, Used 10000, Requested 1. Please try again in 8.64s. Visit https://platform.openai.com/account/rate-limits to learn more.', 'type': 'requests', 'param': None, 'code': 'rate_limit_exceeded'}}\n",
      "exenatide renal impairment\n",
      "pioglitazone hepatotoxicity\n"
     ]
    },
    {
     "name": "stderr",
     "output_type": "stream",
     "text": [
      " 42%|████▏     | 800/1894 [01:32<38:29,  2.11s/it]"
     ]
    },
    {
     "name": "stdout",
     "output_type": "stream",
     "text": [
      "Encountered an exception for row: irbesartan myocardial infarction. Error message below:\n",
      "Error code: 429 - {'error': {'message': 'Rate limit reached for gpt-3.5-turbo in organization org-wi3cHq5g1FGXIxQyl0trnye1 on requests per day (RPD): Limit 10000, Used 10000, Requested 1. Please try again in 8.64s. Visit https://platform.openai.com/account/rate-limits to learn more.', 'type': 'requests', 'param': None, 'code': 'rate_limit_exceeded'}}\n",
      "minocycline renal failure\n",
      "loxapine hepatocellular injury\n",
      "Encountered an exception for row: tadalafil renal impairment. Error message below:\n",
      "Error code: 429 - {'error': {'message': 'Rate limit reached for gpt-3.5-turbo in organization org-wi3cHq5g1FGXIxQyl0trnye1 on requests per day (RPD): Limit 10000, Used 10000, Requested 1. Please try again in 8.64s. Visit https://platform.openai.com/account/rate-limits to learn more.', 'type': 'requests', 'param': None, 'code': 'rate_limit_exceeded'}}\n",
      "fluphenazine liver injury\n",
      "Encountered an exception for row: prednisone myocardial infarction. Error message below:\n",
      "Error code: 429 - {'error': {'message': 'Rate limit reached for gpt-3.5-turbo in organization org-wi3cHq5g1FGXIxQyl0trnye1 on requests per day (RPD): Limit 10000, Used 10000, Requested 1. Please try again in 8.64s. Visit https://platform.openai.com/account/rate-limits to learn more.', 'type': 'requests', 'param': None, 'code': 'rate_limit_exceeded'}}\n",
      "ethacrynate liver function test abnormal\n",
      "Encountered an exception for row: irbesartan renal impairment. Error message below:\n",
      "Error code: 429 - {'error': {'message': 'Rate limit reached for gpt-3.5-turbo in organization org-wi3cHq5g1FGXIxQyl0trnye1 on requests per day (RPD): Limit 10000, Used 10000, Requested 1. Please try again in 8.64s. Visit https://platform.openai.com/account/rate-limits to learn more.', 'type': 'requests', 'param': None, 'code': 'rate_limit_exceeded'}}\n",
      "galantamine gastrointestinal haemorrhage\n",
      "Encountered an exception for row: lisdexamfetamine myocardial infarction. Error message below:\n",
      "Error code: 429 - {'error': {'message': 'Rate limit reached for gpt-3.5-turbo in organization org-wi3cHq5g1FGXIxQyl0trnye1 on requests per day (RPD): Limit 10000, Used 10000, Requested 1. Please try again in 8.64s. Visit https://platform.openai.com/account/rate-limits to learn more.', 'type': 'requests', 'param': None, 'code': 'rate_limit_exceeded'}}\n",
      "ranolazine renal impairment\n",
      "Encountered an exception for row: erlotinib liver function test abnormal. Error message below:\n",
      "Error code: 429 - {'error': {'message': 'Rate limit reached for gpt-3.5-turbo in organization org-wi3cHq5g1FGXIxQyl0trnye1 on requests per day (RPD): Limit 10000, Used 10000, Requested 1. Please try again in 8.64s. Visit https://platform.openai.com/account/rate-limits to learn more.', 'type': 'requests', 'param': None, 'code': 'rate_limit_exceeded'}}\n",
      "meropenem hepatic failure\n"
     ]
    },
    {
     "name": "stderr",
     "output_type": "stream",
     "text": [
      " 43%|████▎     | 808/1894 [01:41<28:34,  1.58s/it]"
     ]
    },
    {
     "name": "stdout",
     "output_type": "stream",
     "text": [
      "Encountered an exception for row: erlotinib myocardial infarction. Error message below:\n",
      "Error code: 429 - {'error': {'message': 'Rate limit reached for gpt-3.5-turbo in organization org-wi3cHq5g1FGXIxQyl0trnye1 on requests per day (RPD): Limit 10000, Used 10000, Requested 1. Please try again in 8.64s. Visit https://platform.openai.com/account/rate-limits to learn more.', 'type': 'requests', 'param': None, 'code': 'rate_limit_exceeded'}}\n",
      "baclofen gastrointestinal haemorrhage\n",
      "Encountered an exception for row: pioglitazone hepatotoxicity. Error message below:\n",
      "Error code: 429 - {'error': {'message': 'Rate limit reached for gpt-3.5-turbo in organization org-wi3cHq5g1FGXIxQyl0trnye1 on requests per day (RPD): Limit 10000, Used 10000, Requested 1. Please try again in 8.64s. Visit https://platform.openai.com/account/rate-limits to learn more.', 'type': 'requests', 'param': None, 'code': 'rate_limit_exceeded'}}\n",
      "dofetilide myocardial infarction\n"
     ]
    },
    {
     "name": "stderr",
     "output_type": "stream",
     "text": [
      " 43%|████▎     | 809/1894 [01:41<26:29,  1.47s/it]"
     ]
    },
    {
     "name": "stdout",
     "output_type": "stream",
     "text": [
      "argatroban haematemesis\n"
     ]
    },
    {
     "name": "stderr",
     "output_type": "stream",
     "text": [
      " 43%|████▎     | 811/1894 [01:50<36:55,  2.05s/it]"
     ]
    },
    {
     "name": "stdout",
     "output_type": "stream",
     "text": [
      "Encountered an exception for row: minocycline renal failure. Error message below:\n",
      "Error code: 429 - {'error': {'message': 'Rate limit reached for gpt-3.5-turbo in organization org-wi3cHq5g1FGXIxQyl0trnye1 on requests per day (RPD): Limit 10000, Used 10000, Requested 1. Please try again in 8.64s. Visit https://platform.openai.com/account/rate-limits to learn more.', 'type': 'requests', 'param': None, 'code': 'rate_limit_exceeded'}}\n",
      "triamterene acute kidney injury\n",
      "Encountered an exception for row: fluphenazine liver injury. Error message below:\n",
      "Error code: 429 - {'error': {'message': 'Rate limit reached for gpt-3.5-turbo in organization org-wi3cHq5g1FGXIxQyl0trnye1 on requests per day (RPD): Limit 10000, Used 10000, Requested 1. Please try again in 8.64s. Visit https://platform.openai.com/account/rate-limits to learn more.', 'type': 'requests', 'param': None, 'code': 'rate_limit_exceeded'}}\n",
      "plazomicin renal impairment\n",
      "Encountered an exception for row: meropenem hepatic failure. Error message below:\n",
      "Error code: 429 - {'error': {'message': 'Rate limit reached for gpt-3.5-turbo in organization org-wi3cHq5g1FGXIxQyl0trnye1 on requests per day (RPD): Limit 10000, Used 10000, Requested 1. Please try again in 8.64s. Visit https://platform.openai.com/account/rate-limits to learn more.', 'type': 'requests', 'param': None, 'code': 'rate_limit_exceeded'}}\n",
      "temsirolimus renal failure\n",
      "Encountered an exception for row: ranolazine renal impairment. Error message below:\n",
      "Error code: 429 - {'error': {'message': 'Rate limit reached for gpt-3.5-turbo in organization org-wi3cHq5g1FGXIxQyl0trnye1 on requests per day (RPD): Limit 10000, Used 10000, Requested 1. Please try again in 8.64s. Visit https://platform.openai.com/account/rate-limits to learn more.', 'type': 'requests', 'param': None, 'code': 'rate_limit_exceeded'}}\n",
      "atovaquone hepatic failure\n",
      "Encountered an exception for row: ethacrynate liver function test abnormal. Error message below:\n",
      "Error code: 429 - {'error': {'message': 'Rate limit reached for gpt-3.5-turbo in organization org-wi3cHq5g1FGXIxQyl0trnye1 on requests per day (RPD): Limit 10000, Used 10000, Requested 1. Please try again in 8.64s. Visit https://platform.openai.com/account/rate-limits to learn more.', 'type': 'requests', 'param': None, 'code': 'rate_limit_exceeded'}}\n",
      "voriconazole myocardial infarction\n",
      "Encountered an exception for row: galantamine gastrointestinal haemorrhage. Error message below:\n",
      "Error code: 429 - {'error': {'message': 'Rate limit reached for gpt-3.5-turbo in organization org-wi3cHq5g1FGXIxQyl0trnye1 on requests per day (RPD): Limit 10000, Used 10000, Requested 1. Please try again in 8.64s. Visit https://platform.openai.com/account/rate-limits to learn more.', 'type': 'requests', 'param': None, 'code': 'rate_limit_exceeded'}}\n",
      "toremifene hepatotoxicity\n"
     ]
    },
    {
     "name": "stderr",
     "output_type": "stream",
     "text": [
      " 43%|████▎     | 812/1894 [01:50<32:46,  1.82s/it]"
     ]
    },
    {
     "name": "stdout",
     "output_type": "stream",
     "text": [
      "aldesleukin haematemesis\n"
     ]
    },
    {
     "name": "stderr",
     "output_type": "stream",
     "text": [
      " 43%|████▎     | 818/1894 [01:59<29:27,  1.64s/it]"
     ]
    },
    {
     "name": "stdout",
     "output_type": "stream",
     "text": [
      "Encountered an exception for row: dofetilide myocardial infarction. Error message below:\n",
      "Error code: 429 - {'error': {'message': 'Rate limit reached for gpt-3.5-turbo in organization org-wi3cHq5g1FGXIxQyl0trnye1 on requests per day (RPD): Limit 10000, Used 10000, Requested 1. Please try again in 8.64s. Visit https://platform.openai.com/account/rate-limits to learn more.', 'type': 'requests', 'param': None, 'code': 'rate_limit_exceeded'}}\n",
      "tolcapone hepatocellular injury\n",
      "ambrisentan hepatotoxicity\n",
      "Encountered an exception for row: argatroban haematemesis. Error message below:\n",
      "Error code: 429 - {'error': {'message': 'Rate limit reached for gpt-3.5-turbo in organization org-wi3cHq5g1FGXIxQyl0trnye1 on requests per day (RPD): Limit 10000, Used 10000, Requested 1. Please try again in 8.64s. Visit https://platform.openai.com/account/rate-limits to learn more.', 'type': 'requests', 'param': None, 'code': 'rate_limit_exceeded'}}\n",
      "methotrexate renal failure\n"
     ]
    },
    {
     "name": "stderr",
     "output_type": "stream",
     "text": [
      " 43%|████▎     | 821/1894 [02:08<35:46,  2.00s/it]"
     ]
    },
    {
     "name": "stdout",
     "output_type": "stream",
     "text": [
      "Encountered an exception for row: voriconazole myocardial infarction. Error message below:\n",
      "Error code: 429 - {'error': {'message': 'Rate limit reached for gpt-3.5-turbo in organization org-wi3cHq5g1FGXIxQyl0trnye1 on requests per day (RPD): Limit 10000, Used 10000, Requested 1. Please try again in 8.64s. Visit https://platform.openai.com/account/rate-limits to learn more.', 'type': 'requests', 'param': None, 'code': 'rate_limit_exceeded'}}\n",
      "cefixime renal impairment\n",
      "Encountered an exception for row: temsirolimus renal failure. Error message below:\n",
      "Error code: 429 - {'error': {'message': 'Rate limit reached for gpt-3.5-turbo in organization org-wi3cHq5g1FGXIxQyl0trnye1 on requests per day (RPD): Limit 10000, Used 10000, Requested 1. Please try again in 8.64s. Visit https://platform.openai.com/account/rate-limits to learn more.', 'type': 'requests', 'param': None, 'code': 'rate_limit_exceeded'}}\n",
      "cladribine acute kidney injury\n",
      "Encountered an exception for row: triamterene acute kidney injury. Error message below:\n",
      "Error code: 429 - {'error': {'message': 'Rate limit reached for gpt-3.5-turbo in organization org-wi3cHq5g1FGXIxQyl0trnye1 on requests per day (RPD): Limit 10000, Used 10000, Requested 1. Please try again in 8.64s. Visit https://platform.openai.com/account/rate-limits to learn more.', 'type': 'requests', 'param': None, 'code': 'rate_limit_exceeded'}}\n",
      "mitoxantrone myocardial infarction\n",
      "Encountered an exception for row: atovaquone hepatic failure. Error message below:\n",
      "Error code: 429 - {'error': {'message': 'Rate limit reached for gpt-3.5-turbo in organization org-wi3cHq5g1FGXIxQyl0trnye1 on requests per day (RPD): Limit 10000, Used 10000, Requested 1. Please try again in 8.64s. Visit https://platform.openai.com/account/rate-limits to learn more.', 'type': 'requests', 'param': None, 'code': 'rate_limit_exceeded'}}\n",
      "teriflunomide hepatotoxicity\n",
      "Encountered an exception for row: aldesleukin haematemesis. Error message below:\n",
      "Error code: 429 - {'error': {'message': 'Rate limit reached for gpt-3.5-turbo in organization org-wi3cHq5g1FGXIxQyl0trnye1 on requests per day (RPD): Limit 10000, Used 10000, Requested 1. Please try again in 8.64s. Visit https://platform.openai.com/account/rate-limits to learn more.', 'type': 'requests', 'param': None, 'code': 'rate_limit_exceeded'}}\n",
      "methylphenidate hepatocellular injury\n",
      "Encountered an exception for row: plazomicin renal impairment. Error message below:\n",
      "Error code: 429 - {'error': {'message': 'Rate limit reached for gpt-3.5-turbo in organization org-wi3cHq5g1FGXIxQyl0trnye1 on requests per day (RPD): Limit 10000, Used 10000, Requested 1. Please try again in 8.64s. Visit https://platform.openai.com/account/rate-limits to learn more.', 'type': 'requests', 'param': None, 'code': 'rate_limit_exceeded'}}\n",
      "micafungin renal failure\n"
     ]
    },
    {
     "name": "stderr",
     "output_type": "stream",
     "text": [
      " 44%|████▎     | 826/1894 [02:08<22:01,  1.24s/it]"
     ]
    },
    {
     "name": "stdout",
     "output_type": "stream",
     "text": [
      "hydroxychloroquine hepatic failure\n"
     ]
    },
    {
     "name": "stderr",
     "output_type": "stream",
     "text": [
      " 44%|████▍     | 829/1894 [02:17<28:35,  1.61s/it]"
     ]
    },
    {
     "name": "stdout",
     "output_type": "stream",
     "text": [
      "Encountered an exception for row: tolcapone hepatocellular injury. Error message below:\n",
      "Error code: 429 - {'error': {'message': 'Rate limit reached for gpt-3.5-turbo in organization org-wi3cHq5g1FGXIxQyl0trnye1 on requests per day (RPD): Limit 10000, Used 10000, Requested 1. Please try again in 8.64s. Visit https://platform.openai.com/account/rate-limits to learn more.', 'type': 'requests', 'param': None, 'code': 'rate_limit_exceeded'}}\n",
      "fenofibrate hepatotoxicity\n",
      "Encountered an exception for row: methotrexate renal failure. Error message below:\n",
      "Error code: 429 - {'error': {'message': 'Rate limit reached for gpt-3.5-turbo in organization org-wi3cHq5g1FGXIxQyl0trnye1 on requests per day (RPD): Limit 10000, Used 10000, Requested 1. Please try again in 8.64s. Visit https://platform.openai.com/account/rate-limits to learn more.', 'type': 'requests', 'param': None, 'code': 'rate_limit_exceeded'}}\n",
      "vorapaxar gastrointestinal haemorrhage\n",
      "phenylephrine myocardial infarction\n"
     ]
    },
    {
     "name": "stderr",
     "output_type": "stream",
     "text": [
      " 44%|████▍     | 831/1894 [02:26<41:17,  2.33s/it]"
     ]
    },
    {
     "name": "stdout",
     "output_type": "stream",
     "text": [
      "Encountered an exception for row: micafungin renal failure. Error message below:\n",
      "Error code: 429 - {'error': {'message': 'Rate limit reached for gpt-3.5-turbo in organization org-wi3cHq5g1FGXIxQyl0trnye1 on requests per day (RPD): Limit 10000, Used 10000, Requested 1. Please try again in 8.64s. Visit https://platform.openai.com/account/rate-limits to learn more.', 'type': 'requests', 'param': None, 'code': 'rate_limit_exceeded'}}\n",
      "goserelin myocardial infarction\n",
      "Encountered an exception for row: teriflunomide hepatotoxicity. Error message below:\n",
      "Error code: 429 - {'error': {'message': 'Rate limit reached for gpt-3.5-turbo in organization org-wi3cHq5g1FGXIxQyl0trnye1 on requests per day (RPD): Limit 10000, Used 10000, Requested 1. Please try again in 8.64s. Visit https://platform.openai.com/account/rate-limits to learn more.', 'type': 'requests', 'param': None, 'code': 'rate_limit_exceeded'}}\n",
      "saquinavir gastrointestinal haemorrhage\n",
      "Encountered an exception for row: methylphenidate hepatocellular injury. Error message below:\n",
      "Error code: 429 - {'error': {'message': 'Rate limit reached for gpt-3.5-turbo in organization org-wi3cHq5g1FGXIxQyl0trnye1 on requests per day (RPD): Limit 10000, Used 10000, Requested 1. Please try again in 8.64s. Visit https://platform.openai.com/account/rate-limits to learn more.', 'type': 'requests', 'param': None, 'code': 'rate_limit_exceeded'}}\n",
      "caspofungin renal failure\n",
      "Encountered an exception for row: cladribine acute kidney injury. Error message below:\n",
      "Error code: 429 - {'error': {'message': 'Rate limit reached for gpt-3.5-turbo in organization org-wi3cHq5g1FGXIxQyl0trnye1 on requests per day (RPD): Limit 10000, Used 10000, Requested 1. Please try again in 8.64s. Visit https://platform.openai.com/account/rate-limits to learn more.', 'type': 'requests', 'param': None, 'code': 'rate_limit_exceeded'}}\n",
      "caspofungin hepatic enzyme increased\n",
      "Encountered an exception for row: hydroxychloroquine hepatic failure. Error message below:\n",
      "Error code: 429 - {'error': {'message': 'Rate limit reached for gpt-3.5-turbo in organization org-wi3cHq5g1FGXIxQyl0trnye1 on requests per day (RPD): Limit 10000, Used 10000, Requested 1. Please try again in 8.64s. Visit https://platform.openai.com/account/rate-limits to learn more.', 'type': 'requests', 'param': None, 'code': 'rate_limit_exceeded'}}\n",
      "betamethasone myocardial infarction\n",
      "Encountered an exception for row: mitoxantrone myocardial infarction. Error message below:\n",
      "Error code: 429 - {'error': {'message': 'Rate limit reached for gpt-3.5-turbo in organization org-wi3cHq5g1FGXIxQyl0trnye1 on requests per day (RPD): Limit 10000, Used 10000, Requested 1. Please try again in 8.64s. Visit https://platform.openai.com/account/rate-limits to learn more.', 'type': 'requests', 'param': None, 'code': 'rate_limit_exceeded'}}\n",
      "rifapentine hepatotoxicity\n",
      "hydroxocobalamin acute kidney injury\n",
      "Encountered an exception for row: phenylephrine myocardial infarction. Error message below:\n",
      "Error code: 429 - {'error': {'message': 'Rate limit reached for gpt-3.5-turbo in organization org-wi3cHq5g1FGXIxQyl0trnye1 on requests per day (RPD): Limit 10000, Used 10000, Requested 1. Please try again in 8.64s. Visit https://platform.openai.com/account/rate-limits to learn more.', 'type': 'requests', 'param': None, 'code': 'rate_limit_exceeded'}}\n",
      "infliximab hepatotoxicity\n",
      "Encountered an exception for row: vorapaxar gastrointestinal haemorrhage. Error message below:\n",
      "Error code: 429 - {'error': {'message': 'Rate limit reached for gpt-3.5-turbo in organization org-wi3cHq5g1FGXIxQyl0trnye1 on requests per day (RPD): Limit 10000, Used 10000, Requested 1. Please try again in 8.64s. Visit https://platform.openai.com/account/rate-limits to learn more.', 'type': 'requests', 'param': None, 'code': 'rate_limit_exceeded'}}\n",
      "duvelisib hepatotoxicity\n"
     ]
    },
    {
     "name": "stderr",
     "output_type": "stream",
     "text": [
      " 44%|████▍     | 838/1894 [02:35<30:50,  1.75s/it]"
     ]
    },
    {
     "name": "stdout",
     "output_type": "stream",
     "text": [
      "tretinoin gastrointestinal haemorrhage\n"
     ]
    },
    {
     "name": "stderr",
     "output_type": "stream",
     "text": [
      " 44%|████▍     | 842/1894 [02:44<32:23,  1.85s/it]"
     ]
    },
    {
     "name": "stdout",
     "output_type": "stream",
     "text": [
      "Encountered an exception for row: goserelin myocardial infarction. Error message below:\n",
      "Error code: 429 - {'error': {'message': 'Rate limit reached for gpt-3.5-turbo in organization org-wi3cHq5g1FGXIxQyl0trnye1 on requests per day (RPD): Limit 10000, Used 10000, Requested 1. Please try again in 8.64s. Visit https://platform.openai.com/account/rate-limits to learn more.', 'type': 'requests', 'param': None, 'code': 'rate_limit_exceeded'}}\n",
      "arformoterol myocardial infarction\n",
      "Encountered an exception for row: caspofungin hepatic enzyme increased. Error message below:\n",
      "Error code: 429 - {'error': {'message': 'Rate limit reached for gpt-3.5-turbo in organization org-wi3cHq5g1FGXIxQyl0trnye1 on requests per day (RPD): Limit 10000, Used 10000, Requested 1. Please try again in 8.64s. Visit https://platform.openai.com/account/rate-limits to learn more.', 'type': 'requests', 'param': None, 'code': 'rate_limit_exceeded'}}\n",
      "alectinib renal impairment\n",
      "Encountered an exception for row: betamethasone myocardial infarction. Error message below:\n",
      "Error code: 429 - {'error': {'message': 'Rate limit reached for gpt-3.5-turbo in organization org-wi3cHq5g1FGXIxQyl0trnye1 on requests per day (RPD): Limit 10000, Used 10000, Requested 1. Please try again in 8.64s. Visit https://platform.openai.com/account/rate-limits to learn more.', 'type': 'requests', 'param': None, 'code': 'rate_limit_exceeded'}}\n",
      "tipranavir liver function test abnormal\n",
      "Encountered an exception for row: caspofungin renal failure. Error message below:\n",
      "Error code: 429 - {'error': {'message': 'Rate limit reached for gpt-3.5-turbo in organization org-wi3cHq5g1FGXIxQyl0trnye1 on requests per day (RPD): Limit 10000, Used 10000, Requested 1. Please try again in 8.64s. Visit https://platform.openai.com/account/rate-limits to learn more.', 'type': 'requests', 'param': None, 'code': 'rate_limit_exceeded'}}\n",
      "romosozumab myocardial infarction\n",
      "Encountered an exception for row: hydroxocobalamin acute kidney injury. Error message below:\n",
      "Error code: 429 - {'error': {'message': 'Rate limit reached for gpt-3.5-turbo in organization org-wi3cHq5g1FGXIxQyl0trnye1 on requests per day (RPD): Limit 10000, Used 10000, Requested 1. Please try again in 8.64s. Visit https://platform.openai.com/account/rate-limits to learn more.', 'type': 'requests', 'param': None, 'code': 'rate_limit_exceeded'}}\n",
      "vorinostat myocardial infarction\n",
      "Encountered an exception for row: rifapentine hepatotoxicity. Error message below:\n",
      "Error code: 429 - {'error': {'message': 'Rate limit reached for gpt-3.5-turbo in organization org-wi3cHq5g1FGXIxQyl0trnye1 on requests per day (RPD): Limit 10000, Used 10000, Requested 1. Please try again in 8.64s. Visit https://platform.openai.com/account/rate-limits to learn more.', 'type': 'requests', 'param': None, 'code': 'rate_limit_exceeded'}}\n",
      "lumateperone liver function test abnormal\n",
      "fingolimod liver injury\n"
     ]
    },
    {
     "name": "stderr",
     "output_type": "stream",
     "text": [
      " 45%|████▍     | 850/1894 [02:53<23:42,  1.36s/it]"
     ]
    },
    {
     "name": "stdout",
     "output_type": "stream",
     "text": [
      "Encountered an exception for row: duvelisib hepatotoxicity. Error message below:\n",
      "Error code: 429 - {'error': {'message': 'Rate limit reached for gpt-3.5-turbo in organization org-wi3cHq5g1FGXIxQyl0trnye1 on requests per day (RPD): Limit 10000, Used 10000, Requested 1. Please try again in 8.64s. Visit https://platform.openai.com/account/rate-limits to learn more.', 'type': 'requests', 'param': None, 'code': 'rate_limit_exceeded'}}\n",
      "mitomycin acute kidney injury\n",
      "enasidenib acute kidney injury\n",
      "Encountered an exception for row: tretinoin gastrointestinal haemorrhage. Error message below:\n",
      "Error code: 429 - {'error': {'message': 'Rate limit reached for gpt-3.5-turbo in organization org-wi3cHq5g1FGXIxQyl0trnye1 on requests per day (RPD): Limit 10000, Used 10000, Requested 1. Please try again in 8.64s. Visit https://platform.openai.com/account/rate-limits to learn more.', 'type': 'requests', 'param': None, 'code': 'rate_limit_exceeded'}}\n",
      "nintedanib myocardial infarction\n"
     ]
    },
    {
     "name": "stderr",
     "output_type": "stream",
     "text": [
      " 45%|████▍     | 851/1894 [03:02<39:23,  2.27s/it]"
     ]
    },
    {
     "name": "stdout",
     "output_type": "stream",
     "text": [
      "Encountered an exception for row: alectinib renal impairment. Error message below:\n",
      "Error code: 429 - {'error': {'message': 'Rate limit reached for gpt-3.5-turbo in organization org-wi3cHq5g1FGXIxQyl0trnye1 on requests per day (RPD): Limit 10000, Used 10000, Requested 1. Please try again in 8.64s. Visit https://platform.openai.com/account/rate-limits to learn more.', 'type': 'requests', 'param': None, 'code': 'rate_limit_exceeded'}}\n",
      "amikacin renal impairment\n",
      "Encountered an exception for row: tipranavir liver function test abnormal. Error message below:\n",
      "Error code: 429 - {'error': {'message': 'Rate limit reached for gpt-3.5-turbo in organization org-wi3cHq5g1FGXIxQyl0trnye1 on requests per day (RPD): Limit 10000, Used 10000, Requested 1. Please try again in 8.64s. Visit https://platform.openai.com/account/rate-limits to learn more.', 'type': 'requests', 'param': None, 'code': 'rate_limit_exceeded'}}\n",
      "dapagliflozin renal impairment\n",
      "ticagrelor acute kidney injury\n",
      "Encountered an exception for row: romosozumab myocardial infarction. Error message below:\n",
      "Error code: 429 - {'error': {'message': 'Rate limit reached for gpt-3.5-turbo in organization org-wi3cHq5g1FGXIxQyl0trnye1 on requests per day (RPD): Limit 10000, Used 10000, Requested 1. Please try again in 8.64s. Visit https://platform.openai.com/account/rate-limits to learn more.', 'type': 'requests', 'param': None, 'code': 'rate_limit_exceeded'}}\n",
      "nafarelin liver injury\n",
      "Encountered an exception for row: lumateperone liver function test abnormal. Error message below:\n",
      "Error code: 429 - {'error': {'message': 'Rate limit reached for gpt-3.5-turbo in organization org-wi3cHq5g1FGXIxQyl0trnye1 on requests per day (RPD): Limit 10000, Used 10000, Requested 1. Please try again in 8.64s. Visit https://platform.openai.com/account/rate-limits to learn more.', 'type': 'requests', 'param': None, 'code': 'rate_limit_exceeded'}}\n",
      "venetoclax acute kidney injury\n",
      "Encountered an exception for row: fingolimod liver injury. Error message below:\n",
      "Error code: 429 - {'error': {'message': 'Rate limit reached for gpt-3.5-turbo in organization org-wi3cHq5g1FGXIxQyl0trnye1 on requests per day (RPD): Limit 10000, Used 10000, Requested 1. Please try again in 8.64s. Visit https://platform.openai.com/account/rate-limits to learn more.', 'type': 'requests', 'param': None, 'code': 'rate_limit_exceeded'}}\n",
      "oliceridine renal failure\n",
      "Encountered an exception for row: vorinostat myocardial infarction. Error message below:\n",
      "Error code: 429 - {'error': {'message': 'Rate limit reached for gpt-3.5-turbo in organization org-wi3cHq5g1FGXIxQyl0trnye1 on requests per day (RPD): Limit 10000, Used 10000, Requested 1. Please try again in 8.64s. Visit https://platform.openai.com/account/rate-limits to learn more.', 'type': 'requests', 'param': None, 'code': 'rate_limit_exceeded'}}\n",
      "moxifloxacin acute kidney injury\n"
     ]
    },
    {
     "name": "stderr",
     "output_type": "stream",
     "text": [
      " 45%|████▌     | 858/1894 [03:11<29:37,  1.72s/it]"
     ]
    },
    {
     "name": "stdout",
     "output_type": "stream",
     "text": [
      "Encountered an exception for row: enasidenib acute kidney injury. Error message below:\n",
      "Error code: 429 - {'error': {'message': 'Rate limit reached for gpt-3.5-turbo in organization org-wi3cHq5g1FGXIxQyl0trnye1 on requests per day (RPD): Limit 10000, Used 10000, Requested 1. Please try again in 8.64s. Visit https://platform.openai.com/account/rate-limits to learn more.', 'type': 'requests', 'param': None, 'code': 'rate_limit_exceeded'}}\n",
      "belumosudil renal failure\n",
      "abemaciclib hepatotoxicity\n"
     ]
    },
    {
     "name": "stderr",
     "output_type": "stream",
     "text": [
      " 45%|████▌     | 860/1894 [03:11<24:27,  1.42s/it]"
     ]
    },
    {
     "name": "stdout",
     "output_type": "stream",
     "text": [
      "Encountered an exception for row: nintedanib myocardial infarction. Error message below:\n",
      "Error code: 429 - {'error': {'message': 'Rate limit reached for gpt-3.5-turbo in organization org-wi3cHq5g1FGXIxQyl0trnye1 on requests per day (RPD): Limit 10000, Used 10000, Requested 1. Please try again in 8.64s. Visit https://platform.openai.com/account/rate-limits to learn more.', 'type': 'requests', 'param': None, 'code': 'rate_limit_exceeded'}}\n",
      "maribavir acute kidney injury\n"
     ]
    },
    {
     "name": "stderr",
     "output_type": "stream",
     "text": [
      " 46%|████▌     | 862/1894 [03:20<33:47,  1.96s/it]"
     ]
    },
    {
     "name": "stdout",
     "output_type": "stream",
     "text": [
      "Encountered an exception for row: amikacin renal impairment. Error message below:\n",
      "Error code: 429 - {'error': {'message': 'Rate limit reached for gpt-3.5-turbo in organization org-wi3cHq5g1FGXIxQyl0trnye1 on requests per day (RPD): Limit 10000, Used 10000, Requested 1. Please try again in 8.64s. Visit https://platform.openai.com/account/rate-limits to learn more.', 'type': 'requests', 'param': None, 'code': 'rate_limit_exceeded'}}\n",
      "atezolizumab hepatotoxicity\n",
      "vandetanib renal failure\n",
      "Encountered an exception for row: ticagrelor acute kidney injury. Error message below:\n",
      "Error code: 429 - {'error': {'message': 'Rate limit reached for gpt-3.5-turbo in organization org-wi3cHq5g1FGXIxQyl0trnye1 on requests per day (RPD): Limit 10000, Used 10000, Requested 1. Please try again in 8.64s. Visit https://platform.openai.com/account/rate-limits to learn more.', 'type': 'requests', 'param': None, 'code': 'rate_limit_exceeded'}}\n",
      "odevixibat hepatic enzyme abnormal\n"
     ]
    },
    {
     "name": "stderr",
     "output_type": "stream",
     "text": [
      " 46%|████▌     | 864/1894 [03:20<24:20,  1.42s/it]"
     ]
    },
    {
     "name": "stdout",
     "output_type": "stream",
     "text": [
      "Encountered an exception for row: nafarelin liver injury. Error message below:Encountered an exception for row: moxifloxacin acute kidney injury. Error message below:\n",
      "Error code: 429 - {'error': {'message': 'Rate limit reached for gpt-3.5-turbo in organization org-wi3cHq5g1FGXIxQyl0trnye1 on requests per day (RPD): Limit 10000, Used 10000, Requested 1. Please try again in 8.64s. Visit https://platform.openai.com/account/rate-limits to learn more.', 'type': 'requests', 'param': None, 'code': 'rate_limit_exceeded'}}\n",
      "upadacitinib hepatic enzyme increased\n",
      "\n",
      "Error code: 429 - {'error': {'message': 'Rate limit reached for gpt-3.5-turbo in organization org-wi3cHq5g1FGXIxQyl0trnye1 on requests per day (RPD): Limit 10000, Used 10000, Requested 1. Please try again in 8.64s. Visit https://platform.openai.com/account/rate-limits to learn more.', 'type': 'requests', 'param': None, 'code': 'rate_limit_exceeded'}}\n",
      "octreotide myocardial infarction\n",
      "Encountered an exception for row: oliceridine renal failure. Error message below:\n",
      "Error code: 429 - {'error': {'message': 'Rate limit reached for gpt-3.5-turbo in organization org-wi3cHq5g1FGXIxQyl0trnye1 on requests per day (RPD): Limit 10000, Used 10000, Requested 1. Please try again in 8.64s. Visit https://platform.openai.com/account/rate-limits to learn more.', 'type': 'requests', 'param': None, 'code': 'rate_limit_exceeded'}}\n",
      "tenofovir alafenamide renal impairment\n",
      "Encountered an exception for row: venetoclax acute kidney injury. Error message below:\n",
      "Error code: 429 - {'error': {'message': 'Rate limit reached for gpt-3.5-turbo in organization org-wi3cHq5g1FGXIxQyl0trnye1 on requests per day (RPD): Limit 10000, Used 10000, Requested 1. Please try again in 8.64s. Visit https://platform.openai.com/account/rate-limits to learn more.', 'type': 'requests', 'param': None, 'code': 'rate_limit_exceeded'}}\n",
      "sargramostim haematemesis\n"
     ]
    },
    {
     "name": "stderr",
     "output_type": "stream",
     "text": [
      " 46%|████▌     | 868/1894 [03:29<30:00,  1.75s/it]"
     ]
    },
    {
     "name": "stdout",
     "output_type": "stream",
     "text": [
      "Encountered an exception for row: abemaciclib hepatotoxicity. Error message below:\n",
      "Error code: 429 - {'error': {'message': 'Rate limit reached for gpt-3.5-turbo in organization org-wi3cHq5g1FGXIxQyl0trnye1 on requests per day (RPD): Limit 10000, Used 10000, Requested 1. Please try again in 8.64s. Visit https://platform.openai.com/account/rate-limits to learn more.', 'type': 'requests', 'param': None, 'code': 'rate_limit_exceeded'}}\n",
      "dabrafenib haematemesis\n",
      "pegcetacoplan acute kidney injury\n"
     ]
    },
    {
     "name": "stderr",
     "output_type": "stream",
     "text": [
      " 46%|████▌     | 870/1894 [03:29<22:54,  1.34s/it]"
     ]
    },
    {
     "name": "stdout",
     "output_type": "stream",
     "text": [
      "Encountered an exception for row: maribavir acute kidney injury. Error message below:\n",
      "Error code: 429 - {'error': {'message': 'Rate limit reached for gpt-3.5-turbo in organization org-wi3cHq5g1FGXIxQyl0trnye1 on requests per day (RPD): Limit 10000, Used 10000, Requested 1. Please try again in 8.64s. Visit https://platform.openai.com/account/rate-limits to learn more.', 'type': 'requests', 'param': None, 'code': 'rate_limit_exceeded'}}\n",
      "axitinib hepatocellular injury\n"
     ]
    },
    {
     "name": "stderr",
     "output_type": "stream",
     "text": [
      " 46%|████▌     | 872/1894 [03:38<36:45,  2.16s/it]"
     ]
    },
    {
     "name": "stdout",
     "output_type": "stream",
     "text": [
      "Encountered an exception for row: atezolizumab hepatotoxicity. Error message below:\n",
      "Error code: 429 - {'error': {'message': 'Rate limit reached for gpt-3.5-turbo in organization org-wi3cHq5g1FGXIxQyl0trnye1 on requests per day (RPD): Limit 10000, Used 10000, Requested 1. Please try again in 8.64s. Visit https://platform.openai.com/account/rate-limits to learn more.', 'type': 'requests', 'param': None, 'code': 'rate_limit_exceeded'}}\n",
      "bedaquiline hepatic enzyme increased\n",
      "Encountered an exception for row: odevixibat hepatic enzyme abnormal. Error message below:\n",
      "Error code: 429 - {'error': {'message': 'Rate limit reached for gpt-3.5-turbo in organization org-wi3cHq5g1FGXIxQyl0trnye1 on requests per day (RPD): Limit 10000, Used 10000, Requested 1. Please try again in 8.64s. Visit https://platform.openai.com/account/rate-limits to learn more.', 'type': 'requests', 'param': None, 'code': 'rate_limit_exceeded'}}\n",
      "sulindac myocardial infarction\n",
      "valproate acute hepatic failure\n",
      "Encountered an exception for row: vandetanib renal failure. Error message below:\n",
      "Error code: 429 - {'error': {'message': 'Rate limit reached for gpt-3.5-turbo in organization org-wi3cHq5g1FGXIxQyl0trnye1 on requests per day (RPD): Limit 10000, Used 10000, Requested 1. Please try again in 8.64s. Visit https://platform.openai.com/account/rate-limits to learn more.', 'type': 'requests', 'param': None, 'code': 'rate_limit_exceeded'}}\n",
      "procainamide myocardial infarction\n"
     ]
    },
    {
     "name": "stderr",
     "output_type": "stream",
     "text": [
      " 46%|████▋     | 877/1894 [03:38<17:23,  1.03s/it]"
     ]
    },
    {
     "name": "stdout",
     "output_type": "stream",
     "text": [
      "Encountered an exception for row: octreotide myocardial infarction. Error message below:\n",
      "Error code: 429 - {'error': {'message': 'Rate limit reached for gpt-3.5-turbo in organization org-wi3cHq5g1FGXIxQyl0trnye1 on requests per day (RPD): Limit 10000, Used 10000, Requested 1. Please try again in 8.64s. Visit https://platform.openai.com/account/rate-limits to learn more.', 'type': 'requests', 'param': None, 'code': 'rate_limit_exceeded'}}\n",
      "neomycin renal impairment\n",
      "Encountered an exception for row: tenofovir alafenamide renal impairment. Error message below:\n",
      "Error code: 429 - {'error': {'message': 'Rate limit reached for gpt-3.5-turbo in organization org-wi3cHq5g1FGXIxQyl0trnye1 on requests per day (RPD): Limit 10000, Used 10000, Requested 1. Please try again in 8.64s. Visit https://platform.openai.com/account/rate-limits to learn more.', 'type': 'requests', 'param': None, 'code': 'rate_limit_exceeded'}}\n",
      "baricitinib myocardial infarction\n",
      "Encountered an exception for row: upadacitinib hepatic enzyme increased. Error message below:\n",
      "Error code: 429 - {'error': {'message': 'Rate limit reached for gpt-3.5-turbo in organization org-wi3cHq5g1FGXIxQyl0trnye1 on requests per day (RPD): Limit 10000, Used 10000, Requested 1. Please try again in 8.64s. Visit https://platform.openai.com/account/rate-limits to learn more.', 'type': 'requests', 'param': None, 'code': 'rate_limit_exceeded'}}\n",
      "carbamazepine hepatic failure\n",
      "Encountered an exception for row: sargramostim haematemesis. Error message below:\n",
      "Error code: 429 - {'error': {'message': 'Rate limit reached for gpt-3.5-turbo in organization org-wi3cHq5g1FGXIxQyl0trnye1 on requests per day (RPD): Limit 10000, Used 10000, Requested 1. Please try again in 8.64s. Visit https://platform.openai.com/account/rate-limits to learn more.', 'type': 'requests', 'param': None, 'code': 'rate_limit_exceeded'}}\n",
      "nefazodone gastrointestinal haemorrhage\n",
      "Encountered an exception for row: axitinib hepatocellular injury. Error message below:\n",
      "Error code: 429 - {'error': {'message': 'Rate limit reached for gpt-3.5-turbo in organization org-wi3cHq5g1FGXIxQyl0trnye1 on requests per day (RPD): Limit 10000, Used 10000, Requested 1. Please try again in 8.64s. Visit https://platform.openai.com/account/rate-limits to learn more.', 'type': 'requests', 'param': None, 'code': 'rate_limit_exceeded'}}\n",
      "sumatriptan gastrointestinal haemorrhage\n",
      "metoprolol myocardial infarction\n"
     ]
    },
    {
     "name": "stderr",
     "output_type": "stream",
     "text": [
      " 47%|████▋     | 886/1894 [03:56<22:11,  1.32s/it]"
     ]
    },
    {
     "name": "stdout",
     "output_type": "stream",
     "text": [
      "Encountered an exception for row: valproate acute hepatic failure. Error message below:\n",
      "Error code: 429 - {'error': {'message': 'Rate limit reached for gpt-3.5-turbo in organization org-wi3cHq5g1FGXIxQyl0trnye1 on requests per day (RPD): Limit 10000, Used 10000, Requested 1. Please try again in 8.64s. Visit https://platform.openai.com/account/rate-limits to learn more.', 'type': 'requests', 'param': None, 'code': 'rate_limit_exceeded'}}\n",
      "allopurinol renal failure\n",
      "Encountered an exception for row: sulindac myocardial infarction. Error message below:\n",
      "Error code: 429 - {'error': {'message': 'Rate limit reached for gpt-3.5-turbo in organization org-wi3cHq5g1FGXIxQyl0trnye1 on requests per day (RPD): Limit 10000, Used 10000, Requested 1. Please try again in 8.64s. Visit https://platform.openai.com/account/rate-limits to learn more.', 'type': 'requests', 'param': None, 'code': 'rate_limit_exceeded'}}\n",
      "terbinafine hepatic failure\n",
      "levothyroxine myocardial infarction\n",
      "Encountered an exception for row: procainamide myocardial infarction. Error message below:\n",
      "Error code: 429 - {'error': {'message': 'Rate limit reached for gpt-3.5-turbo in organization org-wi3cHq5g1FGXIxQyl0trnye1 on requests per day (RPD): Limit 10000, Used 10000, Requested 1. Please try again in 8.64s. Visit https://platform.openai.com/account/rate-limits to learn more.', 'type': 'requests', 'param': None, 'code': 'rate_limit_exceeded'}}\n",
      "azithromycin renal impairment\n",
      "Encountered an exception for row: neomycin renal impairment. Error message below:\n",
      "Error code: 429 - {'error': {'message': 'Rate limit reached for gpt-3.5-turbo in organization org-wi3cHq5g1FGXIxQyl0trnye1 on requests per day (RPD): Limit 10000, Used 10000, Requested 1. Please try again in 8.64s. Visit https://platform.openai.com/account/rate-limits to learn more.', 'type': 'requests', 'param': None, 'code': 'rate_limit_exceeded'}}\n",
      "moxifloxacin renal failure\n",
      "Encountered an exception for row: baricitinib myocardial infarction. Error message below:\n",
      "Error code: 429 - {'error': {'message': 'Rate limit reached for gpt-3.5-turbo in organization org-wi3cHq5g1FGXIxQyl0trnye1 on requests per day (RPD): Limit 10000, Used 10000, Requested 1. Please try again in 8.64s. Visit https://platform.openai.com/account/rate-limits to learn more.', 'type': 'requests', 'param': None, 'code': 'rate_limit_exceeded'}}\n",
      "bupropion gastrointestinal haemorrhage\n",
      "Encountered an exception for row: carbamazepine hepatic failure. Error message below:\n",
      "Error code: 429 - {'error': {'message': 'Rate limit reached for gpt-3.5-turbo in organization org-wi3cHq5g1FGXIxQyl0trnye1 on requests per day (RPD): Limit 10000, Used 10000, Requested 1. Please try again in 8.64s. Visit https://platform.openai.com/account/rate-limits to learn more.', 'type': 'requests', 'param': None, 'code': 'rate_limit_exceeded'}}\n",
      "tizanidine liver function test abnormal\n",
      "Encountered an exception for row: nefazodone gastrointestinal haemorrhage. Error message below:\n",
      "Error code: 429 - {'error': {'message': 'Rate limit reached for gpt-3.5-turbo in organization org-wi3cHq5g1FGXIxQyl0trnye1 on requests per day (RPD): Limit 10000, Used 10000, Requested 1. Please try again in 8.64s. Visit https://platform.openai.com/account/rate-limits to learn more.', 'type': 'requests', 'param': None, 'code': 'rate_limit_exceeded'}}\n",
      "fluvoxamine acute kidney injury\n"
     ]
    },
    {
     "name": "stderr",
     "output_type": "stream",
     "text": [
      " 47%|████▋     | 889/1894 [04:04<30:11,  1.80s/it]"
     ]
    },
    {
     "name": "stdout",
     "output_type": "stream",
     "text": [
      "Encountered an exception for row: metoprolol myocardial infarction. Error message below:\n",
      "Error code: 429 - {'error': {'message': 'Rate limit reached for gpt-3.5-turbo in organization org-wi3cHq5g1FGXIxQyl0trnye1 on requests per day (RPD): Limit 10000, Used 10000, Requested 1. Please try again in 8.64s. Visit https://platform.openai.com/account/rate-limits to learn more.', 'type': 'requests', 'param': None, 'code': 'rate_limit_exceeded'}}\n",
      "venlafaxine myocardial infarction\n",
      "alprazolam hepatic failure\n"
     ]
    },
    {
     "name": "stderr",
     "output_type": "stream",
     "text": [
      " 47%|████▋     | 891/1894 [04:13<39:56,  2.39s/it]"
     ]
    },
    {
     "name": "stdout",
     "output_type": "stream",
     "text": [
      "tenofovir disoproxil renal failure\n",
      "Encountered an exception for row: terbinafine hepatic failure. Error message below:\n",
      "Error code: 429 - {'error': {'message': 'Rate limit reached for gpt-3.5-turbo in organization org-wi3cHq5g1FGXIxQyl0trnye1 on requests per day (RPD): Limit 10000, Used 10000, Requested 1. Please try again in 8.64s. Visit https://platform.openai.com/account/rate-limits to learn more.', 'type': 'requests', 'param': None, 'code': 'rate_limit_exceeded'}}\n",
      "tenofovir disoproxil acute kidney injury\n",
      "Encountered an exception for row: levothyroxine myocardial infarction. Error message below:\n",
      "Error code: 429 - {'error': {'message': 'Rate limit reached for gpt-3.5-turbo in organization org-wi3cHq5g1FGXIxQyl0trnye1 on requests per day (RPD): Limit 10000, Used 10000, Requested 1. Please try again in 8.64s. Visit https://platform.openai.com/account/rate-limits to learn more.', 'type': 'requests', 'param': None, 'code': 'rate_limit_exceeded'}}\n",
      "indomethacin renal failure\n",
      "Encountered an exception for row: moxifloxacin renal failure. Error message below:\n",
      "Error code: 429 - {'error': {'message': 'Rate limit reached for gpt-3.5-turbo in organization org-wi3cHq5g1FGXIxQyl0trnye1 on requests per day (RPD): Limit 10000, Used 10000, Requested 1. Please try again in 8.64s. Visit https://platform.openai.com/account/rate-limits to learn more.', 'type': 'requests', 'param': None, 'code': 'rate_limit_exceeded'}}\n",
      "trandolapril hepatic enzyme increased\n",
      "Encountered an exception for row: azithromycin renal impairment. Error message below:\n",
      "Error code: 429 - {'error': {'message': 'Rate limit reached for gpt-3.5-turbo in organization org-wi3cHq5g1FGXIxQyl0trnye1 on requests per day (RPD): Limit 10000, Used 10000, Requested 1. Please try again in 8.64s. Visit https://platform.openai.com/account/rate-limits to learn more.', 'type': 'requests', 'param': None, 'code': 'rate_limit_exceeded'}}\n",
      "triazolam hepatic failure\n",
      "Encountered an exception for row: bupropion gastrointestinal haemorrhage. Error message below:\n",
      "Error code: 429 - {'error': {'message': 'Rate limit reached for gpt-3.5-turbo in organization org-wi3cHq5g1FGXIxQyl0trnye1 on requests per day (RPD): Limit 10000, Used 10000, Requested 1. Please try again in 8.64s. Visit https://platform.openai.com/account/rate-limits to learn more.', 'type': 'requests', 'param': None, 'code': 'rate_limit_exceeded'}}\n",
      "lorazepam liver injury\n",
      "Encountered an exception for row: fluvoxamine acute kidney injury. Error message below:\n",
      "Error code: 429 - {'error': {'message': 'Rate limit reached for gpt-3.5-turbo in organization org-wi3cHq5g1FGXIxQyl0trnye1 on requests per day (RPD): Limit 10000, Used 10000, Requested 1. Please try again in 8.64s. Visit https://platform.openai.com/account/rate-limits to learn more.', 'type': 'requests', 'param': None, 'code': 'rate_limit_exceeded'}}\n",
      "acyclovir renal impairment\n",
      "Encountered an exception for row: tizanidine liver function test abnormal. Error message below:\n",
      "Error code: 429 - {'error': {'message': 'Rate limit reached for gpt-3.5-turbo in organization org-wi3cHq5g1FGXIxQyl0trnye1 on requests per day (RPD): Limit 10000, Used 10000, Requested 1. Please try again in 8.64s. Visit https://platform.openai.com/account/rate-limits to learn more.', 'type': 'requests', 'param': None, 'code': 'rate_limit_exceeded'}}\n",
      "sodium phosphate renal impairment\n"
     ]
    },
    {
     "name": "stderr",
     "output_type": "stream",
     "text": [
      " 47%|████▋     | 899/1894 [04:22<27:47,  1.68s/it]"
     ]
    },
    {
     "name": "stdout",
     "output_type": "stream",
     "text": [
      "Encountered an exception for row: venlafaxine myocardial infarction. Error message below:\n",
      "Error code: 429 - {'error': {'message': 'Rate limit reached for gpt-3.5-turbo in organization org-wi3cHq5g1FGXIxQyl0trnye1 on requests per day (RPD): Limit 10000, Used 10000, Requested 1. Please try again in 8.64s. Visit https://platform.openai.com/account/rate-limits to learn more.', 'type': 'requests', 'param': None, 'code': 'rate_limit_exceeded'}}\n",
      "etodolac hepatic necrosis\n"
     ]
    },
    {
     "name": "stderr",
     "output_type": "stream",
     "text": [
      " 48%|████▊     | 900/1894 [04:23<25:35,  1.54s/it]"
     ]
    },
    {
     "name": "stdout",
     "output_type": "stream",
     "text": [
      "ibuprofen hepatic failure\n",
      "ibuprofen myocardial infarction\n"
     ]
    },
    {
     "name": "stderr",
     "output_type": "stream",
     "text": [
      " 48%|████▊     | 901/1894 [04:31<39:20,  2.38s/it]"
     ]
    },
    {
     "name": "stdout",
     "output_type": "stream",
     "text": [
      "Encountered an exception for row: tenofovir disoproxil renal failure. Error message below:\n",
      "Error code: 429 - {'error': {'message': 'Rate limit reached for gpt-3.5-turbo in organization org-wi3cHq5g1FGXIxQyl0trnye1 on requests per day (RPD): Limit 10000, Used 10000, Requested 1. Please try again in 8.64s. Visit https://platform.openai.com/account/rate-limits to learn more.', 'type': 'requests', 'param': None, 'code': 'rate_limit_exceeded'}}\n",
      "atorvastatin hepatic failure\n"
     ]
    },
    {
     "name": "stderr",
     "output_type": "stream",
     "text": [
      " 48%|████▊     | 902/1894 [04:32<34:20,  2.08s/it]"
     ]
    },
    {
     "name": "stdout",
     "output_type": "stream",
     "text": [
      "Encountered an exception for row: acyclovir renal impairment. Error message below:\n",
      "Error code: 429 - {'error': {'message': 'Rate limit reached for gpt-3.5-turbo in organization org-wi3cHq5g1FGXIxQyl0trnye1 on requests per day (RPD): Limit 10000, Used 10000, Requested 1. Please try again in 8.64s. Visit https://platform.openai.com/account/rate-limits to learn more.', 'type': 'requests', 'param': None, 'code': 'rate_limit_exceeded'}}\n",
      "cefprozil renal impairment\n",
      "Encountered an exception for row: lorazepam liver injury. Error message below:\n",
      "Error code: 429 - {'error': {'message': 'Rate limit reached for gpt-3.5-turbo in organization org-wi3cHq5g1FGXIxQyl0trnye1 on requests per day (RPD): Limit 10000, Used 10000, Requested 1. Please try again in 8.64s. Visit https://platform.openai.com/account/rate-limits to learn more.', 'type': 'requests', 'param': None, 'code': 'rate_limit_exceeded'}}\n",
      "rasagiline myocardial infarction\n",
      "Encountered an exception for row: tenofovir disoproxil acute kidney injury. Error message below:\n",
      "Error code: 429 - {'error': {'message': 'Rate limit reached for gpt-3.5-turbo in organization org-wi3cHq5g1FGXIxQyl0trnye1 on requests per day (RPD): Limit 10000, Used 10000, Requested 1. Please try again in 8.64s. Visit https://platform.openai.com/account/rate-limits to learn more.', 'type': 'requests', 'param': None, 'code': 'rate_limit_exceeded'}}\n",
      "losartan myocardial infarction\n",
      "Encountered an exception for row: trandolapril hepatic enzyme increased. Error message below:\n",
      "Error code: 429 - {'error': {'message': 'Rate limit reached for gpt-3.5-turbo in organization org-wi3cHq5g1FGXIxQyl0trnye1 on requests per day (RPD): Limit 10000, Used 10000, Requested 1. Please try again in 8.64s. Visit https://platform.openai.com/account/rate-limits to learn more.', 'type': 'requests', 'param': None, 'code': 'rate_limit_exceeded'}}\n",
      "fosinopril renal failure\n",
      "Encountered an exception for row: indomethacin renal failure. Error message below:\n",
      "Error code: 429 - {'error': {'message': 'Rate limit reached for gpt-3.5-turbo in organization org-wi3cHq5g1FGXIxQyl0trnye1 on requests per day (RPD): Limit 10000, Used 10000, Requested 1. Please try again in 8.64s. Visit https://platform.openai.com/account/rate-limits to learn more.', 'type': 'requests', 'param': None, 'code': 'rate_limit_exceeded'}}\n",
      "moexipril renal failure\n",
      "Encountered an exception for row: triazolam hepatic failure. Error message below:\n",
      "Error code: 429 - {'error': {'message': 'Rate limit reached for gpt-3.5-turbo in organization org-wi3cHq5g1FGXIxQyl0trnye1 on requests per day (RPD): Limit 10000, Used 10000, Requested 1. Please try again in 8.64s. Visit https://platform.openai.com/account/rate-limits to learn more.', 'type': 'requests', 'param': None, 'code': 'rate_limit_exceeded'}}\n",
      "rosuvastatin acute kidney injury\n",
      "pregabalin acute kidney injury\n"
     ]
    },
    {
     "name": "stderr",
     "output_type": "stream",
     "text": [
      " 48%|████▊     | 909/1894 [04:40<25:47,  1.57s/it]"
     ]
    },
    {
     "name": "stdout",
     "output_type": "stream",
     "text": [
      "Encountered an exception for row: etodolac hepatic necrosis. Error message below:\n",
      "Error code: 429 - {'error': {'message': 'Rate limit reached for gpt-3.5-turbo in organization org-wi3cHq5g1FGXIxQyl0trnye1 on requests per day (RPD): Limit 10000, Used 10000, Requested 1. Please try again in 8.64s. Visit https://platform.openai.com/account/rate-limits to learn more.', 'type': 'requests', 'param': None, 'code': 'rate_limit_exceeded'}}\n",
      "tolmetin gastrointestinal haemorrhage\n"
     ]
    },
    {
     "name": "stderr",
     "output_type": "stream",
     "text": [
      " 48%|████▊     | 910/1894 [04:40<23:33,  1.44s/it]"
     ]
    },
    {
     "name": "stdout",
     "output_type": "stream",
     "text": [
      "Encountered an exception for row: ibuprofen hepatic failure. Error message below:\n",
      "Error code: 429 - {'error': {'message': 'Rate limit reached for gpt-3.5-turbo in organization org-wi3cHq5g1FGXIxQyl0trnye1 on requests per day (RPD): Limit 10000, Used 10000, Requested 1. Please try again in 8.64s. Visit https://platform.openai.com/account/rate-limits to learn more.', 'type': 'requests', 'param': None, 'code': 'rate_limit_exceeded'}}\n",
      "nebivolol myocardial infarction\n",
      "erlotinib haematemesis\n"
     ]
    },
    {
     "name": "stderr",
     "output_type": "stream",
     "text": [
      " 48%|████▊     | 911/1894 [04:42<25:00,  1.53s/it]"
     ]
    },
    {
     "name": "stdout",
     "output_type": "stream",
     "text": [
      "Encountered an exception for row: ibuprofen myocardial infarction. Error message below:\n",
      "Error code: 429 - {'error': {'message': 'Rate limit reached for gpt-3.5-turbo in organization org-wi3cHq5g1FGXIxQyl0trnye1 on requests per day (RPD): Limit 10000, Used 10000, Requested 1. Please try again in 8.64s. Visit https://platform.openai.com/account/rate-limits to learn more.', 'type': 'requests', 'param': None, 'code': 'rate_limit_exceeded'}}\n",
      "trandolapril myocardial infarction\n"
     ]
    },
    {
     "name": "stderr",
     "output_type": "stream",
     "text": [
      " 48%|████▊     | 913/1894 [04:49<33:52,  2.07s/it]"
     ]
    },
    {
     "name": "stdout",
     "output_type": "stream",
     "text": [
      "Encountered an exception for row: fosinopril renal failure. Error message below:\n",
      "Error code: 429 - {'error': {'message': 'Rate limit reached for gpt-3.5-turbo in organization org-wi3cHq5g1FGXIxQyl0trnye1 on requests per day (RPD): Limit 10000, Used 10000, Requested 1. Please try again in 8.64s. Visit https://platform.openai.com/account/rate-limits to learn more.', 'type': 'requests', 'param': None, 'code': 'rate_limit_exceeded'}}\n",
      "dexlansoprazole myocardial infarction\n",
      "Encountered an exception for row: losartan myocardial infarction. Error message below:\n",
      "Error code: 429 - {'error': {'message': 'Rate limit reached for gpt-3.5-turbo in organization org-wi3cHq5g1FGXIxQyl0trnye1 on requests per day (RPD): Limit 10000, Used 10000, Requested 1. Please try again in 8.64s. Visit https://platform.openai.com/account/rate-limits to learn more.', 'type': 'requests', 'param': None, 'code': 'rate_limit_exceeded'}}\n",
      "probenecid hepatic necrosis\n",
      "Encountered an exception for row: rosuvastatin acute kidney injury. Error message below:\n",
      "Error code: 429 - {'error': {'message': 'Rate limit reached for gpt-3.5-turbo in organization org-wi3cHq5g1FGXIxQyl0trnye1 on requests per day (RPD): Limit 10000, Used 10000, Requested 1. Please try again in 8.64s. Visit https://platform.openai.com/account/rate-limits to learn more.', 'type': 'requests', 'param': None, 'code': 'rate_limit_exceeded'}}\n",
      "amiodarone liver function test abnormal\n",
      "Encountered an exception for row: cefprozil renal impairment. Error message below:\n",
      "Error code: 429 - {'error': {'message': 'Rate limit reached for gpt-3.5-turbo in organization org-wi3cHq5g1FGXIxQyl0trnye1 on requests per day (RPD): Limit 10000, Used 10000, Requested 1. Please try again in 8.64s. Visit https://platform.openai.com/account/rate-limits to learn more.', 'type': 'requests', 'param': None, 'code': 'rate_limit_exceeded'}}\n",
      "escitalopram hepatic enzyme increased\n",
      "Encountered an exception for row: pregabalin acute kidney injury. Error message below:\n",
      "Error code: 429 - {'error': {'message': 'Rate limit reached for gpt-3.5-turbo in organization org-wi3cHq5g1FGXIxQyl0trnye1 on requests per day (RPD): Limit 10000, Used 10000, Requested 1. Please try again in 8.64s. Visit https://platform.openai.com/account/rate-limits to learn more.', 'type': 'requests', 'param': None, 'code': 'rate_limit_exceeded'}}\n",
      "dasatinib myocardial infarction\n",
      "hydroxyurea hepatotoxicity\n",
      "Encountered an exception for row: moexipril renal failure. Error message below:\n",
      "Error code: 429 - {'error': {'message': 'Rate limit reached for gpt-3.5-turbo in organization org-wi3cHq5g1FGXIxQyl0trnye1 on requests per day (RPD): Limit 10000, Used 10000, Requested 1. Please try again in 8.64s. Visit https://platform.openai.com/account/rate-limits to learn more.', 'type': 'requests', 'param': None, 'code': 'rate_limit_exceeded'}}\n",
      "phenobarbital liver injury\n",
      "Encountered an exception for row: rasagiline myocardial infarction. Error message below:\n",
      "Error code: 429 - {'error': {'message': 'Rate limit reached for gpt-3.5-turbo in organization org-wi3cHq5g1FGXIxQyl0trnye1 on requests per day (RPD): Limit 10000, Used 10000, Requested 1. Please try again in 8.64s. Visit https://platform.openai.com/account/rate-limits to learn more.', 'type': 'requests', 'param': None, 'code': 'rate_limit_exceeded'}}\n",
      "cefditoren acute kidney injury\n"
     ]
    },
    {
     "name": "stderr",
     "output_type": "stream",
     "text": [
      " 49%|████▊     | 922/1894 [04:58<22:21,  1.38s/it]"
     ]
    },
    {
     "name": "stdout",
     "output_type": "stream",
     "text": [
      "cefuroxime hepatic enzyme increased\n"
     ]
    },
    {
     "name": "stderr",
     "output_type": "stream",
     "text": [
      " 49%|████▊     | 923/1894 [05:00<22:57,  1.42s/it]"
     ]
    },
    {
     "name": "stdout",
     "output_type": "stream",
     "text": [
      "Encountered an exception for row: trandolapril myocardial infarction. Error message below:\n",
      "Error code: 429 - {'error': {'message': 'Rate limit reached for gpt-3.5-turbo in organization org-wi3cHq5g1FGXIxQyl0trnye1 on requests per day (RPD): Limit 10000, Used 10000, Requested 1. Please try again in 8.64s. Visit https://platform.openai.com/account/rate-limits to learn more.', 'type': 'requests', 'param': None, 'code': 'rate_limit_exceeded'}}\n",
      "sulfasalazine hepatic necrosis\n"
     ]
    },
    {
     "name": "stderr",
     "output_type": "stream",
     "text": [
      " 49%|████▉     | 924/1894 [05:07<33:52,  2.10s/it]"
     ]
    },
    {
     "name": "stdout",
     "output_type": "stream",
     "text": [
      "Encountered an exception for row: probenecid hepatic necrosis. Error message below:\n",
      "Error code: 429 - {'error': {'message': 'Rate limit reached for gpt-3.5-turbo in organization org-wi3cHq5g1FGXIxQyl0trnye1 on requests per day (RPD): Limit 10000, Used 10000, Requested 1. Please try again in 8.64s. Visit https://platform.openai.com/account/rate-limits to learn more.', 'type': 'requests', 'param': None, 'code': 'rate_limit_exceeded'}}\n",
      "olsalazine hepatic enzyme increased\n",
      "Encountered an exception for row: escitalopram hepatic enzyme increased. Error message below:\n",
      "Error code: 429 - {'error': {'message': 'Rate limit reached for gpt-3.5-turbo in organization org-wi3cHq5g1FGXIxQyl0trnye1 on requests per day (RPD): Limit 10000, Used 10000, Requested 1. Please try again in 8.64s. Visit https://platform.openai.com/account/rate-limits to learn more.', 'type': 'requests', 'param': None, 'code': 'rate_limit_exceeded'}}\n",
      "insulin glargine myocardial infarction\n",
      "Encountered an exception for row: amiodarone liver function test abnormal. Error message below:\n",
      "Error code: 429 - {'error': {'message': 'Rate limit reached for gpt-3.5-turbo in organization org-wi3cHq5g1FGXIxQyl0trnye1 on requests per day (RPD): Limit 10000, Used 10000, Requested 1. Please try again in 8.64s. Visit https://platform.openai.com/account/rate-limits to learn more.', 'type': 'requests', 'param': None, 'code': 'rate_limit_exceeded'}}\n",
      "fenoprofen gastrointestinal haemorrhage\n",
      "naproxen hepatotoxicity\n",
      "Encountered an exception for row: cefditoren acute kidney injury. Error message below:\n",
      "Error code: 429 - {'error': {'message': 'Rate limit reached for gpt-3.5-turbo in organization org-wi3cHq5g1FGXIxQyl0trnye1 on requests per day (RPD): Limit 10000, Used 10000, Requested 1. Please try again in 8.64s. Visit https://platform.openai.com/account/rate-limits to learn more.', 'type': 'requests', 'param': None, 'code': 'rate_limit_exceeded'}}\n",
      "indomethacin hepatotoxicity\n",
      "Encountered an exception for row: dasatinib myocardial infarction. Error message below:\n",
      "Error code: 429 - {'error': {'message': 'Rate limit reached for gpt-3.5-turbo in organization org-wi3cHq5g1FGXIxQyl0trnye1 on requests per day (RPD): Limit 10000, Used 10000, Requested 1. Please try again in 8.64s. Visit https://platform.openai.com/account/rate-limits to learn more.', 'type': 'requests', 'param': None, 'code': 'rate_limit_exceeded'}}\n",
      "felbamate renal failure\n",
      "Encountered an exception for row: phenobarbital liver injury. Error message below:\n",
      "Error code: 429 - {'error': {'message': 'Rate limit reached for gpt-3.5-turbo in organization org-wi3cHq5g1FGXIxQyl0trnye1 on requests per day (RPD): Limit 10000, Used 10000, Requested 1. Please try again in 8.64s. Visit https://platform.openai.com/account/rate-limits to learn more.', 'type': 'requests', 'param': None, 'code': 'rate_limit_exceeded'}}\n",
      "oxaprozin hepatotoxicity\n",
      "Encountered an exception for row: hydroxyurea hepatotoxicity. Error message below:\n",
      "Error code: 429 - {'error': {'message': 'Rate limit reached for gpt-3.5-turbo in organization org-wi3cHq5g1FGXIxQyl0trnye1 on requests per day (RPD): Limit 10000, Used 10000, Requested 1. Please try again in 8.64s. Visit https://platform.openai.com/account/rate-limits to learn more.', 'type': 'requests', 'param': None, 'code': 'rate_limit_exceeded'}}\n",
      "flucytosine renal failure\n"
     ]
    },
    {
     "name": "stderr",
     "output_type": "stream",
     "text": [
      " 49%|████▉     | 932/1894 [05:17<25:07,  1.57s/it]"
     ]
    },
    {
     "name": "stdout",
     "output_type": "stream",
     "text": [
      "fosphenytoin renal failure\n"
     ]
    },
    {
     "name": "stderr",
     "output_type": "stream",
     "text": [
      " 49%|████▉     | 933/1894 [05:18<24:42,  1.54s/it]"
     ]
    },
    {
     "name": "stdout",
     "output_type": "stream",
     "text": [
      "Encountered an exception for row: sulfasalazine hepatic necrosis. Error message below:\n",
      "Error code: 429 - {'error': {'message': 'Rate limit reached for gpt-3.5-turbo in organization org-wi3cHq5g1FGXIxQyl0trnye1 on requests per day (RPD): Limit 10000, Used 10000, Requested 1. Please try again in 8.64s. Visit https://platform.openai.com/account/rate-limits to learn more.', 'type': 'requests', 'param': None, 'code': 'rate_limit_exceeded'}}\n",
      "sertraline hepatic enzyme increased\n"
     ]
    },
    {
     "name": "stderr",
     "output_type": "stream",
     "text": [
      " 49%|████▉     | 934/1894 [05:25<35:24,  2.21s/it]"
     ]
    },
    {
     "name": "stdout",
     "output_type": "stream",
     "text": [
      "Encountered an exception for row: insulin glargine myocardial infarction. Error message below:\n",
      "Error code: 429 - {'error': {'message': 'Rate limit reached for gpt-3.5-turbo in organization org-wi3cHq5g1FGXIxQyl0trnye1 on requests per day (RPD): Limit 10000, Used 10000, Requested 1. Please try again in 8.64s. Visit https://platform.openai.com/account/rate-limits to learn more.', 'type': 'requests', 'param': None, 'code': 'rate_limit_exceeded'}}\n",
      "zoledronic acid renal impairment\n",
      "Encountered an exception for row: fenoprofen gastrointestinal haemorrhage. Error message below:\n",
      "Error code: 429 - {'error': {'message': 'Rate limit reached for gpt-3.5-turbo in organization org-wi3cHq5g1FGXIxQyl0trnye1 on requests per day (RPD): Limit 10000, Used 10000, Requested 1. Please try again in 8.64s. Visit https://platform.openai.com/account/rate-limits to learn more.', 'type': 'requests', 'param': None, 'code': 'rate_limit_exceeded'}}\n",
      "flutamide hepatic necrosis\n",
      "azacitidine gastrointestinal haemorrhage\n"
     ]
    },
    {
     "name": "stderr",
     "output_type": "stream",
     "text": [
      " 49%|████▉     | 937/1894 [05:26<24:17,  1.52s/it]"
     ]
    },
    {
     "name": "stdout",
     "output_type": "stream",
     "text": [
      "Encountered an exception for row: felbamate renal failure. Error message below:\n",
      "Error code: 429 - {'error': {'message': 'Rate limit reached for gpt-3.5-turbo in organization org-wi3cHq5g1FGXIxQyl0trnye1 on requests per day (RPD): Limit 10000, Used 10000, Requested 1. Please try again in 8.64s. Visit https://platform.openai.com/account/rate-limits to learn more.', 'type': 'requests', 'param': None, 'code': 'rate_limit_exceeded'}}\n",
      "azacitidine renal failure\n",
      "Encountered an exception for row: indomethacin hepatotoxicity. Error message below:\n",
      "Error code: 429 - {'error': {'message': 'Rate limit reached for gpt-3.5-turbo in organization org-wi3cHq5g1FGXIxQyl0trnye1 on requests per day (RPD): Limit 10000, Used 10000, Requested 1. Please try again in 8.64s. Visit https://platform.openai.com/account/rate-limits to learn more.', 'type': 'requests', 'param': None, 'code': 'rate_limit_exceeded'}}\n",
      "voriconazole hepatic failure\n",
      "Encountered an exception for row: flucytosine renal failure. Error message below:\n",
      "Error code: 429 - {'error': {'message': 'Rate limit reached for gpt-3.5-turbo in organization org-wi3cHq5g1FGXIxQyl0trnye1 on requests per day (RPD): Limit 10000, Used 10000, Requested 1. Please try again in 8.64s. Visit https://platform.openai.com/account/rate-limits to learn more.', 'type': 'requests', 'param': None, 'code': 'rate_limit_exceeded'}}\n",
      "penicillamine renal failure\n",
      "Encountered an exception for row: naproxen hepatotoxicity. Error message below:\n",
      "Error code: 429 - {'error': {'message': 'Rate limit reached for gpt-3.5-turbo in organization org-wi3cHq5g1FGXIxQyl0trnye1 on requests per day (RPD): Limit 10000, Used 10000, Requested 1. Please try again in 8.64s. Visit https://platform.openai.com/account/rate-limits to learn more.', 'type': 'requests', 'param': None, 'code': 'rate_limit_exceeded'}}\n",
      "hydralazine myocardial infarction\n",
      "Encountered an exception for row: oxaprozin hepatotoxicity. Error message below:\n",
      "Error code: 429 - {'error': {'message': 'Rate limit reached for gpt-3.5-turbo in organization org-wi3cHq5g1FGXIxQyl0trnye1 on requests per day (RPD): Limit 10000, Used 10000, Requested 1. Please try again in 8.64s. Visit https://platform.openai.com/account/rate-limits to learn more.', 'type': 'requests', 'param': None, 'code': 'rate_limit_exceeded'}}\n",
      "tiopronin renal failure\n",
      "cefoxitin acute kidney injury\n"
     ]
    },
    {
     "name": "stderr",
     "output_type": "stream",
     "text": [
      " 50%|████▉     | 942/1894 [05:35<26:01,  1.64s/it]"
     ]
    },
    {
     "name": "stdout",
     "output_type": "stream",
     "text": [
      "Encountered an exception for row: fosphenytoin renal failure. Error message below:\n",
      "Error code: 429 - {'error': {'message': 'Rate limit reached for gpt-3.5-turbo in organization org-wi3cHq5g1FGXIxQyl0trnye1 on requests per day (RPD): Limit 10000, Used 10000, Requested 1. Please try again in 8.64s. Visit https://platform.openai.com/account/rate-limits to learn more.', 'type': 'requests', 'param': None, 'code': 'rate_limit_exceeded'}}\n",
      "teriflunomide acute kidney injury\n"
     ]
    },
    {
     "name": "stderr",
     "output_type": "stream",
     "text": [
      " 50%|████▉     | 943/1894 [05:36<25:32,  1.61s/it]"
     ]
    },
    {
     "name": "stdout",
     "output_type": "stream",
     "text": [
      "Encountered an exception for row: sertraline hepatic enzyme increased. Error message below:\n",
      "Error code: 429 - {'error': {'message': 'Rate limit reached for gpt-3.5-turbo in organization org-wi3cHq5g1FGXIxQyl0trnye1 on requests per day (RPD): Limit 10000, Used 10000, Requested 1. Please try again in 8.64s. Visit https://platform.openai.com/account/rate-limits to learn more.', 'type': 'requests', 'param': None, 'code': 'rate_limit_exceeded'}}\n",
      "dactinomycin renal impairment\n"
     ]
    },
    {
     "name": "stderr",
     "output_type": "stream",
     "text": [
      " 50%|████▉     | 944/1894 [05:43<37:37,  2.38s/it]"
     ]
    },
    {
     "name": "stdout",
     "output_type": "stream",
     "text": [
      "Encountered an exception for row: azacitidine gastrointestinal haemorrhage. Error message below:\n",
      "Error code: 429 - {'error': {'message': 'Rate limit reached for gpt-3.5-turbo in organization org-wi3cHq5g1FGXIxQyl0trnye1 on requests per day (RPD): Limit 10000, Used 10000, Requested 1. Please try again in 8.64s. Visit https://platform.openai.com/account/rate-limits to learn more.', 'type': 'requests', 'param': None, 'code': 'rate_limit_exceeded'}}\n",
      "apixaban gastrointestinal haemorrhage\n",
      "foscarnet gastrointestinal haemorrhage\n"
     ]
    },
    {
     "name": "stderr",
     "output_type": "stream",
     "text": [
      " 50%|█████     | 947/1894 [05:44<24:33,  1.56s/it]"
     ]
    },
    {
     "name": "stdout",
     "output_type": "stream",
     "text": [
      "Encountered an exception for row: penicillamine renal failure. Error message below:\n",
      "Error code: 429 - {'error': {'message': 'Rate limit reached for gpt-3.5-turbo in organization org-wi3cHq5g1FGXIxQyl0trnye1 on requests per day (RPD): Limit 10000, Used 10000, Requested 1. Please try again in 8.64s. Visit https://platform.openai.com/account/rate-limits to learn more.', 'type': 'requests', 'param': None, 'code': 'rate_limit_exceeded'}}\n",
      "paroxetine hepatic failure\n",
      "Encountered an exception for row: hydralazine myocardial infarction. Error message below:\n",
      "Error code: 429 - {'error': {'message': 'Rate limit reached for gpt-3.5-turbo in organization org-wi3cHq5g1FGXIxQyl0trnye1 on requests per day (RPD): Limit 10000, Used 10000, Requested 1. Please try again in 8.64s. Visit https://platform.openai.com/account/rate-limits to learn more.', 'type': 'requests', 'param': None, 'code': 'rate_limit_exceeded'}}\n",
      "dimethyl fumarate liver injury\n",
      "Encountered an exception for row: azacitidine renal failure. Error message below:\n",
      "Error code: 429 - {'error': {'message': 'Rate limit reached for gpt-3.5-turbo in organization org-wi3cHq5g1FGXIxQyl0trnye1 on requests per day (RPD): Limit 10000, Used 10000, Requested 1. Please try again in 8.64s. Visit https://platform.openai.com/account/rate-limits to learn more.', 'type': 'requests', 'param': None, 'code': 'rate_limit_exceeded'}}\n",
      "dolasetron acute kidney injury\n",
      "Encountered an exception for row: voriconazole hepatic failure. Error message below:\n",
      "Error code: 429 - {'error': {'message': 'Rate limit reached for gpt-3.5-turbo in organization org-wi3cHq5g1FGXIxQyl0trnye1 on requests per day (RPD): Limit 10000, Used 10000, Requested 1. Please try again in 8.64s. Visit https://platform.openai.com/account/rate-limits to learn more.', 'type': 'requests', 'param': None, 'code': 'rate_limit_exceeded'}}\n",
      "estradiol liver function test abnormal\n",
      "Encountered an exception for row: tiopronin renal failure. Error message below:\n",
      "Error code: 429 - {'error': {'message': 'Rate limit reached for gpt-3.5-turbo in organization org-wi3cHq5g1FGXIxQyl0trnye1 on requests per day (RPD): Limit 10000, Used 10000, Requested 1. Please try again in 8.64s. Visit https://platform.openai.com/account/rate-limits to learn more.', 'type': 'requests', 'param': None, 'code': 'rate_limit_exceeded'}}\n",
      "trastuzumab acute kidney injury\n"
     ]
    },
    {
     "name": "stderr",
     "output_type": "stream",
     "text": [
      " 50%|█████     | 953/1894 [05:53<22:50,  1.46s/it]"
     ]
    },
    {
     "name": "stdout",
     "output_type": "stream",
     "text": [
      "Encountered an exception for row: cefoxitin acute kidney injury. Error message below:\n",
      "Error code: 429 - {'error': {'message': 'Rate limit reached for gpt-3.5-turbo in organization org-wi3cHq5g1FGXIxQyl0trnye1 on requests per day (RPD): Limit 10000, Used 10000, Requested 1. Please try again in 8.64s. Visit https://platform.openai.com/account/rate-limits to learn more.', 'type': 'requests', 'param': None, 'code': 'rate_limit_exceeded'}}\n",
      "mycophenolic acid gastrointestinal haemorrhage\n",
      "mycophenolic acid liver function test abnormal\n",
      "Encountered an exception for row: teriflunomide acute kidney injury. Error message below:\n",
      "Error code: 429 - {'error': {'message': 'Rate limit reached for gpt-3.5-turbo in organization org-wi3cHq5g1FGXIxQyl0trnye1 on requests per day (RPD): Limit 10000, Used 10000, Requested 1. Please try again in 8.64s. Visit https://platform.openai.com/account/rate-limits to learn more.', 'type': 'requests', 'param': None, 'code': 'rate_limit_exceeded'}}\n",
      "duvelisib hepatocellular injury\n"
     ]
    },
    {
     "name": "stderr",
     "output_type": "stream",
     "text": [
      " 50%|█████     | 954/1894 [05:54<22:39,  1.45s/it]"
     ]
    },
    {
     "name": "stdout",
     "output_type": "stream",
     "text": [
      "Encountered an exception for row: dactinomycin renal impairment. Error message below:\n",
      "Error code: 429 - {'error': {'message': 'Rate limit reached for gpt-3.5-turbo in organization org-wi3cHq5g1FGXIxQyl0trnye1 on requests per day (RPD): Limit 10000, Used 10000, Requested 1. Please try again in 8.64s. Visit https://platform.openai.com/account/rate-limits to learn more.', 'type': 'requests', 'param': None, 'code': 'rate_limit_exceeded'}}\n",
      "tretinoin renal failure\n"
     ]
    },
    {
     "name": "stderr",
     "output_type": "stream",
     "text": [
      " 50%|█████     | 956/1894 [06:01<32:53,  2.10s/it]"
     ]
    },
    {
     "name": "stdout",
     "output_type": "stream",
     "text": [
      "peginterferon alfa-2a hepatic failure\n"
     ]
    },
    {
     "name": "stderr",
     "output_type": "stream",
     "text": [
      " 51%|█████     | 957/1894 [06:02<27:55,  1.79s/it]"
     ]
    },
    {
     "name": "stdout",
     "output_type": "stream",
     "text": [
      "Encountered an exception for row: paroxetine hepatic failure. Error message below:\n",
      "Error code: 429 - {'error': {'message': 'Rate limit reached for gpt-3.5-turbo in organization org-wi3cHq5g1FGXIxQyl0trnye1 on requests per day (RPD): Limit 10000, Used 10000, Requested 1. Please try again in 8.64s. Visit https://platform.openai.com/account/rate-limits to learn more.', 'type': 'requests', 'param': None, 'code': 'rate_limit_exceeded'}}\n",
      "tolvaptan gastrointestinal haemorrhage\n",
      "Encountered an exception for row: dimethyl fumarate liver injury. Error message below:\n",
      "Error code: 429 - {'error': {'message': 'Rate limit reached for gpt-3.5-turbo in organization org-wi3cHq5g1FGXIxQyl0trnye1 on requests per day (RPD): Limit 10000, Used 10000, Requested 1. Please try again in 8.64s. Visit https://platform.openai.com/account/rate-limits to learn more.', 'type': 'requests', 'param': None, 'code': 'rate_limit_exceeded'}}\n",
      "everolimus renal failure\n",
      "Encountered an exception for row: dolasetron acute kidney injury. Error message below:\n",
      "Error code: 429 - {'error': {'message': 'Rate limit reached for gpt-3.5-turbo in organization org-wi3cHq5g1FGXIxQyl0trnye1 on requests per day (RPD): Limit 10000, Used 10000, Requested 1. Please try again in 8.64s. Visit https://platform.openai.com/account/rate-limits to learn more.', 'type': 'requests', 'param': None, 'code': 'rate_limit_exceeded'}}\n",
      "siltuximab renal impairment\n",
      "Encountered an exception for row: trastuzumab acute kidney injury. Error message below:\n",
      "Error code: 429 - {'error': {'message': 'Rate limit reached for gpt-3.5-turbo in organization org-wi3cHq5g1FGXIxQyl0trnye1 on requests per day (RPD): Limit 10000, Used 10000, Requested 1. Please try again in 8.64s. Visit https://platform.openai.com/account/rate-limits to learn more.', 'type': 'requests', 'param': None, 'code': 'rate_limit_exceeded'}}\n",
      "everolimus liver function test abnormal\n"
     ]
    },
    {
     "name": "stderr",
     "output_type": "stream",
     "text": [
      " 51%|█████     | 960/1894 [06:02<16:26,  1.06s/it]"
     ]
    },
    {
     "name": "stdout",
     "output_type": "stream",
     "text": [
      "Encountered an exception for row: estradiol liver function test abnormal. Error message below:\n",
      "Error code: 429 - {'error': {'message': 'Rate limit reached for gpt-3.5-turbo in organization org-wi3cHq5g1FGXIxQyl0trnye1 on requests per day (RPD): Limit 10000, Used 10000, Requested 1. Please try again in 8.64s. Visit https://platform.openai.com/account/rate-limits to learn more.', 'type': 'requests', 'param': None, 'code': 'rate_limit_exceeded'}}\n",
      "everolimus hepatic enzyme increased\n"
     ]
    },
    {
     "name": "stderr",
     "output_type": "stream",
     "text": [
      " 51%|█████     | 962/1894 [06:10<30:46,  1.98s/it]"
     ]
    },
    {
     "name": "stdout",
     "output_type": "stream",
     "text": [
      "glatiramer renal failure\n",
      "Encountered an exception for row: duvelisib hepatocellular injury. Error message below:\n",
      "Error code: 429 - {'error': {'message': 'Rate limit reached for gpt-3.5-turbo in organization org-wi3cHq5g1FGXIxQyl0trnye1 on requests per day (RPD): Limit 10000, Used 10000, Requested 1. Please try again in 8.64s. Visit https://platform.openai.com/account/rate-limits to learn more.', 'type': 'requests', 'param': None, 'code': 'rate_limit_exceeded'}}\n",
      "alectinib hepatotoxicity\n",
      "Encountered an exception for row: mycophenolic acid liver function test abnormal. Error message below:\n",
      "Error code: 429 - {'error': {'message': 'Rate limit reached for gpt-3.5-turbo in organization org-wi3cHq5g1FGXIxQyl0trnye1 on requests per day (RPD): Limit 10000, Used 10000, Requested 1. Please try again in 8.64s. Visit https://platform.openai.com/account/rate-limits to learn more.', 'type': 'requests', 'param': None, 'code': 'rate_limit_exceeded'}}\n",
      "methotrexate renal impairment\n"
     ]
    },
    {
     "name": "stderr",
     "output_type": "stream",
     "text": [
      " 51%|█████     | 965/1894 [06:12<22:07,  1.43s/it]"
     ]
    },
    {
     "name": "stdout",
     "output_type": "stream",
     "text": [
      "Encountered an exception for row: tretinoin renal failure. Error message below:\n",
      "Error code: 429 - {'error': {'message': 'Rate limit reached for gpt-3.5-turbo in organization org-wi3cHq5g1FGXIxQyl0trnye1 on requests per day (RPD): Limit 10000, Used 10000, Requested 1. Please try again in 8.64s. Visit https://platform.openai.com/account/rate-limits to learn more.', 'type': 'requests', 'param': None, 'code': 'rate_limit_exceeded'}}\n",
      "lapatinib hepatotoxicity\n"
     ]
    },
    {
     "name": "stderr",
     "output_type": "stream",
     "text": [
      " 51%|█████     | 966/1894 [06:19<36:34,  2.36s/it]"
     ]
    },
    {
     "name": "stdout",
     "output_type": "stream",
     "text": [
      "bevacizumab gastrointestinal haemorrhage\n",
      "Encountered an exception for row: everolimus liver function test abnormal. Error message below:\n",
      "Error code: 429 - {'error': {'message': 'Rate limit reached for gpt-3.5-turbo in organization org-wi3cHq5g1FGXIxQyl0trnye1 on requests per day (RPD): Limit 10000, Used 10000, Requested 1. Please try again in 8.64s. Visit https://platform.openai.com/account/rate-limits to learn more.', 'type': 'requests', 'param': None, 'code': 'rate_limit_exceeded'}}\n",
      "carfilzomib renal failure\n",
      "Encountered an exception for row: tolvaptan gastrointestinal haemorrhage. Error message below:\n",
      "Error code: 429 - {'error': {'message': 'Rate limit reached for gpt-3.5-turbo in organization org-wi3cHq5g1FGXIxQyl0trnye1 on requests per day (RPD): Limit 10000, Used 10000, Requested 1. Please try again in 8.64s. Visit https://platform.openai.com/account/rate-limits to learn more.', 'type': 'requests', 'param': None, 'code': 'rate_limit_exceeded'}}\n",
      "nintedanib liver injury\n",
      "Encountered an exception for row: everolimus renal failure. Error message below:\n",
      "Error code: 429 - {'error': {'message': 'Rate limit reached for gpt-3.5-turbo in organization org-wi3cHq5g1FGXIxQyl0trnye1 on requests per day (RPD): Limit 10000, Used 10000, Requested 1. Please try again in 8.64s. Visit https://platform.openai.com/account/rate-limits to learn more.', 'type': 'requests', 'param': None, 'code': 'rate_limit_exceeded'}}\n",
      "prucalopride myocardial infarction\n",
      "Encountered an exception for row: siltuximab renal impairment. Error message below:\n",
      "Error code: 429 - {'error': {'message': 'Rate limit reached for gpt-3.5-turbo in organization org-wi3cHq5g1FGXIxQyl0trnye1 on requests per day (RPD): Limit 10000, Used 10000, Requested 1. Please try again in 8.64s. Visit https://platform.openai.com/account/rate-limits to learn more.', 'type': 'requests', 'param': None, 'code': 'rate_limit_exceeded'}}\n",
      "levocarnitine renal failure\n"
     ]
    },
    {
     "name": "stderr",
     "output_type": "stream",
     "text": [
      " 51%|█████▏    | 971/1894 [06:20<17:41,  1.15s/it]"
     ]
    },
    {
     "name": "stdout",
     "output_type": "stream",
     "text": [
      "Encountered an exception for row: everolimus hepatic enzyme increased. Error message below:\n",
      "Error code: 429 - {'error': {'message': 'Rate limit reached for gpt-3.5-turbo in organization org-wi3cHq5g1FGXIxQyl0trnye1 on requests per day (RPD): Limit 10000, Used 10000, Requested 1. Please try again in 8.64s. Visit https://platform.openai.com/account/rate-limits to learn more.', 'type': 'requests', 'param': None, 'code': 'rate_limit_exceeded'}}\n",
      "fostamatinib hepatotoxicity\n"
     ]
    },
    {
     "name": "stderr",
     "output_type": "stream",
     "text": [
      " 51%|█████▏    | 972/1894 [06:28<32:32,  2.12s/it]"
     ]
    },
    {
     "name": "stdout",
     "output_type": "stream",
     "text": [
      "Encountered an exception for row: methotrexate renal impairment. Error message below:\n",
      "Error code: 429 - {'error': {'message': 'Rate limit reached for gpt-3.5-turbo in organization org-wi3cHq5g1FGXIxQyl0trnye1 on requests per day (RPD): Limit 10000, Used 10000, Requested 1. Please try again in 8.64s. Visit https://platform.openai.com/account/rate-limits to learn more.', 'type': 'requests', 'param': None, 'code': 'rate_limit_exceeded'}}\n",
      "pretomanid hepatic enzyme increased\n",
      "Encountered an exception for row: alectinib hepatotoxicity. Error message below:\n",
      "Error code: 429 - {'error': {'message': 'Rate limit reached for gpt-3.5-turbo in organization org-wi3cHq5g1FGXIxQyl0trnye1 on requests per day (RPD): Limit 10000, Used 10000, Requested 1. Please try again in 8.64s. Visit https://platform.openai.com/account/rate-limits to learn more.', 'type': 'requests', 'param': None, 'code': 'rate_limit_exceeded'}}\n",
      "certolizumab pegol renal failure\n",
      "teriflunomide liver injury\n"
     ]
    },
    {
     "name": "stderr",
     "output_type": "stream",
     "text": [
      " 51%|█████▏    | 975/1894 [06:30<23:46,  1.55s/it]"
     ]
    },
    {
     "name": "stdout",
     "output_type": "stream",
     "text": [
      "Encountered an exception for row: lapatinib hepatotoxicity. Error message below:\n",
      "Error code: 429 - {'error': {'message': 'Rate limit reached for gpt-3.5-turbo in organization org-wi3cHq5g1FGXIxQyl0trnye1 on requests per day (RPD): Limit 10000, Used 10000, Requested 1. Please try again in 8.64s. Visit https://platform.openai.com/account/rate-limits to learn more.', 'type': 'requests', 'param': None, 'code': 'rate_limit_exceeded'}}\n",
      "sacituzumab renal failure\n"
     ]
    },
    {
     "name": "stderr",
     "output_type": "stream",
     "text": [
      " 52%|█████▏    | 977/1894 [06:37<30:32,  2.00s/it]"
     ]
    },
    {
     "name": "stdout",
     "output_type": "stream",
     "text": [
      "Encountered an exception for row: bevacizumab gastrointestinal haemorrhage. Error message below:\n",
      "Error code: 429 - {'error': {'message': 'Rate limit reached for gpt-3.5-turbo in organization org-wi3cHq5g1FGXIxQyl0trnye1 on requests per day (RPD): Limit 10000, Used 10000, Requested 1. Please try again in 8.64s. Visit https://platform.openai.com/account/rate-limits to learn more.', 'type': 'requests', 'param': None, 'code': 'rate_limit_exceeded'}}\n",
      "monomethyl fumarate liver injury\n",
      "Encountered an exception for row: carfilzomib renal failure. Error message below:\n",
      "Error code: 429 - {'error': {'message': 'Rate limit reached for gpt-3.5-turbo in organization org-wi3cHq5g1FGXIxQyl0trnye1 on requests per day (RPD): Limit 10000, Used 10000, Requested 1. Please try again in 8.64s. Visit https://platform.openai.com/account/rate-limits to learn more.', 'type': 'requests', 'param': None, 'code': 'rate_limit_exceeded'}}\n",
      "triptorelin myocardial infarction\n",
      "Encountered an exception for row: nintedanib liver injury. Error message below:\n",
      "Error code: 429 - {'error': {'message': 'Rate limit reached for gpt-3.5-turbo in organization org-wi3cHq5g1FGXIxQyl0trnye1 on requests per day (RPD): Limit 10000, Used 10000, Requested 1. Please try again in 8.64s. Visit https://platform.openai.com/account/rate-limits to learn more.', 'type': 'requests', 'param': None, 'code': 'rate_limit_exceeded'}}\n",
      "baricitinib hepatic enzyme increased\n",
      "Encountered an exception for row: levocarnitine renal failure. Error message below:\n",
      "Error code: 429 - {'error': {'message': 'Rate limit reached for gpt-3.5-turbo in organization org-wi3cHq5g1FGXIxQyl0trnye1 on requests per day (RPD): Limit 10000, Used 10000, Requested 1. Please try again in 8.64s. Visit https://platform.openai.com/account/rate-limits to learn more.', 'type': 'requests', 'param': None, 'code': 'rate_limit_exceeded'}}\n",
      "golimumab acute hepatic failure\n",
      "Encountered an exception for row: prucalopride myocardial infarction. Error message below:\n",
      "Error code: 429 - {'error': {'message': 'Rate limit reached for gpt-3.5-turbo in organization org-wi3cHq5g1FGXIxQyl0trnye1 on requests per day (RPD): Limit 10000, Used 10000, Requested 1. Please try again in 8.64s. Visit https://platform.openai.com/account/rate-limits to learn more.', 'type': 'requests', 'param': None, 'code': 'rate_limit_exceeded'}}\n",
      "belumosudil liver function test abnormal\n"
     ]
    },
    {
     "name": "stderr",
     "output_type": "stream",
     "text": [
      " 52%|█████▏    | 981/1894 [06:37<15:42,  1.03s/it]"
     ]
    },
    {
     "name": "stdout",
     "output_type": "stream",
     "text": [
      "rilonacept gastrointestinal haemorrhage\n",
      "Encountered an exception for row: fostamatinib hepatotoxicity. Error message below:\n",
      "Error code: 429 - {'error': {'message': 'Rate limit reached for gpt-3.5-turbo in organization org-wi3cHq5g1FGXIxQyl0trnye1 on requests per day (RPD): Limit 10000, Used 10000, Requested 1. Please try again in 8.64s. Visit https://platform.openai.com/account/rate-limits to learn more.', 'type': 'requests', 'param': None, 'code': 'rate_limit_exceeded'}}\n",
      "belinostat hepatic failure\n"
     ]
    },
    {
     "name": "stderr",
     "output_type": "stream",
     "text": [
      " 52%|█████▏    | 982/1894 [06:46<33:01,  2.17s/it]"
     ]
    },
    {
     "name": "stdout",
     "output_type": "stream",
     "text": [
      "Encountered an exception for row: teriflunomide liver injury. Error message below:\n",
      "Error code: 429 - {'error': {'message': 'Rate limit reached for gpt-3.5-turbo in organization org-wi3cHq5g1FGXIxQyl0trnye1 on requests per day (RPD): Limit 10000, Used 10000, Requested 1. Please try again in 8.64s. Visit https://platform.openai.com/account/rate-limits to learn more.', 'type': 'requests', 'param': None, 'code': 'rate_limit_exceeded'}}\n",
      "atezolizumab liver function test abnormal\n",
      "ferric carboxymaltose hepatic enzyme increased\n"
     ]
    },
    {
     "name": "stderr",
     "output_type": "stream",
     "text": [
      " 52%|█████▏    | 985/1894 [06:48<23:04,  1.52s/it]"
     ]
    },
    {
     "name": "stdout",
     "output_type": "stream",
     "text": [
      "Encountered an exception for row: sacituzumab renal failure. Error message below:\n",
      "Error code: 429 - {'error': {'message': 'Rate limit reached for gpt-3.5-turbo in organization org-wi3cHq5g1FGXIxQyl0trnye1 on requests per day (RPD): Limit 10000, Used 10000, Requested 1. Please try again in 8.64s. Visit https://platform.openai.com/account/rate-limits to learn more.', 'type': 'requests', 'param': None, 'code': 'rate_limit_exceeded'}}\n",
      "brentuximab vedotin renal impairment\n"
     ]
    },
    {
     "name": "stderr",
     "output_type": "stream",
     "text": [
      " 52%|█████▏    | 987/1894 [06:55<30:52,  2.04s/it]"
     ]
    },
    {
     "name": "stdout",
     "output_type": "stream",
     "text": [
      "Encountered an exception for row: baricitinib hepatic enzyme increased. Error message below:\n",
      "Error code: 429 - {'error': {'message': 'Rate limit reached for gpt-3.5-turbo in organization org-wi3cHq5g1FGXIxQyl0trnye1 on requests per day (RPD): Limit 10000, Used 10000, Requested 1. Please try again in 8.64s. Visit https://platform.openai.com/account/rate-limits to learn more.', 'type': 'requests', 'param': None, 'code': 'rate_limit_exceeded'}}\n",
      "leuprolide liver injury\n",
      "Encountered an exception for row: monomethyl fumarate liver injury. Error message below:\n",
      "Error code: 429 - {'error': {'message': 'Rate limit reached for gpt-3.5-turbo in organization org-wi3cHq5g1FGXIxQyl0trnye1 on requests per day (RPD): Limit 10000, Used 10000, Requested 1. Please try again in 8.64s. Visit https://platform.openai.com/account/rate-limits to learn more.', 'type': 'requests', 'param': None, 'code': 'rate_limit_exceeded'}}\n",
      "ipilimumab hepatotoxicity\n",
      "Encountered an exception for row: golimumab acute hepatic failure. Error message below:\n",
      "Error code: 429 - {'error': {'message': 'Rate limit reached for gpt-3.5-turbo in organization org-wi3cHq5g1FGXIxQyl0trnye1 on requests per day (RPD): Limit 10000, Used 10000, Requested 1. Please try again in 8.64s. Visit https://platform.openai.com/account/rate-limits to learn more.', 'type': 'requests', 'param': None, 'code': 'rate_limit_exceeded'}}\n",
      "tenofovir alafenamide acute kidney injury\n",
      "Encountered an exception for row: belumosudil liver function test abnormal. Error message below:\n",
      "Error code: 429 - {'error': {'message': 'Rate limit reached for gpt-3.5-turbo in organization org-wi3cHq5g1FGXIxQyl0trnye1 on requests per day (RPD): Limit 10000, Used 10000, Requested 1. Please try again in 8.64s. Visit https://platform.openai.com/account/rate-limits to learn more.', 'type': 'requests', 'param': None, 'code': 'rate_limit_exceeded'}}\n",
      "lurbinectedin hepatotoxicity\n",
      "Encountered an exception for row: rilonacept gastrointestinal haemorrhage. Error message below:\n",
      "Error code: 429 - {'error': {'message': 'Rate limit reached for gpt-3.5-turbo in organization org-wi3cHq5g1FGXIxQyl0trnye1 on requests per day (RPD): Limit 10000, Used 10000, Requested 1. Please try again in 8.64s. Visit https://platform.openai.com/account/rate-limits to learn more.', 'type': 'requests', 'param': None, 'code': 'rate_limit_exceeded'}}\n",
      "dihematoporphyrin ether myocardial infarction\n",
      "Encountered an exception for row: belinostat hepatic failure. Error message below:\n",
      "Error code: 429 - {'error': {'message': 'Rate limit reached for gpt-3.5-turbo in organization org-wi3cHq5g1FGXIxQyl0trnye1 on requests per day (RPD): Limit 10000, Used 10000, Requested 1. Please try again in 8.64s. Visit https://platform.openai.com/account/rate-limits to learn more.', 'type': 'requests', 'param': None, 'code': 'rate_limit_exceeded'}}\n",
      "siponimod hepatic enzyme increased\n",
      "doxazosin liver function test abnormal\n"
     ]
    },
    {
     "name": "stderr",
     "output_type": "stream",
     "text": [
      " 52%|█████▏    | 993/1894 [07:04<25:21,  1.69s/it]"
     ]
    },
    {
     "name": "stdout",
     "output_type": "stream",
     "text": [
      "Encountered an exception for row: ferric carboxymaltose hepatic enzyme increased. Error message below:\n",
      "Error code: 429 - {'error': {'message': 'Rate limit reached for gpt-3.5-turbo in organization org-wi3cHq5g1FGXIxQyl0trnye1 on requests per day (RPD): Limit 10000, Used 10000, Requested 1. Please try again in 8.64s. Visit https://platform.openai.com/account/rate-limits to learn more.', 'type': 'requests', 'param': None, 'code': 'rate_limit_exceeded'}}\n",
      "cabozantinib hepatic failure\n",
      "crizotinib hepatotoxicity\n"
     ]
    },
    {
     "name": "stderr",
     "output_type": "stream",
     "text": [
      " 53%|█████▎    | 995/1894 [07:05<21:53,  1.46s/it]"
     ]
    },
    {
     "name": "stdout",
     "output_type": "stream",
     "text": [
      "Encountered an exception for row: brentuximab vedotin renal impairment. Error message below:\n",
      "Error code: 429 - {'error': {'message': 'Rate limit reached for gpt-3.5-turbo in organization org-wi3cHq5g1FGXIxQyl0trnye1 on requests per day (RPD): Limit 10000, Used 10000, Requested 1. Please try again in 8.64s. Visit https://platform.openai.com/account/rate-limits to learn more.', 'type': 'requests', 'param': None, 'code': 'rate_limit_exceeded'}}\n",
      "irinotecan acute kidney injury\n"
     ]
    },
    {
     "name": "stderr",
     "output_type": "stream",
     "text": [
      " 53%|█████▎    | 996/1894 [07:13<34:59,  2.34s/it]"
     ]
    },
    {
     "name": "stdout",
     "output_type": "stream",
     "text": [
      "Encountered an exception for row: ipilimumab hepatotoxicity. Error message below:Encountered an exception for row: dihematoporphyrin ether myocardial infarction. Error message below:\n",
      "Error code: 429 - {'error': {'message': 'Rate limit reached for gpt-3.5-turbo in organization org-wi3cHq5g1FGXIxQyl0trnye1 on requests per day (RPD): Limit 10000, Used 10000, Requested 1. Please try again in 8.64s. Visit https://platform.openai.com/account/rate-limits to learn more.', 'type': 'requests', 'param': None, 'code': 'rate_limit_exceeded'}}\n",
      "zidovudine hepatotoxicity\n",
      "diflunisal myocardial infarction\n",
      "\n",
      "Error code: 429 - {'error': {'message': 'Rate limit reached for gpt-3.5-turbo in organization org-wi3cHq5g1FGXIxQyl0trnye1 on requests per day (RPD): Limit 10000, Used 10000, Requested 1. Please try again in 8.64s. Visit https://platform.openai.com/account/rate-limits to learn more.', 'type': 'requests', 'param': None, 'code': 'rate_limit_exceeded'}}\n",
      "norethindrone myocardial infarction\n",
      "Encountered an exception for row: lurbinectedin hepatotoxicity. Error message below:\n",
      "Error code: 429 - {'error': {'message': 'Rate limit reached for gpt-3.5-turbo in organization org-wi3cHq5g1FGXIxQyl0trnye1 on requests per day (RPD): Limit 10000, Used 10000, Requested 1. Please try again in 8.64s. Visit https://platform.openai.com/account/rate-limits to learn more.', 'type': 'requests', 'param': None, 'code': 'rate_limit_exceeded'}}\n",
      "ponatinib hepatic failure\n",
      "Encountered an exception for row: leuprolide liver injury. Error message below:\n",
      "Error code: 429 - {'error': {'message': 'Rate limit reached for gpt-3.5-turbo in organization org-wi3cHq5g1FGXIxQyl0trnye1 on requests per day (RPD): Limit 10000, Used 10000, Requested 1. Please try again in 8.64s. Visit https://platform.openai.com/account/rate-limits to learn more.', 'type': 'requests', 'param': None, 'code': 'rate_limit_exceeded'}}\n",
      "ponatinib myocardial infarction\n",
      "Encountered an exception for row: tenofovir alafenamide acute kidney injury. Error message below:\n",
      "Error code: 429 - {'error': {'message': 'Rate limit reached for gpt-3.5-turbo in organization org-wi3cHq5g1FGXIxQyl0trnye1 on requests per day (RPD): Limit 10000, Used 10000, Requested 1. Please try again in 8.64s. Visit https://platform.openai.com/account/rate-limits to learn more.', 'type': 'requests', 'param': None, 'code': 'rate_limit_exceeded'}}\n",
      "terlipressin hepatic failure\n",
      "Encountered an exception for row: siponimod hepatic enzyme increased. Error message below:\n",
      "Error code: 429 - {'error': {'message': 'Rate limit reached for gpt-3.5-turbo in organization org-wi3cHq5g1FGXIxQyl0trnye1 on requests per day (RPD): Limit 10000, Used 10000, Requested 1. Please try again in 8.64s. Visit https://platform.openai.com/account/rate-limits to learn more.', 'type': 'requests', 'param': None, 'code': 'rate_limit_exceeded'}}\n",
      "flurbiprofen myocardial infarction\n",
      "Encountered an exception for row: doxazosin liver function test abnormal. Error message below:\n",
      "Error code: 429 - {'error': {'message': 'Rate limit reached for gpt-3.5-turbo in organization org-wi3cHq5g1FGXIxQyl0trnye1 on requests per day (RPD): Limit 10000, Used 10000, Requested 1. Please try again in 8.64s. Visit https://platform.openai.com/account/rate-limits to learn more.', 'type': 'requests', 'param': None, 'code': 'rate_limit_exceeded'}}\n",
      "atenolol hepatic enzyme increased\n"
     ]
    },
    {
     "name": "stderr",
     "output_type": "stream",
     "text": [
      " 53%|█████▎    | 1004/1894 [07:22<23:34,  1.59s/it]"
     ]
    },
    {
     "name": "stdout",
     "output_type": "stream",
     "text": [
      "Encountered an exception for row: crizotinib hepatotoxicity. Error message below:\n",
      "Error code: 429 - {'error': {'message': 'Rate limit reached for gpt-3.5-turbo in organization org-wi3cHq5g1FGXIxQyl0trnye1 on requests per day (RPD): Limit 10000, Used 10000, Requested 1. Please try again in 8.64s. Visit https://platform.openai.com/account/rate-limits to learn more.', 'type': 'requests', 'param': None, 'code': 'rate_limit_exceeded'}}\n",
      "nortriptyline hepatic necrosis\n",
      "nortriptyline myocardial infarction\n"
     ]
    },
    {
     "name": "stderr",
     "output_type": "stream",
     "text": [
      " 53%|█████▎    | 1005/1894 [07:23<22:51,  1.54s/it]"
     ]
    },
    {
     "name": "stdout",
     "output_type": "stream",
     "text": [
      "Encountered an exception for row: irinotecan acute kidney injury. Error message below:\n",
      "Error code: 429 - {'error': {'message': 'Rate limit reached for gpt-3.5-turbo in organization org-wi3cHq5g1FGXIxQyl0trnye1 on requests per day (RPD): Limit 10000, Used 10000, Requested 1. Please try again in 8.64s. Visit https://platform.openai.com/account/rate-limits to learn more.', 'type': 'requests', 'param': None, 'code': 'rate_limit_exceeded'}}\n",
      "doxazosin myocardial infarction\n"
     ]
    },
    {
     "name": "stderr",
     "output_type": "stream",
     "text": [
      " 53%|█████▎    | 1006/1894 [07:31<34:15,  2.31s/it]"
     ]
    },
    {
     "name": "stdout",
     "output_type": "stream",
     "text": [
      "Encountered an exception for row: diflunisal myocardial infarction. Error message below:\n",
      "Error code: 429 - {'error': {'message': 'Rate limit reached for gpt-3.5-turbo in organization org-wi3cHq5g1FGXIxQyl0trnye1 on requests per day (RPD): Limit 10000, Used 10000, Requested 1. Please try again in 8.64s. Visit https://platform.openai.com/account/rate-limits to learn more.', 'type': 'requests', 'param': None, 'code': 'rate_limit_exceeded'}}\n",
      "verapamil myocardial infarction\n",
      "sumatriptan acute kidney injury\n",
      "Encountered an exception for row: atenolol hepatic enzyme increased. Error message below:\n",
      "Error code: 429 - {'error': {'message': 'Rate limit reached for gpt-3.5-turbo in organization org-wi3cHq5g1FGXIxQyl0trnye1 on requests per day (RPD): Limit 10000, Used 10000, Requested 1. Please try again in 8.64s. Visit https://platform.openai.com/account/rate-limits to learn more.', 'type': 'requests', 'param': None, 'code': 'rate_limit_exceeded'}}\n",
      "melphalan liver function test abnormal\n",
      "Encountered an exception for row: ponatinib myocardial infarction. Error message below:\n",
      "Error code: 429 - {'error': {'message': 'Rate limit reached for gpt-3.5-turbo in organization org-wi3cHq5g1FGXIxQyl0trnye1 on requests per day (RPD): Limit 10000, Used 10000, Requested 1. Please try again in 8.64s. Visit https://platform.openai.com/account/rate-limits to learn more.', 'type': 'requests', 'param': None, 'code': 'rate_limit_exceeded'}}\n",
      "gabapentin myocardial infarction\n",
      "Encountered an exception for row: ponatinib hepatic failure. Error message below:\n",
      "Error code: 429 - {'error': {'message': 'Rate limit reached for gpt-3.5-turbo in organization org-wi3cHq5g1FGXIxQyl0trnye1 on requests per day (RPD): Limit 10000, Used 10000, Requested 1. Please try again in 8.64s. Visit https://platform.openai.com/account/rate-limits to learn more.', 'type': 'requests', 'param': None, 'code': 'rate_limit_exceeded'}}\n",
      "terbinafine hepatic enzyme abnormal\n",
      "Encountered an exception for row: terlipressin hepatic failure. Error message below:\n",
      "Error code: 429 - {'error': {'message': 'Rate limit reached for gpt-3.5-turbo in organization org-wi3cHq5g1FGXIxQyl0trnye1 on requests per day (RPD): Limit 10000, Used 10000, Requested 1. Please try again in 8.64s. Visit https://platform.openai.com/account/rate-limits to learn more.', 'type': 'requests', 'param': None, 'code': 'rate_limit_exceeded'}}\n",
      "amitriptyline hepatic failure\n",
      "Encountered an exception for row: flurbiprofen myocardial infarction. Error message below:\n",
      "Error code: 429 - {'error': {'message': 'Rate limit reached for gpt-3.5-turbo in organization org-wi3cHq5g1FGXIxQyl0trnye1 on requests per day (RPD): Limit 10000, Used 10000, Requested 1. Please try again in 8.64s. Visit https://platform.openai.com/account/rate-limits to learn more.', 'type': 'requests', 'param': None, 'code': 'rate_limit_exceeded'}}\n",
      "pantoprazole haematemesis\n"
     ]
    },
    {
     "name": "stderr",
     "output_type": "stream",
     "text": [
      " 54%|█████▎    | 1014/1894 [07:40<23:34,  1.61s/it]"
     ]
    },
    {
     "name": "stdout",
     "output_type": "stream",
     "text": [
      "Encountered an exception for row: nortriptyline hepatic necrosis. Error message below:\n",
      "Error code: 429 - {'error': {'message': 'Rate limit reached for gpt-3.5-turbo in organization org-wi3cHq5g1FGXIxQyl0trnye1 on requests per day (RPD): Limit 10000, Used 10000, Requested 1. Please try again in 8.64s. Visit https://platform.openai.com/account/rate-limits to learn more.', 'type': 'requests', 'param': None, 'code': 'rate_limit_exceeded'}}\n",
      "fluconazole acute hepatic failure\n",
      "filgrastim myocardial infarction\n"
     ]
    },
    {
     "name": "stderr",
     "output_type": "stream",
     "text": [
      " 54%|█████▎    | 1015/1894 [07:40<21:50,  1.49s/it]"
     ]
    },
    {
     "name": "stdout",
     "output_type": "stream",
     "text": [
      "Encountered an exception for row: nortriptyline myocardial infarction. Error message below:\n",
      "Error code: 429 - {'error': {'message': 'Rate limit reached for gpt-3.5-turbo in organization org-wi3cHq5g1FGXIxQyl0trnye1 on requests per day (RPD): Limit 10000, Used 10000, Requested 1. Please try again in 8.64s. Visit https://platform.openai.com/account/rate-limits to learn more.', 'type': 'requests', 'param': None, 'code': 'rate_limit_exceeded'}}\n",
      "nelfinavir liver function test abnormal\n"
     ]
    },
    {
     "name": "stderr",
     "output_type": "stream",
     "text": [
      " 54%|█████▎    | 1016/1894 [07:41<20:40,  1.41s/it]"
     ]
    },
    {
     "name": "stdout",
     "output_type": "stream",
     "text": [
      "Encountered an exception for row: doxazosin myocardial infarction. Error message below:\n",
      "Error code: 429 - {'error': {'message': 'Rate limit reached for gpt-3.5-turbo in organization org-wi3cHq5g1FGXIxQyl0trnye1 on requests per day (RPD): Limit 10000, Used 10000, Requested 1. Please try again in 8.64s. Visit https://platform.openai.com/account/rate-limits to learn more.', 'type': 'requests', 'param': None, 'code': 'rate_limit_exceeded'}}\n",
      "sulindac renal failure\n"
     ]
    },
    {
     "name": "stderr",
     "output_type": "stream",
     "text": [
      " 54%|█████▍    | 1019/1894 [07:49<25:44,  1.77s/it]"
     ]
    },
    {
     "name": "stdout",
     "output_type": "stream",
     "text": [
      "Encountered an exception for row: sumatriptan acute kidney injury. Error message below:\n",
      "Error code: 429 - {'error': {'message': 'Rate limit reached for gpt-3.5-turbo in organization org-wi3cHq5g1FGXIxQyl0trnye1 on requests per day (RPD): Limit 10000, Used 10000, Requested 1. Please try again in 8.64s. Visit https://platform.openai.com/account/rate-limits to learn more.', 'type': 'requests', 'param': None, 'code': 'rate_limit_exceeded'}}\n",
      "desipramine myocardial infarction\n",
      "cefdinir renal impairment\n",
      "Encountered an exception for row: amitriptyline hepatic failure. Error message below:\n",
      "Error code: 429 - {'error': {'message': 'Rate limit reached for gpt-3.5-turbo in organization org-wi3cHq5g1FGXIxQyl0trnye1 on requests per day (RPD): Limit 10000, Used 10000, Requested 1. Please try again in 8.64s. Visit https://platform.openai.com/account/rate-limits to learn more.', 'type': 'requests', 'param': None, 'code': 'rate_limit_exceeded'}}\n",
      "cefdinir acute kidney injury\n",
      "Encountered an exception for row: gabapentin myocardial infarction. Error message below:\n",
      "Error code: 429 - {'error': {'message': 'Rate limit reached for gpt-3.5-turbo in organization org-wi3cHq5g1FGXIxQyl0trnye1 on requests per day (RPD): Limit 10000, Used 10000, Requested 1. Please try again in 8.64s. Visit https://platform.openai.com/account/rate-limits to learn more.', 'type': 'requests', 'param': None, 'code': 'rate_limit_exceeded'}}\n",
      "mesalamine hepatic enzyme increased\n",
      "Encountered an exception for row: melphalan liver function test abnormal. Error message below:\n",
      "Error code: 429 - {'error': {'message': 'Rate limit reached for gpt-3.5-turbo in organization org-wi3cHq5g1FGXIxQyl0trnye1 on requests per day (RPD): Limit 10000, Used 10000, Requested 1. Please try again in 8.64s. Visit https://platform.openai.com/account/rate-limits to learn more.', 'type': 'requests', 'param': None, 'code': 'rate_limit_exceeded'}}\n",
      "pramipexole renal failure\n",
      "Encountered an exception for row: pantoprazole haematemesis. Error message below:\n",
      "Error code: 429 - {'error': {'message': 'Rate limit reached for gpt-3.5-turbo in organization org-wi3cHq5g1FGXIxQyl0trnye1 on requests per day (RPD): Limit 10000, Used 10000, Requested 1. Please try again in 8.64s. Visit https://platform.openai.com/account/rate-limits to learn more.', 'type': 'requests', 'param': None, 'code': 'rate_limit_exceeded'}}\n",
      "lansoprazole hepatotoxicity\n",
      "Encountered an exception for row: terbinafine hepatic enzyme abnormal. Error message below:\n",
      "Error code: 429 - {'error': {'message': 'Rate limit reached for gpt-3.5-turbo in organization org-wi3cHq5g1FGXIxQyl0trnye1 on requests per day (RPD): Limit 10000, Used 10000, Requested 1. Please try again in 8.64s. Visit https://platform.openai.com/account/rate-limits to learn more.', 'type': 'requests', 'param': None, 'code': 'rate_limit_exceeded'}}\n",
      "etodolac hepatic failure\n",
      "Encountered an exception for row: nelfinavir liver function test abnormal. Error message below:\n",
      "Error code: 429 - {'error': {'message': 'Rate limit reached for gpt-3.5-turbo in organization org-wi3cHq5g1FGXIxQyl0trnye1 on requests per day (RPD): Limit 10000, Used 10000, Requested 1. Please try again in 8.64s. Visit https://platform.openai.com/account/rate-limits to learn more.', 'type': 'requests', 'param': None, 'code': 'rate_limit_exceeded'}}\n",
      "varenicline myocardial infarction\n"
     ]
    },
    {
     "name": "stderr",
     "output_type": "stream",
     "text": [
      " 54%|█████▍    | 1025/1894 [07:59<23:51,  1.65s/it]"
     ]
    },
    {
     "name": "stdout",
     "output_type": "stream",
     "text": [
      "indapamide liver function test abnormal\n"
     ]
    },
    {
     "name": "stderr",
     "output_type": "stream",
     "text": [
      " 54%|█████▍    | 1027/1894 [07:59<19:41,  1.36s/it]"
     ]
    },
    {
     "name": "stdout",
     "output_type": "stream",
     "text": [
      "fosinopril acute kidney injury\n"
     ]
    },
    {
     "name": "stderr",
     "output_type": "stream",
     "text": [
      " 54%|█████▍    | 1030/1894 [08:07<23:21,  1.62s/it]"
     ]
    },
    {
     "name": "stdout",
     "output_type": "stream",
     "text": [
      "Encountered an exception for row: cefdinir renal impairment. Error message below:\n",
      "Error code: 429 - {'error': {'message': 'Rate limit reached for gpt-3.5-turbo in organization org-wi3cHq5g1FGXIxQyl0trnye1 on requests per day (RPD): Limit 10000, Used 10000, Requested 1. Please try again in 8.64s. Visit https://platform.openai.com/account/rate-limits to learn more.', 'type': 'requests', 'param': None, 'code': 'rate_limit_exceeded'}}\n",
      "balsalazide hepatic failure\n",
      "Encountered an exception for row: desipramine myocardial infarction. Error message below:\n",
      "Error code: 429 - {'error': {'message': 'Rate limit reached for gpt-3.5-turbo in organization org-wi3cHq5g1FGXIxQyl0trnye1 on requests per day (RPD): Limit 10000, Used 10000, Requested 1. Please try again in 8.64s. Visit https://platform.openai.com/account/rate-limits to learn more.', 'type': 'requests', 'param': None, 'code': 'rate_limit_exceeded'}}\n",
      "aprepitant renal failure\n",
      "Encountered an exception for row: cefdinir acute kidney injury. Error message below:\n",
      "Error code: 429 - {'error': {'message': 'Rate limit reached for gpt-3.5-turbo in organization org-wi3cHq5g1FGXIxQyl0trnye1 on requests per day (RPD): Limit 10000, Used 10000, Requested 1. Please try again in 8.64s. Visit https://platform.openai.com/account/rate-limits to learn more.', 'type': 'requests', 'param': None, 'code': 'rate_limit_exceeded'}}\n",
      "vancomycin renal failure\n",
      "Encountered an exception for row: mesalamine hepatic enzyme increased. Error message below:\n",
      "Error code: 429 - {'error': {'message': 'Rate limit reached for gpt-3.5-turbo in organization org-wi3cHq5g1FGXIxQyl0trnye1 on requests per day (RPD): Limit 10000, Used 10000, Requested 1. Please try again in 8.64s. Visit https://platform.openai.com/account/rate-limits to learn more.', 'type': 'requests', 'param': None, 'code': 'rate_limit_exceeded'}}\n",
      "mycophenolate mofetil renal failure\n",
      "Encountered an exception for row: pramipexole renal failure. Error message below:\n",
      "Error code: 429 - {'error': {'message': 'Rate limit reached for gpt-3.5-turbo in organization org-wi3cHq5g1FGXIxQyl0trnye1 on requests per day (RPD): Limit 10000, Used 10000, Requested 1. Please try again in 8.64s. Visit https://platform.openai.com/account/rate-limits to learn more.', 'type': 'requests', 'param': None, 'code': 'rate_limit_exceeded'}}\n",
      "amoxapine myocardial infarction\n",
      "Encountered an exception for row: lansoprazole hepatotoxicity. Error message below:\n",
      "Error code: 429 - {'error': {'message': 'Rate limit reached for gpt-3.5-turbo in organization org-wi3cHq5g1FGXIxQyl0trnye1 on requests per day (RPD): Limit 10000, Used 10000, Requested 1. Please try again in 8.64s. Visit https://platform.openai.com/account/rate-limits to learn more.', 'type': 'requests', 'param': None, 'code': 'rate_limit_exceeded'}}\n",
      "clomipramine myocardial infarction\n",
      "Encountered an exception for row: etodolac hepatic failure. Error message below:\n",
      "Error code: 429 - {'error': {'message': 'Rate limit reached for gpt-3.5-turbo in organization org-wi3cHq5g1FGXIxQyl0trnye1 on requests per day (RPD): Limit 10000, Used 10000, Requested 1. Please try again in 8.64s. Visit https://platform.openai.com/account/rate-limits to learn more.', 'type': 'requests', 'param': None, 'code': 'rate_limit_exceeded'}}\n",
      "raltegravir hepatic failure\n",
      "anagrelide hepatic enzyme increased\n"
     ]
    },
    {
     "name": "stderr",
     "output_type": "stream",
     "text": [
      " 55%|█████▍    | 1035/1894 [08:16<24:10,  1.69s/it]"
     ]
    },
    {
     "name": "stdout",
     "output_type": "stream",
     "text": [
      "Encountered an exception for row: varenicline myocardial infarction. Error message below:\n",
      "Error code: 429 - {'error': {'message': 'Rate limit reached for gpt-3.5-turbo in organization org-wi3cHq5g1FGXIxQyl0trnye1 on requests per day (RPD): Limit 10000, Used 10000, Requested 1. Please try again in 8.64s. Visit https://platform.openai.com/account/rate-limits to learn more.', 'type': 'requests', 'param': None, 'code': 'rate_limit_exceeded'}}\n",
      "telithromycin liver injury\n",
      "cefditoren liver function test abnormal\n"
     ]
    },
    {
     "name": "stderr",
     "output_type": "stream",
     "text": [
      " 55%|█████▍    | 1037/1894 [08:17<20:33,  1.44s/it]"
     ]
    },
    {
     "name": "stdout",
     "output_type": "stream",
     "text": [
      "Encountered an exception for row: fosinopril acute kidney injury. Error message below:\n",
      "Error code: 429 - {'error': {'message': 'Rate limit reached for gpt-3.5-turbo in organization org-wi3cHq5g1FGXIxQyl0trnye1 on requests per day (RPD): Limit 10000, Used 10000, Requested 1. Please try again in 8.64s. Visit https://platform.openai.com/account/rate-limits to learn more.', 'type': 'requests', 'param': None, 'code': 'rate_limit_exceeded'}}\n",
      "telavancin renal impairment\n"
     ]
    },
    {
     "name": "stderr",
     "output_type": "stream",
     "text": [
      " 55%|█████▍    | 1038/1894 [08:25<32:50,  2.30s/it]"
     ]
    },
    {
     "name": "stdout",
     "output_type": "stream",
     "text": [
      "Encountered an exception for row: aprepitant renal failure. Error message below:\n",
      "Error code: 429 - {'error': {'message': 'Rate limit reached for gpt-3.5-turbo in organization org-wi3cHq5g1FGXIxQyl0trnye1 on requests per day (RPD): Limit 10000, Used 10000, Requested 1. Please try again in 8.64s. Visit https://platform.openai.com/account/rate-limits to learn more.', 'type': 'requests', 'param': None, 'code': 'rate_limit_exceeded'}}\n",
      "demeclocycline acute kidney injury\n",
      "Encountered an exception for row: balsalazide hepatic failure. Error message below:\n",
      "Error code: 429 - {'error': {'message': 'Rate limit reached for gpt-3.5-turbo in organization org-wi3cHq5g1FGXIxQyl0trnye1 on requests per day (RPD): Limit 10000, Used 10000, Requested 1. Please try again in 8.64s. Visit https://platform.openai.com/account/rate-limits to learn more.', 'type': 'requests', 'param': None, 'code': 'rate_limit_exceeded'}}\n",
      "olsalazine hepatic failure\n"
     ]
    },
    {
     "name": "stderr",
     "output_type": "stream",
     "text": [
      " 55%|█████▍    | 1040/1894 [08:26<25:27,  1.79s/it]"
     ]
    },
    {
     "name": "stdout",
     "output_type": "stream",
     "text": [
      "paricalcitolEncountered an exception for row: mycophenolate mofetil renal failure. Error message below:\n",
      "Error code: 429 - {'error': {'message': 'Rate limit reached for gpt-3.5-turbo in organization org-wi3cHq5g1FGXIxQyl0trnye1 on requests per day (RPD): Limit 10000, Used 10000, Requested 1. Please try again in 8.64s. Visit https://platform.openai.com/account/rate-limits to learn more.', 'type': 'requests', 'param': None, 'code': 'rate_limit_exceeded'}}\n",
      "paricalcitol hepatic enzyme abnormal\n",
      " renal failure\n",
      "Encountered an exception for row: raltegravir hepatic failure. Error message below:\n",
      "Error code: 429 - {'error': {'message': 'Rate limit reached for gpt-3.5-turbo in organization org-wi3cHq5g1FGXIxQyl0trnye1 on requests per day (RPD): Limit 10000, Used 10000, Requested 1. Please try again in 8.64s. Visit https://platform.openai.com/account/rate-limits to learn more.', 'type': 'requests', 'param': None, 'code': 'rate_limit_exceeded'}}\n",
      "pyrazinamide hepatotoxicity\n",
      "Encountered an exception for row: amoxapine myocardial infarction. Error message below:\n",
      "Error code: 429 - {'error': {'message': 'Rate limit reached for gpt-3.5-turbo in organization org-wi3cHq5g1FGXIxQyl0trnye1 on requests per day (RPD): Limit 10000, Used 10000, Requested 1. Please try again in 8.64s. Visit https://platform.openai.com/account/rate-limits to learn more.', 'type': 'requests', 'param': None, 'code': 'rate_limit_exceeded'}}\n",
      "carvedilol myocardial infarction\n",
      "Encountered an exception for row: vancomycin renal failure. Error message below:\n",
      "Error code: 429 - {'error': {'message': 'Rate limit reached for gpt-3.5-turbo in organization org-wi3cHq5g1FGXIxQyl0trnye1 on requests per day (RPD): Limit 10000, Used 10000, Requested 1. Please try again in 8.64s. Visit https://platform.openai.com/account/rate-limits to learn more.', 'type': 'requests', 'param': None, 'code': 'rate_limit_exceeded'}}\n",
      "griseofulvin gastrointestinal haemorrhage\n",
      "Encountered an exception for row: anagrelide hepatic enzyme increased. Error message below:\n",
      "Error code: 429 - {'error': {'message': 'Rate limit reached for gpt-3.5-turbo in organization org-wi3cHq5g1FGXIxQyl0trnye1 on requests per day (RPD): Limit 10000, Used 10000, Requested 1. Please try again in 8.64s. Visit https://platform.openai.com/account/rate-limits to learn more.', 'type': 'requests', 'param': None, 'code': 'rate_limit_exceeded'}}\n",
      "tiagabine gastrointestinal haemorrhage\n"
     ]
    },
    {
     "name": "stderr",
     "output_type": "stream",
     "text": [
      " 55%|█████▌    | 1047/1894 [08:35<20:24,  1.45s/it]"
     ]
    },
    {
     "name": "stdout",
     "output_type": "stream",
     "text": [
      "Encountered an exception for row: telithromycin liver injury. Error message below:\n",
      "Error code: 429 - {'error': {'message': 'Rate limit reached for gpt-3.5-turbo in organization org-wi3cHq5g1FGXIxQyl0trnye1 on requests per day (RPD): Limit 10000, Used 10000, Requested 1. Please try again in 8.64s. Visit https://platform.openai.com/account/rate-limits to learn more.', 'type': 'requests', 'param': None, 'code': 'rate_limit_exceeded'}}\n",
      "tiagabine myocardial infarction\n",
      "diclofenac hepatotoxicity\n",
      "Encountered an exception for row: cefditoren liver function test abnormal. Error message below:\n",
      "Error code: 429 - {'error': {'message': 'Rate limit reached for gpt-3.5-turbo in organization org-wi3cHq5g1FGXIxQyl0trnye1 on requests per day (RPD): Limit 10000, Used 10000, Requested 1. Please try again in 8.64s. Visit https://platform.openai.com/account/rate-limits to learn more.', 'type': 'requests', 'param': None, 'code': 'rate_limit_exceeded'}}\n",
      "baclofen renal failure\n"
     ]
    },
    {
     "name": "stderr",
     "output_type": "stream",
     "text": [
      " 55%|█████▌    | 1048/1894 [08:35<17:46,  1.26s/it]"
     ]
    },
    {
     "name": "stdout",
     "output_type": "stream",
     "text": [
      "Encountered an exception for row: telavancin renal impairment. Error message below:\n",
      "Error code: 429 - {'error': {'message': 'Rate limit reached for gpt-3.5-turbo in organization org-wi3cHq5g1FGXIxQyl0trnye1 on requests per day (RPD): Limit 10000, Used 10000, Requested 1. Please try again in 8.64s. Visit https://platform.openai.com/account/rate-limits to learn more.', 'type': 'requests', 'param': None, 'code': 'rate_limit_exceeded'}}\n",
      "oxacillin hepatotoxicity\n"
     ]
    },
    {
     "name": "stderr",
     "output_type": "stream",
     "text": [
      " 56%|█████▌    | 1057/1894 [08:44<12:49,  1.09it/s]"
     ]
    },
    {
     "name": "stdout",
     "output_type": "stream",
     "text": [
      "Encountered an exception for row: paricalcitol renal failure. Error message below:\n",
      "Error code: 429 - {'error': {'message': 'Rate limit reached for gpt-3.5-turbo in organization org-wi3cHq5g1FGXIxQyl0trnye1 on requests per day (RPD): Limit 10000, Used 10000, Requested 1. Please try again in 8.64s. Visit https://platform.openai.com/account/rate-limits to learn more.', 'type': 'requests', 'param': None, 'code': 'rate_limit_exceeded'}}\n",
      "cisplatin renal impairment\n",
      "Encountered an exception for row: paricalcitol hepatic enzyme abnormal. Error message below:\n",
      "Error code: 429 - {'error': {'message': 'Rate limit reached for gpt-3.5-turbo in organization org-wi3cHq5g1FGXIxQyl0trnye1 on requests per day (RPD): Limit 10000, Used 10000, Requested 1. Please try again in 8.64s. Visit https://platform.openai.com/account/rate-limits to learn more.', 'type': 'requests', 'param': None, 'code': 'rate_limit_exceeded'}}\n",
      "deferoxamine renal failure\n",
      "Encountered an exception for row: carvedilol myocardial infarction. Error message below:\n",
      "Error code: 429 - {'error': {'message': 'Rate limit reached for gpt-3.5-turbo in organization org-wi3cHq5g1FGXIxQyl0trnye1 on requests per day (RPD): Limit 10000, Used 10000, Requested 1. Please try again in 8.64s. Visit https://platform.openai.com/account/rate-limits to learn more.', 'type': 'requests', 'param': None, 'code': 'rate_limit_exceeded'}}\n",
      "ifosfamide acute kidney injury\n",
      "Encountered an exception for row: griseofulvin gastrointestinal haemorrhage. Error message below:\n",
      "Error code: 429 - {'error': {'message': 'Rate limit reached for gpt-3.5-turbo in organization org-wi3cHq5g1FGXIxQyl0trnye1 on requests per day (RPD): Limit 10000, Used 10000, Requested 1. Please try again in 8.64s. Visit https://platform.openai.com/account/rate-limits to learn more.', 'type': 'requests', 'param': None, 'code': 'rate_limit_exceeded'}}\n",
      "dexmedetomidine myocardial infarction\n",
      "Encountered an exception for row: tiagabine gastrointestinal haemorrhage. Error message below:\n",
      "Error code: 429 - {'error': {'message': 'Rate limit reached for gpt-3.5-turbo in organization org-wi3cHq5g1FGXIxQyl0trnye1 on requests per day (RPD): Limit 10000, Used 10000, Requested 1. Please try again in 8.64s. Visit https://platform.openai.com/account/rate-limits to learn more.', 'type': 'requests', 'param': None, 'code': 'rate_limit_exceeded'}}\n",
      "fludarabine renal failure\n",
      "Encountered an exception for row: pyrazinamide hepatotoxicity. Error message below:\n",
      "Error code: 429 - {'error': {'message': 'Rate limit reached for gpt-3.5-turbo in organization org-wi3cHq5g1FGXIxQyl0trnye1 on requests per day (RPD): Limit 10000, Used 10000, Requested 1. Please try again in 8.64s. Visit https://platform.openai.com/account/rate-limits to learn more.', 'type': 'requests', 'param': None, 'code': 'rate_limit_exceeded'}}\n",
      "ritonavir gastrointestinal haemorrhage\n",
      "imatinib hepatic necrosis\n",
      "Encountered an exception for row: baclofen renal failure. Error message below:\n",
      "Error code: 429 - {'error': {'message': 'Rate limit reached for gpt-3.5-turbo in organization org-wi3cHq5g1FGXIxQyl0trnye1 on requests per day (RPD): Limit 10000, Used 10000, Requested 1. Please try again in 8.64s. Visit https://platform.openai.com/account/rate-limits to learn more.', 'type': 'requests', 'param': None, 'code': 'rate_limit_exceeded'}}\n",
      "imatinib myocardial infarction\n",
      "Encountered an exception for row: oxacillin hepatotoxicity. Error message below:\n",
      "Error code: 429 - {'error': {'message': 'Rate limit reached for gpt-3.5-turbo in organization org-wi3cHq5g1FGXIxQyl0trnye1 on requests per day (RPD): Limit 10000, Used 10000, Requested 1. Please try again in 8.64s. Visit https://platform.openai.com/account/rate-limits to learn more.', 'type': 'requests', 'param': None, 'code': 'rate_limit_exceeded'}}\n",
      "aldesleukin renal impairment\n"
     ]
    },
    {
     "name": "stderr",
     "output_type": "stream",
     "text": [
      " 56%|█████▌    | 1059/1894 [08:53<22:44,  1.63s/it]"
     ]
    },
    {
     "name": "stdout",
     "output_type": "stream",
     "text": [
      "tolcapone gastrointestinal haemorrhage\n"
     ]
    },
    {
     "name": "stderr",
     "output_type": "stream",
     "text": [
      " 56%|█████▌    | 1064/1894 [09:01<21:09,  1.53s/it]"
     ]
    },
    {
     "name": "stdout",
     "output_type": "stream",
     "text": [
      "Encountered an exception for row: cisplatin renal impairment. Error message below:\n",
      "Error code: 429 - {'error': {'message': 'Rate limit reached for gpt-3.5-turbo in organization org-wi3cHq5g1FGXIxQyl0trnye1 on requests per day (RPD): Limit 10000, Used 10000, Requested 1. Please try again in 8.64s. Visit https://platform.openai.com/account/rate-limits to learn more.', 'type': 'requests', 'param': None, 'code': 'rate_limit_exceeded'}}\n",
      "chlorothiazide renal failure\n",
      "Encountered an exception for row: deferoxamine renal failure. Error message below:\n",
      "Error code: 429 - {'error': {'message': 'Rate limit reached for gpt-3.5-turbo in organization org-wi3cHq5g1FGXIxQyl0trnye1 on requests per day (RPD): Limit 10000, Used 10000, Requested 1. Please try again in 8.64s. Visit https://platform.openai.com/account/rate-limits to learn more.', 'type': 'requests', 'param': None, 'code': 'rate_limit_exceeded'}}\n",
      "ambrisentan hepatic enzyme abnormal\n",
      "Encountered an exception for row: ifosfamide acute kidney injury. Error message below:\n",
      "Error code: 429 - {'error': {'message': 'Rate limit reached for gpt-3.5-turbo in organization org-wi3cHq5g1FGXIxQyl0trnye1 on requests per day (RPD): Limit 10000, Used 10000, Requested 1. Please try again in 8.64s. Visit https://platform.openai.com/account/rate-limits to learn more.', 'type': 'requests', 'param': None, 'code': 'rate_limit_exceeded'}}\n",
      "daptomycin renal impairment\n",
      "Encountered an exception for row: fludarabine renal failure. Error message below:\n",
      "Error code: 429 - {'error': {'message': 'Rate limit reached for gpt-3.5-turbo in organization org-wi3cHq5g1FGXIxQyl0trnye1 on requests per day (RPD): Limit 10000, Used 10000, Requested 1. Please try again in 8.64s. Visit https://platform.openai.com/account/rate-limits to learn more.', 'type': 'requests', 'param': None, 'code': 'rate_limit_exceeded'}}\n",
      "decitabine renal failure\n",
      "Encountered an exception for row: dexmedetomidine myocardial infarction. Error message below:\n",
      "Error code: 429 - {'error': {'message': 'Rate limit reached for gpt-3.5-turbo in organization org-wi3cHq5g1FGXIxQyl0trnye1 on requests per day (RPD): Limit 10000, Used 10000, Requested 1. Please try again in 8.64s. Visit https://platform.openai.com/account/rate-limits to learn more.', 'type': 'requests', 'param': None, 'code': 'rate_limit_exceeded'}}\n",
      "cladribine renal impairment\n",
      "Encountered an exception for row: imatinib hepatic necrosis. Error message below:\n",
      "Error code: 429 - {'error': {'message': 'Rate limit reached for gpt-3.5-turbo in organization org-wi3cHq5g1FGXIxQyl0trnye1 on requests per day (RPD): Limit 10000, Used 10000, Requested 1. Please try again in 8.64s. Visit https://platform.openai.com/account/rate-limits to learn more.', 'type': 'requests', 'param': None, 'code': 'rate_limit_exceeded'}}\n",
      "pentamidine renal failure\n",
      "Encountered an exception for row: ritonavir gastrointestinal haemorrhage. Error message below:\n",
      "Error code: 429 - {'error': {'message': 'Rate limit reached for gpt-3.5-turbo in organization org-wi3cHq5g1FGXIxQyl0trnye1 on requests per day (RPD): Limit 10000, Used 10000, Requested 1. Please try again in 8.64s. Visit https://platform.openai.com/account/rate-limits to learn more.', 'type': 'requests', 'param': None, 'code': 'rate_limit_exceeded'}}\n",
      "micafungin hepatocellular injury\n"
     ]
    },
    {
     "name": "stderr",
     "output_type": "stream",
     "text": [
      " 56%|█████▋    | 1068/1894 [09:02<13:12,  1.04it/s]"
     ]
    },
    {
     "name": "stdout",
     "output_type": "stream",
     "text": [
      "fulvestrant hepatic failure\n"
     ]
    },
    {
     "name": "stderr",
     "output_type": "stream",
     "text": [
      " 56%|█████▋    | 1070/1894 [09:11<23:25,  1.71s/it]"
     ]
    },
    {
     "name": "stdout",
     "output_type": "stream",
     "text": [
      "carmustine renal failure\n",
      "Encountered an exception for row: tolcapone gastrointestinal haemorrhage. Error message below:\n",
      "Error code: 429 - {'error': {'message': 'Rate limit reached for gpt-3.5-turbo in organization org-wi3cHq5g1FGXIxQyl0trnye1 on requests per day (RPD): Limit 10000, Used 10000, Requested 1. Please try again in 8.64s. Visit https://platform.openai.com/account/rate-limits to learn more.', 'type': 'requests', 'param': None, 'code': 'rate_limit_exceeded'}}\n",
      "caspofungin hepatic necrosis\n",
      "Encountered an exception for row: chlorothiazide renal failure. Error message below:\n",
      "Error code: 429 - {'error': {'message': 'Rate limit reached for gpt-3.5-turbo in organization org-wi3cHq5g1FGXIxQyl0trnye1 on requests per day (RPD): Limit 10000, Used 10000, Requested 1. Please try again in 8.64s. Visit https://platform.openai.com/account/rate-limits to learn more.', 'type': 'requests', 'param': None, 'code': 'rate_limit_exceeded'}}\n",
      "meclofenamate renal failure\n",
      "Encountered an exception for row: daptomycin renal impairment. Error message below:\n",
      "Error code: 429 - {'error': {'message': 'Rate limit reached for gpt-3.5-turbo in organization org-wi3cHq5g1FGXIxQyl0trnye1 on requests per day (RPD): Limit 10000, Used 10000, Requested 1. Please try again in 8.64s. Visit https://platform.openai.com/account/rate-limits to learn more.', 'type': 'requests', 'param': None, 'code': 'rate_limit_exceeded'}}\n",
      "ibuprofen renal impairment\n",
      "Encountered an exception for row: decitabine renal failure. Error message below:\n",
      "Error code: 429 - {'error': {'message': 'Rate limit reached for gpt-3.5-turbo in organization org-wi3cHq5g1FGXIxQyl0trnye1 on requests per day (RPD): Limit 10000, Used 10000, Requested 1. Please try again in 8.64s. Visit https://platform.openai.com/account/rate-limits to learn more.', 'type': 'requests', 'param': None, 'code': 'rate_limit_exceeded'}}\n",
      "mefenamate hepatic enzyme increased\n",
      "Encountered an exception for row: micafungin hepatocellular injury. Error message below:\n",
      "Error code: 429 - {'error': {'message': 'Rate limit reached for gpt-3.5-turbo in organization org-wi3cHq5g1FGXIxQyl0trnye1 on requests per day (RPD): Limit 10000, Used 10000, Requested 1. Please try again in 8.64s. Visit https://platform.openai.com/account/rate-limits to learn more.', 'type': 'requests', 'param': None, 'code': 'rate_limit_exceeded'}}\n",
      "danazol hepatic failure\n",
      "Encountered an exception for row: cladribine renal impairment. Error message below:\n",
      "Error code: 429 - {'error': {'message': 'Rate limit reached for gpt-3.5-turbo in organization org-wi3cHq5g1FGXIxQyl0trnye1 on requests per day (RPD): Limit 10000, Used 10000, Requested 1. Please try again in 8.64s. Visit https://platform.openai.com/account/rate-limits to learn more.', 'type': 'requests', 'param': None, 'code': 'rate_limit_exceeded'}}\n",
      "everolimus acute kidney injury\n"
     ]
    },
    {
     "name": "stderr",
     "output_type": "stream",
     "text": [
      " 57%|█████▋    | 1072/1894 [09:19<32:10,  2.35s/it]"
     ]
    },
    {
     "name": "stdout",
     "output_type": "stream",
     "text": [
      "Encountered an exception for row: fulvestrant hepatic failure. Error message below:\n",
      "Error code: 429 - {'error': {'message': 'Rate limit reached for gpt-3.5-turbo in organization org-wi3cHq5g1FGXIxQyl0trnye1 on requests per day (RPD): Limit 10000, Used 10000, Requested 1. Please try again in 8.64s. Visit https://platform.openai.com/account/rate-limits to learn more.', 'type': 'requests', 'param': None, 'code': 'rate_limit_exceeded'}}\n",
      "pemetrexed renal failure\n",
      "neratinib hepatotoxicity\n",
      "Encountered an exception for row: pentamidine renal failure. Error message below:\n",
      "Error code: 429 - {'error': {'message': 'Rate limit reached for gpt-3.5-turbo in organization org-wi3cHq5g1FGXIxQyl0trnye1 on requests per day (RPD): Limit 10000, Used 10000, Requested 1. Please try again in 8.64s. Visit https://platform.openai.com/account/rate-limits to learn more.', 'type': 'requests', 'param': None, 'code': 'rate_limit_exceeded'}}\n",
      "clindamycin acute kidney injury\n"
     ]
    },
    {
     "name": "stderr",
     "output_type": "stream",
     "text": [
      " 57%|█████▋    | 1079/1894 [09:28<23:56,  1.76s/it]"
     ]
    },
    {
     "name": "stdout",
     "output_type": "stream",
     "text": [
      "Encountered an exception for row: carmustine renal failure. Error message below:\n",
      "Error code: 429 - {'error': {'message': 'Rate limit reached for gpt-3.5-turbo in organization org-wi3cHq5g1FGXIxQyl0trnye1 on requests per day (RPD): Limit 10000, Used 10000, Requested 1. Please try again in 8.64s. Visit https://platform.openai.com/account/rate-limits to learn more.', 'type': 'requests', 'param': None, 'code': 'rate_limit_exceeded'}}\n",
      "lenalidomide myocardial infarction\n",
      "Encountered an exception for row: caspofungin hepatic necrosis. Error message below:\n",
      "Error code: 429 - {'error': {'message': 'Rate limit reached for gpt-3.5-turbo in organization org-wi3cHq5g1FGXIxQyl0trnye1 on requests per day (RPD): Limit 10000, Used 10000, Requested 1. Please try again in 8.64s. Visit https://platform.openai.com/account/rate-limits to learn more.', 'type': 'requests', 'param': None, 'code': 'rate_limit_exceeded'}}\n",
      "pirfenidone liver injury\n",
      "vorinostat renal failure\n"
     ]
    },
    {
     "name": "stderr",
     "output_type": "stream",
     "text": [
      " 57%|█████▋    | 1081/1894 [09:37<30:25,  2.25s/it]"
     ]
    },
    {
     "name": "stdout",
     "output_type": "stream",
     "text": [
      "Encountered an exception for row: meclofenamate renal failure. Error message below:\n",
      "Error code: 429 - {'error': {'message': 'Rate limit reached for gpt-3.5-turbo in organization org-wi3cHq5g1FGXIxQyl0trnye1 on requests per day (RPD): Limit 10000, Used 10000, Requested 1. Please try again in 8.64s. Visit https://platform.openai.com/account/rate-limits to learn more.', 'type': 'requests', 'param': None, 'code': 'rate_limit_exceeded'}}\n",
      "fidaxomicin gastrointestinal haemorrhage\n",
      "Encountered an exception for row: pemetrexed renal failure. Error message below:\n",
      "Error code: 429 - {'error': {'message': 'Rate limit reached for gpt-3.5-turbo in organization org-wi3cHq5g1FGXIxQyl0trnye1 on requests per day (RPD): Limit 10000, Used 10000, Requested 1. Please try again in 8.64s. Visit https://platform.openai.com/account/rate-limits to learn more.', 'type': 'requests', 'param': None, 'code': 'rate_limit_exceeded'}}\n",
      "cangrelor renal impairment\n"
     ]
    },
    {
     "name": "stderr",
     "output_type": "stream",
     "text": [
      " 57%|█████▋    | 1083/1894 [09:37<24:29,  1.81s/it]"
     ]
    },
    {
     "name": "stdout",
     "output_type": "stream",
     "text": [
      "Encountered an exception for row: danazol hepatic failure. Error message below:\n",
      "Error code: 429 - {'error': {'message': 'Rate limit reached for gpt-3.5-turbo in organization org-wi3cHq5g1FGXIxQyl0trnye1 on requests per day (RPD): Limit 10000, Used 10000, Requested 1. Please try again in 8.64s. Visit https://platform.openai.com/account/rate-limits to learn more.', 'type': 'requests', 'param': None, 'code': 'rate_limit_exceeded'}}\n",
      "clevidipine myocardial infarction\n",
      "Encountered an exception for row: clindamycin acute kidney injury. Error message below:\n",
      "Error code: 429 - {'error': {'message': 'Rate limit reached for gpt-3.5-turbo in organization org-wi3cHq5g1FGXIxQyl0trnye1 on requests per day (RPD): Limit 10000, Used 10000, Requested 1. Please try again in 8.64s. Visit https://platform.openai.com/account/rate-limits to learn more.', 'type': 'requests', 'param': None, 'code': 'rate_limit_exceeded'}}\n",
      "carfilzomib gastrointestinal haemorrhage\n",
      "Encountered an exception for row: neratinib hepatotoxicity. Error message below:\n",
      "Error code: 429 - {'error': {'message': 'Rate limit reached for gpt-3.5-turbo in organization org-wi3cHq5g1FGXIxQyl0trnye1 on requests per day (RPD): Limit 10000, Used 10000, Requested 1. Please try again in 8.64s. Visit https://platform.openai.com/account/rate-limits to learn more.', 'type': 'requests', 'param': None, 'code': 'rate_limit_exceeded'}}\n",
      "rilpivirine hepatotoxicity\n",
      "Encountered an exception for row: everolimus acute kidney injury. Error message below:\n",
      "Error code: 429 - {'error': {'message': 'Rate limit reached for gpt-3.5-turbo in organization org-wi3cHq5g1FGXIxQyl0trnye1 on requests per day (RPD): Limit 10000, Used 10000, Requested 1. Please try again in 8.64s. Visit https://platform.openai.com/account/rate-limits to learn more.', 'type': 'requests', 'param': None, 'code': 'rate_limit_exceeded'}}\n",
      "amikacin acute kidney injury\n",
      "etoposide hepatotoxicity\n"
     ]
    },
    {
     "name": "stderr",
     "output_type": "stream",
     "text": [
      " 57%|█████▋    | 1089/1894 [09:46<22:13,  1.66s/it]"
     ]
    },
    {
     "name": "stdout",
     "output_type": "stream",
     "text": [
      "Encountered an exception for row: pirfenidone liver injury. Error message below:\n",
      "Error code: 429 - {'error': {'message': 'Rate limit reached for gpt-3.5-turbo in organization org-wi3cHq5g1FGXIxQyl0trnye1 on requests per day (RPD): Limit 10000, Used 10000, Requested 1. Please try again in 8.64s. Visit https://platform.openai.com/account/rate-limits to learn more.', 'type': 'requests', 'param': None, 'code': 'rate_limit_exceeded'}}\n",
      "voclosporin acute kidney injury\n",
      "Encountered an exception for row: vorinostat renal failure. Error message below:\n",
      "Error code: 429 - {'error': {'message': 'Rate limit reached for gpt-3.5-turbo in organization org-wi3cHq5g1FGXIxQyl0trnye1 on requests per day (RPD): Limit 10000, Used 10000, Requested 1. Please try again in 8.64s. Visit https://platform.openai.com/account/rate-limits to learn more.', 'type': 'requests', 'param': None, 'code': 'rate_limit_exceeded'}}\n",
      "regorafenib myocardial infarction\n",
      "defibrotide gastrointestinal haemorrhage\n"
     ]
    },
    {
     "name": "stderr",
     "output_type": "stream",
     "text": [
      " 58%|█████▊    | 1092/1894 [09:55<26:33,  1.99s/it]"
     ]
    },
    {
     "name": "stdout",
     "output_type": "stream",
     "text": [
      "midazolam acute kidney injury\n",
      "Encountered an exception for row: cangrelor renal impairment. Error message below:\n",
      "Error code: 429 - {'error': {'message': 'Rate limit reached for gpt-3.5-turbo in organization org-wi3cHq5g1FGXIxQyl0trnye1 on requests per day (RPD): Limit 10000, Used 10000, Requested 1. Please try again in 8.64s. Visit https://platform.openai.com/account/rate-limits to learn more.', 'type': 'requests', 'param': None, 'code': 'rate_limit_exceeded'}}\n",
      "venetoclax haematemesis\n",
      "Encountered an exception for row: carfilzomib gastrointestinal haemorrhage. Error message below:\n",
      "Error code: 429 - {'error': {'message': 'Rate limit reached for gpt-3.5-turbo in organization org-wi3cHq5g1FGXIxQyl0trnye1 on requests per day (RPD): Limit 10000, Used 10000, Requested 1. Please try again in 8.64s. Visit https://platform.openai.com/account/rate-limits to learn more.', 'type': 'requests', 'param': None, 'code': 'rate_limit_exceeded'}}\n",
      "maralixibat haematemesis\n",
      "Encountered an exception for row: etoposide hepatotoxicity. Error message below:\n",
      "Error code: 429 - {'error': {'message': 'Rate limit reached for gpt-3.5-turbo in organization org-wi3cHq5g1FGXIxQyl0trnye1 on requests per day (RPD): Limit 10000, Used 10000, Requested 1. Please try again in 8.64s. Visit https://platform.openai.com/account/rate-limits to learn more.', 'type': 'requests', 'param': None, 'code': 'rate_limit_exceeded'}}\n",
      "thalidomide gastrointestinal haemorrhage\n",
      "Encountered an exception for row: clevidipine myocardial infarction. Error message below:\n",
      "Error code: 429 - {'error': {'message': 'Rate limit reached for gpt-3.5-turbo in organization org-wi3cHq5g1FGXIxQyl0trnye1 on requests per day (RPD): Limit 10000, Used 10000, Requested 1. Please try again in 8.64s. Visit https://platform.openai.com/account/rate-limits to learn more.', 'type': 'requests', 'param': None, 'code': 'rate_limit_exceeded'}}\n",
      "adalimumab gastrointestinal haemorrhage\n",
      "Encountered an exception for row: rilpivirine hepatotoxicity. Error message below:\n",
      "Error code: 429 - {'error': {'message': 'Rate limit reached for gpt-3.5-turbo in organization org-wi3cHq5g1FGXIxQyl0trnye1 on requests per day (RPD): Limit 10000, Used 10000, Requested 1. Please try again in 8.64s. Visit https://platform.openai.com/account/rate-limits to learn more.', 'type': 'requests', 'param': None, 'code': 'rate_limit_exceeded'}}\n",
      "vipivotide tetraxetan hepatic failure\n",
      "Encountered an exception for row: amikacin acute kidney injury. Error message below:\n",
      "Error code: 429 - {'error': {'message': 'Rate limit reached for gpt-3.5-turbo in organization org-wi3cHq5g1FGXIxQyl0trnye1 on requests per day (RPD): Limit 10000, Used 10000, Requested 1. Please try again in 8.64s. Visit https://platform.openai.com/account/rate-limits to learn more.', 'type': 'requests', 'param': None, 'code': 'rate_limit_exceeded'}}\n",
      "ibuprofen hepatotoxicity\n"
     ]
    },
    {
     "name": "stderr",
     "output_type": "stream",
     "text": [
      " 58%|█████▊    | 1099/1894 [10:04<22:04,  1.67s/it]"
     ]
    },
    {
     "name": "stdout",
     "output_type": "stream",
     "text": [
      "Encountered an exception for row: voclosporin acute kidney injury. Error message below:\n",
      "Error code: 429 - {'error': {'message': 'Rate limit reached for gpt-3.5-turbo in organization org-wi3cHq5g1FGXIxQyl0trnye1 on requests per day (RPD): Limit 10000, Used 10000, Requested 1. Please try again in 8.64s. Visit https://platform.openai.com/account/rate-limits to learn more.', 'type': 'requests', 'param': None, 'code': 'rate_limit_exceeded'}}\n",
      "anidulafungin liver function test abnormal\n",
      "Encountered an exception for row: defibrotide gastrointestinal haemorrhage. Error message below:\n",
      "Error code: 429 - {'error': {'message': 'Rate limit reached for gpt-3.5-turbo in organization org-wi3cHq5g1FGXIxQyl0trnye1 on requests per day (RPD): Limit 10000, Used 10000, Requested 1. Please try again in 8.64s. Visit https://platform.openai.com/account/rate-limits to learn more.', 'type': 'requests', 'param': None, 'code': 'rate_limit_exceeded'}}\n",
      "atezolizumab myocardial infarction\n"
     ]
    },
    {
     "name": "stderr",
     "output_type": "stream",
     "text": [
      " 58%|█████▊    | 1100/1894 [10:04<20:23,  1.54s/it]"
     ]
    },
    {
     "name": "stdout",
     "output_type": "stream",
     "text": [
      "midostaurin gastrointestinal haemorrhage\n"
     ]
    },
    {
     "name": "stderr",
     "output_type": "stream",
     "text": [
      " 58%|█████▊    | 1102/1894 [10:13<27:34,  2.09s/it]"
     ]
    },
    {
     "name": "stdout",
     "output_type": "stream",
     "text": [
      "Encountered an exception for row: midazolam acute kidney injury. Error message below:\n",
      "Error code: 429 - {'error': {'message': 'Rate limit reached for gpt-3.5-turbo in organization org-wi3cHq5g1FGXIxQyl0trnye1 on requests per day (RPD): Limit 10000, Used 10000, Requested 1. Please try again in 8.64s. Visit https://platform.openai.com/account/rate-limits to learn more.', 'type': 'requests', 'param': None, 'code': 'rate_limit_exceeded'}}\n",
      "avapritinib gastrointestinal haemorrhage\n",
      "Encountered an exception for row: maralixibat haematemesis. Error message below:\n",
      "Error code: 429 - {'error': {'message': 'Rate limit reached for gpt-3.5-turbo in organization org-wi3cHq5g1FGXIxQyl0trnye1 on requests per day (RPD): Limit 10000, Used 10000, Requested 1. Please try again in 8.64s. Visit https://platform.openai.com/account/rate-limits to learn more.', 'type': 'requests', 'param': None, 'code': 'rate_limit_exceeded'}}\n",
      "rezafungin gastrointestinal haemorrhage\n"
     ]
    },
    {
     "name": "stderr",
     "output_type": "stream",
     "text": [
      " 58%|█████▊    | 1103/1894 [10:13<24:30,  1.86s/it]"
     ]
    },
    {
     "name": "stdout",
     "output_type": "stream",
     "text": [
      "Encountered an exception for row: thalidomide gastrointestinal haemorrhage. Error message below:Encountered an exception for row: ibuprofen hepatotoxicity. Error message below:\n",
      "Error code: 429 - {'error': {'message': 'Rate limit reached for gpt-3.5-turbo in organization org-wi3cHq5g1FGXIxQyl0trnye1 on requests per day (RPD): Limit 10000, Used 10000, Requested 1. Please try again in 8.64s. Visit https://platform.openai.com/account/rate-limits to learn more.', 'type': 'requests', 'param': None, 'code': 'rate_limit_exceeded'}}\n",
      "vilobelimab hepatic enzyme increased\n",
      "\n",
      "Error code: 429 - {'error': {'message': 'Rate limit reached for gpt-3.5-turbo in organization org-wi3cHq5g1FGXIxQyl0trnye1 on requests per day (RPD): Limit 10000, Used 10000, Requested 1. Please try again in 8.64s. Visit https://platform.openai.com/account/rate-limits to learn more.', 'type': 'requests', 'param': None, 'code': 'rate_limit_exceeded'}}\n",
      "glofitamab gastrointestinal haemorrhage\n",
      "Encountered an exception for row: vipivotide tetraxetan hepatic failure. Error message below:\n",
      "Error code: 429 - {'error': {'message': 'Rate limit reached for gpt-3.5-turbo in organization org-wi3cHq5g1FGXIxQyl0trnye1 on requests per day (RPD): Limit 10000, Used 10000, Requested 1. Please try again in 8.64s. Visit https://platform.openai.com/account/rate-limits to learn more.', 'type': 'requests', 'param': None, 'code': 'rate_limit_exceeded'}}\n",
      "ipilimumab acute kidney injury\n",
      "Encountered an exception for row: adalimumab gastrointestinal haemorrhage. Error message below:\n",
      "Error code: 429 - {'error': {'message': 'Rate limit reached for gpt-3.5-turbo in organization org-wi3cHq5g1FGXIxQyl0trnye1 on requests per day (RPD): Limit 10000, Used 10000, Requested 1. Please try again in 8.64s. Visit https://platform.openai.com/account/rate-limits to learn more.', 'type': 'requests', 'param': None, 'code': 'rate_limit_exceeded'}}\n",
      "nilotinib hepatotoxicity\n",
      "pralsetinib hepatotoxicity\n"
     ]
    },
    {
     "name": "stderr",
     "output_type": "stream",
     "text": [
      " 59%|█████▊    | 1109/1894 [10:22<21:43,  1.66s/it]"
     ]
    },
    {
     "name": "stdout",
     "output_type": "stream",
     "text": [
      "Encountered an exception for row: anidulafungin liver function test abnormal. Error message below:\n",
      "Error code: 429 - {'error': {'message': 'Rate limit reached for gpt-3.5-turbo in organization org-wi3cHq5g1FGXIxQyl0trnye1 on requests per day (RPD): Limit 10000, Used 10000, Requested 1. Please try again in 8.64s. Visit https://platform.openai.com/account/rate-limits to learn more.', 'type': 'requests', 'param': None, 'code': 'rate_limit_exceeded'}}\n",
      "trametinib haematemesis\n",
      "Encountered an exception for row: midostaurin gastrointestinal haemorrhage. Error message below:\n",
      "Error code: 429 - {'error': {'message': 'Rate limit reached for gpt-3.5-turbo in organization org-wi3cHq5g1FGXIxQyl0trnye1 on requests per day (RPD): Limit 10000, Used 10000, Requested 1. Please try again in 8.64s. Visit https://platform.openai.com/account/rate-limits to learn more.', 'type': 'requests', 'param': None, 'code': 'rate_limit_exceeded'}}\n",
      "bexagliflozin renal impairment\n"
     ]
    },
    {
     "name": "stderr",
     "output_type": "stream",
     "text": [
      " 59%|█████▊    | 1110/1894 [10:22<19:43,  1.51s/it]"
     ]
    },
    {
     "name": "stdout",
     "output_type": "stream",
     "text": [
      "avelumab myocardial infarction\n"
     ]
    },
    {
     "name": "stderr",
     "output_type": "stream",
     "text": [
      " 59%|█████▉    | 1113/1894 [10:31<24:32,  1.89s/it]"
     ]
    },
    {
     "name": "stdout",
     "output_type": "stream",
     "text": [
      "axitinib hepatotoxicity\n",
      "Encountered an exception for row: rezafungin gastrointestinal haemorrhage. Error message below:\n",
      "Error code: 429 - {'error': {'message': 'Rate limit reached for gpt-3.5-turbo in organization org-wi3cHq5g1FGXIxQyl0trnye1 on requests per day (RPD): Limit 10000, Used 10000, Requested 1. Please try again in 8.64s. Visit https://platform.openai.com/account/rate-limits to learn more.', 'type': 'requests', 'param': None, 'code': 'rate_limit_exceeded'}}\n",
      "soybean oil liver function test abnormal\n",
      "Encountered an exception for row: vilobelimab hepatic enzyme increased. Error message below:\n",
      "Error code: 429 - {'error': {'message': 'Rate limit reached for gpt-3.5-turbo in organization org-wi3cHq5g1FGXIxQyl0trnye1 on requests per day (RPD): Limit 10000, Used 10000, Requested 1. Please try again in 8.64s. Visit https://platform.openai.com/account/rate-limits to learn more.', 'type': 'requests', 'param': None, 'code': 'rate_limit_exceeded'}}\n",
      "amiloride renal impairment\n",
      "Encountered an exception for row: nilotinib hepatotoxicity. Error message below:\n",
      "Error code: 429 - {'error': {'message': 'Rate limit reached for gpt-3.5-turbo in organization org-wi3cHq5g1FGXIxQyl0trnye1 on requests per day (RPD): Limit 10000, Used 10000, Requested 1. Please try again in 8.64s. Visit https://platform.openai.com/account/rate-limits to learn more.', 'type': 'requests', 'param': None, 'code': 'rate_limit_exceeded'}}\n",
      "tolmetin myocardial infarction\n",
      "Encountered an exception for row: pralsetinib hepatotoxicity. Error message below:\n",
      "Error code: 429 - {'error': {'message': 'Rate limit reached for gpt-3.5-turbo in organization org-wi3cHq5g1FGXIxQyl0trnye1 on requests per day (RPD): Limit 10000, Used 10000, Requested 1. Please try again in 8.64s. Visit https://platform.openai.com/account/rate-limits to learn more.', 'type': 'requests', 'param': None, 'code': 'rate_limit_exceeded'}}\n",
      "felbamate liver injury\n",
      "Encountered an exception for row: glofitamab gastrointestinal haemorrhage. Error message below:\n",
      "Error code: 429 - {'error': {'message': 'Rate limit reached for gpt-3.5-turbo in organization org-wi3cHq5g1FGXIxQyl0trnye1 on requests per day (RPD): Limit 10000, Used 10000, Requested 1. Please try again in 8.64s. Visit https://platform.openai.com/account/rate-limits to learn more.', 'type': 'requests', 'param': None, 'code': 'rate_limit_exceeded'}}\n",
      "flutamide acute hepatic failure\n",
      "Encountered an exception for row: ipilimumab acute kidney injury. Error message below:\n",
      "Error code: 429 - {'error': {'message': 'Rate limit reached for gpt-3.5-turbo in organization org-wi3cHq5g1FGXIxQyl0trnye1 on requests per day (RPD): Limit 10000, Used 10000, Requested 1. Please try again in 8.64s. Visit https://platform.openai.com/account/rate-limits to learn more.', 'type': 'requests', 'param': None, 'code': 'rate_limit_exceeded'}}\n",
      "dacarbazine hepatic necrosis\n"
     ]
    },
    {
     "name": "stderr",
     "output_type": "stream",
     "text": [
      " 59%|█████▉    | 1121/1894 [10:40<17:05,  1.33s/it]"
     ]
    },
    {
     "name": "stdout",
     "output_type": "stream",
     "text": [
      "Encountered an exception for row: bexagliflozin renal impairment. Error message below:\n",
      "Error code: 429 - {'error': {'message': 'Rate limit reached for gpt-3.5-turbo in organization org-wi3cHq5g1FGXIxQyl0trnye1 on requests per day (RPD): Limit 10000, Used 10000, Requested 1. Please try again in 8.64s. Visit https://platform.openai.com/account/rate-limits to learn more.', 'type': 'requests', 'param': None, 'code': 'rate_limit_exceeded'}}\n",
      "pexidartinib liver injury\n",
      "Encountered an exception for row: trametinib haematemesis. Error message below:\n",
      "Error code: 429 - {'error': {'message': 'Rate limit reached for gpt-3.5-turbo in organization org-wi3cHq5g1FGXIxQyl0trnye1 on requests per day (RPD): Limit 10000, Used 10000, Requested 1. Please try again in 8.64s. Visit https://platform.openai.com/account/rate-limits to learn more.', 'type': 'requests', 'param': None, 'code': 'rate_limit_exceeded'}}\n",
      "inotersen renal failure\n",
      "Encountered an exception for row: avelumab myocardial infarction. Error message below:\n",
      "Error code: 429 - {'error': {'message': 'Rate limit reached for gpt-3.5-turbo in organization org-wi3cHq5g1FGXIxQyl0trnye1 on requests per day (RPD): Limit 10000, Used 10000, Requested 1. Please try again in 8.64s. Visit https://platform.openai.com/account/rate-limits to learn more.', 'type': 'requests', 'param': None, 'code': 'rate_limit_exceeded'}}\n",
      "streptomycin renal impairment\n",
      "tinzaparin gastrointestinal haemorrhage\n"
     ]
    },
    {
     "name": "stderr",
     "output_type": "stream",
     "text": [
      " 59%|█████▉    | 1123/1894 [10:49<26:18,  2.05s/it]"
     ]
    },
    {
     "name": "stdout",
     "output_type": "stream",
     "text": [
      "Encountered an exception for row: soybean oil liver function test abnormal. Error message below:\n",
      "Error code: 429 - {'error': {'message': 'Rate limit reached for gpt-3.5-turbo in organization org-wi3cHq5g1FGXIxQyl0trnye1 on requests per day (RPD): Limit 10000, Used 10000, Requested 1. Please try again in 8.64s. Visit https://platform.openai.com/account/rate-limits to learn more.', 'type': 'requests', 'param': None, 'code': 'rate_limit_exceeded'}}\n",
      "celecoxib hepatic failure\n",
      "Encountered an exception for row: felbamate liver injury. Error message below:\n",
      "Error code: 429 - {'error': {'message': 'Rate limit reached for gpt-3.5-turbo in organization org-wi3cHq5g1FGXIxQyl0trnye1 on requests per day (RPD): Limit 10000, Used 10000, Requested 1. Please try again in 8.64s. Visit https://platform.openai.com/account/rate-limits to learn more.', 'type': 'requests', 'param': None, 'code': 'rate_limit_exceeded'}}\n",
      "piroxicam haematemesis\n",
      "Encountered an exception for row: amiloride renal impairment. Error message below:\n",
      "Error code: 429 - {'error': {'message': 'Rate limit reached for gpt-3.5-turbo in organization org-wi3cHq5g1FGXIxQyl0trnye1 on requests per day (RPD): Limit 10000, Used 10000, Requested 1. Please try again in 8.64s. Visit https://platform.openai.com/account/rate-limits to learn more.', 'type': 'requests', 'param': None, 'code': 'rate_limit_exceeded'}}\n",
      "oxaprozin renal failure\n",
      "Encountered an exception for row: flutamide acute hepatic failure. Error message below:\n",
      "Error code: 429 - {'error': {'message': 'Rate limit reached for gpt-3.5-turbo in organization org-wi3cHq5g1FGXIxQyl0trnye1 on requests per day (RPD): Limit 10000, Used 10000, Requested 1. Please try again in 8.64s. Visit https://platform.openai.com/account/rate-limits to learn more.', 'type': 'requests', 'param': None, 'code': 'rate_limit_exceeded'}}\n",
      "clopidogrel acute hepatic failure\n",
      "Encountered an exception for row: dacarbazine hepatic necrosis. Error message below:\n",
      "Error code: 429 - {'error': {'message': 'Rate limit reached for gpt-3.5-turbo in organization org-wi3cHq5g1FGXIxQyl0trnye1 on requests per day (RPD): Limit 10000, Used 10000, Requested 1. Please try again in 8.64s. Visit https://platform.openai.com/account/rate-limits to learn more.', 'type': 'requests', 'param': None, 'code': 'rate_limit_exceeded'}}\n",
      "pantoprazole hepatic failure\n",
      "Encountered an exception for row: tolmetin myocardial infarction. Error message below:\n",
      "Error code: 429 - {'error': {'message': 'Rate limit reached for gpt-3.5-turbo in organization org-wi3cHq5g1FGXIxQyl0trnye1 on requests per day (RPD): Limit 10000, Used 10000, Requested 1. Please try again in 8.64s. Visit https://platform.openai.com/account/rate-limits to learn more.', 'type': 'requests', 'param': None, 'code': 'rate_limit_exceeded'}}\n",
      "pantoprazole myocardial infarction\n",
      "tizanidine liver injury\n"
     ]
    },
    {
     "name": "stderr",
     "output_type": "stream",
     "text": [
      " 60%|█████▉    | 1129/1894 [10:58<22:35,  1.77s/it]"
     ]
    },
    {
     "name": "stdout",
     "output_type": "stream",
     "text": [
      "Encountered an exception for row: streptomycin renal impairment. Error message below:\n",
      "Error code: 429 - {'error': {'message': 'Rate limit reached for gpt-3.5-turbo in organization org-wi3cHq5g1FGXIxQyl0trnye1 on requests per day (RPD): Limit 10000, Used 10000, Requested 1. Please try again in 8.64s. Visit https://platform.openai.com/account/rate-limits to learn more.', 'type': 'requests', 'param': None, 'code': 'rate_limit_exceeded'}}\n",
      "venlafaxine renal impairment\n",
      "perindopril acute kidney injury\n",
      "Encountered an exception for row: tinzaparin gastrointestinal haemorrhage. Error message below:\n",
      "Error code: 429 - {'error': {'message': 'Rate limit reached for gpt-3.5-turbo in organization org-wi3cHq5g1FGXIxQyl0trnye1 on requests per day (RPD): Limit 10000, Used 10000, Requested 1. Please try again in 8.64s. Visit https://platform.openai.com/account/rate-limits to learn more.', 'type': 'requests', 'param': None, 'code': 'rate_limit_exceeded'}}\n",
      "naproxen myocardial infarction\n"
     ]
    },
    {
     "name": "stderr",
     "output_type": "stream",
     "text": [
      " 60%|██████    | 1139/1894 [11:07<14:25,  1.15s/it]"
     ]
    },
    {
     "name": "stdout",
     "output_type": "stream",
     "text": [
      "Encountered an exception for row: piroxicam haematemesis. Error message below:Encountered an exception for row: clopidogrel acute hepatic failure. Error message below:\n",
      "Error code: 429 - {'error': {'message': 'Rate limit reached for gpt-3.5-turbo in organization org-wi3cHq5g1FGXIxQyl0trnye1 on requests per day (RPD): Limit 10000, Used 10000, Requested 1. Please try again in 8.64s. Visit https://platform.openai.com/account/rate-limits to learn more.', 'type': 'requests', 'param': None, 'code': 'rate_limit_exceeded'}}\n",
      "naproxen hepatic enzyme increased\n",
      "\n",
      "Error code: 429 - {'error': {'message': 'Rate limit reached for gpt-3.5-turbo in organization org-wi3cHq5g1FGXIxQyl0trnye1 on requests per day (RPD): Limit 10000, Used 10000, Requested 1. Please try again in 8.64s. Visit https://platform.openai.com/account/rate-limits to learn more.', 'type': 'requests', 'param': None, 'code': 'rate_limit_exceeded'}}\n",
      "paroxetine myocardial infarction\n",
      "Encountered an exception for row: celecoxib hepatic failure. Error message below:\n",
      "Error code: 429 - {'error': {'message': 'Rate limit reached for gpt-3.5-turbo in organization org-wi3cHq5g1FGXIxQyl0trnye1 on requests per day (RPD): Limit 10000, Used 10000, Requested 1. Please try again in 8.64s. Visit https://platform.openai.com/account/rate-limits to learn more.', 'type': 'requests', 'param': None, 'code': 'rate_limit_exceeded'}}\n",
      "rivastigmine renal failure\n",
      "Encountered an exception for row: oxaprozin renal failure. Error message below:\n",
      "Error code: 429 - {'error': {'message': 'Rate limit reached for gpt-3.5-turbo in organization org-wi3cHq5g1FGXIxQyl0trnye1 on requests per day (RPD): Limit 10000, Used 10000, Requested 1. Please try again in 8.64s. Visit https://platform.openai.com/account/rate-limits to learn more.', 'type': 'requests', 'param': None, 'code': 'rate_limit_exceeded'}}\n",
      "tenofovir disoproxil renal impairment\n",
      "Encountered an exception for row: pantoprazole myocardial infarction. Error message below:\n",
      "Error code: 429 - {'error': {'message': 'Rate limit reached for gpt-3.5-turbo in organization org-wi3cHq5g1FGXIxQyl0trnye1 on requests per day (RPD): Limit 10000, Used 10000, Requested 1. Please try again in 8.64s. Visit https://platform.openai.com/account/rate-limits to learn more.', 'type': 'requests', 'param': None, 'code': 'rate_limit_exceeded'}}\n",
      "abacavir liver function test abnormal\n",
      "Encountered an exception for row: pantoprazole hepatic failure. Error message below:\n",
      "Error code: 429 - {'error': {'message': 'Rate limit reached for gpt-3.5-turbo in organization org-wi3cHq5g1FGXIxQyl0trnye1 on requests per day (RPD): Limit 10000, Used 10000, Requested 1. Please try again in 8.64s. Visit https://platform.openai.com/account/rate-limits to learn more.', 'type': 'requests', 'param': None, 'code': 'rate_limit_exceeded'}}\n",
      "levetiracetam hepatic failure\n",
      "Encountered an exception for row: tizanidine liver injury. Error message below:\n",
      "Error code: 429 - {'error': {'message': 'Rate limit reached for gpt-3.5-turbo in organization org-wi3cHq5g1FGXIxQyl0trnye1 on requests per day (RPD): Limit 10000, Used 10000, Requested 1. Please try again in 8.64s. Visit https://platform.openai.com/account/rate-limits to learn more.', 'type': 'requests', 'param': None, 'code': 'rate_limit_exceeded'}}\n",
      "acyclovir renal failure\n",
      "pioglitazone liver function test abnormal\n"
     ]
    },
    {
     "name": "stderr",
     "output_type": "stream",
     "text": [
      " 60%|██████    | 1141/1894 [11:16<20:57,  1.67s/it]"
     ]
    },
    {
     "name": "stdout",
     "output_type": "stream",
     "text": [
      "Encountered an exception for row: perindopril acute kidney injury. Error message below:\n",
      "Error code: 429 - {'error': {'message': 'Rate limit reached for gpt-3.5-turbo in organization org-wi3cHq5g1FGXIxQyl0trnye1 on requests per day (RPD): Limit 10000, Used 10000, Requested 1. Please try again in 8.64s. Visit https://platform.openai.com/account/rate-limits to learn more.', 'type': 'requests', 'param': None, 'code': 'rate_limit_exceeded'}}\n",
      "cefotaxime renal impairment\n",
      "amiodarone renal impairment\n"
     ]
    },
    {
     "name": "stderr",
     "output_type": "stream",
     "text": [
      " 60%|██████    | 1144/1894 [11:25<24:32,  1.96s/it]"
     ]
    },
    {
     "name": "stdout",
     "output_type": "stream",
     "text": [
      "Encountered an exception for row: naproxen hepatic enzyme increased. Error message below:\n",
      "Error code: 429 - {'error': {'message': 'Rate limit reached for gpt-3.5-turbo in organization org-wi3cHq5g1FGXIxQyl0trnye1 on requests per day (RPD): Limit 10000, Used 10000, Requested 1. Please try again in 8.64s. Visit https://platform.openai.com/account/rate-limits to learn more.', 'type': 'requests', 'param': None, 'code': 'rate_limit_exceeded'}}\n",
      "cefazolin renal impairment\n",
      "Encountered an exception for row: rivastigmine renal failure. Error message below:\n",
      "Error code: 429 - {'error': {'message': 'Rate limit reached for gpt-3.5-turbo in organization org-wi3cHq5g1FGXIxQyl0trnye1 on requests per day (RPD): Limit 10000, Used 10000, Requested 1. Please try again in 8.64s. Visit https://platform.openai.com/account/rate-limits to learn more.', 'type': 'requests', 'param': None, 'code': 'rate_limit_exceeded'}}\n",
      "lamotrigine liver function test abnormal\n",
      "Encountered an exception for row: tenofovir disoproxil renal impairment. Error message below:\n",
      "Error code: 429 - {'error': {'message': 'Rate limit reached for gpt-3.5-turbo in organization org-wi3cHq5g1FGXIxQyl0trnye1 on requests per day (RPD): Limit 10000, Used 10000, Requested 1. Please try again in 8.64s. Visit https://platform.openai.com/account/rate-limits to learn more.', 'type': 'requests', 'param': None, 'code': 'rate_limit_exceeded'}}\n",
      "donepezil gastrointestinal haemorrhage\n",
      "Encountered an exception for row: levetiracetam hepatic failure. Error message below:\n",
      "Error code: 429 - {'error': {'message': 'Rate limit reached for gpt-3.5-turbo in organization org-wi3cHq5g1FGXIxQyl0trnye1 on requests per day (RPD): Limit 10000, Used 10000, Requested 1. Please try again in 8.64s. Visit https://platform.openai.com/account/rate-limits to learn more.', 'type': 'requests', 'param': None, 'code': 'rate_limit_exceeded'}}\n",
      "donepezil liver function test abnormal\n",
      "Encountered an exception for row: pioglitazone liver function test abnormal. Error message below:\n",
      "Error code: 429 - {'error': {'message': 'Rate limit reached for gpt-3.5-turbo in organization org-wi3cHq5g1FGXIxQyl0trnye1 on requests per day (RPD): Limit 10000, Used 10000, Requested 1. Please try again in 8.64s. Visit https://platform.openai.com/account/rate-limits to learn more.', 'type': 'requests', 'param': None, 'code': 'rate_limit_exceeded'}}\n",
      "cevimeline gastrointestinal haemorrhage\n",
      "Encountered an exception for row: acyclovir renal failure. Error message below:\n",
      "Error code: 429 - {'error': {'message': 'Rate limit reached for gpt-3.5-turbo in organization org-wi3cHq5g1FGXIxQyl0trnye1 on requests per day (RPD): Limit 10000, Used 10000, Requested 1. Please try again in 8.64s. Visit https://platform.openai.com/account/rate-limits to learn more.', 'type': 'requests', 'param': None, 'code': 'rate_limit_exceeded'}}\n",
      "moxifloxacin hepatic enzyme increased\n",
      "Encountered an exception for row: abacavir liver function test abnormal. Error message below:\n",
      "Error code: 429 - {'error': {'message': 'Rate limit reached for gpt-3.5-turbo in organization org-wi3cHq5g1FGXIxQyl0trnye1 on requests per day (RPD): Limit 10000, Used 10000, Requested 1. Please try again in 8.64s. Visit https://platform.openai.com/account/rate-limits to learn more.', 'type': 'requests', 'param': None, 'code': 'rate_limit_exceeded'}}\n",
      "rizatriptan myocardial infarction\n",
      "Encountered an exception for row: paroxetine myocardial infarction. Error message below:\n",
      "Error code: 429 - {'error': {'message': 'Rate limit reached for gpt-3.5-turbo in organization org-wi3cHq5g1FGXIxQyl0trnye1 on requests per day (RPD): Limit 10000, Used 10000, Requested 1. Please try again in 8.64s. Visit https://platform.openai.com/account/rate-limits to learn more.', 'type': 'requests', 'param': None, 'code': 'rate_limit_exceeded'}}\n",
      "tamoxifen myocardial infarction\n",
      "diclofenac hepatic necrosis\n"
     ]
    },
    {
     "name": "stderr",
     "output_type": "stream",
     "text": [
      " 61%|██████    | 1152/1894 [11:34<18:32,  1.50s/it]"
     ]
    },
    {
     "name": "stdout",
     "output_type": "stream",
     "text": [
      "nebivolol acute kidney injury\n"
     ]
    },
    {
     "name": "stderr",
     "output_type": "stream",
     "text": [
      " 61%|██████    | 1154/1894 [11:43<23:48,  1.93s/it]"
     ]
    },
    {
     "name": "stdout",
     "output_type": "stream",
     "text": [
      "Encountered an exception for row: cefazolin renal impairment. Error message below:\n",
      "Error code: 429 - {'error': {'message': 'Rate limit reached for gpt-3.5-turbo in organization org-wi3cHq5g1FGXIxQyl0trnye1 on requests per day (RPD): Limit 10000, Used 10000, Requested 1. Please try again in 8.64s. Visit https://platform.openai.com/account/rate-limits to learn more.', 'type': 'requests', 'param': None, 'code': 'rate_limit_exceeded'}}\n",
      "telmisartan renal impairment\n",
      "Encountered an exception for row: donepezil gastrointestinal haemorrhage. Error message below:\n",
      "Error code: 429 - {'error': {'message': 'Rate limit reached for gpt-3.5-turbo in organization org-wi3cHq5g1FGXIxQyl0trnye1 on requests per day (RPD): Limit 10000, Used 10000, Requested 1. Please try again in 8.64s. Visit https://platform.openai.com/account/rate-limits to learn more.', 'type': 'requests', 'param': None, 'code': 'rate_limit_exceeded'}}\n",
      "anagrelide gastrointestinal haemorrhage\n",
      "Encountered an exception for row: moxifloxacin hepatic enzyme increased. Error message below:\n",
      "Error code: 429 - {'error': {'message': 'Rate limit reached for gpt-3.5-turbo in organization org-wi3cHq5g1FGXIxQyl0trnye1 on requests per day (RPD): Limit 10000, Used 10000, Requested 1. Please try again in 8.64s. Visit https://platform.openai.com/account/rate-limits to learn more.', 'type': 'requests', 'param': None, 'code': 'rate_limit_exceeded'}}\n",
      "telithromycin hepatic failure\n",
      "Encountered an exception for row: diclofenac hepatic necrosis. Error message below:\n",
      "Error code: 429 - {'error': {'message': 'Rate limit reached for gpt-3.5-turbo in organization org-wi3cHq5g1FGXIxQyl0trnye1 on requests per day (RPD): Limit 10000, Used 10000, Requested 1. Please try again in 8.64s. Visit https://platform.openai.com/account/rate-limits to learn more.', 'type': 'requests', 'param': None, 'code': 'rate_limit_exceeded'}}\n",
      "maraviroc hepatic failure\n",
      "Encountered an exception for row: cevimeline gastrointestinal haemorrhage. Error message below:\n",
      "Error code: 429 - {'error': {'message': 'Rate limit reached for gpt-3.5-turbo in organization org-wi3cHq5g1FGXIxQyl0trnye1 on requests per day (RPD): Limit 10000, Used 10000, Requested 1. Please try again in 8.64s. Visit https://platform.openai.com/account/rate-limits to learn more.', 'type': 'requests', 'param': None, 'code': 'rate_limit_exceeded'}}\n",
      "pioglitazone myocardial infarction\n",
      "Encountered an exception for row: donepezil liver function test abnormal. Error message below:\n",
      "Error code: 429 - {'error': {'message': 'Rate limit reached for gpt-3.5-turbo in organization org-wi3cHq5g1FGXIxQyl0trnye1 on requests per day (RPD): Limit 10000, Used 10000, Requested 1. Please try again in 8.64s. Visit https://platform.openai.com/account/rate-limits to learn more.', 'type': 'requests', 'param': None, 'code': 'rate_limit_exceeded'}}\n",
      "gemifloxacin renal failure\n",
      "Encountered an exception for row: tamoxifen myocardial infarction. Error message below:\n",
      "Error code: 429 - {'error': {'message': 'Rate limit reached for gpt-3.5-turbo in organization org-wi3cHq5g1FGXIxQyl0trnye1 on requests per day (RPD): Limit 10000, Used 10000, Requested 1. Please try again in 8.64s. Visit https://platform.openai.com/account/rate-limits to learn more.', 'type': 'requests', 'param': None, 'code': 'rate_limit_exceeded'}}\n",
      "ketoconazole hepatic failure\n",
      "Encountered an exception for row: rizatriptan myocardial infarction. Error message below:\n",
      "Error code: 429 - {'error': {'message': 'Rate limit reached for gpt-3.5-turbo in organization org-wi3cHq5g1FGXIxQyl0trnye1 on requests per day (RPD): Limit 10000, Used 10000, Requested 1. Please try again in 8.64s. Visit https://platform.openai.com/account/rate-limits to learn more.', 'type': 'requests', 'param': None, 'code': 'rate_limit_exceeded'}}\n",
      "repaglinide hepatic enzyme increased\n",
      "felbamate hepatic failure\n",
      "mitomycin renal impairment\n"
     ]
    },
    {
     "name": "stderr",
     "output_type": "stream",
     "text": [
      " 61%|██████▏   | 1162/1894 [11:52<18:10,  1.49s/it]"
     ]
    },
    {
     "name": "stdout",
     "output_type": "stream",
     "text": [
      "imatinib gastrointestinal haemorrhage\n"
     ]
    },
    {
     "name": "stderr",
     "output_type": "stream",
     "text": [
      " 61%|██████▏   | 1163/1894 [12:01<26:17,  2.16s/it]"
     ]
    },
    {
     "name": "stdout",
     "output_type": "stream",
     "text": [
      "Encountered an exception for row: anagrelide gastrointestinal haemorrhage. Error message below:Encountered an exception for row: ketoconazole hepatic failure. Error message below:\n",
      "Error code: 429 - {'error': {'message': 'Rate limit reached for gpt-3.5-turbo in organization org-wi3cHq5g1FGXIxQyl0trnye1 on requests per day (RPD): Limit 10000, Used 10000, Requested 1. Please try again in 8.64s. Visit https://platform.openai.com/account/rate-limits to learn more.', 'type': 'requests', 'param': None, 'code': 'rate_limit_exceeded'}}\n",
      "larotrectinib hepatotoxicity\n",
      "\n",
      "Error code: 429 - {'error': {'message': 'Rate limit reached for gpt-3.5-turbo in organization org-wi3cHq5g1FGXIxQyl0trnye1 on requests per day (RPD): Limit 10000, Used 10000, Requested 1. Please try again in 8.64s. Visit https://platform.openai.com/account/rate-limits to learn more.', 'type': 'requests', 'param': None, 'code': 'rate_limit_exceeded'}}\n",
      "aldesleukin myocardial infarction\n",
      "Encountered an exception for row: telithromycin hepatic failure. Error message below:\n",
      "Error code: 429 - {'error': {'message': 'Rate limit reached for gpt-3.5-turbo in organization org-wi3cHq5g1FGXIxQyl0trnye1 on requests per day (RPD): Limit 10000, Used 10000, Requested 1. Please try again in 8.64s. Visit https://platform.openai.com/account/rate-limits to learn more.', 'type': 'requests', 'param': None, 'code': 'rate_limit_exceeded'}}\n",
      "ambrisentan hepatic failure\n",
      "Encountered an exception for row: pioglitazone myocardial infarction. Error message below:\n",
      "Error code: 429 - {'error': {'message': 'Rate limit reached for gpt-3.5-turbo in organization org-wi3cHq5g1FGXIxQyl0trnye1 on requests per day (RPD): Limit 10000, Used 10000, Requested 1. Please try again in 8.64s. Visit https://platform.openai.com/account/rate-limits to learn more.', 'type': 'requests', 'param': None, 'code': 'rate_limit_exceeded'}}\n",
      "daptomycin renal failure\n",
      "Encountered an exception for row: repaglinide hepatic enzyme increased. Error message below:\n",
      "Error code: 429 - {'error': {'message': 'Rate limit reached for gpt-3.5-turbo in organization org-wi3cHq5g1FGXIxQyl0trnye1 on requests per day (RPD): Limit 10000, Used 10000, Requested 1. Please try again in 8.64s. Visit https://platform.openai.com/account/rate-limits to learn more.', 'type': 'requests', 'param': None, 'code': 'rate_limit_exceeded'}}\n",
      "nitisinone gastrointestinal haemorrhage\n",
      "Encountered an exception for row: gemifloxacin renal failure. Error message below:\n",
      "Error code: 429 - {'error': {'message': 'Rate limit reached for gpt-3.5-turbo in organization org-wi3cHq5g1FGXIxQyl0trnye1 on requests per day (RPD): Limit 10000, Used 10000, Requested 1. Please try again in 8.64s. Visit https://platform.openai.com/account/rate-limits to learn more.', 'type': 'requests', 'param': None, 'code': 'rate_limit_exceeded'}}\n",
      "febuxostat hepatic failure\n",
      "Encountered an exception for row: felbamate hepatic failure. Error message below:\n",
      "Error code: 429 - {'error': {'message': 'Rate limit reached for gpt-3.5-turbo in organization org-wi3cHq5g1FGXIxQyl0trnye1 on requests per day (RPD): Limit 10000, Used 10000, Requested 1. Please try again in 8.64s. Visit https://platform.openai.com/account/rate-limits to learn more.', 'type': 'requests', 'param': None, 'code': 'rate_limit_exceeded'}}\n",
      "cladribine renal failure\n",
      "fluvoxamine myocardial infarction\n"
     ]
    },
    {
     "name": "stderr",
     "output_type": "stream",
     "text": [
      " 62%|██████▏   | 1172/1894 [12:02<12:21,  1.03s/it]"
     ]
    },
    {
     "name": "stdout",
     "output_type": "stream",
     "text": [
      "Encountered an exception for row: mitomycin renal impairment. Error message below:\n",
      "Error code: 429 - {'error': {'message': 'Rate limit reached for gpt-3.5-turbo in organization org-wi3cHq5g1FGXIxQyl0trnye1 on requests per day (RPD): Limit 10000, Used 10000, Requested 1. Please try again in 8.64s. Visit https://platform.openai.com/account/rate-limits to learn more.', 'type': 'requests', 'param': None, 'code': 'rate_limit_exceeded'}}\n",
      "eslicarbazepine liver injury\n"
     ]
    },
    {
     "name": "stderr",
     "output_type": "stream",
     "text": [
      " 62%|██████▏   | 1173/1894 [12:10<19:22,  1.61s/it]"
     ]
    },
    {
     "name": "stdout",
     "output_type": "stream",
     "text": [
      "Encountered an exception for row: imatinib gastrointestinal haemorrhage. Error message below:\n",
      "Error code: 429 - {'error': {'message': 'Rate limit reached for gpt-3.5-turbo in organization org-wi3cHq5g1FGXIxQyl0trnye1 on requests per day (RPD): Limit 10000, Used 10000, Requested 1. Please try again in 8.64s. Visit https://platform.openai.com/account/rate-limits to learn more.', 'type': 'requests', 'param': None, 'code': 'rate_limit_exceeded'}}\n",
      "micafungin renal impairment\n"
     ]
    },
    {
     "name": "stderr",
     "output_type": "stream",
     "text": [
      " 62%|██████▏   | 1174/1894 [12:10<17:37,  1.47s/it]"
     ]
    },
    {
     "name": "stdout",
     "output_type": "stream",
     "text": [
      "sunitinib acute kidney injury\n"
     ]
    },
    {
     "name": "stderr",
     "output_type": "stream",
     "text": [
      " 62%|██████▏   | 1175/1894 [12:19<28:33,  2.38s/it]"
     ]
    },
    {
     "name": "stdout",
     "output_type": "stream",
     "text": [
      "Encountered an exception for row: nitisinone gastrointestinal haemorrhage. Error message below:\n",
      "Error code: 429 - {'error': {'message': 'Rate limit reached for gpt-3.5-turbo in organization org-wi3cHq5g1FGXIxQyl0trnye1 on requests per day (RPD): Limit 10000, Used 10000, Requested 1. Please try again in 8.64s. Visit https://platform.openai.com/account/rate-limits to learn more.', 'type': 'requests', 'param': None, 'code': 'rate_limit_exceeded'}}\n",
      "caspofungin myocardial infarction\n",
      "Encountered an exception for row: daptomycin renal failure. Error message below:\n",
      "Error code: 429 - {'error': {'message': 'Rate limit reached for gpt-3.5-turbo in organization org-wi3cHq5g1FGXIxQyl0trnye1 on requests per day (RPD): Limit 10000, Used 10000, Requested 1. Please try again in 8.64s. Visit https://platform.openai.com/account/rate-limits to learn more.', 'type': 'requests', 'param': None, 'code': 'rate_limit_exceeded'}}\n",
      "cefiderocol hepatic enzyme increased\n",
      "Encountered an exception for row: fluvoxamine myocardial infarction. Error message below:\n",
      "Error code: 429 - {'error': {'message': 'Rate limit reached for gpt-3.5-turbo in organization org-wi3cHq5g1FGXIxQyl0trnye1 on requests per day (RPD): Limit 10000, Used 10000, Requested 1. Please try again in 8.64s. Visit https://platform.openai.com/account/rate-limits to learn more.', 'type': 'requests', 'param': None, 'code': 'rate_limit_exceeded'}}\n",
      "hydroxychloroquine acute hepatic failure\n",
      "Encountered an exception for row: aldesleukin myocardial infarction. Error message below:\n",
      "Error code: 429 - {'error': {'message': 'Rate limit reached for gpt-3.5-turbo in organization org-wi3cHq5g1FGXIxQyl0trnye1 on requests per day (RPD): Limit 10000, Used 10000, Requested 1. Please try again in 8.64s. Visit https://platform.openai.com/account/rate-limits to learn more.', 'type': 'requests', 'param': None, 'code': 'rate_limit_exceeded'}}\n",
      "efavirenz hepatotoxicity\n",
      "Encountered an exception for row: ambrisentan hepatic failure. Error message below:\n",
      "Error code: 429 - {'error': {'message': 'Rate limit reached for gpt-3.5-turbo in organization org-wi3cHq5g1FGXIxQyl0trnye1 on requests per day (RPD): Limit 10000, Used 10000, Requested 1. Please try again in 8.64s. Visit https://platform.openai.com/account/rate-limits to learn more.', 'type': 'requests', 'param': None, 'code': 'rate_limit_exceeded'}}\n",
      "metronidazole hepatic failure\n",
      "pegvisomant liver function test abnormal\n",
      "Encountered an exception for row: eslicarbazepine liver injury. Error message below:\n",
      "Error code: 429 - {'error': {'message': 'Rate limit reached for gpt-3.5-turbo in organization org-wi3cHq5g1FGXIxQyl0trnye1 on requests per day (RPD): Limit 10000, Used 10000, Requested 1. Please try again in 8.64s. Visit https://platform.openai.com/account/rate-limits to learn more.', 'type': 'requests', 'param': None, 'code': 'rate_limit_exceeded'}}\n",
      "allopurinol hepatic failure\n"
     ]
    },
    {
     "name": "stderr",
     "output_type": "stream",
     "text": [
      " 62%|██████▏   | 1179/1894 [12:22<19:46,  1.66s/it]"
     ]
    },
    {
     "name": "stdout",
     "output_type": "stream",
     "text": [
      "Encountered an exception for row: febuxostat hepatic failure. Error message below:\n",
      "Error code: 429 - {'error': {'message': 'Rate limit reached for gpt-3.5-turbo in organization org-wi3cHq5g1FGXIxQyl0trnye1 on requests per day (RPD): Limit 10000, Used 10000, Requested 1. Please try again in 8.64s. Visit https://platform.openai.com/account/rate-limits to learn more.', 'type': 'requests', 'param': None, 'code': 'rate_limit_exceeded'}}\n",
      "aripiprazole lauroxil myocardial infarction\n"
     ]
    },
    {
     "name": "stderr",
     "output_type": "stream",
     "text": [
      " 62%|██████▏   | 1183/1894 [12:28<19:36,  1.66s/it]"
     ]
    },
    {
     "name": "stdout",
     "output_type": "stream",
     "text": [
      "danazol hepatocellular injury\n",
      "Encountered an exception for row: sunitinib acute kidney injury. Error message below:\n",
      "Error code: 429 - {'error': {'message': 'Rate limit reached for gpt-3.5-turbo in organization org-wi3cHq5g1FGXIxQyl0trnye1 on requests per day (RPD): Limit 10000, Used 10000, Requested 1. Please try again in 8.64s. Visit https://platform.openai.com/account/rate-limits to learn more.', 'type': 'requests', 'param': None, 'code': 'rate_limit_exceeded'}}\n",
      "ketamine liver injury\n"
     ]
    },
    {
     "name": "stderr",
     "output_type": "stream",
     "text": [
      " 63%|██████▎   | 1188/1894 [12:37<18:11,  1.55s/it]"
     ]
    },
    {
     "name": "stdout",
     "output_type": "stream",
     "text": [
      "Encountered an exception for row: metronidazole hepatic failure. Error message below:\n",
      "Error code: 429 - {'error': {'message': 'Rate limit reached for gpt-3.5-turbo in organization org-wi3cHq5g1FGXIxQyl0trnye1 on requests per day (RPD): Limit 10000, Used 10000, Requested 1. Please try again in 8.64s. Visit https://platform.openai.com/account/rate-limits to learn more.', 'type': 'requests', 'param': None, 'code': 'rate_limit_exceeded'}}\n",
      "sorafenib liver injury\n",
      "Encountered an exception for row: caspofungin myocardial infarction. Error message below:\n",
      "Error code: 429 - {'error': {'message': 'Rate limit reached for gpt-3.5-turbo in organization org-wi3cHq5g1FGXIxQyl0trnye1 on requests per day (RPD): Limit 10000, Used 10000, Requested 1. Please try again in 8.64s. Visit https://platform.openai.com/account/rate-limits to learn more.', 'type': 'requests', 'param': None, 'code': 'rate_limit_exceeded'}}\n",
      "pravastatin hepatic failure\n",
      "Encountered an exception for row: hydroxychloroquine acute hepatic failure. Error message below:\n",
      "Error code: 429 - {'error': {'message': 'Rate limit reached for gpt-3.5-turbo in organization org-wi3cHq5g1FGXIxQyl0trnye1 on requests per day (RPD): Limit 10000, Used 10000, Requested 1. Please try again in 8.64s. Visit https://platform.openai.com/account/rate-limits to learn more.', 'type': 'requests', 'param': None, 'code': 'rate_limit_exceeded'}}\n",
      "ferric derisomaltose hepatic enzyme increased\n",
      "Encountered an exception for row: cefiderocol hepatic enzyme increased. Error message below:\n",
      "Error code: 429 - {'error': {'message': 'Rate limit reached for gpt-3.5-turbo in organization org-wi3cHq5g1FGXIxQyl0trnye1 on requests per day (RPD): Limit 10000, Used 10000, Requested 1. Please try again in 8.64s. Visit https://platform.openai.com/account/rate-limits to learn more.', 'type': 'requests', 'param': None, 'code': 'rate_limit_exceeded'}}\n",
      "tivozanib acute kidney injury\n",
      "Encountered an exception for row: pegvisomant liver function test abnormal. Error message below:\n",
      "Error code: 429 - {'error': {'message': 'Rate limit reached for gpt-3.5-turbo in organization org-wi3cHq5g1FGXIxQyl0trnye1 on requests per day (RPD): Limit 10000, Used 10000, Requested 1. Please try again in 8.64s. Visit https://platform.openai.com/account/rate-limits to learn more.', 'type': 'requests', 'param': None, 'code': 'rate_limit_exceeded'}}\n",
      "acitretin myocardial infarction\n",
      "naltrexone gastrointestinal haemorrhage\n"
     ]
    },
    {
     "name": "stderr",
     "output_type": "stream",
     "text": [
      " 63%|██████▎   | 1191/1894 [12:37<12:50,  1.10s/it]"
     ]
    },
    {
     "name": "stdout",
     "output_type": "stream",
     "text": [
      "Encountered an exception for row: allopurinol hepatic failure. Error message below:\n",
      "Error code: 429 - {'error': {'message': 'Rate limit reached for gpt-3.5-turbo in organization org-wi3cHq5g1FGXIxQyl0trnye1 on requests per day (RPD): Limit 10000, Used 10000, Requested 1. Please try again in 8.64s. Visit https://platform.openai.com/account/rate-limits to learn more.', 'type': 'requests', 'param': None, 'code': 'rate_limit_exceeded'}}\n",
      "diltiazem renal failure\n"
     ]
    },
    {
     "name": "stderr",
     "output_type": "stream",
     "text": [
      " 63%|██████▎   | 1192/1894 [12:39<14:15,  1.22s/it]"
     ]
    },
    {
     "name": "stdout",
     "output_type": "stream",
     "text": [
      "Encountered an exception for row: aripiprazole lauroxil myocardial infarction. Error message below:\n",
      "Error code: 429 - {'error': {'message': 'Rate limit reached for gpt-3.5-turbo in organization org-wi3cHq5g1FGXIxQyl0trnye1 on requests per day (RPD): Limit 10000, Used 10000, Requested 1. Please try again in 8.64s. Visit https://platform.openai.com/account/rate-limits to learn more.', 'type': 'requests', 'param': None, 'code': 'rate_limit_exceeded'}}\n",
      "tolvaptan hepatic failure\n"
     ]
    },
    {
     "name": "stderr",
     "output_type": "stream",
     "text": [
      " 63%|██████▎   | 1195/1894 [12:46<16:54,  1.45s/it]"
     ]
    },
    {
     "name": "stdout",
     "output_type": "stream",
     "text": [
      "Encountered an exception for row: danazol hepatocellular injury. Error message below:\n",
      "Error code: 429 - {'error': {'message': 'Rate limit reached for gpt-3.5-turbo in organization org-wi3cHq5g1FGXIxQyl0trnye1 on requests per day (RPD): Limit 10000, Used 10000, Requested 1. Please try again in 8.64s. Visit https://platform.openai.com/account/rate-limits to learn more.', 'type': 'requests', 'param': None, 'code': 'rate_limit_exceeded'}}\n",
      "voclosporin renal impairment\n",
      "Encountered an exception for row: ketamine liver injury. Error message below:\n",
      "Error code: 429 - {'error': {'message': 'Rate limit reached for gpt-3.5-turbo in organization org-wi3cHq5g1FGXIxQyl0trnye1 on requests per day (RPD): Limit 10000, Used 10000, Requested 1. Please try again in 8.64s. Visit https://platform.openai.com/account/rate-limits to learn more.', 'type': 'requests', 'param': None, 'code': 'rate_limit_exceeded'}}\n",
      "dulaglutide acute kidney injury\n",
      "orlistat gastrointestinal haemorrhage\n",
      "Encountered an exception for row: tivozanib acute kidney injury. Error message below:\n",
      "Error code: 429 - {'error': {'message': 'Rate limit reached for gpt-3.5-turbo in organization org-wi3cHq5g1FGXIxQyl0trnye1 on requests per day (RPD): Limit 10000, Used 10000, Requested 1. Please try again in 8.64s. Visit https://platform.openai.com/account/rate-limits to learn more.', 'type': 'requests', 'param': None, 'code': 'rate_limit_exceeded'}}\n",
      "ranibizumab renal failure\n",
      "Encountered an exception for row: acitretin myocardial infarction. Error message below:\n",
      "Error code: 429 - {'error': {'message': 'Rate limit reached for gpt-3.5-turbo in organization org-wi3cHq5g1FGXIxQyl0trnye1 on requests per day (RPD): Limit 10000, Used 10000, Requested 1. Please try again in 8.64s. Visit https://platform.openai.com/account/rate-limits to learn more.', 'type': 'requests', 'param': None, 'code': 'rate_limit_exceeded'}}\n",
      "olutasidenib hepatotoxicity\n",
      "Encountered an exception for row: ferric derisomaltose hepatic enzyme increased. Error message below:\n",
      "Error code: 429 - {'error': {'message': 'Rate limit reached for gpt-3.5-turbo in organization org-wi3cHq5g1FGXIxQyl0trnye1 on requests per day (RPD): Limit 10000, Used 10000, Requested 1. Please try again in 8.64s. Visit https://platform.openai.com/account/rate-limits to learn more.', 'type': 'requests', 'param': None, 'code': 'rate_limit_exceeded'}}\n",
      "pomalidomide myocardial infarction\n",
      "Encountered an exception for row: naltrexone gastrointestinal haemorrhage. Error message below:\n",
      "Error code: 429 - {'error': {'message': 'Rate limit reached for gpt-3.5-turbo in organization org-wi3cHq5g1FGXIxQyl0trnye1 on requests per day (RPD): Limit 10000, Used 10000, Requested 1. Please try again in 8.64s. Visit https://platform.openai.com/account/rate-limits to learn more.', 'type': 'requests', 'param': None, 'code': 'rate_limit_exceeded'}}\n",
      "mogamulizumab renal failure\n"
     ]
    },
    {
     "name": "stderr",
     "output_type": "stream",
     "text": [
      " 63%|██████▎   | 1196/1894 [12:55<32:16,  2.77s/it]"
     ]
    },
    {
     "name": "stdout",
     "output_type": "stream",
     "text": [
      "ferumoxytol acute kidney injury\n",
      "Encountered an exception for row: diltiazem renal failure. Error message below:\n",
      "Error code: 429 - {'error': {'message': 'Rate limit reached for gpt-3.5-turbo in organization org-wi3cHq5g1FGXIxQyl0trnye1 on requests per day (RPD): Limit 10000, Used 10000, Requested 1. Please try again in 8.64s. Visit https://platform.openai.com/account/rate-limits to learn more.', 'type': 'requests', 'param': None, 'code': 'rate_limit_exceeded'}}\n",
      "atezolizumab hepatic failure\n"
     ]
    },
    {
     "name": "stderr",
     "output_type": "stream",
     "text": [
      " 63%|██████▎   | 1202/1894 [12:57<15:05,  1.31s/it]"
     ]
    },
    {
     "name": "stdout",
     "output_type": "stream",
     "text": [
      "Encountered an exception for row: tolvaptan hepatic failure. Error message below:\n",
      "Error code: 429 - {'error': {'message': 'Rate limit reached for gpt-3.5-turbo in organization org-wi3cHq5g1FGXIxQyl0trnye1 on requests per day (RPD): Limit 10000, Used 10000, Requested 1. Please try again in 8.64s. Visit https://platform.openai.com/account/rate-limits to learn more.', 'type': 'requests', 'param': None, 'code': 'rate_limit_exceeded'}}\n",
      "parathyroid hormone renal impairment\n"
     ]
    },
    {
     "name": "stderr",
     "output_type": "stream",
     "text": [
      " 64%|██████▎   | 1203/1894 [13:04<23:00,  2.00s/it]"
     ]
    },
    {
     "name": "stdout",
     "output_type": "stream",
     "text": [
      "Encountered an exception for row: dulaglutide acute kidney injury. Error message below:\n",
      "Error code: 429 - {'error': {'message': 'Rate limit reached for gpt-3.5-turbo in organization org-wi3cHq5g1FGXIxQyl0trnye1 on requests per day (RPD): Limit 10000, Used 10000, Requested 1. Please try again in 8.64s. Visit https://platform.openai.com/account/rate-limits to learn more.', 'type': 'requests', 'param': None, 'code': 'rate_limit_exceeded'}}\n",
      "avapritinib acute kidney injury\n",
      "Encountered an exception for row: voclosporin renal impairment. Error message below:\n",
      "Error code: 429 - {'error': {'message': 'Rate limit reached for gpt-3.5-turbo in organization org-wi3cHq5g1FGXIxQyl0trnye1 on requests per day (RPD): Limit 10000, Used 10000, Requested 1. Please try again in 8.64s. Visit https://platform.openai.com/account/rate-limits to learn more.', 'type': 'requests', 'param': None, 'code': 'rate_limit_exceeded'}}\n",
      "pemigatinib acute kidney injury\n",
      "Encountered an exception for row: orlistat gastrointestinal haemorrhage. Error message below:\n",
      "Error code: 429 - {'error': {'message': 'Rate limit reached for gpt-3.5-turbo in organization org-wi3cHq5g1FGXIxQyl0trnye1 on requests per day (RPD): Limit 10000, Used 10000, Requested 1. Please try again in 8.64s. Visit https://platform.openai.com/account/rate-limits to learn more.', 'type': 'requests', 'param': None, 'code': 'rate_limit_exceeded'}}\n",
      "tremelimumab hepatic failure\n",
      "capmatinib renal failure\n",
      "Encountered an exception for row: ferumoxytol acute kidney injury. Error message below:\n",
      "Error code: 429 - {'error': {'message': 'Rate limit reached for gpt-3.5-turbo in organization org-wi3cHq5g1FGXIxQyl0trnye1 on requests per day (RPD): Limit 10000, Used 10000, Requested 1. Please try again in 8.64s. Visit https://platform.openai.com/account/rate-limits to learn more.', 'type': 'requests', 'param': None, 'code': 'rate_limit_exceeded'}}\n",
      "nilotinib gastrointestinal haemorrhage\n"
     ]
    },
    {
     "name": "stderr",
     "output_type": "stream",
     "text": [
      " 64%|██████▎   | 1206/1894 [13:13<26:41,  2.33s/it]"
     ]
    },
    {
     "name": "stdout",
     "output_type": "stream",
     "text": [
      "Encountered an exception for row: ranibizumab renal failure. Error message below:\n",
      "Error code: 429 - {'error': {'message': 'Rate limit reached for gpt-3.5-turbo in organization org-wi3cHq5g1FGXIxQyl0trnye1 on requests per day (RPD): Limit 10000, Used 10000, Requested 1. Please try again in 8.64s. Visit https://platform.openai.com/account/rate-limits to learn more.', 'type': 'requests', 'param': None, 'code': 'rate_limit_exceeded'}}\n",
      "nilotinib renal failure\n",
      "Encountered an exception for row: mogamulizumab renal failure. Error message below:\n",
      "Error code: 429 - {'error': {'message': 'Rate limit reached for gpt-3.5-turbo in organization org-wi3cHq5g1FGXIxQyl0trnye1 on requests per day (RPD): Limit 10000, Used 10000, Requested 1. Please try again in 8.64s. Visit https://platform.openai.com/account/rate-limits to learn more.', 'type': 'requests', 'param': None, 'code': 'rate_limit_exceeded'}}\n",
      "dinutuximab haematemesis\n",
      "Encountered an exception for row: atezolizumab hepatic failure. Error message below:\n",
      "Error code: 429 - {'error': {'message': 'Rate limit reached for gpt-3.5-turbo in organization org-wi3cHq5g1FGXIxQyl0trnye1 on requests per day (RPD): Limit 10000, Used 10000, Requested 1. Please try again in 8.64s. Visit https://platform.openai.com/account/rate-limits to learn more.', 'type': 'requests', 'param': None, 'code': 'rate_limit_exceeded'}}\n",
      "tagraxofusp hepatotoxicity\n"
     ]
    },
    {
     "name": "stderr",
     "output_type": "stream",
     "text": [
      " 64%|██████▍   | 1208/1894 [13:13<20:39,  1.81s/it]"
     ]
    },
    {
     "name": "stdout",
     "output_type": "stream",
     "text": [
      "linezolid renal impairment\n"
     ]
    },
    {
     "name": "stderr",
     "output_type": "stream",
     "text": [
      " 64%|██████▍   | 1212/1894 [13:15<14:13,  1.25s/it]"
     ]
    },
    {
     "name": "stdout",
     "output_type": "stream",
     "text": [
      "Encountered an exception for row: parathyroid hormone renal impairment. Error message below:\n",
      "Error code: 429 - {'error': {'message': 'Rate limit reached for gpt-3.5-turbo in organization org-wi3cHq5g1FGXIxQyl0trnye1 on requests per day (RPD): Limit 10000, Used 10000, Requested 1. Please try again in 8.64s. Visit https://platform.openai.com/account/rate-limits to learn more.', 'type': 'requests', 'param': None, 'code': 'rate_limit_exceeded'}}\n",
      "bupivacaine hepatic enzyme increased\n"
     ]
    },
    {
     "name": "stderr",
     "output_type": "stream",
     "text": [
      " 64%|██████▍   | 1213/1894 [13:22<22:03,  1.94s/it]"
     ]
    },
    {
     "name": "stdout",
     "output_type": "stream",
     "text": [
      "Encountered an exception for row: avapritinib acute kidney injury. Error message below:\n",
      "Error code: 429 - {'error': {'message': 'Rate limit reached for gpt-3.5-turbo in organization org-wi3cHq5g1FGXIxQyl0trnye1 on requests per day (RPD): Limit 10000, Used 10000, Requested 1. Please try again in 8.64s. Visit https://platform.openai.com/account/rate-limits to learn more.', 'type': 'requests', 'param': None, 'code': 'rate_limit_exceeded'}}\n",
      "remdesivir acute kidney injury\n",
      "Encountered an exception for row: tremelimumab hepatic failure. Error message below:\n",
      "Error code: 429 - {'error': {'message': 'Rate limit reached for gpt-3.5-turbo in organization org-wi3cHq5g1FGXIxQyl0trnye1 on requests per day (RPD): Limit 10000, Used 10000, Requested 1. Please try again in 8.64s. Visit https://platform.openai.com/account/rate-limits to learn more.', 'type': 'requests', 'param': None, 'code': 'rate_limit_exceeded'}}\n",
      "escitalopram renal failure\n",
      "Encountered an exception for row: capmatinib renal failure. Error message below:\n",
      "Error code: 429 - {'error': {'message': 'Rate limit reached for gpt-3.5-turbo in organization org-wi3cHq5g1FGXIxQyl0trnye1 on requests per day (RPD): Limit 10000, Used 10000, Requested 1. Please try again in 8.64s. Visit https://platform.openai.com/account/rate-limits to learn more.', 'type': 'requests', 'param': None, 'code': 'rate_limit_exceeded'}}\n",
      "avelumab hepatocellular injury\n",
      "binimetinib gastrointestinal haemorrhage\n"
     ]
    },
    {
     "name": "stderr",
     "output_type": "stream",
     "text": [
      " 64%|██████▍   | 1217/1894 [13:25<15:56,  1.41s/it]"
     ]
    },
    {
     "name": "stdout",
     "output_type": "stream",
     "text": [
      "Encountered an exception for row: nilotinib gastrointestinal haemorrhage. Error message below:\n",
      "Error code: 429 - {'error': {'message': 'Rate limit reached for gpt-3.5-turbo in organization org-wi3cHq5g1FGXIxQyl0trnye1 on requests per day (RPD): Limit 10000, Used 10000, Requested 1. Please try again in 8.64s. Visit https://platform.openai.com/account/rate-limits to learn more.', 'type': 'requests', 'param': None, 'code': 'rate_limit_exceeded'}}\n",
      "warfarin gastrointestinal haemorrhage\n"
     ]
    },
    {
     "name": "stderr",
     "output_type": "stream",
     "text": [
      " 64%|██████▍   | 1219/1894 [13:31<19:22,  1.72s/it]"
     ]
    },
    {
     "name": "stdout",
     "output_type": "stream",
     "text": [
      "Encountered an exception for row: nilotinib renal failure. Error message below:\n",
      "Error code: 429 - {'error': {'message': 'Rate limit reached for gpt-3.5-turbo in organization org-wi3cHq5g1FGXIxQyl0trnye1 on requests per day (RPD): Limit 10000, Used 10000, Requested 1. Please try again in 8.64s. Visit https://platform.openai.com/account/rate-limits to learn more.', 'type': 'requests', 'param': None, 'code': 'rate_limit_exceeded'}}\n",
      "warfarin renal failure\n",
      "Encountered an exception for row: tagraxofusp hepatotoxicity. Error message below:\n",
      "Error code: 429 - {'error': {'message': 'Rate limit reached for gpt-3.5-turbo in organization org-wi3cHq5g1FGXIxQyl0trnye1 on requests per day (RPD): Limit 10000, Used 10000, Requested 1. Please try again in 8.64s. Visit https://platform.openai.com/account/rate-limits to learn more.', 'type': 'requests', 'param': None, 'code': 'rate_limit_exceeded'}}\n",
      "cidofovir renal failure\n",
      "deferasirox renal impairment\n"
     ]
    },
    {
     "name": "stderr",
     "output_type": "stream",
     "text": [
      " 64%|██████▍   | 1221/1894 [13:31<13:18,  1.19s/it]"
     ]
    },
    {
     "name": "stdout",
     "output_type": "stream",
     "text": [
      "Encountered an exception for row: linezolid renal impairment. Error message below:\n",
      "Error code: 429 - {'error': {'message': 'Rate limit reached for gpt-3.5-turbo in organization org-wi3cHq5g1FGXIxQyl0trnye1 on requests per day (RPD): Limit 10000, Used 10000, Requested 1. Please try again in 8.64s. Visit https://platform.openai.com/account/rate-limits to learn more.', 'type': 'requests', 'param': None, 'code': 'rate_limit_exceeded'}}\n",
      "acetaminophen hepatic failure\n"
     ]
    },
    {
     "name": "stderr",
     "output_type": "stream",
     "text": [
      " 65%|██████▍   | 1222/1894 [13:33<14:36,  1.30s/it]"
     ]
    },
    {
     "name": "stdout",
     "output_type": "stream",
     "text": [
      "Encountered an exception for row: bupivacaine hepatic enzyme increased. Error message below:\n",
      "Error code: 429 - {'error': {'message': 'Rate limit reached for gpt-3.5-turbo in organization org-wi3cHq5g1FGXIxQyl0trnye1 on requests per day (RPD): Limit 10000, Used 10000, Requested 1. Please try again in 8.64s. Visit https://platform.openai.com/account/rate-limits to learn more.', 'type': 'requests', 'param': None, 'code': 'rate_limit_exceeded'}}\n",
      "tobramycin acute kidney injury\n"
     ]
    },
    {
     "name": "stderr",
     "output_type": "stream",
     "text": [
      " 65%|██████▍   | 1223/1894 [13:40<28:05,  2.51s/it]"
     ]
    },
    {
     "name": "stdout",
     "output_type": "stream",
     "text": [
      "Encountered an exception for row: remdesivir acute kidney injury. Error message below:\n",
      "Error code: 429 - {'error': {'message': 'Rate limit reached for gpt-3.5-turbo in organization org-wi3cHq5g1FGXIxQyl0trnye1 on requests per day (RPD): Limit 10000, Used 10000, Requested 1. Please try again in 8.64s. Visit https://platform.openai.com/account/rate-limits to learn more.', 'type': 'requests', 'param': None, 'code': 'rate_limit_exceeded'}}\n",
      "ketoconazole liver injury\n",
      "Encountered an exception for row: avelumab hepatocellular injury. Error message below:\n",
      "Error code: 429 - {'error': {'message': 'Rate limit reached for gpt-3.5-turbo in organization org-wi3cHq5g1FGXIxQyl0trnye1 on requests per day (RPD): Limit 10000, Used 10000, Requested 1. Please try again in 8.64s. Visit https://platform.openai.com/account/rate-limits to learn more.', 'type': 'requests', 'param': None, 'code': 'rate_limit_exceeded'}}\n",
      "tofacitinib myocardial infarction\n",
      "Encountered an exception for row: binimetinib gastrointestinal haemorrhage. Error message below:\n",
      "Error code: 429 - {'error': {'message': 'Rate limit reached for gpt-3.5-turbo in organization org-wi3cHq5g1FGXIxQyl0trnye1 on requests per day (RPD): Limit 10000, Used 10000, Requested 1. Please try again in 8.64s. Visit https://platform.openai.com/account/rate-limits to learn more.', 'type': 'requests', 'param': None, 'code': 'rate_limit_exceeded'}}\n",
      "ketorolac hepatic failure\n"
     ]
    },
    {
     "name": "stderr",
     "output_type": "stream",
     "text": [
      " 65%|██████▍   | 1224/1894 [13:40<21:59,  1.97s/it]"
     ]
    },
    {
     "name": "stdout",
     "output_type": "stream",
     "text": [
      "minocycline hepatic failure\n"
     ]
    },
    {
     "name": "stderr",
     "output_type": "stream",
     "text": [
      " 65%|██████▍   | 1227/1894 [13:43<16:21,  1.47s/it]"
     ]
    },
    {
     "name": "stdout",
     "output_type": "stream",
     "text": [
      "Encountered an exception for row: warfarin gastrointestinal haemorrhage. Error message below:\n",
      "Error code: 429 - {'error': {'message': 'Rate limit reached for gpt-3.5-turbo in organization org-wi3cHq5g1FGXIxQyl0trnye1 on requests per day (RPD): Limit 10000, Used 10000, Requested 1. Please try again in 8.64s. Visit https://platform.openai.com/account/rate-limits to learn more.', 'type': 'requests', 'param': None, 'code': 'rate_limit_exceeded'}}\n",
      "minocycline acute kidney injury\n"
     ]
    },
    {
     "name": "stderr",
     "output_type": "stream",
     "text": [
      " 65%|██████▍   | 1228/1894 [13:49<25:45,  2.32s/it]"
     ]
    },
    {
     "name": "stdout",
     "output_type": "stream",
     "text": [
      "Encountered an exception for row: deferasirox renal impairment. Error message below:\n",
      "Error code: 429 - {'error': {'message': 'Rate limit reached for gpt-3.5-turbo in organization org-wi3cHq5g1FGXIxQyl0trnye1 on requests per day (RPD): Limit 10000, Used 10000, Requested 1. Please try again in 8.64s. Visit https://platform.openai.com/account/rate-limits to learn more.', 'type': 'requests', 'param': None, 'code': 'rate_limit_exceeded'}}\n",
      "hydrocortisone myocardial infarction\n",
      "Encountered an exception for row: cidofovir renal failure. Error message below:\n",
      "Error code: 429 - {'error': {'message': 'Rate limit reached for gpt-3.5-turbo in organization org-wi3cHq5g1FGXIxQyl0trnye1 on requests per day (RPD): Limit 10000, Used 10000, Requested 1. Please try again in 8.64s. Visit https://platform.openai.com/account/rate-limits to learn more.', 'type': 'requests', 'param': None, 'code': 'rate_limit_exceeded'}}\n",
      "ondansetron hepatic enzyme abnormal\n",
      "citalopram hepatic necrosis\n"
     ]
    },
    {
     "name": "stderr",
     "output_type": "stream",
     "text": [
      " 65%|██████▍   | 1231/1894 [13:49<14:28,  1.31s/it]"
     ]
    },
    {
     "name": "stdout",
     "output_type": "stream",
     "text": [
      "Encountered an exception for row: acetaminophen hepatic failure. Error message below:\n",
      "Error code: 429 - {'error': {'message': 'Rate limit reached for gpt-3.5-turbo in organization org-wi3cHq5g1FGXIxQyl0trnye1 on requests per day (RPD): Limit 10000, Used 10000, Requested 1. Please try again in 8.64s. Visit https://platform.openai.com/account/rate-limits to learn more.', 'type': 'requests', 'param': None, 'code': 'rate_limit_exceeded'}}\n",
      "perindopril myocardial infarction\n"
     ]
    },
    {
     "name": "stderr",
     "output_type": "stream",
     "text": [
      " 65%|██████▌   | 1232/1894 [13:51<15:15,  1.38s/it]"
     ]
    },
    {
     "name": "stdout",
     "output_type": "stream",
     "text": [
      "Encountered an exception for row: tobramycin acute kidney injury. Error message below:\n",
      "Error code: 429 - {'error': {'message': 'Rate limit reached for gpt-3.5-turbo in organization org-wi3cHq5g1FGXIxQyl0trnye1 on requests per day (RPD): Limit 10000, Used 10000, Requested 1. Please try again in 8.64s. Visit https://platform.openai.com/account/rate-limits to learn more.', 'type': 'requests', 'param': None, 'code': 'rate_limit_exceeded'}}\n",
      "tetracycline renal impairment\n"
     ]
    },
    {
     "name": "stderr",
     "output_type": "stream",
     "text": [
      " 65%|██████▌   | 1235/1894 [13:58<17:40,  1.61s/it]"
     ]
    },
    {
     "name": "stdout",
     "output_type": "stream",
     "text": [
      "Encountered an exception for row: tofacitinib myocardial infarction. Error message below:\n",
      "Error code: 429 - {'error': {'message': 'Rate limit reached for gpt-3.5-turbo in organization org-wi3cHq5g1FGXIxQyl0trnye1 on requests per day (RPD): Limit 10000, Used 10000, Requested 1. Please try again in 8.64s. Visit https://platform.openai.com/account/rate-limits to learn more.', 'type': 'requests', 'param': None, 'code': 'rate_limit_exceeded'}}\n",
      "naproxen gastrointestinal haemorrhage\n",
      "Encountered an exception for row: ketoconazole liver injury. Error message below:\n",
      "Error code: 429 - {'error': {'message': 'Rate limit reached for gpt-3.5-turbo in organization org-wi3cHq5g1FGXIxQyl0trnye1 on requests per day (RPD): Limit 10000, Used 10000, Requested 1. Please try again in 8.64s. Visit https://platform.openai.com/account/rate-limits to learn more.', 'type': 'requests', 'param': None, 'code': 'rate_limit_exceeded'}}\n",
      "paroxetine hepatic necrosis\n",
      "mesalamine renal failure\n",
      "Encountered an exception for row: minocycline hepatic failure. Error message below:\n",
      "Error code: 429 - {'error': {'message': 'Rate limit reached for gpt-3.5-turbo in organization org-wi3cHq5g1FGXIxQyl0trnye1 on requests per day (RPD): Limit 10000, Used 10000, Requested 1. Please try again in 8.64s. Visit https://platform.openai.com/account/rate-limits to learn more.', 'type': 'requests', 'param': None, 'code': 'rate_limit_exceeded'}}\n",
      "nelfinavir gastrointestinal haemorrhage\n"
     ]
    },
    {
     "name": "stderr",
     "output_type": "stream",
     "text": [
      " 65%|██████▌   | 1237/1894 [14:01<17:08,  1.56s/it]"
     ]
    },
    {
     "name": "stdout",
     "output_type": "stream",
     "text": [
      "Encountered an exception for row: minocycline acute kidney injury. Error message below:\n",
      "Error code: 429 - {'error': {'message': 'Rate limit reached for gpt-3.5-turbo in organization org-wi3cHq5g1FGXIxQyl0trnye1 on requests per day (RPD): Limit 10000, Used 10000, Requested 1. Please try again in 8.64s. Visit https://platform.openai.com/account/rate-limits to learn more.', 'type': 'requests', 'param': None, 'code': 'rate_limit_exceeded'}}\n",
      "indomethacin gastrointestinal haemorrhage\n",
      "Encountered an exception for row: citalopram hepatic necrosis. Error message below:\n",
      "Error code: 429 - {'error': {'message': 'Rate limit reached for gpt-3.5-turbo in organization org-wi3cHq5g1FGXIxQyl0trnye1 on requests per day (RPD): Limit 10000, Used 10000, Requested 1. Please try again in 8.64s. Visit https://platform.openai.com/account/rate-limits to learn more.', 'type': 'requests', 'param': None, 'code': 'rate_limit_exceeded'}}\n",
      "quinine renal impairment\n",
      "Encountered an exception for row: ondansetron hepatic enzyme abnormal. Error message below:\n",
      "Error code: 429 - {'error': {'message': 'Rate limit reached for gpt-3.5-turbo in organization org-wi3cHq5g1FGXIxQyl0trnye1 on requests per day (RPD): Limit 10000, Used 10000, Requested 1. Please try again in 8.64s. Visit https://platform.openai.com/account/rate-limits to learn more.', 'type': 'requests', 'param': None, 'code': 'rate_limit_exceeded'}}\n",
      "rivastigmine gastrointestinal haemorrhage\n"
     ]
    },
    {
     "name": "stderr",
     "output_type": "stream",
     "text": [
      " 65%|██████▌   | 1238/1894 [14:07<26:43,  2.44s/it]"
     ]
    },
    {
     "name": "stdout",
     "output_type": "stream",
     "text": [
      "rifampin liver function test abnormal\n"
     ]
    },
    {
     "name": "stderr",
     "output_type": "stream",
     "text": [
      " 66%|██████▌   | 1241/1894 [14:07<14:53,  1.37s/it]"
     ]
    },
    {
     "name": "stdout",
     "output_type": "stream",
     "text": [
      "Encountered an exception for row: perindopril myocardial infarction. Error message below:\n",
      "Error code: 429 - {'error': {'message': 'Rate limit reached for gpt-3.5-turbo in organization org-wi3cHq5g1FGXIxQyl0trnye1 on requests per day (RPD): Limit 10000, Used 10000, Requested 1. Please try again in 8.64s. Visit https://platform.openai.com/account/rate-limits to learn more.', 'type': 'requests', 'param': None, 'code': 'rate_limit_exceeded'}}\n",
      "pantoprazole hepatic enzyme increased\n"
     ]
    },
    {
     "name": "stderr",
     "output_type": "stream",
     "text": [
      " 66%|██████▌   | 1242/1894 [14:09<15:02,  1.38s/it]"
     ]
    },
    {
     "name": "stdout",
     "output_type": "stream",
     "text": [
      "Encountered an exception for row: tetracycline renal impairment. Error message below:\n",
      "Error code: 429 - {'error': {'message': 'Rate limit reached for gpt-3.5-turbo in organization org-wi3cHq5g1FGXIxQyl0trnye1 on requests per day (RPD): Limit 10000, Used 10000, Requested 1. Please try again in 8.64s. Visit https://platform.openai.com/account/rate-limits to learn more.', 'type': 'requests', 'param': None, 'code': 'rate_limit_exceeded'}}\n",
      "esomeprazole gastrointestinal haemorrhage\n",
      "Encountered an exception for row: paroxetine hepatic necrosis. Error message below:\n",
      "Error code: 429 - {'error': {'message': 'Rate limit reached for gpt-3.5-turbo in organization org-wi3cHq5g1FGXIxQyl0trnye1 on requests per day (RPD): Limit 10000, Used 10000, Requested 1. Please try again in 8.64s. Visit https://platform.openai.com/account/rate-limits to learn more.', 'type': 'requests', 'param': None, 'code': 'rate_limit_exceeded'}}\n",
      "pramipexole gastrointestinal haemorrhage\n",
      "Encountered an exception for row: mesalamine renal failure. Error message below:\n",
      "Error code: 429 - {'error': {'message': 'Rate limit reached for gpt-3.5-turbo in organization org-wi3cHq5g1FGXIxQyl0trnye1 on requests per day (RPD): Limit 10000, Used 10000, Requested 1. Please try again in 8.64s. Visit https://platform.openai.com/account/rate-limits to learn more.', 'type': 'requests', 'param': None, 'code': 'rate_limit_exceeded'}}\n",
      "acarbose liver injury\n",
      "Encountered an exception for row: nelfinavir gastrointestinal haemorrhage. Error message below:\n",
      "Error code: 429 - {'error': {'message': 'Rate limit reached for gpt-3.5-turbo in organization org-wi3cHq5g1FGXIxQyl0trnye1 on requests per day (RPD): Limit 10000, Used 10000, Requested 1. Please try again in 8.64s. Visit https://platform.openai.com/account/rate-limits to learn more.', 'type': 'requests', 'param': None, 'code': 'rate_limit_exceeded'}}\n",
      "cefaclor renal impairment\n"
     ]
    },
    {
     "name": "stderr",
     "output_type": "stream",
     "text": [
      " 66%|██████▌   | 1243/1894 [14:16<28:09,  2.59s/it]"
     ]
    },
    {
     "name": "stdout",
     "output_type": "stream",
     "text": [
      "rasagiline haematemesis\n"
     ]
    },
    {
     "name": "stderr",
     "output_type": "stream",
     "text": [
      " 66%|██████▌   | 1247/1894 [14:19<16:51,  1.56s/it]"
     ]
    },
    {
     "name": "stdout",
     "output_type": "stream",
     "text": [
      "Encountered an exception for row: indomethacin gastrointestinal haemorrhage. Error message below:\n",
      "Error code: 429 - {'error': {'message': 'Rate limit reached for gpt-3.5-turbo in organization org-wi3cHq5g1FGXIxQyl0trnye1 on requests per day (RPD): Limit 10000, Used 10000, Requested 1. Please try again in 8.64s. Visit https://platform.openai.com/account/rate-limits to learn more.', 'type': 'requests', 'param': None, 'code': 'rate_limit_exceeded'}}\n",
      "ketoprofen myocardial infarction\n"
     ]
    },
    {
     "name": "stderr",
     "output_type": "stream",
     "text": [
      " 66%|██████▌   | 1248/1894 [14:25<24:45,  2.30s/it]"
     ]
    },
    {
     "name": "stdout",
     "output_type": "stream",
     "text": [
      "Encountered an exception for row: rivastigmine gastrointestinal haemorrhage. Error message below:Encountered an exception for row: quinine renal impairment. Error message below:\n",
      "Error code: 429 - {'error': {'message': 'Rate limit reached for gpt-3.5-turbo in organization org-wi3cHq5g1FGXIxQyl0trnye1 on requests per day (RPD): Limit 10000, Used 10000, Requested 1. Please try again in 8.64s. Visit https://platform.openai.com/account/rate-limits to learn more.', 'type': 'requests', 'param': None, 'code': 'rate_limit_exceeded'}}\n",
      "donepezil renal failure\n",
      "\n",
      "Error code: 429 - {'error': {'message': 'Rate limit reached for gpt-3.5-turbo in organization org-wi3cHq5g1FGXIxQyl0trnye1 on requests per day (RPD): Limit 10000, Used 10000, Requested 1. Please try again in 8.64s. Visit https://platform.openai.com/account/rate-limits to learn more.', 'type': 'requests', 'param': None, 'code': 'rate_limit_exceeded'}}\n",
      "fosinopril myocardial infarction\n",
      "Encountered an exception for row: pantoprazole hepatic enzyme increased. Error message below:\n",
      "Error code: 429 - {'error': {'message': 'Rate limit reached for gpt-3.5-turbo in organization org-wi3cHq5g1FGXIxQyl0trnye1 on requests per day (RPD): Limit 10000, Used 10000, Requested 1. Please try again in 8.64s. Visit https://platform.openai.com/account/rate-limits to learn more.', 'type': 'requests', 'param': None, 'code': 'rate_limit_exceeded'}}\n",
      "balsalazide hepatic necrosis\n"
     ]
    },
    {
     "name": "stderr",
     "output_type": "stream",
     "text": [
      " 66%|██████▌   | 1250/1894 [14:25<17:18,  1.61s/it]"
     ]
    },
    {
     "name": "stdout",
     "output_type": "stream",
     "text": [
      "mycophenolate mofetil liver function test abnormal\n"
     ]
    },
    {
     "name": "stderr",
     "output_type": "stream",
     "text": [
      " 66%|██████▌   | 1252/1894 [14:26<14:16,  1.33s/it]"
     ]
    },
    {
     "name": "stdout",
     "output_type": "stream",
     "text": [
      "Encountered an exception for row: esomeprazole gastrointestinal haemorrhage. Error message below:\n",
      "Error code: 429 - {'error': {'message': 'Rate limit reached for gpt-3.5-turbo in organization org-wi3cHq5g1FGXIxQyl0trnye1 on requests per day (RPD): Limit 10000, Used 10000, Requested 1. Please try again in 8.64s. Visit https://platform.openai.com/account/rate-limits to learn more.', 'type': 'requests', 'param': None, 'code': 'rate_limit_exceeded'}}\n",
      "levofloxacin acute kidney injury\n"
     ]
    },
    {
     "name": "stderr",
     "output_type": "stream",
     "text": [
      " 66%|██████▌   | 1253/1894 [14:34<26:13,  2.45s/it]"
     ]
    },
    {
     "name": "stdout",
     "output_type": "stream",
     "text": [
      "Encountered an exception for row: acarbose liver injury. Error message below:Encountered an exception for row: rasagiline haematemesis. Error message below:\n",
      "Error code: 429 - {'error': {'message': 'Rate limit reached for gpt-3.5-turbo in organization org-wi3cHq5g1FGXIxQyl0trnye1 on requests per day (RPD): Limit 10000, Used 10000, Requested 1. Please try again in 8.64s. Visit https://platform.openai.com/account/rate-limits to learn more.', 'type': 'requests', 'param': None, 'code': 'rate_limit_exceeded'}}\n",
      "atenolol hepatic failure\n",
      "\n",
      "Error code: 429 - {'error': {'message': 'Rate limit reached for gpt-3.5-turbo in organization org-wi3cHq5g1FGXIxQyl0trnye1 on requests per day (RPD): Limit 10000, Used 10000, Requested 1. Please try again in 8.64s. Visit https://platform.openai.com/account/rate-limits to learn more.', 'type': 'requests', 'param': None, 'code': 'rate_limit_exceeded'}}\n",
      "zolmitriptan haematemesis\n",
      "Encountered an exception for row: cefaclor renal impairment. Error message below:\n",
      "Error code: 429 - {'error': {'message': 'Rate limit reached for gpt-3.5-turbo in organization org-wi3cHq5g1FGXIxQyl0trnye1 on requests per day (RPD): Limit 10000, Used 10000, Requested 1. Please try again in 8.64s. Visit https://platform.openai.com/account/rate-limits to learn more.', 'type': 'requests', 'param': None, 'code': 'rate_limit_exceeded'}}\n",
      "temozolomide hepatotoxicity\n",
      "propylthiouracil hepatic failure\n"
     ]
    },
    {
     "name": "stderr",
     "output_type": "stream",
     "text": [
      " 66%|██████▋   | 1257/1894 [14:37<16:32,  1.56s/it]"
     ]
    },
    {
     "name": "stdout",
     "output_type": "stream",
     "text": [
      "hydromorphone hepatic enzyme increased\n"
     ]
    },
    {
     "name": "stderr",
     "output_type": "stream",
     "text": [
      " 66%|██████▋   | 1258/1894 [14:43<23:44,  2.24s/it]"
     ]
    },
    {
     "name": "stdout",
     "output_type": "stream",
     "text": [
      "Encountered an exception for row: donepezil renal failure. Error message below:\n",
      "Error code: 429 - {'error': {'message': 'Rate limit reached for gpt-3.5-turbo in organization org-wi3cHq5g1FGXIxQyl0trnye1 on requests per day (RPD): Limit 10000, Used 10000, Requested 1. Please try again in 8.64s. Visit https://platform.openai.com/account/rate-limits to learn more.', 'type': 'requests', 'param': None, 'code': 'rate_limit_exceeded'}}\n",
      "famotidine hepatic enzyme abnormal\n",
      "Encountered an exception for row: balsalazide hepatic necrosis. Error message below:\n",
      "Error code: 429 - {'error': {'message': 'Rate limit reached for gpt-3.5-turbo in organization org-wi3cHq5g1FGXIxQyl0trnye1 on requests per day (RPD): Limit 10000, Used 10000, Requested 1. Please try again in 8.64s. Visit https://platform.openai.com/account/rate-limits to learn more.', 'type': 'requests', 'param': None, 'code': 'rate_limit_exceeded'}}\n",
      "escitalopram myocardial infarction\n",
      "Encountered an exception for row: fosinopril myocardial infarction. Error message below:\n",
      "Error code: 429 - {'error': {'message': 'Rate limit reached for gpt-3.5-turbo in organization org-wi3cHq5g1FGXIxQyl0trnye1 on requests per day (RPD): Limit 10000, Used 10000, Requested 1. Please try again in 8.64s. Visit https://platform.openai.com/account/rate-limits to learn more.', 'type': 'requests', 'param': None, 'code': 'rate_limit_exceeded'}}\n",
      "anagrelide hepatotoxicity\n"
     ]
    },
    {
     "name": "stderr",
     "output_type": "stream",
     "text": [
      " 67%|██████▋   | 1261/1894 [14:43<14:34,  1.38s/it]"
     ]
    },
    {
     "name": "stdout",
     "output_type": "stream",
     "text": [
      "Encountered an exception for row: mycophenolate mofetil liver function test abnormal. Error message below:\n",
      "Error code: 429 - {'error': {'message': 'Rate limit reached for gpt-3.5-turbo in organization org-wi3cHq5g1FGXIxQyl0trnye1 on requests per day (RPD): Limit 10000, Used 10000, Requested 1. Please try again in 8.64s. Visit https://platform.openai.com/account/rate-limits to learn more.', 'type': 'requests', 'param': None, 'code': 'rate_limit_exceeded'}}\n",
      "telithromycin hepatotoxicity\n"
     ]
    },
    {
     "name": "stderr",
     "output_type": "stream",
     "text": [
      " 67%|██████▋   | 1262/1894 [14:44<14:41,  1.39s/it]"
     ]
    },
    {
     "name": "stdout",
     "output_type": "stream",
     "text": [
      "Encountered an exception for row: levofloxacin acute kidney injury. Error message below:\n",
      "Error code: 429 - {'error': {'message': 'Rate limit reached for gpt-3.5-turbo in organization org-wi3cHq5g1FGXIxQyl0trnye1 on requests per day (RPD): Limit 10000, Used 10000, Requested 1. Please try again in 8.64s. Visit https://platform.openai.com/account/rate-limits to learn more.', 'type': 'requests', 'param': None, 'code': 'rate_limit_exceeded'}}\n",
      "cidofovir gastrointestinal haemorrhage\n",
      "cidofovir liver injury\n"
     ]
    },
    {
     "name": "stderr",
     "output_type": "stream",
     "text": [
      " 67%|██████▋   | 1266/1894 [14:52<14:48,  1.41s/it]"
     ]
    },
    {
     "name": "stdout",
     "output_type": "stream",
     "text": [
      "Encountered an exception for row: zolmitriptan haematemesis. Error message below:Encountered an exception for row: atenolol hepatic failure. Error message below:\n",
      "Error code: 429 - {'error': {'message': 'Rate limit reached for gpt-3.5-turbo in organization org-wi3cHq5g1FGXIxQyl0trnye1 on requests per day (RPD): Limit 10000, Used 10000, Requested 1. Please try again in 8.64s. Visit https://platform.openai.com/account/rate-limits to learn more.', 'type': 'requests', 'param': None, 'code': 'rate_limit_exceeded'}}\n",
      "isradipine myocardial infarction\n",
      "\n",
      "Error code: 429 - {'error': {'message': 'Rate limit reached for gpt-3.5-turbo in organization org-wi3cHq5g1FGXIxQyl0trnye1 on requests per day (RPD): Limit 10000, Used 10000, Requested 1. Please try again in 8.64s. Visit https://platform.openai.com/account/rate-limits to learn more.', 'type': 'requests', 'param': None, 'code': 'rate_limit_exceeded'}}\n",
      "ursodeoxycholate hepatic enzyme increased\n",
      "Encountered an exception for row: temozolomide hepatotoxicity. Error message below:\n",
      "Error code: 429 - {'error': {'message': 'Rate limit reached for gpt-3.5-turbo in organization org-wi3cHq5g1FGXIxQyl0trnye1 on requests per day (RPD): Limit 10000, Used 10000, Requested 1. Please try again in 8.64s. Visit https://platform.openai.com/account/rate-limits to learn more.', 'type': 'requests', 'param': None, 'code': 'rate_limit_exceeded'}}\n",
      "oxaliplatin acute kidney injury\n",
      "Encountered an exception for row: propylthiouracil hepatic failure. Error message below:\n",
      "Error code: 429 - {'error': {'message': 'Rate limit reached for gpt-3.5-turbo in organization org-wi3cHq5g1FGXIxQyl0trnye1 on requests per day (RPD): Limit 10000, Used 10000, Requested 1. Please try again in 8.64s. Visit https://platform.openai.com/account/rate-limits to learn more.', 'type': 'requests', 'param': None, 'code': 'rate_limit_exceeded'}}\n",
      "celecoxib hepatic necrosis\n",
      "levetiracetam acute kidney injury\n"
     ]
    },
    {
     "name": "stderr",
     "output_type": "stream",
     "text": [
      " 67%|██████▋   | 1268/1894 [15:01<23:48,  2.28s/it]"
     ]
    },
    {
     "name": "stdout",
     "output_type": "stream",
     "text": [
      "Encountered an exception for row: anagrelide hepatotoxicity. Error message below:\n",
      "Error code: 429 - {'error': {'message': 'Rate limit reached for gpt-3.5-turbo in organization org-wi3cHq5g1FGXIxQyl0trnye1 on requests per day (RPD): Limit 10000, Used 10000, Requested 1. Please try again in 8.64s. Visit https://platform.openai.com/account/rate-limits to learn more.', 'type': 'requests', 'param': None, 'code': 'rate_limit_exceeded'}}\n",
      "rivastigmine liver function test abnormal\n",
      "Encountered an exception for row: escitalopram myocardial infarction. Error message below:\n",
      "Error code: 429 - {'error': {'message': 'Rate limit reached for gpt-3.5-turbo in organization org-wi3cHq5g1FGXIxQyl0trnye1 on requests per day (RPD): Limit 10000, Used 10000, Requested 1. Please try again in 8.64s. Visit https://platform.openai.com/account/rate-limits to learn more.', 'type': 'requests', 'param': None, 'code': 'rate_limit_exceeded'}}\n",
      "hydroxychloroquine liver function test abnormal\n",
      "Encountered an exception for row: famotidine hepatic enzyme abnormal. Error message below:\n",
      "Error code: 429 - {'error': {'message': 'Rate limit reached for gpt-3.5-turbo in organization org-wi3cHq5g1FGXIxQyl0trnye1 on requests per day (RPD): Limit 10000, Used 10000, Requested 1. Please try again in 8.64s. Visit https://platform.openai.com/account/rate-limits to learn more.', 'type': 'requests', 'param': None, 'code': 'rate_limit_exceeded'}}\n",
      "fludarabine gastrointestinal haemorrhage\n"
     ]
    },
    {
     "name": "stderr",
     "output_type": "stream",
     "text": [
      " 67%|██████▋   | 1271/1894 [15:01<14:56,  1.44s/it]"
     ]
    },
    {
     "name": "stdout",
     "output_type": "stream",
     "text": [
      "Encountered an exception for row: telithromycin hepatotoxicity. Error message below:\n",
      "Error code: 429 - {'error': {'message': 'Rate limit reached for gpt-3.5-turbo in organization org-wi3cHq5g1FGXIxQyl0trnye1 on requests per day (RPD): Limit 10000, Used 10000, Requested 1. Please try again in 8.64s. Visit https://platform.openai.com/account/rate-limits to learn more.', 'type': 'requests', 'param': None, 'code': 'rate_limit_exceeded'}}\n",
      "bleomycin myocardial infarction\n"
     ]
    },
    {
     "name": "stderr",
     "output_type": "stream",
     "text": [
      " 67%|██████▋   | 1272/1894 [15:03<15:05,  1.46s/it]"
     ]
    },
    {
     "name": "stdout",
     "output_type": "stream",
     "text": [
      "aldesleukin gastrointestinal haemorrhage\n"
     ]
    },
    {
     "name": "stderr",
     "output_type": "stream",
     "text": [
      " 67%|██████▋   | 1274/1894 [15:10<22:08,  2.14s/it]"
     ]
    },
    {
     "name": "stdout",
     "output_type": "stream",
     "text": [
      "Encountered an exception for row: celecoxib hepatic necrosis. Error message below:\n",
      "Error code: 429 - {'error': {'message': 'Rate limit reached for gpt-3.5-turbo in organization org-wi3cHq5g1FGXIxQyl0trnye1 on requests per day (RPD): Limit 10000, Used 10000, Requested 1. Please try again in 8.64s. Visit https://platform.openai.com/account/rate-limits to learn more.', 'type': 'requests', 'param': None, 'code': 'rate_limit_exceeded'}}\n",
      "penicillamine hepatic failure\n",
      "Encountered an exception for row: isradipine myocardial infarction. Error message below:\n",
      "Error code: 429 - {'error': {'message': 'Rate limit reached for gpt-3.5-turbo in organization org-wi3cHq5g1FGXIxQyl0trnye1 on requests per day (RPD): Limit 10000, Used 10000, Requested 1. Please try again in 8.64s. Visit https://platform.openai.com/account/rate-limits to learn more.', 'type': 'requests', 'param': None, 'code': 'rate_limit_exceeded'}}\n",
      "docetaxel myocardial infarction\n",
      "Encountered an exception for row: ursodeoxycholate hepatic enzyme increased. Error message below:\n",
      "Error code: 429 - {'error': {'message': 'Rate limit reached for gpt-3.5-turbo in organization org-wi3cHq5g1FGXIxQyl0trnye1 on requests per day (RPD): Limit 10000, Used 10000, Requested 1. Please try again in 8.64s. Visit https://platform.openai.com/account/rate-limits to learn more.', 'type': 'requests', 'param': None, 'code': 'rate_limit_exceeded'}}\n",
      "daptomycin acute kidney injury\n",
      "Encountered an exception for row: oxaliplatin acute kidney injury. Error message below:\n",
      "Error code: 429 - {'error': {'message': 'Rate limit reached for gpt-3.5-turbo in organization org-wi3cHq5g1FGXIxQyl0trnye1 on requests per day (RPD): Limit 10000, Used 10000, Requested 1. Please try again in 8.64s. Visit https://platform.openai.com/account/rate-limits to learn more.', 'type': 'requests', 'param': None, 'code': 'rate_limit_exceeded'}}\n",
      "methotrexate hepatotoxicity\n",
      "bortezomib hepatic failure\n"
     ]
    },
    {
     "name": "stderr",
     "output_type": "stream",
     "text": [
      " 67%|██████▋   | 1278/1894 [15:13<15:25,  1.50s/it]"
     ]
    },
    {
     "name": "stdout",
     "output_type": "stream",
     "text": [
      "Encountered an exception for row: levetiracetam acute kidney injury. Error message below:\n",
      "Error code: 429 - {'error': {'message': 'Rate limit reached for gpt-3.5-turbo in organization org-wi3cHq5g1FGXIxQyl0trnye1 on requests per day (RPD): Limit 10000, Used 10000, Requested 1. Please try again in 8.64s. Visit https://platform.openai.com/account/rate-limits to learn more.', 'type': 'requests', 'param': None, 'code': 'rate_limit_exceeded'}}\n",
      "minocycline hepatocellular injury\n"
     ]
    },
    {
     "name": "stderr",
     "output_type": "stream",
     "text": [
      " 68%|██████▊   | 1279/1894 [15:19<21:47,  2.13s/it]"
     ]
    },
    {
     "name": "stdout",
     "output_type": "stream",
     "text": [
      "Encountered an exception for row: hydroxychloroquine liver function test abnormal. Error message below:\n",
      "Error code: 429 - {'error': {'message': 'Rate limit reached for gpt-3.5-turbo in organization org-wi3cHq5g1FGXIxQyl0trnye1 on requests per day (RPD): Limit 10000, Used 10000, Requested 1. Please try again in 8.64s. Visit https://platform.openai.com/account/rate-limits to learn more.', 'type': 'requests', 'param': None, 'code': 'rate_limit_exceeded'}}\n",
      "floxuridine hepatic necrosis\n",
      "Encountered an exception for row: fludarabine gastrointestinal haemorrhage. Error message below:\n",
      "Error code: 429 - {'error': {'message': 'Rate limit reached for gpt-3.5-turbo in organization org-wi3cHq5g1FGXIxQyl0trnye1 on requests per day (RPD): Limit 10000, Used 10000, Requested 1. Please try again in 8.64s. Visit https://platform.openai.com/account/rate-limits to learn more.', 'type': 'requests', 'param': None, 'code': 'rate_limit_exceeded'}}\n",
      "isoflurane hepatic necrosis\n",
      "Encountered an exception for row: bleomycin myocardial infarction. Error message below:\n",
      "Error code: 429 - {'error': {'message': 'Rate limit reached for gpt-3.5-turbo in organization org-wi3cHq5g1FGXIxQyl0trnye1 on requests per day (RPD): Limit 10000, Used 10000, Requested 1. Please try again in 8.64s. Visit https://platform.openai.com/account/rate-limits to learn more.', 'type': 'requests', 'param': None, 'code': 'rate_limit_exceeded'}}\n",
      "bexarotene hepatic failure\n",
      "Encountered an exception for row: rivastigmine liver function test abnormal. Error message below:\n",
      "Error code: 429 - {'error': {'message': 'Rate limit reached for gpt-3.5-turbo in organization org-wi3cHq5g1FGXIxQyl0trnye1 on requests per day (RPD): Limit 10000, Used 10000, Requested 1. Please try again in 8.64s. Visit https://platform.openai.com/account/rate-limits to learn more.', 'type': 'requests', 'param': None, 'code': 'rate_limit_exceeded'}}\n",
      "bexarotene hepatotoxicity\n",
      "clofarabine hepatotoxicity\n"
     ]
    },
    {
     "name": "stderr",
     "output_type": "stream",
     "text": [
      " 68%|██████▊   | 1284/1894 [15:28<19:55,  1.96s/it]"
     ]
    },
    {
     "name": "stdout",
     "output_type": "stream",
     "text": [
      "Encountered an exception for row: penicillamine hepatic failure. Error message below:\n",
      "Error code: 429 - {'error': {'message': 'Rate limit reached for gpt-3.5-turbo in organization org-wi3cHq5g1FGXIxQyl0trnye1 on requests per day (RPD): Limit 10000, Used 10000, Requested 1. Please try again in 8.64s. Visit https://platform.openai.com/account/rate-limits to learn more.', 'type': 'requests', 'param': None, 'code': 'rate_limit_exceeded'}}\n",
      "zileuton liver injury\n",
      "Encountered an exception for row: methotrexate hepatotoxicity. Error message below:\n",
      "Error code: 429 - {'error': {'message': 'Rate limit reached for gpt-3.5-turbo in organization org-wi3cHq5g1FGXIxQyl0trnye1 on requests per day (RPD): Limit 10000, Used 10000, Requested 1. Please try again in 8.64s. Visit https://platform.openai.com/account/rate-limits to learn more.', 'type': 'requests', 'param': None, 'code': 'rate_limit_exceeded'}}\n",
      "haloperidol acute hepatic failure\n",
      "Encountered an exception for row: daptomycin acute kidney injury. Error message below:\n",
      "Error code: 429 - {'error': {'message': 'Rate limit reached for gpt-3.5-turbo in organization org-wi3cHq5g1FGXIxQyl0trnye1 on requests per day (RPD): Limit 10000, Used 10000, Requested 1. Please try again in 8.64s. Visit https://platform.openai.com/account/rate-limits to learn more.', 'type': 'requests', 'param': None, 'code': 'rate_limit_exceeded'}}\n",
      "dihydroergotamine myocardial infarction\n",
      "Encountered an exception for row: docetaxel myocardial infarction. Error message below:\n",
      "Error code: 429 - {'error': {'message': 'Rate limit reached for gpt-3.5-turbo in organization org-wi3cHq5g1FGXIxQyl0trnye1 on requests per day (RPD): Limit 10000, Used 10000, Requested 1. Please try again in 8.64s. Visit https://platform.openai.com/account/rate-limits to learn more.', 'type': 'requests', 'param': None, 'code': 'rate_limit_exceeded'}}\n",
      "fulvestrant hepatotoxicity\n",
      "fulvestrant liver function test abnormal\n"
     ]
    },
    {
     "name": "stderr",
     "output_type": "stream",
     "text": [
      " 68%|██████▊   | 1289/1894 [15:31<14:04,  1.40s/it]"
     ]
    },
    {
     "name": "stdout",
     "output_type": "stream",
     "text": [
      "Encountered an exception for row: minocycline hepatocellular injury. Error message below:\n",
      "Error code: 429 - {'error': {'message': 'Rate limit reached for gpt-3.5-turbo in organization org-wi3cHq5g1FGXIxQyl0trnye1 on requests per day (RPD): Limit 10000, Used 10000, Requested 1. Please try again in 8.64s. Visit https://platform.openai.com/account/rate-limits to learn more.', 'type': 'requests', 'param': None, 'code': 'rate_limit_exceeded'}}\n",
      "cefpodoxime liver injury\n"
     ]
    },
    {
     "name": "stderr",
     "output_type": "stream",
     "text": [
      " 68%|██████▊   | 1290/1894 [15:37<18:40,  1.86s/it]"
     ]
    },
    {
     "name": "stdout",
     "output_type": "stream",
     "text": [
      "Encountered an exception for row: floxuridine hepatic necrosis. Error message below:\n",
      "Error code: 429 - {'error': {'message': 'Rate limit reached for gpt-3.5-turbo in organization org-wi3cHq5g1FGXIxQyl0trnye1 on requests per day (RPD): Limit 10000, Used 10000, Requested 1. Please try again in 8.64s. Visit https://platform.openai.com/account/rate-limits to learn more.', 'type': 'requests', 'param': None, 'code': 'rate_limit_exceeded'}}\n",
      "dabigatran etexilate myocardial infarction\n",
      "Encountered an exception for row: bexarotene hepatic failure. Error message below:\n",
      "Error code: 429 - {'error': {'message': 'Rate limit reached for gpt-3.5-turbo in organization org-wi3cHq5g1FGXIxQyl0trnye1 on requests per day (RPD): Limit 10000, Used 10000, Requested 1. Please try again in 8.64s. Visit https://platform.openai.com/account/rate-limits to learn more.', 'type': 'requests', 'param': None, 'code': 'rate_limit_exceeded'}}\n",
      "arsenic trioxide renal failure\n",
      "Encountered an exception for row: isoflurane hepatic necrosis. Error message below:\n",
      "Error code: 429 - {'error': {'message': 'Rate limit reached for gpt-3.5-turbo in organization org-wi3cHq5g1FGXIxQyl0trnye1 on requests per day (RPD): Limit 10000, Used 10000, Requested 1. Please try again in 8.64s. Visit https://platform.openai.com/account/rate-limits to learn more.', 'type': 'requests', 'param': None, 'code': 'rate_limit_exceeded'}}\n",
      "panobinostat hepatotoxicity\n",
      "Encountered an exception for row: bexarotene hepatotoxicity. Error message below:\n",
      "Error code: 429 - {'error': {'message': 'Rate limit reached for gpt-3.5-turbo in organization org-wi3cHq5g1FGXIxQyl0trnye1 on requests per day (RPD): Limit 10000, Used 10000, Requested 1. Please try again in 8.64s. Visit https://platform.openai.com/account/rate-limits to learn more.', 'type': 'requests', 'param': None, 'code': 'rate_limit_exceeded'}}\n",
      "vinorelbine myocardial infarction\n",
      "caspofungin hepatic failure\n"
     ]
    },
    {
     "name": "stderr",
     "output_type": "stream",
     "text": [
      " 68%|██████▊   | 1295/1894 [15:46<18:24,  1.84s/it]"
     ]
    },
    {
     "name": "stdout",
     "output_type": "stream",
     "text": [
      "Encountered an exception for row: fulvestrant hepatotoxicity. Error message below:\n",
      "Error code: 429 - {'error': {'message': 'Rate limit reached for gpt-3.5-turbo in organization org-wi3cHq5g1FGXIxQyl0trnye1 on requests per day (RPD): Limit 10000, Used 10000, Requested 1. Please try again in 8.64s. Visit https://platform.openai.com/account/rate-limits to learn more.', 'type': 'requests', 'param': None, 'code': 'rate_limit_exceeded'}}\n",
      "mycophenolate mofetil hepatic enzyme increased\n",
      "Encountered an exception for row: haloperidol acute hepatic failure. Error message below:\n",
      "Error code: 429 - {'error': {'message': 'Rate limit reached for gpt-3.5-turbo in organization org-wi3cHq5g1FGXIxQyl0trnye1 on requests per day (RPD): Limit 10000, Used 10000, Requested 1. Please try again in 8.64s. Visit https://platform.openai.com/account/rate-limits to learn more.', 'type': 'requests', 'param': None, 'code': 'rate_limit_exceeded'}}\n",
      "methylnaltrexone myocardial infarction\n",
      "Encountered an exception for row: dihydroergotamine myocardial infarction. Error message below:\n",
      "Error code: 429 - {'error': {'message': 'Rate limit reached for gpt-3.5-turbo in organization org-wi3cHq5g1FGXIxQyl0trnye1 on requests per day (RPD): Limit 10000, Used 10000, Requested 1. Please try again in 8.64s. Visit https://platform.openai.com/account/rate-limits to learn more.', 'type': 'requests', 'param': None, 'code': 'rate_limit_exceeded'}}\n",
      "duvelisib renal failure\n",
      "mefenamate renal failure\n"
     ]
    },
    {
     "name": "stderr",
     "output_type": "stream",
     "text": [
      " 69%|██████▊   | 1299/1894 [15:48<14:05,  1.42s/it]"
     ]
    },
    {
     "name": "stdout",
     "output_type": "stream",
     "text": [
      "Encountered an exception for row: fulvestrant liver function test abnormal. Error message below:\n",
      "Error code: 429 - {'error': {'message': 'Rate limit reached for gpt-3.5-turbo in organization org-wi3cHq5g1FGXIxQyl0trnye1 on requests per day (RPD): Limit 10000, Used 10000, Requested 1. Please try again in 8.64s. Visit https://platform.openai.com/account/rate-limits to learn more.', 'type': 'requests', 'param': None, 'code': 'rate_limit_exceeded'}}\n",
      "ertapenem renal impairment\n"
     ]
    },
    {
     "name": "stderr",
     "output_type": "stream",
     "text": [
      " 69%|██████▊   | 1300/1894 [15:49<13:19,  1.35s/it]"
     ]
    },
    {
     "name": "stdout",
     "output_type": "stream",
     "text": [
      "Encountered an exception for row: cefpodoxime liver injury. Error message below:\n",
      "Error code: 429 - {'error': {'message': 'Rate limit reached for gpt-3.5-turbo in organization org-wi3cHq5g1FGXIxQyl0trnye1 on requests per day (RPD): Limit 10000, Used 10000, Requested 1. Please try again in 8.64s. Visit https://platform.openai.com/account/rate-limits to learn more.', 'type': 'requests', 'param': None, 'code': 'rate_limit_exceeded'}}\n",
      "alectinib acute kidney injury\n"
     ]
    },
    {
     "name": "stderr",
     "output_type": "stream",
     "text": [
      " 69%|██████▊   | 1302/1894 [15:55<16:55,  1.71s/it]"
     ]
    },
    {
     "name": "stdout",
     "output_type": "stream",
     "text": [
      "Encountered an exception for row: panobinostat hepatotoxicity. Error message below:\n",
      "Error code: 429 - {'error': {'message': 'Rate limit reached for gpt-3.5-turbo in organization org-wi3cHq5g1FGXIxQyl0trnye1 on requests per day (RPD): Limit 10000, Used 10000, Requested 1. Please try again in 8.64s. Visit https://platform.openai.com/account/rate-limits to learn more.', 'type': 'requests', 'param': None, 'code': 'rate_limit_exceeded'}}\n",
      "tipranavir hepatic enzyme increased\n",
      "Encountered an exception for row: vinorelbine myocardial infarction. Error message below:\n",
      "Error code: 429 - {'error': {'message': 'Rate limit reached for gpt-3.5-turbo in organization org-wi3cHq5g1FGXIxQyl0trnye1 on requests per day (RPD): Limit 10000, Used 10000, Requested 1. Please try again in 8.64s. Visit https://platform.openai.com/account/rate-limits to learn more.', 'type': 'requests', 'param': None, 'code': 'rate_limit_exceeded'}}\n",
      "eculizumab renal failure\n",
      "bosutinib renal impairment\n"
     ]
    },
    {
     "name": "stderr",
     "output_type": "stream",
     "text": [
      " 69%|██████▉   | 1305/1894 [15:55<11:32,  1.18s/it]"
     ]
    },
    {
     "name": "stdout",
     "output_type": "stream",
     "text": [
      "Encountered an exception for row: caspofungin hepatic failure. Error message below:\n",
      "Error code: 429 - {'error': {'message': 'Rate limit reached for gpt-3.5-turbo in organization org-wi3cHq5g1FGXIxQyl0trnye1 on requests per day (RPD): Limit 10000, Used 10000, Requested 1. Please try again in 8.64s. Visit https://platform.openai.com/account/rate-limits to learn more.', 'type': 'requests', 'param': None, 'code': 'rate_limit_exceeded'}}\n",
      "naltrexone hepatic enzyme increased\n"
     ]
    },
    {
     "name": "stderr",
     "output_type": "stream",
     "text": [
      " 69%|██████▉   | 1306/1894 [16:03<21:23,  2.18s/it]"
     ]
    },
    {
     "name": "stdout",
     "output_type": "stream",
     "text": [
      "Encountered an exception for row: mycophenolate mofetil hepatic enzyme increased. Error message below:\n",
      "Error code: 429 - {'error': {'message': 'Rate limit reached for gpt-3.5-turbo in organization org-wi3cHq5g1FGXIxQyl0trnye1 on requests per day (RPD): Limit 10000, Used 10000, Requested 1. Please try again in 8.64s. Visit https://platform.openai.com/account/rate-limits to learn more.', 'type': 'requests', 'param': None, 'code': 'rate_limit_exceeded'}}\n",
      "ertugliflozin renal impairment\n",
      "Encountered an exception for row: duvelisib renal failure. Error message below:\n",
      "Error code: 429 - {'error': {'message': 'Rate limit reached for gpt-3.5-turbo in organization org-wi3cHq5g1FGXIxQyl0trnye1 on requests per day (RPD): Limit 10000, Used 10000, Requested 1. Please try again in 8.64s. Visit https://platform.openai.com/account/rate-limits to learn more.', 'type': 'requests', 'param': None, 'code': 'rate_limit_exceeded'}}\n",
      "etoposide acute kidney injury\n",
      "Encountered an exception for row: mefenamate renal failure. Error message below:\n",
      "Error code: 429 - {'error': {'message': 'Rate limit reached for gpt-3.5-turbo in organization org-wi3cHq5g1FGXIxQyl0trnye1 on requests per day (RPD): Limit 10000, Used 10000, Requested 1. Please try again in 8.64s. Visit https://platform.openai.com/account/rate-limits to learn more.', 'type': 'requests', 'param': None, 'code': 'rate_limit_exceeded'}}\n",
      "asparaginase acute kidney injury\n",
      "Encountered an exception for row: methylnaltrexone myocardial infarction. Error message below:\n",
      "Error code: 429 - {'error': {'message': 'Rate limit reached for gpt-3.5-turbo in organization org-wi3cHq5g1FGXIxQyl0trnye1 on requests per day (RPD): Limit 10000, Used 10000, Requested 1. Please try again in 8.64s. Visit https://platform.openai.com/account/rate-limits to learn more.', 'type': 'requests', 'param': None, 'code': 'rate_limit_exceeded'}}\n",
      "rucaparib acute kidney injury\n",
      "mosunetuzumab renal failure\n"
     ]
    },
    {
     "name": "stderr",
     "output_type": "stream",
     "text": [
      " 69%|██████▉   | 1310/1894 [16:06<14:26,  1.48s/it]"
     ]
    },
    {
     "name": "stdout",
     "output_type": "stream",
     "text": [
      "Encountered an exception for row: ertapenem renal impairment. Error message below:\n",
      "Error code: 429 - {'error': {'message': 'Rate limit reached for gpt-3.5-turbo in organization org-wi3cHq5g1FGXIxQyl0trnye1 on requests per day (RPD): Limit 10000, Used 10000, Requested 1. Please try again in 8.64s. Visit https://platform.openai.com/account/rate-limits to learn more.', 'type': 'requests', 'param': None, 'code': 'rate_limit_exceeded'}}\n",
      "tocilizumab hepatic enzyme abnormal\n"
     ]
    },
    {
     "name": "stderr",
     "output_type": "stream",
     "text": [
      " 69%|██████▉   | 1311/1894 [16:07<13:31,  1.39s/it]"
     ]
    },
    {
     "name": "stdout",
     "output_type": "stream",
     "text": [
      "Encountered an exception for row: alectinib acute kidney injury. Error message below:\n",
      "Error code: 429 - {'error': {'message': 'Rate limit reached for gpt-3.5-turbo in organization org-wi3cHq5g1FGXIxQyl0trnye1 on requests per day (RPD): Limit 10000, Used 10000, Requested 1. Please try again in 8.64s. Visit https://platform.openai.com/account/rate-limits to learn more.', 'type': 'requests', 'param': None, 'code': 'rate_limit_exceeded'}}\n",
      "certolizumab pegol hepatic enzyme increased\n"
     ]
    },
    {
     "name": "stderr",
     "output_type": "stream",
     "text": [
      " 69%|██████▉   | 1313/1894 [16:12<17:39,  1.82s/it]"
     ]
    },
    {
     "name": "stdout",
     "output_type": "stream",
     "text": [
      "Encountered an exception for row: bosutinib renal impairment. Error message below:\n",
      "Error code: 429 - {'error': {'message': 'Rate limit reached for gpt-3.5-turbo in organization org-wi3cHq5g1FGXIxQyl0trnye1 on requests per day (RPD): Limit 10000, Used 10000, Requested 1. Please try again in 8.64s. Visit https://platform.openai.com/account/rate-limits to learn more.', 'type': 'requests', 'param': None, 'code': 'rate_limit_exceeded'}}\n",
      "isavuconazonium hepatic failure\n",
      "isavuconazonium renal failure\n"
     ]
    },
    {
     "name": "stderr",
     "output_type": "stream",
     "text": [
      " 69%|██████▉   | 1315/1894 [16:13<12:47,  1.33s/it]"
     ]
    },
    {
     "name": "stdout",
     "output_type": "stream",
     "text": [
      "Encountered an exception for row: naltrexone hepatic enzyme increased. Error message below:\n",
      "Error code: 429 - {'error': {'message': 'Rate limit reached for gpt-3.5-turbo in organization org-wi3cHq5g1FGXIxQyl0trnye1 on requests per day (RPD): Limit 10000, Used 10000, Requested 1. Please try again in 8.64s. Visit https://platform.openai.com/account/rate-limits to learn more.', 'type': 'requests', 'param': None, 'code': 'rate_limit_exceeded'}}\n",
      "isavuconazonium acute kidney injury\n"
     ]
    },
    {
     "name": "stderr",
     "output_type": "stream",
     "text": [
      " 69%|██████▉   | 1316/1894 [16:21<24:50,  2.58s/it]"
     ]
    },
    {
     "name": "stdout",
     "output_type": "stream",
     "text": [
      "futibatinib gastrointestinal haemorrhage\n",
      "Encountered an exception for row: asparaginase acute kidney injury. Error message below:\n",
      "Error code: 429 - {'error': {'message': 'Rate limit reached for gpt-3.5-turbo in organization org-wi3cHq5g1FGXIxQyl0trnye1 on requests per day (RPD): Limit 10000, Used 10000, Requested 1. Please try again in 8.64s. Visit https://platform.openai.com/account/rate-limits to learn more.', 'type': 'requests', 'param': None, 'code': 'rate_limit_exceeded'}}\n",
      "testosterone gastrointestinal haemorrhage\n",
      "Encountered an exception for row: rucaparib acute kidney injury. Error message below:\n",
      "Error code: 429 - {'error': {'message': 'Rate limit reached for gpt-3.5-turbo in organization org-wi3cHq5g1FGXIxQyl0trnye1 on requests per day (RPD): Limit 10000, Used 10000, Requested 1. Please try again in 8.64s. Visit https://platform.openai.com/account/rate-limits to learn more.', 'type': 'requests', 'param': None, 'code': 'rate_limit_exceeded'}}\n",
      "dotatate myocardial infarction\n",
      "Encountered an exception for row: etoposide acute kidney injury. Error message below:\n",
      "Error code: 429 - {'error': {'message': 'Rate limit reached for gpt-3.5-turbo in organization org-wi3cHq5g1FGXIxQyl0trnye1 on requests per day (RPD): Limit 10000, Used 10000, Requested 1. Please try again in 8.64s. Visit https://platform.openai.com/account/rate-limits to learn more.', 'type': 'requests', 'param': None, 'code': 'rate_limit_exceeded'}}\n",
      "vismodegib liver injury\n",
      "Encountered an exception for row: mosunetuzumab renal failure. Error message below:\n",
      "Error code: 429 - {'error': {'message': 'Rate limit reached for gpt-3.5-turbo in organization org-wi3cHq5g1FGXIxQyl0trnye1 on requests per day (RPD): Limit 10000, Used 10000, Requested 1. Please try again in 8.64s. Visit https://platform.openai.com/account/rate-limits to learn more.', 'type': 'requests', 'param': None, 'code': 'rate_limit_exceeded'}}\n",
      "pomalidomide hepatic failure\n"
     ]
    },
    {
     "name": "stderr",
     "output_type": "stream",
     "text": [
      " 70%|██████▉   | 1321/1894 [16:24<13:33,  1.42s/it]"
     ]
    },
    {
     "name": "stdout",
     "output_type": "stream",
     "text": [
      "Encountered an exception for row: tocilizumab hepatic enzyme abnormal. Error message below:\n",
      "Error code: 429 - {'error': {'message': 'Rate limit reached for gpt-3.5-turbo in organization org-wi3cHq5g1FGXIxQyl0trnye1 on requests per day (RPD): Limit 10000, Used 10000, Requested 1. Please try again in 8.64s. Visit https://platform.openai.com/account/rate-limits to learn more.', 'type': 'requests', 'param': None, 'code': 'rate_limit_exceeded'}}\n",
      "diazepam hepatic failure\n"
     ]
    },
    {
     "name": "stderr",
     "output_type": "stream",
     "text": [
      " 70%|██████▉   | 1322/1894 [16:25<12:56,  1.36s/it]"
     ]
    },
    {
     "name": "stdout",
     "output_type": "stream",
     "text": [
      "Encountered an exception for row: certolizumab pegol hepatic enzyme increased. Error message below:\n",
      "Error code: 429 - {'error': {'message': 'Rate limit reached for gpt-3.5-turbo in organization org-wi3cHq5g1FGXIxQyl0trnye1 on requests per day (RPD): Limit 10000, Used 10000, Requested 1. Please try again in 8.64s. Visit https://platform.openai.com/account/rate-limits to learn more.', 'type': 'requests', 'param': None, 'code': 'rate_limit_exceeded'}}\n",
      "abemaciclib acute kidney injury\n"
     ]
    },
    {
     "name": "stderr",
     "output_type": "stream",
     "text": [
      " 70%|██████▉   | 1323/1894 [16:30<19:36,  2.06s/it]"
     ]
    },
    {
     "name": "stdout",
     "output_type": "stream",
     "text": [
      "Encountered an exception for row: isavuconazonium renal failure. Error message below:\n",
      "Error code: 429 - {'error': {'message': 'Rate limit reached for gpt-3.5-turbo in organization org-wi3cHq5g1FGXIxQyl0trnye1 on requests per day (RPD): Limit 10000, Used 10000, Requested 1. Please try again in 8.64s. Visit https://platform.openai.com/account/rate-limits to learn more.', 'type': 'requests', 'param': None, 'code': 'rate_limit_exceeded'}}\n",
      "belinostat hepatotoxicity\n",
      "adagrasib renal impairment\n",
      "Encountered an exception for row: isavuconazonium acute kidney injury. Error message below:\n",
      "Error code: 429 - {'error': {'message': 'Rate limit reached for gpt-3.5-turbo in organization org-wi3cHq5g1FGXIxQyl0trnye1 on requests per day (RPD): Limit 10000, Used 10000, Requested 1. Please try again in 8.64s. Visit https://platform.openai.com/account/rate-limits to learn more.', 'type': 'requests', 'param': None, 'code': 'rate_limit_exceeded'}}\n",
      "andexanet alfa myocardial infarction\n"
     ]
    },
    {
     "name": "stderr",
     "output_type": "stream",
     "text": [
      " 70%|███████   | 1326/1894 [16:39<23:11,  2.45s/it]"
     ]
    },
    {
     "name": "stdout",
     "output_type": "stream",
     "text": [
      "Encountered an exception for row: pomalidomide hepatic failure. Error message below:\n",
      "Error code: 429 - {'error': {'message': 'Rate limit reached for gpt-3.5-turbo in organization org-wi3cHq5g1FGXIxQyl0trnye1 on requests per day (RPD): Limit 10000, Used 10000, Requested 1. Please try again in 8.64s. Visit https://platform.openai.com/account/rate-limits to learn more.', 'type': 'requests', 'param': None, 'code': 'rate_limit_exceeded'}}\n",
      "tremelimumab acute kidney injury\n",
      "Encountered an exception for row: testosterone gastrointestinal haemorrhage. Error message below:\n",
      "Error code: 429 - {'error': {'message': 'Rate limit reached for gpt-3.5-turbo in organization org-wi3cHq5g1FGXIxQyl0trnye1 on requests per day (RPD): Limit 10000, Used 10000, Requested 1. Please try again in 8.64s. Visit https://platform.openai.com/account/rate-limits to learn more.', 'type': 'requests', 'param': None, 'code': 'rate_limit_exceeded'}}\n",
      "ribociclib liver injury\n",
      "Encountered an exception for row: dotatate myocardial infarction. Error message below:\n",
      "Error code: 429 - {'error': {'message': 'Rate limit reached for gpt-3.5-turbo in organization org-wi3cHq5g1FGXIxQyl0trnye1 on requests per day (RPD): Limit 10000, Used 10000, Requested 1. Please try again in 8.64s. Visit https://platform.openai.com/account/rate-limits to learn more.', 'type': 'requests', 'param': None, 'code': 'rate_limit_exceeded'}}\n",
      "remdesivir hepatic enzyme increased\n",
      "Encountered an exception for row: vismodegib liver injury. Error message below:\n",
      "Error code: 429 - {'error': {'message': 'Rate limit reached for gpt-3.5-turbo in organization org-wi3cHq5g1FGXIxQyl0trnye1 on requests per day (RPD): Limit 10000, Used 10000, Requested 1. Please try again in 8.64s. Visit https://platform.openai.com/account/rate-limits to learn more.', 'type': 'requests', 'param': None, 'code': 'rate_limit_exceeded'}}\n",
      "emapalumab gastrointestinal haemorrhage\n",
      "avelumab liver injury\n"
     ]
    },
    {
     "name": "stderr",
     "output_type": "stream",
     "text": [
      " 70%|███████   | 1331/1894 [16:42<13:40,  1.46s/it]"
     ]
    },
    {
     "name": "stdout",
     "output_type": "stream",
     "text": [
      "Encountered an exception for row: diazepam hepatic failure. Error message below:\n",
      "Error code: 429 - {'error': {'message': 'Rate limit reached for gpt-3.5-turbo in organization org-wi3cHq5g1FGXIxQyl0trnye1 on requests per day (RPD): Limit 10000, Used 10000, Requested 1. Please try again in 8.64s. Visit https://platform.openai.com/account/rate-limits to learn more.', 'type': 'requests', 'param': None, 'code': 'rate_limit_exceeded'}}\n",
      "axitinib hepatic enzyme increased\n"
     ]
    },
    {
     "name": "stderr",
     "output_type": "stream",
     "text": [
      " 70%|███████   | 1332/1894 [16:42<12:54,  1.38s/it]"
     ]
    },
    {
     "name": "stdout",
     "output_type": "stream",
     "text": [
      "Encountered an exception for row: abemaciclib acute kidney injury. Error message below:\n",
      "Error code: 429 - {'error': {'message': 'Rate limit reached for gpt-3.5-turbo in organization org-wi3cHq5g1FGXIxQyl0trnye1 on requests per day (RPD): Limit 10000, Used 10000, Requested 1. Please try again in 8.64s. Visit https://platform.openai.com/account/rate-limits to learn more.', 'type': 'requests', 'param': None, 'code': 'rate_limit_exceeded'}}\n",
      "cidofovir acute kidney injury\n"
     ]
    },
    {
     "name": "stderr",
     "output_type": "stream",
     "text": [
      " 70%|███████   | 1333/1894 [16:48<19:03,  2.04s/it]"
     ]
    },
    {
     "name": "stdout",
     "output_type": "stream",
     "text": [
      "Encountered an exception for row: belinostat hepatotoxicity. Error message below:\n",
      "Error code: 429 - {'error': {'message': 'Rate limit reached for gpt-3.5-turbo in organization org-wi3cHq5g1FGXIxQyl0trnye1 on requests per day (RPD): Limit 10000, Used 10000, Requested 1. Please try again in 8.64s. Visit https://platform.openai.com/account/rate-limits to learn more.', 'type': 'requests', 'param': None, 'code': 'rate_limit_exceeded'}}\n",
      "felbamate hepatocellular injury\n",
      "Encountered an exception for row: andexanet alfa myocardial infarction. Error message below:\n",
      "Error code: 429 - {'error': {'message': 'Rate limit reached for gpt-3.5-turbo in organization org-wi3cHq5g1FGXIxQyl0trnye1 on requests per day (RPD): Limit 10000, Used 10000, Requested 1. Please try again in 8.64s. Visit https://platform.openai.com/account/rate-limits to learn more.', 'type': 'requests', 'param': None, 'code': 'rate_limit_exceeded'}}\n",
      "methotrexate liver function test abnormal\n"
     ]
    },
    {
     "name": "stderr",
     "output_type": "stream",
     "text": [
      " 70%|███████   | 1334/1894 [16:48<16:05,  1.72s/it]"
     ]
    },
    {
     "name": "stdout",
     "output_type": "stream",
     "text": [
      "acetaminophen hepatotoxicity\n",
      "Encountered an exception for row: emapalumab gastrointestinal haemorrhage. Error message below:\n",
      "Error code: 429 - {'error': {'message': 'Rate limit reached for gpt-3.5-turbo in organization org-wi3cHq5g1FGXIxQyl0trnye1 on requests per day (RPD): Limit 10000, Used 10000, Requested 1. Please try again in 8.64s. Visit https://platform.openai.com/account/rate-limits to learn more.', 'type': 'requests', 'param': None, 'code': 'rate_limit_exceeded'}}\n",
      "zolpidem acute kidney injury\n",
      "Encountered an exception for row: ribociclib liver injury. Error message below:\n",
      "Error code: 429 - {'error': {'message': 'Rate limit reached for gpt-3.5-turbo in organization org-wi3cHq5g1FGXIxQyl0trnye1 on requests per day (RPD): Limit 10000, Used 10000, Requested 1. Please try again in 8.64s. Visit https://platform.openai.com/account/rate-limits to learn more.', 'type': 'requests', 'param': None, 'code': 'rate_limit_exceeded'}}\n",
      "quinapril gastrointestinal haemorrhage\n",
      "Encountered an exception for row: remdesivir hepatic enzyme increased. Error message below:\n",
      "Error code: 429 - {'error': {'message': 'Rate limit reached for gpt-3.5-turbo in organization org-wi3cHq5g1FGXIxQyl0trnye1 on requests per day (RPD): Limit 10000, Used 10000, Requested 1. Please try again in 8.64s. Visit https://platform.openai.com/account/rate-limits to learn more.', 'type': 'requests', 'param': None, 'code': 'rate_limit_exceeded'}}\n",
      "torsemide hepatic failure\n"
     ]
    },
    {
     "name": "stderr",
     "output_type": "stream",
     "text": [
      " 71%|███████   | 1336/1894 [16:57<24:34,  2.64s/it]"
     ]
    },
    {
     "name": "stdout",
     "output_type": "stream",
     "text": [
      "Encountered an exception for row: avelumab liver injury. Error message below:\n",
      "Error code: 429 - {'error': {'message': 'Rate limit reached for gpt-3.5-turbo in organization org-wi3cHq5g1FGXIxQyl0trnye1 on requests per day (RPD): Limit 10000, Used 10000, Requested 1. Please try again in 8.64s. Visit https://platform.openai.com/account/rate-limits to learn more.', 'type': 'requests', 'param': None, 'code': 'rate_limit_exceeded'}}\n",
      "piroxicam hepatic failure\n",
      "ciprofloxacin liver function test abnormal\n"
     ]
    },
    {
     "name": "stderr",
     "output_type": "stream",
     "text": [
      " 71%|███████   | 1341/1894 [16:59<13:10,  1.43s/it]"
     ]
    },
    {
     "name": "stdout",
     "output_type": "stream",
     "text": [
      "Encountered an exception for row: axitinib hepatic enzyme increased. Error message below:\n",
      "Error code: 429 - {'error': {'message': 'Rate limit reached for gpt-3.5-turbo in organization org-wi3cHq5g1FGXIxQyl0trnye1 on requests per day (RPD): Limit 10000, Used 10000, Requested 1. Please try again in 8.64s. Visit https://platform.openai.com/account/rate-limits to learn more.', 'type': 'requests', 'param': None, 'code': 'rate_limit_exceeded'}}\n",
      "rosiglitazone hepatotoxicity\n"
     ]
    },
    {
     "name": "stderr",
     "output_type": "stream",
     "text": [
      " 71%|███████   | 1342/1894 [17:00<12:27,  1.35s/it]"
     ]
    },
    {
     "name": "stdout",
     "output_type": "stream",
     "text": [
      "Encountered an exception for row: cidofovir acute kidney injury. Error message below:\n",
      "Error code: 429 - {'error': {'message': 'Rate limit reached for gpt-3.5-turbo in organization org-wi3cHq5g1FGXIxQyl0trnye1 on requests per day (RPD): Limit 10000, Used 10000, Requested 1. Please try again in 8.64s. Visit https://platform.openai.com/account/rate-limits to learn more.', 'type': 'requests', 'param': None, 'code': 'rate_limit_exceeded'}}\n",
      "citalopram myocardial infarction\n"
     ]
    },
    {
     "name": "stderr",
     "output_type": "stream",
     "text": [
      " 71%|███████   | 1343/1894 [17:06<19:18,  2.10s/it]"
     ]
    },
    {
     "name": "stdout",
     "output_type": "stream",
     "text": [
      "Encountered an exception for row: methotrexate liver function test abnormal. Error message below:\n",
      "Error code: 429 - {'error': {'message': 'Rate limit reached for gpt-3.5-turbo in organization org-wi3cHq5g1FGXIxQyl0trnye1 on requests per day (RPD): Limit 10000, Used 10000, Requested 1. Please try again in 8.64s. Visit https://platform.openai.com/account/rate-limits to learn more.', 'type': 'requests', 'param': None, 'code': 'rate_limit_exceeded'}}\n",
      "tizanidine myocardial infarction\n",
      "Encountered an exception for row: acetaminophen hepatotoxicity. Error message below:\n",
      "Error code: 429 - {'error': {'message': 'Rate limit reached for gpt-3.5-turbo in organization org-wi3cHq5g1FGXIxQyl0trnye1 on requests per day (RPD): Limit 10000, Used 10000, Requested 1. Please try again in 8.64s. Visit https://platform.openai.com/account/rate-limits to learn more.', 'type': 'requests', 'param': None, 'code': 'rate_limit_exceeded'}}\n",
      "fluvoxamine gastrointestinal haemorrhage\n",
      "trazodone myocardial infarction\n"
     ]
    },
    {
     "name": "stderr",
     "output_type": "stream",
     "text": [
      " 71%|███████   | 1346/1894 [17:15<22:03,  2.41s/it]"
     ]
    },
    {
     "name": "stdout",
     "output_type": "stream",
     "text": [
      "Encountered an exception for row: zolpidem acute kidney injury. Error message below:\n",
      "Error code: 429 - {'error': {'message': 'Rate limit reached for gpt-3.5-turbo in organization org-wi3cHq5g1FGXIxQyl0trnye1 on requests per day (RPD): Limit 10000, Used 10000, Requested 1. Please try again in 8.64s. Visit https://platform.openai.com/account/rate-limits to learn more.', 'type': 'requests', 'param': None, 'code': 'rate_limit_exceeded'}}\n",
      "pravastatin liver function test abnormal\n",
      "Encountered an exception for row: torsemide hepatic failure. Error message below:\n",
      "Error code: 429 - {'error': {'message': 'Rate limit reached for gpt-3.5-turbo in organization org-wi3cHq5g1FGXIxQyl0trnye1 on requests per day (RPD): Limit 10000, Used 10000, Requested 1. Please try again in 8.64s. Visit https://platform.openai.com/account/rate-limits to learn more.', 'type': 'requests', 'param': None, 'code': 'rate_limit_exceeded'}}\n",
      "sertraline hepatic failure\n"
     ]
    },
    {
     "name": "stderr",
     "output_type": "stream",
     "text": [
      " 71%|███████   | 1347/1894 [17:15<18:49,  2.07s/it]"
     ]
    },
    {
     "name": "stdout",
     "output_type": "stream",
     "text": [
      "sertraline acute kidney injury\n",
      "Encountered an exception for row: ciprofloxacin liver function test abnormal. Error message below:\n",
      "Error code: 429 - {'error': {'message': 'Rate limit reached for gpt-3.5-turbo in organization org-wi3cHq5g1FGXIxQyl0trnye1 on requests per day (RPD): Limit 10000, Used 10000, Requested 1. Please try again in 8.64s. Visit https://platform.openai.com/account/rate-limits to learn more.', 'type': 'requests', 'param': None, 'code': 'rate_limit_exceeded'}}\n",
      "memantine hepatic failure\n",
      "Encountered an exception for row: piroxicam hepatic failure. Error message below:\n",
      "Error code: 429 - {'error': {'message': 'Rate limit reached for gpt-3.5-turbo in organization org-wi3cHq5g1FGXIxQyl0trnye1 on requests per day (RPD): Limit 10000, Used 10000, Requested 1. Please try again in 8.64s. Visit https://platform.openai.com/account/rate-limits to learn more.', 'type': 'requests', 'param': None, 'code': 'rate_limit_exceeded'}}\n",
      "memantine renal failure\n"
     ]
    },
    {
     "name": "stderr",
     "output_type": "stream",
     "text": [
      " 71%|███████▏  | 1351/1894 [17:17<12:00,  1.33s/it]"
     ]
    },
    {
     "name": "stdout",
     "output_type": "stream",
     "text": [
      "Encountered an exception for row: rosiglitazone hepatotoxicity. Error message below:\n",
      "Error code: 429 - {'error': {'message': 'Rate limit reached for gpt-3.5-turbo in organization org-wi3cHq5g1FGXIxQyl0trnye1 on requests per day (RPD): Limit 10000, Used 10000, Requested 1. Please try again in 8.64s. Visit https://platform.openai.com/account/rate-limits to learn more.', 'type': 'requests', 'param': None, 'code': 'rate_limit_exceeded'}}\n",
      "gemfibrozil liver function test abnormal\n"
     ]
    },
    {
     "name": "stderr",
     "output_type": "stream",
     "text": [
      " 71%|███████▏  | 1352/1894 [17:18<11:28,  1.27s/it]"
     ]
    },
    {
     "name": "stdout",
     "output_type": "stream",
     "text": [
      "Encountered an exception for row: citalopram myocardial infarction. Error message below:\n",
      "Error code: 429 - {'error': {'message': 'Rate limit reached for gpt-3.5-turbo in organization org-wi3cHq5g1FGXIxQyl0trnye1 on requests per day (RPD): Limit 10000, Used 10000, Requested 1. Please try again in 8.64s. Visit https://platform.openai.com/account/rate-limits to learn more.', 'type': 'requests', 'param': None, 'code': 'rate_limit_exceeded'}}\n",
      "fenofibrate renal failure\n"
     ]
    },
    {
     "name": "stderr",
     "output_type": "stream",
     "text": [
      " 71%|███████▏  | 1353/1894 [17:24<18:24,  2.04s/it]"
     ]
    },
    {
     "name": "stdout",
     "output_type": "stream",
     "text": [
      "Encountered an exception for row: tizanidine myocardial infarction. Error message below:\n",
      "Error code: 429 - {'error': {'message': 'Rate limit reached for gpt-3.5-turbo in organization org-wi3cHq5g1FGXIxQyl0trnye1 on requests per day (RPD): Limit 10000, Used 10000, Requested 1. Please try again in 8.64s. Visit https://platform.openai.com/account/rate-limits to learn more.', 'type': 'requests', 'param': None, 'code': 'rate_limit_exceeded'}}\n",
      "morphine renal failure\n",
      "enalapril myocardial infarction\n"
     ]
    },
    {
     "name": "stderr",
     "output_type": "stream",
     "text": [
      " 71%|███████▏  | 1354/1894 [17:24<15:10,  1.69s/it]"
     ]
    },
    {
     "name": "stdout",
     "output_type": "stream",
     "text": [
      "Encountered an exception for row: trazodone myocardial infarction. Error message below:\n",
      "Error code: 429 - {'error': {'message': 'Rate limit reached for gpt-3.5-turbo in organization org-wi3cHq5g1FGXIxQyl0trnye1 on requests per day (RPD): Limit 10000, Used 10000, Requested 1. Please try again in 8.64s. Visit https://platform.openai.com/account/rate-limits to learn more.', 'type': 'requests', 'param': None, 'code': 'rate_limit_exceeded'}}\n",
      "darunavir hepatotoxicity\n",
      "Encountered an exception for row: fluvoxamine gastrointestinal haemorrhage. Error message below:\n",
      "Error code: 429 - {'error': {'message': 'Rate limit reached for gpt-3.5-turbo in organization org-wi3cHq5g1FGXIxQyl0trnye1 on requests per day (RPD): Limit 10000, Used 10000, Requested 1. Please try again in 8.64s. Visit https://platform.openai.com/account/rate-limits to learn more.', 'type': 'requests', 'param': None, 'code': 'rate_limit_exceeded'}}\n",
      "leflunomide hepatic enzyme increased\n"
     ]
    },
    {
     "name": "stderr",
     "output_type": "stream",
     "text": [
      " 72%|███████▏  | 1357/1894 [17:33<20:29,  2.29s/it]"
     ]
    },
    {
     "name": "stdout",
     "output_type": "stream",
     "text": [
      "Encountered an exception for row: memantine hepatic failure. Error message below:\n",
      "Error code: 429 - {'error': {'message': 'Rate limit reached for gpt-3.5-turbo in organization org-wi3cHq5g1FGXIxQyl0trnye1 on requests per day (RPD): Limit 10000, Used 10000, Requested 1. Please try again in 8.64s. Visit https://platform.openai.com/account/rate-limits to learn more.', 'type': 'requests', 'param': None, 'code': 'rate_limit_exceeded'}}\n",
      "etodolac hepatic enzyme increased\n",
      "Encountered an exception for row: sertraline acute kidney injury. Error message below:\n",
      "Error code: 429 - {'error': {'message': 'Rate limit reached for gpt-3.5-turbo in organization org-wi3cHq5g1FGXIxQyl0trnye1 on requests per day (RPD): Limit 10000, Used 10000, Requested 1. Please try again in 8.64s. Visit https://platform.openai.com/account/rate-limits to learn more.', 'type': 'requests', 'param': None, 'code': 'rate_limit_exceeded'}}\n",
      "varenicline gastrointestinal haemorrhage\n",
      "Encountered an exception for row: memantine renal failure. Error message below:\n",
      "Error code: 429 - {'error': {'message': 'Rate limit reached for gpt-3.5-turbo in organization org-wi3cHq5g1FGXIxQyl0trnye1 on requests per day (RPD): Limit 10000, Used 10000, Requested 1. Please try again in 8.64s. Visit https://platform.openai.com/account/rate-limits to learn more.', 'type': 'requests', 'param': None, 'code': 'rate_limit_exceeded'}}\n",
      "varenicline renal failure\n",
      "desloratadine hepatic enzyme increased\n"
     ]
    },
    {
     "name": "stderr",
     "output_type": "stream",
     "text": [
      " 72%|███████▏  | 1361/1894 [17:35<12:47,  1.44s/it]"
     ]
    },
    {
     "name": "stdout",
     "output_type": "stream",
     "text": [
      "Encountered an exception for row: gemfibrozil liver function test abnormal. Error message below:\n",
      "Error code: 429 - {'error': {'message': 'Rate limit reached for gpt-3.5-turbo in organization org-wi3cHq5g1FGXIxQyl0trnye1 on requests per day (RPD): Limit 10000, Used 10000, Requested 1. Please try again in 8.64s. Visit https://platform.openai.com/account/rate-limits to learn more.', 'type': 'requests', 'param': None, 'code': 'rate_limit_exceeded'}}\n",
      "dicloxacillin renal failure\n"
     ]
    },
    {
     "name": "stderr",
     "output_type": "stream",
     "text": [
      " 72%|███████▏  | 1362/1894 [17:36<12:12,  1.38s/it]"
     ]
    },
    {
     "name": "stdout",
     "output_type": "stream",
     "text": [
      "Encountered an exception for row: fenofibrate renal failure. Error message below:\n",
      "Error code: 429 - {'error': {'message': 'Rate limit reached for gpt-3.5-turbo in organization org-wi3cHq5g1FGXIxQyl0trnye1 on requests per day (RPD): Limit 10000, Used 10000, Requested 1. Please try again in 8.64s. Visit https://platform.openai.com/account/rate-limits to learn more.', 'type': 'requests', 'param': None, 'code': 'rate_limit_exceeded'}}\n",
      "eplerenone myocardial infarction\n"
     ]
    },
    {
     "name": "stderr",
     "output_type": "stream",
     "text": [
      " 72%|███████▏  | 1364/1894 [17:42<15:31,  1.76s/it]"
     ]
    },
    {
     "name": "stdout",
     "output_type": "stream",
     "text": [
      "Encountered an exception for row: morphine renal failure. Error message below:\n",
      "Error code: 429 - {'error': {'message': 'Rate limit reached for gpt-3.5-turbo in organization org-wi3cHq5g1FGXIxQyl0trnye1 on requests per day (RPD): Limit 10000, Used 10000, Requested 1. Please try again in 8.64s. Visit https://platform.openai.com/account/rate-limits to learn more.', 'type': 'requests', 'param': None, 'code': 'rate_limit_exceeded'}}\n",
      "testosterone renal failure\n",
      "Encountered an exception for row: leflunomide hepatic enzyme increased. Error message below:\n",
      "Error code: 429 - {'error': {'message': 'Rate limit reached for gpt-3.5-turbo in organization org-wi3cHq5g1FGXIxQyl0trnye1 on requests per day (RPD): Limit 10000, Used 10000, Requested 1. Please try again in 8.64s. Visit https://platform.openai.com/account/rate-limits to learn more.', 'type': 'requests', 'param': None, 'code': 'rate_limit_exceeded'}}\n",
      "amiloride gastrointestinal haemorrhage\n",
      "Encountered an exception for row: darunavir hepatotoxicity. Error message below:\n",
      "Error code: 429 - {'error': {'message': 'Rate limit reached for gpt-3.5-turbo in organization org-wi3cHq5g1FGXIxQyl0trnye1 on requests per day (RPD): Limit 10000, Used 10000, Requested 1. Please try again in 8.64s. Visit https://platform.openai.com/account/rate-limits to learn more.', 'type': 'requests', 'param': None, 'code': 'rate_limit_exceeded'}}\n",
      "mycophenolate mofetil liver injury\n",
      "letrozole myocardial infarction\n"
     ]
    },
    {
     "name": "stderr",
     "output_type": "stream",
     "text": [
      " 72%|███████▏  | 1367/1894 [17:51<20:05,  2.29s/it]"
     ]
    },
    {
     "name": "stdout",
     "output_type": "stream",
     "text": [
      "Encountered an exception for row: etodolac hepatic enzyme increased. Error message below:\n",
      "Error code: 429 - {'error': {'message': 'Rate limit reached for gpt-3.5-turbo in organization org-wi3cHq5g1FGXIxQyl0trnye1 on requests per day (RPD): Limit 10000, Used 10000, Requested 1. Please try again in 8.64s. Visit https://platform.openai.com/account/rate-limits to learn more.', 'type': 'requests', 'param': None, 'code': 'rate_limit_exceeded'}}\n",
      "mycophenolate mofetil renal impairment\n",
      "Encountered an exception for row: desloratadine hepatic enzyme increased. Error message below:\n",
      "Error code: 429 - {'error': {'message': 'Rate limit reached for gpt-3.5-turbo in organization org-wi3cHq5g1FGXIxQyl0trnye1 on requests per day (RPD): Limit 10000, Used 10000, Requested 1. Please try again in 8.64s. Visit https://platform.openai.com/account/rate-limits to learn more.', 'type': 'requests', 'param': None, 'code': 'rate_limit_exceeded'}}\n",
      "cyclosporine myocardial infarction\n",
      "Encountered an exception for row: varenicline renal failure. Error message below:\n",
      "Error code: 429 - {'error': {'message': 'Rate limit reached for gpt-3.5-turbo in organization org-wi3cHq5g1FGXIxQyl0trnye1 on requests per day (RPD): Limit 10000, Used 10000, Requested 1. Please try again in 8.64s. Visit https://platform.openai.com/account/rate-limits to learn more.', 'type': 'requests', 'param': None, 'code': 'rate_limit_exceeded'}}\n",
      "acetazolamide hepatic failure\n"
     ]
    },
    {
     "name": "stderr",
     "output_type": "stream",
     "text": [
      " 72%|███████▏  | 1368/1894 [17:51<16:47,  1.92s/it]"
     ]
    },
    {
     "name": "stdout",
     "output_type": "stream",
     "text": [
      "imipramine myocardial infarction\n"
     ]
    },
    {
     "name": "stderr",
     "output_type": "stream",
     "text": [
      " 72%|███████▏  | 1371/1894 [17:53<11:41,  1.34s/it]"
     ]
    },
    {
     "name": "stdout",
     "output_type": "stream",
     "text": [
      "Encountered an exception for row: dicloxacillin renal failure. Error message below:\n",
      "Error code: 429 - {'error': {'message': 'Rate limit reached for gpt-3.5-turbo in organization org-wi3cHq5g1FGXIxQyl0trnye1 on requests per day (RPD): Limit 10000, Used 10000, Requested 1. Please try again in 8.64s. Visit https://platform.openai.com/account/rate-limits to learn more.', 'type': 'requests', 'param': None, 'code': 'rate_limit_exceeded'}}\n",
      "azithromycin hepatotoxicity\n"
     ]
    },
    {
     "name": "stderr",
     "output_type": "stream",
     "text": [
      " 72%|███████▏  | 1372/1894 [17:54<11:07,  1.28s/it]"
     ]
    },
    {
     "name": "stdout",
     "output_type": "stream",
     "text": [
      "Encountered an exception for row: eplerenone myocardial infarction. Error message below:\n",
      "Error code: 429 - {'error': {'message': 'Rate limit reached for gpt-3.5-turbo in organization org-wi3cHq5g1FGXIxQyl0trnye1 on requests per day (RPD): Limit 10000, Used 10000, Requested 1. Please try again in 8.64s. Visit https://platform.openai.com/account/rate-limits to learn more.', 'type': 'requests', 'param': None, 'code': 'rate_limit_exceeded'}}\n",
      "nateglinide hepatic enzyme increased\n"
     ]
    },
    {
     "name": "stderr",
     "output_type": "stream",
     "text": [
      " 73%|███████▎  | 1374/1894 [18:00<15:22,  1.77s/it]"
     ]
    },
    {
     "name": "stdout",
     "output_type": "stream",
     "text": [
      "Encountered an exception for row: testosterone renal failure. Error message below:Encountered an exception for row: mycophenolate mofetil liver injury. Error message below:\n",
      "Error code: 429 - {'error': {'message': 'Rate limit reached for gpt-3.5-turbo in organization org-wi3cHq5g1FGXIxQyl0trnye1 on requests per day (RPD): Limit 10000, Used 10000, Requested 1. Please try again in 8.64s. Visit https://platform.openai.com/account/rate-limits to learn more.', 'type': 'requests', 'param': None, 'code': 'rate_limit_exceeded'}}\n",
      "fondaparinux myocardial infarction\n",
      "\n",
      "Error code: 429 - {'error': {'message': 'Rate limit reached for gpt-3.5-turbo in organization org-wi3cHq5g1FGXIxQyl0trnye1 on requests per day (RPD): Limit 10000, Used 10000, Requested 1. Please try again in 8.64s. Visit https://platform.openai.com/account/rate-limits to learn more.', 'type': 'requests', 'param': None, 'code': 'rate_limit_exceeded'}}\n",
      "mefloquine hepatic failure\n",
      "Encountered an exception for row: letrozole myocardial infarction. Error message below:\n",
      "Error code: 429 - {'error': {'message': 'Rate limit reached for gpt-3.5-turbo in organization org-wi3cHq5g1FGXIxQyl0trnye1 on requests per day (RPD): Limit 10000, Used 10000, Requested 1. Please try again in 8.64s. Visit https://platform.openai.com/account/rate-limits to learn more.', 'type': 'requests', 'param': None, 'code': 'rate_limit_exceeded'}}\n",
      "clarithromycin hepatotoxicity\n",
      "bumetanide renal failure\n"
     ]
    },
    {
     "name": "stderr",
     "output_type": "stream",
     "text": [
      " 73%|███████▎  | 1377/1894 [18:09<19:57,  2.32s/it]"
     ]
    },
    {
     "name": "stdout",
     "output_type": "stream",
     "text": [
      "Encountered an exception for row: mycophenolate mofetil renal impairment. Error message below:\n",
      "Error code: 429 - {'error': {'message': 'Rate limit reached for gpt-3.5-turbo in organization org-wi3cHq5g1FGXIxQyl0trnye1 on requests per day (RPD): Limit 10000, Used 10000, Requested 1. Please try again in 8.64s. Visit https://platform.openai.com/account/rate-limits to learn more.', 'type': 'requests', 'param': None, 'code': 'rate_limit_exceeded'}}\n",
      "talc myocardial infarction\n",
      "Encountered an exception for row: cyclosporine myocardial infarction. Error message below:\n",
      "Error code: 429 - {'error': {'message': 'Rate limit reached for gpt-3.5-turbo in organization org-wi3cHq5g1FGXIxQyl0trnye1 on requests per day (RPD): Limit 10000, Used 10000, Requested 1. Please try again in 8.64s. Visit https://platform.openai.com/account/rate-limits to learn more.', 'type': 'requests', 'param': None, 'code': 'rate_limit_exceeded'}}\n",
      "olsalazine hepatotoxicity\n",
      "Encountered an exception for row: imipramine myocardial infarction. Error message below:\n",
      "Error code: 429 - {'error': {'message': 'Rate limit reached for gpt-3.5-turbo in organization org-wi3cHq5g1FGXIxQyl0trnye1 on requests per day (RPD): Limit 10000, Used 10000, Requested 1. Please try again in 8.64s. Visit https://platform.openai.com/account/rate-limits to learn more.', 'type': 'requests', 'param': None, 'code': 'rate_limit_exceeded'}}\n",
      "clozapine hepatotoxicity\n"
     ]
    },
    {
     "name": "stderr",
     "output_type": "stream",
     "text": [
      " 73%|███████▎  | 1379/1894 [18:09<13:54,  1.62s/it]"
     ]
    },
    {
     "name": "stdout",
     "output_type": "stream",
     "text": [
      "clozapine renal failure\n"
     ]
    },
    {
     "name": "stderr",
     "output_type": "stream",
     "text": [
      " 73%|███████▎  | 1381/1894 [18:11<11:46,  1.38s/it]"
     ]
    },
    {
     "name": "stdout",
     "output_type": "stream",
     "text": [
      "Encountered an exception for row: azithromycin hepatotoxicity. Error message below:\n",
      "Error code: 429 - {'error': {'message': 'Rate limit reached for gpt-3.5-turbo in organization org-wi3cHq5g1FGXIxQyl0trnye1 on requests per day (RPD): Limit 10000, Used 10000, Requested 1. Please try again in 8.64s. Visit https://platform.openai.com/account/rate-limits to learn more.', 'type': 'requests', 'param': None, 'code': 'rate_limit_exceeded'}}\n",
      "repaglinide myocardial infarction\n"
     ]
    },
    {
     "name": "stderr",
     "output_type": "stream",
     "text": [
      " 73%|███████▎  | 1382/1894 [18:12<11:17,  1.32s/it]"
     ]
    },
    {
     "name": "stdout",
     "output_type": "stream",
     "text": [
      "Encountered an exception for row: nateglinide hepatic enzyme increased. Error message below:\n",
      "Error code: 429 - {'error': {'message': 'Rate limit reached for gpt-3.5-turbo in organization org-wi3cHq5g1FGXIxQyl0trnye1 on requests per day (RPD): Limit 10000, Used 10000, Requested 1. Please try again in 8.64s. Visit https://platform.openai.com/account/rate-limits to learn more.', 'type': 'requests', 'param': None, 'code': 'rate_limit_exceeded'}}\n",
      "felbamate acute kidney injury\n"
     ]
    },
    {
     "name": "stderr",
     "output_type": "stream",
     "text": [
      " 73%|███████▎  | 1383/1894 [18:18<19:52,  2.33s/it]"
     ]
    },
    {
     "name": "stdout",
     "output_type": "stream",
     "text": [
      "Encountered an exception for row: mefloquine hepatic failure. Error message below:\n",
      "Error code: 429 - {'error': {'message': 'Rate limit reached for gpt-3.5-turbo in organization org-wi3cHq5g1FGXIxQyl0trnye1 on requests per day (RPD): Limit 10000, Used 10000, Requested 1. Please try again in 8.64s. Visit https://platform.openai.com/account/rate-limits to learn more.', 'type': 'requests', 'param': None, 'code': 'rate_limit_exceeded'}}\n",
      "ticlopidine hepatic necrosis\n",
      "Encountered an exception for row: clarithromycin hepatotoxicity. Error message below:\n",
      "Error code: 429 - {'error': {'message': 'Rate limit reached for gpt-3.5-turbo in organization org-wi3cHq5g1FGXIxQyl0trnye1 on requests per day (RPD): Limit 10000, Used 10000, Requested 1. Please try again in 8.64s. Visit https://platform.openai.com/account/rate-limits to learn more.', 'type': 'requests', 'param': None, 'code': 'rate_limit_exceeded'}}\n",
      "tiagabine renal failure\n",
      "Encountered an exception for row: fondaparinux myocardial infarction. Error message below:\n",
      "Error code: 429 - {'error': {'message': 'Rate limit reached for gpt-3.5-turbo in organization org-wi3cHq5g1FGXIxQyl0trnye1 on requests per day (RPD): Limit 10000, Used 10000, Requested 1. Please try again in 8.64s. Visit https://platform.openai.com/account/rate-limits to learn more.', 'type': 'requests', 'param': None, 'code': 'rate_limit_exceeded'}}\n",
      "meropenem gastrointestinal haemorrhage\n"
     ]
    },
    {
     "name": "stderr",
     "output_type": "stream",
     "text": [
      " 73%|███████▎  | 1386/1894 [18:18<10:45,  1.27s/it]"
     ]
    },
    {
     "name": "stdout",
     "output_type": "stream",
     "text": [
      "argatroban gastrointestinal haemorrhage\n"
     ]
    },
    {
     "name": "stderr",
     "output_type": "stream",
     "text": [
      " 73%|███████▎  | 1389/1894 [18:27<14:37,  1.74s/it]"
     ]
    },
    {
     "name": "stdout",
     "output_type": "stream",
     "text": [
      "Encountered an exception for row: talc myocardial infarction. Error message below:Encountered an exception for row: olsalazine hepatotoxicity. Error message below:\n",
      "Error code: 429 - {'error': {'message': 'Rate limit reached for gpt-3.5-turbo in organization org-wi3cHq5g1FGXIxQyl0trnye1 on requests per day (RPD): Limit 10000, Used 10000, Requested 1. Please try again in 8.64s. Visit https://platform.openai.com/account/rate-limits to learn more.', 'type': 'requests', 'param': None, 'code': 'rate_limit_exceeded'}}\n",
      "flucytosine hepatic necrosis\n",
      "\n",
      "Error code: 429 - {'error': {'message': 'Rate limit reached for gpt-3.5-turbo in organization org-wi3cHq5g1FGXIxQyl0trnye1 on requests per day (RPD): Limit 10000, Used 10000, Requested 1. Please try again in 8.64s. Visit https://platform.openai.com/account/rate-limits to learn more.', 'type': 'requests', 'param': None, 'code': 'rate_limit_exceeded'}}\n",
      "albendazole acute hepatic failure\n",
      "Encountered an exception for row: clozapine renal failure. Error message below:\n",
      "Error code: 429 - {'error': {'message': 'Rate limit reached for gpt-3.5-turbo in organization org-wi3cHq5g1FGXIxQyl0trnye1 on requests per day (RPD): Limit 10000, Used 10000, Requested 1. Please try again in 8.64s. Visit https://platform.openai.com/account/rate-limits to learn more.', 'type': 'requests', 'param': None, 'code': 'rate_limit_exceeded'}}\n",
      "abacavir hepatic failure\n",
      "solifenacin renal impairment\n"
     ]
    },
    {
     "name": "stderr",
     "output_type": "stream",
     "text": [
      " 73%|███████▎  | 1391/1894 [18:28<11:59,  1.43s/it]"
     ]
    },
    {
     "name": "stdout",
     "output_type": "stream",
     "text": [
      "Encountered an exception for row: repaglinide myocardial infarction. Error message below:\n",
      "Error code: 429 - {'error': {'message': 'Rate limit reached for gpt-3.5-turbo in organization org-wi3cHq5g1FGXIxQyl0trnye1 on requests per day (RPD): Limit 10000, Used 10000, Requested 1. Please try again in 8.64s. Visit https://platform.openai.com/account/rate-limits to learn more.', 'type': 'requests', 'param': None, 'code': 'rate_limit_exceeded'}}\n",
      "ibandronate renal impairment\n"
     ]
    },
    {
     "name": "stderr",
     "output_type": "stream",
     "text": [
      " 73%|███████▎  | 1392/1894 [18:30<11:54,  1.42s/it]"
     ]
    },
    {
     "name": "stdout",
     "output_type": "stream",
     "text": [
      "testosterone myocardial infarction\n"
     ]
    },
    {
     "name": "stderr",
     "output_type": "stream",
     "text": [
      " 74%|███████▎  | 1394/1894 [18:36<15:14,  1.83s/it]"
     ]
    },
    {
     "name": "stdout",
     "output_type": "stream",
     "text": [
      "Encountered an exception for row: ticlopidine hepatic necrosis. Error message below:\n",
      "Error code: 429 - {'error': {'message': 'Rate limit reached for gpt-3.5-turbo in organization org-wi3cHq5g1FGXIxQyl0trnye1 on requests per day (RPD): Limit 10000, Used 10000, Requested 1. Please try again in 8.64s. Visit https://platform.openai.com/account/rate-limits to learn more.', 'type': 'requests', 'param': None, 'code': 'rate_limit_exceeded'}}\n",
      "ifosfamide hepatic failure\n",
      "Encountered an exception for row: meropenem gastrointestinal haemorrhage. Error message below:\n",
      "Error code: 429 - {'error': {'message': 'Rate limit reached for gpt-3.5-turbo in organization org-wi3cHq5g1FGXIxQyl0trnye1 on requests per day (RPD): Limit 10000, Used 10000, Requested 1. Please try again in 8.64s. Visit https://platform.openai.com/account/rate-limits to learn more.', 'type': 'requests', 'param': None, 'code': 'rate_limit_exceeded'}}\n",
      "ifosfamide renal failure\n",
      "Encountered an exception for row: tiagabine renal failure. Error message below:\n",
      "Error code: 429 - {'error': {'message': 'Rate limit reached for gpt-3.5-turbo in organization org-wi3cHq5g1FGXIxQyl0trnye1 on requests per day (RPD): Limit 10000, Used 10000, Requested 1. Please try again in 8.64s. Visit https://platform.openai.com/account/rate-limits to learn more.', 'type': 'requests', 'param': None, 'code': 'rate_limit_exceeded'}}\n",
      "diltiazem gastrointestinal haemorrhage\n"
     ]
    },
    {
     "name": "stderr",
     "output_type": "stream",
     "text": [
      " 74%|███████▎  | 1396/1894 [18:36<09:33,  1.15s/it]"
     ]
    },
    {
     "name": "stdout",
     "output_type": "stream",
     "text": [
      "Encountered an exception for row: argatroban gastrointestinal haemorrhage. Error message below:\n",
      "Error code: 429 - {'error': {'message': 'Rate limit reached for gpt-3.5-turbo in organization org-wi3cHq5g1FGXIxQyl0trnye1 on requests per day (RPD): Limit 10000, Used 10000, Requested 1. Please try again in 8.64s. Visit https://platform.openai.com/account/rate-limits to learn more.', 'type': 'requests', 'param': None, 'code': 'rate_limit_exceeded'}}\n",
      "levoleucovorin renal impairment\n",
      "imatinib renal failure\n"
     ]
    },
    {
     "name": "stderr",
     "output_type": "stream",
     "text": [
      " 74%|███████▍  | 1397/1894 [18:45<23:05,  2.79s/it]"
     ]
    },
    {
     "name": "stdout",
     "output_type": "stream",
     "text": [
      "Encountered an exception for row: albendazole acute hepatic failure. Error message below:\n",
      "Error code: 429 - {'error': {'message': 'Rate limit reached for gpt-3.5-turbo in organization org-wi3cHq5g1FGXIxQyl0trnye1 on requests per day (RPD): Limit 10000, Used 10000, Requested 1. Please try again in 8.64s. Visit https://platform.openai.com/account/rate-limits to learn more.', 'type': 'requests', 'param': None, 'code': 'rate_limit_exceeded'}}\n",
      "quetiapine hepatic failure\n",
      "Encountered an exception for row: flucytosine hepatic necrosis. Error message below:\n",
      "Error code: 429 - {'error': {'message': 'Rate limit reached for gpt-3.5-turbo in organization org-wi3cHq5g1FGXIxQyl0trnye1 on requests per day (RPD): Limit 10000, Used 10000, Requested 1. Please try again in 8.64s. Visit https://platform.openai.com/account/rate-limits to learn more.', 'type': 'requests', 'param': None, 'code': 'rate_limit_exceeded'}}\n",
      "aldesleukin renal failure\n",
      "Encountered an exception for row: solifenacin renal impairment. Error message below:\n",
      "Error code: 429 - {'error': {'message': 'Rate limit reached for gpt-3.5-turbo in organization org-wi3cHq5g1FGXIxQyl0trnye1 on requests per day (RPD): Limit 10000, Used 10000, Requested 1. Please try again in 8.64s. Visit https://platform.openai.com/account/rate-limits to learn more.', 'type': 'requests', 'param': None, 'code': 'rate_limit_exceeded'}}\n",
      "piroxicam gastrointestinal haemorrhage\n"
     ]
    },
    {
     "name": "stderr",
     "output_type": "stream",
     "text": [
      " 74%|███████▍  | 1399/1894 [18:45<14:23,  1.75s/it]"
     ]
    },
    {
     "name": "stdout",
     "output_type": "stream",
     "text": [
      "Encountered an exception for row: abacavir hepatic failure. Error message below:\n",
      "Error code: 429 - {'error': {'message': 'Rate limit reached for gpt-3.5-turbo in organization org-wi3cHq5g1FGXIxQyl0trnye1 on requests per day (RPD): Limit 10000, Used 10000, Requested 1. Please try again in 8.64s. Visit https://platform.openai.com/account/rate-limits to learn more.', 'type': 'requests', 'param': None, 'code': 'rate_limit_exceeded'}}\n",
      "carboprost haematemesis\n"
     ]
    },
    {
     "name": "stderr",
     "output_type": "stream",
     "text": [
      " 74%|███████▍  | 1401/1894 [18:46<11:46,  1.43s/it]"
     ]
    },
    {
     "name": "stdout",
     "output_type": "stream",
     "text": [
      "Encountered an exception for row: ibandronate renal impairment. Error message below:\n",
      "Error code: 429 - {'error': {'message': 'Rate limit reached for gpt-3.5-turbo in organization org-wi3cHq5g1FGXIxQyl0trnye1 on requests per day (RPD): Limit 10000, Used 10000, Requested 1. Please try again in 8.64s. Visit https://platform.openai.com/account/rate-limits to learn more.', 'type': 'requests', 'param': None, 'code': 'rate_limit_exceeded'}}\n",
      "nitisinone hepatic failure\n",
      "cefixime acute kidney injury\n"
     ]
    },
    {
     "name": "stderr",
     "output_type": "stream",
     "text": [
      " 74%|███████▍  | 1405/1894 [18:54<11:49,  1.45s/it]"
     ]
    },
    {
     "name": "stdout",
     "output_type": "stream",
     "text": [
      "Encountered an exception for row: ifosfamide hepatic failure. Error message below:\n",
      "Error code: 429 - {'error': {'message': 'Rate limit reached for gpt-3.5-turbo in organization org-wi3cHq5g1FGXIxQyl0trnye1 on requests per day (RPD): Limit 10000, Used 10000, Requested 1. Please try again in 8.64s. Visit https://platform.openai.com/account/rate-limits to learn more.', 'type': 'requests', 'param': None, 'code': 'rate_limit_exceeded'}}\n",
      "mitoxantrone renal failure\n",
      "Encountered an exception for row: ifosfamide renal failure. Error message below:\n",
      "Error code: 429 - {'error': {'message': 'Rate limit reached for gpt-3.5-turbo in organization org-wi3cHq5g1FGXIxQyl0trnye1 on requests per day (RPD): Limit 10000, Used 10000, Requested 1. Please try again in 8.64s. Visit https://platform.openai.com/account/rate-limits to learn more.', 'type': 'requests', 'param': None, 'code': 'rate_limit_exceeded'}}\n",
      "dipyridamole myocardial infarction\n",
      "Encountered an exception for row: diltiazem gastrointestinal haemorrhage. Error message below:\n",
      "Error code: 429 - {'error': {'message': 'Rate limit reached for gpt-3.5-turbo in organization org-wi3cHq5g1FGXIxQyl0trnye1 on requests per day (RPD): Limit 10000, Used 10000, Requested 1. Please try again in 8.64s. Visit https://platform.openai.com/account/rate-limits to learn more.', 'type': 'requests', 'param': None, 'code': 'rate_limit_exceeded'}}\n",
      "isoflurane hepatic failure\n"
     ]
    },
    {
     "name": "stderr",
     "output_type": "stream",
     "text": [
      " 74%|███████▍  | 1406/1894 [18:54<09:55,  1.22s/it]"
     ]
    },
    {
     "name": "stdout",
     "output_type": "stream",
     "text": [
      "Encountered an exception for row: levoleucovorin renal impairment. Error message below:\n",
      "Error code: 429 - {'error': {'message': 'Rate limit reached for gpt-3.5-turbo in organization org-wi3cHq5g1FGXIxQyl0trnye1 on requests per day (RPD): Limit 10000, Used 10000, Requested 1. Please try again in 8.64s. Visit https://platform.openai.com/account/rate-limits to learn more.', 'type': 'requests', 'param': None, 'code': 'rate_limit_exceeded'}}\n",
      "inotuzumab ozogamicin haematemesis\n",
      "deferasirox acute kidney injury\n"
     ]
    },
    {
     "name": "stderr",
     "output_type": "stream",
     "text": [
      " 74%|███████▍  | 1410/1894 [19:02<12:30,  1.55s/it]"
     ]
    },
    {
     "name": "stdout",
     "output_type": "stream",
     "text": [
      "Encountered an exception for row: quetiapine hepatic failure. Error message below:\n",
      "Error code: 429 - {'error': {'message': 'Rate limit reached for gpt-3.5-turbo in organization org-wi3cHq5g1FGXIxQyl0trnye1 on requests per day (RPD): Limit 10000, Used 10000, Requested 1. Please try again in 8.64s. Visit https://platform.openai.com/account/rate-limits to learn more.', 'type': 'requests', 'param': None, 'code': 'rate_limit_exceeded'}}\n",
      "levorphanol renal failure\n",
      "Encountered an exception for row: aldesleukin renal failure. Error message below:\n",
      "Error code: 429 - {'error': {'message': 'Rate limit reached for gpt-3.5-turbo in organization org-wi3cHq5g1FGXIxQyl0trnye1 on requests per day (RPD): Limit 10000, Used 10000, Requested 1. Please try again in 8.64s. Visit https://platform.openai.com/account/rate-limits to learn more.', 'type': 'requests', 'param': None, 'code': 'rate_limit_exceeded'}}\n",
      "dactinomycin hepatic failure\n",
      "Encountered an exception for row: piroxicam gastrointestinal haemorrhage. Error message below:\n",
      "Error code: 429 - {'error': {'message': 'Rate limit reached for gpt-3.5-turbo in organization org-wi3cHq5g1FGXIxQyl0trnye1 on requests per day (RPD): Limit 10000, Used 10000, Requested 1. Please try again in 8.64s. Visit https://platform.openai.com/account/rate-limits to learn more.', 'type': 'requests', 'param': None, 'code': 'rate_limit_exceeded'}}\n",
      "fondaparinux renal impairment\n",
      "Encountered an exception for row: carboprost haematemesis. Error message below:\n",
      "Error code: 429 - {'error': {'message': 'Rate limit reached for gpt-3.5-turbo in organization org-wi3cHq5g1FGXIxQyl0trnye1 on requests per day (RPD): Limit 10000, Used 10000, Requested 1. Please try again in 8.64s. Visit https://platform.openai.com/account/rate-limits to learn more.', 'type': 'requests', 'param': None, 'code': 'rate_limit_exceeded'}}\n",
      "bremelanotide hepatotoxicity\n",
      "apixaban haematemesis\n"
     ]
    },
    {
     "name": "stderr",
     "output_type": "stream",
     "text": [
      " 75%|███████▍  | 1413/1894 [19:06<11:26,  1.43s/it]"
     ]
    },
    {
     "name": "stdout",
     "output_type": "stream",
     "text": [
      "Encountered an exception for row: cefixime acute kidney injury. Error message below:\n",
      "Error code: 429 - {'error': {'message': 'Rate limit reached for gpt-3.5-turbo in organization org-wi3cHq5g1FGXIxQyl0trnye1 on requests per day (RPD): Limit 10000, Used 10000, Requested 1. Please try again in 8.64s. Visit https://platform.openai.com/account/rate-limits to learn more.', 'type': 'requests', 'param': None, 'code': 'rate_limit_exceeded'}}\n",
      "lurasidone renal failure\n"
     ]
    },
    {
     "name": "stderr",
     "output_type": "stream",
     "text": [
      " 75%|███████▍  | 1414/1894 [19:11<16:15,  2.03s/it]"
     ]
    },
    {
     "name": "stdout",
     "output_type": "stream",
     "text": [
      "Encountered an exception for row: dipyridamole myocardial infarction. Error message below:\n",
      "Error code: 429 - {'error': {'message': 'Rate limit reached for gpt-3.5-turbo in organization org-wi3cHq5g1FGXIxQyl0trnye1 on requests per day (RPD): Limit 10000, Used 10000, Requested 1. Please try again in 8.64s. Visit https://platform.openai.com/account/rate-limits to learn more.', 'type': 'requests', 'param': None, 'code': 'rate_limit_exceeded'}}\n",
      "buprenorphine liver function test abnormal\n",
      "Encountered an exception for row: mitoxantrone renal failure. Error message below:\n",
      "Error code: 429 - {'error': {'message': 'Rate limit reached for gpt-3.5-turbo in organization org-wi3cHq5g1FGXIxQyl0trnye1 on requests per day (RPD): Limit 10000, Used 10000, Requested 1. Please try again in 8.64s. Visit https://platform.openai.com/account/rate-limits to learn more.', 'type': 'requests', 'param': None, 'code': 'rate_limit_exceeded'}}\n",
      "montelukast liver injury\n",
      "Encountered an exception for row: isoflurane hepatic failure. Error message below:\n",
      "Error code: 429 - {'error': {'message': 'Rate limit reached for gpt-3.5-turbo in organization org-wi3cHq5g1FGXIxQyl0trnye1 on requests per day (RPD): Limit 10000, Used 10000, Requested 1. Please try again in 8.64s. Visit https://platform.openai.com/account/rate-limits to learn more.', 'type': 'requests', 'param': None, 'code': 'rate_limit_exceeded'}}\n",
      "epinephrine myocardial infarction\n"
     ]
    },
    {
     "name": "stderr",
     "output_type": "stream",
     "text": [
      " 75%|███████▍  | 1417/1894 [19:12<09:43,  1.22s/it]"
     ]
    },
    {
     "name": "stdout",
     "output_type": "stream",
     "text": [
      "Encountered an exception for row: inotuzumab ozogamicin haematemesis. Error message below:\n",
      "Error code: 429 - {'error': {'message': 'Rate limit reached for gpt-3.5-turbo in organization org-wi3cHq5g1FGXIxQyl0trnye1 on requests per day (RPD): Limit 10000, Used 10000, Requested 1. Please try again in 8.64s. Visit https://platform.openai.com/account/rate-limits to learn more.', 'type': 'requests', 'param': None, 'code': 'rate_limit_exceeded'}}\n",
      "mefenamate haematemesis\n",
      "sodium ferric gluconate complex myocardial infarction\n"
     ]
    },
    {
     "name": "stderr",
     "output_type": "stream",
     "text": [
      " 75%|███████▍  | 1419/1894 [19:20<16:32,  2.09s/it]"
     ]
    },
    {
     "name": "stdout",
     "output_type": "stream",
     "text": [
      "Encountered an exception for row: dactinomycin hepatic failure. Error message below:Encountered an exception for row: levorphanol renal failure. Error message below:\n",
      "Error code: 429 - {'error': {'message': 'Rate limit reached for gpt-3.5-turbo in organization org-wi3cHq5g1FGXIxQyl0trnye1 on requests per day (RPD): Limit 10000, Used 10000, Requested 1. Please try again in 8.64s. Visit https://platform.openai.com/account/rate-limits to learn more.', 'type': 'requests', 'param': None, 'code': 'rate_limit_exceeded'}}\n",
      "tenapanor renal impairment\n",
      "\n",
      "Error code: 429 - {'error': {'message': 'Rate limit reached for gpt-3.5-turbo in organization org-wi3cHq5g1FGXIxQyl0trnye1 on requests per day (RPD): Limit 10000, Used 10000, Requested 1. Please try again in 8.64s. Visit https://platform.openai.com/account/rate-limits to learn more.', 'type': 'requests', 'param': None, 'code': 'rate_limit_exceeded'}}\n",
      "glatiramer myocardial infarction\n"
     ]
    },
    {
     "name": "stderr",
     "output_type": "stream",
     "text": [
      " 75%|███████▌  | 1421/1894 [19:20<11:59,  1.52s/it]"
     ]
    },
    {
     "name": "stdout",
     "output_type": "stream",
     "text": [
      "Encountered an exception for row: fondaparinux renal impairment. Error message below:\n",
      "Error code: 429 - {'error': {'message': 'Rate limit reached for gpt-3.5-turbo in organization org-wi3cHq5g1FGXIxQyl0trnye1 on requests per day (RPD): Limit 10000, Used 10000, Requested 1. Please try again in 8.64s. Visit https://platform.openai.com/account/rate-limits to learn more.', 'type': 'requests', 'param': None, 'code': 'rate_limit_exceeded'}}\n",
      "bosutinib gastrointestinal haemorrhage\n",
      "Encountered an exception for row: bremelanotide hepatotoxicity. Error message below:\n",
      "Error code: 429 - {'error': {'message': 'Rate limit reached for gpt-3.5-turbo in organization org-wi3cHq5g1FGXIxQyl0trnye1 on requests per day (RPD): Limit 10000, Used 10000, Requested 1. Please try again in 8.64s. Visit https://platform.openai.com/account/rate-limits to learn more.', 'type': 'requests', 'param': None, 'code': 'rate_limit_exceeded'}}\n",
      "naltrexone myocardial infarction\n",
      "nintedanib hepatic enzyme increased\n"
     ]
    },
    {
     "name": "stderr",
     "output_type": "stream",
     "text": [
      " 75%|███████▌  | 1424/1894 [19:24<11:05,  1.42s/it]"
     ]
    },
    {
     "name": "stdout",
     "output_type": "stream",
     "text": [
      "Encountered an exception for row: lurasidone renal failure. Error message below:\n",
      "Error code: 429 - {'error': {'message': 'Rate limit reached for gpt-3.5-turbo in organization org-wi3cHq5g1FGXIxQyl0trnye1 on requests per day (RPD): Limit 10000, Used 10000, Requested 1. Please try again in 8.64s. Visit https://platform.openai.com/account/rate-limits to learn more.', 'type': 'requests', 'param': None, 'code': 'rate_limit_exceeded'}}\n",
      "ramucirumab gastrointestinal haemorrhage\n"
     ]
    },
    {
     "name": "stderr",
     "output_type": "stream",
     "text": [
      " 75%|███████▌  | 1426/1894 [19:29<12:49,  1.65s/it]"
     ]
    },
    {
     "name": "stdout",
     "output_type": "stream",
     "text": [
      "Encountered an exception for row: buprenorphine liver function test abnormal. Error message below:\n",
      "Error code: 429 - {'error': {'message': 'Rate limit reached for gpt-3.5-turbo in organization org-wi3cHq5g1FGXIxQyl0trnye1 on requests per day (RPD): Limit 10000, Used 10000, Requested 1. Please try again in 8.64s. Visit https://platform.openai.com/account/rate-limits to learn more.', 'type': 'requests', 'param': None, 'code': 'rate_limit_exceeded'}}\n",
      "pralatrexate liver function test abnormal\n",
      "Encountered an exception for row: epinephrine myocardial infarction. Error message below:\n",
      "Error code: 429 - {'error': {'message': 'Rate limit reached for gpt-3.5-turbo in organization org-wi3cHq5g1FGXIxQyl0trnye1 on requests per day (RPD): Limit 10000, Used 10000, Requested 1. Please try again in 8.64s. Visit https://platform.openai.com/account/rate-limits to learn more.', 'type': 'requests', 'param': None, 'code': 'rate_limit_exceeded'}}\n",
      "desflurane myocardial infarction\n",
      "Encountered an exception for row: montelukast liver injury. Error message below:\n",
      "Error code: 429 - {'error': {'message': 'Rate limit reached for gpt-3.5-turbo in organization org-wi3cHq5g1FGXIxQyl0trnye1 on requests per day (RPD): Limit 10000, Used 10000, Requested 1. Please try again in 8.64s. Visit https://platform.openai.com/account/rate-limits to learn more.', 'type': 'requests', 'param': None, 'code': 'rate_limit_exceeded'}}\n",
      "orlistat hepatic failure\n"
     ]
    },
    {
     "name": "stderr",
     "output_type": "stream",
     "text": [
      " 75%|███████▌  | 1428/1894 [19:29<08:37,  1.11s/it]"
     ]
    },
    {
     "name": "stdout",
     "output_type": "stream",
     "text": [
      "Encountered an exception for row: mefenamate haematemesis. Error message below:\n",
      "Error code: 429 - {'error': {'message': 'Rate limit reached for gpt-3.5-turbo in organization org-wi3cHq5g1FGXIxQyl0trnye1 on requests per day (RPD): Limit 10000, Used 10000, Requested 1. Please try again in 8.64s. Visit https://platform.openai.com/account/rate-limits to learn more.', 'type': 'requests', 'param': None, 'code': 'rate_limit_exceeded'}}\n",
      "pretomanid hepatotoxicity\n",
      "fexinidazole hepatotoxicity\n"
     ]
    },
    {
     "name": "stderr",
     "output_type": "stream",
     "text": [
      " 76%|███████▌  | 1430/1894 [19:38<16:34,  2.14s/it]"
     ]
    },
    {
     "name": "stdout",
     "output_type": "stream",
     "text": [
      "Encountered an exception for row: tenapanor renal impairment. Error message below:\n",
      "Error code: 429 - {'error': {'message': 'Rate limit reached for gpt-3.5-turbo in organization org-wi3cHq5g1FGXIxQyl0trnye1 on requests per day (RPD): Limit 10000, Used 10000, Requested 1. Please try again in 8.64s. Visit https://platform.openai.com/account/rate-limits to learn more.', 'type': 'requests', 'param': None, 'code': 'rate_limit_exceeded'}}\n",
      "midazolam renal failure\n",
      "Encountered an exception for row: glatiramer myocardial infarction. Error message below:\n",
      "Error code: 429 - {'error': {'message': 'Rate limit reached for gpt-3.5-turbo in organization org-wi3cHq5g1FGXIxQyl0trnye1 on requests per day (RPD): Limit 10000, Used 10000, Requested 1. Please try again in 8.64s. Visit https://platform.openai.com/account/rate-limits to learn more.', 'type': 'requests', 'param': None, 'code': 'rate_limit_exceeded'}}\n",
      "ixabepilone gastrointestinal haemorrhage\n"
     ]
    },
    {
     "name": "stderr",
     "output_type": "stream",
     "text": [
      " 76%|███████▌  | 1432/1894 [19:38<11:35,  1.51s/it]"
     ]
    },
    {
     "name": "stdout",
     "output_type": "stream",
     "text": [
      "Encountered an exception for row: bosutinib gastrointestinal haemorrhage. Error message below:\n",
      "Error code: 429 - {'error': {'message': 'Rate limit reached for gpt-3.5-turbo in organization org-wi3cHq5g1FGXIxQyl0trnye1 on requests per day (RPD): Limit 10000, Used 10000, Requested 1. Please try again in 8.64s. Visit https://platform.openai.com/account/rate-limits to learn more.', 'type': 'requests', 'param': None, 'code': 'rate_limit_exceeded'}}\n",
      "futibatinib haematemesis\n",
      "Encountered an exception for row: naltrexone myocardial infarction. Error message below:\n",
      "Error code: 429 - {'error': {'message': 'Rate limit reached for gpt-3.5-turbo in organization org-wi3cHq5g1FGXIxQyl0trnye1 on requests per day (RPD): Limit 10000, Used 10000, Requested 1. Please try again in 8.64s. Visit https://platform.openai.com/account/rate-limits to learn more.', 'type': 'requests', 'param': None, 'code': 'rate_limit_exceeded'}}\n",
      "tucatinib liver injury\n"
     ]
    },
    {
     "name": "stderr",
     "output_type": "stream",
     "text": [
      " 76%|███████▌  | 1435/1894 [19:42<10:34,  1.38s/it]"
     ]
    },
    {
     "name": "stdout",
     "output_type": "stream",
     "text": [
      "Encountered an exception for row: ramucirumab gastrointestinal haemorrhage. Error message below:\n",
      "Error code: 429 - {'error': {'message': 'Rate limit reached for gpt-3.5-turbo in organization org-wi3cHq5g1FGXIxQyl0trnye1 on requests per day (RPD): Limit 10000, Used 10000, Requested 1. Please try again in 8.64s. Visit https://platform.openai.com/account/rate-limits to learn more.', 'type': 'requests', 'param': None, 'code': 'rate_limit_exceeded'}}\n",
      "dasatinib renal impairment\n",
      "posaconazole hepatic enzyme increased\n"
     ]
    },
    {
     "name": "stderr",
     "output_type": "stream",
     "text": [
      " 76%|███████▌  | 1438/1894 [19:47<10:30,  1.38s/it]"
     ]
    },
    {
     "name": "stdout",
     "output_type": "stream",
     "text": [
      "Encountered an exception for row: desflurane myocardial infarction. Error message below:\n",
      "Error code: 429 - {'error': {'message': 'Rate limit reached for gpt-3.5-turbo in organization org-wi3cHq5g1FGXIxQyl0trnye1 on requests per day (RPD): Limit 10000, Used 10000, Requested 1. Please try again in 8.64s. Visit https://platform.openai.com/account/rate-limits to learn more.', 'type': 'requests', 'param': None, 'code': 'rate_limit_exceeded'}}\n",
      "atezolizumab hepatic enzyme increased\n",
      "Encountered an exception for row: pralatrexate liver function test abnormal. Error message below:\n",
      "Error code: 429 - {'error': {'message': 'Rate limit reached for gpt-3.5-turbo in organization org-wi3cHq5g1FGXIxQyl0trnye1 on requests per day (RPD): Limit 10000, Used 10000, Requested 1. Please try again in 8.64s. Visit https://platform.openai.com/account/rate-limits to learn more.', 'type': 'requests', 'param': None, 'code': 'rate_limit_exceeded'}}\n",
      "midostaurin acute kidney injury\n",
      "Encountered an exception for row: orlistat hepatic failure. Error message below:\n",
      "Error code: 429 - {'error': {'message': 'Rate limit reached for gpt-3.5-turbo in organization org-wi3cHq5g1FGXIxQyl0trnye1 on requests per day (RPD): Limit 10000, Used 10000, Requested 1. Please try again in 8.64s. Visit https://platform.openai.com/account/rate-limits to learn more.', 'type': 'requests', 'param': None, 'code': 'rate_limit_exceeded'}}\n",
      "melphalan renal failure\n"
     ]
    },
    {
     "name": "stderr",
     "output_type": "stream",
     "text": [
      " 76%|███████▌  | 1439/1894 [19:47<08:49,  1.16s/it]"
     ]
    },
    {
     "name": "stdout",
     "output_type": "stream",
     "text": [
      "Encountered an exception for row: pretomanid hepatotoxicity. Error message below:\n",
      "Error code: 429 - {'error': {'message': 'Rate limit reached for gpt-3.5-turbo in organization org-wi3cHq5g1FGXIxQyl0trnye1 on requests per day (RPD): Limit 10000, Used 10000, Requested 1. Please try again in 8.64s. Visit https://platform.openai.com/account/rate-limits to learn more.', 'type': 'requests', 'param': None, 'code': 'rate_limit_exceeded'}}\n",
      "adagrasib hepatotoxicity\n",
      "adagrasib acute kidney injury\n"
     ]
    },
    {
     "name": "stderr",
     "output_type": "stream",
     "text": [
      " 76%|███████▌  | 1441/1894 [19:56<16:46,  2.22s/it]"
     ]
    },
    {
     "name": "stdout",
     "output_type": "stream",
     "text": [
      "Encountered an exception for row: ixabepilone gastrointestinal haemorrhage. Error message below:Encountered an exception for row: midazolam renal failure. Error message below:\n",
      "Error code: 429 - {'error': {'message': 'Rate limit reached for gpt-3.5-turbo in organization org-wi3cHq5g1FGXIxQyl0trnye1 on requests per day (RPD): Limit 10000, Used 10000, Requested 1. Please try again in 8.64s. Visit https://platform.openai.com/account/rate-limits to learn more.', 'type': 'requests', 'param': None, 'code': 'rate_limit_exceeded'}}\n",
      "andexanet alfa gastrointestinal haemorrhage\n",
      "\n",
      "Error code: 429 - {'error': {'message': 'Rate limit reached for gpt-3.5-turbo in organization org-wi3cHq5g1FGXIxQyl0trnye1 on requests per day (RPD): Limit 10000, Used 10000, Requested 1. Please try again in 8.64s. Visit https://platform.openai.com/account/rate-limits to learn more.', 'type': 'requests', 'param': None, 'code': 'rate_limit_exceeded'}}\n",
      "isopropyl alcohol myocardial infarction\n"
     ]
    },
    {
     "name": "stderr",
     "output_type": "stream",
     "text": [
      " 76%|███████▌  | 1443/1894 [19:56<11:36,  1.55s/it]"
     ]
    },
    {
     "name": "stdout",
     "output_type": "stream",
     "text": [
      "Encountered an exception for row: futibatinib haematemesis. Error message below:\n",
      "Error code: 429 - {'error': {'message': 'Rate limit reached for gpt-3.5-turbo in organization org-wi3cHq5g1FGXIxQyl0trnye1 on requests per day (RPD): Limit 10000, Used 10000, Requested 1. Please try again in 8.64s. Visit https://platform.openai.com/account/rate-limits to learn more.', 'type': 'requests', 'param': None, 'code': 'rate_limit_exceeded'}}\n",
      "luspatercept renal impairment\n",
      "amifampridine hepatic enzyme increased\n"
     ]
    },
    {
     "name": "stderr",
     "output_type": "stream",
     "text": [
      " 76%|███████▋  | 1445/1894 [20:00<12:09,  1.62s/it]"
     ]
    },
    {
     "name": "stdout",
     "output_type": "stream",
     "text": [
      "Encountered an exception for row: dasatinib renal impairment. Error message below:\n",
      "Error code: 429 - {'error': {'message': 'Rate limit reached for gpt-3.5-turbo in organization org-wi3cHq5g1FGXIxQyl0trnye1 on requests per day (RPD): Limit 10000, Used 10000, Requested 1. Please try again in 8.64s. Visit https://platform.openai.com/account/rate-limits to learn more.', 'type': 'requests', 'param': None, 'code': 'rate_limit_exceeded'}}\n",
      "ibrutinib hepatic failure\n",
      "Encountered an exception for row: posaconazole hepatic enzyme increased. Error message below:\n",
      "Error code: 429 - {'error': {'message': 'Rate limit reached for gpt-3.5-turbo in organization org-wi3cHq5g1FGXIxQyl0trnye1 on requests per day (RPD): Limit 10000, Used 10000, Requested 1. Please try again in 8.64s. Visit https://platform.openai.com/account/rate-limits to learn more.', 'type': 'requests', 'param': None, 'code': 'rate_limit_exceeded'}}\n",
      "mobocertinib acute kidney injury\n"
     ]
    },
    {
     "name": "stderr",
     "output_type": "stream",
     "text": [
      " 77%|███████▋  | 1449/1894 [20:05<10:06,  1.36s/it]"
     ]
    },
    {
     "name": "stdout",
     "output_type": "stream",
     "text": [
      "Encountered an exception for row: midostaurin acute kidney injury. Error message below:Encountered an exception for row: atezolizumab hepatic enzyme increased. Error message below:\n",
      "Error code: 429 - {'error': {'message': 'Rate limit reached for gpt-3.5-turbo in organization org-wi3cHq5g1FGXIxQyl0trnye1 on requests per day (RPD): Limit 10000, Used 10000, Requested 1. Please try again in 8.64s. Visit https://platform.openai.com/account/rate-limits to learn more.', 'type': 'requests', 'param': None, 'code': 'rate_limit_exceeded'}}\n",
      "axitinib liver injury\n",
      "\n",
      "Error code: 429 - {'error': {'message': 'Rate limit reached for gpt-3.5-turbo in organization org-wi3cHq5g1FGXIxQyl0trnye1 on requests per day (RPD): Limit 10000, Used 10000, Requested 1. Please try again in 8.64s. Visit https://platform.openai.com/account/rate-limits to learn more.', 'type': 'requests', 'param': None, 'code': 'rate_limit_exceeded'}}\n",
      "encorafenib myocardial infarction\n",
      "dantrolene hepatotoxicity\n",
      "Encountered an exception for row: melphalan renal failure. Error message below:\n",
      "Error code: 429 - {'error': {'message': 'Rate limit reached for gpt-3.5-turbo in organization org-wi3cHq5g1FGXIxQyl0trnye1 on requests per day (RPD): Limit 10000, Used 10000, Requested 1. Please try again in 8.64s. Visit https://platform.openai.com/account/rate-limits to learn more.', 'type': 'requests', 'param': None, 'code': 'rate_limit_exceeded'}}\n",
      "propylthiouracil acute hepatic failure\n"
     ]
    },
    {
     "name": "stderr",
     "output_type": "stream",
     "text": [
      " 77%|███████▋  | 1451/1894 [20:05<07:11,  1.03it/s]"
     ]
    },
    {
     "name": "stdout",
     "output_type": "stream",
     "text": [
      "Encountered an exception for row: adagrasib hepatotoxicity. Error message below:\n",
      "Error code: 429 - {'error': {'message': 'Rate limit reached for gpt-3.5-turbo in organization org-wi3cHq5g1FGXIxQyl0trnye1 on requests per day (RPD): Limit 10000, Used 10000, Requested 1. Please try again in 8.64s. Visit https://platform.openai.com/account/rate-limits to learn more.', 'type': 'requests', 'param': None, 'code': 'rate_limit_exceeded'}}\n",
      "fenoprofen hepatic failure\n",
      "Encountered an exception for row: adagrasib acute kidney injury. Error message below:\n",
      "Error code: 429 - {'error': {'message': 'Rate limit reached for gpt-3.5-turbo in organization org-wi3cHq5g1FGXIxQyl0trnye1 on requests per day (RPD): Limit 10000, Used 10000, Requested 1. Please try again in 8.64s. Visit https://platform.openai.com/account/rate-limits to learn more.', 'type': 'requests', 'param': None, 'code': 'rate_limit_exceeded'}}\n",
      "timolol myocardial infarction\n"
     ]
    },
    {
     "name": "stderr",
     "output_type": "stream",
     "text": [
      " 77%|███████▋  | 1454/1894 [20:14<12:43,  1.74s/it]"
     ]
    },
    {
     "name": "stdout",
     "output_type": "stream",
     "text": [
      "Encountered an exception for row: luspatercept renal impairment. Error message below:\n",
      "Error code: 429 - {'error': {'message': 'Rate limit reached for gpt-3.5-turbo in organization org-wi3cHq5g1FGXIxQyl0trnye1 on requests per day (RPD): Limit 10000, Used 10000, Requested 1. Please try again in 8.64s. Visit https://platform.openai.com/account/rate-limits to learn more.', 'type': 'requests', 'param': None, 'code': 'rate_limit_exceeded'}}\n",
      "abacavir hepatotoxicity\n",
      "Encountered an exception for row: amifampridine hepatic enzyme increased. Error message below:\n",
      "Error code: 429 - {'error': {'message': 'Rate limit reached for gpt-3.5-turbo in organization org-wi3cHq5g1FGXIxQyl0trnye1 on requests per day (RPD): Limit 10000, Used 10000, Requested 1. Please try again in 8.64s. Visit https://platform.openai.com/account/rate-limits to learn more.', 'type': 'requests', 'param': None, 'code': 'rate_limit_exceeded'}}\n",
      "prasugrel myocardial infarction\n",
      "trastuzumab hepatic failure\n"
     ]
    },
    {
     "name": "stderr",
     "output_type": "stream",
     "text": [
      " 77%|███████▋  | 1456/1894 [20:18<12:45,  1.75s/it]"
     ]
    },
    {
     "name": "stdout",
     "output_type": "stream",
     "text": [
      "Encountered an exception for row: ibrutinib hepatic failure. Error message below:\n",
      "Error code: 429 - {'error': {'message': 'Rate limit reached for gpt-3.5-turbo in organization org-wi3cHq5g1FGXIxQyl0trnye1 on requests per day (RPD): Limit 10000, Used 10000, Requested 1. Please try again in 8.64s. Visit https://platform.openai.com/account/rate-limits to learn more.', 'type': 'requests', 'param': None, 'code': 'rate_limit_exceeded'}}\n",
      "oxandrolone hepatic necrosis\n",
      "Encountered an exception for row: mobocertinib acute kidney injury. Error message below:\n",
      "Error code: 429 - {'error': {'message': 'Rate limit reached for gpt-3.5-turbo in organization org-wi3cHq5g1FGXIxQyl0trnye1 on requests per day (RPD): Limit 10000, Used 10000, Requested 1. Please try again in 8.64s. Visit https://platform.openai.com/account/rate-limits to learn more.', 'type': 'requests', 'param': None, 'code': 'rate_limit_exceeded'}}\n",
      "meloxicam renal failure\n",
      "Encountered an exception for row: propylthiouracil acute hepatic failure. Error message below:Encountered an exception for row: fenoprofen hepatic failure. Error message below:\n",
      "Error code: 429 - {'error': {'message': 'Rate limit reached for gpt-3.5-turbo in organization org-wi3cHq5g1FGXIxQyl0trnye1 on requests per day (RPD): Limit 10000, Used 10000, Requested 1. Please try again in 8.64s. Visit https://platform.openai.com/account/rate-limits to learn more.', 'type': 'requests', 'param': None, 'code': 'rate_limit_exceeded'}}\n",
      "flurbiprofen renal failure\n",
      "\n",
      "Error code: 429 - {'error': {'message': 'Rate limit reached for gpt-3.5-turbo in organization org-wi3cHq5g1FGXIxQyl0trnye1 on requests per day (RPD): Limit 10000, Used 10000, Requested 1. Please try again in 8.64s. Visit https://platform.openai.com/account/rate-limits to learn more.', 'type': 'requests', 'param': None, 'code': 'rate_limit_exceeded'}}\n",
      "carbamazepine renal failure\n",
      "Encountered an exception for row: dantrolene hepatotoxicity. Error message below:\n",
      "Error code: 429 - {'error': {'message': 'Rate limit reached for gpt-3.5-turbo in organization org-wi3cHq5g1FGXIxQyl0trnye1 on requests per day (RPD): Limit 10000, Used 10000, Requested 1. Please try again in 8.64s. Visit https://platform.openai.com/account/rate-limits to learn more.', 'type': 'requests', 'param': None, 'code': 'rate_limit_exceeded'}}\n",
      "propafenone hepatocellular injury\n",
      "Encountered an exception for row: timolol myocardial infarction. Error message below:\n",
      "Error code: 429 - {'error': {'message': 'Rate limit reached for gpt-3.5-turbo in organization org-wi3cHq5g1FGXIxQyl0trnye1 on requests per day (RPD): Limit 10000, Used 10000, Requested 1. Please try again in 8.64s. Visit https://platform.openai.com/account/rate-limits to learn more.', 'type': 'requests', 'param': None, 'code': 'rate_limit_exceeded'}}\n",
      "pamidronate gastrointestinal haemorrhage\n"
     ]
    },
    {
     "name": "stderr",
     "output_type": "stream",
     "text": [
      " 77%|███████▋  | 1459/1894 [20:23<13:13,  1.83s/it]"
     ]
    },
    {
     "name": "stdout",
     "output_type": "stream",
     "text": [
      "torsemide gastrointestinal haemorrhage\n",
      "Encountered an exception for row: prasugrel myocardial infarction. Error message below:\n",
      "Error code: 429 - {'error': {'message': 'Rate limit reached for gpt-3.5-turbo in organization org-wi3cHq5g1FGXIxQyl0trnye1 on requests per day (RPD): Limit 10000, Used 10000, Requested 1. Please try again in 8.64s. Visit https://platform.openai.com/account/rate-limits to learn more.', 'type': 'requests', 'param': None, 'code': 'rate_limit_exceeded'}}\n",
      "celecoxib gastrointestinal haemorrhage\n",
      "celecoxib liver function test abnormal\n"
     ]
    },
    {
     "name": "stderr",
     "output_type": "stream",
     "text": [
      " 77%|███████▋  | 1466/1894 [20:32<10:10,  1.43s/it]"
     ]
    },
    {
     "name": "stdout",
     "output_type": "stream",
     "text": [
      "Encountered an exception for row: trastuzumab hepatic failure. Error message below:\n",
      "Error code: 429 - {'error': {'message': 'Rate limit reached for gpt-3.5-turbo in organization org-wi3cHq5g1FGXIxQyl0trnye1 on requests per day (RPD): Limit 10000, Used 10000, Requested 1. Please try again in 8.64s. Visit https://platform.openai.com/account/rate-limits to learn more.', 'type': 'requests', 'param': None, 'code': 'rate_limit_exceeded'}}\n",
      "propoxyphene myocardial infarction\n"
     ]
    },
    {
     "name": "stderr",
     "output_type": "stream",
     "text": [
      " 78%|███████▊  | 1468/1894 [20:36<10:06,  1.42s/it]"
     ]
    },
    {
     "name": "stdout",
     "output_type": "stream",
     "text": [
      "Encountered an exception for row: oxandrolone hepatic necrosis. Error message below:\n",
      "Error code: 429 - {'error': {'message': 'Rate limit reached for gpt-3.5-turbo in organization org-wi3cHq5g1FGXIxQyl0trnye1 on requests per day (RPD): Limit 10000, Used 10000, Requested 1. Please try again in 8.64s. Visit https://platform.openai.com/account/rate-limits to learn more.', 'type': 'requests', 'param': None, 'code': 'rate_limit_exceeded'}}\n",
      "chlorzoxazone gastrointestinal haemorrhage\n",
      "Encountered an exception for row: meloxicam renal failure. Error message below:\n",
      "Error code: 429 - {'error': {'message': 'Rate limit reached for gpt-3.5-turbo in organization org-wi3cHq5g1FGXIxQyl0trnye1 on requests per day (RPD): Limit 10000, Used 10000, Requested 1. Please try again in 8.64s. Visit https://platform.openai.com/account/rate-limits to learn more.', 'type': 'requests', 'param': None, 'code': 'rate_limit_exceeded'}}\n",
      "azithromycin acute kidney injury\n"
     ]
    },
    {
     "name": "stderr",
     "output_type": "stream",
     "text": [
      " 78%|███████▊  | 1469/1894 [20:41<15:27,  2.18s/it]"
     ]
    },
    {
     "name": "stdout",
     "output_type": "stream",
     "text": [
      "Encountered an exception for row: carbamazepine renal failure. Error message below:\n",
      "Error code: 429 - {'error': {'message': 'Rate limit reached for gpt-3.5-turbo in organization org-wi3cHq5g1FGXIxQyl0trnye1 on requests per day (RPD): Limit 10000, Used 10000, Requested 1. Please try again in 8.64s. Visit https://platform.openai.com/account/rate-limits to learn more.', 'type': 'requests', 'param': None, 'code': 'rate_limit_exceeded'}}\n",
      "piroxicam myocardial infarction\n",
      "Encountered an exception for row: propafenone hepatocellular injury. Error message below:\n",
      "Error code: 429 - {'error': {'message': 'Rate limit reached for gpt-3.5-turbo in organization org-wi3cHq5g1FGXIxQyl0trnye1 on requests per day (RPD): Limit 10000, Used 10000, Requested 1. Please try again in 8.64s. Visit https://platform.openai.com/account/rate-limits to learn more.', 'type': 'requests', 'param': None, 'code': 'rate_limit_exceeded'}}\n",
      "piroxicam hepatic enzyme increased\n",
      "Encountered an exception for row: pamidronate gastrointestinal haemorrhage. Error message below:\n",
      "Error code: 429 - {'error': {'message': 'Rate limit reached for gpt-3.5-turbo in organization org-wi3cHq5g1FGXIxQyl0trnye1 on requests per day (RPD): Limit 10000, Used 10000, Requested 1. Please try again in 8.64s. Visit https://platform.openai.com/account/rate-limits to learn more.', 'type': 'requests', 'param': None, 'code': 'rate_limit_exceeded'}}\n",
      "tramadol liver function test abnormal\n",
      "Encountered an exception for row: flurbiprofen renal failure. Error message below:\n",
      "Error code: 429 - {'error': {'message': 'Rate limit reached for gpt-3.5-turbo in organization org-wi3cHq5g1FGXIxQyl0trnye1 on requests per day (RPD): Limit 10000, Used 10000, Requested 1. Please try again in 8.64s. Visit https://platform.openai.com/account/rate-limits to learn more.', 'type': 'requests', 'param': None, 'code': 'rate_limit_exceeded'}}\n",
      "tramadol myocardial infarction\n",
      "oxaprozin myocardial infarction\n",
      "Encountered an exception for row: torsemide gastrointestinal haemorrhage. Error message below:\n",
      "Error code: 429 - {'error': {'message': 'Rate limit reached for gpt-3.5-turbo in organization org-wi3cHq5g1FGXIxQyl0trnye1 on requests per day (RPD): Limit 10000, Used 10000, Requested 1. Please try again in 8.64s. Visit https://platform.openai.com/account/rate-limits to learn more.', 'type': 'requests', 'param': None, 'code': 'rate_limit_exceeded'}}\n",
      "venlafaxine gastrointestinal haemorrhage\n"
     ]
    },
    {
     "name": "stderr",
     "output_type": "stream",
     "text": [
      " 78%|███████▊  | 1475/1894 [20:50<12:18,  1.76s/it]"
     ]
    },
    {
     "name": "stdout",
     "output_type": "stream",
     "text": [
      "venlafaxine liver injury\n",
      "Encountered an exception for row: propoxyphene myocardial infarction. Error message below:\n",
      "Error code: 429 - {'error': {'message': 'Rate limit reached for gpt-3.5-turbo in organization org-wi3cHq5g1FGXIxQyl0trnye1 on requests per day (RPD): Limit 10000, Used 10000, Requested 1. Please try again in 8.64s. Visit https://platform.openai.com/account/rate-limits to learn more.', 'type': 'requests', 'param': None, 'code': 'rate_limit_exceeded'}}\n",
      "pravastatin acute kidney injury\n"
     ]
    },
    {
     "name": "stderr",
     "output_type": "stream",
     "text": [
      " 78%|███████▊  | 1477/1894 [20:54<12:03,  1.73s/it]"
     ]
    },
    {
     "name": "stdout",
     "output_type": "stream",
     "text": [
      "Encountered an exception for row: chlorzoxazone gastrointestinal haemorrhage. Error message below:\n",
      "Error code: 429 - {'error': {'message': 'Rate limit reached for gpt-3.5-turbo in organization org-wi3cHq5g1FGXIxQyl0trnye1 on requests per day (RPD): Limit 10000, Used 10000, Requested 1. Please try again in 8.64s. Visit https://platform.openai.com/account/rate-limits to learn more.', 'type': 'requests', 'param': None, 'code': 'rate_limit_exceeded'}}\n",
      "naproxen liver function test abnormal\n",
      "Encountered an exception for row: azithromycin acute kidney injury. Error message below:\n",
      "Error code: 429 - {'error': {'message': 'Rate limit reached for gpt-3.5-turbo in organization org-wi3cHq5g1FGXIxQyl0trnye1 on requests per day (RPD): Limit 10000, Used 10000, Requested 1. Please try again in 8.64s. Visit https://platform.openai.com/account/rate-limits to learn more.', 'type': 'requests', 'param': None, 'code': 'rate_limit_exceeded'}}\n",
      "rivastigmine haematemesis\n"
     ]
    },
    {
     "name": "stderr",
     "output_type": "stream",
     "text": [
      " 78%|███████▊  | 1479/1894 [20:59<13:52,  2.01s/it]"
     ]
    },
    {
     "name": "stdout",
     "output_type": "stream",
     "text": [
      "Encountered an exception for row: tramadol liver function test abnormal. Error message below:\n",
      "Error code: 429 - {'error': {'message': 'Rate limit reached for gpt-3.5-turbo in organization org-wi3cHq5g1FGXIxQyl0trnye1 on requests per day (RPD): Limit 10000, Used 10000, Requested 1. Please try again in 8.64s. Visit https://platform.openai.com/account/rate-limits to learn more.', 'type': 'requests', 'param': None, 'code': 'rate_limit_exceeded'}}\n",
      "misoprostol myocardial infarction\n",
      "Encountered an exception for row: venlafaxine gastrointestinal haemorrhage. Error message below:\n",
      "Error code: 429 - {'error': {'message': 'Rate limit reached for gpt-3.5-turbo in organization org-wi3cHq5g1FGXIxQyl0trnye1 on requests per day (RPD): Limit 10000, Used 10000, Requested 1. Please try again in 8.64s. Visit https://platform.openai.com/account/rate-limits to learn more.', 'type': 'requests', 'param': None, 'code': 'rate_limit_exceeded'}}\n",
      "nifedipine gastrointestinal haemorrhage\n",
      "Encountered an exception for row: piroxicam myocardial infarction. Error message below:\n",
      "Error code: 429 - {'error': {'message': 'Rate limit reached for gpt-3.5-turbo in organization org-wi3cHq5g1FGXIxQyl0trnye1 on requests per day (RPD): Limit 10000, Used 10000, Requested 1. Please try again in 8.64s. Visit https://platform.openai.com/account/rate-limits to learn more.', 'type': 'requests', 'param': None, 'code': 'rate_limit_exceeded'}}\n",
      "nifedipine myocardial infarction\n",
      "Encountered an exception for row: piroxicam hepatic enzyme increased. Error message below:\n",
      "Error code: 429 - {'error': {'message': 'Rate limit reached for gpt-3.5-turbo in organization org-wi3cHq5g1FGXIxQyl0trnye1 on requests per day (RPD): Limit 10000, Used 10000, Requested 1. Please try again in 8.64s. Visit https://platform.openai.com/account/rate-limits to learn more.', 'type': 'requests', 'param': None, 'code': 'rate_limit_exceeded'}}\n",
      "lamivudine hepatic failure\n",
      "Encountered an exception for row: oxaprozin myocardial infarction. Error message below:\n",
      "Error code: 429 - {'error': {'message': 'Rate limit reached for gpt-3.5-turbo in organization org-wi3cHq5g1FGXIxQyl0trnye1 on requests per day (RPD): Limit 10000, Used 10000, Requested 1. Please try again in 8.64s. Visit https://platform.openai.com/account/rate-limits to learn more.', 'type': 'requests', 'param': None, 'code': 'rate_limit_exceeded'}}\n",
      "capecitabine hepatic failure\n"
     ]
    },
    {
     "name": "stderr",
     "output_type": "stream",
     "text": [
      " 78%|███████▊  | 1482/1894 [20:59<09:14,  1.35s/it]"
     ]
    },
    {
     "name": "stdout",
     "output_type": "stream",
     "text": [
      "stavudine hepatotoxicity\n"
     ]
    },
    {
     "name": "stderr",
     "output_type": "stream",
     "text": [
      " 78%|███████▊  | 1485/1894 [21:08<12:44,  1.87s/it]"
     ]
    },
    {
     "name": "stdout",
     "output_type": "stream",
     "text": [
      "Encountered an exception for row: pravastatin acute kidney injury. Error message below:\n",
      "Error code: 429 - {'error': {'message': 'Rate limit reached for gpt-3.5-turbo in organization org-wi3cHq5g1FGXIxQyl0trnye1 on requests per day (RPD): Limit 10000, Used 10000, Requested 1. Please try again in 8.64s. Visit https://platform.openai.com/account/rate-limits to learn more.', 'type': 'requests', 'param': None, 'code': 'rate_limit_exceeded'}}\n",
      "glipizide gastrointestinal haemorrhage\n",
      "adefovir renal failure\n"
     ]
    },
    {
     "name": "stderr",
     "output_type": "stream",
     "text": [
      " 79%|███████▊  | 1488/1894 [21:12<10:38,  1.57s/it]"
     ]
    },
    {
     "name": "stdout",
     "output_type": "stream",
     "text": [
      "Encountered an exception for row: naproxen liver function test abnormal. Error message below:\n",
      "Error code: 429 - {'error': {'message': 'Rate limit reached for gpt-3.5-turbo in organization org-wi3cHq5g1FGXIxQyl0trnye1 on requests per day (RPD): Limit 10000, Used 10000, Requested 1. Please try again in 8.64s. Visit https://platform.openai.com/account/rate-limits to learn more.', 'type': 'requests', 'param': None, 'code': 'rate_limit_exceeded'}}\n",
      "didanosine hepatotoxicity\n",
      "Encountered an exception for row: rivastigmine haematemesis. Error message below:\n",
      "Error code: 429 - {'error': {'message': 'Rate limit reached for gpt-3.5-turbo in organization org-wi3cHq5g1FGXIxQyl0trnye1 on requests per day (RPD): Limit 10000, Used 10000, Requested 1. Please try again in 8.64s. Visit https://platform.openai.com/account/rate-limits to learn more.', 'type': 'requests', 'param': None, 'code': 'rate_limit_exceeded'}}\n",
      "indinavir hepatic failure\n"
     ]
    },
    {
     "name": "stderr",
     "output_type": "stream",
     "text": [
      " 79%|███████▊  | 1489/1894 [21:17<15:13,  2.25s/it]"
     ]
    },
    {
     "name": "stdout",
     "output_type": "stream",
     "text": [
      "Encountered an exception for row: capecitabine hepatic failure. Error message below:\n",
      "Error code: 429 - {'error': {'message': 'Rate limit reached for gpt-3.5-turbo in organization org-wi3cHq5g1FGXIxQyl0trnye1 on requests per day (RPD): Limit 10000, Used 10000, Requested 1. Please try again in 8.64s. Visit https://platform.openai.com/account/rate-limits to learn more.', 'type': 'requests', 'param': None, 'code': 'rate_limit_exceeded'}}\n",
      "esomeprazole hepatic failure\n",
      "Encountered an exception for row: nifedipine myocardial infarction. Error message below:\n",
      "Error code: 429 - {'error': {'message': 'Rate limit reached for gpt-3.5-turbo in organization org-wi3cHq5g1FGXIxQyl0trnye1 on requests per day (RPD): Limit 10000, Used 10000, Requested 1. Please try again in 8.64s. Visit https://platform.openai.com/account/rate-limits to learn more.', 'type': 'requests', 'param': None, 'code': 'rate_limit_exceeded'}}\n",
      "clarithromycin renal failure\n",
      "Encountered an exception for row: nifedipine gastrointestinal haemorrhage. Error message below:\n",
      "Error code: 429 - {'error': {'message': 'Rate limit reached for gpt-3.5-turbo in organization org-wi3cHq5g1FGXIxQyl0trnye1 on requests per day (RPD): Limit 10000, Used 10000, Requested 1. Please try again in 8.64s. Visit https://platform.openai.com/account/rate-limits to learn more.', 'type': 'requests', 'param': None, 'code': 'rate_limit_exceeded'}}\n",
      "ketorolac myocardial infarction\n",
      "Encountered an exception for row: lamivudine hepatic failure. Error message below:\n",
      "Error code: 429 - {'error': {'message': 'Rate limit reached for gpt-3.5-turbo in organization org-wi3cHq5g1FGXIxQyl0trnye1 on requests per day (RPD): Limit 10000, Used 10000, Requested 1. Please try again in 8.64s. Visit https://platform.openai.com/account/rate-limits to learn more.', 'type': 'requests', 'param': None, 'code': 'rate_limit_exceeded'}}\n",
      "vardenafil liver function test abnormal\n",
      "Encountered an exception for row: misoprostol myocardial infarction. Error message below:\n",
      "Error code: 429 - {'error': {'message': 'Rate limit reached for gpt-3.5-turbo in organization org-wi3cHq5g1FGXIxQyl0trnye1 on requests per day (RPD): Limit 10000, Used 10000, Requested 1. Please try again in 8.64s. Visit https://platform.openai.com/account/rate-limits to learn more.', 'type': 'requests', 'param': None, 'code': 'rate_limit_exceeded'}}\n",
      "amiodarone liver injury\n",
      "Encountered an exception for row: stavudine hepatotoxicity. Error message below:\n",
      "Error code: 429 - {'error': {'message': 'Rate limit reached for gpt-3.5-turbo in organization org-wi3cHq5g1FGXIxQyl0trnye1 on requests per day (RPD): Limit 10000, Used 10000, Requested 1. Please try again in 8.64s. Visit https://platform.openai.com/account/rate-limits to learn more.', 'type': 'requests', 'param': None, 'code': 'rate_limit_exceeded'}}\n",
      "pilocarpine myocardial infarction\n"
     ]
    },
    {
     "name": "stderr",
     "output_type": "stream",
     "text": [
      " 79%|███████▉  | 1495/1894 [21:17<06:11,  1.07it/s]"
     ]
    },
    {
     "name": "stdout",
     "output_type": "stream",
     "text": [
      "atorvastatin liver function test abnormal\n",
      "lamotrigine haematemesis\n"
     ]
    },
    {
     "name": "stderr",
     "output_type": "stream",
     "text": [
      " 79%|███████▉  | 1497/1894 [21:30<13:37,  2.06s/it]"
     ]
    },
    {
     "name": "stdout",
     "output_type": "stream",
     "text": [
      "Encountered an exception for row: indinavir hepatic failure. Error message below:\n",
      "Error code: 429 - {'error': {'message': 'Rate limit reached for gpt-3.5-turbo in organization org-wi3cHq5g1FGXIxQyl0trnye1 on requests per day (RPD): Limit 10000, Used 10000, Requested 1. Please try again in 8.64s. Visit https://platform.openai.com/account/rate-limits to learn more.', 'type': 'requests', 'param': None, 'code': 'rate_limit_exceeded'}}\n",
      "moexipril myocardial infarction\n",
      "Encountered an exception for row: didanosine hepatotoxicity. Error message below:\n",
      "Error code: 429 - {'error': {'message': 'Rate limit reached for gpt-3.5-turbo in organization org-wi3cHq5g1FGXIxQyl0trnye1 on requests per day (RPD): Limit 10000, Used 10000, Requested 1. Please try again in 8.64s. Visit https://platform.openai.com/account/rate-limits to learn more.', 'type': 'requests', 'param': None, 'code': 'rate_limit_exceeded'}}\n",
      "rosuvastatin hepatic failure\n"
     ]
    },
    {
     "name": "stderr",
     "output_type": "stream",
     "text": [
      " 79%|███████▉  | 1499/1894 [21:35<14:57,  2.27s/it]"
     ]
    },
    {
     "name": "stdout",
     "output_type": "stream",
     "text": [
      "Encountered an exception for row: ketorolac myocardial infarction. Error message below:Encountered an exception for row: pilocarpine myocardial infarction. Error message below:\n",
      "Error code: 429 - {'error': {'message': 'Rate limit reached for gpt-3.5-turbo in organization org-wi3cHq5g1FGXIxQyl0trnye1 on requests per day (RPD): Limit 10000, Used 10000, Requested 1. Please try again in 8.64s. Visit https://platform.openai.com/account/rate-limits to learn more.', 'type': 'requests', 'param': None, 'code': 'rate_limit_exceeded'}}\n",
      "levofloxacin hepatic failure\n",
      "\n",
      "Error code: 429 - {'error': {'message': 'Rate limit reached for gpt-3.5-turbo in organization org-wi3cHq5g1FGXIxQyl0trnye1 on requests per day (RPD): Limit 10000, Used 10000, Requested 1. Please try again in 8.64s. Visit https://platform.openai.com/account/rate-limits to learn more.', 'type': 'requests', 'param': None, 'code': 'rate_limit_exceeded'}}\n",
      "isosorbide myocardial infarction\n",
      "Encountered an exception for row: amiodarone liver injury. Error message below:\n",
      "Error code: 429 - {'error': {'message': 'Rate limit reached for gpt-3.5-turbo in organization org-wi3cHq5g1FGXIxQyl0trnye1 on requests per day (RPD): Limit 10000, Used 10000, Requested 1. Please try again in 8.64s. Visit https://platform.openai.com/account/rate-limits to learn more.', 'type': 'requests', 'param': None, 'code': 'rate_limit_exceeded'}}\n",
      "oseltamivir gastrointestinal haemorrhage\n",
      "Encountered an exception for row: clarithromycin renal failure. Error message below:\n",
      "Error code: 429 - {'error': {'message': 'Rate limit reached for gpt-3.5-turbo in organization org-wi3cHq5g1FGXIxQyl0trnye1 on requests per day (RPD): Limit 10000, Used 10000, Requested 1. Please try again in 8.64s. Visit https://platform.openai.com/account/rate-limits to learn more.', 'type': 'requests', 'param': None, 'code': 'rate_limit_exceeded'}}\n",
      "bicalutamide hepatic failure\n",
      "Encountered an exception for row: vardenafil liver function test abnormal. Error message below:\n",
      "Error code: 429 - {'error': {'message': 'Rate limit reached for gpt-3.5-turbo in organization org-wi3cHq5g1FGXIxQyl0trnye1 on requests per day (RPD): Limit 10000, Used 10000, Requested 1. Please try again in 8.64s. Visit https://platform.openai.com/account/rate-limits to learn more.', 'type': 'requests', 'param': None, 'code': 'rate_limit_exceeded'}}\n",
      "trandolapril renal failure\n",
      "Encountered an exception for row: atorvastatin liver function test abnormal. Error message below:\n",
      "Error code: 429 - {'error': {'message': 'Rate limit reached for gpt-3.5-turbo in organization org-wi3cHq5g1FGXIxQyl0trnye1 on requests per day (RPD): Limit 10000, Used 10000, Requested 1. Please try again in 8.64s. Visit https://platform.openai.com/account/rate-limits to learn more.', 'type': 'requests', 'param': None, 'code': 'rate_limit_exceeded'}}\n",
      "bromocriptine myocardial infarction\n",
      "telithromycin liver function test abnormal\n"
     ]
    },
    {
     "name": "stderr",
     "output_type": "stream",
     "text": [
      " 80%|███████▉  | 1506/1894 [21:44<11:12,  1.73s/it]"
     ]
    },
    {
     "name": "stdout",
     "output_type": "stream",
     "text": [
      "octreotide gastrointestinal haemorrhage\n"
     ]
    },
    {
     "name": "stderr",
     "output_type": "stream",
     "text": [
      " 80%|███████▉  | 1507/1894 [21:47<11:58,  1.86s/it]"
     ]
    },
    {
     "name": "stdout",
     "output_type": "stream",
     "text": [
      "Encountered an exception for row: rosuvastatin hepatic failure. Error message below:\n",
      "Error code: 429 - {'error': {'message': 'Rate limit reached for gpt-3.5-turbo in organization org-wi3cHq5g1FGXIxQyl0trnye1 on requests per day (RPD): Limit 10000, Used 10000, Requested 1. Please try again in 8.64s. Visit https://platform.openai.com/account/rate-limits to learn more.', 'type': 'requests', 'param': None, 'code': 'rate_limit_exceeded'}}\n",
      "candesartan renal failure\n",
      "Encountered an exception for row: moexipril myocardial infarction. Error message below:\n",
      "Error code: 429 - {'error': {'message': 'Rate limit reached for gpt-3.5-turbo in organization org-wi3cHq5g1FGXIxQyl0trnye1 on requests per day (RPD): Limit 10000, Used 10000, Requested 1. Please try again in 8.64s. Visit https://platform.openai.com/account/rate-limits to learn more.', 'type': 'requests', 'param': None, 'code': 'rate_limit_exceeded'}}\n",
      "felbamate haematemesis\n"
     ]
    },
    {
     "name": "stderr",
     "output_type": "stream",
     "text": [
      " 80%|███████▉  | 1513/1894 [21:53<08:12,  1.29s/it]"
     ]
    },
    {
     "name": "stdout",
     "output_type": "stream",
     "text": [
      "Encountered an exception for row: levofloxacin hepatic failure. Error message below:Encountered an exception for row: oseltamivir gastrointestinal haemorrhage. Error message below:\n",
      "Error code: 429 - {'error': {'message': 'Rate limit reached for gpt-3.5-turbo in organization org-wi3cHq5g1FGXIxQyl0trnye1 on requests per day (RPD): Limit 10000, Used 10000, Requested 1. Please try again in 8.64s. Visit https://platform.openai.com/account/rate-limits to learn more.', 'type': 'requests', 'param': None, 'code': 'rate_limit_exceeded'}}\n",
      "itraconazole hepatic failure\n",
      "Encountered an exception for row: isosorbide myocardial infarction. Error message below:\n",
      "Error code: 429 - {'error': {'message': 'Rate limit reached for gpt-3.5-turbo in organization org-wi3cHq5g1FGXIxQyl0trnye1 on requests per day (RPD): Limit 10000, Used 10000, Requested 1. Please try again in 8.64s. Visit https://platform.openai.com/account/rate-limits to learn more.', 'type': 'requests', 'param': None, 'code': 'rate_limit_exceeded'}}\n",
      "selegiline gastrointestinal haemorrhage\n",
      "Encountered an exception for row: bromocriptine myocardial infarction. Error message below:\n",
      "Error code: 429 - {'error': {'message': 'Rate limit reached for gpt-3.5-turbo in organization org-wi3cHq5g1FGXIxQyl0trnye1 on requests per day (RPD): Limit 10000, Used 10000, Requested 1. Please try again in 8.64s. Visit https://platform.openai.com/account/rate-limits to learn more.', 'type': 'requests', 'param': None, 'code': 'rate_limit_exceeded'}}\n",
      "ticlopidine hepatic failure\n",
      "\n",
      "Error code: 429 - {'error': {'message': 'Rate limit reached for gpt-3.5-turbo in organization org-wi3cHq5g1FGXIxQyl0trnye1 on requests per day (RPD): Limit 10000, Used 10000, Requested 1. Please try again in 8.64s. Visit https://platform.openai.com/account/rate-limits to learn more.', 'type': 'requests', 'param': None, 'code': 'rate_limit_exceeded'}}\n",
      "acamprosate gastrointestinal haemorrhage\n",
      "Encountered an exception for row: bicalutamide hepatic failure. Error message below:\n",
      "Error code: 429 - {'error': {'message': 'Rate limit reached for gpt-3.5-turbo in organization org-wi3cHq5g1FGXIxQyl0trnye1 on requests per day (RPD): Limit 10000, Used 10000, Requested 1. Please try again in 8.64s. Visit https://platform.openai.com/account/rate-limits to learn more.', 'type': 'requests', 'param': None, 'code': 'rate_limit_exceeded'}}\n",
      "oxaprozin gastrointestinal haemorrhage\n",
      "Encountered an exception for row: telithromycin liver function test abnormal. Error message below:\n",
      "Error code: 429 - {'error': {'message': 'Rate limit reached for gpt-3.5-turbo in organization org-wi3cHq5g1FGXIxQyl0trnye1 on requests per day (RPD): Limit 10000, Used 10000, Requested 1. Please try again in 8.64s. Visit https://platform.openai.com/account/rate-limits to learn more.', 'type': 'requests', 'param': None, 'code': 'rate_limit_exceeded'}}\n",
      "valganciclovir renal impairment\n",
      "enoxaparin myocardial infarction\n"
     ]
    },
    {
     "name": "stderr",
     "output_type": "stream",
     "text": [
      " 80%|████████  | 1516/1894 [22:03<11:24,  1.81s/it]"
     ]
    },
    {
     "name": "stdout",
     "output_type": "stream",
     "text": [
      "nimodipine gastrointestinal haemorrhage\n"
     ]
    },
    {
     "name": "stderr",
     "output_type": "stream",
     "text": [
      " 80%|████████  | 1517/1894 [22:05<12:06,  1.93s/it]"
     ]
    },
    {
     "name": "stdout",
     "output_type": "stream",
     "text": [
      "Encountered an exception for row: felbamate haematemesis. Error message below:\n",
      "Error code: 429 - {'error': {'message': 'Rate limit reached for gpt-3.5-turbo in organization org-wi3cHq5g1FGXIxQyl0trnye1 on requests per day (RPD): Limit 10000, Used 10000, Requested 1. Please try again in 8.64s. Visit https://platform.openai.com/account/rate-limits to learn more.', 'type': 'requests', 'param': None, 'code': 'rate_limit_exceeded'}}\n",
      "imatinib acute hepatic failure\n",
      "Encountered an exception for row: candesartan renal failure. Error message below:\n",
      "Error code: 429 - {'error': {'message': 'Rate limit reached for gpt-3.5-turbo in organization org-wi3cHq5g1FGXIxQyl0trnye1 on requests per day (RPD): Limit 10000, Used 10000, Requested 1. Please try again in 8.64s. Visit https://platform.openai.com/account/rate-limits to learn more.', 'type': 'requests', 'param': None, 'code': 'rate_limit_exceeded'}}\n",
      "irinotecan myocardial infarction\n"
     ]
    },
    {
     "name": "stderr",
     "output_type": "stream",
     "text": [
      " 80%|████████  | 1521/1894 [22:12<10:12,  1.64s/it]"
     ]
    },
    {
     "name": "stdout",
     "output_type": "stream",
     "text": [
      "Encountered an exception for row: selegiline gastrointestinal haemorrhage. Error message below:Encountered an exception for row: enoxaparin myocardial infarction. Error message below:\n",
      "Error code: 429 - {'error': {'message': 'Rate limit reached for gpt-3.5-turbo in organization org-wi3cHq5g1FGXIxQyl0trnye1 on requests per day (RPD): Limit 10000, Used 10000, Requested 1. Please try again in 8.64s. Visit https://platform.openai.com/account/rate-limits to learn more.', 'type': 'requests', 'param': None, 'code': 'rate_limit_exceeded'}}\n",
      "human vaccinia immune globulin acute kidney injury\n",
      "\n",
      "Error code: 429 - {'error': {'message': 'Rate limit reached for gpt-3.5-turbo in organization org-wi3cHq5g1FGXIxQyl0trnye1 on requests per day (RPD): Limit 10000, Used 10000, Requested 1. Please try again in 8.64s. Visit https://platform.openai.com/account/rate-limits to learn more.', 'type': 'requests', 'param': None, 'code': 'rate_limit_exceeded'}}\n",
      "methotrexate hepatic failure\n",
      "Encountered an exception for row: itraconazole hepatic failure. Error message below:\n",
      "Error code: 429 - {'error': {'message': 'Rate limit reached for gpt-3.5-turbo in organization org-wi3cHq5g1FGXIxQyl0trnye1 on requests per day (RPD): Limit 10000, Used 10000, Requested 1. Please try again in 8.64s. Visit https://platform.openai.com/account/rate-limits to learn more.', 'type': 'requests', 'param': None, 'code': 'rate_limit_exceeded'}}\n",
      "bortezomib myocardial infarction\n",
      "Encountered an exception for row: valganciclovir renal impairment. Error message below:\n",
      "Error code: 429 - {'error': {'message': 'Rate limit reached for gpt-3.5-turbo in organization org-wi3cHq5g1FGXIxQyl0trnye1 on requests per day (RPD): Limit 10000, Used 10000, Requested 1. Please try again in 8.64s. Visit https://platform.openai.com/account/rate-limits to learn more.', 'type': 'requests', 'param': None, 'code': 'rate_limit_exceeded'}}\n",
      "bortezomib renal failure\n",
      "Encountered an exception for row: acamprosate gastrointestinal haemorrhage. Error message below:\n",
      "Error code: 429 - {'error': {'message': 'Rate limit reached for gpt-3.5-turbo in organization org-wi3cHq5g1FGXIxQyl0trnye1 on requests per day (RPD): Limit 10000, Used 10000, Requested 1. Please try again in 8.64s. Visit https://platform.openai.com/account/rate-limits to learn more.', 'type': 'requests', 'param': None, 'code': 'rate_limit_exceeded'}}\n",
      "trabectedin hepatotoxicity\n",
      "Encountered an exception for row: oxaprozin gastrointestinal haemorrhage. Error message below:\n",
      "Error code: 429 - {'error': {'message': 'Rate limit reached for gpt-3.5-turbo in organization org-wi3cHq5g1FGXIxQyl0trnye1 on requests per day (RPD): Limit 10000, Used 10000, Requested 1. Please try again in 8.64s. Visit https://platform.openai.com/account/rate-limits to learn more.', 'type': 'requests', 'param': None, 'code': 'rate_limit_exceeded'}}\n",
      "sapropterin gastrointestinal haemorrhage\n",
      "sapropterin myocardial infarction\n",
      "ceftazidime renal impairment\n"
     ]
    },
    {
     "name": "stderr",
     "output_type": "stream",
     "text": [
      " 81%|████████  | 1526/1894 [22:20<10:27,  1.71s/it]"
     ]
    },
    {
     "name": "stdout",
     "output_type": "stream",
     "text": [
      "Encountered an exception for row: nimodipine gastrointestinal haemorrhage. Error message below:\n",
      "Error code: 429 - {'error': {'message': 'Rate limit reached for gpt-3.5-turbo in organization org-wi3cHq5g1FGXIxQyl0trnye1 on requests per day (RPD): Limit 10000, Used 10000, Requested 1. Please try again in 8.64s. Visit https://platform.openai.com/account/rate-limits to learn more.', 'type': 'requests', 'param': None, 'code': 'rate_limit_exceeded'}}\n",
      "fluvoxamine renal impairment\n"
     ]
    },
    {
     "name": "stderr",
     "output_type": "stream",
     "text": [
      " 81%|████████  | 1528/1894 [22:24<10:13,  1.68s/it]"
     ]
    },
    {
     "name": "stdout",
     "output_type": "stream",
     "text": [
      "tirofiban haematemesis\n"
     ]
    },
    {
     "name": "stderr",
     "output_type": "stream",
     "text": [
      " 81%|████████  | 1534/1894 [22:30<07:12,  1.20s/it]"
     ]
    },
    {
     "name": "stdout",
     "output_type": "stream",
     "text": [
      "Encountered an exception for row: methotrexate hepatic failure. Error message below:\n",
      "Error code: 429 - {'error': {'message': 'Rate limit reached for gpt-3.5-turbo in organization org-wi3cHq5g1FGXIxQyl0trnye1 on requests per day (RPD): Limit 10000, Used 10000, Requested 1. Please try again in 8.64s. Visit https://platform.openai.com/account/rate-limits to learn more.', 'type': 'requests', 'param': None, 'code': 'rate_limit_exceeded'}}\n",
      "arsenic trioxide gastrointestinal haemorrhage\n",
      "Encountered an exception for row: sapropterin myocardial infarction. Error message below:\n",
      "Error code: 429 - {'error': {'message': 'Rate limit reached for gpt-3.5-turbo in organization org-wi3cHq5g1FGXIxQyl0trnye1 on requests per day (RPD): Limit 10000, Used 10000, Requested 1. Please try again in 8.64s. Visit https://platform.openai.com/account/rate-limits to learn more.', 'type': 'requests', 'param': None, 'code': 'rate_limit_exceeded'}}\n",
      "cobicistat renal impairment\n",
      "Encountered an exception for row: human vaccinia immune globulin acute kidney injury. Error message below:\n",
      "Error code: 429 - {'error': {'message': 'Rate limit reached for gpt-3.5-turbo in organization org-wi3cHq5g1FGXIxQyl0trnye1 on requests per day (RPD): Limit 10000, Used 10000, Requested 1. Please try again in 8.64s. Visit https://platform.openai.com/account/rate-limits to learn more.', 'type': 'requests', 'param': None, 'code': 'rate_limit_exceeded'}}\n",
      "atropine myocardial infarction\n",
      "Encountered an exception for row: bortezomib myocardial infarction. Error message below:\n",
      "Error code: 429 - {'error': {'message': 'Rate limit reached for gpt-3.5-turbo in organization org-wi3cHq5g1FGXIxQyl0trnye1 on requests per day (RPD): Limit 10000, Used 10000, Requested 1. Please try again in 8.64s. Visit https://platform.openai.com/account/rate-limits to learn more.', 'type': 'requests', 'param': None, 'code': 'rate_limit_exceeded'}}\n",
      "metronidazole hepatotoxicity\n",
      "Encountered an exception for row: trabectedin hepatotoxicity. Error message below:\n",
      "Error code: 429 - {'error': {'message': 'Rate limit reached for gpt-3.5-turbo in organization org-wi3cHq5g1FGXIxQyl0trnye1 on requests per day (RPD): Limit 10000, Used 10000, Requested 1. Please try again in 8.64s. Visit https://platform.openai.com/account/rate-limits to learn more.', 'type': 'requests', 'param': None, 'code': 'rate_limit_exceeded'}}\n",
      "mefenamate hepatotoxicity\n",
      "Encountered an exception for row: bortezomib renal failure. Error message below:\n",
      "Error code: 429 - {'error': {'message': 'Rate limit reached for gpt-3.5-turbo in organization org-wi3cHq5g1FGXIxQyl0trnye1 on requests per day (RPD): Limit 10000, Used 10000, Requested 1. Please try again in 8.64s. Visit https://platform.openai.com/account/rate-limits to learn more.', 'type': 'requests', 'param': None, 'code': 'rate_limit_exceeded'}}\n",
      "mefenamate myocardial infarction\n",
      "Encountered an exception for row: sapropterin gastrointestinal haemorrhage. Error message below:\n",
      "Error code: 429 - {'error': {'message': 'Rate limit reached for gpt-3.5-turbo in organization org-wi3cHq5g1FGXIxQyl0trnye1 on requests per day (RPD): Limit 10000, Used 10000, Requested 1. Please try again in 8.64s. Visit https://platform.openai.com/account/rate-limits to learn more.', 'type': 'requests', 'param': None, 'code': 'rate_limit_exceeded'}}\n",
      "lincomycin renal impairment\n"
     ]
    },
    {
     "name": "stderr",
     "output_type": "stream",
     "text": [
      " 81%|████████  | 1536/1894 [22:33<07:14,  1.21s/it]"
     ]
    },
    {
     "name": "stdout",
     "output_type": "stream",
     "text": [
      "budesonide renal failure\n",
      "Encountered an exception for row: ceftazidime renal impairment. Error message below:\n",
      "Error code: 429 - {'error': {'message': 'Rate limit reached for gpt-3.5-turbo in organization org-wi3cHq5g1FGXIxQyl0trnye1 on requests per day (RPD): Limit 10000, Used 10000, Requested 1. Please try again in 8.64s. Visit https://platform.openai.com/account/rate-limits to learn more.', 'type': 'requests', 'param': None, 'code': 'rate_limit_exceeded'}}\n",
      "secnidazole hepatotoxicity\n"
     ]
    },
    {
     "name": "stderr",
     "output_type": "stream",
     "text": [
      " 81%|████████  | 1537/1894 [22:38<10:43,  1.80s/it]"
     ]
    },
    {
     "name": "stdout",
     "output_type": "stream",
     "text": [
      "Encountered an exception for row: fluvoxamine renal impairment. Error message below:\n",
      "Error code: 429 - {'error': {'message': 'Rate limit reached for gpt-3.5-turbo in organization org-wi3cHq5g1FGXIxQyl0trnye1 on requests per day (RPD): Limit 10000, Used 10000, Requested 1. Please try again in 8.64s. Visit https://platform.openai.com/account/rate-limits to learn more.', 'type': 'requests', 'param': None, 'code': 'rate_limit_exceeded'}}\n",
      "selpercatinib hepatotoxicity\n",
      "everolimus hepatic failure\n"
     ]
    },
    {
     "name": "stderr",
     "output_type": "stream",
     "text": [
      " 82%|████████▏ | 1544/1894 [22:48<07:47,  1.34s/it]"
     ]
    },
    {
     "name": "stdout",
     "output_type": "stream",
     "text": [
      "Encountered an exception for row: cobicistat renal impairment. Error message below:Encountered an exception for row: metronidazole hepatotoxicity. Error message below:\n",
      "Error code: 429 - {'error': {'message': 'Rate limit reached for gpt-3.5-turbo in organization org-wi3cHq5g1FGXIxQyl0trnye1 on requests per day (RPD): Limit 10000, Used 10000, Requested 1. Please try again in 8.64s. Visit https://platform.openai.com/account/rate-limits to learn more.', 'type': 'requests', 'param': None, 'code': 'rate_limit_exceeded'}}\n",
      "defibrotide renal failure\n",
      "\n",
      "Error code: 429 - {'error': {'message': 'Rate limit reached for gpt-3.5-turbo in organization org-wi3cHq5g1FGXIxQyl0trnye1 on requests per day (RPD): Limit 10000, Used 10000, Requested 1. Please try again in 8.64s. Visit https://platform.openai.com/account/rate-limits to learn more.', 'type': 'requests', 'param': None, 'code': 'rate_limit_exceeded'}}\n",
      "calaspargase pegol hepatotoxicity\n",
      "Encountered an exception for row: atropine myocardial infarction. Error message below:\n",
      "Error code: 429 - {'error': {'message': 'Rate limit reached for gpt-3.5-turbo in organization org-wi3cHq5g1FGXIxQyl0trnye1 on requests per day (RPD): Limit 10000, Used 10000, Requested 1. Please try again in 8.64s. Visit https://platform.openai.com/account/rate-limits to learn more.', 'type': 'requests', 'param': None, 'code': 'rate_limit_exceeded'}}\n",
      "rucaparib renal failure\n",
      "Encountered an exception for row: arsenic trioxide gastrointestinal haemorrhage. Error message below:\n",
      "Error code: 429 - {'error': {'message': 'Rate limit reached for gpt-3.5-turbo in organization org-wi3cHq5g1FGXIxQyl0trnye1 on requests per day (RPD): Limit 10000, Used 10000, Requested 1. Please try again in 8.64s. Visit https://platform.openai.com/account/rate-limits to learn more.', 'type': 'requests', 'param': None, 'code': 'rate_limit_exceeded'}}\n",
      "sacituzumab renal impairment\n",
      "Encountered an exception for row: mefenamate hepatotoxicity. Error message below:\n",
      "Error code: 429 - {'error': {'message': 'Rate limit reached for gpt-3.5-turbo in organization org-wi3cHq5g1FGXIxQyl0trnye1 on requests per day (RPD): Limit 10000, Used 10000, Requested 1. Please try again in 8.64s. Visit https://platform.openai.com/account/rate-limits to learn more.', 'type': 'requests', 'param': None, 'code': 'rate_limit_exceeded'}}\n",
      "itraconazole renal failure\n",
      "Encountered an exception for row: mefenamate myocardial infarction. Error message below:\n",
      "Error code: 429 - {'error': {'message': 'Rate limit reached for gpt-3.5-turbo in organization org-wi3cHq5g1FGXIxQyl0trnye1 on requests per day (RPD): Limit 10000, Used 10000, Requested 1. Please try again in 8.64s. Visit https://platform.openai.com/account/rate-limits to learn more.', 'type': 'requests', 'param': None, 'code': 'rate_limit_exceeded'}}\n",
      "dotatate acute kidney injury\n",
      "Encountered an exception for row: lincomycin renal impairment. Error message below:\n",
      "Error code: 429 - {'error': {'message': 'Rate limit reached for gpt-3.5-turbo in organization org-wi3cHq5g1FGXIxQyl0trnye1 on requests per day (RPD): Limit 10000, Used 10000, Requested 1. Please try again in 8.64s. Visit https://platform.openai.com/account/rate-limits to learn more.', 'type': 'requests', 'param': None, 'code': 'rate_limit_exceeded'}}\n",
      "thalidomide myocardial infarction\n"
     ]
    },
    {
     "name": "stderr",
     "output_type": "stream",
     "text": [
      " 82%|████████▏ | 1547/1894 [22:51<07:02,  1.22s/it]"
     ]
    },
    {
     "name": "stdout",
     "output_type": "stream",
     "text": [
      "estramustine gastrointestinal haemorrhage\n",
      "Encountered an exception for row: selpercatinib hepatotoxicity. Error message below:\n",
      "Error code: 429 - {'error': {'message': 'Rate limit reached for gpt-3.5-turbo in organization org-wi3cHq5g1FGXIxQyl0trnye1 on requests per day (RPD): Limit 10000, Used 10000, Requested 1. Please try again in 8.64s. Visit https://platform.openai.com/account/rate-limits to learn more.', 'type': 'requests', 'param': None, 'code': 'rate_limit_exceeded'}}\n",
      "midostaurin myocardial infarction\n",
      "3-iodobenzylguanidine renal impairment\n"
     ]
    },
    {
     "name": "stderr",
     "output_type": "stream",
     "text": [
      " 82%|████████▏ | 1549/1894 [23:01<11:49,  2.06s/it]"
     ]
    },
    {
     "name": "stdout",
     "output_type": "stream",
     "text": [
      "Encountered an exception for row: everolimus hepatic failure. Error message below:\n",
      "Error code: 429 - {'error': {'message': 'Rate limit reached for gpt-3.5-turbo in organization org-wi3cHq5g1FGXIxQyl0trnye1 on requests per day (RPD): Limit 10000, Used 10000, Requested 1. Please try again in 8.64s. Visit https://platform.openai.com/account/rate-limits to learn more.', 'type': 'requests', 'param': None, 'code': 'rate_limit_exceeded'}}\n",
      "satralizumab hepatic enzyme increased\n"
     ]
    },
    {
     "name": "stderr",
     "output_type": "stream",
     "text": [
      " 82%|████████▏ | 1550/1894 [23:06<14:11,  2.48s/it]"
     ]
    },
    {
     "name": "stdout",
     "output_type": "stream",
     "text": [
      "Encountered an exception for row: sacituzumab renal impairment. Error message below:\n",
      "Error code: 429 - {'error': {'message': 'Rate limit reached for gpt-3.5-turbo in organization org-wi3cHq5g1FGXIxQyl0trnye1 on requests per day (RPD): Limit 10000, Used 10000, Requested 1. Please try again in 8.64s. Visit https://platform.openai.com/account/rate-limits to learn more.', 'type': 'requests', 'param': None, 'code': 'rate_limit_exceeded'}}\n",
      "water renal failure\n",
      "Encountered an exception for row: thalidomide myocardial infarction. Error message below:\n",
      "Error code: 429 - {'error': {'message': 'Rate limit reached for gpt-3.5-turbo in organization org-wi3cHq5g1FGXIxQyl0trnye1 on requests per day (RPD): Limit 10000, Used 10000, Requested 1. Please try again in 8.64s. Visit https://platform.openai.com/account/rate-limits to learn more.', 'type': 'requests', 'param': None, 'code': 'rate_limit_exceeded'}}\n",
      "cariprazine hepatic enzyme increased\n",
      "Encountered an exception for row: defibrotide renal failure. Error message below:\n",
      "Error code: 429 - {'error': {'message': 'Rate limit reached for gpt-3.5-turbo in organization org-wi3cHq5g1FGXIxQyl0trnye1 on requests per day (RPD): Limit 10000, Used 10000, Requested 1. Please try again in 8.64s. Visit https://platform.openai.com/account/rate-limits to learn more.', 'type': 'requests', 'param': None, 'code': 'rate_limit_exceeded'}}\n",
      "clopidogrel myocardial infarction\n",
      "Encountered an exception for row: dotatate acute kidney injury. Error message below:\n",
      "Error code: 429 - {'error': {'message': 'Rate limit reached for gpt-3.5-turbo in organization org-wi3cHq5g1FGXIxQyl0trnye1 on requests per day (RPD): Limit 10000, Used 10000, Requested 1. Please try again in 8.64s. Visit https://platform.openai.com/account/rate-limits to learn more.', 'type': 'requests', 'param': None, 'code': 'rate_limit_exceeded'}}\n",
      "naltrexone hepatic failure\n",
      "Encountered an exception for row: calaspargase pegol hepatotoxicity. Error message below:\n",
      "Error code: 429 - {'error': {'message': 'Rate limit reached for gpt-3.5-turbo in organization org-wi3cHq5g1FGXIxQyl0trnye1 on requests per day (RPD): Limit 10000, Used 10000, Requested 1. Please try again in 8.64s. Visit https://platform.openai.com/account/rate-limits to learn more.', 'type': 'requests', 'param': None, 'code': 'rate_limit_exceeded'}}\n",
      "felbamate acute hepatic failure\n",
      "Encountered an exception for row: itraconazole renal failure. Error message below:\n",
      "Error code: 429 - {'error': {'message': 'Rate limit reached for gpt-3.5-turbo in organization org-wi3cHq5g1FGXIxQyl0trnye1 on requests per day (RPD): Limit 10000, Used 10000, Requested 1. Please try again in 8.64s. Visit https://platform.openai.com/account/rate-limits to learn more.', 'type': 'requests', 'param': None, 'code': 'rate_limit_exceeded'}}\n",
      "flucytosine renal impairment\n",
      "Encountered an exception for row: rucaparib renal failure. Error message below:\n",
      "Error code: 429 - {'error': {'message': 'Rate limit reached for gpt-3.5-turbo in organization org-wi3cHq5g1FGXIxQyl0trnye1 on requests per day (RPD): Limit 10000, Used 10000, Requested 1. Please try again in 8.64s. Visit https://platform.openai.com/account/rate-limits to learn more.', 'type': 'requests', 'param': None, 'code': 'rate_limit_exceeded'}}\n",
      "tramadol hepatotoxicity\n",
      "acetaminophen acute hepatic failure\n"
     ]
    },
    {
     "name": "stderr",
     "output_type": "stream",
     "text": [
      " 82%|████████▏ | 1558/1894 [23:14<08:52,  1.59s/it]"
     ]
    },
    {
     "name": "stdout",
     "output_type": "stream",
     "text": [
      "Encountered an exception for row: midostaurin myocardial infarction. Error message below:\n",
      "Error code: 429 - {'error': {'message': 'Rate limit reached for gpt-3.5-turbo in organization org-wi3cHq5g1FGXIxQyl0trnye1 on requests per day (RPD): Limit 10000, Used 10000, Requested 1. Please try again in 8.64s. Visit https://platform.openai.com/account/rate-limits to learn more.', 'type': 'requests', 'param': None, 'code': 'rate_limit_exceeded'}}\n",
      "tobramycin renal failure\n",
      "tipranavir hepatotoxicity\n"
     ]
    },
    {
     "name": "stderr",
     "output_type": "stream",
     "text": [
      " 82%|████████▏ | 1559/1894 [23:18<10:05,  1.81s/it]"
     ]
    },
    {
     "name": "stdout",
     "output_type": "stream",
     "text": [
      "Encountered an exception for row: 3-iodobenzylguanidine renal impairment. Error message below:\n",
      "Error code: 429 - {'error': {'message': 'Rate limit reached for gpt-3.5-turbo in organization org-wi3cHq5g1FGXIxQyl0trnye1 on requests per day (RPD): Limit 10000, Used 10000, Requested 1. Please try again in 8.64s. Visit https://platform.openai.com/account/rate-limits to learn more.', 'type': 'requests', 'param': None, 'code': 'rate_limit_exceeded'}}\n",
      "ofatumumab hepatic failure\n"
     ]
    },
    {
     "name": "stderr",
     "output_type": "stream",
     "text": [
      " 82%|████████▏ | 1560/1894 [23:19<09:23,  1.69s/it]"
     ]
    },
    {
     "name": "stdout",
     "output_type": "stream",
     "text": [
      "Encountered an exception for row: satralizumab hepatic enzyme increased. Error message below:\n",
      "Error code: 429 - {'error': {'message': 'Rate limit reached for gpt-3.5-turbo in organization org-wi3cHq5g1FGXIxQyl0trnye1 on requests per day (RPD): Limit 10000, Used 10000, Requested 1. Please try again in 8.64s. Visit https://platform.openai.com/account/rate-limits to learn more.', 'type': 'requests', 'param': None, 'code': 'rate_limit_exceeded'}}\n",
      "obinutuzumab hepatic failure\n"
     ]
    },
    {
     "name": "stderr",
     "output_type": "stream",
     "text": [
      " 83%|████████▎ | 1565/1894 [23:24<06:54,  1.26s/it]"
     ]
    },
    {
     "name": "stdout",
     "output_type": "stream",
     "text": [
      "Encountered an exception for row: naltrexone hepatic failure. Error message below:\n",
      "Error code: 429 - {'error': {'message': 'Rate limit reached for gpt-3.5-turbo in organization org-wi3cHq5g1FGXIxQyl0trnye1 on requests per day (RPD): Limit 10000, Used 10000, Requested 1. Please try again in 8.64s. Visit https://platform.openai.com/account/rate-limits to learn more.', 'type': 'requests', 'param': None, 'code': 'rate_limit_exceeded'}}\n",
      "ketorolac gastrointestinal haemorrhage\n",
      "Encountered an exception for row: flucytosine renal impairment. Error message below:\n",
      "Error code: 429 - {'error': {'message': 'Rate limit reached for gpt-3.5-turbo in organization org-wi3cHq5g1FGXIxQyl0trnye1 on requests per day (RPD): Limit 10000, Used 10000, Requested 1. Please try again in 8.64s. Visit https://platform.openai.com/account/rate-limits to learn more.', 'type': 'requests', 'param': None, 'code': 'rate_limit_exceeded'}}\n",
      "clotrimazole liver function test abnormal\n",
      "Encountered an exception for row: cariprazine hepatic enzyme increased. Error message below:\n",
      "Error code: 429 - {'error': {'message': 'Rate limit reached for gpt-3.5-turbo in organization org-wi3cHq5g1FGXIxQyl0trnye1 on requests per day (RPD): Limit 10000, Used 10000, Requested 1. Please try again in 8.64s. Visit https://platform.openai.com/account/rate-limits to learn more.', 'type': 'requests', 'param': None, 'code': 'rate_limit_exceeded'}}\n",
      "meloxicam haematemesis\n",
      "Encountered an exception for row: clopidogrel myocardial infarction. Error message below:\n",
      "Error code: 429 - {'error': {'message': 'Rate limit reached for gpt-3.5-turbo in organization org-wi3cHq5g1FGXIxQyl0trnye1 on requests per day (RPD): Limit 10000, Used 10000, Requested 1. Please try again in 8.64s. Visit https://platform.openai.com/account/rate-limits to learn more.', 'type': 'requests', 'param': None, 'code': 'rate_limit_exceeded'}}\n",
      "amlodipine myocardial infarction\n",
      "Encountered an exception for row: acetaminophen acute hepatic failure. Error message below:\n",
      "Error code: 429 - {'error': {'message': 'Rate limit reached for gpt-3.5-turbo in organization org-wi3cHq5g1FGXIxQyl0trnye1 on requests per day (RPD): Limit 10000, Used 10000, Requested 1. Please try again in 8.64s. Visit https://platform.openai.com/account/rate-limits to learn more.', 'type': 'requests', 'param': None, 'code': 'rate_limit_exceeded'}}\n",
      "carbamazepine liver function test abnormal\n",
      "tinzaparin haematemesis\n"
     ]
    },
    {
     "name": "stderr",
     "output_type": "stream",
     "text": [
      " 83%|████████▎ | 1569/1894 [23:32<08:16,  1.53s/it]"
     ]
    },
    {
     "name": "stdout",
     "output_type": "stream",
     "text": [
      "Encountered an exception for row: tobramycin renal failure. Error message below:\n",
      "Error code: 429 - {'error': {'message': 'Rate limit reached for gpt-3.5-turbo in organization org-wi3cHq5g1FGXIxQyl0trnye1 on requests per day (RPD): Limit 10000, Used 10000, Requested 1. Please try again in 8.64s. Visit https://platform.openai.com/account/rate-limits to learn more.', 'type': 'requests', 'param': None, 'code': 'rate_limit_exceeded'}}\n",
      "nefazodone hepatic necrosis\n",
      "celecoxib renal failure\n"
     ]
    },
    {
     "name": "stderr",
     "output_type": "stream",
     "text": [
      " 83%|████████▎ | 1570/1894 [23:33<08:05,  1.50s/it]"
     ]
    },
    {
     "name": "stdout",
     "output_type": "stream",
     "text": [
      "Encountered an exception for row: tipranavir hepatotoxicity. Error message below:\n",
      "Error code: 429 - {'error': {'message': 'Rate limit reached for gpt-3.5-turbo in organization org-wi3cHq5g1FGXIxQyl0trnye1 on requests per day (RPD): Limit 10000, Used 10000, Requested 1. Please try again in 8.64s. Visit https://platform.openai.com/account/rate-limits to learn more.', 'type': 'requests', 'param': None, 'code': 'rate_limit_exceeded'}}\n",
      "ondansetron hepatic failure\n"
     ]
    },
    {
     "name": "stderr",
     "output_type": "stream",
     "text": [
      " 83%|████████▎ | 1571/1894 [23:36<09:00,  1.67s/it]"
     ]
    },
    {
     "name": "stdout",
     "output_type": "stream",
     "text": [
      "Encountered an exception for row: ofatumumab hepatic failure. Error message below:\n",
      "Error code: 429 - {'error': {'message': 'Rate limit reached for gpt-3.5-turbo in organization org-wi3cHq5g1FGXIxQyl0trnye1 on requests per day (RPD): Limit 10000, Used 10000, Requested 1. Please try again in 8.64s. Visit https://platform.openai.com/account/rate-limits to learn more.', 'type': 'requests', 'param': None, 'code': 'rate_limit_exceeded'}}\n",
      "nizatidine hepatic enzyme increased\n"
     ]
    },
    {
     "name": "stderr",
     "output_type": "stream",
     "text": [
      " 83%|████████▎ | 1572/1894 [23:37<08:05,  1.51s/it]"
     ]
    },
    {
     "name": "stdout",
     "output_type": "stream",
     "text": [
      "Encountered an exception for row: obinutuzumab hepatic failure. Error message below:\n",
      "Error code: 429 - {'error': {'message': 'Rate limit reached for gpt-3.5-turbo in organization org-wi3cHq5g1FGXIxQyl0trnye1 on requests per day (RPD): Limit 10000, Used 10000, Requested 1. Please try again in 8.64s. Visit https://platform.openai.com/account/rate-limits to learn more.', 'type': 'requests', 'param': None, 'code': 'rate_limit_exceeded'}}\n",
      "azithromycin hepatic necrosis\n",
      "oxaprozin acute kidney injury\n",
      "Encountered an exception for row: meloxicam haematemesis. Error message below:\n",
      "Error code: 429 - {'error': {'message': 'Rate limit reached for gpt-3.5-turbo in organization org-wi3cHq5g1FGXIxQyl0trnye1 on requests per day (RPD): Limit 10000, Used 10000, Requested 1. Please try again in 8.64s. Visit https://platform.openai.com/account/rate-limits to learn more.', 'type': 'requests', 'param': None, 'code': 'rate_limit_exceeded'}}\n",
      "lisinopril hepatic failure\n",
      "Encountered an exception for row: amlodipine myocardial infarction. Error message below:\n",
      "Error code: 429 - {'error': {'message': 'Rate limit reached for gpt-3.5-turbo in organization org-wi3cHq5g1FGXIxQyl0trnye1 on requests per day (RPD): Limit 10000, Used 10000, Requested 1. Please try again in 8.64s. Visit https://platform.openai.com/account/rate-limits to learn more.', 'type': 'requests', 'param': None, 'code': 'rate_limit_exceeded'}}\n",
      "lisinopril myocardial infarction\n",
      "Encountered an exception for row: tinzaparin haematemesis. Error message below:\n",
      "Error code: 429 - {'error': {'message': 'Rate limit reached for gpt-3.5-turbo in organization org-wi3cHq5g1FGXIxQyl0trnye1 on requests per day (RPD): Limit 10000, Used 10000, Requested 1. Please try again in 8.64s. Visit https://platform.openai.com/account/rate-limits to learn more.', 'type': 'requests', 'param': None, 'code': 'rate_limit_exceeded'}}\n",
      "lisinopril acute kidney injury\n",
      "Encountered an exception for row: clotrimazole liver function test abnormal. Error message below:\n",
      "Error code: 429 - {'error': {'message': 'Rate limit reached for gpt-3.5-turbo in organization org-wi3cHq5g1FGXIxQyl0trnye1 on requests per day (RPD): Limit 10000, Used 10000, Requested 1. Please try again in 8.64s. Visit https://platform.openai.com/account/rate-limits to learn more.', 'type': 'requests', 'param': None, 'code': 'rate_limit_exceeded'}}\n",
      "pantoprazole liver function test abnormal\n",
      "Encountered an exception for row: carbamazepine liver function test abnormal. Error message below:\n",
      "Error code: 429 - {'error': {'message': 'Rate limit reached for gpt-3.5-turbo in organization org-wi3cHq5g1FGXIxQyl0trnye1 on requests per day (RPD): Limit 10000, Used 10000, Requested 1. Please try again in 8.64s. Visit https://platform.openai.com/account/rate-limits to learn more.', 'type': 'requests', 'param': None, 'code': 'rate_limit_exceeded'}}\n",
      "venlafaxine renal failure\n"
     ]
    },
    {
     "name": "stderr",
     "output_type": "stream",
     "text": [
      " 83%|████████▎ | 1573/1894 [23:42<12:22,  2.31s/it]"
     ]
    },
    {
     "name": "stdout",
     "output_type": "stream",
     "text": [
      "Encountered an exception for row: ketorolac gastrointestinal haemorrhage. Error message below:\n",
      "Error code: 429 - {'error': {'message': 'Rate limit reached for gpt-3.5-turbo in organization org-wi3cHq5g1FGXIxQyl0trnye1 on requests per day (RPD): Limit 10000, Used 10000, Requested 1. Please try again in 8.64s. Visit https://platform.openai.com/account/rate-limits to learn more.', 'type': 'requests', 'param': None, 'code': 'rate_limit_exceeded'}}\n",
      "perindopril hepatic failure\n"
     ]
    },
    {
     "name": "stderr",
     "output_type": "stream",
     "text": [
      " 83%|████████▎ | 1581/1894 [23:51<07:42,  1.48s/it]"
     ]
    },
    {
     "name": "stdout",
     "output_type": "stream",
     "text": [
      "Encountered an exception for row: ondansetron hepatic failure. Error message below:\n",
      "Error code: 429 - {'error': {'message': 'Rate limit reached for gpt-3.5-turbo in organization org-wi3cHq5g1FGXIxQyl0trnye1 on requests per day (RPD): Limit 10000, Used 10000, Requested 1. Please try again in 8.64s. Visit https://platform.openai.com/account/rate-limits to learn more.', 'type': 'requests', 'param': None, 'code': 'rate_limit_exceeded'}}\n",
      "tetracycline hepatotoxicity\n",
      "filgrastim renal failure\n"
     ]
    },
    {
     "name": "stderr",
     "output_type": "stream",
     "text": [
      " 84%|████████▎ | 1582/1894 [23:54<08:23,  1.61s/it]"
     ]
    },
    {
     "name": "stdout",
     "output_type": "stream",
     "text": [
      "Encountered an exception for row: nizatidine hepatic enzyme increased. Error message below:\n",
      "Error code: 429 - {'error': {'message': 'Rate limit reached for gpt-3.5-turbo in organization org-wi3cHq5g1FGXIxQyl0trnye1 on requests per day (RPD): Limit 10000, Used 10000, Requested 1. Please try again in 8.64s. Visit https://platform.openai.com/account/rate-limits to learn more.', 'type': 'requests', 'param': None, 'code': 'rate_limit_exceeded'}}\n",
      "tadalafil liver function test abnormal\n"
     ]
    },
    {
     "name": "stderr",
     "output_type": "stream",
     "text": [
      " 84%|████████▎ | 1583/1894 [23:54<07:41,  1.48s/it]"
     ]
    },
    {
     "name": "stdout",
     "output_type": "stream",
     "text": [
      "Encountered an exception for row: azithromycin hepatic necrosis. Error message below:\n",
      "Error code: 429 - {'error': {'message': 'Rate limit reached for gpt-3.5-turbo in organization org-wi3cHq5g1FGXIxQyl0trnye1 on requests per day (RPD): Limit 10000, Used 10000, Requested 1. Please try again in 8.64s. Visit https://platform.openai.com/account/rate-limits to learn more.', 'type': 'requests', 'param': None, 'code': 'rate_limit_exceeded'}}\n",
      "tramadol gastrointestinal haemorrhage\n"
     ]
    },
    {
     "name": "stderr",
     "output_type": "stream",
     "text": [
      " 84%|████████▎ | 1585/1894 [24:00<09:36,  1.86s/it]"
     ]
    },
    {
     "name": "stdout",
     "output_type": "stream",
     "text": [
      "Encountered an exception for row: lisinopril acute kidney injury. Error message below:\n",
      "Error code: 429 - {'error': {'message': 'Rate limit reached for gpt-3.5-turbo in organization org-wi3cHq5g1FGXIxQyl0trnye1 on requests per day (RPD): Limit 10000, Used 10000, Requested 1. Please try again in 8.64s. Visit https://platform.openai.com/account/rate-limits to learn more.', 'type': 'requests', 'param': None, 'code': 'rate_limit_exceeded'}}\n",
      "cefadroxil renal impairment\n",
      "Encountered an exception for row: lisinopril myocardial infarction. Error message below:\n",
      "Error code: 429 - {'error': {'message': 'Rate limit reached for gpt-3.5-turbo in organization org-wi3cHq5g1FGXIxQyl0trnye1 on requests per day (RPD): Limit 10000, Used 10000, Requested 1. Please try again in 8.64s. Visit https://platform.openai.com/account/rate-limits to learn more.', 'type': 'requests', 'param': None, 'code': 'rate_limit_exceeded'}}\n",
      "fosamprenavir myocardial infarction\n",
      "Encountered an exception for row: venlafaxine renal failure. Error message below:\n",
      "Error code: 429 - {'error': {'message': 'Rate limit reached for gpt-3.5-turbo in organization org-wi3cHq5g1FGXIxQyl0trnye1 on requests per day (RPD): Limit 10000, Used 10000, Requested 1. Please try again in 8.64s. Visit https://platform.openai.com/account/rate-limits to learn more.', 'type': 'requests', 'param': None, 'code': 'rate_limit_exceeded'}}\n",
      "quinine renal failure\n",
      "Encountered an exception for row: perindopril hepatic failure. Error message below:\n",
      "Error code: 429 - {'error': {'message': 'Rate limit reached for gpt-3.5-turbo in organization org-wi3cHq5g1FGXIxQyl0trnye1 on requests per day (RPD): Limit 10000, Used 10000, Requested 1. Please try again in 8.64s. Visit https://platform.openai.com/account/rate-limits to learn more.', 'type': 'requests', 'param': None, 'code': 'rate_limit_exceeded'}}\n",
      "cyproheptadine hepatic failure\n",
      "Encountered an exception for row: pantoprazole liver function test abnormal. Error message below:\n",
      "Error code: 429 - {'error': {'message': 'Rate limit reached for gpt-3.5-turbo in organization org-wi3cHq5g1FGXIxQyl0trnye1 on requests per day (RPD): Limit 10000, Used 10000, Requested 1. Please try again in 8.64s. Visit https://platform.openai.com/account/rate-limits to learn more.', 'type': 'requests', 'param': None, 'code': 'rate_limit_exceeded'}}\n",
      "cefdinir hepatic failure\n",
      "cefdinir renal failure\n"
     ]
    },
    {
     "name": "stderr",
     "output_type": "stream",
     "text": [
      " 84%|████████▍ | 1591/1894 [24:09<08:24,  1.67s/it]"
     ]
    },
    {
     "name": "stdout",
     "output_type": "stream",
     "text": [
      "Encountered an exception for row: filgrastim renal failure. Error message below:\n",
      "Error code: 429 - {'error': {'message': 'Rate limit reached for gpt-3.5-turbo in organization org-wi3cHq5g1FGXIxQyl0trnye1 on requests per day (RPD): Limit 10000, Used 10000, Requested 1. Please try again in 8.64s. Visit https://platform.openai.com/account/rate-limits to learn more.', 'type': 'requests', 'param': None, 'code': 'rate_limit_exceeded'}}\n",
      "fenofibrate renal impairment\n",
      "pramipexole renal impairment\n"
     ]
    },
    {
     "name": "stderr",
     "output_type": "stream",
     "text": [
      " 84%|████████▍ | 1593/1894 [24:12<07:55,  1.58s/it]"
     ]
    },
    {
     "name": "stdout",
     "output_type": "stream",
     "text": [
      "Encountered an exception for row: tadalafil liver function test abnormal. Error message below:\n",
      "Error code: 429 - {'error': {'message': 'Rate limit reached for gpt-3.5-turbo in organization org-wi3cHq5g1FGXIxQyl0trnye1 on requests per day (RPD): Limit 10000, Used 10000, Requested 1. Please try again in 8.64s. Visit https://platform.openai.com/account/rate-limits to learn more.', 'type': 'requests', 'param': None, 'code': 'rate_limit_exceeded'}}\n",
      "amiodarone acute kidney injury\n"
     ]
    },
    {
     "name": "stderr",
     "output_type": "stream",
     "text": [
      " 84%|████████▍ | 1594/1894 [24:12<07:18,  1.46s/it]"
     ]
    },
    {
     "name": "stdout",
     "output_type": "stream",
     "text": [
      "Encountered an exception for row: tramadol gastrointestinal haemorrhage. Error message below:\n",
      "Error code: 429 - {'error': {'message': 'Rate limit reached for gpt-3.5-turbo in organization org-wi3cHq5g1FGXIxQyl0trnye1 on requests per day (RPD): Limit 10000, Used 10000, Requested 1. Please try again in 8.64s. Visit https://platform.openai.com/account/rate-limits to learn more.', 'type': 'requests', 'param': None, 'code': 'rate_limit_exceeded'}}\n",
      "etodolac myocardial infarction\n"
     ]
    },
    {
     "name": "stderr",
     "output_type": "stream",
     "text": [
      " 84%|████████▍ | 1596/1894 [24:18<08:39,  1.74s/it]"
     ]
    },
    {
     "name": "stdout",
     "output_type": "stream",
     "text": [
      "Encountered an exception for row: cyproheptadine hepatic failure. Error message below:\n",
      "Error code: 429 - {'error': {'message': 'Rate limit reached for gpt-3.5-turbo in organization org-wi3cHq5g1FGXIxQyl0trnye1 on requests per day (RPD): Limit 10000, Used 10000, Requested 1. Please try again in 8.64s. Visit https://platform.openai.com/account/rate-limits to learn more.', 'type': 'requests', 'param': None, 'code': 'rate_limit_exceeded'}}\n",
      "ibuprofen hepatic necrosis\n",
      "Encountered an exception for row: cefdinir renal failure. Error message below:\n",
      "Error code: 429 - {'error': {'message': 'Rate limit reached for gpt-3.5-turbo in organization org-wi3cHq5g1FGXIxQyl0trnye1 on requests per day (RPD): Limit 10000, Used 10000, Requested 1. Please try again in 8.64s. Visit https://platform.openai.com/account/rate-limits to learn more.', 'type': 'requests', 'param': None, 'code': 'rate_limit_exceeded'}}\n",
      "dicloxacillin liver function test abnormal\n",
      "Encountered an exception for row: cefadroxil renal impairment. Error message below:\n",
      "Error code: 429 - {'error': {'message': 'Rate limit reached for gpt-3.5-turbo in organization org-wi3cHq5g1FGXIxQyl0trnye1 on requests per day (RPD): Limit 10000, Used 10000, Requested 1. Please try again in 8.64s. Visit https://platform.openai.com/account/rate-limits to learn more.', 'type': 'requests', 'param': None, 'code': 'rate_limit_exceeded'}}\n",
      "methylphenidate hepatic enzyme increased\n",
      "Encountered an exception for row: quinine renal failure. Error message below:\n",
      "Error code: 429 - {'error': {'message': 'Rate limit reached for gpt-3.5-turbo in organization org-wi3cHq5g1FGXIxQyl0trnye1 on requests per day (RPD): Limit 10000, Used 10000, Requested 1. Please try again in 8.64s. Visit https://platform.openai.com/account/rate-limits to learn more.', 'type': 'requests', 'param': None, 'code': 'rate_limit_exceeded'}}\n",
      "triamcinolone myocardial infarction\n",
      "Encountered an exception for row: cefdinir hepatic failure. Error message below:\n",
      "Error code: 429 - {'error': {'message': 'Rate limit reached for gpt-3.5-turbo in organization org-wi3cHq5g1FGXIxQyl0trnye1 on requests per day (RPD): Limit 10000, Used 10000, Requested 1. Please try again in 8.64s. Visit https://platform.openai.com/account/rate-limits to learn more.', 'type': 'requests', 'param': None, 'code': 'rate_limit_exceeded'}}\n",
      "medroxyprogesterone myocardial infarction\n",
      "methazolamide hepatic failure\n"
     ]
    },
    {
     "name": "stderr",
     "output_type": "stream",
     "text": [
      " 85%|████████▍ | 1601/1894 [24:27<08:41,  1.78s/it]"
     ]
    },
    {
     "name": "stdout",
     "output_type": "stream",
     "text": [
      "Encountered an exception for row: pramipexole renal impairment. Error message below:\n",
      "Error code: 429 - {'error': {'message': 'Rate limit reached for gpt-3.5-turbo in organization org-wi3cHq5g1FGXIxQyl0trnye1 on requests per day (RPD): Limit 10000, Used 10000, Requested 1. Please try again in 8.64s. Visit https://platform.openai.com/account/rate-limits to learn more.', 'type': 'requests', 'param': None, 'code': 'rate_limit_exceeded'}}\n",
      "methylprednisolone myocardial infarction\n",
      "moxifloxacin hepatic necrosis\n"
     ]
    },
    {
     "name": "stderr",
     "output_type": "stream",
     "text": [
      " 85%|████████▍ | 1603/1894 [24:29<07:58,  1.64s/it]"
     ]
    },
    {
     "name": "stdout",
     "output_type": "stream",
     "text": [
      "Encountered an exception for row: amiodarone acute kidney injury. Error message below:\n",
      "Error code: 429 - {'error': {'message': 'Rate limit reached for gpt-3.5-turbo in organization org-wi3cHq5g1FGXIxQyl0trnye1 on requests per day (RPD): Limit 10000, Used 10000, Requested 1. Please try again in 8.64s. Visit https://platform.openai.com/account/rate-limits to learn more.', 'type': 'requests', 'param': None, 'code': 'rate_limit_exceeded'}}\n",
      "zolmitriptan myocardial infarction\n"
     ]
    },
    {
     "name": "stderr",
     "output_type": "stream",
     "text": [
      " 85%|████████▍ | 1604/1894 [24:30<07:15,  1.50s/it]"
     ]
    },
    {
     "name": "stdout",
     "output_type": "stream",
     "text": [
      "Encountered an exception for row: etodolac myocardial infarction. Error message below:\n",
      "Error code: 429 - {'error': {'message': 'Rate limit reached for gpt-3.5-turbo in organization org-wi3cHq5g1FGXIxQyl0trnye1 on requests per day (RPD): Limit 10000, Used 10000, Requested 1. Please try again in 8.64s. Visit https://platform.openai.com/account/rate-limits to learn more.', 'type': 'requests', 'param': None, 'code': 'rate_limit_exceeded'}}\n",
      "bimatoprost liver function test abnormal\n"
     ]
    },
    {
     "name": "stderr",
     "output_type": "stream",
     "text": [
      " 85%|████████▍ | 1605/1894 [24:36<10:48,  2.24s/it]"
     ]
    },
    {
     "name": "stdout",
     "output_type": "stream",
     "text": [
      "Encountered an exception for row: dicloxacillin liver function test abnormal. Error message below:\n",
      "Error code: 429 - {'error': {'message': 'Rate limit reached for gpt-3.5-turbo in organization org-wi3cHq5g1FGXIxQyl0trnye1 on requests per day (RPD): Limit 10000, Used 10000, Requested 1. Please try again in 8.64s. Visit https://platform.openai.com/account/rate-limits to learn more.', 'type': 'requests', 'param': None, 'code': 'rate_limit_exceeded'}}\n",
      "erlotinib renal failure\n",
      "Encountered an exception for row: methylphenidate hepatic enzyme increased. Error message below:\n",
      "Error code: 429 - {'error': {'message': 'Rate limit reached for gpt-3.5-turbo in organization org-wi3cHq5g1FGXIxQyl0trnye1 on requests per day (RPD): Limit 10000, Used 10000, Requested 1. Please try again in 8.64s. Visit https://platform.openai.com/account/rate-limits to learn more.', 'type': 'requests', 'param': None, 'code': 'rate_limit_exceeded'}}\n",
      "dexlansoprazole haematemesis\n",
      "Encountered an exception for row: triamcinolone myocardial infarction. Error message below:\n",
      "Error code: 429 - {'error': {'message': 'Rate limit reached for gpt-3.5-turbo in organization org-wi3cHq5g1FGXIxQyl0trnye1 on requests per day (RPD): Limit 10000, Used 10000, Requested 1. Please try again in 8.64s. Visit https://platform.openai.com/account/rate-limits to learn more.', 'type': 'requests', 'param': None, 'code': 'rate_limit_exceeded'}}\n",
      "telmisartan acute kidney injury\n",
      "Encountered an exception for row: medroxyprogesterone myocardial infarction. Error message below:\n",
      "Error code: 429 - {'error': {'message': 'Rate limit reached for gpt-3.5-turbo in organization org-wi3cHq5g1FGXIxQyl0trnye1 on requests per day (RPD): Limit 10000, Used 10000, Requested 1. Please try again in 8.64s. Visit https://platform.openai.com/account/rate-limits to learn more.', 'type': 'requests', 'param': None, 'code': 'rate_limit_exceeded'}}\n",
      "cinacalcet gastrointestinal haemorrhage\n",
      "Encountered an exception for row: methazolamide hepatic failure. Error message below:\n",
      "Error code: 429 - {'error': {'message': 'Rate limit reached for gpt-3.5-turbo in organization org-wi3cHq5g1FGXIxQyl0trnye1 on requests per day (RPD): Limit 10000, Used 10000, Requested 1. Please try again in 8.64s. Visit https://platform.openai.com/account/rate-limits to learn more.', 'type': 'requests', 'param': None, 'code': 'rate_limit_exceeded'}}\n",
      "dasatinib gastrointestinal haemorrhage\n",
      "mercaptopurine hepatotoxicity\n"
     ]
    },
    {
     "name": "stderr",
     "output_type": "stream",
     "text": [
      " 85%|████████▌ | 1611/1894 [24:45<08:25,  1.79s/it]"
     ]
    },
    {
     "name": "stdout",
     "output_type": "stream",
     "text": [
      "clarithromycin liver function test abnormal\n",
      "Encountered an exception for row: moxifloxacin hepatic necrosis. Error message below:\n",
      "Error code: 429 - {'error': {'message': 'Rate limit reached for gpt-3.5-turbo in organization org-wi3cHq5g1FGXIxQyl0trnye1 on requests per day (RPD): Limit 10000, Used 10000, Requested 1. Please try again in 8.64s. Visit https://platform.openai.com/account/rate-limits to learn more.', 'type': 'requests', 'param': None, 'code': 'rate_limit_exceeded'}}\n",
      "sulfasalazine hepatic failure\n"
     ]
    },
    {
     "name": "stderr",
     "output_type": "stream",
     "text": [
      " 85%|████████▌ | 1613/1894 [24:47<07:50,  1.67s/it]"
     ]
    },
    {
     "name": "stdout",
     "output_type": "stream",
     "text": [
      "Encountered an exception for row: zolmitriptan myocardial infarction. Error message below:\n",
      "Error code: 429 - {'error': {'message': 'Rate limit reached for gpt-3.5-turbo in organization org-wi3cHq5g1FGXIxQyl0trnye1 on requests per day (RPD): Limit 10000, Used 10000, Requested 1. Please try again in 8.64s. Visit https://platform.openai.com/account/rate-limits to learn more.', 'type': 'requests', 'param': None, 'code': 'rate_limit_exceeded'}}\n",
      "gemcitabine hepatic failure\n"
     ]
    },
    {
     "name": "stderr",
     "output_type": "stream",
     "text": [
      " 85%|████████▌ | 1614/1894 [24:48<07:08,  1.53s/it]"
     ]
    },
    {
     "name": "stdout",
     "output_type": "stream",
     "text": [
      "Encountered an exception for row: bimatoprost liver function test abnormal. Error message below:\n",
      "Error code: 429 - {'error': {'message': 'Rate limit reached for gpt-3.5-turbo in organization org-wi3cHq5g1FGXIxQyl0trnye1 on requests per day (RPD): Limit 10000, Used 10000, Requested 1. Please try again in 8.64s. Visit https://platform.openai.com/account/rate-limits to learn more.', 'type': 'requests', 'param': None, 'code': 'rate_limit_exceeded'}}\n",
      "quinidine hepatotoxicity\n"
     ]
    },
    {
     "name": "stderr",
     "output_type": "stream",
     "text": [
      " 85%|████████▌ | 1615/1894 [24:54<10:12,  2.20s/it]"
     ]
    },
    {
     "name": "stdout",
     "output_type": "stream",
     "text": [
      "Encountered an exception for row: dexlansoprazole haematemesis. Error message below:\n",
      "Error code: 429 - {'error': {'message': 'Rate limit reached for gpt-3.5-turbo in organization org-wi3cHq5g1FGXIxQyl0trnye1 on requests per day (RPD): Limit 10000, Used 10000, Requested 1. Please try again in 8.64s. Visit https://platform.openai.com/account/rate-limits to learn more.', 'type': 'requests', 'param': None, 'code': 'rate_limit_exceeded'}}\n",
      "fluvastatin hepatic enzyme abnormal\n",
      "Encountered an exception for row: erlotinib renal failure. Error message below:\n",
      "Error code: 429 - {'error': {'message': 'Rate limit reached for gpt-3.5-turbo in organization org-wi3cHq5g1FGXIxQyl0trnye1 on requests per day (RPD): Limit 10000, Used 10000, Requested 1. Please try again in 8.64s. Visit https://platform.openai.com/account/rate-limits to learn more.', 'type': 'requests', 'param': None, 'code': 'rate_limit_exceeded'}}\n",
      "danazol myocardial infarction\n",
      "Encountered an exception for row: cinacalcet gastrointestinal haemorrhage. Error message below:\n",
      "Error code: 429 - {'error': {'message': 'Rate limit reached for gpt-3.5-turbo in organization org-wi3cHq5g1FGXIxQyl0trnye1 on requests per day (RPD): Limit 10000, Used 10000, Requested 1. Please try again in 8.64s. Visit https://platform.openai.com/account/rate-limits to learn more.', 'type': 'requests', 'param': None, 'code': 'rate_limit_exceeded'}}\n",
      "mexiletine liver function test abnormal\n",
      "Encountered an exception for row: dasatinib gastrointestinal haemorrhage. Error message below:\n",
      "Error code: 429 - {'error': {'message': 'Rate limit reached for gpt-3.5-turbo in organization org-wi3cHq5g1FGXIxQyl0trnye1 on requests per day (RPD): Limit 10000, Used 10000, Requested 1. Please try again in 8.64s. Visit https://platform.openai.com/account/rate-limits to learn more.', 'type': 'requests', 'param': None, 'code': 'rate_limit_exceeded'}}\n",
      "fluphenazine acute kidney injury\n",
      "Encountered an exception for row: mercaptopurine hepatotoxicity. Error message below:\n",
      "Error code: 429 - {'error': {'message': 'Rate limit reached for gpt-3.5-turbo in organization org-wi3cHq5g1FGXIxQyl0trnye1 on requests per day (RPD): Limit 10000, Used 10000, Requested 1. Please try again in 8.64s. Visit https://platform.openai.com/account/rate-limits to learn more.', 'type': 'requests', 'param': None, 'code': 'rate_limit_exceeded'}}\n",
      "fenoprofen renal failure\n"
     ]
    },
    {
     "name": "stderr",
     "output_type": "stream",
     "text": [
      " 85%|████████▌ | 1617/1894 [24:54<07:05,  1.54s/it]"
     ]
    },
    {
     "name": "stdout",
     "output_type": "stream",
     "text": [
      "cefepime renal impairment\n"
     ]
    },
    {
     "name": "stderr",
     "output_type": "stream",
     "text": [
      " 86%|████████▌ | 1621/1894 [25:03<08:26,  1.86s/it]"
     ]
    },
    {
     "name": "stdout",
     "output_type": "stream",
     "text": [
      "Encountered an exception for row: sulfasalazine hepatic failure. Error message below:\n",
      "Error code: 429 - {'error': {'message': 'Rate limit reached for gpt-3.5-turbo in organization org-wi3cHq5g1FGXIxQyl0trnye1 on requests per day (RPD): Limit 10000, Used 10000, Requested 1. Please try again in 8.64s. Visit https://platform.openai.com/account/rate-limits to learn more.', 'type': 'requests', 'param': None, 'code': 'rate_limit_exceeded'}}\n",
      "paclitaxel renal failure\n",
      "Encountered an exception for row: clarithromycin liver function test abnormal. Error message below:\n",
      "Error code: 429 - {'error': {'message': 'Rate limit reached for gpt-3.5-turbo in organization org-wi3cHq5g1FGXIxQyl0trnye1 on requests per day (RPD): Limit 10000, Used 10000, Requested 1. Please try again in 8.64s. Visit https://platform.openai.com/account/rate-limits to learn more.', 'type': 'requests', 'param': None, 'code': 'rate_limit_exceeded'}}\n",
      "heparin renal failure\n",
      "valganciclovir acute kidney injury\n"
     ]
    },
    {
     "name": "stderr",
     "output_type": "stream",
     "text": [
      " 86%|████████▌ | 1623/1894 [25:05<07:39,  1.70s/it]"
     ]
    },
    {
     "name": "stdout",
     "output_type": "stream",
     "text": [
      "Encountered an exception for row: gemcitabine hepatic failure. Error message below:\n",
      "Error code: 429 - {'error': {'message': 'Rate limit reached for gpt-3.5-turbo in organization org-wi3cHq5g1FGXIxQyl0trnye1 on requests per day (RPD): Limit 10000, Used 10000, Requested 1. Please try again in 8.64s. Visit https://platform.openai.com/account/rate-limits to learn more.', 'type': 'requests', 'param': None, 'code': 'rate_limit_exceeded'}}\n",
      "toremifene liver function test abnormal\n"
     ]
    },
    {
     "name": "stderr",
     "output_type": "stream",
     "text": [
      " 86%|████████▌ | 1624/1894 [25:06<06:57,  1.55s/it]"
     ]
    },
    {
     "name": "stdout",
     "output_type": "stream",
     "text": [
      "Encountered an exception for row: quinidine hepatotoxicity. Error message below:\n",
      "Error code: 429 - {'error': {'message': 'Rate limit reached for gpt-3.5-turbo in organization org-wi3cHq5g1FGXIxQyl0trnye1 on requests per day (RPD): Limit 10000, Used 10000, Requested 1. Please try again in 8.64s. Visit https://platform.openai.com/account/rate-limits to learn more.', 'type': 'requests', 'param': None, 'code': 'rate_limit_exceeded'}}\n",
      "ritonavir renal failure\n"
     ]
    },
    {
     "name": "stderr",
     "output_type": "stream",
     "text": [
      " 86%|████████▌ | 1627/1894 [25:12<06:55,  1.56s/it]"
     ]
    },
    {
     "name": "stdout",
     "output_type": "stream",
     "text": [
      "imatinib hepatic failure\n",
      "Encountered an exception for row: fenoprofen renal failure. Error message below:\n",
      "Error code: 429 - {'error': {'message': 'Rate limit reached for gpt-3.5-turbo in organization org-wi3cHq5g1FGXIxQyl0trnye1 on requests per day (RPD): Limit 10000, Used 10000, Requested 1. Please try again in 8.64s. Visit https://platform.openai.com/account/rate-limits to learn more.', 'type': 'requests', 'param': None, 'code': 'rate_limit_exceeded'}}\n",
      "acetazolamide renal failure\n",
      "Encountered an exception for row: mexiletine liver function test abnormal. Error message below:\n",
      "Error code: 429 - {'error': {'message': 'Rate limit reached for gpt-3.5-turbo in organization org-wi3cHq5g1FGXIxQyl0trnye1 on requests per day (RPD): Limit 10000, Used 10000, Requested 1. Please try again in 8.64s. Visit https://platform.openai.com/account/rate-limits to learn more.', 'type': 'requests', 'param': None, 'code': 'rate_limit_exceeded'}}\n",
      "aldesleukin liver function test abnormal\n",
      "Encountered an exception for row: cefepime renal impairment. Error message below:\n",
      "Error code: 429 - {'error': {'message': 'Rate limit reached for gpt-3.5-turbo in organization org-wi3cHq5g1FGXIxQyl0trnye1 on requests per day (RPD): Limit 10000, Used 10000, Requested 1. Please try again in 8.64s. Visit https://platform.openai.com/account/rate-limits to learn more.', 'type': 'requests', 'param': None, 'code': 'rate_limit_exceeded'}}\n",
      "bexarotene renal impairment\n",
      "Encountered an exception for row: fluphenazine acute kidney injury. Error message below:\n",
      "Error code: 429 - {'error': {'message': 'Rate limit reached for gpt-3.5-turbo in organization org-wi3cHq5g1FGXIxQyl0trnye1 on requests per day (RPD): Limit 10000, Used 10000, Requested 1. Please try again in 8.64s. Visit https://platform.openai.com/account/rate-limits to learn more.', 'type': 'requests', 'param': None, 'code': 'rate_limit_exceeded'}}\n",
      "nilutamide gastrointestinal haemorrhage\n"
     ]
    },
    {
     "name": "stderr",
     "output_type": "stream",
     "text": [
      " 86%|████████▌ | 1632/1894 [25:21<07:02,  1.61s/it]"
     ]
    },
    {
     "name": "stdout",
     "output_type": "stream",
     "text": [
      "Encountered an exception for row: paclitaxel renal failure. Error message below:\n",
      "Error code: 429 - {'error': {'message': 'Rate limit reached for gpt-3.5-turbo in organization org-wi3cHq5g1FGXIxQyl0trnye1 on requests per day (RPD): Limit 10000, Used 10000, Requested 1. Please try again in 8.64s. Visit https://platform.openai.com/account/rate-limits to learn more.', 'type': 'requests', 'param': None, 'code': 'rate_limit_exceeded'}}\n",
      "dactinomycin renal failure\n",
      "fulvestrant acute kidney injury\n"
     ]
    },
    {
     "name": "stderr",
     "output_type": "stream",
     "text": [
      " 86%|████████▌ | 1633/1894 [25:21<05:51,  1.35s/it]"
     ]
    },
    {
     "name": "stdout",
     "output_type": "stream",
     "text": [
      "Encountered an exception for row: valganciclovir acute kidney injury. Error message below:\n",
      "Error code: 429 - {'error': {'message': 'Rate limit reached for gpt-3.5-turbo in organization org-wi3cHq5g1FGXIxQyl0trnye1 on requests per day (RPD): Limit 10000, Used 10000, Requested 1. Please try again in 8.64s. Visit https://platform.openai.com/account/rate-limits to learn more.', 'type': 'requests', 'param': None, 'code': 'rate_limit_exceeded'}}\n",
      "buprenorphine hepatotoxicity\n"
     ]
    },
    {
     "name": "stderr",
     "output_type": "stream",
     "text": [
      " 86%|████████▋ | 1634/1894 [25:23<06:33,  1.51s/it]"
     ]
    },
    {
     "name": "stdout",
     "output_type": "stream",
     "text": [
      "Encountered an exception for row: toremifene liver function test abnormal. Error message below:\n",
      "Error code: 429 - {'error': {'message': 'Rate limit reached for gpt-3.5-turbo in organization org-wi3cHq5g1FGXIxQyl0trnye1 on requests per day (RPD): Limit 10000, Used 10000, Requested 1. Please try again in 8.64s. Visit https://platform.openai.com/account/rate-limits to learn more.', 'type': 'requests', 'param': None, 'code': 'rate_limit_exceeded'}}\n",
      "cisplatin myocardial infarction\n"
     ]
    },
    {
     "name": "stderr",
     "output_type": "stream",
     "text": [
      " 86%|████████▋ | 1635/1894 [25:24<05:47,  1.34s/it]"
     ]
    },
    {
     "name": "stdout",
     "output_type": "stream",
     "text": [
      "Encountered an exception for row: ritonavir renal failure. Error message below:\n",
      "Error code: 429 - {'error': {'message': 'Rate limit reached for gpt-3.5-turbo in organization org-wi3cHq5g1FGXIxQyl0trnye1 on requests per day (RPD): Limit 10000, Used 10000, Requested 1. Please try again in 8.64s. Visit https://platform.openai.com/account/rate-limits to learn more.', 'type': 'requests', 'param': None, 'code': 'rate_limit_exceeded'}}\n",
      "tranylcypromine hepatotoxicity\n"
     ]
    },
    {
     "name": "stderr",
     "output_type": "stream",
     "text": [
      " 86%|████████▋ | 1636/1894 [25:30<10:39,  2.48s/it]"
     ]
    },
    {
     "name": "stdout",
     "output_type": "stream",
     "text": [
      "Encountered an exception for row: aldesleukin liver function test abnormal. Error message below:\n",
      "Error code: 429 - {'error': {'message': 'Rate limit reached for gpt-3.5-turbo in organization org-wi3cHq5g1FGXIxQyl0trnye1 on requests per day (RPD): Limit 10000, Used 10000, Requested 1. Please try again in 8.64s. Visit https://platform.openai.com/account/rate-limits to learn more.', 'type': 'requests', 'param': None, 'code': 'rate_limit_exceeded'}}\n",
      "sunitinib hepatotoxicity\n",
      "Encountered an exception for row: bexarotene renal impairment. Error message below:\n",
      "Error code: 429 - {'error': {'message': 'Rate limit reached for gpt-3.5-turbo in organization org-wi3cHq5g1FGXIxQyl0trnye1 on requests per day (RPD): Limit 10000, Used 10000, Requested 1. Please try again in 8.64s. Visit https://platform.openai.com/account/rate-limits to learn more.', 'type': 'requests', 'param': None, 'code': 'rate_limit_exceeded'}}\n",
      "caspofungin hepatotoxicity\n",
      "Encountered an exception for row: nilutamide gastrointestinal haemorrhage. Error message below:\n",
      "Error code: 429 - {'error': {'message': 'Rate limit reached for gpt-3.5-turbo in organization org-wi3cHq5g1FGXIxQyl0trnye1 on requests per day (RPD): Limit 10000, Used 10000, Requested 1. Please try again in 8.64s. Visit https://platform.openai.com/account/rate-limits to learn more.', 'type': 'requests', 'param': None, 'code': 'rate_limit_exceeded'}}\n",
      "pentostatin renal impairment\n",
      "Encountered an exception for row: acetazolamide renal failure. Error message below:\n",
      "Error code: 429 - {'error': {'message': 'Rate limit reached for gpt-3.5-turbo in organization org-wi3cHq5g1FGXIxQyl0trnye1 on requests per day (RPD): Limit 10000, Used 10000, Requested 1. Please try again in 8.64s. Visit https://platform.openai.com/account/rate-limits to learn more.', 'type': 'requests', 'param': None, 'code': 'rate_limit_exceeded'}}\n",
      "metronidazole acute hepatic failure\n",
      "mycophenolate mofetil haematemesis\n"
     ]
    },
    {
     "name": "stderr",
     "output_type": "stream",
     "text": [
      " 87%|████████▋ | 1641/1894 [25:38<08:29,  2.01s/it]"
     ]
    },
    {
     "name": "stdout",
     "output_type": "stream",
     "text": [
      "Encountered an exception for row: dactinomycin renal failure. Error message below:\n",
      "Error code: 429 - {'error': {'message': 'Rate limit reached for gpt-3.5-turbo in organization org-wi3cHq5g1FGXIxQyl0trnye1 on requests per day (RPD): Limit 10000, Used 10000, Requested 1. Please try again in 8.64s. Visit https://platform.openai.com/account/rate-limits to learn more.', 'type': 'requests', 'param': None, 'code': 'rate_limit_exceeded'}}\n",
      "neratinib renal failure\n",
      "Encountered an exception for row: buprenorphine hepatotoxicity. Error message below:\n",
      "Error code: 429 - {'error': {'message': 'Rate limit reached for gpt-3.5-turbo in organization org-wi3cHq5g1FGXIxQyl0trnye1 on requests per day (RPD): Limit 10000, Used 10000, Requested 1. Please try again in 8.64s. Visit https://platform.openai.com/account/rate-limits to learn more.', 'type': 'requests', 'param': None, 'code': 'rate_limit_exceeded'}}\n",
      "sorafenib hepatic failure\n"
     ]
    },
    {
     "name": "stderr",
     "output_type": "stream",
     "text": [
      " 87%|████████▋ | 1642/1894 [25:39<07:18,  1.74s/it]"
     ]
    },
    {
     "name": "stdout",
     "output_type": "stream",
     "text": [
      "lenalidomide gastrointestinal haemorrhage\n"
     ]
    },
    {
     "name": "stderr",
     "output_type": "stream",
     "text": [
      " 87%|████████▋ | 1644/1894 [25:41<06:22,  1.53s/it]"
     ]
    },
    {
     "name": "stdout",
     "output_type": "stream",
     "text": [
      "Encountered an exception for row: cisplatin myocardial infarction. Error message below:\n",
      "Error code: 429 - {'error': {'message': 'Rate limit reached for gpt-3.5-turbo in organization org-wi3cHq5g1FGXIxQyl0trnye1 on requests per day (RPD): Limit 10000, Used 10000, Requested 1. Please try again in 8.64s. Visit https://platform.openai.com/account/rate-limits to learn more.', 'type': 'requests', 'param': None, 'code': 'rate_limit_exceeded'}}\n",
      "lenalidomide renal failure\n"
     ]
    },
    {
     "name": "stderr",
     "output_type": "stream",
     "text": [
      " 87%|████████▋ | 1645/1894 [25:42<05:45,  1.39s/it]"
     ]
    },
    {
     "name": "stdout",
     "output_type": "stream",
     "text": [
      "Encountered an exception for row: tranylcypromine hepatotoxicity. Error message below:\n",
      "Error code: 429 - {'error': {'message': 'Rate limit reached for gpt-3.5-turbo in organization org-wi3cHq5g1FGXIxQyl0trnye1 on requests per day (RPD): Limit 10000, Used 10000, Requested 1. Please try again in 8.64s. Visit https://platform.openai.com/account/rate-limits to learn more.', 'type': 'requests', 'param': None, 'code': 'rate_limit_exceeded'}}\n",
      "dalbavancin gastrointestinal haemorrhage\n",
      "obeticholic acid hepatic failure\n"
     ]
    },
    {
     "name": "stderr",
     "output_type": "stream",
     "text": [
      " 87%|████████▋ | 1646/1894 [25:48<09:36,  2.32s/it]"
     ]
    },
    {
     "name": "stdout",
     "output_type": "stream",
     "text": [
      "Encountered an exception for row: metronidazole acute hepatic failure. Error message below:\n",
      "Error code: 429 - {'error': {'message': 'Rate limit reached for gpt-3.5-turbo in organization org-wi3cHq5g1FGXIxQyl0trnye1 on requests per day (RPD): Limit 10000, Used 10000, Requested 1. Please try again in 8.64s. Visit https://platform.openai.com/account/rate-limits to learn more.', 'type': 'requests', 'param': None, 'code': 'rate_limit_exceeded'}}\n",
      "carfilzomib myocardial infarction\n",
      "Encountered an exception for row: sunitinib hepatotoxicity. Error message below:\n",
      "Error code: 429 - {'error': {'message': 'Rate limit reached for gpt-3.5-turbo in organization org-wi3cHq5g1FGXIxQyl0trnye1 on requests per day (RPD): Limit 10000, Used 10000, Requested 1. Please try again in 8.64s. Visit https://platform.openai.com/account/rate-limits to learn more.', 'type': 'requests', 'param': None, 'code': 'rate_limit_exceeded'}}\n",
      "eribulin hepatotoxicity\n",
      "Encountered an exception for row: caspofungin hepatotoxicity. Error message below:\n",
      "Error code: 429 - {'error': {'message': 'Rate limit reached for gpt-3.5-turbo in organization org-wi3cHq5g1FGXIxQyl0trnye1 on requests per day (RPD): Limit 10000, Used 10000, Requested 1. Please try again in 8.64s. Visit https://platform.openai.com/account/rate-limits to learn more.', 'type': 'requests', 'param': None, 'code': 'rate_limit_exceeded'}}\n",
      "chlorambucil hepatotoxicity\n",
      "Encountered an exception for row: pentostatin renal impairment. Error message below:\n",
      "Error code: 429 - {'error': {'message': 'Rate limit reached for gpt-3.5-turbo in organization org-wi3cHq5g1FGXIxQyl0trnye1 on requests per day (RPD): Limit 10000, Used 10000, Requested 1. Please try again in 8.64s. Visit https://platform.openai.com/account/rate-limits to learn more.', 'type': 'requests', 'param': None, 'code': 'rate_limit_exceeded'}}\n",
      "fexinidazole acute hepatic failure\n",
      "Encountered an exception for row: mycophenolate mofetil haematemesis. Error message below:\n",
      "Error code: 429 - {'error': {'message': 'Rate limit reached for gpt-3.5-turbo in organization org-wi3cHq5g1FGXIxQyl0trnye1 on requests per day (RPD): Limit 10000, Used 10000, Requested 1. Please try again in 8.64s. Visit https://platform.openai.com/account/rate-limits to learn more.', 'type': 'requests', 'param': None, 'code': 'rate_limit_exceeded'}}\n",
      "propofol renal failure\n",
      "elotuzumab hepatotoxicity\n"
     ]
    },
    {
     "name": "stderr",
     "output_type": "stream",
     "text": [
      " 87%|████████▋ | 1651/1894 [25:56<08:03,  1.99s/it]"
     ]
    },
    {
     "name": "stdout",
     "output_type": "stream",
     "text": [
      "Encountered an exception for row: neratinib renal failure. Error message below:\n",
      "Error code: 429 - {'error': {'message': 'Rate limit reached for gpt-3.5-turbo in organization org-wi3cHq5g1FGXIxQyl0trnye1 on requests per day (RPD): Limit 10000, Used 10000, Requested 1. Please try again in 8.64s. Visit https://platform.openai.com/account/rate-limits to learn more.', 'type': 'requests', 'param': None, 'code': 'rate_limit_exceeded'}}\n",
      "benznidazole acute hepatic failure\n",
      "Encountered an exception for row: sorafenib hepatic failure. Error message below:\n",
      "Error code: 429 - {'error': {'message': 'Rate limit reached for gpt-3.5-turbo in organization org-wi3cHq5g1FGXIxQyl0trnye1 on requests per day (RPD): Limit 10000, Used 10000, Requested 1. Please try again in 8.64s. Visit https://platform.openai.com/account/rate-limits to learn more.', 'type': 'requests', 'param': None, 'code': 'rate_limit_exceeded'}}\n",
      "sparsentan acute kidney injury\n"
     ]
    },
    {
     "name": "stderr",
     "output_type": "stream",
     "text": [
      " 87%|████████▋ | 1653/1894 [25:57<06:09,  1.53s/it]"
     ]
    },
    {
     "name": "stdout",
     "output_type": "stream",
     "text": [
      "Encountered an exception for row: lenalidomide gastrointestinal haemorrhage. Error message below:\n",
      "Error code: 429 - {'error': {'message': 'Rate limit reached for gpt-3.5-turbo in organization org-wi3cHq5g1FGXIxQyl0trnye1 on requests per day (RPD): Limit 10000, Used 10000, Requested 1. Please try again in 8.64s. Visit https://platform.openai.com/account/rate-limits to learn more.', 'type': 'requests', 'param': None, 'code': 'rate_limit_exceeded'}}\n",
      "olutasidenib hepatic enzyme increased\n"
     ]
    },
    {
     "name": "stderr",
     "output_type": "stream",
     "text": [
      " 87%|████████▋ | 1654/1894 [25:59<06:25,  1.61s/it]"
     ]
    },
    {
     "name": "stdout",
     "output_type": "stream",
     "text": [
      "Encountered an exception for row: lenalidomide renal failure. Error message below:\n",
      "Error code: 429 - {'error': {'message': 'Rate limit reached for gpt-3.5-turbo in organization org-wi3cHq5g1FGXIxQyl0trnye1 on requests per day (RPD): Limit 10000, Used 10000, Requested 1. Please try again in 8.64s. Visit https://platform.openai.com/account/rate-limits to learn more.', 'type': 'requests', 'param': None, 'code': 'rate_limit_exceeded'}}\n",
      "apalutamide myocardial infarction\n",
      "niraparib renal failure\n"
     ]
    },
    {
     "name": "stderr",
     "output_type": "stream",
     "text": [
      " 87%|████████▋ | 1657/1894 [26:05<07:21,  1.86s/it]"
     ]
    },
    {
     "name": "stdout",
     "output_type": "stream",
     "text": [
      "Encountered an exception for row: carfilzomib myocardial infarction. Error message below:\n",
      "Error code: 429 - {'error': {'message': 'Rate limit reached for gpt-3.5-turbo in organization org-wi3cHq5g1FGXIxQyl0trnye1 on requests per day (RPD): Limit 10000, Used 10000, Requested 1. Please try again in 8.64s. Visit https://platform.openai.com/account/rate-limits to learn more.', 'type': 'requests', 'param': None, 'code': 'rate_limit_exceeded'}}\n",
      "etranacogene dezaparvovec hepatotoxicity\n",
      "Encountered an exception for row: eribulin hepatotoxicity. Error message below:\n",
      "Error code: 429 - {'error': {'message': 'Rate limit reached for gpt-3.5-turbo in organization org-wi3cHq5g1FGXIxQyl0trnye1 on requests per day (RPD): Limit 10000, Used 10000, Requested 1. Please try again in 8.64s. Visit https://platform.openai.com/account/rate-limits to learn more.', 'type': 'requests', 'param': None, 'code': 'rate_limit_exceeded'}}\n",
      "darbepoetin alfa myocardial infarction\n",
      "Encountered an exception for row: chlorambucil hepatotoxicity. Error message below:\n",
      "Error code: 429 - {'error': {'message': 'Rate limit reached for gpt-3.5-turbo in organization org-wi3cHq5g1FGXIxQyl0trnye1 on requests per day (RPD): Limit 10000, Used 10000, Requested 1. Please try again in 8.64s. Visit https://platform.openai.com/account/rate-limits to learn more.', 'type': 'requests', 'param': None, 'code': 'rate_limit_exceeded'}}\n",
      "blinatumomab acute kidney injury\n",
      "Encountered an exception for row: propofol renal failure. Error message below:\n",
      "Error code: 429 - {'error': {'message': 'Rate limit reached for gpt-3.5-turbo in organization org-wi3cHq5g1FGXIxQyl0trnye1 on requests per day (RPD): Limit 10000, Used 10000, Requested 1. Please try again in 8.64s. Visit https://platform.openai.com/account/rate-limits to learn more.', 'type': 'requests', 'param': None, 'code': 'rate_limit_exceeded'}}\n",
      "oxycodone renal failure\n"
     ]
    },
    {
     "name": "stderr",
     "output_type": "stream",
     "text": [
      " 88%|████████▊ | 1660/1894 [26:06<04:44,  1.22s/it]"
     ]
    },
    {
     "name": "stdout",
     "output_type": "stream",
     "text": [
      "Encountered an exception for row: fexinidazole acute hepatic failure. Error message below:\n",
      "Error code: 429 - {'error': {'message': 'Rate limit reached for gpt-3.5-turbo in organization org-wi3cHq5g1FGXIxQyl0trnye1 on requests per day (RPD): Limit 10000, Used 10000, Requested 1. Please try again in 8.64s. Visit https://platform.openai.com/account/rate-limits to learn more.', 'type': 'requests', 'param': None, 'code': 'rate_limit_exceeded'}}\n",
      "alpelisib acute kidney injury\n",
      "colchicine renal impairment\n"
     ]
    },
    {
     "name": "stderr",
     "output_type": "stream",
     "text": [
      " 88%|████████▊ | 1662/1894 [26:09<05:14,  1.36s/it]"
     ]
    },
    {
     "name": "stdout",
     "output_type": "stream",
     "text": [
      "Encountered an exception for row: elotuzumab hepatotoxicity. Error message below:\n",
      "Error code: 429 - {'error': {'message': 'Rate limit reached for gpt-3.5-turbo in organization org-wi3cHq5g1FGXIxQyl0trnye1 on requests per day (RPD): Limit 10000, Used 10000, Requested 1. Please try again in 8.64s. Visit https://platform.openai.com/account/rate-limits to learn more.', 'type': 'requests', 'param': None, 'code': 'rate_limit_exceeded'}}\n",
      "sargramostim gastrointestinal haemorrhage\n"
     ]
    },
    {
     "name": "stderr",
     "output_type": "stream",
     "text": [
      " 88%|████████▊ | 1663/1894 [26:14<07:19,  1.90s/it]"
     ]
    },
    {
     "name": "stdout",
     "output_type": "stream",
     "text": [
      "Encountered an exception for row: benznidazole acute hepatic failure. Error message below:\n",
      "Error code: 429 - {'error': {'message': 'Rate limit reached for gpt-3.5-turbo in organization org-wi3cHq5g1FGXIxQyl0trnye1 on requests per day (RPD): Limit 10000, Used 10000, Requested 1. Please try again in 8.64s. Visit https://platform.openai.com/account/rate-limits to learn more.', 'type': 'requests', 'param': None, 'code': 'rate_limit_exceeded'}}\n",
      "emapalumab acute kidney injury\n",
      "Encountered an exception for row: sparsentan acute kidney injury. Error message below:\n",
      "Error code: 429 - {'error': {'message': 'Rate limit reached for gpt-3.5-turbo in organization org-wi3cHq5g1FGXIxQyl0trnye1 on requests per day (RPD): Limit 10000, Used 10000, Requested 1. Please try again in 8.64s. Visit https://platform.openai.com/account/rate-limits to learn more.', 'type': 'requests', 'param': None, 'code': 'rate_limit_exceeded'}}\n",
      "indomethacin myocardial infarction\n"
     ]
    },
    {
     "name": "stderr",
     "output_type": "stream",
     "text": [
      " 88%|████████▊ | 1665/1894 [26:14<05:15,  1.38s/it]"
     ]
    },
    {
     "name": "stdout",
     "output_type": "stream",
     "text": [
      "Encountered an exception for row: olutasidenib hepatic enzyme increased. Error message below:\n",
      "Error code: 429 - {'error': {'message': 'Rate limit reached for gpt-3.5-turbo in organization org-wi3cHq5g1FGXIxQyl0trnye1 on requests per day (RPD): Limit 10000, Used 10000, Requested 1. Please try again in 8.64s. Visit https://platform.openai.com/account/rate-limits to learn more.', 'type': 'requests', 'param': None, 'code': 'rate_limit_exceeded'}}\n",
      "progesterone myocardial infarction\n",
      "theophylline haematemesis\n"
     ]
    },
    {
     "name": "stderr",
     "output_type": "stream",
     "text": [
      " 88%|████████▊ | 1668/1894 [26:23<07:29,  1.99s/it]"
     ]
    },
    {
     "name": "stdout",
     "output_type": "stream",
     "text": [
      "Encountered an exception for row: etranacogene dezaparvovec hepatotoxicity. Error message below:\n",
      "Error code: 429 - {'error': {'message': 'Rate limit reached for gpt-3.5-turbo in organization org-wi3cHq5g1FGXIxQyl0trnye1 on requests per day (RPD): Limit 10000, Used 10000, Requested 1. Please try again in 8.64s. Visit https://platform.openai.com/account/rate-limits to learn more.', 'type': 'requests', 'param': None, 'code': 'rate_limit_exceeded'}}\n",
      "flurbiprofen gastrointestinal haemorrhage\n",
      "Encountered an exception for row: darbepoetin alfa myocardial infarction. Error message below:\n",
      "Error code: 429 - {'error': {'message': 'Rate limit reached for gpt-3.5-turbo in organization org-wi3cHq5g1FGXIxQyl0trnye1 on requests per day (RPD): Limit 10000, Used 10000, Requested 1. Please try again in 8.64s. Visit https://platform.openai.com/account/rate-limits to learn more.', 'type': 'requests', 'param': None, 'code': 'rate_limit_exceeded'}}\n",
      "carbamazepine myocardial infarction\n",
      "Encountered an exception for row: oxycodone renal failure. Error message below:\n",
      "Error code: 429 - {'error': {'message': 'Rate limit reached for gpt-3.5-turbo in organization org-wi3cHq5g1FGXIxQyl0trnye1 on requests per day (RPD): Limit 10000, Used 10000, Requested 1. Please try again in 8.64s. Visit https://platform.openai.com/account/rate-limits to learn more.', 'type': 'requests', 'param': None, 'code': 'rate_limit_exceeded'}}\n",
      "enalaprilat hepatic failure\n",
      "Encountered an exception for row: blinatumomab acute kidney injury. Error message below:\n",
      "Error code: 429 - {'error': {'message': 'Rate limit reached for gpt-3.5-turbo in organization org-wi3cHq5g1FGXIxQyl0trnye1 on requests per day (RPD): Limit 10000, Used 10000, Requested 1. Please try again in 8.64s. Visit https://platform.openai.com/account/rate-limits to learn more.', 'type': 'requests', 'param': None, 'code': 'rate_limit_exceeded'}}\n",
      "bicalutamide myocardial infarction\n"
     ]
    },
    {
     "name": "stderr",
     "output_type": "stream",
     "text": [
      " 88%|████████▊ | 1672/1894 [26:24<04:19,  1.17s/it]"
     ]
    },
    {
     "name": "stdout",
     "output_type": "stream",
     "text": [
      "Encountered an exception for row: alpelisib acute kidney injury. Error message below:\n",
      "Error code: 429 - {'error': {'message': 'Rate limit reached for gpt-3.5-turbo in organization org-wi3cHq5g1FGXIxQyl0trnye1 on requests per day (RPD): Limit 10000, Used 10000, Requested 1. Please try again in 8.64s. Visit https://platform.openai.com/account/rate-limits to learn more.', 'type': 'requests', 'param': None, 'code': 'rate_limit_exceeded'}}\n",
      "omeprazole hepatic failure\n"
     ]
    },
    {
     "name": "stderr",
     "output_type": "stream",
     "text": [
      " 88%|████████▊ | 1674/1894 [26:27<04:44,  1.29s/it]"
     ]
    },
    {
     "name": "stdout",
     "output_type": "stream",
     "text": [
      "risperidone hepatic enzyme increased\n",
      "Encountered an exception for row: sargramostim gastrointestinal haemorrhage. Error message below:\n",
      "Error code: 429 - {'error': {'message': 'Rate limit reached for gpt-3.5-turbo in organization org-wi3cHq5g1FGXIxQyl0trnye1 on requests per day (RPD): Limit 10000, Used 10000, Requested 1. Please try again in 8.64s. Visit https://platform.openai.com/account/rate-limits to learn more.', 'type': 'requests', 'param': None, 'code': 'rate_limit_exceeded'}}\n",
      "potassium chloride gastrointestinal haemorrhage\n"
     ]
    },
    {
     "name": "stderr",
     "output_type": "stream",
     "text": [
      " 88%|████████▊ | 1675/1894 [26:32<06:40,  1.83s/it]"
     ]
    },
    {
     "name": "stdout",
     "output_type": "stream",
     "text": [
      "Encountered an exception for row: emapalumab acute kidney injury. Error message below:\n",
      "Error code: 429 - {'error': {'message': 'Rate limit reached for gpt-3.5-turbo in organization org-wi3cHq5g1FGXIxQyl0trnye1 on requests per day (RPD): Limit 10000, Used 10000, Requested 1. Please try again in 8.64s. Visit https://platform.openai.com/account/rate-limits to learn more.', 'type': 'requests', 'param': None, 'code': 'rate_limit_exceeded'}}\n",
      "propoxyphene gastrointestinal haemorrhage\n",
      "Encountered an exception for row: indomethacin myocardial infarction. Error message below:\n",
      "Error code: 429 - {'error': {'message': 'Rate limit reached for gpt-3.5-turbo in organization org-wi3cHq5g1FGXIxQyl0trnye1 on requests per day (RPD): Limit 10000, Used 10000, Requested 1. Please try again in 8.64s. Visit https://platform.openai.com/account/rate-limits to learn more.', 'type': 'requests', 'param': None, 'code': 'rate_limit_exceeded'}}\n",
      "nizatidine hepatocellular injury\n"
     ]
    },
    {
     "name": "stderr",
     "output_type": "stream",
     "text": [
      " 89%|████████▊ | 1677/1894 [26:32<04:54,  1.36s/it]"
     ]
    },
    {
     "name": "stdout",
     "output_type": "stream",
     "text": [
      "Encountered an exception for row: progesterone myocardial infarction. Error message below:\n",
      "Error code: 429 - {'error': {'message': 'Rate limit reached for gpt-3.5-turbo in organization org-wi3cHq5g1FGXIxQyl0trnye1 on requests per day (RPD): Limit 10000, Used 10000, Requested 1. Please try again in 8.64s. Visit https://platform.openai.com/account/rate-limits to learn more.', 'type': 'requests', 'param': None, 'code': 'rate_limit_exceeded'}}\n",
      "nizatidine hepatic enzyme abnormal\n",
      "diclofenac gastrointestinal haemorrhage\n"
     ]
    },
    {
     "name": "stderr",
     "output_type": "stream",
     "text": [
      " 89%|████████▊ | 1680/1894 [26:41<06:39,  1.87s/it]"
     ]
    },
    {
     "name": "stdout",
     "output_type": "stream",
     "text": [
      "Encountered an exception for row: flurbiprofen gastrointestinal haemorrhage. Error message below:\n",
      "Error code: 429 - {'error': {'message': 'Rate limit reached for gpt-3.5-turbo in organization org-wi3cHq5g1FGXIxQyl0trnye1 on requests per day (RPD): Limit 10000, Used 10000, Requested 1. Please try again in 8.64s. Visit https://platform.openai.com/account/rate-limits to learn more.', 'type': 'requests', 'param': None, 'code': 'rate_limit_exceeded'}}\n",
      "diclofenac myocardial infarction\n",
      "Encountered an exception for row: enalaprilat hepatic failure. Error message below:\n",
      "Error code: 429 - {'error': {'message': 'Rate limit reached for gpt-3.5-turbo in organization org-wi3cHq5g1FGXIxQyl0trnye1 on requests per day (RPD): Limit 10000, Used 10000, Requested 1. Please try again in 8.64s. Visit https://platform.openai.com/account/rate-limits to learn more.', 'type': 'requests', 'param': None, 'code': 'rate_limit_exceeded'}}\n",
      "diclofenac renal failure\n",
      "Encountered an exception for row: bicalutamide myocardial infarction. Error message below:\n",
      "Error code: 429 - {'error': {'message': 'Rate limit reached for gpt-3.5-turbo in organization org-wi3cHq5g1FGXIxQyl0trnye1 on requests per day (RPD): Limit 10000, Used 10000, Requested 1. Please try again in 8.64s. Visit https://platform.openai.com/account/rate-limits to learn more.', 'type': 'requests', 'param': None, 'code': 'rate_limit_exceeded'}}\n",
      "ciprofloxacin hepatic necrosis\n",
      "Encountered an exception for row: carbamazepine myocardial infarction. Error message below:\n",
      "Error code: 429 - {'error': {'message': 'Rate limit reached for gpt-3.5-turbo in organization org-wi3cHq5g1FGXIxQyl0trnye1 on requests per day (RPD): Limit 10000, Used 10000, Requested 1. Please try again in 8.64s. Visit https://platform.openai.com/account/rate-limits to learn more.', 'type': 'requests', 'param': None, 'code': 'rate_limit_exceeded'}}\n",
      "exemestane myocardial infarction\n"
     ]
    },
    {
     "name": "stderr",
     "output_type": "stream",
     "text": [
      " 89%|████████▉ | 1683/1894 [26:41<03:52,  1.10s/it]"
     ]
    },
    {
     "name": "stdout",
     "output_type": "stream",
     "text": [
      "Encountered an exception for row: omeprazole hepatic failure. Error message below:\n",
      "Error code: 429 - {'error': {'message': 'Rate limit reached for gpt-3.5-turbo in organization org-wi3cHq5g1FGXIxQyl0trnye1 on requests per day (RPD): Limit 10000, Used 10000, Requested 1. Please try again in 8.64s. Visit https://platform.openai.com/account/rate-limits to learn more.', 'type': 'requests', 'param': None, 'code': 'rate_limit_exceeded'}}\n",
      "citalopram acute kidney injury\n"
     ]
    },
    {
     "name": "stderr",
     "output_type": "stream",
     "text": [
      " 89%|████████▉ | 1685/1894 [26:45<04:30,  1.29s/it]"
     ]
    },
    {
     "name": "stdout",
     "output_type": "stream",
     "text": [
      "tizanidine haematemesis\n"
     ]
    },
    {
     "name": "stderr",
     "output_type": "stream",
     "text": [
      " 89%|████████▉ | 1686/1894 [26:50<06:38,  1.91s/it]"
     ]
    },
    {
     "name": "stdout",
     "output_type": "stream",
     "text": [
      "Encountered an exception for row: nizatidine hepatocellular injury. Error message below:\n",
      "Error code: 429 - {'error': {'message': 'Rate limit reached for gpt-3.5-turbo in organization org-wi3cHq5g1FGXIxQyl0trnye1 on requests per day (RPD): Limit 10000, Used 10000, Requested 1. Please try again in 8.64s. Visit https://platform.openai.com/account/rate-limits to learn more.', 'type': 'requests', 'param': None, 'code': 'rate_limit_exceeded'}}\n",
      "naproxen haematemesis\n",
      "Encountered an exception for row: propoxyphene gastrointestinal haemorrhage. Error message below:\n",
      "Error code: 429 - {'error': {'message': 'Rate limit reached for gpt-3.5-turbo in organization org-wi3cHq5g1FGXIxQyl0trnye1 on requests per day (RPD): Limit 10000, Used 10000, Requested 1. Please try again in 8.64s. Visit https://platform.openai.com/account/rate-limits to learn more.', 'type': 'requests', 'param': None, 'code': 'rate_limit_exceeded'}}\n",
      "memantine acute kidney injury\n"
     ]
    },
    {
     "name": "stderr",
     "output_type": "stream",
     "text": [
      " 89%|████████▉ | 1688/1894 [26:50<04:34,  1.33s/it]"
     ]
    },
    {
     "name": "stdout",
     "output_type": "stream",
     "text": [
      "Encountered an exception for row: nizatidine hepatic enzyme abnormal. Error message below:\n",
      "Error code: 429 - {'error': {'message': 'Rate limit reached for gpt-3.5-turbo in organization org-wi3cHq5g1FGXIxQyl0trnye1 on requests per day (RPD): Limit 10000, Used 10000, Requested 1. Please try again in 8.64s. Visit https://platform.openai.com/account/rate-limits to learn more.', 'type': 'requests', 'param': None, 'code': 'rate_limit_exceeded'}}\n",
      "rivastigmine myocardial infarction\n"
     ]
    },
    {
     "name": "stderr",
     "output_type": "stream",
     "text": [
      " 89%|████████▉ | 1689/1894 [26:54<06:08,  1.80s/it]"
     ]
    },
    {
     "name": "stdout",
     "output_type": "stream",
     "text": [
      "Encountered an exception for row: diclofenac gastrointestinal haemorrhage. Error message below:\n",
      "Error code: 429 - {'error': {'message': 'Rate limit reached for gpt-3.5-turbo in organization org-wi3cHq5g1FGXIxQyl0trnye1 on requests per day (RPD): Limit 10000, Used 10000, Requested 1. Please try again in 8.64s. Visit https://platform.openai.com/account/rate-limits to learn more.', 'type': 'requests', 'param': None, 'code': 'rate_limit_exceeded'}}\n",
      "ezetimibe hepatic enzyme abnormal\n",
      "abacavir myocardial infarction\n"
     ]
    },
    {
     "name": "stderr",
     "output_type": "stream",
     "text": [
      " 89%|████████▉ | 1692/1894 [26:59<05:16,  1.57s/it]"
     ]
    },
    {
     "name": "stdout",
     "output_type": "stream",
     "text": [
      "Encountered an exception for row: diclofenac myocardial infarction. Error message below:\n",
      "Error code: 429 - {'error': {'message': 'Rate limit reached for gpt-3.5-turbo in organization org-wi3cHq5g1FGXIxQyl0trnye1 on requests per day (RPD): Limit 10000, Used 10000, Requested 1. Please try again in 8.64s. Visit https://platform.openai.com/account/rate-limits to learn more.', 'type': 'requests', 'param': None, 'code': 'rate_limit_exceeded'}}\n",
      "mirtazapine myocardial infarction\n",
      "Encountered an exception for row: diclofenac renal failure. Error message below:\n",
      "Error code: 429 - {'error': {'message': 'Rate limit reached for gpt-3.5-turbo in organization org-wi3cHq5g1FGXIxQyl0trnye1 on requests per day (RPD): Limit 10000, Used 10000, Requested 1. Please try again in 8.64s. Visit https://platform.openai.com/account/rate-limits to learn more.', 'type': 'requests', 'param': None, 'code': 'rate_limit_exceeded'}}\n",
      "ziprasidone haematemesis\n",
      "Encountered an exception for row: exemestane myocardial infarction. Error message below:\n",
      "Error code: 429 - {'error': {'message': 'Rate limit reached for gpt-3.5-turbo in organization org-wi3cHq5g1FGXIxQyl0trnye1 on requests per day (RPD): Limit 10000, Used 10000, Requested 1. Please try again in 8.64s. Visit https://platform.openai.com/account/rate-limits to learn more.', 'type': 'requests', 'param': None, 'code': 'rate_limit_exceeded'}}\n",
      "anastrozole myocardial infarction\n",
      "Encountered an exception for row: ciprofloxacin hepatic necrosis. Error message below:\n",
      "Error code: 429 - {'error': {'message': 'Rate limit reached for gpt-3.5-turbo in organization org-wi3cHq5g1FGXIxQyl0trnye1 on requests per day (RPD): Limit 10000, Used 10000, Requested 1. Please try again in 8.64s. Visit https://platform.openai.com/account/rate-limits to learn more.', 'type': 'requests', 'param': None, 'code': 'rate_limit_exceeded'}}\n",
      "cimetidine liver injury\n"
     ]
    },
    {
     "name": "stderr",
     "output_type": "stream",
     "text": [
      " 89%|████████▉ | 1694/1894 [26:59<03:28,  1.04s/it]"
     ]
    },
    {
     "name": "stdout",
     "output_type": "stream",
     "text": [
      "Encountered an exception for row: citalopram acute kidney injury. Error message below:\n",
      "Error code: 429 - {'error': {'message': 'Rate limit reached for gpt-3.5-turbo in organization org-wi3cHq5g1FGXIxQyl0trnye1 on requests per day (RPD): Limit 10000, Used 10000, Requested 1. Please try again in 8.64s. Visit https://platform.openai.com/account/rate-limits to learn more.', 'type': 'requests', 'param': None, 'code': 'rate_limit_exceeded'}}\n",
      "amiodarone renal failure\n",
      "olmesartan acute kidney injury\n"
     ]
    },
    {
     "name": "stderr",
     "output_type": "stream",
     "text": [
      " 90%|████████▉ | 1698/1894 [27:08<04:45,  1.46s/it]"
     ]
    },
    {
     "name": "stdout",
     "output_type": "stream",
     "text": [
      "Encountered an exception for row: naproxen haematemesis. Error message below:\n",
      "Error code: 429 - {'error': {'message': 'Rate limit reached for gpt-3.5-turbo in organization org-wi3cHq5g1FGXIxQyl0trnye1 on requests per day (RPD): Limit 10000, Used 10000, Requested 1. Please try again in 8.64s. Visit https://platform.openai.com/account/rate-limits to learn more.', 'type': 'requests', 'param': None, 'code': 'rate_limit_exceeded'}}\n",
      "atorvastatin hepatic enzyme abnormal\n",
      "Encountered an exception for row: memantine acute kidney injury. Error message below:\n",
      "Error code: 429 - {'error': {'message': 'Rate limit reached for gpt-3.5-turbo in organization org-wi3cHq5g1FGXIxQyl0trnye1 on requests per day (RPD): Limit 10000, Used 10000, Requested 1. Please try again in 8.64s. Visit https://platform.openai.com/account/rate-limits to learn more.', 'type': 'requests', 'param': None, 'code': 'rate_limit_exceeded'}}\n",
      "rasagiline liver function test abnormal\n",
      "Encountered an exception for row: rivastigmine myocardial infarction. Error message below:\n",
      "Error code: 429 - {'error': {'message': 'Rate limit reached for gpt-3.5-turbo in organization org-wi3cHq5g1FGXIxQyl0trnye1 on requests per day (RPD): Limit 10000, Used 10000, Requested 1. Please try again in 8.64s. Visit https://platform.openai.com/account/rate-limits to learn more.', 'type': 'requests', 'param': None, 'code': 'rate_limit_exceeded'}}\n",
      "ketoprofen renal failure\n",
      "linezolid liver function test abnormal\n"
     ]
    },
    {
     "name": "stderr",
     "output_type": "stream",
     "text": [
      " 90%|████████▉ | 1699/1894 [27:12<06:10,  1.90s/it]"
     ]
    },
    {
     "name": "stdout",
     "output_type": "stream",
     "text": [
      "Encountered an exception for row: ezetimibe hepatic enzyme abnormal. Error message below:\n",
      "Error code: 429 - {'error': {'message': 'Rate limit reached for gpt-3.5-turbo in organization org-wi3cHq5g1FGXIxQyl0trnye1 on requests per day (RPD): Limit 10000, Used 10000, Requested 1. Please try again in 8.64s. Visit https://platform.openai.com/account/rate-limits to learn more.', 'type': 'requests', 'param': None, 'code': 'rate_limit_exceeded'}}\n",
      "galantamine renal failure\n"
     ]
    },
    {
     "name": "stderr",
     "output_type": "stream",
     "text": [
      " 90%|████████▉ | 1700/1894 [27:12<05:03,  1.56s/it]"
     ]
    },
    {
     "name": "stdout",
     "output_type": "stream",
     "text": [
      "Encountered an exception for row: abacavir myocardial infarction. Error message below:\n",
      "Error code: 429 - {'error': {'message': 'Rate limit reached for gpt-3.5-turbo in organization org-wi3cHq5g1FGXIxQyl0trnye1 on requests per day (RPD): Limit 10000, Used 10000, Requested 1. Please try again in 8.64s. Visit https://platform.openai.com/account/rate-limits to learn more.', 'type': 'requests', 'param': None, 'code': 'rate_limit_exceeded'}}\n",
      "ceftriaxone renal impairment\n"
     ]
    },
    {
     "name": "stderr",
     "output_type": "stream",
     "text": [
      " 90%|████████▉ | 1702/1894 [27:17<05:58,  1.87s/it]"
     ]
    },
    {
     "name": "stdout",
     "output_type": "stream",
     "text": [
      "Encountered an exception for row: ziprasidone haematemesis. Error message below:\n",
      "Error code: 429 - {'error': {'message': 'Rate limit reached for gpt-3.5-turbo in organization org-wi3cHq5g1FGXIxQyl0trnye1 on requests per day (RPD): Limit 10000, Used 10000, Requested 1. Please try again in 8.64s. Visit https://platform.openai.com/account/rate-limits to learn more.', 'type': 'requests', 'param': None, 'code': 'rate_limit_exceeded'}}\n",
      "duloxetine gastrointestinal haemorrhage\n",
      "Encountered an exception for row: anastrozole myocardial infarction. Error message below:\n",
      "Error code: 429 - {'error': {'message': 'Rate limit reached for gpt-3.5-turbo in organization org-wi3cHq5g1FGXIxQyl0trnye1 on requests per day (RPD): Limit 10000, Used 10000, Requested 1. Please try again in 8.64s. Visit https://platform.openai.com/account/rate-limits to learn more.', 'type': 'requests', 'param': None, 'code': 'rate_limit_exceeded'}}\n",
      "glimepiride hepatic failure\n",
      "Encountered an exception for row: cimetidine liver injury. Error message below:\n",
      "Error code: 429 - {'error': {'message': 'Rate limit reached for gpt-3.5-turbo in organization org-wi3cHq5g1FGXIxQyl0trnye1 on requests per day (RPD): Limit 10000, Used 10000, Requested 1. Please try again in 8.64s. Visit https://platform.openai.com/account/rate-limits to learn more.', 'type': 'requests', 'param': None, 'code': 'rate_limit_exceeded'}}\n",
      "cefazolin renal failure\n",
      "famciclovir renal failure\n"
     ]
    },
    {
     "name": "stderr",
     "output_type": "stream",
     "text": [
      " 90%|█████████ | 1706/1894 [27:17<03:03,  1.02it/s]"
     ]
    },
    {
     "name": "stdout",
     "output_type": "stream",
     "text": [
      "Encountered an exception for row: olmesartan acute kidney injury. Error message below:\n",
      "Error code: 429 - {'error': {'message': 'Rate limit reached for gpt-3.5-turbo in organization org-wi3cHq5g1FGXIxQyl0trnye1 on requests per day (RPD): Limit 10000, Used 10000, Requested 1. Please try again in 8.64s. Visit https://platform.openai.com/account/rate-limits to learn more.', 'type': 'requests', 'param': None, 'code': 'rate_limit_exceeded'}}\n",
      "gallium acute kidney injury\n"
     ]
    },
    {
     "name": "stderr",
     "output_type": "stream",
     "text": [
      " 90%|█████████ | 1708/1894 [27:26<05:40,  1.83s/it]"
     ]
    },
    {
     "name": "stdout",
     "output_type": "stream",
     "text": [
      "Encountered an exception for row: rasagiline liver function test abnormal. Error message below:\n",
      "Error code: 429 - {'error': {'message': 'Rate limit reached for gpt-3.5-turbo in organization org-wi3cHq5g1FGXIxQyl0trnye1 on requests per day (RPD): Limit 10000, Used 10000, Requested 1. Please try again in 8.64s. Visit https://platform.openai.com/account/rate-limits to learn more.', 'type': 'requests', 'param': None, 'code': 'rate_limit_exceeded'}}\n",
      "naltrexone hepatotoxicity\n"
     ]
    },
    {
     "name": "stderr",
     "output_type": "stream",
     "text": [
      " 90%|█████████ | 1709/1894 [27:26<04:51,  1.57s/it]"
     ]
    },
    {
     "name": "stdout",
     "output_type": "stream",
     "text": [
      "bromocriptine gastrointestinal haemorrhage\n",
      "Encountered an exception for row: linezolid liver function test abnormal. Error message below:\n",
      "Error code: 429 - {'error': {'message': 'Rate limit reached for gpt-3.5-turbo in organization org-wi3cHq5g1FGXIxQyl0trnye1 on requests per day (RPD): Limit 10000, Used 10000, Requested 1. Please try again in 8.64s. Visit https://platform.openai.com/account/rate-limits to learn more.', 'type': 'requests', 'param': None, 'code': 'rate_limit_exceeded'}}\n",
      "dasatinib renal failure\n"
     ]
    },
    {
     "name": "stderr",
     "output_type": "stream",
     "text": [
      " 90%|█████████ | 1711/1894 [27:30<05:03,  1.66s/it]"
     ]
    },
    {
     "name": "stdout",
     "output_type": "stream",
     "text": [
      "Encountered an exception for row: galantamine renal failure. Error message below:\n",
      "Error code: 429 - {'error': {'message': 'Rate limit reached for gpt-3.5-turbo in organization org-wi3cHq5g1FGXIxQyl0trnye1 on requests per day (RPD): Limit 10000, Used 10000, Requested 1. Please try again in 8.64s. Visit https://platform.openai.com/account/rate-limits to learn more.', 'type': 'requests', 'param': None, 'code': 'rate_limit_exceeded'}}\n",
      "perindopril renal impairment\n"
     ]
    },
    {
     "name": "stderr",
     "output_type": "stream",
     "text": [
      " 90%|█████████ | 1712/1894 [27:30<04:16,  1.41s/it]"
     ]
    },
    {
     "name": "stdout",
     "output_type": "stream",
     "text": [
      "Encountered an exception for row: ceftriaxone renal impairment. Error message below:\n",
      "Error code: 429 - {'error': {'message': 'Rate limit reached for gpt-3.5-turbo in organization org-wi3cHq5g1FGXIxQyl0trnye1 on requests per day (RPD): Limit 10000, Used 10000, Requested 1. Please try again in 8.64s. Visit https://platform.openai.com/account/rate-limits to learn more.', 'type': 'requests', 'param': None, 'code': 'rate_limit_exceeded'}}\n",
      "ketoconazole hepatotoxicity\n"
     ]
    },
    {
     "name": "stderr",
     "output_type": "stream",
     "text": [
      " 90%|█████████ | 1714/1894 [27:35<04:56,  1.65s/it]"
     ]
    },
    {
     "name": "stdout",
     "output_type": "stream",
     "text": [
      "Encountered an exception for row: duloxetine gastrointestinal haemorrhage. Error message below:Encountered an exception for row: cefazolin renal failure. Error message below:\n",
      "Error code: 429 - {'error': {'message': 'Rate limit reached for gpt-3.5-turbo in organization org-wi3cHq5g1FGXIxQyl0trnye1 on requests per day (RPD): Limit 10000, Used 10000, Requested 1. Please try again in 8.64s. Visit https://platform.openai.com/account/rate-limits to learn more.', 'type': 'requests', 'param': None, 'code': 'rate_limit_exceeded'}}\n",
      "sulfasalazine hepatocellular injury\n",
      "\n",
      "Error code: 429 - {'error': {'message': 'Rate limit reached for gpt-3.5-turbo in organization org-wi3cHq5g1FGXIxQyl0trnye1 on requests per day (RPD): Limit 10000, Used 10000, Requested 1. Please try again in 8.64s. Visit https://platform.openai.com/account/rate-limits to learn more.', 'type': 'requests', 'param': None, 'code': 'rate_limit_exceeded'}}\n",
      "sulfasalazine hepatotoxicity\n",
      "Encountered an exception for row: famciclovir renal failure. Error message below:\n",
      "Error code: 429 - {'error': {'message': 'Rate limit reached for gpt-3.5-turbo in organization org-wi3cHq5g1FGXIxQyl0trnye1 on requests per day (RPD): Limit 10000, Used 10000, Requested 1. Please try again in 8.64s. Visit https://platform.openai.com/account/rate-limits to learn more.', 'type': 'requests', 'param': None, 'code': 'rate_limit_exceeded'}}\n",
      "olsalazine hepatic necrosis\n",
      "clozapine hepatic necrosis\n"
     ]
    },
    {
     "name": "stderr",
     "output_type": "stream",
     "text": [
      " 91%|█████████ | 1717/1894 [27:35<02:38,  1.12it/s]"
     ]
    },
    {
     "name": "stdout",
     "output_type": "stream",
     "text": [
      "Encountered an exception for row: gallium acute kidney injury. Error message below:\n",
      "Error code: 429 - {'error': {'message': 'Rate limit reached for gpt-3.5-turbo in organization org-wi3cHq5g1FGXIxQyl0trnye1 on requests per day (RPD): Limit 10000, Used 10000, Requested 1. Please try again in 8.64s. Visit https://platform.openai.com/account/rate-limits to learn more.', 'type': 'requests', 'param': None, 'code': 'rate_limit_exceeded'}}\n",
      "duloxetine hepatotoxicity\n"
     ]
    },
    {
     "name": "stderr",
     "output_type": "stream",
     "text": [
      " 91%|█████████ | 1719/1894 [27:44<05:28,  1.88s/it]"
     ]
    },
    {
     "name": "stdout",
     "output_type": "stream",
     "text": [
      "ciprofloxacin hepatotoxicity\n",
      "Encountered an exception for row: bromocriptine gastrointestinal haemorrhage. Error message below:\n",
      "Error code: 429 - {'error': {'message': 'Rate limit reached for gpt-3.5-turbo in organization org-wi3cHq5g1FGXIxQyl0trnye1 on requests per day (RPD): Limit 10000, Used 10000, Requested 1. Please try again in 8.64s. Visit https://platform.openai.com/account/rate-limits to learn more.', 'type': 'requests', 'param': None, 'code': 'rate_limit_exceeded'}}\n",
      "ranolazine acute kidney injury\n",
      "Encountered an exception for row: dasatinib renal failure. Error message below:\n",
      "Error code: 429 - {'error': {'message': 'Rate limit reached for gpt-3.5-turbo in organization org-wi3cHq5g1FGXIxQyl0trnye1 on requests per day (RPD): Limit 10000, Used 10000, Requested 1. Please try again in 8.64s. Visit https://platform.openai.com/account/rate-limits to learn more.', 'type': 'requests', 'param': None, 'code': 'rate_limit_exceeded'}}\n",
      "itraconazole acute hepatic failure\n"
     ]
    },
    {
     "name": "stderr",
     "output_type": "stream",
     "text": [
      " 91%|█████████ | 1722/1894 [27:48<04:20,  1.51s/it]"
     ]
    },
    {
     "name": "stdout",
     "output_type": "stream",
     "text": [
      "Encountered an exception for row: perindopril renal impairment. Error message below:\n",
      "Error code: 429 - {'error': {'message': 'Rate limit reached for gpt-3.5-turbo in organization org-wi3cHq5g1FGXIxQyl0trnye1 on requests per day (RPD): Limit 10000, Used 10000, Requested 1. Please try again in 8.64s. Visit https://platform.openai.com/account/rate-limits to learn more.', 'type': 'requests', 'param': None, 'code': 'rate_limit_exceeded'}}\n",
      "itraconazole hepatotoxicity\n",
      "Encountered an exception for row: ketoconazole hepatotoxicity. Error message below:\n",
      "Error code: 429 - {'error': {'message': 'Rate limit reached for gpt-3.5-turbo in organization org-wi3cHq5g1FGXIxQyl0trnye1 on requests per day (RPD): Limit 10000, Used 10000, Requested 1. Please try again in 8.64s. Visit https://platform.openai.com/account/rate-limits to learn more.', 'type': 'requests', 'param': None, 'code': 'rate_limit_exceeded'}}\n",
      "mesalamine renal impairment\n"
     ]
    },
    {
     "name": "stderr",
     "output_type": "stream",
     "text": [
      " 91%|█████████ | 1723/1894 [27:52<06:27,  2.27s/it]"
     ]
    },
    {
     "name": "stdout",
     "output_type": "stream",
     "text": [
      "Encountered an exception for row: sulfasalazine hepatocellular injury. Error message below:\n",
      "Error code: 429 - {'error': {'message': 'Rate limit reached for gpt-3.5-turbo in organization org-wi3cHq5g1FGXIxQyl0trnye1 on requests per day (RPD): Limit 10000, Used 10000, Requested 1. Please try again in 8.64s. Visit https://platform.openai.com/account/rate-limits to learn more.', 'type': 'requests', 'param': None, 'code': 'rate_limit_exceeded'}}\n",
      "tiagabine liver function test abnormal\n"
     ]
    },
    {
     "name": "stderr",
     "output_type": "stream",
     "text": [
      " 91%|█████████ | 1724/1894 [27:53<04:59,  1.76s/it]"
     ]
    },
    {
     "name": "stdout",
     "output_type": "stream",
     "text": [
      "argatroban myocardial infarction\n",
      "Encountered an exception for row: olsalazine hepatic necrosis. Error message below:\n",
      "Error code: 429 - {'error': {'message': 'Rate limit reached for gpt-3.5-turbo in organization org-wi3cHq5g1FGXIxQyl0trnye1 on requests per day (RPD): Limit 10000, Used 10000, Requested 1. Please try again in 8.64s. Visit https://platform.openai.com/account/rate-limits to learn more.', 'type': 'requests', 'param': None, 'code': 'rate_limit_exceeded'}}\n",
      "celecoxib hepatic enzyme increased\n",
      "Encountered an exception for row: clozapine hepatic necrosis. Error message below:\n",
      "Error code: 429 - {'error': {'message': 'Rate limit reached for gpt-3.5-turbo in organization org-wi3cHq5g1FGXIxQyl0trnye1 on requests per day (RPD): Limit 10000, Used 10000, Requested 1. Please try again in 8.64s. Visit https://platform.openai.com/account/rate-limits to learn more.', 'type': 'requests', 'param': None, 'code': 'rate_limit_exceeded'}}\n",
      "triamterene renal failure\n"
     ]
    },
    {
     "name": "stderr",
     "output_type": "stream",
     "text": [
      " 91%|█████████ | 1727/1894 [27:53<02:28,  1.13it/s]"
     ]
    },
    {
     "name": "stdout",
     "output_type": "stream",
     "text": [
      "Encountered an exception for row: duloxetine hepatotoxicity. Error message below:\n",
      "Error code: 429 - {'error': {'message': 'Rate limit reached for gpt-3.5-turbo in organization org-wi3cHq5g1FGXIxQyl0trnye1 on requests per day (RPD): Limit 10000, Used 10000, Requested 1. Please try again in 8.64s. Visit https://platform.openai.com/account/rate-limits to learn more.', 'type': 'requests', 'param': None, 'code': 'rate_limit_exceeded'}}\n",
      "triamterene hepatic enzyme abnormal\n"
     ]
    },
    {
     "name": "stderr",
     "output_type": "stream",
     "text": [
      " 91%|█████████▏| 1729/1894 [28:02<05:13,  1.90s/it]"
     ]
    },
    {
     "name": "stdout",
     "output_type": "stream",
     "text": [
      "Encountered an exception for row: ciprofloxacin hepatotoxicity. Error message below:\n",
      "Error code: 429 - {'error': {'message': 'Rate limit reached for gpt-3.5-turbo in organization org-wi3cHq5g1FGXIxQyl0trnye1 on requests per day (RPD): Limit 10000, Used 10000, Requested 1. Please try again in 8.64s. Visit https://platform.openai.com/account/rate-limits to learn more.', 'type': 'requests', 'param': None, 'code': 'rate_limit_exceeded'}}\n",
      "oxacillin liver function test abnormal\n",
      "Encountered an exception for row: ranolazine acute kidney injury. Error message below:\n",
      "Error code: 429 - {'error': {'message': 'Rate limit reached for gpt-3.5-turbo in organization org-wi3cHq5g1FGXIxQyl0trnye1 on requests per day (RPD): Limit 10000, Used 10000, Requested 1. Please try again in 8.64s. Visit https://platform.openai.com/account/rate-limits to learn more.', 'type': 'requests', 'param': None, 'code': 'rate_limit_exceeded'}}\n",
      "fosphenytoin liver function test abnormal\n",
      "Encountered an exception for row: itraconazole acute hepatic failure. Error message below:\n",
      "Error code: 429 - {'error': {'message': 'Rate limit reached for gpt-3.5-turbo in organization org-wi3cHq5g1FGXIxQyl0trnye1 on requests per day (RPD): Limit 10000, Used 10000, Requested 1. Please try again in 8.64s. Visit https://platform.openai.com/account/rate-limits to learn more.', 'type': 'requests', 'param': None, 'code': 'rate_limit_exceeded'}}\n",
      "warfarin acute kidney injury\n",
      "atovaquone hepatotoxicity\n"
     ]
    },
    {
     "name": "stderr",
     "output_type": "stream",
     "text": [
      " 91%|█████████▏| 1731/1894 [28:05<05:06,  1.88s/it]"
     ]
    },
    {
     "name": "stdout",
     "output_type": "stream",
     "text": [
      "Encountered an exception for row: itraconazole hepatotoxicity. Error message below:\n",
      "Error code: 429 - {'error': {'message': 'Rate limit reached for gpt-3.5-turbo in organization org-wi3cHq5g1FGXIxQyl0trnye1 on requests per day (RPD): Limit 10000, Used 10000, Requested 1. Please try again in 8.64s. Visit https://platform.openai.com/account/rate-limits to learn more.', 'type': 'requests', 'param': None, 'code': 'rate_limit_exceeded'}}\n",
      "atovaquone renal impairment\n"
     ]
    },
    {
     "name": "stderr",
     "output_type": "stream",
     "text": [
      " 91%|█████████▏| 1732/1894 [28:06<04:09,  1.54s/it]"
     ]
    },
    {
     "name": "stdout",
     "output_type": "stream",
     "text": [
      "Encountered an exception for row: mesalamine renal impairment. Error message below:\n",
      "Error code: 429 - {'error': {'message': 'Rate limit reached for gpt-3.5-turbo in organization org-wi3cHq5g1FGXIxQyl0trnye1 on requests per day (RPD): Limit 10000, Used 10000, Requested 1. Please try again in 8.64s. Visit https://platform.openai.com/account/rate-limits to learn more.', 'type': 'requests', 'param': None, 'code': 'rate_limit_exceeded'}}\n",
      "voriconazole acute kidney injury\n"
     ]
    },
    {
     "name": "stderr",
     "output_type": "stream",
     "text": [
      " 92%|█████████▏| 1734/1894 [28:11<05:06,  1.91s/it]"
     ]
    },
    {
     "name": "stdout",
     "output_type": "stream",
     "text": [
      "Encountered an exception for row: triamterene renal failure. Error message below:\n",
      "Error code: 429 - {'error': {'message': 'Rate limit reached for gpt-3.5-turbo in organization org-wi3cHq5g1FGXIxQyl0trnye1 on requests per day (RPD): Limit 10000, Used 10000, Requested 1. Please try again in 8.64s. Visit https://platform.openai.com/account/rate-limits to learn more.', 'type': 'requests', 'param': None, 'code': 'rate_limit_exceeded'}}\n",
      "abiraterone myocardial infarction\n",
      "Encountered an exception for row: argatroban myocardial infarction. Error message below:\n",
      "Error code: 429 - {'error': {'message': 'Rate limit reached for gpt-3.5-turbo in organization org-wi3cHq5g1FGXIxQyl0trnye1 on requests per day (RPD): Limit 10000, Used 10000, Requested 1. Please try again in 8.64s. Visit https://platform.openai.com/account/rate-limits to learn more.', 'type': 'requests', 'param': None, 'code': 'rate_limit_exceeded'}}\n",
      "tolcapone myocardial infarction\n",
      "Encountered an exception for row: celecoxib hepatic enzyme increased. Error message below:\n",
      "Error code: 429 - {'error': {'message': 'Rate limit reached for gpt-3.5-turbo in organization org-wi3cHq5g1FGXIxQyl0trnye1 on requests per day (RPD): Limit 10000, Used 10000, Requested 1. Please try again in 8.64s. Visit https://platform.openai.com/account/rate-limits to learn more.', 'type': 'requests', 'param': None, 'code': 'rate_limit_exceeded'}}\n",
      "bosentan hepatotoxicity\n",
      "Encountered an exception for row: triamterene hepatic enzyme abnormal. Error message below:\n",
      "Error code: 429 - {'error': {'message': 'Rate limit reached for gpt-3.5-turbo in organization org-wi3cHq5g1FGXIxQyl0trnye1 on requests per day (RPD): Limit 10000, Used 10000, Requested 1. Please try again in 8.64s. Visit https://platform.openai.com/account/rate-limits to learn more.', 'type': 'requests', 'param': None, 'code': 'rate_limit_exceeded'}}\n",
      "decitabine gastrointestinal haemorrhage\n"
     ]
    },
    {
     "name": "stderr",
     "output_type": "stream",
     "text": [
      " 92%|█████████▏| 1738/1894 [28:11<02:27,  1.06it/s]"
     ]
    },
    {
     "name": "stdout",
     "output_type": "stream",
     "text": [
      "ropivacaine myocardial infarction\n"
     ]
    },
    {
     "name": "stderr",
     "output_type": "stream",
     "text": [
      " 92%|█████████▏| 1739/1894 [28:19<05:31,  2.14s/it]"
     ]
    },
    {
     "name": "stdout",
     "output_type": "stream",
     "text": [
      "Encountered an exception for row: fosphenytoin liver function test abnormal. Error message below:\n",
      "Error code: 429 - {'error': {'message': 'Rate limit reached for gpt-3.5-turbo in organization org-wi3cHq5g1FGXIxQyl0trnye1 on requests per day (RPD): Limit 10000, Used 10000, Requested 1. Please try again in 8.64s. Visit https://platform.openai.com/account/rate-limits to learn more.', 'type': 'requests', 'param': None, 'code': 'rate_limit_exceeded'}}\n",
      "clofarabine gastrointestinal haemorrhage\n",
      "Encountered an exception for row: atovaquone hepatotoxicity. Error message below:\n",
      "Error code: 429 - {'error': {'message': 'Rate limit reached for gpt-3.5-turbo in organization org-wi3cHq5g1FGXIxQyl0trnye1 on requests per day (RPD): Limit 10000, Used 10000, Requested 1. Please try again in 8.64s. Visit https://platform.openai.com/account/rate-limits to learn more.', 'type': 'requests', 'param': None, 'code': 'rate_limit_exceeded'}}\n",
      "cyclophosphamide hepatic failure\n"
     ]
    },
    {
     "name": "stderr",
     "output_type": "stream",
     "text": [
      " 92%|█████████▏| 1740/1894 [28:20<04:35,  1.79s/it]"
     ]
    },
    {
     "name": "stdout",
     "output_type": "stream",
     "text": [
      "dactinomycin hepatotoxicity\n"
     ]
    },
    {
     "name": "stderr",
     "output_type": "stream",
     "text": [
      " 92%|█████████▏| 1742/1894 [28:23<04:26,  1.76s/it]"
     ]
    },
    {
     "name": "stdout",
     "output_type": "stream",
     "text": [
      "Encountered an exception for row: atovaquone renal impairment. Error message below:\n",
      "Error code: 429 - {'error': {'message': 'Rate limit reached for gpt-3.5-turbo in organization org-wi3cHq5g1FGXIxQyl0trnye1 on requests per day (RPD): Limit 10000, Used 10000, Requested 1. Please try again in 8.64s. Visit https://platform.openai.com/account/rate-limits to learn more.', 'type': 'requests', 'param': None, 'code': 'rate_limit_exceeded'}}\n",
      "trimipramine myocardial infarction\n"
     ]
    },
    {
     "name": "stderr",
     "output_type": "stream",
     "text": [
      " 92%|█████████▏| 1743/1894 [28:24<03:46,  1.50s/it]"
     ]
    },
    {
     "name": "stdout",
     "output_type": "stream",
     "text": [
      "Encountered an exception for row: voriconazole acute kidney injury. Error message below:\n",
      "Error code: 429 - {'error': {'message': 'Rate limit reached for gpt-3.5-turbo in organization org-wi3cHq5g1FGXIxQyl0trnye1 on requests per day (RPD): Limit 10000, Used 10000, Requested 1. Please try again in 8.64s. Visit https://platform.openai.com/account/rate-limits to learn more.', 'type': 'requests', 'param': None, 'code': 'rate_limit_exceeded'}}\n",
      "epinephrine renal impairment\n"
     ]
    },
    {
     "name": "stderr",
     "output_type": "stream",
     "text": [
      " 92%|█████████▏| 1748/1894 [28:29<02:30,  1.03s/it]"
     ]
    },
    {
     "name": "stdout",
     "output_type": "stream",
     "text": [
      "Encountered an exception for row: tolcapone myocardial infarction. Error message below:\n",
      "Error code: 429 - {'error': {'message': 'Rate limit reached for gpt-3.5-turbo in organization org-wi3cHq5g1FGXIxQyl0trnye1 on requests per day (RPD): Limit 10000, Used 10000, Requested 1. Please try again in 8.64s. Visit https://platform.openai.com/account/rate-limits to learn more.', 'type': 'requests', 'param': None, 'code': 'rate_limit_exceeded'}}\n",
      "fluorouracil myocardial infarction\n",
      "Encountered an exception for row: abiraterone myocardial infarction. Error message below:\n",
      "Error code: 429 - {'error': {'message': 'Rate limit reached for gpt-3.5-turbo in organization org-wi3cHq5g1FGXIxQyl0trnye1 on requests per day (RPD): Limit 10000, Used 10000, Requested 1. Please try again in 8.64s. Visit https://platform.openai.com/account/rate-limits to learn more.', 'type': 'requests', 'param': None, 'code': 'rate_limit_exceeded'}}\n",
      "arsenic trioxide hepatotoxicity\n",
      "Encountered an exception for row: bosentan hepatotoxicity. Error message below:\n",
      "Error code: 429 - {'error': {'message': 'Rate limit reached for gpt-3.5-turbo in organization org-wi3cHq5g1FGXIxQyl0trnye1 on requests per day (RPD): Limit 10000, Used 10000, Requested 1. Please try again in 8.64s. Visit https://platform.openai.com/account/rate-limits to learn more.', 'type': 'requests', 'param': None, 'code': 'rate_limit_exceeded'}}\n",
      "sunitinib haematemesis\n",
      "Encountered an exception for row: decitabine gastrointestinal haemorrhage. Error message below:\n",
      "Error code: 429 - {'error': {'message': 'Rate limit reached for gpt-3.5-turbo in organization org-wi3cHq5g1FGXIxQyl0trnye1 on requests per day (RPD): Limit 10000, Used 10000, Requested 1. Please try again in 8.64s. Visit https://platform.openai.com/account/rate-limits to learn more.', 'type': 'requests', 'param': None, 'code': 'rate_limit_exceeded'}}\n",
      "infliximab hepatic enzyme abnormal\n",
      "cefiderocol liver function test abnormal\n",
      "Encountered an exception for row: ropivacaine myocardial infarction. Error message below:\n",
      "Error code: 429 - {'error': {'message': 'Rate limit reached for gpt-3.5-turbo in organization org-wi3cHq5g1FGXIxQyl0trnye1 on requests per day (RPD): Limit 10000, Used 10000, Requested 1. Please try again in 8.64s. Visit https://platform.openai.com/account/rate-limits to learn more.', 'type': 'requests', 'param': None, 'code': 'rate_limit_exceeded'}}\n",
      "cefiderocol myocardial infarction\n"
     ]
    },
    {
     "name": "stderr",
     "output_type": "stream",
     "text": [
      " 92%|█████████▏| 1750/1894 [28:38<04:48,  2.01s/it]"
     ]
    },
    {
     "name": "stdout",
     "output_type": "stream",
     "text": [
      "Encountered an exception for row: dactinomycin hepatotoxicity. Error message below:\n",
      "Error code: 429 - {'error': {'message': 'Rate limit reached for gpt-3.5-turbo in organization org-wi3cHq5g1FGXIxQyl0trnye1 on requests per day (RPD): Limit 10000, Used 10000, Requested 1. Please try again in 8.64s. Visit https://platform.openai.com/account/rate-limits to learn more.', 'type': 'requests', 'param': None, 'code': 'rate_limit_exceeded'}}\n",
      "metronidazole hepatic enzyme increased\n",
      "aztreonam gastrointestinal haemorrhage\n"
     ]
    },
    {
     "name": "stderr",
     "output_type": "stream",
     "text": [
      " 93%|█████████▎| 1752/1894 [28:41<04:29,  1.90s/it]"
     ]
    },
    {
     "name": "stdout",
     "output_type": "stream",
     "text": [
      "Encountered an exception for row: trimipramine myocardial infarction. Error message below:\n",
      "Error code: 429 - {'error': {'message': 'Rate limit reached for gpt-3.5-turbo in organization org-wi3cHq5g1FGXIxQyl0trnye1 on requests per day (RPD): Limit 10000, Used 10000, Requested 1. Please try again in 8.64s. Visit https://platform.openai.com/account/rate-limits to learn more.', 'type': 'requests', 'param': None, 'code': 'rate_limit_exceeded'}}\n",
      "metformin liver function test abnormal\n"
     ]
    },
    {
     "name": "stderr",
     "output_type": "stream",
     "text": [
      " 93%|█████████▎| 1753/1894 [28:41<03:52,  1.65s/it]"
     ]
    },
    {
     "name": "stdout",
     "output_type": "stream",
     "text": [
      "Encountered an exception for row: epinephrine renal impairment. Error message below:\n",
      "Error code: 429 - {'error': {'message': 'Rate limit reached for gpt-3.5-turbo in organization org-wi3cHq5g1FGXIxQyl0trnye1 on requests per day (RPD): Limit 10000, Used 10000, Requested 1. Please try again in 8.64s. Visit https://platform.openai.com/account/rate-limits to learn more.', 'type': 'requests', 'param': None, 'code': 'rate_limit_exceeded'}}\n",
      "aripiprazole lauroxil hepatic enzyme increased\n",
      "Encountered an exception for row: arsenic trioxide hepatotoxicity. Error message below:\n",
      "Error code: 429 - {'error': {'message': 'Rate limit reached for gpt-3.5-turbo in organization org-wi3cHq5g1FGXIxQyl0trnye1 on requests per day (RPD): Limit 10000, Used 10000, Requested 1. Please try again in 8.64s. Visit https://platform.openai.com/account/rate-limits to learn more.', 'type': 'requests', 'param': None, 'code': 'rate_limit_exceeded'}}\n",
      "sorafenib renal failure\n",
      "Encountered an exception for row: sunitinib haematemesis. Error message below:\n",
      "Error code: 429 - {'error': {'message': 'Rate limit reached for gpt-3.5-turbo in organization org-wi3cHq5g1FGXIxQyl0trnye1 on requests per day (RPD): Limit 10000, Used 10000, Requested 1. Please try again in 8.64s. Visit https://platform.openai.com/account/rate-limits to learn more.', 'type': 'requests', 'param': None, 'code': 'rate_limit_exceeded'}}\n",
      "tipranavir renal failure\n",
      "Encountered an exception for row: infliximab hepatic enzyme abnormal. Error message below:\n",
      "Error code: 429 - {'error': {'message': 'Rate limit reached for gpt-3.5-turbo in organization org-wi3cHq5g1FGXIxQyl0trnye1 on requests per day (RPD): Limit 10000, Used 10000, Requested 1. Please try again in 8.64s. Visit https://platform.openai.com/account/rate-limits to learn more.', 'type': 'requests', 'param': None, 'code': 'rate_limit_exceeded'}}\n",
      "lincomycin liver function test abnormal\n",
      "Encountered an exception for row: cefiderocol myocardial infarction. Error message below:\n",
      "Error code: 429 - {'error': {'message': 'Rate limit reached for gpt-3.5-turbo in organization org-wi3cHq5g1FGXIxQyl0trnye1 on requests per day (RPD): Limit 10000, Used 10000, Requested 1. Please try again in 8.64s. Visit https://platform.openai.com/account/rate-limits to learn more.', 'type': 'requests', 'param': None, 'code': 'rate_limit_exceeded'}}\n",
      "fidaxomicin hepatic enzyme increased\n",
      "Encountered an exception for row: cefiderocol liver function test abnormal. Error message below:\n",
      "Error code: 429 - {'error': {'message': 'Rate limit reached for gpt-3.5-turbo in organization org-wi3cHq5g1FGXIxQyl0trnye1 on requests per day (RPD): Limit 10000, Used 10000, Requested 1. Please try again in 8.64s. Visit https://platform.openai.com/account/rate-limits to learn more.', 'type': 'requests', 'param': None, 'code': 'rate_limit_exceeded'}}\n",
      "naltrexone hepatic enzyme abnormal\n"
     ]
    },
    {
     "name": "stderr",
     "output_type": "stream",
     "text": [
      " 93%|█████████▎| 1754/1894 [28:47<05:30,  2.36s/it]"
     ]
    },
    {
     "name": "stdout",
     "output_type": "stream",
     "text": [
      "tocilizumab hepatic enzyme increased\n"
     ]
    },
    {
     "name": "stderr",
     "output_type": "stream",
     "text": [
      " 93%|█████████▎| 1760/1894 [28:55<04:00,  1.80s/it]"
     ]
    },
    {
     "name": "stdout",
     "output_type": "stream",
     "text": [
      "inotersen liver injury\n",
      "Encountered an exception for row: aztreonam gastrointestinal haemorrhage. Error message below:\n",
      "Error code: 429 - {'error': {'message': 'Rate limit reached for gpt-3.5-turbo in organization org-wi3cHq5g1FGXIxQyl0trnye1 on requests per day (RPD): Limit 10000, Used 10000, Requested 1. Please try again in 8.64s. Visit https://platform.openai.com/account/rate-limits to learn more.', 'type': 'requests', 'param': None, 'code': 'rate_limit_exceeded'}}\n",
      "semaglutide renal impairment\n"
     ]
    },
    {
     "name": "stderr",
     "output_type": "stream",
     "text": [
      " 93%|█████████▎| 1762/1894 [28:59<03:52,  1.76s/it]"
     ]
    },
    {
     "name": "stdout",
     "output_type": "stream",
     "text": [
      "Encountered an exception for row: metformin liver function test abnormal. Error message below:\n",
      "Error code: 429 - {'error': {'message': 'Rate limit reached for gpt-3.5-turbo in organization org-wi3cHq5g1FGXIxQyl0trnye1 on requests per day (RPD): Limit 10000, Used 10000, Requested 1. Please try again in 8.64s. Visit https://platform.openai.com/account/rate-limits to learn more.', 'type': 'requests', 'param': None, 'code': 'rate_limit_exceeded'}}\n",
      "diroximel fumarate liver injury\n"
     ]
    },
    {
     "name": "stderr",
     "output_type": "stream",
     "text": [
      " 93%|█████████▎| 1763/1894 [28:59<03:26,  1.57s/it]"
     ]
    },
    {
     "name": "stdout",
     "output_type": "stream",
     "text": [
      "Encountered an exception for row: aripiprazole lauroxil hepatic enzyme increased. Error message below:\n",
      "Error code: 429 - {'error': {'message': 'Rate limit reached for gpt-3.5-turbo in organization org-wi3cHq5g1FGXIxQyl0trnye1 on requests per day (RPD): Limit 10000, Used 10000, Requested 1. Please try again in 8.64s. Visit https://platform.openai.com/account/rate-limits to learn more.', 'type': 'requests', 'param': None, 'code': 'rate_limit_exceeded'}}\n",
      "velmanase alfa acute kidney injury\n",
      "Encountered an exception for row: tipranavir renal failure. Error message below:\n",
      "Error code: 429 - {'error': {'message': 'Rate limit reached for gpt-3.5-turbo in organization org-wi3cHq5g1FGXIxQyl0trnye1 on requests per day (RPD): Limit 10000, Used 10000, Requested 1. Please try again in 8.64s. Visit https://platform.openai.com/account/rate-limits to learn more.', 'type': 'requests', 'param': None, 'code': 'rate_limit_exceeded'}}\n",
      "dotatate renal failure\n",
      "Encountered an exception for row: naltrexone hepatic enzyme abnormal. Error message below:\n",
      "Error code: 429 - {'error': {'message': 'Rate limit reached for gpt-3.5-turbo in organization org-wi3cHq5g1FGXIxQyl0trnye1 on requests per day (RPD): Limit 10000, Used 10000, Requested 1. Please try again in 8.64s. Visit https://platform.openai.com/account/rate-limits to learn more.', 'type': 'requests', 'param': None, 'code': 'rate_limit_exceeded'}}\n",
      "relugolix acute kidney injury\n",
      "Encountered an exception for row: lincomycin liver function test abnormal. Error message below:\n",
      "Error code: 429 - {'error': {'message': 'Rate limit reached for gpt-3.5-turbo in organization org-wi3cHq5g1FGXIxQyl0trnye1 on requests per day (RPD): Limit 10000, Used 10000, Requested 1. Please try again in 8.64s. Visit https://platform.openai.com/account/rate-limits to learn more.', 'type': 'requests', 'param': None, 'code': 'rate_limit_exceeded'}}\n",
      "gilteritinib renal impairment\n"
     ]
    },
    {
     "name": "stderr",
     "output_type": "stream",
     "text": [
      " 93%|█████████▎| 1764/1894 [29:04<04:47,  2.21s/it]"
     ]
    },
    {
     "name": "stdout",
     "output_type": "stream",
     "text": [
      "Encountered an exception for row: tocilizumab hepatic enzyme increased. Error message below:\n",
      "Error code: 429 - {'error': {'message': 'Rate limit reached for gpt-3.5-turbo in organization org-wi3cHq5g1FGXIxQyl0trnye1 on requests per day (RPD): Limit 10000, Used 10000, Requested 1. Please try again in 8.64s. Visit https://platform.openai.com/account/rate-limits to learn more.', 'type': 'requests', 'param': None, 'code': 'rate_limit_exceeded'}}\n",
      "atezolizumab renal failure\n",
      "Encountered an exception for row: fidaxomicin hepatic enzyme increased. Error message below:\n",
      "Error code: 429 - {'error': {'message': 'Rate limit reached for gpt-3.5-turbo in organization org-wi3cHq5g1FGXIxQyl0trnye1 on requests per day (RPD): Limit 10000, Used 10000, Requested 1. Please try again in 8.64s. Visit https://platform.openai.com/account/rate-limits to learn more.', 'type': 'requests', 'param': None, 'code': 'rate_limit_exceeded'}}\n",
      "acetazolamide hepatic necrosis\n",
      "cetuximab myocardial infarction\n"
     ]
    },
    {
     "name": "stderr",
     "output_type": "stream",
     "text": [
      " 93%|█████████▎| 1770/1894 [29:13<03:41,  1.79s/it]"
     ]
    },
    {
     "name": "stdout",
     "output_type": "stream",
     "text": [
      "Encountered an exception for row: semaglutide renal impairment. Error message below:\n",
      "Error code: 429 - {'error': {'message': 'Rate limit reached for gpt-3.5-turbo in organization org-wi3cHq5g1FGXIxQyl0trnye1 on requests per day (RPD): Limit 10000, Used 10000, Requested 1. Please try again in 8.64s. Visit https://platform.openai.com/account/rate-limits to learn more.', 'type': 'requests', 'param': None, 'code': 'rate_limit_exceeded'}}\n",
      "isopropyl alcohol hepatic failure\n",
      "siponimod liver function test abnormal\n"
     ]
    },
    {
     "name": "stderr",
     "output_type": "stream",
     "text": [
      " 94%|█████████▎| 1772/1894 [29:16<03:29,  1.72s/it]"
     ]
    },
    {
     "name": "stdout",
     "output_type": "stream",
     "text": [
      "Encountered an exception for row: diroximel fumarate liver injury. Error message below:\n",
      "Error code: 429 - {'error': {'message': 'Rate limit reached for gpt-3.5-turbo in organization org-wi3cHq5g1FGXIxQyl0trnye1 on requests per day (RPD): Limit 10000, Used 10000, Requested 1. Please try again in 8.64s. Visit https://platform.openai.com/account/rate-limits to learn more.', 'type': 'requests', 'param': None, 'code': 'rate_limit_exceeded'}}\n",
      "siponimod myocardial infarction\n"
     ]
    },
    {
     "name": "stderr",
     "output_type": "stream",
     "text": [
      " 94%|█████████▎| 1773/1894 [29:17<03:07,  1.55s/it]"
     ]
    },
    {
     "name": "stdout",
     "output_type": "stream",
     "text": [
      "Encountered an exception for row: velmanase alfa acute kidney injury. Error message below:\n",
      "Error code: 429 - {'error': {'message': 'Rate limit reached for gpt-3.5-turbo in organization org-wi3cHq5g1FGXIxQyl0trnye1 on requests per day (RPD): Limit 10000, Used 10000, Requested 1. Please try again in 8.64s. Visit https://platform.openai.com/account/rate-limits to learn more.', 'type': 'requests', 'param': None, 'code': 'rate_limit_exceeded'}}\n",
      "doxazosin gastrointestinal haemorrhage\n"
     ]
    },
    {
     "name": "stderr",
     "output_type": "stream",
     "text": [
      " 94%|█████████▎| 1774/1894 [29:22<04:18,  2.15s/it]"
     ]
    },
    {
     "name": "stdout",
     "output_type": "stream",
     "text": [
      "Encountered an exception for row: dotatate renal failure. Error message below:\n",
      "Error code: 429 - {'error': {'message': 'Rate limit reached for gpt-3.5-turbo in organization org-wi3cHq5g1FGXIxQyl0trnye1 on requests per day (RPD): Limit 10000, Used 10000, Requested 1. Please try again in 8.64s. Visit https://platform.openai.com/account/rate-limits to learn more.', 'type': 'requests', 'param': None, 'code': 'rate_limit_exceeded'}}\n",
      "sargramostim liver injury\n",
      "Encountered an exception for row: relugolix acute kidney injury. Error message below:\n",
      "Error code: 429 - {'error': {'message': 'Rate limit reached for gpt-3.5-turbo in organization org-wi3cHq5g1FGXIxQyl0trnye1 on requests per day (RPD): Limit 10000, Used 10000, Requested 1. Please try again in 8.64s. Visit https://platform.openai.com/account/rate-limits to learn more.', 'type': 'requests', 'param': None, 'code': 'rate_limit_exceeded'}}\n",
      "avelumab renal impairment\n",
      "Encountered an exception for row: acetazolamide hepatic necrosis. Error message below:\n",
      "Error code: 429 - {'error': {'message': 'Rate limit reached for gpt-3.5-turbo in organization org-wi3cHq5g1FGXIxQyl0trnye1 on requests per day (RPD): Limit 10000, Used 10000, Requested 1. Please try again in 8.64s. Visit https://platform.openai.com/account/rate-limits to learn more.', 'type': 'requests', 'param': None, 'code': 'rate_limit_exceeded'}}\n",
      "encorafenib hepatotoxicity\n",
      "Encountered an exception for row: atezolizumab renal failure. Error message below:\n",
      "Error code: 429 - {'error': {'message': 'Rate limit reached for gpt-3.5-turbo in organization org-wi3cHq5g1FGXIxQyl0trnye1 on requests per day (RPD): Limit 10000, Used 10000, Requested 1. Please try again in 8.64s. Visit https://platform.openai.com/account/rate-limits to learn more.', 'type': 'requests', 'param': None, 'code': 'rate_limit_exceeded'}}\n",
      "encorafenib acute kidney injury\n"
     ]
    },
    {
     "name": "stderr",
     "output_type": "stream",
     "text": [
      " 94%|█████████▍| 1776/1894 [29:22<02:57,  1.51s/it]"
     ]
    },
    {
     "name": "stdout",
     "output_type": "stream",
     "text": [
      "Encountered an exception for row: cetuximab myocardial infarction. Error message below:\n",
      "Error code: 429 - {'error': {'message': 'Rate limit reached for gpt-3.5-turbo in organization org-wi3cHq5g1FGXIxQyl0trnye1 on requests per day (RPD): Limit 10000, Used 10000, Requested 1. Please try again in 8.64s. Visit https://platform.openai.com/account/rate-limits to learn more.', 'type': 'requests', 'param': None, 'code': 'rate_limit_exceeded'}}\n",
      "disopyramide myocardial infarction\n",
      "triamterene renal impairment\n"
     ]
    },
    {
     "name": "stderr",
     "output_type": "stream",
     "text": [
      " 94%|█████████▍| 1780/1894 [29:31<03:29,  1.83s/it]"
     ]
    },
    {
     "name": "stdout",
     "output_type": "stream",
     "text": [
      "Encountered an exception for row: isopropyl alcohol hepatic failure. Error message below:\n",
      "Error code: 429 - {'error': {'message': 'Rate limit reached for gpt-3.5-turbo in organization org-wi3cHq5g1FGXIxQyl0trnye1 on requests per day (RPD): Limit 10000, Used 10000, Requested 1. Please try again in 8.64s. Visit https://platform.openai.com/account/rate-limits to learn more.', 'type': 'requests', 'param': None, 'code': 'rate_limit_exceeded'}}\n",
      "tolcapone liver injury\n",
      "Encountered an exception for row: siponimod liver function test abnormal. Error message below:\n",
      "Error code: 429 - {'error': {'message': 'Rate limit reached for gpt-3.5-turbo in organization org-wi3cHq5g1FGXIxQyl0trnye1 on requests per day (RPD): Limit 10000, Used 10000, Requested 1. Please try again in 8.64s. Visit https://platform.openai.com/account/rate-limits to learn more.', 'type': 'requests', 'param': None, 'code': 'rate_limit_exceeded'}}\n",
      "flurbiprofen haematemesis\n",
      "busulfan hepatotoxicity\n"
     ]
    },
    {
     "name": "stderr",
     "output_type": "stream",
     "text": [
      " 94%|█████████▍| 1782/1894 [29:34<03:16,  1.76s/it]"
     ]
    },
    {
     "name": "stdout",
     "output_type": "stream",
     "text": [
      "Encountered an exception for row: siponimod myocardial infarction. Error message below:\n",
      "Error code: 429 - {'error': {'message': 'Rate limit reached for gpt-3.5-turbo in organization org-wi3cHq5g1FGXIxQyl0trnye1 on requests per day (RPD): Limit 10000, Used 10000, Requested 1. Please try again in 8.64s. Visit https://platform.openai.com/account/rate-limits to learn more.', 'type': 'requests', 'param': None, 'code': 'rate_limit_exceeded'}}\n",
      "buspirone myocardial infarction\n"
     ]
    },
    {
     "name": "stderr",
     "output_type": "stream",
     "text": [
      " 94%|█████████▍| 1783/1894 [29:35<02:53,  1.57s/it]"
     ]
    },
    {
     "name": "stdout",
     "output_type": "stream",
     "text": [
      "Encountered an exception for row: doxazosin gastrointestinal haemorrhage. Error message below:\n",
      "Error code: 429 - {'error': {'message': 'Rate limit reached for gpt-3.5-turbo in organization org-wi3cHq5g1FGXIxQyl0trnye1 on requests per day (RPD): Limit 10000, Used 10000, Requested 1. Please try again in 8.64s. Visit https://platform.openai.com/account/rate-limits to learn more.', 'type': 'requests', 'param': None, 'code': 'rate_limit_exceeded'}}\n",
      "nefazodone hepatic failure\n",
      "moxifloxacin hepatic failure\n"
     ]
    },
    {
     "name": "stderr",
     "output_type": "stream",
     "text": [
      " 94%|█████████▍| 1788/1894 [29:40<02:03,  1.17s/it]"
     ]
    },
    {
     "name": "stdout",
     "output_type": "stream",
     "text": [
      "Encountered an exception for row: avelumab renal impairment. Error message below:\n",
      "Error code: 429 - {'error': {'message': 'Rate limit reached for gpt-3.5-turbo in organization org-wi3cHq5g1FGXIxQyl0trnye1 on requests per day (RPD): Limit 10000, Used 10000, Requested 1. Please try again in 8.64s. Visit https://platform.openai.com/account/rate-limits to learn more.', 'type': 'requests', 'param': None, 'code': 'rate_limit_exceeded'}}\n",
      "moxifloxacin renal impairment\n",
      "Encountered an exception for row: encorafenib hepatotoxicity. Error message below:\n",
      "Error code: 429 - {'error': {'message': 'Rate limit reached for gpt-3.5-turbo in organization org-wi3cHq5g1FGXIxQyl0trnye1 on requests per day (RPD): Limit 10000, Used 10000, Requested 1. Please try again in 8.64s. Visit https://platform.openai.com/account/rate-limits to learn more.', 'type': 'requests', 'param': None, 'code': 'rate_limit_exceeded'}}\n",
      "azathioprine hepatotoxicity\n",
      "Encountered an exception for row: encorafenib acute kidney injury. Error message below:\n",
      "Error code: 429 - {'error': {'message': 'Rate limit reached for gpt-3.5-turbo in organization org-wi3cHq5g1FGXIxQyl0trnye1 on requests per day (RPD): Limit 10000, Used 10000, Requested 1. Please try again in 8.64s. Visit https://platform.openai.com/account/rate-limits to learn more.', 'type': 'requests', 'param': None, 'code': 'rate_limit_exceeded'}}\n",
      "mesalamine hepatic necrosis\n",
      "Encountered an exception for row: disopyramide myocardial infarction. Error message below:\n",
      "Error code: 429 - {'error': {'message': 'Rate limit reached for gpt-3.5-turbo in organization org-wi3cHq5g1FGXIxQyl0trnye1 on requests per day (RPD): Limit 10000, Used 10000, Requested 1. Please try again in 8.64s. Visit https://platform.openai.com/account/rate-limits to learn more.', 'type': 'requests', 'param': None, 'code': 'rate_limit_exceeded'}}\n",
      "fluoxetine hepatic failure\n",
      "Encountered an exception for row: triamterene renal impairment. Error message below:\n",
      "Error code: 429 - {'error': {'message': 'Rate limit reached for gpt-3.5-turbo in organization org-wi3cHq5g1FGXIxQyl0trnye1 on requests per day (RPD): Limit 10000, Used 10000, Requested 1. Please try again in 8.64s. Visit https://platform.openai.com/account/rate-limits to learn more.', 'type': 'requests', 'param': None, 'code': 'rate_limit_exceeded'}}\n",
      "sulindac gastrointestinal haemorrhage\n",
      "sulindac hepatic failure\n"
     ]
    },
    {
     "name": "stderr",
     "output_type": "stream",
     "text": [
      " 95%|█████████▍| 1792/1894 [29:49<02:33,  1.50s/it]"
     ]
    },
    {
     "name": "stdout",
     "output_type": "stream",
     "text": [
      "Encountered an exception for row: tolcapone liver injury. Error message below:Encountered an exception for row: flurbiprofen haematemesis. Error message below:\n",
      "Error code: 429 - {'error': {'message': 'Rate limit reached for gpt-3.5-turbo in organization org-wi3cHq5g1FGXIxQyl0trnye1 on requests per day (RPD): Limit 10000, Used 10000, Requested 1. Please try again in 8.64s. Visit https://platform.openai.com/account/rate-limits to learn more.', 'type': 'requests', 'param': None, 'code': 'rate_limit_exceeded'}}\n",
      "sulindac renal impairment\n",
      "\n",
      "Error code: 429 - {'error': {'message': 'Rate limit reached for gpt-3.5-turbo in organization org-wi3cHq5g1FGXIxQyl0trnye1 on requests per day (RPD): Limit 10000, Used 10000, Requested 1. Please try again in 8.64s. Visit https://platform.openai.com/account/rate-limits to learn more.', 'type': 'requests', 'param': None, 'code': 'rate_limit_exceeded'}}\n",
      "naproxen renal impairment\n",
      "Encountered an exception for row: busulfan hepatotoxicity. Error message below:\n",
      "Error code: 429 - {'error': {'message': 'Rate limit reached for gpt-3.5-turbo in organization org-wi3cHq5g1FGXIxQyl0trnye1 on requests per day (RPD): Limit 10000, Used 10000, Requested 1. Please try again in 8.64s. Visit https://platform.openai.com/account/rate-limits to learn more.', 'type': 'requests', 'param': None, 'code': 'rate_limit_exceeded'}}\n",
      "fenofibrate acute kidney injury\n"
     ]
    },
    {
     "name": "stderr",
     "output_type": "stream",
     "text": [
      " 95%|█████████▍| 1793/1894 [29:52<02:54,  1.73s/it]"
     ]
    },
    {
     "name": "stdout",
     "output_type": "stream",
     "text": [
      "Encountered an exception for row: buspirone myocardial infarction. Error message below:\n",
      "Error code: 429 - {'error': {'message': 'Rate limit reached for gpt-3.5-turbo in organization org-wi3cHq5g1FGXIxQyl0trnye1 on requests per day (RPD): Limit 10000, Used 10000, Requested 1. Please try again in 8.64s. Visit https://platform.openai.com/account/rate-limits to learn more.', 'type': 'requests', 'param': None, 'code': 'rate_limit_exceeded'}}\n",
      "rivastigmine acute kidney injury\n",
      "rifampin renal failure\n"
     ]
    },
    {
     "name": "stderr",
     "output_type": "stream",
     "text": [
      " 95%|█████████▍| 1797/1894 [29:58<02:28,  1.53s/it]"
     ]
    },
    {
     "name": "stdout",
     "output_type": "stream",
     "text": [
      "Encountered an exception for row: moxifloxacin renal impairment. Error message below:\n",
      "Error code: 429 - {'error': {'message': 'Rate limit reached for gpt-3.5-turbo in organization org-wi3cHq5g1FGXIxQyl0trnye1 on requests per day (RPD): Limit 10000, Used 10000, Requested 1. Please try again in 8.64s. Visit https://platform.openai.com/account/rate-limits to learn more.', 'type': 'requests', 'param': None, 'code': 'rate_limit_exceeded'}}\n",
      "ethambutol liver function test abnormal\n",
      "Encountered an exception for row: azathioprine hepatotoxicity. Error message below:\n",
      "Error code: 429 - {'error': {'message': 'Rate limit reached for gpt-3.5-turbo in organization org-wi3cHq5g1FGXIxQyl0trnye1 on requests per day (RPD): Limit 10000, Used 10000, Requested 1. Please try again in 8.64s. Visit https://platform.openai.com/account/rate-limits to learn more.', 'type': 'requests', 'param': None, 'code': 'rate_limit_exceeded'}}\n",
      "quetiapine haematemesis\n",
      "Encountered an exception for row: mesalamine hepatic necrosis. Error message below:\n",
      "Error code: 429 - {'error': {'message': 'Rate limit reached for gpt-3.5-turbo in organization org-wi3cHq5g1FGXIxQyl0trnye1 on requests per day (RPD): Limit 10000, Used 10000, Requested 1. Please try again in 8.64s. Visit https://platform.openai.com/account/rate-limits to learn more.', 'type': 'requests', 'param': None, 'code': 'rate_limit_exceeded'}}\n",
      "lorazepam liver function test abnormal\n",
      "Encountered an exception for row: sulindac gastrointestinal haemorrhage. Error message below:\n",
      "Error code: 429 - {'error': {'message': 'Rate limit reached for gpt-3.5-turbo in organization org-wi3cHq5g1FGXIxQyl0trnye1 on requests per day (RPD): Limit 10000, Used 10000, Requested 1. Please try again in 8.64s. Visit https://platform.openai.com/account/rate-limits to learn more.', 'type': 'requests', 'param': None, 'code': 'rate_limit_exceeded'}}\n",
      "fenofibrate myocardial infarction\n",
      "Encountered an exception for row: fluoxetine hepatic failure. Error message below:\n",
      "Error code: 429 - {'error': {'message': 'Rate limit reached for gpt-3.5-turbo in organization org-wi3cHq5g1FGXIxQyl0trnye1 on requests per day (RPD): Limit 10000, Used 10000, Requested 1. Please try again in 8.64s. Visit https://platform.openai.com/account/rate-limits to learn more.', 'type': 'requests', 'param': None, 'code': 'rate_limit_exceeded'}}\n",
      "ribavirin gastrointestinal haemorrhage\n",
      "indinavir myocardial infarction\n"
     ]
    },
    {
     "name": "stderr",
     "output_type": "stream",
     "text": [
      " 95%|█████████▌| 1801/1894 [30:02<02:00,  1.29s/it]"
     ]
    },
    {
     "name": "stdout",
     "output_type": "stream",
     "text": [
      "Encountered an exception for row: sulindac hepatic failure. Error message below:\n",
      "Error code: 429 - {'error': {'message': 'Rate limit reached for gpt-3.5-turbo in organization org-wi3cHq5g1FGXIxQyl0trnye1 on requests per day (RPD): Limit 10000, Used 10000, Requested 1. Please try again in 8.64s. Visit https://platform.openai.com/account/rate-limits to learn more.', 'type': 'requests', 'param': None, 'code': 'rate_limit_exceeded'}}\n",
      "indinavir renal failure\n"
     ]
    },
    {
     "name": "stderr",
     "output_type": "stream",
     "text": [
      " 95%|█████████▌| 1802/1894 [30:07<02:46,  1.81s/it]"
     ]
    },
    {
     "name": "stdout",
     "output_type": "stream",
     "text": [
      "Encountered an exception for row: sulindac renal impairment. Error message below:\n",
      "Error code: 429 - {'error': {'message': 'Rate limit reached for gpt-3.5-turbo in organization org-wi3cHq5g1FGXIxQyl0trnye1 on requests per day (RPD): Limit 10000, Used 10000, Requested 1. Please try again in 8.64s. Visit https://platform.openai.com/account/rate-limits to learn more.', 'type': 'requests', 'param': None, 'code': 'rate_limit_exceeded'}}\n",
      "etodolac gastrointestinal haemorrhage\n",
      "Encountered an exception for row: naproxen renal impairment. Error message below:\n",
      "Error code: 429 - {'error': {'message': 'Rate limit reached for gpt-3.5-turbo in organization org-wi3cHq5g1FGXIxQyl0trnye1 on requests per day (RPD): Limit 10000, Used 10000, Requested 1. Please try again in 8.64s. Visit https://platform.openai.com/account/rate-limits to learn more.', 'type': 'requests', 'param': None, 'code': 'rate_limit_exceeded'}}\n",
      "ibuprofen haematemesis\n",
      "Encountered an exception for row: fenofibrate acute kidney injury. Error message below:\n",
      "Error code: 429 - {'error': {'message': 'Rate limit reached for gpt-3.5-turbo in organization org-wi3cHq5g1FGXIxQyl0trnye1 on requests per day (RPD): Limit 10000, Used 10000, Requested 1. Please try again in 8.64s. Visit https://platform.openai.com/account/rate-limits to learn more.', 'type': 'requests', 'param': None, 'code': 'rate_limit_exceeded'}}\n",
      "ropinirole myocardial infarction\n",
      "flecainide hepatic failure\n"
     ]
    },
    {
     "name": "stderr",
     "output_type": "stream",
     "text": [
      " 95%|█████████▌| 1807/1894 [30:16<02:34,  1.78s/it]"
     ]
    },
    {
     "name": "stdout",
     "output_type": "stream",
     "text": [
      "Encountered an exception for row: ethambutol liver function test abnormal. Error message below:\n",
      "Error code: 429 - {'error': {'message': 'Rate limit reached for gpt-3.5-turbo in organization org-wi3cHq5g1FGXIxQyl0trnye1 on requests per day (RPD): Limit 10000, Used 10000, Requested 1. Please try again in 8.64s. Visit https://platform.openai.com/account/rate-limits to learn more.', 'type': 'requests', 'param': None, 'code': 'rate_limit_exceeded'}}\n",
      "cilostazol liver function test abnormal\n",
      "Encountered an exception for row: quetiapine haematemesis. Error message below:\n",
      "Error code: 429 - {'error': {'message': 'Rate limit reached for gpt-3.5-turbo in organization org-wi3cHq5g1FGXIxQyl0trnye1 on requests per day (RPD): Limit 10000, Used 10000, Requested 1. Please try again in 8.64s. Visit https://platform.openai.com/account/rate-limits to learn more.', 'type': 'requests', 'param': None, 'code': 'rate_limit_exceeded'}}\n",
      "galantamine hepatic enzyme increased\n",
      "Encountered an exception for row: lorazepam liver function test abnormal. Error message below:\n",
      "Error code: 429 - {'error': {'message': 'Rate limit reached for gpt-3.5-turbo in organization org-wi3cHq5g1FGXIxQyl0trnye1 on requests per day (RPD): Limit 10000, Used 10000, Requested 1. Please try again in 8.64s. Visit https://platform.openai.com/account/rate-limits to learn more.', 'type': 'requests', 'param': None, 'code': 'rate_limit_exceeded'}}\n",
      "vancomycin renal impairment\n",
      "Encountered an exception for row: ribavirin gastrointestinal haemorrhage. Error message below:\n",
      "Error code: 429 - {'error': {'message': 'Rate limit reached for gpt-3.5-turbo in organization org-wi3cHq5g1FGXIxQyl0trnye1 on requests per day (RPD): Limit 10000, Used 10000, Requested 1. Please try again in 8.64s. Visit https://platform.openai.com/account/rate-limits to learn more.', 'type': 'requests', 'param': None, 'code': 'rate_limit_exceeded'}}\n",
      "mycophenolate mofetil gastrointestinal haemorrhage\n"
     ]
    },
    {
     "name": "stderr",
     "output_type": "stream",
     "text": [
      " 96%|█████████▌| 1810/1894 [30:16<01:45,  1.26s/it]"
     ]
    },
    {
     "name": "stdout",
     "output_type": "stream",
     "text": [
      "Encountered an exception for row: fenofibrate myocardial infarction. Error message below:\n",
      "Error code: 429 - {'error': {'message': 'Rate limit reached for gpt-3.5-turbo in organization org-wi3cHq5g1FGXIxQyl0trnye1 on requests per day (RPD): Limit 10000, Used 10000, Requested 1. Please try again in 8.64s. Visit https://platform.openai.com/account/rate-limits to learn more.', 'type': 'requests', 'param': None, 'code': 'rate_limit_exceeded'}}\n",
      "levofloxacin renal failure\n"
     ]
    },
    {
     "name": "stderr",
     "output_type": "stream",
     "text": [
      " 96%|█████████▌| 1813/1894 [30:20<01:46,  1.31s/it]"
     ]
    },
    {
     "name": "stdout",
     "output_type": "stream",
     "text": [
      "valsartan hepatic enzyme increased\n"
     ]
    },
    {
     "name": "stderr",
     "output_type": "stream",
     "text": [
      " 96%|█████████▌| 1814/1894 [30:25<02:17,  1.72s/it]"
     ]
    },
    {
     "name": "stdout",
     "output_type": "stream",
     "text": [
      "Encountered an exception for row: ibuprofen haematemesis. Error message below:\n",
      "Error code: 429 - {'error': {'message': 'Rate limit reached for gpt-3.5-turbo in organization org-wi3cHq5g1FGXIxQyl0trnye1 on requests per day (RPD): Limit 10000, Used 10000, Requested 1. Please try again in 8.64s. Visit https://platform.openai.com/account/rate-limits to learn more.', 'type': 'requests', 'param': None, 'code': 'rate_limit_exceeded'}}\n",
      "glyburide hepatic failure\n",
      "Encountered an exception for row: etodolac gastrointestinal haemorrhage. Error message below:\n",
      "Error code: 429 - {'error': {'message': 'Rate limit reached for gpt-3.5-turbo in organization org-wi3cHq5g1FGXIxQyl0trnye1 on requests per day (RPD): Limit 10000, Used 10000, Requested 1. Please try again in 8.64s. Visit https://platform.openai.com/account/rate-limits to learn more.', 'type': 'requests', 'param': None, 'code': 'rate_limit_exceeded'}}\n",
      "valacyclovir renal failure\n",
      "Encountered an exception for row: ropinirole myocardial infarction. Error message below:\n",
      "Error code: 429 - {'error': {'message': 'Rate limit reached for gpt-3.5-turbo in organization org-wi3cHq5g1FGXIxQyl0trnye1 on requests per day (RPD): Limit 10000, Used 10000, Requested 1. Please try again in 8.64s. Visit https://platform.openai.com/account/rate-limits to learn more.', 'type': 'requests', 'param': None, 'code': 'rate_limit_exceeded'}}\n",
      "valacyclovir acute kidney injury\n"
     ]
    },
    {
     "name": "stderr",
     "output_type": "stream",
     "text": [
      " 96%|█████████▌| 1817/1894 [30:29<02:05,  1.63s/it]"
     ]
    },
    {
     "name": "stdout",
     "output_type": "stream",
     "text": [
      "famciclovir acute kidney injury\n"
     ]
    },
    {
     "name": "stderr",
     "output_type": "stream",
     "text": [
      " 96%|█████████▌| 1821/1894 [30:34<01:32,  1.27s/it]"
     ]
    },
    {
     "name": "stdout",
     "output_type": "stream",
     "text": [
      "Encountered an exception for row: vancomycin renal impairment. Error message below:\n",
      "Error code: 429 - {'error': {'message': 'Rate limit reached for gpt-3.5-turbo in organization org-wi3cHq5g1FGXIxQyl0trnye1 on requests per day (RPD): Limit 10000, Used 10000, Requested 1. Please try again in 8.64s. Visit https://platform.openai.com/account/rate-limits to learn more.', 'type': 'requests', 'param': None, 'code': 'rate_limit_exceeded'}}\n",
      "fenofibrate hepatic enzyme increased\n",
      "Encountered an exception for row: cilostazol liver function test abnormal. Error message below:\n",
      "Error code: 429 - {'error': {'message': 'Rate limit reached for gpt-3.5-turbo in organization org-wi3cHq5g1FGXIxQyl0trnye1 on requests per day (RPD): Limit 10000, Used 10000, Requested 1. Please try again in 8.64s. Visit https://platform.openai.com/account/rate-limits to learn more.', 'type': 'requests', 'param': None, 'code': 'rate_limit_exceeded'}}\n",
      "telmisartan myocardial infarction\n",
      "Encountered an exception for row: galantamine hepatic enzyme increased. Error message below:\n",
      "Error code: 429 - {'error': {'message': 'Rate limit reached for gpt-3.5-turbo in organization org-wi3cHq5g1FGXIxQyl0trnye1 on requests per day (RPD): Limit 10000, Used 10000, Requested 1. Please try again in 8.64s. Visit https://platform.openai.com/account/rate-limits to learn more.', 'type': 'requests', 'param': None, 'code': 'rate_limit_exceeded'}}\n",
      "escitalopram acute kidney injury\n",
      "Encountered an exception for row: mycophenolate mofetil gastrointestinal haemorrhage. Error message below:\n",
      "Error code: 429 - {'error': {'message': 'Rate limit reached for gpt-3.5-turbo in organization org-wi3cHq5g1FGXIxQyl0trnye1 on requests per day (RPD): Limit 10000, Used 10000, Requested 1. Please try again in 8.64s. Visit https://platform.openai.com/account/rate-limits to learn more.', 'type': 'requests', 'param': None, 'code': 'rate_limit_exceeded'}}\n",
      "fluconazole hepatocellular injury\n",
      "Encountered an exception for row: levofloxacin renal failure. Error message below:\n",
      "Error code: 429 - {'error': {'message': 'Rate limit reached for gpt-3.5-turbo in organization org-wi3cHq5g1FGXIxQyl0trnye1 on requests per day (RPD): Limit 10000, Used 10000, Requested 1. Please try again in 8.64s. Visit https://platform.openai.com/account/rate-limits to learn more.', 'type': 'requests', 'param': None, 'code': 'rate_limit_exceeded'}}\n",
      "maraviroc hepatotoxicity\n"
     ]
    },
    {
     "name": "stderr",
     "output_type": "stream",
     "text": [
      " 96%|█████████▋| 1823/1894 [30:38<01:48,  1.53s/it]"
     ]
    },
    {
     "name": "stdout",
     "output_type": "stream",
     "text": [
      "candesartan myocardial infarction\n"
     ]
    },
    {
     "name": "stderr",
     "output_type": "stream",
     "text": [
      " 96%|█████████▋| 1824/1894 [30:42<02:18,  1.98s/it]"
     ]
    },
    {
     "name": "stdout",
     "output_type": "stream",
     "text": [
      "Encountered an exception for row: glyburide hepatic failure. Error message below:\n",
      "Error code: 429 - {'error': {'message': 'Rate limit reached for gpt-3.5-turbo in organization org-wi3cHq5g1FGXIxQyl0trnye1 on requests per day (RPD): Limit 10000, Used 10000, Requested 1. Please try again in 8.64s. Visit https://platform.openai.com/account/rate-limits to learn more.', 'type': 'requests', 'param': None, 'code': 'rate_limit_exceeded'}}\n",
      "valsartan renal failure\n",
      "Encountered an exception for row: valacyclovir acute kidney injury. Error message below:\n",
      "Error code: 429 - {'error': {'message': 'Rate limit reached for gpt-3.5-turbo in organization org-wi3cHq5g1FGXIxQyl0trnye1 on requests per day (RPD): Limit 10000, Used 10000, Requested 1. Please try again in 8.64s. Visit https://platform.openai.com/account/rate-limits to learn more.', 'type': 'requests', 'param': None, 'code': 'rate_limit_exceeded'}}\n",
      "tizanidine hepatotoxicity\n",
      "Encountered an exception for row: valacyclovir renal failure. Error message below:\n",
      "Error code: 429 - {'error': {'message': 'Rate limit reached for gpt-3.5-turbo in organization org-wi3cHq5g1FGXIxQyl0trnye1 on requests per day (RPD): Limit 10000, Used 10000, Requested 1. Please try again in 8.64s. Visit https://platform.openai.com/account/rate-limits to learn more.', 'type': 'requests', 'param': None, 'code': 'rate_limit_exceeded'}}\n",
      "phenytoin acute hepatic failure\n"
     ]
    },
    {
     "name": "stderr",
     "output_type": "stream",
     "text": [
      " 96%|█████████▋| 1827/1894 [30:47<02:01,  1.81s/it]"
     ]
    },
    {
     "name": "stdout",
     "output_type": "stream",
     "text": [
      "ceftriaxone acute kidney injury\n"
     ]
    },
    {
     "name": "stderr",
     "output_type": "stream",
     "text": [
      " 97%|█████████▋| 1831/1894 [30:51<01:23,  1.32s/it]"
     ]
    },
    {
     "name": "stdout",
     "output_type": "stream",
     "text": [
      "Encountered an exception for row: telmisartan myocardial infarction. Error message below:\n",
      "Error code: 429 - {'error': {'message': 'Rate limit reached for gpt-3.5-turbo in organization org-wi3cHq5g1FGXIxQyl0trnye1 on requests per day (RPD): Limit 10000, Used 10000, Requested 1. Please try again in 8.64s. Visit https://platform.openai.com/account/rate-limits to learn more.', 'type': 'requests', 'param': None, 'code': 'rate_limit_exceeded'}}\n",
      "meropenem renal impairment\n",
      "Encountered an exception for row: escitalopram acute kidney injury. Error message below:\n",
      "Error code: 429 - {'error': {'message': 'Rate limit reached for gpt-3.5-turbo in organization org-wi3cHq5g1FGXIxQyl0trnye1 on requests per day (RPD): Limit 10000, Used 10000, Requested 1. Please try again in 8.64s. Visit https://platform.openai.com/account/rate-limits to learn more.', 'type': 'requests', 'param': None, 'code': 'rate_limit_exceeded'}}\n",
      "carboplatin liver function test abnormal\n",
      "Encountered an exception for row: fenofibrate hepatic enzyme increased. Error message below:\n",
      "Error code: 429 - {'error': {'message': 'Rate limit reached for gpt-3.5-turbo in organization org-wi3cHq5g1FGXIxQyl0trnye1 on requests per day (RPD): Limit 10000, Used 10000, Requested 1. Please try again in 8.64s. Visit https://platform.openai.com/account/rate-limits to learn more.', 'type': 'requests', 'param': None, 'code': 'rate_limit_exceeded'}}\n",
      "paclitaxel myocardial infarction\n",
      "Encountered an exception for row: maraviroc hepatotoxicity. Error message below:\n",
      "Error code: 429 - {'error': {'message': 'Rate limit reached for gpt-3.5-turbo in organization org-wi3cHq5g1FGXIxQyl0trnye1 on requests per day (RPD): Limit 10000, Used 10000, Requested 1. Please try again in 8.64s. Visit https://platform.openai.com/account/rate-limits to learn more.', 'type': 'requests', 'param': None, 'code': 'rate_limit_exceeded'}}\n",
      "zoledronic acid renal failure\n",
      "Encountered an exception for row: fluconazole hepatocellular injury. Error message below:\n",
      "Error code: 429 - {'error': {'message': 'Rate limit reached for gpt-3.5-turbo in organization org-wi3cHq5g1FGXIxQyl0trnye1 on requests per day (RPD): Limit 10000, Used 10000, Requested 1. Please try again in 8.64s. Visit https://platform.openai.com/account/rate-limits to learn more.', 'type': 'requests', 'param': None, 'code': 'rate_limit_exceeded'}}\n",
      "oxaliplatin hepatotoxicity\n"
     ]
    },
    {
     "name": "stderr",
     "output_type": "stream",
     "text": [
      " 97%|█████████▋| 1833/1894 [30:56<01:37,  1.60s/it]"
     ]
    },
    {
     "name": "stdout",
     "output_type": "stream",
     "text": [
      "oxacillin renal failure\n"
     ]
    },
    {
     "name": "stderr",
     "output_type": "stream",
     "text": [
      " 97%|█████████▋| 1834/1894 [31:00<02:02,  2.04s/it]"
     ]
    },
    {
     "name": "stdout",
     "output_type": "stream",
     "text": [
      "Encountered an exception for row: tizanidine hepatotoxicity. Error message below:Encountered an exception for row: phenytoin acute hepatic failure. Error message below:\n",
      "Error code: 429 - {'error': {'message': 'Rate limit reached for gpt-3.5-turbo in organization org-wi3cHq5g1FGXIxQyl0trnye1 on requests per day (RPD): Limit 10000, Used 10000, Requested 1. Please try again in 8.64s. Visit https://platform.openai.com/account/rate-limits to learn more.', 'type': 'requests', 'param': None, 'code': 'rate_limit_exceeded'}}\n",
      "solifenacin liver function test abnormal\n",
      "\n",
      "Error code: 429 - {'error': {'message': 'Rate limit reached for gpt-3.5-turbo in organization org-wi3cHq5g1FGXIxQyl0trnye1 on requests per day (RPD): Limit 10000, Used 10000, Requested 1. Please try again in 8.64s. Visit https://platform.openai.com/account/rate-limits to learn more.', 'type': 'requests', 'param': None, 'code': 'rate_limit_exceeded'}}\n",
      "ifosfamide myocardial infarction\n",
      "Encountered an exception for row: valsartan renal failure. Error message below:\n",
      "Error code: 429 - {'error': {'message': 'Rate limit reached for gpt-3.5-turbo in organization org-wi3cHq5g1FGXIxQyl0trnye1 on requests per day (RPD): Limit 10000, Used 10000, Requested 1. Please try again in 8.64s. Visit https://platform.openai.com/account/rate-limits to learn more.', 'type': 'requests', 'param': None, 'code': 'rate_limit_exceeded'}}\n",
      "clobazam hepatic enzyme increased\n"
     ]
    },
    {
     "name": "stderr",
     "output_type": "stream",
     "text": [
      " 97%|█████████▋| 1837/1894 [31:05<01:45,  1.86s/it]"
     ]
    },
    {
     "name": "stdout",
     "output_type": "stream",
     "text": [
      "erlotinib hepatotoxicity\n"
     ]
    },
    {
     "name": "stderr",
     "output_type": "stream",
     "text": [
      " 97%|█████████▋| 1841/1894 [31:09<01:10,  1.32s/it]"
     ]
    },
    {
     "name": "stdout",
     "output_type": "stream",
     "text": [
      "Encountered an exception for row: meropenem renal impairment. Error message below:\n",
      "Error code: 429 - {'error': {'message': 'Rate limit reached for gpt-3.5-turbo in organization org-wi3cHq5g1FGXIxQyl0trnye1 on requests per day (RPD): Limit 10000, Used 10000, Requested 1. Please try again in 8.64s. Visit https://platform.openai.com/account/rate-limits to learn more.', 'type': 'requests', 'param': None, 'code': 'rate_limit_exceeded'}}\n",
      "ritonavir hepatotoxicity\n",
      "Encountered an exception for row: carboplatin liver function test abnormal. Error message below:\n",
      "Error code: 429 - {'error': {'message': 'Rate limit reached for gpt-3.5-turbo in organization org-wi3cHq5g1FGXIxQyl0trnye1 on requests per day (RPD): Limit 10000, Used 10000, Requested 1. Please try again in 8.64s. Visit https://platform.openai.com/account/rate-limits to learn more.', 'type': 'requests', 'param': None, 'code': 'rate_limit_exceeded'}}\n",
      "cefotetan renal impairment\n",
      "Encountered an exception for row: paclitaxel myocardial infarction. Error message below:\n",
      "Error code: 429 - {'error': {'message': 'Rate limit reached for gpt-3.5-turbo in organization org-wi3cHq5g1FGXIxQyl0trnye1 on requests per day (RPD): Limit 10000, Used 10000, Requested 1. Please try again in 8.64s. Visit https://platform.openai.com/account/rate-limits to learn more.', 'type': 'requests', 'param': None, 'code': 'rate_limit_exceeded'}}\n",
      "aldesleukin acute kidney injury\n",
      "Encountered an exception for row: zoledronic acid renal failure. Error message below:\n",
      "Error code: 429 - {'error': {'message': 'Rate limit reached for gpt-3.5-turbo in organization org-wi3cHq5g1FGXIxQyl0trnye1 on requests per day (RPD): Limit 10000, Used 10000, Requested 1. Please try again in 8.64s. Visit https://platform.openai.com/account/rate-limits to learn more.', 'type': 'requests', 'param': None, 'code': 'rate_limit_exceeded'}}\n",
      "docetaxel liver function test abnormal\n",
      "Encountered an exception for row: oxaliplatin hepatotoxicity. Error message below:\n",
      "Error code: 429 - {'error': {'message': 'Rate limit reached for gpt-3.5-turbo in organization org-wi3cHq5g1FGXIxQyl0trnye1 on requests per day (RPD): Limit 10000, Used 10000, Requested 1. Please try again in 8.64s. Visit https://platform.openai.com/account/rate-limits to learn more.', 'type': 'requests', 'param': None, 'code': 'rate_limit_exceeded'}}\n",
      "bosentan hepatic failure\n"
     ]
    },
    {
     "name": "stderr",
     "output_type": "stream",
     "text": [
      " 97%|█████████▋| 1843/1894 [31:14<01:22,  1.62s/it]"
     ]
    },
    {
     "name": "stdout",
     "output_type": "stream",
     "text": [
      "cytarabine liver injury\n"
     ]
    },
    {
     "name": "stderr",
     "output_type": "stream",
     "text": [
      " 97%|█████████▋| 1844/1894 [31:18<01:41,  2.04s/it]"
     ]
    },
    {
     "name": "stdout",
     "output_type": "stream",
     "text": [
      "Encountered an exception for row: solifenacin liver function test abnormal. Error message below:\n",
      "Error code: 429 - {'error': {'message': 'Rate limit reached for gpt-3.5-turbo in organization org-wi3cHq5g1FGXIxQyl0trnye1 on requests per day (RPD): Limit 10000, Used 10000, Requested 1. Please try again in 8.64s. Visit https://platform.openai.com/account/rate-limits to learn more.', 'type': 'requests', 'param': None, 'code': 'rate_limit_exceeded'}}\n",
      "dexmedetomidine renal failure\n",
      "Encountered an exception for row: ifosfamide myocardial infarction. Error message below:\n",
      "Error code: 429 - {'error': {'message': 'Rate limit reached for gpt-3.5-turbo in organization org-wi3cHq5g1FGXIxQyl0trnye1 on requests per day (RPD): Limit 10000, Used 10000, Requested 1. Please try again in 8.64s. Visit https://platform.openai.com/account/rate-limits to learn more.', 'type': 'requests', 'param': None, 'code': 'rate_limit_exceeded'}}\n",
      "inotuzumab ozogamicin gastrointestinal haemorrhage\n",
      "Encountered an exception for row: clobazam hepatic enzyme increased. Error message below:\n",
      "Error code: 429 - {'error': {'message': 'Rate limit reached for gpt-3.5-turbo in organization org-wi3cHq5g1FGXIxQyl0trnye1 on requests per day (RPD): Limit 10000, Used 10000, Requested 1. Please try again in 8.64s. Visit https://platform.openai.com/account/rate-limits to learn more.', 'type': 'requests', 'param': None, 'code': 'rate_limit_exceeded'}}\n",
      "rifampin hepatotoxicity\n"
     ]
    },
    {
     "name": "stderr",
     "output_type": "stream",
     "text": [
      " 98%|█████████▊| 1847/1894 [31:23<01:28,  1.89s/it]"
     ]
    },
    {
     "name": "stdout",
     "output_type": "stream",
     "text": [
      "cyclophosphamide hepatotoxicity\n"
     ]
    },
    {
     "name": "stderr",
     "output_type": "stream",
     "text": [
      " 98%|█████████▊| 1851/1894 [31:27<00:55,  1.30s/it]"
     ]
    },
    {
     "name": "stdout",
     "output_type": "stream",
     "text": [
      "Encountered an exception for row: aldesleukin acute kidney injury. Error message below:\n",
      "Error code: 429 - {'error': {'message': 'Rate limit reached for gpt-3.5-turbo in organization org-wi3cHq5g1FGXIxQyl0trnye1 on requests per day (RPD): Limit 10000, Used 10000, Requested 1. Please try again in 8.64s. Visit https://platform.openai.com/account/rate-limits to learn more.', 'type': 'requests', 'param': None, 'code': 'rate_limit_exceeded'}}\n",
      "methylphenidate myocardial infarction\n",
      "Encountered an exception for row: ritonavir hepatotoxicity. Error message below:\n",
      "Error code: 429 - {'error': {'message': 'Rate limit reached for gpt-3.5-turbo in organization org-wi3cHq5g1FGXIxQyl0trnye1 on requests per day (RPD): Limit 10000, Used 10000, Requested 1. Please try again in 8.64s. Visit https://platform.openai.com/account/rate-limits to learn more.', 'type': 'requests', 'param': None, 'code': 'rate_limit_exceeded'}}\n",
      "epoprostenol hepatic failure\n",
      "Encountered an exception for row: cefotetan renal impairment. Error message below:\n",
      "Error code: 429 - {'error': {'message': 'Rate limit reached for gpt-3.5-turbo in organization org-wi3cHq5g1FGXIxQyl0trnye1 on requests per day (RPD): Limit 10000, Used 10000, Requested 1. Please try again in 8.64s. Visit https://platform.openai.com/account/rate-limits to learn more.', 'type': 'requests', 'param': None, 'code': 'rate_limit_exceeded'}}\n",
      "cefpodoxime renal impairment\n",
      "Encountered an exception for row: docetaxel liver function test abnormal. Error message below:\n",
      "Error code: 429 - {'error': {'message': 'Rate limit reached for gpt-3.5-turbo in organization org-wi3cHq5g1FGXIxQyl0trnye1 on requests per day (RPD): Limit 10000, Used 10000, Requested 1. Please try again in 8.64s. Visit https://platform.openai.com/account/rate-limits to learn more.', 'type': 'requests', 'param': None, 'code': 'rate_limit_exceeded'}}\n",
      "alirocumab hepatic enzyme abnormal\n"
     ]
    },
    {
     "name": "stderr",
     "output_type": "stream",
     "text": [
      " 98%|█████████▊| 1852/1894 [31:27<00:47,  1.14s/it]"
     ]
    },
    {
     "name": "stdout",
     "output_type": "stream",
     "text": [
      "paroxetine liver injury\n"
     ]
    },
    {
     "name": "stderr",
     "output_type": "stream",
     "text": [
      " 98%|█████████▊| 1853/1894 [31:32<01:12,  1.78s/it]"
     ]
    },
    {
     "name": "stdout",
     "output_type": "stream",
     "text": [
      "Encountered an exception for row: cytarabine liver injury. Error message below:\n",
      "Error code: 429 - {'error': {'message': 'Rate limit reached for gpt-3.5-turbo in organization org-wi3cHq5g1FGXIxQyl0trnye1 on requests per day (RPD): Limit 10000, Used 10000, Requested 1. Please try again in 8.64s. Visit https://platform.openai.com/account/rate-limits to learn more.', 'type': 'requests', 'param': None, 'code': 'rate_limit_exceeded'}}\n",
      "arsenic trioxide renal impairment\n"
     ]
    },
    {
     "name": "stderr",
     "output_type": "stream",
     "text": [
      " 98%|█████████▊| 1854/1894 [31:36<01:30,  2.27s/it]"
     ]
    },
    {
     "name": "stdout",
     "output_type": "stream",
     "text": [
      "Encountered an exception for row: dexmedetomidine renal failure. Error message below:\n",
      "Error code: 429 - {'error': {'message': 'Rate limit reached for gpt-3.5-turbo in organization org-wi3cHq5g1FGXIxQyl0trnye1 on requests per day (RPD): Limit 10000, Used 10000, Requested 1. Please try again in 8.64s. Visit https://platform.openai.com/account/rate-limits to learn more.', 'type': 'requests', 'param': None, 'code': 'rate_limit_exceeded'}}\n",
      "panobinostat renal failure\n",
      "Encountered an exception for row: inotuzumab ozogamicin gastrointestinal haemorrhage. Error message below:\n",
      "Error code: 429 - {'error': {'message': 'Rate limit reached for gpt-3.5-turbo in organization org-wi3cHq5g1FGXIxQyl0trnye1 on requests per day (RPD): Limit 10000, Used 10000, Requested 1. Please try again in 8.64s. Visit https://platform.openai.com/account/rate-limits to learn more.', 'type': 'requests', 'param': None, 'code': 'rate_limit_exceeded'}}\n",
      "sirolimus hepatic necrosis\n",
      "Encountered an exception for row: rifampin hepatotoxicity. Error message below:\n",
      "Error code: 429 - {'error': {'message': 'Rate limit reached for gpt-3.5-turbo in organization org-wi3cHq5g1FGXIxQyl0trnye1 on requests per day (RPD): Limit 10000, Used 10000, Requested 1. Please try again in 8.64s. Visit https://platform.openai.com/account/rate-limits to learn more.', 'type': 'requests', 'param': None, 'code': 'rate_limit_exceeded'}}\n",
      "peginterferon alfa-2a liver function test abnormal\n",
      "ertapenem gastrointestinal haemorrhage\n"
     ]
    },
    {
     "name": "stderr",
     "output_type": "stream",
     "text": [
      " 98%|█████████▊| 1857/1894 [31:41<01:13,  1.99s/it]"
     ]
    },
    {
     "name": "stdout",
     "output_type": "stream",
     "text": [
      "Encountered an exception for row: cyclophosphamide hepatotoxicity. Error message below:\n",
      "Error code: 429 - {'error': {'message': 'Rate limit reached for gpt-3.5-turbo in organization org-wi3cHq5g1FGXIxQyl0trnye1 on requests per day (RPD): Limit 10000, Used 10000, Requested 1. Please try again in 8.64s. Visit https://platform.openai.com/account/rate-limits to learn more.', 'type': 'requests', 'param': None, 'code': 'rate_limit_exceeded'}}\n",
      "leuprolide liver function test abnormal\n",
      "Encountered an exception for row: cefpodoxime renal impairment. Error message below:\n",
      "Error code: 429 - {'error': {'message': 'Rate limit reached for gpt-3.5-turbo in organization org-wi3cHq5g1FGXIxQyl0trnye1 on requests per day (RPD): Limit 10000, Used 10000, Requested 1. Please try again in 8.64s. Visit https://platform.openai.com/account/rate-limits to learn more.', 'type': 'requests', 'param': None, 'code': 'rate_limit_exceeded'}}\n",
      "lenalidomide hepatotoxicity\n",
      "Encountered an exception for row: alirocumab hepatic enzyme abnormal. Error message below:\n",
      "Error code: 429 - {'error': {'message': 'Rate limit reached for gpt-3.5-turbo in organization org-wi3cHq5g1FGXIxQyl0trnye1 on requests per day (RPD): Limit 10000, Used 10000, Requested 1. Please try again in 8.64s. Visit https://platform.openai.com/account/rate-limits to learn more.', 'type': 'requests', 'param': None, 'code': 'rate_limit_exceeded'}}\n",
      "lenalidomide acute kidney injury\n"
     ]
    },
    {
     "name": "stderr",
     "output_type": "stream",
     "text": [
      " 98%|█████████▊| 1862/1894 [31:45<00:38,  1.21s/it]"
     ]
    },
    {
     "name": "stdout",
     "output_type": "stream",
     "text": [
      "enfuvirtide renal failure\n",
      "Encountered an exception for row: paroxetine liver injury. Error message below:\n",
      "Error code: 429 - {'error': {'message': 'Rate limit reached for gpt-3.5-turbo in organization org-wi3cHq5g1FGXIxQyl0trnye1 on requests per day (RPD): Limit 10000, Used 10000, Requested 1. Please try again in 8.64s. Visit https://platform.openai.com/account/rate-limits to learn more.', 'type': 'requests', 'param': None, 'code': 'rate_limit_exceeded'}}\n",
      "isoflurane myocardial infarction\n"
     ]
    },
    {
     "name": "stderr",
     "output_type": "stream",
     "text": [
      " 98%|█████████▊| 1863/1894 [31:50<00:54,  1.75s/it]"
     ]
    },
    {
     "name": "stdout",
     "output_type": "stream",
     "text": [
      "Encountered an exception for row: arsenic trioxide renal impairment. Error message below:\n",
      "Error code: 429 - {'error': {'message': 'Rate limit reached for gpt-3.5-turbo in organization org-wi3cHq5g1FGXIxQyl0trnye1 on requests per day (RPD): Limit 10000, Used 10000, Requested 1. Please try again in 8.64s. Visit https://platform.openai.com/account/rate-limits to learn more.', 'type': 'requests', 'param': None, 'code': 'rate_limit_exceeded'}}\n",
      "carbamazepine liver injury\n"
     ]
    },
    {
     "name": "stderr",
     "output_type": "stream",
     "text": [
      " 98%|█████████▊| 1864/1894 [31:54<01:06,  2.23s/it]"
     ]
    },
    {
     "name": "stdout",
     "output_type": "stream",
     "text": [
      "Encountered an exception for row: peginterferon alfa-2a liver function test abnormal. Error message below:Encountered an exception for row: ertapenem gastrointestinal haemorrhage. Error message below:\n",
      "Error code: 429 - {'error': {'message': 'Rate limit reached for gpt-3.5-turbo in organization org-wi3cHq5g1FGXIxQyl0trnye1 on requests per day (RPD): Limit 10000, Used 10000, Requested 1. Please try again in 8.64s. Visit https://platform.openai.com/account/rate-limits to learn more.', 'type': 'requests', 'param': None, 'code': 'rate_limit_exceeded'}}\n",
      "daratumumab acute kidney injury\n",
      "\n",
      "Error code: 429 - {'error': {'message': 'Rate limit reached for gpt-3.5-turbo in organization org-wi3cHq5g1FGXIxQyl0trnye1 on requests per day (RPD): Limit 10000, Used 10000, Requested 1. Please try again in 8.64s. Visit https://platform.openai.com/account/rate-limits to learn more.', 'type': 'requests', 'param': None, 'code': 'rate_limit_exceeded'}}\n",
      "ixabepilone myocardial infarction\n",
      "Encountered an exception for row: sirolimus hepatic necrosis. Error message below:\n",
      "Error code: 429 - {'error': {'message': 'Rate limit reached for gpt-3.5-turbo in organization org-wi3cHq5g1FGXIxQyl0trnye1 on requests per day (RPD): Limit 10000, Used 10000, Requested 1. Please try again in 8.64s. Visit https://platform.openai.com/account/rate-limits to learn more.', 'type': 'requests', 'param': None, 'code': 'rate_limit_exceeded'}}\n",
      "gefitinib hepatotoxicity\n",
      "sarilumab hepatic enzyme increased\n"
     ]
    },
    {
     "name": "stderr",
     "output_type": "stream",
     "text": [
      " 99%|█████████▊| 1868/1894 [31:59<00:44,  1.70s/it]"
     ]
    },
    {
     "name": "stdout",
     "output_type": "stream",
     "text": [
      "Encountered an exception for row: leuprolide liver function test abnormal. Error message below:\n",
      "Error code: 429 - {'error': {'message': 'Rate limit reached for gpt-3.5-turbo in organization org-wi3cHq5g1FGXIxQyl0trnye1 on requests per day (RPD): Limit 10000, Used 10000, Requested 1. Please try again in 8.64s. Visit https://platform.openai.com/account/rate-limits to learn more.', 'type': 'requests', 'param': None, 'code': 'rate_limit_exceeded'}}\n",
      "vipivotide tetraxetan acute kidney injury\n"
     ]
    },
    {
     "name": "stderr",
     "output_type": "stream",
     "text": [
      " 99%|█████████▊| 1870/1894 [32:03<00:40,  1.68s/it]"
     ]
    },
    {
     "name": "stdout",
     "output_type": "stream",
     "text": [
      "Encountered an exception for row: lenalidomide hepatotoxicity. Error message below:\n",
      "Error code: 429 - {'error': {'message': 'Rate limit reached for gpt-3.5-turbo in organization org-wi3cHq5g1FGXIxQyl0trnye1 on requests per day (RPD): Limit 10000, Used 10000, Requested 1. Please try again in 8.64s. Visit https://platform.openai.com/account/rate-limits to learn more.', 'type': 'requests', 'param': None, 'code': 'rate_limit_exceeded'}}\n",
      "anidulafungin hepatic necrosis\n",
      "epcoritamab myocardial infarction\n",
      "Encountered an exception for row: enfuvirtide renal failure. Error message below:\n",
      "Error code: 429 - {'error': {'message': 'Rate limit reached for gpt-3.5-turbo in organization org-wi3cHq5g1FGXIxQyl0trnye1 on requests per day (RPD): Limit 10000, Used 10000, Requested 1. Please try again in 8.64s. Visit https://platform.openai.com/account/rate-limits to learn more.', 'type': 'requests', 'param': None, 'code': 'rate_limit_exceeded'}}\n",
      "dinoprostone myocardial infarction\n"
     ]
    },
    {
     "name": "stderr",
     "output_type": "stream",
     "text": [
      " 99%|█████████▉| 1872/1894 [32:03<00:24,  1.13s/it]"
     ]
    },
    {
     "name": "stdout",
     "output_type": "stream",
     "text": [
      "Encountered an exception for row: isoflurane myocardial infarction. Error message below:\n",
      "Error code: 429 - {'error': {'message': 'Rate limit reached for gpt-3.5-turbo in organization org-wi3cHq5g1FGXIxQyl0trnye1 on requests per day (RPD): Limit 10000, Used 10000, Requested 1. Please try again in 8.64s. Visit https://platform.openai.com/account/rate-limits to learn more.', 'type': 'requests', 'param': None, 'code': 'rate_limit_exceeded'}}\n",
      "durvalumab hepatic failure\n"
     ]
    },
    {
     "name": "stderr",
     "output_type": "stream",
     "text": [
      " 99%|█████████▉| 1873/1894 [32:08<00:38,  1.84s/it]"
     ]
    },
    {
     "name": "stdout",
     "output_type": "stream",
     "text": [
      "Encountered an exception for row: carbamazepine liver injury. Error message below:\n",
      "Error code: 429 - {'error': {'message': 'Rate limit reached for gpt-3.5-turbo in organization org-wi3cHq5g1FGXIxQyl0trnye1 on requests per day (RPD): Limit 10000, Used 10000, Requested 1. Please try again in 8.64s. Visit https://platform.openai.com/account/rate-limits to learn more.', 'type': 'requests', 'param': None, 'code': 'rate_limit_exceeded'}}\n",
      "nilotinib haematemesis\n"
     ]
    },
    {
     "name": "stderr",
     "output_type": "stream",
     "text": [
      " 99%|█████████▉| 1877/1894 [32:12<00:20,  1.23s/it]"
     ]
    },
    {
     "name": "stdout",
     "output_type": "stream",
     "text": [
      "Encountered an exception for row: gefitinib hepatotoxicity. Error message below:Encountered an exception for row: ixabepilone myocardial infarction. Error message below:\n",
      "Error code: 429 - {'error': {'message': 'Rate limit reached for gpt-3.5-turbo in organization org-wi3cHq5g1FGXIxQyl0trnye1 on requests per day (RPD): Limit 10000, Used 10000, Requested 1. Please try again in 8.64s. Visit https://platform.openai.com/account/rate-limits to learn more.', 'type': 'requests', 'param': None, 'code': 'rate_limit_exceeded'}}\n",
      "dinutuximab gastrointestinal haemorrhage\n",
      "Encountered an exception for row: daratumumab acute kidney injury. Error message below:\n",
      "Error code: 429 - {'error': {'message': 'Rate limit reached for gpt-3.5-turbo in organization org-wi3cHq5g1FGXIxQyl0trnye1 on requests per day (RPD): Limit 10000, Used 10000, Requested 1. Please try again in 8.64s. Visit https://platform.openai.com/account/rate-limits to learn more.', 'type': 'requests', 'param': None, 'code': 'rate_limit_exceeded'}}\n",
      "agalsidase beta myocardial infarction\n",
      "\n",
      "Error code: 429 - {'error': {'message': 'Rate limit reached for gpt-3.5-turbo in organization org-wi3cHq5g1FGXIxQyl0trnye1 on requests per day (RPD): Limit 10000, Used 10000, Requested 1. Please try again in 8.64s. Visit https://platform.openai.com/account/rate-limits to learn more.', 'type': 'requests', 'param': None, 'code': 'rate_limit_exceeded'}}\n",
      "siponimod liver injury\n",
      "enfortumab gastrointestinal haemorrhage\n",
      "Encountered an exception for row: sarilumab hepatic enzyme increased. Error message below:\n",
      "Error code: 429 - {'error': {'message': 'Rate limit reached for gpt-3.5-turbo in organization org-wi3cHq5g1FGXIxQyl0trnye1 on requests per day (RPD): Limit 10000, Used 10000, Requested 1. Please try again in 8.64s. Visit https://platform.openai.com/account/rate-limits to learn more.', 'type': 'requests', 'param': None, 'code': 'rate_limit_exceeded'}}\n",
      "dalteparin gastrointestinal haemorrhage\n"
     ]
    },
    {
     "name": "stderr",
     "output_type": "stream",
     "text": [
      " 99%|█████████▉| 1878/1894 [32:17<00:30,  1.89s/it]"
     ]
    },
    {
     "name": "stdout",
     "output_type": "stream",
     "text": [
      "Encountered an exception for row: vipivotide tetraxetan acute kidney injury. Error message below:\n",
      "Error code: 429 - {'error': {'message': 'Rate limit reached for gpt-3.5-turbo in organization org-wi3cHq5g1FGXIxQyl0trnye1 on requests per day (RPD): Limit 10000, Used 10000, Requested 1. Please try again in 8.64s. Visit https://platform.openai.com/account/rate-limits to learn more.', 'type': 'requests', 'param': None, 'code': 'rate_limit_exceeded'}}\n",
      "avelumab acute kidney injury\n"
     ]
    },
    {
     "name": "stderr",
     "output_type": "stream",
     "text": [
      " 99%|█████████▉| 1880/1894 [32:21<00:27,  1.95s/it]"
     ]
    },
    {
     "name": "stdout",
     "output_type": "stream",
     "text": [
      "Encountered an exception for row: dinoprostone myocardial infarction. Error message below:\n",
      "Error code: 429 - {'error': {'message': 'Rate limit reached for gpt-3.5-turbo in organization org-wi3cHq5g1FGXIxQyl0trnye1 on requests per day (RPD): Limit 10000, Used 10000, Requested 1. Please try again in 8.64s. Visit https://platform.openai.com/account/rate-limits to learn more.', 'type': 'requests', 'param': None, 'code': 'rate_limit_exceeded'}}\n",
      "metformin renal failure\n",
      "rosiglitazone myocardial infarction\n"
     ]
    },
    {
     "name": "stderr",
     "output_type": "stream",
     "text": [
      " 99%|█████████▉| 1882/1894 [32:22<00:17,  1.47s/it]"
     ]
    },
    {
     "name": "stdout",
     "output_type": "stream",
     "text": [
      "Encountered an exception for row: durvalumab hepatic failure. Error message below:\n",
      "Error code: 429 - {'error': {'message': 'Rate limit reached for gpt-3.5-turbo in organization org-wi3cHq5g1FGXIxQyl0trnye1 on requests per day (RPD): Limit 10000, Used 10000, Requested 1. Please try again in 8.64s. Visit https://platform.openai.com/account/rate-limits to learn more.', 'type': 'requests', 'param': None, 'code': 'rate_limit_exceeded'}}\n",
      "salsalate myocardial infarction\n"
     ]
    },
    {
     "name": "stderr",
     "output_type": "stream",
     "text": [
      " 99%|█████████▉| 1883/1894 [32:26<00:20,  1.90s/it]"
     ]
    },
    {
     "name": "stdout",
     "output_type": "stream",
     "text": [
      "Encountered an exception for row: nilotinib haematemesis. Error message below:\n",
      "Error code: 429 - {'error': {'message': 'Rate limit reached for gpt-3.5-turbo in organization org-wi3cHq5g1FGXIxQyl0trnye1 on requests per day (RPD): Limit 10000, Used 10000, Requested 1. Please try again in 8.64s. Visit https://platform.openai.com/account/rate-limits to learn more.', 'type': 'requests', 'param': None, 'code': 'rate_limit_exceeded'}}\n",
      "sotalol renal impairment\n"
     ]
    },
    {
     "name": "stderr",
     "output_type": "stream",
     "text": [
      " 99%|█████████▉| 1884/1894 [32:30<00:24,  2.41s/it]"
     ]
    },
    {
     "name": "stdout",
     "output_type": "stream",
     "text": [
      "Encountered an exception for row: siponimod liver injury. Error message below:\n",
      "Error code: 429 - {'error': {'message': 'Rate limit reached for gpt-3.5-turbo in organization org-wi3cHq5g1FGXIxQyl0trnye1 on requests per day (RPD): Limit 10000, Used 10000, Requested 1. Please try again in 8.64s. Visit https://platform.openai.com/account/rate-limits to learn more.', 'type': 'requests', 'param': None, 'code': 'rate_limit_exceeded'}}\n",
      "rituximab hepatic failure\n",
      "Encountered an exception for row: enfortumab gastrointestinal haemorrhage. Error message below:\n",
      "Error code: 429 - {'error': {'message': 'Rate limit reached for gpt-3.5-turbo in organization org-wi3cHq5g1FGXIxQyl0trnye1 on requests per day (RPD): Limit 10000, Used 10000, Requested 1. Please try again in 8.64s. Visit https://platform.openai.com/account/rate-limits to learn more.', 'type': 'requests', 'param': None, 'code': 'rate_limit_exceeded'}}\n",
      "Encountered an exception for row: agalsidase beta myocardial infarction. Error message below:\n",
      "Error code: 429 - {'error': {'message': 'Rate limit reached for gpt-3.5-turbo in organization org-wi3cHq5g1FGXIxQyl0trnye1 on requests per day (RPD): Limit 10000, Used 10000, Requested 1. Please try again in 8.64s. Visit https://platform.openai.com/account/rate-limits to learn more.', 'type': 'requests', 'param': None, 'code': 'rate_limit_exceeded'}}\n",
      "Encountered an exception for row: dalteparin gastrointestinal haemorrhage. Error message below:\n",
      "Error code: 429 - {'error': {'message': 'Rate limit reached for gpt-3.5-turbo in organization org-wi3cHq5g1FGXIxQyl0trnye1 on requests per day (RPD): Limit 10000, Used 10000, Requested 1. Please try again in 8.64s. Visit https://platform.openai.com/account/rate-limits to learn more.', 'type': 'requests', 'param': None, 'code': 'rate_limit_exceeded'}}\n"
     ]
    },
    {
     "name": "stderr",
     "output_type": "stream",
     "text": [
      "100%|█████████▉| 1889/1894 [32:35<00:07,  1.53s/it]"
     ]
    },
    {
     "name": "stdout",
     "output_type": "stream",
     "text": [
      "Encountered an exception for row: avelumab acute kidney injury. Error message below:\n",
      "Error code: 429 - {'error': {'message': 'Rate limit reached for gpt-3.5-turbo in organization org-wi3cHq5g1FGXIxQyl0trnye1 on requests per day (RPD): Limit 10000, Used 10000, Requested 1. Please try again in 8.64s. Visit https://platform.openai.com/account/rate-limits to learn more.', 'type': 'requests', 'param': None, 'code': 'rate_limit_exceeded'}}\n",
      "Encountered an exception for row: rosiglitazone myocardial infarction. Error message below:\n",
      "Error code: 429 - {'error': {'message': 'Rate limit reached for gpt-3.5-turbo in organization org-wi3cHq5g1FGXIxQyl0trnye1 on requests per day (RPD): Limit 10000, Used 10000, Requested 1. Please try again in 8.64s. Visit https://platform.openai.com/account/rate-limits to learn more.', 'type': 'requests', 'param': None, 'code': 'rate_limit_exceeded'}}\n"
     ]
    },
    {
     "name": "stderr",
     "output_type": "stream",
     "text": [
      "100%|█████████▉| 1892/1894 [32:40<00:02,  1.47s/it]"
     ]
    },
    {
     "name": "stdout",
     "output_type": "stream",
     "text": [
      "Encountered an exception for row: salsalate myocardial infarction. Error message below:\n",
      "Error code: 429 - {'error': {'message': 'Rate limit reached for gpt-3.5-turbo in organization org-wi3cHq5g1FGXIxQyl0trnye1 on requests per day (RPD): Limit 10000, Used 10000, Requested 1. Please try again in 8.64s. Visit https://platform.openai.com/account/rate-limits to learn more.', 'type': 'requests', 'param': None, 'code': 'rate_limit_exceeded'}}\n"
     ]
    },
    {
     "name": "stderr",
     "output_type": "stream",
     "text": [
      "100%|█████████▉| 1893/1894 [32:43<00:01,  1.87s/it]"
     ]
    },
    {
     "name": "stdout",
     "output_type": "stream",
     "text": [
      "Encountered an exception for row: sotalol renal impairment. Error message below:\n",
      "Error code: 429 - {'error': {'message': 'Rate limit reached for gpt-3.5-turbo in organization org-wi3cHq5g1FGXIxQyl0trnye1 on requests per day (RPD): Limit 10000, Used 10000, Requested 1. Please try again in 8.64s. Visit https://platform.openai.com/account/rate-limits to learn more.', 'type': 'requests', 'param': None, 'code': 'rate_limit_exceeded'}}\n"
     ]
    },
    {
     "name": "stderr",
     "output_type": "stream",
     "text": [
      "100%|██████████| 1894/1894 [32:48<00:00,  1.04s/it]\n"
     ]
    }
   ],
   "source": [
    "results = list()\n",
    "\n",
    "with concurrent.futures.ThreadPoolExecutor(max_workers=10) as exec:\n",
    "    results.extend(list(tqdm(\n",
    "        exec.map(run_iteration, labels_w_ADRs.values), \n",
    "        total=len(labels_w_ADRs.values)\n",
    "    )))\n",
    "        \n",
    "gpt_output = pd.DataFrame(\n",
    "    [r for r in results if r is not None],\n",
    "    columns=['ingredient_name', 'pt_meddra_term', 'condition_name', 'affect', 'gpt_output']\n",
    ")"
   ]
  },
  {
   "cell_type": "code",
   "execution_count": 65,
   "metadata": {},
   "outputs": [
    {
     "data": {
      "text/plain": [
       "response\n",
       "false    0.677\n",
       "true     0.323\n",
       "Name: proportion, dtype: float64"
      ]
     },
     "execution_count": 65,
     "metadata": {},
     "output_type": "execute_result"
    }
   ],
   "source": [
    "gpt_output['response'] = ['true' if 'true' in x.lower() else 'false' for x in gpt_output['gpt_output']]\n",
    "gpt_output.response.value_counts(normalize=True)"
   ]
  },
  {
   "cell_type": "code",
   "execution_count": 62,
   "metadata": {},
   "outputs": [],
   "source": [
    "gpt_output.to_csv('gpt35_agreement_condition_defcause.csv')"
   ]
  },
  {
   "cell_type": "code",
   "execution_count": null,
   "metadata": {},
   "outputs": [],
   "source": []
  },
  {
   "cell_type": "code",
   "execution_count": null,
   "metadata": {},
   "outputs": [],
   "source": []
  },
  {
   "cell_type": "code",
   "execution_count": null,
   "metadata": {},
   "outputs": [],
   "source": []
  },
  {
   "cell_type": "code",
   "execution_count": 17,
   "metadata": {},
   "outputs": [
    {
     "data": {
      "text/html": [
       "<div>\n",
       "<style scoped>\n",
       "    .dataframe tbody tr th:only-of-type {\n",
       "        vertical-align: middle;\n",
       "    }\n",
       "\n",
       "    .dataframe tbody tr th {\n",
       "        vertical-align: top;\n",
       "    }\n",
       "\n",
       "    .dataframe thead th {\n",
       "        text-align: right;\n",
       "    }\n",
       "</style>\n",
       "<table border=\"1\" class=\"dataframe\">\n",
       "  <thead>\n",
       "    <tr style=\"text-align: right;\">\n",
       "      <th></th>\n",
       "      <th>ingredients_rxcuis</th>\n",
       "      <th>ingredients_names</th>\n",
       "      <th>num_ingredients</th>\n",
       "      <th>pt_meddra_id</th>\n",
       "      <th>pt_meddra_term</th>\n",
       "      <th>percent_labels</th>\n",
       "      <th>num_labels</th>\n",
       "    </tr>\n",
       "  </thead>\n",
       "  <tbody>\n",
       "    <tr>\n",
       "      <th>0</th>\n",
       "      <td>6916</td>\n",
       "      <td>metolazone</td>\n",
       "      <td>1</td>\n",
       "      <td>10000059</td>\n",
       "      <td>Abdominal discomfort</td>\n",
       "      <td>0.034483</td>\n",
       "      <td>29</td>\n",
       "    </tr>\n",
       "    <tr>\n",
       "      <th>1</th>\n",
       "      <td>6916</td>\n",
       "      <td>metolazone</td>\n",
       "      <td>1</td>\n",
       "      <td>10000060</td>\n",
       "      <td>Abdominal distension</td>\n",
       "      <td>1.000000</td>\n",
       "      <td>29</td>\n",
       "    </tr>\n",
       "    <tr>\n",
       "      <th>2</th>\n",
       "      <td>6916</td>\n",
       "      <td>metolazone</td>\n",
       "      <td>1</td>\n",
       "      <td>10000081</td>\n",
       "      <td>Abdominal pain</td>\n",
       "      <td>1.000000</td>\n",
       "      <td>29</td>\n",
       "    </tr>\n",
       "    <tr>\n",
       "      <th>3</th>\n",
       "      <td>6916</td>\n",
       "      <td>metolazone</td>\n",
       "      <td>1</td>\n",
       "      <td>10001507</td>\n",
       "      <td>Agranulocytosis</td>\n",
       "      <td>1.000000</td>\n",
       "      <td>29</td>\n",
       "    </tr>\n",
       "    <tr>\n",
       "      <th>4</th>\n",
       "      <td>6916</td>\n",
       "      <td>metolazone</td>\n",
       "      <td>1</td>\n",
       "      <td>10001682</td>\n",
       "      <td>Alkalosis hypochloraemic</td>\n",
       "      <td>1.000000</td>\n",
       "      <td>29</td>\n",
       "    </tr>\n",
       "  </tbody>\n",
       "</table>\n",
       "</div>"
      ],
      "text/plain": [
       "  ingredients_rxcuis ingredients_names  num_ingredients  pt_meddra_id  \\\n",
       "0               6916        metolazone                1      10000059   \n",
       "1               6916        metolazone                1      10000060   \n",
       "2               6916        metolazone                1      10000081   \n",
       "3               6916        metolazone                1      10001507   \n",
       "4               6916        metolazone                1      10001682   \n",
       "\n",
       "             pt_meddra_term  percent_labels  num_labels  \n",
       "0      Abdominal discomfort        0.034483          29  \n",
       "1      Abdominal distension        1.000000          29  \n",
       "2            Abdominal pain        1.000000          29  \n",
       "3           Agranulocytosis        1.000000          29  \n",
       "4  Alkalosis hypochloraemic        1.000000          29  "
      ]
     },
     "execution_count": 17,
     "metadata": {},
     "output_type": "execute_result"
    }
   ],
   "source": [
    "adr_section = pd.read_csv('/Users/undinagisladottir/Documents/Columbia/Tatonetti_Lab/20231113_onsides/adverse_reactions.csv')\n",
    "adr_section.head()"
   ]
  },
  {
   "cell_type": "code",
   "execution_count": 18,
   "metadata": {},
   "outputs": [
    {
     "name": "stdout",
     "output_type": "stream",
     "text": [
      "(2904397, 7)\n",
      "(2881519, 7)\n",
      "(2881519, 5)\n"
     ]
    }
   ],
   "source": [
    "adr_section = pd.read_csv('/Users/undinagisladottir/Documents/Columbia/Tatonetti_Lab/20231113_onsides/adverse_reactions_active_labels.csv')\n",
    "print(adr_section.shape)\n",
    "adr_section.drop(adr_section[adr_section.ingredients_names.isna()].index, inplace=True)\n",
    "print(adr_section.shape)\n",
    "adr_section = adr_section[['pt_meddra_term', 'pt_meddra_id', 'set_id', 'ingredients_rxcuis', 'ingredients_names']].drop_duplicates()\n",
    "print(adr_section.shape)"
   ]
  },
  {
   "cell_type": "code",
   "execution_count": 5,
   "metadata": {},
   "outputs": [],
   "source": [
    "rows_to_run = adr_section.values.tolist()"
   ]
  },
  {
   "cell_type": "code",
   "execution_count": null,
   "metadata": {},
   "outputs": [],
   "source": [
    "for i in range(100):\n",
    "    print(rows_to_run[i])"
   ]
  },
  {
   "cell_type": "code",
   "execution_count": null,
   "metadata": {},
   "outputs": [],
   "source": [
    "for row in rows_to_run:\n",
    "    drug = row[4]\n",
    "    adr = row[0]\n",
    "    pt_meddra_id = row[1]\n",
    "    spl_id = i[2]\n",
    "    rxcui = i[3]"
   ]
  },
  {
   "cell_type": "code",
   "execution_count": null,
   "metadata": {},
   "outputs": [],
   "source": [
    "def run_iteration(row):\n",
    "    drug = row[4]\n",
    "    adr = row[0]\n",
    "    pt_meddra_id = row[1]\n",
    "    rxcui = i[3]\n",
    "     \n",
    "    try:\n",
    "        gpt_out = gpt_call(api_source, config, gpt_model, system_content, prompt, drug, adr, temperature)\n",
    "        return [drug, rxcui, adr, pt_meddra_id, gpt_out]\n",
    "    except Exception as err:\n",
    "        print(f\"Encountered an exception for row: {drug} {adr}. Error message below:\")\n",
    "        print(err)\n",
    "        return None"
   ]
  },
  {
   "cell_type": "code",
   "execution_count": 57,
   "metadata": {},
   "outputs": [
    {
     "ename": "NameError",
     "evalue": "name 'rows_to_run' is not defined",
     "output_type": "error",
     "traceback": [
      "\u001b[0;31m---------------------------------------------------------------------------\u001b[0m",
      "\u001b[0;31mNameError\u001b[0m                                 Traceback (most recent call last)",
      "Cell \u001b[0;32mIn[57], line 6\u001b[0m\n\u001b[1;32m      2\u001b[0m results \u001b[38;5;241m=\u001b[39m \u001b[38;5;28mlist\u001b[39m()\n\u001b[1;32m      4\u001b[0m \u001b[38;5;28;01mwith\u001b[39;00m concurrent\u001b[38;5;241m.\u001b[39mfutures\u001b[38;5;241m.\u001b[39mThreadPoolExecutor(max_workers\u001b[38;5;241m=\u001b[39m\u001b[38;5;241m10\u001b[39m) \u001b[38;5;28;01mas\u001b[39;00m exec:\n\u001b[1;32m      5\u001b[0m     results\u001b[38;5;241m.\u001b[39mextend(\u001b[38;5;28mlist\u001b[39m(tqdm(\n\u001b[0;32m----> 6\u001b[0m         exec\u001b[38;5;241m.\u001b[39mmap(run_iteration, rows_to_run), \n\u001b[1;32m      7\u001b[0m         total\u001b[38;5;241m=\u001b[39m\u001b[38;5;28mlen\u001b[39m(rows_to_run)\n\u001b[1;32m      8\u001b[0m     )))\n\u001b[1;32m     10\u001b[0m gpt_output \u001b[38;5;241m=\u001b[39m pd\u001b[38;5;241m.\u001b[39mDataFrame(\n\u001b[1;32m     11\u001b[0m     [r \u001b[38;5;28;01mfor\u001b[39;00m r \u001b[38;5;129;01min\u001b[39;00m results \u001b[38;5;28;01mif\u001b[39;00m r \u001b[38;5;129;01mis\u001b[39;00m \u001b[38;5;129;01mnot\u001b[39;00m \u001b[38;5;28;01mNone\u001b[39;00m],\n\u001b[1;32m     12\u001b[0m     columns\u001b[38;5;241m=\u001b[39m[\u001b[38;5;124m'\u001b[39m\u001b[38;5;124mdrug_name\u001b[39m\u001b[38;5;124m'\u001b[39m, \u001b[38;5;124m'\u001b[39m\u001b[38;5;124mspl_id\u001b[39m\u001b[38;5;124m'\u001b[39m, \u001b[38;5;124m'\u001b[39m\u001b[38;5;124mrxcui\u001b[39m\u001b[38;5;124m'\u001b[39m,  \u001b[38;5;124m'\u001b[39m\u001b[38;5;124madr_name\u001b[39m\u001b[38;5;124m'\u001b[39m, \u001b[38;5;124m'\u001b[39m\u001b[38;5;124mpt_meddra_id\u001b[39m\u001b[38;5;124m'\u001b[39m, \u001b[38;5;124m'\u001b[39m\u001b[38;5;124mgpt_output\u001b[39m\u001b[38;5;124m'\u001b[39m]\n\u001b[1;32m     13\u001b[0m )\n",
      "\u001b[0;31mNameError\u001b[0m: name 'rows_to_run' is not defined"
     ]
    }
   ],
   "source": [
    "for i in range(1):    \n",
    "    results = list()\n",
    "    \n",
    "    with concurrent.futures.ThreadPoolExecutor(max_workers=10) as exec:\n",
    "        results.extend(list(tqdm(\n",
    "            exec.map(run_iteration, rows_to_run), \n",
    "            total=len(rows_to_run)\n",
    "        )))\n",
    "            \n",
    "    gpt_output = pd.DataFrame(\n",
    "        [r for r in results if r is not None],\n",
    "        columns=['drug_name', 'spl_id', 'rxcui',  'adr_name', 'pt_meddra_id', 'gpt_output']\n",
    "    )"
   ]
  },
  {
   "cell_type": "code",
   "execution_count": 9,
   "metadata": {},
   "outputs": [
    {
     "ename": "NameError",
     "evalue": "name 'gpt_output' is not defined",
     "output_type": "error",
     "traceback": [
      "\u001b[0;31m---------------------------------------------------------------------------\u001b[0m",
      "\u001b[0;31mNameError\u001b[0m                                 Traceback (most recent call last)",
      "Cell \u001b[0;32mIn[9], line 1\u001b[0m\n\u001b[0;32m----> 1\u001b[0m gpt_output[\u001b[38;5;124m'\u001b[39m\u001b[38;5;124mresponse\u001b[39m\u001b[38;5;124m'\u001b[39m] \u001b[38;5;241m=\u001b[39m [\u001b[38;5;124m'\u001b[39m\u001b[38;5;124mtrue\u001b[39m\u001b[38;5;124m'\u001b[39m \u001b[38;5;28;01mif\u001b[39;00m \u001b[38;5;124m'\u001b[39m\u001b[38;5;124mtrue\u001b[39m\u001b[38;5;124m'\u001b[39m \u001b[38;5;129;01min\u001b[39;00m x\u001b[38;5;241m.\u001b[39mlower() \u001b[38;5;28;01melse\u001b[39;00m \u001b[38;5;124m'\u001b[39m\u001b[38;5;124mfalse\u001b[39m\u001b[38;5;124m'\u001b[39m \u001b[38;5;28;01mfor\u001b[39;00m x \u001b[38;5;129;01min\u001b[39;00m gpt_output[\u001b[38;5;124m'\u001b[39m\u001b[38;5;124mgpt_output\u001b[39m\u001b[38;5;124m'\u001b[39m]]\n\u001b[1;32m      2\u001b[0m gpt_output\u001b[38;5;241m.\u001b[39mresponse\u001b[38;5;241m.\u001b[39mvalue_counts(normalize\u001b[38;5;241m=\u001b[39m\u001b[38;5;28;01mTrue\u001b[39;00m)\n",
      "\u001b[0;31mNameError\u001b[0m: name 'gpt_output' is not defined"
     ]
    }
   ],
   "source": [
    "gpt_output['response'] = ['true' if 'true' in x.lower() else 'false' for x in gpt_output['gpt_output']]\n",
    "gpt_output.response.value_counts(normalize=True)"
   ]
  },
  {
   "cell_type": "code",
   "execution_count": null,
   "metadata": {},
   "outputs": [],
   "source": [
    "print(f'{system_name}_{prompt_name}_run{i}.csv')\n",
    "for i in range(1):    \n",
    "    results = list()\n",
    "    \n",
    "    with concurrent.futures.ThreadPoolExecutor(max_workers=10) as exec:\n",
    "        results.extend(list(tqdm(\n",
    "            exec.map(run_iteration, rows_to_run), \n",
    "            total=len(rows_to_run)\n",
    "        )))\n",
    "            \n",
    "    gpt_output = pd.DataFrame(\n",
    "        [r for r in results if r is not None],\n",
    "        columns=['drug_name', 'adr_name', 'gpt_output']\n",
    "    )\n",
    "    gpt_output.to_csv(f'{system_name}_{prompt_name}_run{i}.csv')"
   ]
  },
  {
   "cell_type": "code",
   "execution_count": null,
   "metadata": {},
   "outputs": [],
   "source": [
    "gpt_output['response'] = ['true' if 'true' in x.lower() else 'false' for x in gpt_output['gpt_output']]\n",
    "gpt_output.drop(gpt_output[gpt_output.drug_name.isna()].index, inplace=True)"
   ]
  },
  {
   "cell_type": "code",
   "execution_count": null,
   "metadata": {},
   "outputs": [],
   "source": [
    "gpt_output[gpt_output.gpt_output == 'False. (The statement is incomplete and \"nan\" is not a recognizable drug or substance.)'].head()"
   ]
  },
  {
   "cell_type": "code",
   "execution_count": null,
   "metadata": {},
   "outputs": [],
   "source": [
    "gpt_output.response.value_counts(normalize=True)"
   ]
  },
  {
   "cell_type": "code",
   "execution_count": null,
   "metadata": {},
   "outputs": [],
   "source": [
    "gpt_output.head()"
   ]
  },
  {
   "cell_type": "markdown",
   "metadata": {},
   "source": [
    "## Agreement with Reference Set"
   ]
  },
  {
   "cell_type": "code",
   "execution_count": null,
   "metadata": {},
   "outputs": [],
   "source": [
    "gpt_output = pd.read_csv('lie-detector_side-effect_run0.csv')\n",
    "gpt_output['response'] = ['true' if 'true' in x.lower() else 'false' for x in gpt_output['gpt_output']]\n",
    "gpt_output.drop(gpt_output[gpt_output.drug_name.isna()].index, inplace=True)"
   ]
  },
  {
   "cell_type": "code",
   "execution_count": null,
   "metadata": {},
   "outputs": [],
   "source": [
    "reference_set = pd.read_csv('reference_set_labels.csv')\n",
    "reference_set.head()"
   ]
  },
  {
   "cell_type": "code",
   "execution_count": 21,
   "metadata": {},
   "outputs": [
    {
     "data": {
      "text/html": [
       "<div>\n",
       "<style scoped>\n",
       "    .dataframe tbody tr th:only-of-type {\n",
       "        vertical-align: middle;\n",
       "    }\n",
       "\n",
       "    .dataframe tbody tr th {\n",
       "        vertical-align: top;\n",
       "    }\n",
       "\n",
       "    .dataframe thead th {\n",
       "        text-align: right;\n",
       "    }\n",
       "</style>\n",
       "<table border=\"1\" class=\"dataframe\">\n",
       "  <thead>\n",
       "    <tr style=\"text-align: right;\">\n",
       "      <th></th>\n",
       "      <th>cohort_id</th>\n",
       "      <th>condition_name</th>\n",
       "      <th>meddra_pt_id</th>\n",
       "      <th>meddra_pt_term</th>\n",
       "      <th>Positive Controls (N)</th>\n",
       "    </tr>\n",
       "  </thead>\n",
       "  <tbody>\n",
       "    <tr>\n",
       "      <th>0</th>\n",
       "      <td>500000401</td>\n",
       "      <td>Acute kidney injury</td>\n",
       "      <td>10038435</td>\n",
       "      <td>Renal failure</td>\n",
       "      <td>20</td>\n",
       "    </tr>\n",
       "    <tr>\n",
       "      <th>1</th>\n",
       "      <td>500000401</td>\n",
       "      <td>Acute kidney injury</td>\n",
       "      <td>10062237</td>\n",
       "      <td>Renal impairment</td>\n",
       "      <td>8</td>\n",
       "    </tr>\n",
       "    <tr>\n",
       "      <th>2</th>\n",
       "      <td>500000401</td>\n",
       "      <td>Acute kidney injury</td>\n",
       "      <td>10069339</td>\n",
       "      <td>Acute kidney injury</td>\n",
       "      <td>6</td>\n",
       "    </tr>\n",
       "    <tr>\n",
       "      <th>3</th>\n",
       "      <td>500000301</td>\n",
       "      <td>Acute liver injury</td>\n",
       "      <td>10000804</td>\n",
       "      <td>Acute hepatic failure</td>\n",
       "      <td>5</td>\n",
       "    </tr>\n",
       "    <tr>\n",
       "      <th>4</th>\n",
       "      <td>500000301</td>\n",
       "      <td>Acute liver injury</td>\n",
       "      <td>10019663</td>\n",
       "      <td>Hepatic failure</td>\n",
       "      <td>45</td>\n",
       "    </tr>\n",
       "  </tbody>\n",
       "</table>\n",
       "</div>"
      ],
      "text/plain": [
       "   cohort_id       condition_name  meddra_pt_id         meddra_pt_term  \\\n",
       "0  500000401  Acute kidney injury      10038435          Renal failure   \n",
       "1  500000401  Acute kidney injury      10062237       Renal impairment   \n",
       "2  500000401  Acute kidney injury      10069339    Acute kidney injury   \n",
       "3  500000301   Acute liver injury      10000804  Acute hepatic failure   \n",
       "4  500000301   Acute liver injury      10019663        Hepatic failure   \n",
       "\n",
       "   Positive Controls (N)  \n",
       "0                     20  \n",
       "1                      8  \n",
       "2                      6  \n",
       "3                      5  \n",
       "4                     45  "
      ]
     },
     "execution_count": 21,
     "metadata": {},
     "output_type": "execute_result"
    }
   ],
   "source": [
    "meddra_reference_map = pd.read_csv('/Users/undinagisladottir/Documents/Columbia/Tatonetti_Lab/causal-drug-ades/data/onsides_mapping.csv')\n",
    "meddra_reference_map.head()"
   ]
  },
  {
   "cell_type": "code",
   "execution_count": 22,
   "metadata": {},
   "outputs": [
    {
     "data": {
      "text/html": [
       "<div>\n",
       "<style scoped>\n",
       "    .dataframe tbody tr th:only-of-type {\n",
       "        vertical-align: middle;\n",
       "    }\n",
       "\n",
       "    .dataframe tbody tr th {\n",
       "        vertical-align: top;\n",
       "    }\n",
       "\n",
       "    .dataframe thead th {\n",
       "        text-align: right;\n",
       "    }\n",
       "</style>\n",
       "<table border=\"1\" class=\"dataframe\">\n",
       "  <thead>\n",
       "    <tr style=\"text-align: right;\">\n",
       "      <th></th>\n",
       "      <th>cohort_id</th>\n",
       "      <th>condition_name</th>\n",
       "      <th>meddra_pt_id</th>\n",
       "      <th>meddra_pt_term</th>\n",
       "      <th>Positive Controls (N)</th>\n",
       "    </tr>\n",
       "  </thead>\n",
       "  <tbody>\n",
       "    <tr>\n",
       "      <th>0</th>\n",
       "      <td>500000401</td>\n",
       "      <td>Acute kidney injury</td>\n",
       "      <td>10038435</td>\n",
       "      <td>Renal failure</td>\n",
       "      <td>20</td>\n",
       "    </tr>\n",
       "    <tr>\n",
       "      <th>1</th>\n",
       "      <td>500000401</td>\n",
       "      <td>Acute kidney injury</td>\n",
       "      <td>10062237</td>\n",
       "      <td>Renal impairment</td>\n",
       "      <td>8</td>\n",
       "    </tr>\n",
       "    <tr>\n",
       "      <th>2</th>\n",
       "      <td>500000401</td>\n",
       "      <td>Acute kidney injury</td>\n",
       "      <td>10069339</td>\n",
       "      <td>Acute kidney injury</td>\n",
       "      <td>6</td>\n",
       "    </tr>\n",
       "    <tr>\n",
       "      <th>3</th>\n",
       "      <td>500000301</td>\n",
       "      <td>Acute liver injury</td>\n",
       "      <td>10000804</td>\n",
       "      <td>Acute hepatic failure</td>\n",
       "      <td>5</td>\n",
       "    </tr>\n",
       "    <tr>\n",
       "      <th>4</th>\n",
       "      <td>500000301</td>\n",
       "      <td>Acute liver injury</td>\n",
       "      <td>10019663</td>\n",
       "      <td>Hepatic failure</td>\n",
       "      <td>45</td>\n",
       "    </tr>\n",
       "  </tbody>\n",
       "</table>\n",
       "</div>"
      ],
      "text/plain": [
       "   cohort_id       condition_name  meddra_pt_id         meddra_pt_term  \\\n",
       "0  500000401  Acute kidney injury      10038435          Renal failure   \n",
       "1  500000401  Acute kidney injury      10062237       Renal impairment   \n",
       "2  500000401  Acute kidney injury      10069339    Acute kidney injury   \n",
       "3  500000301   Acute liver injury      10000804  Acute hepatic failure   \n",
       "4  500000301   Acute liver injury      10019663        Hepatic failure   \n",
       "\n",
       "   Positive Controls (N)  \n",
       "0                     20  \n",
       "1                      8  \n",
       "2                      6  \n",
       "3                      5  \n",
       "4                     45  "
      ]
     },
     "execution_count": 22,
     "metadata": {},
     "output_type": "execute_result"
    }
   ],
   "source": [
    "meddra_reference_map.head()"
   ]
  },
  {
   "cell_type": "code",
   "execution_count": null,
   "metadata": {},
   "outputs": [],
   "source": [
    "data = gpt_output.merge(meddra_reference_map, how='inner', left_on='adr_name', right_on='concept_name')\n",
    "data.head()"
   ]
  },
  {
   "cell_type": "code",
   "execution_count": null,
   "metadata": {},
   "outputs": [],
   "source": [
    "reference_set.head()"
   ]
  },
  {
   "cell_type": "code",
   "execution_count": null,
   "metadata": {},
   "outputs": [],
   "source": [
    "data = gpt_output.merge(\n",
    "    meddra_reference_map, how='inner', left_on='adr_name', right_on='concept_name'\n",
    "    ).merge(\n",
    "        reference_set, on=['drug_name', 'condition_name', 'cohort_id'], how='inner'\n",
    "        )\n",
    "data.head()"
   ]
  },
  {
   "cell_type": "code",
   "execution_count": null,
   "metadata": {},
   "outputs": [],
   "source": [
    "data = data.groupby(['response', 'affect']).size().reset_index(name='n')\n",
    "data = data.merge(\n",
    "    data.groupby('affect').sum().reset_index()[['affect', 'n']].rename(columns={'n':'total'}),\n",
    "    on = 'affect'\n",
    ")\n",
    "data['perc'] = data['n'] / data['n'].groupby(data['affect']).transform('sum')\n",
    "data.head()"
   ]
  },
  {
   "cell_type": "code",
   "execution_count": null,
   "metadata": {},
   "outputs": [],
   "source": [
    "\n",
    "data = data[['drug_name', 'condition_name', 'affect', 'response']]\n",
    "data.groupby(['drug_name', 'condition_name', 'affect']).agg(lambda response: any(response == 'true')).reset_index()"
   ]
  },
  {
   "cell_type": "code",
   "execution_count": null,
   "metadata": {},
   "outputs": [],
   "source": [
    "# group by drug_name and condition_name, get max(affect) and response = true if any are true\n",
    "data[['response', 'affect']].value_counts(normalize=True)"
   ]
  },
  {
   "cell_type": "code",
   "execution_count": null,
   "metadata": {},
   "outputs": [],
   "source": [
    "data = data.groupby(['response', 'affect']).size().reset_index(name='n')\n",
    "data = data.merge(\n",
    "    data.groupby('affect').sum().reset_index()[['affect', 'n']].rename(columns={'n':'total'}),\n",
    "    on = 'affect'\n",
    ")\n",
    "data['perc'] = data['n'] / data['n'].groupby(data['affect']).transform('sum')"
   ]
  },
  {
   "cell_type": "code",
   "execution_count": null,
   "metadata": {},
   "outputs": [],
   "source": [
    "data.head()"
   ]
  },
  {
   "cell_type": "code",
   "execution_count": null,
   "metadata": {},
   "outputs": [],
   "source": [
    "reference_set.head(2)"
   ]
  },
  {
   "cell_type": "code",
   "execution_count": null,
   "metadata": {},
   "outputs": [],
   "source": [
    "rows_to_run = reference_set[['condition_name', 'drug_name']].values.tolist()\n",
    "for i in range(1):    \n",
    "    results = list()\n",
    "    \n",
    "    with concurrent.futures.ThreadPoolExecutor(max_workers=10) as exec:\n",
    "        results.extend(list(tqdm(\n",
    "            exec.map(run_iteration, rows_to_run), \n",
    "            total=len(rows_to_run)\n",
    "        )))\n",
    "            \n",
    "    gpt_output = pd.DataFrame(\n",
    "        [r for r in results if r is not None],\n",
    "        columns=['drug_name', 'adr_name', 'gpt_output']\n",
    "    )\n",
    "    gpt_output.to_csv(f'{system_name}_{prompt_name}_referenceset_run{i}.csv')"
   ]
  },
  {
   "cell_type": "code",
   "execution_count": null,
   "metadata": {},
   "outputs": [],
   "source": [
    "print(f'{system_name}_{prompt_name}_referenceset_run{i}.csv')"
   ]
  },
  {
   "cell_type": "code",
   "execution_count": null,
   "metadata": {},
   "outputs": [],
   "source": [
    "ref_res = reference_set.merge(\n",
    "    gpt_output,\n",
    "      right_on=['drug_name', 'adr_name'],\n",
    "      left_on=['drug_name', 'condition_name'],\n",
    "      how='inner'\n",
    ")\n",
    "ref_res['response'] = ['true' if 'true' in x.lower() else 'false' for x in ref_res['gpt_output']]\n",
    "print(ref_res[['affect', 'response']].value_counts())\n",
    "ref_res = ref_res.groupby(['response', 'affect']).size().reset_index(name='n')\n",
    "ref_res = ref_res.merge(\n",
    "    ref_res.groupby('affect').sum().reset_index()[['affect', 'n']].rename(columns={'n':'total'}),\n",
    "    on = 'affect'\n",
    ")\n",
    "ref_res['perc'] = ref_res['n'] / ref_res['n'].groupby(ref_res['affect']).transform('sum')\n",
    "print(ref_res)"
   ]
  },
  {
   "cell_type": "code",
   "execution_count": null,
   "metadata": {},
   "outputs": [],
   "source": [
    "ref_res.sort_values(by=['affect', 'response'])"
   ]
  },
  {
   "cell_type": "code",
   "execution_count": null,
   "metadata": {},
   "outputs": [],
   "source": [
    "gpt_output.head()"
   ]
  },
  {
   "cell_type": "markdown",
   "metadata": {},
   "source": [
    "## Combining with Reference Set"
   ]
  },
  {
   "cell_type": "code",
   "execution_count": 7,
   "metadata": {},
   "outputs": [],
   "source": [
    "def gpt_call(api_source, config, gpt_model, system_content, prompt, drug, adr, temperature):\n",
    "    if api_source == 'OpenAI':\n",
    "        client = OpenAI(api_key=config[api_source]['openai_api_key'])\n",
    "    elif api_source == 'Azure':\n",
    "        client = AzureOpenAI(api_key=config[api_source]['openai_api_key'], api_version=\"2023-12-01-preview\", azure_endpoint=config[api_source]['openai_api_endpoint'])\n",
    "    else:\n",
    "        raise Exception(f\"Unexpected API source requested: {api_source}\")\n",
    "  \n",
    "    chat_completion = client.chat.completions.create(\n",
    "        messages=[\n",
    "            {\"role\": \"system\", \"content\": system_content},\n",
    "            {\n",
    "                \"role\": \"user\",\n",
    "                \"content\": prompt.format(adr, drug)\n",
    "            }\n",
    "        ],\n",
    "        model=gpt_model,\n",
    "        temperature=temperature,\n",
    "    )\n",
    "    term = chat_completion.choices[0].message.content\n",
    "    return term"
   ]
  },
  {
   "cell_type": "code",
   "execution_count": 10,
   "metadata": {},
   "outputs": [],
   "source": [
    "config = json.load(open('../config.json'))\n",
    "\n",
    "organization = \"\"\n",
    "\n",
    "api_source = 'OpenAI'\n",
    "\n",
    "api_key = config[api_source]['openai_api_key'] #constants.AZURE_OPENAI_KEY\n",
    "api_endpoint = config[api_source]['openai_api_endpoint'] \n",
    "\n",
    "gpt_model = config[api_source][\"gpt_model\"]\n",
    "temperature = 0"
   ]
  },
  {
   "cell_type": "code",
   "execution_count": 9,
   "metadata": {},
   "outputs": [],
   "source": [
    "nruns = 3\n",
    "\n",
    "system_options = {\n",
    "    \"lie-detector\": \"\"\"\n",
    "    You are a lie detector. You will be given a statement and you have to determine if it is true or false.\n",
    "    Do not include an explanation. Only respond with \"true\" or \"false\".\n",
    "    \"\"\",\n",
    "    \"pharmaco-expert\": \"\"\"\n",
    "    You are a pharmacologist. You will be given a statement regarding a drug and potential adverse reaction\n",
    "    and you have to determine state whether it is true or false.\n",
    "    Do not include an explanation. Only respond with \"true\" or \"false\".\n",
    "    \"\"\",\n",
    "}\n",
    "\n",
    "prompt_options = {\n",
    "    \"side-effect\": \"\"\"\n",
    "True or False: {} is a side effect caused by {}.\n",
    "\"\"\",\n",
    "    \"adverse-reaction\": \"\"\"\n",
    "{} is an adverse reaction of {}.\n",
    "\"\"\",\n",
    "    \"caused-by\": \"\"\"\n",
    "{} is caused by {}.\n",
    "\"\"\"\n",
    "}"
   ]
  },
  {
   "cell_type": "code",
   "execution_count": 24,
   "metadata": {},
   "outputs": [
    {
     "data": {
      "text/html": [
       "<div>\n",
       "<style scoped>\n",
       "    .dataframe tbody tr th:only-of-type {\n",
       "        vertical-align: middle;\n",
       "    }\n",
       "\n",
       "    .dataframe tbody tr th {\n",
       "        vertical-align: top;\n",
       "    }\n",
       "\n",
       "    .dataframe thead th {\n",
       "        text-align: right;\n",
       "    }\n",
       "</style>\n",
       "<table border=\"1\" class=\"dataframe\">\n",
       "  <thead>\n",
       "    <tr style=\"text-align: right;\">\n",
       "      <th></th>\n",
       "      <th>cohort_id</th>\n",
       "      <th>condition_name</th>\n",
       "      <th>meddra_pt_id</th>\n",
       "      <th>meddra_pt_term</th>\n",
       "      <th>Positive Controls (N)</th>\n",
       "    </tr>\n",
       "  </thead>\n",
       "  <tbody>\n",
       "    <tr>\n",
       "      <th>0</th>\n",
       "      <td>500000401</td>\n",
       "      <td>Acute kidney injury</td>\n",
       "      <td>10038435</td>\n",
       "      <td>Renal failure</td>\n",
       "      <td>20</td>\n",
       "    </tr>\n",
       "    <tr>\n",
       "      <th>1</th>\n",
       "      <td>500000401</td>\n",
       "      <td>Acute kidney injury</td>\n",
       "      <td>10062237</td>\n",
       "      <td>Renal impairment</td>\n",
       "      <td>8</td>\n",
       "    </tr>\n",
       "    <tr>\n",
       "      <th>2</th>\n",
       "      <td>500000401</td>\n",
       "      <td>Acute kidney injury</td>\n",
       "      <td>10069339</td>\n",
       "      <td>Acute kidney injury</td>\n",
       "      <td>6</td>\n",
       "    </tr>\n",
       "    <tr>\n",
       "      <th>3</th>\n",
       "      <td>500000301</td>\n",
       "      <td>Acute liver injury</td>\n",
       "      <td>10000804</td>\n",
       "      <td>Acute hepatic failure</td>\n",
       "      <td>5</td>\n",
       "    </tr>\n",
       "    <tr>\n",
       "      <th>4</th>\n",
       "      <td>500000301</td>\n",
       "      <td>Acute liver injury</td>\n",
       "      <td>10019663</td>\n",
       "      <td>Hepatic failure</td>\n",
       "      <td>45</td>\n",
       "    </tr>\n",
       "  </tbody>\n",
       "</table>\n",
       "</div>"
      ],
      "text/plain": [
       "   cohort_id       condition_name  meddra_pt_id         meddra_pt_term  \\\n",
       "0  500000401  Acute kidney injury      10038435          Renal failure   \n",
       "1  500000401  Acute kidney injury      10062237       Renal impairment   \n",
       "2  500000401  Acute kidney injury      10069339    Acute kidney injury   \n",
       "3  500000301   Acute liver injury      10000804  Acute hepatic failure   \n",
       "4  500000301   Acute liver injury      10019663        Hepatic failure   \n",
       "\n",
       "   Positive Controls (N)  \n",
       "0                     20  \n",
       "1                      8  \n",
       "2                      6  \n",
       "3                      5  \n",
       "4                     45  "
      ]
     },
     "execution_count": 24,
     "metadata": {},
     "output_type": "execute_result"
    }
   ],
   "source": [
    "meddra_reference_map.head()"
   ]
  },
  {
   "cell_type": "code",
   "execution_count": 26,
   "metadata": {},
   "outputs": [
    {
     "data": {
      "text/html": [
       "<div>\n",
       "<style scoped>\n",
       "    .dataframe tbody tr th:only-of-type {\n",
       "        vertical-align: middle;\n",
       "    }\n",
       "\n",
       "    .dataframe tbody tr th {\n",
       "        vertical-align: top;\n",
       "    }\n",
       "\n",
       "    .dataframe thead th {\n",
       "        text-align: right;\n",
       "    }\n",
       "</style>\n",
       "<table border=\"1\" class=\"dataframe\">\n",
       "  <thead>\n",
       "    <tr style=\"text-align: right;\">\n",
       "      <th></th>\n",
       "      <th>condition_name</th>\n",
       "      <th>cohort_id</th>\n",
       "      <th>pt_meddra_term</th>\n",
       "      <th>pt_meddra_id</th>\n",
       "      <th>ingredients_names</th>\n",
       "    </tr>\n",
       "  </thead>\n",
       "  <tbody>\n",
       "    <tr>\n",
       "      <th>0</th>\n",
       "      <td>GI bleed</td>\n",
       "      <td>500001001</td>\n",
       "      <td>Gastrointestinal haemorrhage</td>\n",
       "      <td>10017955</td>\n",
       "      <td>dantrolene</td>\n",
       "    </tr>\n",
       "    <tr>\n",
       "      <th>1</th>\n",
       "      <td>GI bleed</td>\n",
       "      <td>500001001</td>\n",
       "      <td>Gastrointestinal haemorrhage</td>\n",
       "      <td>10017955</td>\n",
       "      <td>ketorolac</td>\n",
       "    </tr>\n",
       "    <tr>\n",
       "      <th>2</th>\n",
       "      <td>GI bleed</td>\n",
       "      <td>500001001</td>\n",
       "      <td>Gastrointestinal haemorrhage</td>\n",
       "      <td>10017955</td>\n",
       "      <td>meloxicam</td>\n",
       "    </tr>\n",
       "    <tr>\n",
       "      <th>3</th>\n",
       "      <td>GI bleed</td>\n",
       "      <td>500001001</td>\n",
       "      <td>Gastrointestinal haemorrhage</td>\n",
       "      <td>10017955</td>\n",
       "      <td>flurbiprofen</td>\n",
       "    </tr>\n",
       "    <tr>\n",
       "      <th>4</th>\n",
       "      <td>GI bleed</td>\n",
       "      <td>500001001</td>\n",
       "      <td>Gastrointestinal haemorrhage</td>\n",
       "      <td>10017955</td>\n",
       "      <td>carvedilol</td>\n",
       "    </tr>\n",
       "    <tr>\n",
       "      <th>...</th>\n",
       "      <td>...</td>\n",
       "      <td>...</td>\n",
       "      <td>...</td>\n",
       "      <td>...</td>\n",
       "      <td>...</td>\n",
       "    </tr>\n",
       "    <tr>\n",
       "      <th>58494</th>\n",
       "      <td>Acute liver injury</td>\n",
       "      <td>500000301</td>\n",
       "      <td>Acute hepatic failure</td>\n",
       "      <td>10000804</td>\n",
       "      <td>abacavir</td>\n",
       "    </tr>\n",
       "    <tr>\n",
       "      <th>58494</th>\n",
       "      <td>Acute liver injury</td>\n",
       "      <td>500000301</td>\n",
       "      <td>Acute hepatic failure</td>\n",
       "      <td>10000804</td>\n",
       "      <td>lamivudine</td>\n",
       "    </tr>\n",
       "    <tr>\n",
       "      <th>58512</th>\n",
       "      <td>Acute liver injury</td>\n",
       "      <td>500000301</td>\n",
       "      <td>Acute hepatic failure</td>\n",
       "      <td>10000804</td>\n",
       "      <td>isopropyl alcohol</td>\n",
       "    </tr>\n",
       "    <tr>\n",
       "      <th>58540</th>\n",
       "      <td>Acute liver injury</td>\n",
       "      <td>500000301</td>\n",
       "      <td>Acute hepatic failure</td>\n",
       "      <td>10000804</td>\n",
       "      <td>rilpivirine</td>\n",
       "    </tr>\n",
       "    <tr>\n",
       "      <th>58540</th>\n",
       "      <td>Acute liver injury</td>\n",
       "      <td>500000301</td>\n",
       "      <td>Acute hepatic failure</td>\n",
       "      <td>10000804</td>\n",
       "      <td>dolutegravir</td>\n",
       "    </tr>\n",
       "  </tbody>\n",
       "</table>\n",
       "<p>2587 rows × 5 columns</p>\n",
       "</div>"
      ],
      "text/plain": [
       "           condition_name  cohort_id                pt_meddra_term  \\\n",
       "0                GI bleed  500001001  Gastrointestinal haemorrhage   \n",
       "1                GI bleed  500001001  Gastrointestinal haemorrhage   \n",
       "2                GI bleed  500001001  Gastrointestinal haemorrhage   \n",
       "3                GI bleed  500001001  Gastrointestinal haemorrhage   \n",
       "4                GI bleed  500001001  Gastrointestinal haemorrhage   \n",
       "...                   ...        ...                           ...   \n",
       "58494  Acute liver injury  500000301         Acute hepatic failure   \n",
       "58494  Acute liver injury  500000301         Acute hepatic failure   \n",
       "58512  Acute liver injury  500000301         Acute hepatic failure   \n",
       "58540  Acute liver injury  500000301         Acute hepatic failure   \n",
       "58540  Acute liver injury  500000301         Acute hepatic failure   \n",
       "\n",
       "       pt_meddra_id  ingredients_names  \n",
       "0          10017955         dantrolene  \n",
       "1          10017955          ketorolac  \n",
       "2          10017955          meloxicam  \n",
       "3          10017955       flurbiprofen  \n",
       "4          10017955         carvedilol  \n",
       "...             ...                ...  \n",
       "58494      10000804           abacavir  \n",
       "58494      10000804         lamivudine  \n",
       "58512      10000804  isopropyl alcohol  \n",
       "58540      10000804        rilpivirine  \n",
       "58540      10000804       dolutegravir  \n",
       "\n",
       "[2587 rows x 5 columns]"
      ]
     },
     "execution_count": 26,
     "metadata": {},
     "output_type": "execute_result"
    }
   ],
   "source": [
    "adr_section = pd.read_csv('/Users/undinagisladottir/Documents/Columbia/Tatonetti_Lab/20231113_onsides/adverse_reactions_active_labels.csv')\n",
    "adr_condition_name = adr_section.merge(\n",
    "    meddra_reference_map, how = 'inner',\n",
    "    left_on = 'pt_meddra_id',\n",
    "    right_on = 'meddra_pt_id'\n",
    ")\n",
    "adr_condition_name.drop(adr_condition_name[adr_condition_name.ingredients_names.isna()].index, inplace=True)\n",
    "adr_condition_name = adr_condition_name[['condition_name', 'cohort_id', 'pt_meddra_term', 'pt_meddra_id', 'ingredients_names']]\n",
    "adr_condition_name['ingredients_names'] = adr_condition_name['ingredients_names'].str.split(',')\n",
    "adr_condition_name = adr_condition_name.explode('ingredients_names')\n",
    "adr_condition_name.drop_duplicates()"
   ]
  },
  {
   "cell_type": "code",
   "execution_count": 27,
   "metadata": {},
   "outputs": [
    {
     "data": {
      "text/plain": [
       "(1020,)"
      ]
     },
     "execution_count": 27,
     "metadata": {},
     "output_type": "execute_result"
    }
   ],
   "source": [
    "adr_condition_name['ingredients_names'].unique().shape"
   ]
  },
  {
   "cell_type": "code",
   "execution_count": null,
   "metadata": {},
   "outputs": [],
   "source": [
    "reference_set.head()"
   ]
  },
  {
   "cell_type": "code",
   "execution_count": null,
   "metadata": {},
   "outputs": [],
   "source": [
    "ref_adr_cond  = adr_condition_name.merge(\n",
    "    reference_set, left_on = ['condition_name', 'cohort_id', 'ingredients_names'], how = 'left',\n",
    "    right_on= ['condition_name', 'cohort_id', 'drug_name']\n",
    ")"
   ]
  },
  {
   "cell_type": "code",
   "execution_count": null,
   "metadata": {},
   "outputs": [],
   "source": [
    "rows_to_run = list()\n",
    "for _, row in ref_adr_cond.iterrows():\n",
    "    drug_name, condition_name, adr_name = row['drug_name'], row['condition_name'], row['pt_meddra_term']\n",
    "    rows_to_run.append(row)"
   ]
  },
  {
   "cell_type": "code",
   "execution_count": null,
   "metadata": {},
   "outputs": [],
   "source": [
    "def run_iteration(row):\n",
    "    \n",
    "    try:\n",
    "        gpt_out = gpt_call(api_source, config, gpt_model, system_content, prompt,\n",
    "                            row['ingredients_names'], row['pt_meddra_term'], temperature)\n",
    "        return [row['ingredients_names'], row['drug_name'], row['condition_name'],\n",
    "                row['cohort_id'], row['pt_meddra_term'], row['pt_meddra_id'], row['affect'], gpt_out]\n",
    "    except Exception as err:\n",
    "        print(f\"Encountered an exception for row: {drug} {adr}. Error message below:\")\n",
    "        print(err)\n",
    "        return None"
   ]
  },
  {
   "cell_type": "code",
   "execution_count": null,
   "metadata": {},
   "outputs": [],
   "source": [
    "print(f'{system_name}_{prompt_name}_run{i}.csv')\n",
    "for i in range(1):    \n",
    "    results = list()\n",
    "    \n",
    "    with concurrent.futures.ThreadPoolExecutor(max_workers=15) as exec:\n",
    "        results.extend(list(tqdm(\n",
    "            exec.map(run_iteration, rows_to_run), \n",
    "            total=len(rows_to_run)\n",
    "        )))\n",
    "            \n",
    "    gpt_output = pd.DataFrame(\n",
    "        [r for r in results if r is not None],\n",
    "        columns=['ingredients_names', 'drug_name', 'condition_name',\n",
    "                'cohort_id', 'pt_meddra_term', 'pt_meddra_id', 'affect', 'gpt_output']\n",
    "    )\n",
    "    gpt_output.to_csv(f'{system_name}_{prompt_name}_run{i}.csv')"
   ]
  },
  {
   "cell_type": "code",
   "execution_count": null,
   "metadata": {},
   "outputs": [],
   "source": []
  }
 ],
 "metadata": {
  "kernelspec": {
   "display_name": "llm_cpus",
   "language": "python",
   "name": "python3"
  },
  "language_info": {
   "codemirror_mode": {
    "name": "ipython",
    "version": 3
   },
   "file_extension": ".py",
   "mimetype": "text/x-python",
   "name": "python",
   "nbconvert_exporter": "python",
   "pygments_lexer": "ipython3",
   "version": "3.1.undefined"
  }
 },
 "nbformat": 4,
 "nbformat_minor": 2
}
