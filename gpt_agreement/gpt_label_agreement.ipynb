{
 "cells": [
  {
   "cell_type": "code",
   "execution_count": 1,
   "metadata": {},
   "outputs": [],
   "source": [
    "import os\n",
    "import time\n",
    "import json\n",
    "\n",
    "import concurrent\n",
    "import numpy as np\n",
    "import pandas as pd\n",
    "from tqdm import tqdm\n",
    "from openai import OpenAI, AzureOpenAI\n",
    "from sentence_transformers import SentenceTransformer"
   ]
  },
  {
   "cell_type": "code",
   "execution_count": 34,
   "metadata": {},
   "outputs": [],
   "source": [
    "def gpt_call(api_source, config, system_content, prompt, drug, adr, temperature=0):\n",
    "    if api_source == 'OpenAI':\n",
    "        client = OpenAI(api_key=config[api_source]['openai_api_key'])\n",
    "    elif api_source == 'Azure':\n",
    "        client = AzureOpenAI(api_key=config[api_source]['openai_api_key'], api_version=\"2023-12-01-preview\", azure_endpoint=config[api_source]['openai_api_endpoint'])\n",
    "    else:\n",
    "        raise Exception(f\"Unexpected API source requested: {api_source}\")\n",
    "  \n",
    "    chat_completion = client.chat.completions.create(\n",
    "        messages=[\n",
    "            {\"role\": \"system\", \"content\": system_content},\n",
    "            {\n",
    "                \"role\": \"user\",\n",
    "                \"content\": prompt.format(adr, drug)\n",
    "            }\n",
    "        ],\n",
    "        model='gpt-3.5-turbo',\n",
    "        temperature=0,\n",
    "    )\n",
    "    term = chat_completion.choices[0].message.content\n",
    "    return term"
   ]
  },
  {
   "cell_type": "code",
   "execution_count": 3,
   "metadata": {},
   "outputs": [],
   "source": [
    "config = json.load(open('../config.json'))\n",
    "\n",
    "organization = \"\"\n",
    "\n",
    "api_source = 'OpenAI'\n",
    "\n",
    "api_key = config[api_source]['openai_api_key'] #constants.AZURE_OPENAI_KEY\n",
    "api_endpoint = config[api_source]['openai_api_endpoint'] \n",
    "\n",
    "gpt_model = config[api_source][\"gpt_model\"]\n",
    "temperature = 0"
   ]
  },
  {
   "cell_type": "code",
   "execution_count": 4,
   "metadata": {},
   "outputs": [],
   "source": [
    "nruns = 3\n",
    "\n",
    "system_options = {\n",
    "    \"lie-detector\": \"\"\"\n",
    "    You are a lie detector. You will be given a statement and you have to determine if it is true or false.\n",
    "    Do not include an explanation. Only respond with \"true\" or \"false\".\n",
    "    \"\"\",\n",
    "    \"pharmaco-expert\": \"\"\"\n",
    "    You are a pharmacologist. You will be given a statement regarding a drug and potential adverse reaction\n",
    "    and you have to determine state whether it is true or false.\n",
    "    Do not include an explanation. Only respond with \"true\" or \"false\".\n",
    "    \"\"\",\n",
    "}\n",
    "\n",
    "prompt_options = {\n",
    "    \"side-effect\": \"\"\"\n",
    "True or False: {} is a side effect caused by {}.\n",
    "\"\"\",\n",
    "    \"adverse-reaction\": \"\"\"\n",
    "{} is an adverse reaction of {}.\n",
    "\"\"\",\n",
    "    \"caused-by\": \"\"\"\n",
    "{} is caused by {}.\n",
    "\"\"\"\n",
    "}"
   ]
  },
  {
   "cell_type": "code",
   "execution_count": 5,
   "metadata": {},
   "outputs": [],
   "source": [
    "system_name = \"pharmaco-expert\"\n",
    "system_content = system_options[system_name]\n",
    "\n",
    "prompt_name = \"adverse-reaction\"\n",
    "prompt = prompt_options[prompt_name]"
   ]
  },
  {
   "cell_type": "code",
   "execution_count": 11,
   "metadata": {},
   "outputs": [
    {
     "name": "stdout",
     "output_type": "stream",
     "text": [
      "(1894, 4)\n"
     ]
    },
    {
     "data": {
      "text/html": [
       "<div>\n",
       "<style scoped>\n",
       "    .dataframe tbody tr th:only-of-type {\n",
       "        vertical-align: middle;\n",
       "    }\n",
       "\n",
       "    .dataframe tbody tr th {\n",
       "        vertical-align: top;\n",
       "    }\n",
       "\n",
       "    .dataframe thead th {\n",
       "        text-align: right;\n",
       "    }\n",
       "</style>\n",
       "<table border=\"1\" class=\"dataframe\">\n",
       "  <thead>\n",
       "    <tr style=\"text-align: right;\">\n",
       "      <th></th>\n",
       "      <th>ingredient_name</th>\n",
       "      <th>pt_meddra_term</th>\n",
       "      <th>condition_name</th>\n",
       "      <th>affect</th>\n",
       "    </tr>\n",
       "  </thead>\n",
       "  <tbody>\n",
       "    <tr>\n",
       "      <th>0</th>\n",
       "      <td>isotretinoin</td>\n",
       "      <td>hepatotoxicity</td>\n",
       "      <td>acute liver injury</td>\n",
       "      <td>0.0</td>\n",
       "    </tr>\n",
       "    <tr>\n",
       "      <th>1</th>\n",
       "      <td>carvedilol</td>\n",
       "      <td>gastrointestinal haemorrhage</td>\n",
       "      <td>gi bleed</td>\n",
       "      <td>0.0</td>\n",
       "    </tr>\n",
       "    <tr>\n",
       "      <th>2</th>\n",
       "      <td>propafenone</td>\n",
       "      <td>hepatic enzyme increased</td>\n",
       "      <td>acute liver injury</td>\n",
       "      <td>0.0</td>\n",
       "    </tr>\n",
       "    <tr>\n",
       "      <th>3</th>\n",
       "      <td>valproate</td>\n",
       "      <td>haematemesis</td>\n",
       "      <td>gi bleed</td>\n",
       "      <td>0.0</td>\n",
       "    </tr>\n",
       "    <tr>\n",
       "      <th>4</th>\n",
       "      <td>omeprazole</td>\n",
       "      <td>hepatic necrosis</td>\n",
       "      <td>acute liver injury</td>\n",
       "      <td>0.0</td>\n",
       "    </tr>\n",
       "  </tbody>\n",
       "</table>\n",
       "</div>"
      ],
      "text/plain": [
       "  ingredient_name                pt_meddra_term      condition_name  affect\n",
       "0    isotretinoin                hepatotoxicity  acute liver injury     0.0\n",
       "1      carvedilol  gastrointestinal haemorrhage            gi bleed     0.0\n",
       "2     propafenone      hepatic enzyme increased  acute liver injury     0.0\n",
       "3       valproate                  haematemesis            gi bleed     0.0\n",
       "4      omeprazole              hepatic necrosis  acute liver injury     0.0"
      ]
     },
     "execution_count": 11,
     "metadata": {},
     "output_type": "execute_result"
    }
   ],
   "source": [
    "labels_w_ADRs = pd.read_csv(\"../data/labels_w_ADRs.csv\")[[\n",
    "    'ingredient_name', 'pt_meddra_term', 'condition_name', 'affect'\n",
    "    ]].drop_duplicates().fillna(0)\n",
    "print(labels_w_ADRs.shape)\n",
    "labels_w_ADRs.head()"
   ]
  },
  {
   "cell_type": "code",
   "execution_count": 12,
   "metadata": {},
   "outputs": [
    {
     "data": {
      "text/plain": [
       "affect\n",
       "0.0    1648\n",
       "1.0     246\n",
       "Name: count, dtype: int64"
      ]
     },
     "execution_count": 12,
     "metadata": {},
     "output_type": "execute_result"
    }
   ],
   "source": [
    "labels_w_ADRs['affect'].value_counts()"
   ]
  },
  {
   "cell_type": "code",
   "execution_count": 30,
   "metadata": {},
   "outputs": [
    {
     "data": {
      "text/plain": [
       "'true'"
      ]
     },
     "execution_count": 30,
     "metadata": {},
     "output_type": "execute_result"
    }
   ],
   "source": [
    "gpt_call(api_source, config, system_content, prompt, 'lisinopril', 'acute kidney injury')"
   ]
  },
  {
   "cell_type": "code",
   "execution_count": 32,
   "metadata": {},
   "outputs": [],
   "source": [
    "def run_iteration(row):\n",
    "    drug = row[0]\n",
    "    adr = row[1]\n",
    "    print(drug, adr)\n",
    "    try:\n",
    "        gpt_out = gpt_call(api_source, config, system_content, prompt, drug, adr)\n",
    "        # ['ingredient_name', 'pt_meddra_term', 'condition_name', 'affect', 'gpt_output']\n",
    "        return list(row).extend(list(gpt_out))\n",
    "    except Exception as err:\n",
    "        print(f\"Encountered an exception for row: {drug} {adr}. Error message below:\")\n",
    "        print(err)\n",
    "        return None"
   ]
  },
  {
   "cell_type": "code",
   "execution_count": 21,
   "metadata": {},
   "outputs": [
    {
     "name": "stdout",
     "output_type": "stream",
     "text": [
      "['isotretinoin' 'hepatotoxicity' 'acute liver injury' 0.0]\n"
     ]
    }
   ],
   "source": [
    "for row in labels_w_ADRs.values:\n",
    "    print(row)\n",
    "    break"
   ]
  },
  {
   "cell_type": "code",
   "execution_count": 33,
   "metadata": {},
   "outputs": [
    {
     "name": "stdout",
     "output_type": "stream",
     "text": [
      "isotretinoin hepatotoxicity\n",
      "carvedilol gastrointestinal haemorrhage\n",
      "propafenone hepatic enzyme increased\n"
     ]
    },
    {
     "name": "stderr",
     "output_type": "stream",
     "text": [
      "  0%|          | 2/1894 [00:00<10:36,  2.97it/s]"
     ]
    },
    {
     "name": "stdout",
     "output_type": "stream",
     "text": [
      "Encountered an exception for row: isotretinoin hepatotoxicity. Error message below:\n",
      "Error code: 400 - {'error': {'message': \"Invalid type for 'temperature': expected a decimal, but got a string instead.\", 'type': 'invalid_request_error', 'param': 'temperature', 'code': 'invalid_type'}}\n",
      "Encountered an exception for row: propafenone hepatic enzyme increased. Error message below:\n",
      "Error code: 400 - {'error': {'message': \"Invalid type for 'temperature': expected a decimal, but got a string instead.\", 'type': 'invalid_request_error', 'param': 'temperature', 'code': 'invalid_type'}}\n",
      "Encountered an exception for row: carvedilol gastrointestinal haemorrhage. Error message below:\n",
      "Error code: 400 - {'error': {'message': \"Invalid type for 'temperature': expected a decimal, but got a string instead.\", 'type': 'invalid_request_error', 'param': 'temperature', 'code': 'invalid_type'}}\n"
     ]
    },
    {
     "name": "stderr",
     "output_type": "stream",
     "text": [
      "  0%|          | 3/1894 [00:00<07:41,  4.10it/s]\n"
     ]
    }
   ],
   "source": [
    "results = list()\n",
    "\n",
    "with concurrent.futures.ThreadPoolExecutor(max_workers=10) as exec:\n",
    "    results.extend(list(tqdm(\n",
    "        exec.map(run_iteration, labels_w_ADRs.values[:3]), \n",
    "        total=len(labels_w_ADRs.values)\n",
    "    )))\n",
    "        \n",
    "gpt_output = pd.DataFrame(\n",
    "    [r for r in results if r is not None],\n",
    "    columns=['ingredient_name', 'pt_meddra_term', 'condition_name', 'affect', 'gpt_output']\n",
    ")"
   ]
  },
  {
   "cell_type": "code",
   "execution_count": 26,
   "metadata": {},
   "outputs": [
    {
     "data": {
      "text/plain": [
       "Series([], Name: proportion, dtype: float64)"
      ]
     },
     "execution_count": 26,
     "metadata": {},
     "output_type": "execute_result"
    }
   ],
   "source": [
    "gpt_output['response'] = ['true' if 'true' in x.lower() else 'false' for x in gpt_output['gpt_output']]\n",
    "gpt_output.response.value_counts(normalize=True)"
   ]
  },
  {
   "cell_type": "code",
   "execution_count": 27,
   "metadata": {},
   "outputs": [
    {
     "data": {
      "text/html": [
       "<div>\n",
       "<style scoped>\n",
       "    .dataframe tbody tr th:only-of-type {\n",
       "        vertical-align: middle;\n",
       "    }\n",
       "\n",
       "    .dataframe tbody tr th {\n",
       "        vertical-align: top;\n",
       "    }\n",
       "\n",
       "    .dataframe thead th {\n",
       "        text-align: right;\n",
       "    }\n",
       "</style>\n",
       "<table border=\"1\" class=\"dataframe\">\n",
       "  <thead>\n",
       "    <tr style=\"text-align: right;\">\n",
       "      <th></th>\n",
       "      <th>ingredient_name</th>\n",
       "      <th>pt_meddra_term</th>\n",
       "      <th>condition_name</th>\n",
       "      <th>affect</th>\n",
       "      <th>gpt_output</th>\n",
       "      <th>response</th>\n",
       "    </tr>\n",
       "  </thead>\n",
       "  <tbody>\n",
       "  </tbody>\n",
       "</table>\n",
       "</div>"
      ],
      "text/plain": [
       "Empty DataFrame\n",
       "Columns: [ingredient_name, pt_meddra_term, condition_name, affect, gpt_output, response]\n",
       "Index: []"
      ]
     },
     "execution_count": 27,
     "metadata": {},
     "output_type": "execute_result"
    }
   ],
   "source": [
    "gpt_output"
   ]
  },
  {
   "cell_type": "code",
   "execution_count": null,
   "metadata": {},
   "outputs": [],
   "source": []
  },
  {
   "cell_type": "code",
   "execution_count": null,
   "metadata": {},
   "outputs": [],
   "source": []
  },
  {
   "cell_type": "code",
   "execution_count": null,
   "metadata": {},
   "outputs": [],
   "source": []
  },
  {
   "cell_type": "code",
   "execution_count": 17,
   "metadata": {},
   "outputs": [
    {
     "data": {
      "text/html": [
       "<div>\n",
       "<style scoped>\n",
       "    .dataframe tbody tr th:only-of-type {\n",
       "        vertical-align: middle;\n",
       "    }\n",
       "\n",
       "    .dataframe tbody tr th {\n",
       "        vertical-align: top;\n",
       "    }\n",
       "\n",
       "    .dataframe thead th {\n",
       "        text-align: right;\n",
       "    }\n",
       "</style>\n",
       "<table border=\"1\" class=\"dataframe\">\n",
       "  <thead>\n",
       "    <tr style=\"text-align: right;\">\n",
       "      <th></th>\n",
       "      <th>ingredients_rxcuis</th>\n",
       "      <th>ingredients_names</th>\n",
       "      <th>num_ingredients</th>\n",
       "      <th>pt_meddra_id</th>\n",
       "      <th>pt_meddra_term</th>\n",
       "      <th>percent_labels</th>\n",
       "      <th>num_labels</th>\n",
       "    </tr>\n",
       "  </thead>\n",
       "  <tbody>\n",
       "    <tr>\n",
       "      <th>0</th>\n",
       "      <td>6916</td>\n",
       "      <td>metolazone</td>\n",
       "      <td>1</td>\n",
       "      <td>10000059</td>\n",
       "      <td>Abdominal discomfort</td>\n",
       "      <td>0.034483</td>\n",
       "      <td>29</td>\n",
       "    </tr>\n",
       "    <tr>\n",
       "      <th>1</th>\n",
       "      <td>6916</td>\n",
       "      <td>metolazone</td>\n",
       "      <td>1</td>\n",
       "      <td>10000060</td>\n",
       "      <td>Abdominal distension</td>\n",
       "      <td>1.000000</td>\n",
       "      <td>29</td>\n",
       "    </tr>\n",
       "    <tr>\n",
       "      <th>2</th>\n",
       "      <td>6916</td>\n",
       "      <td>metolazone</td>\n",
       "      <td>1</td>\n",
       "      <td>10000081</td>\n",
       "      <td>Abdominal pain</td>\n",
       "      <td>1.000000</td>\n",
       "      <td>29</td>\n",
       "    </tr>\n",
       "    <tr>\n",
       "      <th>3</th>\n",
       "      <td>6916</td>\n",
       "      <td>metolazone</td>\n",
       "      <td>1</td>\n",
       "      <td>10001507</td>\n",
       "      <td>Agranulocytosis</td>\n",
       "      <td>1.000000</td>\n",
       "      <td>29</td>\n",
       "    </tr>\n",
       "    <tr>\n",
       "      <th>4</th>\n",
       "      <td>6916</td>\n",
       "      <td>metolazone</td>\n",
       "      <td>1</td>\n",
       "      <td>10001682</td>\n",
       "      <td>Alkalosis hypochloraemic</td>\n",
       "      <td>1.000000</td>\n",
       "      <td>29</td>\n",
       "    </tr>\n",
       "  </tbody>\n",
       "</table>\n",
       "</div>"
      ],
      "text/plain": [
       "  ingredients_rxcuis ingredients_names  num_ingredients  pt_meddra_id  \\\n",
       "0               6916        metolazone                1      10000059   \n",
       "1               6916        metolazone                1      10000060   \n",
       "2               6916        metolazone                1      10000081   \n",
       "3               6916        metolazone                1      10001507   \n",
       "4               6916        metolazone                1      10001682   \n",
       "\n",
       "             pt_meddra_term  percent_labels  num_labels  \n",
       "0      Abdominal discomfort        0.034483          29  \n",
       "1      Abdominal distension        1.000000          29  \n",
       "2            Abdominal pain        1.000000          29  \n",
       "3           Agranulocytosis        1.000000          29  \n",
       "4  Alkalosis hypochloraemic        1.000000          29  "
      ]
     },
     "execution_count": 17,
     "metadata": {},
     "output_type": "execute_result"
    }
   ],
   "source": [
    "adr_section = pd.read_csv('/Users/undinagisladottir/Documents/Columbia/Tatonetti_Lab/20231113_onsides/adverse_reactions.csv')\n",
    "adr_section.head()"
   ]
  },
  {
   "cell_type": "code",
   "execution_count": 18,
   "metadata": {},
   "outputs": [
    {
     "name": "stdout",
     "output_type": "stream",
     "text": [
      "(2904397, 7)\n",
      "(2881519, 7)\n",
      "(2881519, 5)\n"
     ]
    }
   ],
   "source": [
    "adr_section = pd.read_csv('/Users/undinagisladottir/Documents/Columbia/Tatonetti_Lab/20231113_onsides/adverse_reactions_active_labels.csv')\n",
    "print(adr_section.shape)\n",
    "adr_section.drop(adr_section[adr_section.ingredients_names.isna()].index, inplace=True)\n",
    "print(adr_section.shape)\n",
    "adr_section = adr_section[['pt_meddra_term', 'pt_meddra_id', 'set_id', 'ingredients_rxcuis', 'ingredients_names']].drop_duplicates()\n",
    "print(adr_section.shape)"
   ]
  },
  {
   "cell_type": "code",
   "execution_count": 5,
   "metadata": {},
   "outputs": [],
   "source": [
    "rows_to_run = adr_section.values.tolist()"
   ]
  },
  {
   "cell_type": "code",
   "execution_count": null,
   "metadata": {},
   "outputs": [],
   "source": [
    "for i in range(100):\n",
    "    print(rows_to_run[i])"
   ]
  },
  {
   "cell_type": "code",
   "execution_count": null,
   "metadata": {},
   "outputs": [],
   "source": [
    "for row in rows_to_run:\n",
    "    drug = row[4]\n",
    "    adr = row[0]\n",
    "    pt_meddra_id = row[1]\n",
    "    spl_id = i[2]\n",
    "    rxcui = i[3]"
   ]
  },
  {
   "cell_type": "code",
   "execution_count": null,
   "metadata": {},
   "outputs": [],
   "source": [
    "def run_iteration(row):\n",
    "    drug = row[4]\n",
    "    adr = row[0]\n",
    "    pt_meddra_id = row[1]\n",
    "    rxcui = i[3]\n",
    "     \n",
    "    try:\n",
    "        gpt_out = gpt_call(api_source, config, gpt_model, system_content, prompt, drug, adr, temperature)\n",
    "        return [drug, rxcui, adr, pt_meddra_id, gpt_out]\n",
    "    except Exception as err:\n",
    "        print(f\"Encountered an exception for row: {drug} {adr}. Error message below:\")\n",
    "        print(err)\n",
    "        return None"
   ]
  },
  {
   "cell_type": "code",
   "execution_count": null,
   "metadata": {},
   "outputs": [],
   "source": [
    "for i in range(1):    \n",
    "    results = list()\n",
    "    \n",
    "    with concurrent.futures.ThreadPoolExecutor(max_workers=10) as exec:\n",
    "        results.extend(list(tqdm(\n",
    "            exec.map(run_iteration, rows_to_run), \n",
    "            total=len(rows_to_run)\n",
    "        )))\n",
    "            \n",
    "    gpt_output = pd.DataFrame(\n",
    "        [r for r in results if r is not None],\n",
    "        columns=['drug_name', 'spl_id', 'rxcui',  'adr_name', 'pt_meddra_id', 'gpt_output']\n",
    "    )"
   ]
  },
  {
   "cell_type": "code",
   "execution_count": 9,
   "metadata": {},
   "outputs": [
    {
     "ename": "NameError",
     "evalue": "name 'gpt_output' is not defined",
     "output_type": "error",
     "traceback": [
      "\u001b[0;31m---------------------------------------------------------------------------\u001b[0m",
      "\u001b[0;31mNameError\u001b[0m                                 Traceback (most recent call last)",
      "Cell \u001b[0;32mIn[9], line 1\u001b[0m\n\u001b[0;32m----> 1\u001b[0m gpt_output[\u001b[38;5;124m'\u001b[39m\u001b[38;5;124mresponse\u001b[39m\u001b[38;5;124m'\u001b[39m] \u001b[38;5;241m=\u001b[39m [\u001b[38;5;124m'\u001b[39m\u001b[38;5;124mtrue\u001b[39m\u001b[38;5;124m'\u001b[39m \u001b[38;5;28;01mif\u001b[39;00m \u001b[38;5;124m'\u001b[39m\u001b[38;5;124mtrue\u001b[39m\u001b[38;5;124m'\u001b[39m \u001b[38;5;129;01min\u001b[39;00m x\u001b[38;5;241m.\u001b[39mlower() \u001b[38;5;28;01melse\u001b[39;00m \u001b[38;5;124m'\u001b[39m\u001b[38;5;124mfalse\u001b[39m\u001b[38;5;124m'\u001b[39m \u001b[38;5;28;01mfor\u001b[39;00m x \u001b[38;5;129;01min\u001b[39;00m gpt_output[\u001b[38;5;124m'\u001b[39m\u001b[38;5;124mgpt_output\u001b[39m\u001b[38;5;124m'\u001b[39m]]\n\u001b[1;32m      2\u001b[0m gpt_output\u001b[38;5;241m.\u001b[39mresponse\u001b[38;5;241m.\u001b[39mvalue_counts(normalize\u001b[38;5;241m=\u001b[39m\u001b[38;5;28;01mTrue\u001b[39;00m)\n",
      "\u001b[0;31mNameError\u001b[0m: name 'gpt_output' is not defined"
     ]
    }
   ],
   "source": [
    "gpt_output['response'] = ['true' if 'true' in x.lower() else 'false' for x in gpt_output['gpt_output']]\n",
    "gpt_output.response.value_counts(normalize=True)"
   ]
  },
  {
   "cell_type": "code",
   "execution_count": null,
   "metadata": {},
   "outputs": [],
   "source": [
    "print(f'{system_name}_{prompt_name}_run{i}.csv')\n",
    "for i in range(1):    \n",
    "    results = list()\n",
    "    \n",
    "    with concurrent.futures.ThreadPoolExecutor(max_workers=10) as exec:\n",
    "        results.extend(list(tqdm(\n",
    "            exec.map(run_iteration, rows_to_run), \n",
    "            total=len(rows_to_run)\n",
    "        )))\n",
    "            \n",
    "    gpt_output = pd.DataFrame(\n",
    "        [r for r in results if r is not None],\n",
    "        columns=['drug_name', 'adr_name', 'gpt_output']\n",
    "    )\n",
    "    gpt_output.to_csv(f'{system_name}_{prompt_name}_run{i}.csv')"
   ]
  },
  {
   "cell_type": "code",
   "execution_count": null,
   "metadata": {},
   "outputs": [],
   "source": [
    "gpt_output['response'] = ['true' if 'true' in x.lower() else 'false' for x in gpt_output['gpt_output']]\n",
    "gpt_output.drop(gpt_output[gpt_output.drug_name.isna()].index, inplace=True)"
   ]
  },
  {
   "cell_type": "code",
   "execution_count": null,
   "metadata": {},
   "outputs": [],
   "source": [
    "gpt_output[gpt_output.gpt_output == 'False. (The statement is incomplete and \"nan\" is not a recognizable drug or substance.)'].head()"
   ]
  },
  {
   "cell_type": "code",
   "execution_count": null,
   "metadata": {},
   "outputs": [],
   "source": [
    "gpt_output.response.value_counts(normalize=True)"
   ]
  },
  {
   "cell_type": "code",
   "execution_count": null,
   "metadata": {},
   "outputs": [],
   "source": [
    "gpt_output.head()"
   ]
  },
  {
   "cell_type": "markdown",
   "metadata": {},
   "source": [
    "## Agreement with Reference Set"
   ]
  },
  {
   "cell_type": "code",
   "execution_count": null,
   "metadata": {},
   "outputs": [],
   "source": [
    "gpt_output = pd.read_csv('lie-detector_side-effect_run0.csv')\n",
    "gpt_output['response'] = ['true' if 'true' in x.lower() else 'false' for x in gpt_output['gpt_output']]\n",
    "gpt_output.drop(gpt_output[gpt_output.drug_name.isna()].index, inplace=True)"
   ]
  },
  {
   "cell_type": "code",
   "execution_count": null,
   "metadata": {},
   "outputs": [],
   "source": [
    "reference_set = pd.read_csv('reference_set_labels.csv')\n",
    "reference_set.head()"
   ]
  },
  {
   "cell_type": "code",
   "execution_count": 21,
   "metadata": {},
   "outputs": [
    {
     "data": {
      "text/html": [
       "<div>\n",
       "<style scoped>\n",
       "    .dataframe tbody tr th:only-of-type {\n",
       "        vertical-align: middle;\n",
       "    }\n",
       "\n",
       "    .dataframe tbody tr th {\n",
       "        vertical-align: top;\n",
       "    }\n",
       "\n",
       "    .dataframe thead th {\n",
       "        text-align: right;\n",
       "    }\n",
       "</style>\n",
       "<table border=\"1\" class=\"dataframe\">\n",
       "  <thead>\n",
       "    <tr style=\"text-align: right;\">\n",
       "      <th></th>\n",
       "      <th>cohort_id</th>\n",
       "      <th>condition_name</th>\n",
       "      <th>meddra_pt_id</th>\n",
       "      <th>meddra_pt_term</th>\n",
       "      <th>Positive Controls (N)</th>\n",
       "    </tr>\n",
       "  </thead>\n",
       "  <tbody>\n",
       "    <tr>\n",
       "      <th>0</th>\n",
       "      <td>500000401</td>\n",
       "      <td>Acute kidney injury</td>\n",
       "      <td>10038435</td>\n",
       "      <td>Renal failure</td>\n",
       "      <td>20</td>\n",
       "    </tr>\n",
       "    <tr>\n",
       "      <th>1</th>\n",
       "      <td>500000401</td>\n",
       "      <td>Acute kidney injury</td>\n",
       "      <td>10062237</td>\n",
       "      <td>Renal impairment</td>\n",
       "      <td>8</td>\n",
       "    </tr>\n",
       "    <tr>\n",
       "      <th>2</th>\n",
       "      <td>500000401</td>\n",
       "      <td>Acute kidney injury</td>\n",
       "      <td>10069339</td>\n",
       "      <td>Acute kidney injury</td>\n",
       "      <td>6</td>\n",
       "    </tr>\n",
       "    <tr>\n",
       "      <th>3</th>\n",
       "      <td>500000301</td>\n",
       "      <td>Acute liver injury</td>\n",
       "      <td>10000804</td>\n",
       "      <td>Acute hepatic failure</td>\n",
       "      <td>5</td>\n",
       "    </tr>\n",
       "    <tr>\n",
       "      <th>4</th>\n",
       "      <td>500000301</td>\n",
       "      <td>Acute liver injury</td>\n",
       "      <td>10019663</td>\n",
       "      <td>Hepatic failure</td>\n",
       "      <td>45</td>\n",
       "    </tr>\n",
       "  </tbody>\n",
       "</table>\n",
       "</div>"
      ],
      "text/plain": [
       "   cohort_id       condition_name  meddra_pt_id         meddra_pt_term  \\\n",
       "0  500000401  Acute kidney injury      10038435          Renal failure   \n",
       "1  500000401  Acute kidney injury      10062237       Renal impairment   \n",
       "2  500000401  Acute kidney injury      10069339    Acute kidney injury   \n",
       "3  500000301   Acute liver injury      10000804  Acute hepatic failure   \n",
       "4  500000301   Acute liver injury      10019663        Hepatic failure   \n",
       "\n",
       "   Positive Controls (N)  \n",
       "0                     20  \n",
       "1                      8  \n",
       "2                      6  \n",
       "3                      5  \n",
       "4                     45  "
      ]
     },
     "execution_count": 21,
     "metadata": {},
     "output_type": "execute_result"
    }
   ],
   "source": [
    "meddra_reference_map = pd.read_csv('/Users/undinagisladottir/Documents/Columbia/Tatonetti_Lab/causal-drug-ades/data/onsides_mapping.csv')\n",
    "meddra_reference_map.head()"
   ]
  },
  {
   "cell_type": "code",
   "execution_count": 22,
   "metadata": {},
   "outputs": [
    {
     "data": {
      "text/html": [
       "<div>\n",
       "<style scoped>\n",
       "    .dataframe tbody tr th:only-of-type {\n",
       "        vertical-align: middle;\n",
       "    }\n",
       "\n",
       "    .dataframe tbody tr th {\n",
       "        vertical-align: top;\n",
       "    }\n",
       "\n",
       "    .dataframe thead th {\n",
       "        text-align: right;\n",
       "    }\n",
       "</style>\n",
       "<table border=\"1\" class=\"dataframe\">\n",
       "  <thead>\n",
       "    <tr style=\"text-align: right;\">\n",
       "      <th></th>\n",
       "      <th>cohort_id</th>\n",
       "      <th>condition_name</th>\n",
       "      <th>meddra_pt_id</th>\n",
       "      <th>meddra_pt_term</th>\n",
       "      <th>Positive Controls (N)</th>\n",
       "    </tr>\n",
       "  </thead>\n",
       "  <tbody>\n",
       "    <tr>\n",
       "      <th>0</th>\n",
       "      <td>500000401</td>\n",
       "      <td>Acute kidney injury</td>\n",
       "      <td>10038435</td>\n",
       "      <td>Renal failure</td>\n",
       "      <td>20</td>\n",
       "    </tr>\n",
       "    <tr>\n",
       "      <th>1</th>\n",
       "      <td>500000401</td>\n",
       "      <td>Acute kidney injury</td>\n",
       "      <td>10062237</td>\n",
       "      <td>Renal impairment</td>\n",
       "      <td>8</td>\n",
       "    </tr>\n",
       "    <tr>\n",
       "      <th>2</th>\n",
       "      <td>500000401</td>\n",
       "      <td>Acute kidney injury</td>\n",
       "      <td>10069339</td>\n",
       "      <td>Acute kidney injury</td>\n",
       "      <td>6</td>\n",
       "    </tr>\n",
       "    <tr>\n",
       "      <th>3</th>\n",
       "      <td>500000301</td>\n",
       "      <td>Acute liver injury</td>\n",
       "      <td>10000804</td>\n",
       "      <td>Acute hepatic failure</td>\n",
       "      <td>5</td>\n",
       "    </tr>\n",
       "    <tr>\n",
       "      <th>4</th>\n",
       "      <td>500000301</td>\n",
       "      <td>Acute liver injury</td>\n",
       "      <td>10019663</td>\n",
       "      <td>Hepatic failure</td>\n",
       "      <td>45</td>\n",
       "    </tr>\n",
       "  </tbody>\n",
       "</table>\n",
       "</div>"
      ],
      "text/plain": [
       "   cohort_id       condition_name  meddra_pt_id         meddra_pt_term  \\\n",
       "0  500000401  Acute kidney injury      10038435          Renal failure   \n",
       "1  500000401  Acute kidney injury      10062237       Renal impairment   \n",
       "2  500000401  Acute kidney injury      10069339    Acute kidney injury   \n",
       "3  500000301   Acute liver injury      10000804  Acute hepatic failure   \n",
       "4  500000301   Acute liver injury      10019663        Hepatic failure   \n",
       "\n",
       "   Positive Controls (N)  \n",
       "0                     20  \n",
       "1                      8  \n",
       "2                      6  \n",
       "3                      5  \n",
       "4                     45  "
      ]
     },
     "execution_count": 22,
     "metadata": {},
     "output_type": "execute_result"
    }
   ],
   "source": [
    "meddra_reference_map.head()"
   ]
  },
  {
   "cell_type": "code",
   "execution_count": null,
   "metadata": {},
   "outputs": [],
   "source": [
    "data = gpt_output.merge(meddra_reference_map, how='inner', left_on='adr_name', right_on='concept_name')\n",
    "data.head()"
   ]
  },
  {
   "cell_type": "code",
   "execution_count": null,
   "metadata": {},
   "outputs": [],
   "source": [
    "reference_set.head()"
   ]
  },
  {
   "cell_type": "code",
   "execution_count": null,
   "metadata": {},
   "outputs": [],
   "source": [
    "data = gpt_output.merge(\n",
    "    meddra_reference_map, how='inner', left_on='adr_name', right_on='concept_name'\n",
    "    ).merge(\n",
    "        reference_set, on=['drug_name', 'condition_name', 'cohort_id'], how='inner'\n",
    "        )\n",
    "data.head()"
   ]
  },
  {
   "cell_type": "code",
   "execution_count": null,
   "metadata": {},
   "outputs": [],
   "source": [
    "data = data.groupby(['response', 'affect']).size().reset_index(name='n')\n",
    "data = data.merge(\n",
    "    data.groupby('affect').sum().reset_index()[['affect', 'n']].rename(columns={'n':'total'}),\n",
    "    on = 'affect'\n",
    ")\n",
    "data['perc'] = data['n'] / data['n'].groupby(data['affect']).transform('sum')\n",
    "data.head()"
   ]
  },
  {
   "cell_type": "code",
   "execution_count": null,
   "metadata": {},
   "outputs": [],
   "source": [
    "\n",
    "data = data[['drug_name', 'condition_name', 'affect', 'response']]\n",
    "data.groupby(['drug_name', 'condition_name', 'affect']).agg(lambda response: any(response == 'true')).reset_index()"
   ]
  },
  {
   "cell_type": "code",
   "execution_count": null,
   "metadata": {},
   "outputs": [],
   "source": [
    "# group by drug_name and condition_name, get max(affect) and response = true if any are true\n",
    "data[['response', 'affect']].value_counts(normalize=True)"
   ]
  },
  {
   "cell_type": "code",
   "execution_count": null,
   "metadata": {},
   "outputs": [],
   "source": [
    "data = data.groupby(['response', 'affect']).size().reset_index(name='n')\n",
    "data = data.merge(\n",
    "    data.groupby('affect').sum().reset_index()[['affect', 'n']].rename(columns={'n':'total'}),\n",
    "    on = 'affect'\n",
    ")\n",
    "data['perc'] = data['n'] / data['n'].groupby(data['affect']).transform('sum')"
   ]
  },
  {
   "cell_type": "code",
   "execution_count": null,
   "metadata": {},
   "outputs": [],
   "source": [
    "data.head()"
   ]
  },
  {
   "cell_type": "code",
   "execution_count": null,
   "metadata": {},
   "outputs": [],
   "source": [
    "reference_set.head(2)"
   ]
  },
  {
   "cell_type": "code",
   "execution_count": null,
   "metadata": {},
   "outputs": [],
   "source": [
    "rows_to_run = reference_set[['condition_name', 'drug_name']].values.tolist()\n",
    "for i in range(1):    \n",
    "    results = list()\n",
    "    \n",
    "    with concurrent.futures.ThreadPoolExecutor(max_workers=10) as exec:\n",
    "        results.extend(list(tqdm(\n",
    "            exec.map(run_iteration, rows_to_run), \n",
    "            total=len(rows_to_run)\n",
    "        )))\n",
    "            \n",
    "    gpt_output = pd.DataFrame(\n",
    "        [r for r in results if r is not None],\n",
    "        columns=['drug_name', 'adr_name', 'gpt_output']\n",
    "    )\n",
    "    gpt_output.to_csv(f'{system_name}_{prompt_name}_referenceset_run{i}.csv')"
   ]
  },
  {
   "cell_type": "code",
   "execution_count": null,
   "metadata": {},
   "outputs": [],
   "source": [
    "print(f'{system_name}_{prompt_name}_referenceset_run{i}.csv')"
   ]
  },
  {
   "cell_type": "code",
   "execution_count": null,
   "metadata": {},
   "outputs": [],
   "source": [
    "ref_res = reference_set.merge(\n",
    "    gpt_output,\n",
    "      right_on=['drug_name', 'adr_name'],\n",
    "      left_on=['drug_name', 'condition_name'],\n",
    "      how='inner'\n",
    ")\n",
    "ref_res['response'] = ['true' if 'true' in x.lower() else 'false' for x in ref_res['gpt_output']]\n",
    "print(ref_res[['affect', 'response']].value_counts())\n",
    "ref_res = ref_res.groupby(['response', 'affect']).size().reset_index(name='n')\n",
    "ref_res = ref_res.merge(\n",
    "    ref_res.groupby('affect').sum().reset_index()[['affect', 'n']].rename(columns={'n':'total'}),\n",
    "    on = 'affect'\n",
    ")\n",
    "ref_res['perc'] = ref_res['n'] / ref_res['n'].groupby(ref_res['affect']).transform('sum')\n",
    "print(ref_res)"
   ]
  },
  {
   "cell_type": "code",
   "execution_count": null,
   "metadata": {},
   "outputs": [],
   "source": [
    "ref_res.sort_values(by=['affect', 'response'])"
   ]
  },
  {
   "cell_type": "code",
   "execution_count": null,
   "metadata": {},
   "outputs": [],
   "source": [
    "gpt_output.head()"
   ]
  },
  {
   "cell_type": "markdown",
   "metadata": {},
   "source": [
    "## Combining with Reference Set"
   ]
  },
  {
   "cell_type": "code",
   "execution_count": 7,
   "metadata": {},
   "outputs": [],
   "source": [
    "def gpt_call(api_source, config, gpt_model, system_content, prompt, drug, adr, temperature):\n",
    "    if api_source == 'OpenAI':\n",
    "        client = OpenAI(api_key=config[api_source]['openai_api_key'])\n",
    "    elif api_source == 'Azure':\n",
    "        client = AzureOpenAI(api_key=config[api_source]['openai_api_key'], api_version=\"2023-12-01-preview\", azure_endpoint=config[api_source]['openai_api_endpoint'])\n",
    "    else:\n",
    "        raise Exception(f\"Unexpected API source requested: {api_source}\")\n",
    "  \n",
    "    chat_completion = client.chat.completions.create(\n",
    "        messages=[\n",
    "            {\"role\": \"system\", \"content\": system_content},\n",
    "            {\n",
    "                \"role\": \"user\",\n",
    "                \"content\": prompt.format(adr, drug)\n",
    "            }\n",
    "        ],\n",
    "        model=gpt_model,\n",
    "        temperature=temperature,\n",
    "    )\n",
    "    term = chat_completion.choices[0].message.content\n",
    "    return term"
   ]
  },
  {
   "cell_type": "code",
   "execution_count": 10,
   "metadata": {},
   "outputs": [],
   "source": [
    "config = json.load(open('../config.json'))\n",
    "\n",
    "organization = \"\"\n",
    "\n",
    "api_source = 'OpenAI'\n",
    "\n",
    "api_key = config[api_source]['openai_api_key'] #constants.AZURE_OPENAI_KEY\n",
    "api_endpoint = config[api_source]['openai_api_endpoint'] \n",
    "\n",
    "gpt_model = config[api_source][\"gpt_model\"]\n",
    "temperature = 0"
   ]
  },
  {
   "cell_type": "code",
   "execution_count": 9,
   "metadata": {},
   "outputs": [],
   "source": [
    "nruns = 3\n",
    "\n",
    "system_options = {\n",
    "    \"lie-detector\": \"\"\"\n",
    "    You are a lie detector. You will be given a statement and you have to determine if it is true or false.\n",
    "    Do not include an explanation. Only respond with \"true\" or \"false\".\n",
    "    \"\"\",\n",
    "    \"pharmaco-expert\": \"\"\"\n",
    "    You are a pharmacologist. You will be given a statement regarding a drug and potential adverse reaction\n",
    "    and you have to determine state whether it is true or false.\n",
    "    Do not include an explanation. Only respond with \"true\" or \"false\".\n",
    "    \"\"\",\n",
    "}\n",
    "\n",
    "prompt_options = {\n",
    "    \"side-effect\": \"\"\"\n",
    "True or False: {} is a side effect caused by {}.\n",
    "\"\"\",\n",
    "    \"adverse-reaction\": \"\"\"\n",
    "{} is an adverse reaction of {}.\n",
    "\"\"\",\n",
    "    \"caused-by\": \"\"\"\n",
    "{} is caused by {}.\n",
    "\"\"\"\n",
    "}"
   ]
  },
  {
   "cell_type": "code",
   "execution_count": 24,
   "metadata": {},
   "outputs": [
    {
     "data": {
      "text/html": [
       "<div>\n",
       "<style scoped>\n",
       "    .dataframe tbody tr th:only-of-type {\n",
       "        vertical-align: middle;\n",
       "    }\n",
       "\n",
       "    .dataframe tbody tr th {\n",
       "        vertical-align: top;\n",
       "    }\n",
       "\n",
       "    .dataframe thead th {\n",
       "        text-align: right;\n",
       "    }\n",
       "</style>\n",
       "<table border=\"1\" class=\"dataframe\">\n",
       "  <thead>\n",
       "    <tr style=\"text-align: right;\">\n",
       "      <th></th>\n",
       "      <th>cohort_id</th>\n",
       "      <th>condition_name</th>\n",
       "      <th>meddra_pt_id</th>\n",
       "      <th>meddra_pt_term</th>\n",
       "      <th>Positive Controls (N)</th>\n",
       "    </tr>\n",
       "  </thead>\n",
       "  <tbody>\n",
       "    <tr>\n",
       "      <th>0</th>\n",
       "      <td>500000401</td>\n",
       "      <td>Acute kidney injury</td>\n",
       "      <td>10038435</td>\n",
       "      <td>Renal failure</td>\n",
       "      <td>20</td>\n",
       "    </tr>\n",
       "    <tr>\n",
       "      <th>1</th>\n",
       "      <td>500000401</td>\n",
       "      <td>Acute kidney injury</td>\n",
       "      <td>10062237</td>\n",
       "      <td>Renal impairment</td>\n",
       "      <td>8</td>\n",
       "    </tr>\n",
       "    <tr>\n",
       "      <th>2</th>\n",
       "      <td>500000401</td>\n",
       "      <td>Acute kidney injury</td>\n",
       "      <td>10069339</td>\n",
       "      <td>Acute kidney injury</td>\n",
       "      <td>6</td>\n",
       "    </tr>\n",
       "    <tr>\n",
       "      <th>3</th>\n",
       "      <td>500000301</td>\n",
       "      <td>Acute liver injury</td>\n",
       "      <td>10000804</td>\n",
       "      <td>Acute hepatic failure</td>\n",
       "      <td>5</td>\n",
       "    </tr>\n",
       "    <tr>\n",
       "      <th>4</th>\n",
       "      <td>500000301</td>\n",
       "      <td>Acute liver injury</td>\n",
       "      <td>10019663</td>\n",
       "      <td>Hepatic failure</td>\n",
       "      <td>45</td>\n",
       "    </tr>\n",
       "  </tbody>\n",
       "</table>\n",
       "</div>"
      ],
      "text/plain": [
       "   cohort_id       condition_name  meddra_pt_id         meddra_pt_term  \\\n",
       "0  500000401  Acute kidney injury      10038435          Renal failure   \n",
       "1  500000401  Acute kidney injury      10062237       Renal impairment   \n",
       "2  500000401  Acute kidney injury      10069339    Acute kidney injury   \n",
       "3  500000301   Acute liver injury      10000804  Acute hepatic failure   \n",
       "4  500000301   Acute liver injury      10019663        Hepatic failure   \n",
       "\n",
       "   Positive Controls (N)  \n",
       "0                     20  \n",
       "1                      8  \n",
       "2                      6  \n",
       "3                      5  \n",
       "4                     45  "
      ]
     },
     "execution_count": 24,
     "metadata": {},
     "output_type": "execute_result"
    }
   ],
   "source": [
    "meddra_reference_map.head()"
   ]
  },
  {
   "cell_type": "code",
   "execution_count": 26,
   "metadata": {},
   "outputs": [
    {
     "data": {
      "text/html": [
       "<div>\n",
       "<style scoped>\n",
       "    .dataframe tbody tr th:only-of-type {\n",
       "        vertical-align: middle;\n",
       "    }\n",
       "\n",
       "    .dataframe tbody tr th {\n",
       "        vertical-align: top;\n",
       "    }\n",
       "\n",
       "    .dataframe thead th {\n",
       "        text-align: right;\n",
       "    }\n",
       "</style>\n",
       "<table border=\"1\" class=\"dataframe\">\n",
       "  <thead>\n",
       "    <tr style=\"text-align: right;\">\n",
       "      <th></th>\n",
       "      <th>condition_name</th>\n",
       "      <th>cohort_id</th>\n",
       "      <th>pt_meddra_term</th>\n",
       "      <th>pt_meddra_id</th>\n",
       "      <th>ingredients_names</th>\n",
       "    </tr>\n",
       "  </thead>\n",
       "  <tbody>\n",
       "    <tr>\n",
       "      <th>0</th>\n",
       "      <td>GI bleed</td>\n",
       "      <td>500001001</td>\n",
       "      <td>Gastrointestinal haemorrhage</td>\n",
       "      <td>10017955</td>\n",
       "      <td>dantrolene</td>\n",
       "    </tr>\n",
       "    <tr>\n",
       "      <th>1</th>\n",
       "      <td>GI bleed</td>\n",
       "      <td>500001001</td>\n",
       "      <td>Gastrointestinal haemorrhage</td>\n",
       "      <td>10017955</td>\n",
       "      <td>ketorolac</td>\n",
       "    </tr>\n",
       "    <tr>\n",
       "      <th>2</th>\n",
       "      <td>GI bleed</td>\n",
       "      <td>500001001</td>\n",
       "      <td>Gastrointestinal haemorrhage</td>\n",
       "      <td>10017955</td>\n",
       "      <td>meloxicam</td>\n",
       "    </tr>\n",
       "    <tr>\n",
       "      <th>3</th>\n",
       "      <td>GI bleed</td>\n",
       "      <td>500001001</td>\n",
       "      <td>Gastrointestinal haemorrhage</td>\n",
       "      <td>10017955</td>\n",
       "      <td>flurbiprofen</td>\n",
       "    </tr>\n",
       "    <tr>\n",
       "      <th>4</th>\n",
       "      <td>GI bleed</td>\n",
       "      <td>500001001</td>\n",
       "      <td>Gastrointestinal haemorrhage</td>\n",
       "      <td>10017955</td>\n",
       "      <td>carvedilol</td>\n",
       "    </tr>\n",
       "    <tr>\n",
       "      <th>...</th>\n",
       "      <td>...</td>\n",
       "      <td>...</td>\n",
       "      <td>...</td>\n",
       "      <td>...</td>\n",
       "      <td>...</td>\n",
       "    </tr>\n",
       "    <tr>\n",
       "      <th>58494</th>\n",
       "      <td>Acute liver injury</td>\n",
       "      <td>500000301</td>\n",
       "      <td>Acute hepatic failure</td>\n",
       "      <td>10000804</td>\n",
       "      <td>abacavir</td>\n",
       "    </tr>\n",
       "    <tr>\n",
       "      <th>58494</th>\n",
       "      <td>Acute liver injury</td>\n",
       "      <td>500000301</td>\n",
       "      <td>Acute hepatic failure</td>\n",
       "      <td>10000804</td>\n",
       "      <td>lamivudine</td>\n",
       "    </tr>\n",
       "    <tr>\n",
       "      <th>58512</th>\n",
       "      <td>Acute liver injury</td>\n",
       "      <td>500000301</td>\n",
       "      <td>Acute hepatic failure</td>\n",
       "      <td>10000804</td>\n",
       "      <td>isopropyl alcohol</td>\n",
       "    </tr>\n",
       "    <tr>\n",
       "      <th>58540</th>\n",
       "      <td>Acute liver injury</td>\n",
       "      <td>500000301</td>\n",
       "      <td>Acute hepatic failure</td>\n",
       "      <td>10000804</td>\n",
       "      <td>rilpivirine</td>\n",
       "    </tr>\n",
       "    <tr>\n",
       "      <th>58540</th>\n",
       "      <td>Acute liver injury</td>\n",
       "      <td>500000301</td>\n",
       "      <td>Acute hepatic failure</td>\n",
       "      <td>10000804</td>\n",
       "      <td>dolutegravir</td>\n",
       "    </tr>\n",
       "  </tbody>\n",
       "</table>\n",
       "<p>2587 rows × 5 columns</p>\n",
       "</div>"
      ],
      "text/plain": [
       "           condition_name  cohort_id                pt_meddra_term  \\\n",
       "0                GI bleed  500001001  Gastrointestinal haemorrhage   \n",
       "1                GI bleed  500001001  Gastrointestinal haemorrhage   \n",
       "2                GI bleed  500001001  Gastrointestinal haemorrhage   \n",
       "3                GI bleed  500001001  Gastrointestinal haemorrhage   \n",
       "4                GI bleed  500001001  Gastrointestinal haemorrhage   \n",
       "...                   ...        ...                           ...   \n",
       "58494  Acute liver injury  500000301         Acute hepatic failure   \n",
       "58494  Acute liver injury  500000301         Acute hepatic failure   \n",
       "58512  Acute liver injury  500000301         Acute hepatic failure   \n",
       "58540  Acute liver injury  500000301         Acute hepatic failure   \n",
       "58540  Acute liver injury  500000301         Acute hepatic failure   \n",
       "\n",
       "       pt_meddra_id  ingredients_names  \n",
       "0          10017955         dantrolene  \n",
       "1          10017955          ketorolac  \n",
       "2          10017955          meloxicam  \n",
       "3          10017955       flurbiprofen  \n",
       "4          10017955         carvedilol  \n",
       "...             ...                ...  \n",
       "58494      10000804           abacavir  \n",
       "58494      10000804         lamivudine  \n",
       "58512      10000804  isopropyl alcohol  \n",
       "58540      10000804        rilpivirine  \n",
       "58540      10000804       dolutegravir  \n",
       "\n",
       "[2587 rows x 5 columns]"
      ]
     },
     "execution_count": 26,
     "metadata": {},
     "output_type": "execute_result"
    }
   ],
   "source": [
    "adr_section = pd.read_csv('/Users/undinagisladottir/Documents/Columbia/Tatonetti_Lab/20231113_onsides/adverse_reactions_active_labels.csv')\n",
    "adr_condition_name = adr_section.merge(\n",
    "    meddra_reference_map, how = 'inner',\n",
    "    left_on = 'pt_meddra_id',\n",
    "    right_on = 'meddra_pt_id'\n",
    ")\n",
    "adr_condition_name.drop(adr_condition_name[adr_condition_name.ingredients_names.isna()].index, inplace=True)\n",
    "adr_condition_name = adr_condition_name[['condition_name', 'cohort_id', 'pt_meddra_term', 'pt_meddra_id', 'ingredients_names']]\n",
    "adr_condition_name['ingredients_names'] = adr_condition_name['ingredients_names'].str.split(',')\n",
    "adr_condition_name = adr_condition_name.explode('ingredients_names')\n",
    "adr_condition_name.drop_duplicates()"
   ]
  },
  {
   "cell_type": "code",
   "execution_count": 27,
   "metadata": {},
   "outputs": [
    {
     "data": {
      "text/plain": [
       "(1020,)"
      ]
     },
     "execution_count": 27,
     "metadata": {},
     "output_type": "execute_result"
    }
   ],
   "source": [
    "adr_condition_name['ingredients_names'].unique().shape"
   ]
  },
  {
   "cell_type": "code",
   "execution_count": null,
   "metadata": {},
   "outputs": [],
   "source": [
    "reference_set.head()"
   ]
  },
  {
   "cell_type": "code",
   "execution_count": null,
   "metadata": {},
   "outputs": [],
   "source": [
    "ref_adr_cond  = adr_condition_name.merge(\n",
    "    reference_set, left_on = ['condition_name', 'cohort_id', 'ingredients_names'], how = 'left',\n",
    "    right_on= ['condition_name', 'cohort_id', 'drug_name']\n",
    ")"
   ]
  },
  {
   "cell_type": "code",
   "execution_count": null,
   "metadata": {},
   "outputs": [],
   "source": [
    "rows_to_run = list()\n",
    "for _, row in ref_adr_cond.iterrows():\n",
    "    drug_name, condition_name, adr_name = row['drug_name'], row['condition_name'], row['pt_meddra_term']\n",
    "    rows_to_run.append(row)"
   ]
  },
  {
   "cell_type": "code",
   "execution_count": null,
   "metadata": {},
   "outputs": [],
   "source": [
    "def run_iteration(row):\n",
    "    \n",
    "    try:\n",
    "        gpt_out = gpt_call(api_source, config, gpt_model, system_content, prompt,\n",
    "                            row['ingredients_names'], row['pt_meddra_term'], temperature)\n",
    "        return [row['ingredients_names'], row['drug_name'], row['condition_name'],\n",
    "                row['cohort_id'], row['pt_meddra_term'], row['pt_meddra_id'], row['affect'], gpt_out]\n",
    "    except Exception as err:\n",
    "        print(f\"Encountered an exception for row: {drug} {adr}. Error message below:\")\n",
    "        print(err)\n",
    "        return None"
   ]
  },
  {
   "cell_type": "code",
   "execution_count": null,
   "metadata": {},
   "outputs": [],
   "source": [
    "print(f'{system_name}_{prompt_name}_run{i}.csv')\n",
    "for i in range(1):    \n",
    "    results = list()\n",
    "    \n",
    "    with concurrent.futures.ThreadPoolExecutor(max_workers=15) as exec:\n",
    "        results.extend(list(tqdm(\n",
    "            exec.map(run_iteration, rows_to_run), \n",
    "            total=len(rows_to_run)\n",
    "        )))\n",
    "            \n",
    "    gpt_output = pd.DataFrame(\n",
    "        [r for r in results if r is not None],\n",
    "        columns=['ingredients_names', 'drug_name', 'condition_name',\n",
    "                'cohort_id', 'pt_meddra_term', 'pt_meddra_id', 'affect', 'gpt_output']\n",
    "    )\n",
    "    gpt_output.to_csv(f'{system_name}_{prompt_name}_run{i}.csv')"
   ]
  },
  {
   "cell_type": "code",
   "execution_count": null,
   "metadata": {},
   "outputs": [],
   "source": []
  }
 ],
 "metadata": {
  "kernelspec": {
   "display_name": "llm_cpus",
   "language": "python",
   "name": "python3"
  },
  "language_info": {
   "codemirror_mode": {
    "name": "ipython",
    "version": 3
   },
   "file_extension": ".py",
   "mimetype": "text/x-python",
   "name": "python",
   "nbconvert_exporter": "python",
   "pygments_lexer": "ipython3",
   "version": "3.11.7"
  }
 },
 "nbformat": 4,
 "nbformat_minor": 2
}
