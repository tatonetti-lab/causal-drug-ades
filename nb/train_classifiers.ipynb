{
 "cells": [
  {
   "cell_type": "code",
   "execution_count": 113,
   "metadata": {},
   "outputs": [],
   "source": [
    "import polars as pl\n",
    "from sklearn.model_selection import train_test_split\n",
    "from sklearn.linear_model import LogisticRegression\n",
    "from sklearn.ensemble import RandomForestClassifier\n",
    "from sklearn.neighbors import KNeighborsClassifier\n",
    "from sklearn import metrics\n",
    "from sklearn.metrics import classification_report, accuracy_score, precision_score, recall_score, f1_score, roc_curve, auc\n"
   ]
  },
  {
   "cell_type": "code",
   "execution_count": 92,
   "metadata": {},
   "outputs": [],
   "source": [
    "file = '../results/basic_embeddings.csv'\n",
    "mode = file.split('_')[0].split('/')[-1]"
   ]
  },
  {
   "cell_type": "code",
   "execution_count": 47,
   "metadata": {},
   "outputs": [
    {
     "name": "stdout",
     "output_type": "stream",
     "text": [
      "shape: (5, 5)\n",
      "┌─────┬─────────────────────┬────────────────┬────────┬───────────┐\n",
      "│     ┆ condition_name      ┆ drug_name      ┆ affect ┆ 0         │\n",
      "│ --- ┆ ---                 ┆ ---            ┆ ---    ┆ ---       │\n",
      "│ i64 ┆ str                 ┆ str            ┆ f64    ┆ f64       │\n",
      "╞═════╪═════════════════════╪════════════════╪════════╪═══════════╡\n",
      "│ 0   ┆ acute kidney injury ┆ morphine       ┆ -1.0   ┆ -0.329442 │\n",
      "│ 1   ┆ acute kidney injury ┆ delafloxacin   ┆ -1.0   ┆ -0.631743 │\n",
      "│ 2   ┆ acute kidney injury ┆ aspirin        ┆ -1.0   ┆ -0.657761 │\n",
      "│ 3   ┆ acute kidney injury ┆ levoleucovorin ┆ -1.0   ┆ -0.11017  │\n",
      "│ 4   ┆ acute kidney injury ┆ afatinib       ┆ -1.0   ┆ -0.602554 │\n",
      "└─────┴─────────────────────┴────────────────┴────────┴───────────┘\n"
     ]
    }
   ],
   "source": [
    "data = (pl.read_csv('../results/basic_embeddings.csv')\n",
    "        .with_columns(\n",
    "            pl.when(pl.col('affect') == 1).then(pl.lit('Positive'))\n",
    "                .when(pl.col('affect') == 0).then(pl.lit('Negative'))\n",
    "                .when(pl.col('affect').is_null()).then(pl.lit('Non-Positive'))\n",
    "                .alias('status'),\n",
    "            pl.when(pl.col('affect') == 1).then(pl.lit(1))\n",
    "                .when(pl.col('affect') == -1).then(pl.lit(0))\n",
    "                .alias('outcome')\n",
    "        )\n",
    "        )\n",
    "print(data[['', 'condition_name', 'drug_name', 'affect', '0']].head())"
   ]
  },
  {
   "cell_type": "code",
   "execution_count": 48,
   "metadata": {},
   "outputs": [
    {
     "data": {
      "text/html": [
       "<div><style>\n",
       ".dataframe > thead > tr,\n",
       ".dataframe > tbody > tr {\n",
       "  text-align: right;\n",
       "  white-space: pre-wrap;\n",
       "}\n",
       "</style>\n",
       "<small>shape: (8, 3)</small><table border=\"1\" class=\"dataframe\"><thead><tr><th>condition_name</th><th>outcome</th><th>len</th></tr><tr><td>str</td><td>i32</td><td>u32</td></tr></thead><tbody><tr><td>&quot;acute kidney i…</td><td>1</td><td>10</td></tr><tr><td>&quot;acute liver in…</td><td>0</td><td>10</td></tr><tr><td>&quot;acute kidney i…</td><td>0</td><td>10</td></tr><tr><td>&quot;acute myocardi…</td><td>0</td><td>10</td></tr><tr><td>&quot;acute myocardi…</td><td>1</td><td>10</td></tr><tr><td>&quot;acute liver in…</td><td>1</td><td>10</td></tr><tr><td>&quot;gi bleed&quot;</td><td>1</td><td>10</td></tr><tr><td>&quot;gi bleed&quot;</td><td>0</td><td>10</td></tr></tbody></table></div>"
      ],
      "text/plain": [
       "shape: (8, 3)\n",
       "┌─────────────────────────────┬─────────┬─────┐\n",
       "│ condition_name              ┆ outcome ┆ len │\n",
       "│ ---                         ┆ ---     ┆ --- │\n",
       "│ str                         ┆ i32     ┆ u32 │\n",
       "╞═════════════════════════════╪═════════╪═════╡\n",
       "│ acute kidney injury         ┆ 1       ┆ 10  │\n",
       "│ acute liver injury          ┆ 0       ┆ 10  │\n",
       "│ acute kidney injury         ┆ 0       ┆ 10  │\n",
       "│ acute myocardial infarction ┆ 0       ┆ 10  │\n",
       "│ acute myocardial infarction ┆ 1       ┆ 10  │\n",
       "│ acute liver injury          ┆ 1       ┆ 10  │\n",
       "│ gi bleed                    ┆ 1       ┆ 10  │\n",
       "│ gi bleed                    ┆ 0       ┆ 10  │\n",
       "└─────────────────────────────┴─────────┴─────┘"
      ]
     },
     "execution_count": 48,
     "metadata": {},
     "output_type": "execute_result"
    }
   ],
   "source": [
    "data.group_by([pl.col('condition_name'),\n",
    "              pl.col('outcome')]).len()"
   ]
  },
  {
   "cell_type": "code",
   "execution_count": 23,
   "metadata": {},
   "outputs": [],
   "source": [
    "embed_col_names = [x for x in data.columns if x not in ['condition_name', 'drug_name', 'affect', 'outcome', 'status', '']]"
   ]
  },
  {
   "cell_type": "code",
   "execution_count": 89,
   "metadata": {},
   "outputs": [],
   "source": [
    "def performance(X_test, y_test, logreg, predictions):\n",
    "\n",
    "    accuracy = accuracy_score(y_test, predictions)\n",
    "    precision = precision_score(y_test, predictions)\n",
    "    recall = recall_score(y_test, predictions)\n",
    "    f1 = f1_score(y_test, predictions)\n",
    "\n",
    "    class_probabilities = logreg.predict_proba(X_test)\n",
    "    preds = class_probabilities[:, 1]\n",
    "\n",
    "    fpr, tpr, threshold = roc_curve(y_test, preds)\n",
    "    roc_auc = auc(fpr, tpr)\n",
    "    return [accuracy, precision, recall, f1, roc_auc]"
   ]
  },
  {
   "cell_type": "code",
   "execution_count": 114,
   "metadata": {},
   "outputs": [],
   "source": [
    "def make_classifier(model):\n",
    "    if model == 'logistic':\n",
    "        clf = LogisticRegression(random_state=0)\n",
    "    if model == 'rf':\n",
    "        clf = RandomForestClassifier(random_state=0)\n",
    "    if model == 'knn':\n",
    "        clf = KNeighborsClassifier(n_neighbors=3)\n",
    "    return clf"
   ]
  },
  {
   "cell_type": "code",
   "execution_count": 115,
   "metadata": {},
   "outputs": [
    {
     "name": "stderr",
     "output_type": "stream",
     "text": [
      "/Users/undinagisladottir/opt/anaconda3/envs/llm_cpus/lib/python3.11/site-packages/threadpoolctl.py:1186: RuntimeWarning: \n",
      "Found Intel OpenMP ('libiomp') and LLVM OpenMP ('libomp') loaded at\n",
      "the same time. Both libraries are known to be incompatible and this\n",
      "can cause random crashes or deadlocks on Linux when loaded in the\n",
      "same Python program.\n",
      "Using threadpoolctl may cause crashes or deadlocks. For more\n",
      "information and possible workarounds, please see\n",
      "    https://github.com/joblib/threadpoolctl/blob/master/multiple_openmp.md\n",
      "\n",
      "  warnings.warn(msg, RuntimeWarning)\n"
     ]
    }
   ],
   "source": [
    "results = []\n",
    "for model in ['logistic', 'rf', 'knn']:\n",
    "    for condition in list(set(data['condition_name'])):\n",
    "        hold_out = data.filter(pl.col('condition_name') == condition)\n",
    "        \n",
    "        # train on other data - train test split\n",
    "        subset_data = data.filter(pl.col('condition_name') != condition)\n",
    "        y_actual = subset_data['outcome'].to_numpy()\n",
    "        X = subset_data[embed_col_names].to_numpy()\n",
    "        X_train, X_test, y_train, y_test = train_test_split(X, y_actual, test_size=0.25, random_state=100)\n",
    "        clf = make_classifier(model)\n",
    "        \n",
    "        clf.fit(X_train, y_train)\n",
    "        predictions = clf.predict(X_test)\n",
    "        \n",
    "        accuracy, precision, recall, f1, roc_auc = performance(X_test, y_test, clf, predictions)\n",
    "\n",
    "        ## validation on hold out set\n",
    "        y_actual = hold_out['outcome'].to_numpy()\n",
    "        X = hold_out[embed_col_names].to_numpy()\n",
    "        predictions = clf.predict(X)\n",
    "        \n",
    "        hold_accuracy, hold_precision, hold_recall, hold_f1, hold_roc_auc = performance(X, y_actual, clf, predictions)\n",
    "        \n",
    "        results.append([condition, model, accuracy, precision, recall, f1, roc_auc,\n",
    "                        hold_accuracy, hold_precision, hold_recall, hold_f1, hold_roc_auc])"
   ]
  },
  {
   "cell_type": "code",
   "execution_count": 116,
   "metadata": {},
   "outputs": [
    {
     "data": {
      "text/html": [
       "<div><style>\n",
       ".dataframe > thead > tr,\n",
       ".dataframe > tbody > tr {\n",
       "  text-align: right;\n",
       "  white-space: pre-wrap;\n",
       "}\n",
       "</style>\n",
       "<small>shape: (12, 13)</small><table border=\"1\" class=\"dataframe\"><thead><tr><th>condition</th><th>model</th><th>accuracy</th><th>precision</th><th>recall</th><th>f1</th><th>roc_auc</th><th>hold_accuracy</th><th>hold_precision</th><th>hold_recall</th><th>hold_f1</th><th>hold_roc_auc</th><th>mode</th></tr><tr><td>str</td><td>str</td><td>f64</td><td>f64</td><td>f64</td><td>f64</td><td>f64</td><td>f64</td><td>f64</td><td>f64</td><td>f64</td><td>f64</td><td>str</td></tr></thead><tbody><tr><td>&quot;acute myocardi…</td><td>&quot;logistic&quot;</td><td>0.733333</td><td>0.714286</td><td>0.714286</td><td>0.714286</td><td>0.892857</td><td>0.8</td><td>0.75</td><td>0.9</td><td>0.818182</td><td>0.62</td><td>&quot;basic&quot;</td></tr><tr><td>&quot;gi bleed&quot;</td><td>&quot;logistic&quot;</td><td>0.6</td><td>0.571429</td><td>0.571429</td><td>0.571429</td><td>0.571429</td><td>1.0</td><td>1.0</td><td>1.0</td><td>1.0</td><td>0.74</td><td>&quot;basic&quot;</td></tr><tr><td>&quot;acute liver in…</td><td>&quot;logistic&quot;</td><td>0.733333</td><td>0.666667</td><td>0.857143</td><td>0.75</td><td>0.714286</td><td>0.85</td><td>0.818182</td><td>0.9</td><td>0.857143</td><td>0.58</td><td>&quot;basic&quot;</td></tr><tr><td>&quot;acute kidney i…</td><td>&quot;logistic&quot;</td><td>0.533333</td><td>0.5</td><td>0.714286</td><td>0.588235</td><td>0.625</td><td>0.6</td><td>0.5625</td><td>0.9</td><td>0.692308</td><td>0.93</td><td>&quot;basic&quot;</td></tr><tr><td>&quot;acute myocardi…</td><td>&quot;rf&quot;</td><td>0.6</td><td>0.571429</td><td>0.571429</td><td>0.571429</td><td>0.6875</td><td>0.8</td><td>0.75</td><td>0.9</td><td>0.818182</td><td>0.595</td><td>&quot;basic&quot;</td></tr><tr><td>&quot;gi bleed&quot;</td><td>&quot;rf&quot;</td><td>0.6</td><td>0.571429</td><td>0.571429</td><td>0.571429</td><td>0.589286</td><td>1.0</td><td>1.0</td><td>1.0</td><td>1.0</td><td>0.665</td><td>&quot;basic&quot;</td></tr><tr><td>&quot;acute liver in…</td><td>&quot;rf&quot;</td><td>0.666667</td><td>0.625</td><td>0.714286</td><td>0.666667</td><td>0.794643</td><td>0.85</td><td>0.818182</td><td>0.9</td><td>0.857143</td><td>0.475</td><td>&quot;basic&quot;</td></tr><tr><td>&quot;acute kidney i…</td><td>&quot;rf&quot;</td><td>0.533333</td><td>0.5</td><td>0.571429</td><td>0.533333</td><td>0.642857</td><td>0.6</td><td>0.5625</td><td>0.9</td><td>0.692308</td><td>0.98</td><td>&quot;basic&quot;</td></tr><tr><td>&quot;acute myocardi…</td><td>&quot;knn&quot;</td><td>0.666667</td><td>0.583333</td><td>1.0</td><td>0.736842</td><td>0.732143</td><td>0.8</td><td>0.75</td><td>0.9</td><td>0.818182</td><td>0.59</td><td>&quot;basic&quot;</td></tr><tr><td>&quot;gi bleed&quot;</td><td>&quot;knn&quot;</td><td>0.666667</td><td>0.583333</td><td>1.0</td><td>0.736842</td><td>0.732143</td><td>1.0</td><td>1.0</td><td>1.0</td><td>1.0</td><td>0.605</td><td>&quot;basic&quot;</td></tr><tr><td>&quot;acute liver in…</td><td>&quot;knn&quot;</td><td>0.733333</td><td>0.666667</td><td>0.857143</td><td>0.75</td><td>0.732143</td><td>0.85</td><td>0.818182</td><td>0.9</td><td>0.857143</td><td>0.45</td><td>&quot;basic&quot;</td></tr><tr><td>&quot;acute kidney i…</td><td>&quot;knn&quot;</td><td>0.533333</td><td>0.5</td><td>0.571429</td><td>0.533333</td><td>0.5625</td><td>0.6</td><td>0.5625</td><td>0.9</td><td>0.692308</td><td>0.545</td><td>&quot;basic&quot;</td></tr></tbody></table></div>"
      ],
      "text/plain": [
       "shape: (12, 13)\n",
       "┌─────────────┬──────────┬──────────┬───────────┬───┬─────────────┬──────────┬─────────────┬───────┐\n",
       "│ condition   ┆ model    ┆ accuracy ┆ precision ┆ … ┆ hold_recall ┆ hold_f1  ┆ hold_roc_au ┆ mode  │\n",
       "│ ---         ┆ ---      ┆ ---      ┆ ---       ┆   ┆ ---         ┆ ---      ┆ c           ┆ ---   │\n",
       "│ str         ┆ str      ┆ f64      ┆ f64       ┆   ┆ f64         ┆ f64      ┆ ---         ┆ str   │\n",
       "│             ┆          ┆          ┆           ┆   ┆             ┆          ┆ f64         ┆       │\n",
       "╞═════════════╪══════════╪══════════╪═══════════╪═══╪═════════════╪══════════╪═════════════╪═══════╡\n",
       "│ acute       ┆ logistic ┆ 0.733333 ┆ 0.714286  ┆ … ┆ 0.9         ┆ 0.818182 ┆ 0.62        ┆ basic │\n",
       "│ myocardial  ┆          ┆          ┆           ┆   ┆             ┆          ┆             ┆       │\n",
       "│ infarction  ┆          ┆          ┆           ┆   ┆             ┆          ┆             ┆       │\n",
       "│ gi bleed    ┆ logistic ┆ 0.6      ┆ 0.571429  ┆ … ┆ 1.0         ┆ 1.0      ┆ 0.74        ┆ basic │\n",
       "│ acute liver ┆ logistic ┆ 0.733333 ┆ 0.666667  ┆ … ┆ 0.9         ┆ 0.857143 ┆ 0.58        ┆ basic │\n",
       "│ injury      ┆          ┆          ┆           ┆   ┆             ┆          ┆             ┆       │\n",
       "│ acute       ┆ logistic ┆ 0.533333 ┆ 0.5       ┆ … ┆ 0.9         ┆ 0.692308 ┆ 0.93        ┆ basic │\n",
       "│ kidney      ┆          ┆          ┆           ┆   ┆             ┆          ┆             ┆       │\n",
       "│ injury      ┆          ┆          ┆           ┆   ┆             ┆          ┆             ┆       │\n",
       "│ acute       ┆ rf       ┆ 0.6      ┆ 0.571429  ┆ … ┆ 0.9         ┆ 0.818182 ┆ 0.595       ┆ basic │\n",
       "│ myocardial  ┆          ┆          ┆           ┆   ┆             ┆          ┆             ┆       │\n",
       "│ infarction  ┆          ┆          ┆           ┆   ┆             ┆          ┆             ┆       │\n",
       "│ …           ┆ …        ┆ …        ┆ …         ┆ … ┆ …           ┆ …        ┆ …           ┆ …     │\n",
       "│ acute       ┆ rf       ┆ 0.533333 ┆ 0.5       ┆ … ┆ 0.9         ┆ 0.692308 ┆ 0.98        ┆ basic │\n",
       "│ kidney      ┆          ┆          ┆           ┆   ┆             ┆          ┆             ┆       │\n",
       "│ injury      ┆          ┆          ┆           ┆   ┆             ┆          ┆             ┆       │\n",
       "│ acute       ┆ knn      ┆ 0.666667 ┆ 0.583333  ┆ … ┆ 0.9         ┆ 0.818182 ┆ 0.59        ┆ basic │\n",
       "│ myocardial  ┆          ┆          ┆           ┆   ┆             ┆          ┆             ┆       │\n",
       "│ infarction  ┆          ┆          ┆           ┆   ┆             ┆          ┆             ┆       │\n",
       "│ gi bleed    ┆ knn      ┆ 0.666667 ┆ 0.583333  ┆ … ┆ 1.0         ┆ 1.0      ┆ 0.605       ┆ basic │\n",
       "│ acute liver ┆ knn      ┆ 0.733333 ┆ 0.666667  ┆ … ┆ 0.9         ┆ 0.857143 ┆ 0.45        ┆ basic │\n",
       "│ injury      ┆          ┆          ┆           ┆   ┆             ┆          ┆             ┆       │\n",
       "│ acute       ┆ knn      ┆ 0.533333 ┆ 0.5       ┆ … ┆ 0.9         ┆ 0.692308 ┆ 0.545       ┆ basic │\n",
       "│ kidney      ┆          ┆          ┆           ┆   ┆             ┆          ┆             ┆       │\n",
       "│ injury      ┆          ┆          ┆           ┆   ┆             ┆          ┆             ┆       │\n",
       "└─────────────┴──────────┴──────────┴───────────┴───┴─────────────┴──────────┴─────────────┴───────┘"
      ]
     },
     "execution_count": 116,
     "metadata": {},
     "output_type": "execute_result"
    }
   ],
   "source": [
    "(pl.DataFrame(results, schema=['condition', 'model', 'accuracy', 'precision', 'recall', 'f1', 'roc_auc',\n",
    "                               'hold_accuracy', 'hold_precision', 'hold_recall', 'hold_f1', 'hold_roc_auc'])\n",
    "        .with_columns(\n",
    "            pl.lit(mode).alias('mode')\n",
    "            )\n",
    "                               )"
   ]
  },
  {
   "cell_type": "code",
   "execution_count": null,
   "metadata": {},
   "outputs": [],
   "source": []
  }
 ],
 "metadata": {
  "kernelspec": {
   "display_name": "llm_cpus",
   "language": "python",
   "name": "python3"
  },
  "language_info": {
   "codemirror_mode": {
    "name": "ipython",
    "version": 3
   },
   "file_extension": ".py",
   "mimetype": "text/x-python",
   "name": "python",
   "nbconvert_exporter": "python",
   "pygments_lexer": "ipython3",
   "version": "3.11.7"
  }
 },
 "nbformat": 4,
 "nbformat_minor": 2
}
