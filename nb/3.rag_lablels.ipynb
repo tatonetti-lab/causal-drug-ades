{
 "cells": [
  {
   "cell_type": "code",
   "execution_count": 196,
   "metadata": {},
   "outputs": [],
   "source": [
    "import polars as pl\n",
    "import pandas as pd\n",
    "import json\n",
    "from pprint import pprint\n",
    "from chromadb.utils import embedding_functions\n",
    "\n",
    "# import\n",
    "from langchain_community.document_loaders import DirectoryLoader, JSONLoader\n",
    "from langchain_community.embeddings.sentence_transformer import (\n",
    "    SentenceTransformerEmbeddings\n",
    ")\n",
    "from langchain_community.embeddings import OpenAIEmbeddings, AzureOpenAIEmbeddings\n",
    "from langchain_community.vectorstores import Chroma\n",
    "from langchain_text_splitters import CharacterTextSplitter\n",
    "from openai import OpenAI, AzureOpenAI\n",
    "from langchain_openai import ChatOpenAI\n",
    "from langchain.schema.runnable import RunnablePassthrough\n",
    "from langchain.schema.output_parser import StrOutputParser\n"
   ]
  },
  {
   "cell_type": "code",
   "execution_count": 139,
   "metadata": {},
   "outputs": [],
   "source": [
    "config = json.load(open('../config.json'))\n",
    "\n",
    "organization = \"\"\n",
    "\n",
    "api_source = 'OpenAI'\n",
    "\n",
    "api_key = config[api_source]['openai_api_key'] #constants.AZURE_OPENAI_KEY\n",
    "api_endpoint = config[api_source]['openai_api_endpoint']  "
   ]
  },
  {
   "cell_type": "code",
   "execution_count": 110,
   "metadata": {},
   "outputs": [
    {
     "data": {
      "text/html": [
       "<div><style>\n",
       ".dataframe > thead > tr,\n",
       ".dataframe > tbody > tr {\n",
       "  text-align: right;\n",
       "  white-space: pre-wrap;\n",
       "}\n",
       "</style>\n",
       "<small>shape: (5, 16)</small><table border=\"1\" class=\"dataframe\"><thead><tr><th>file</th><th>set_id</th><th>spl_version</th><th>title</th><th>ingredient_rx_cui</th><th>ingredient_name</th><th>pt_meddra_id</th><th>pt_meddra_term</th><th>cohort_id</th><th>condition_name</th><th>positive_controls</th><th>label</th><th>cohort_id_right</th><th>drug_concept_id</th><th>affect</th><th>reference</th></tr><tr><td>str</td><td>str</td><td>i64</td><td>str</td><td>i64</td><td>str</td><td>i64</td><td>str</td><td>i64</td><td>str</td><td>i64</td><td>i64</td><td>i64</td><td>i64</td><td>i64</td><td>i64</td></tr></thead><tbody><tr><td>&quot;../data/2024_l…</td><td>&quot;4e8516dc-a3c6-…</td><td>1</td><td>&quot;These highligh…</td><td>6064</td><td>&quot;isotretinoin&quot;</td><td>10019851</td><td>&quot;hepatotoxicity…</td><td>500000301</td><td>&quot;acute liver in…</td><td>28</td><td>1</td><td>null</td><td>null</td><td>null</td><td>null</td></tr><tr><td>&quot;../data/2024_l…</td><td>&quot;0e98593a-8424-…</td><td>9</td><td>&quot;These highligh…</td><td>20352</td><td>&quot;carvedilol&quot;</td><td>10017955</td><td>&quot;gastrointestin…</td><td>500001001</td><td>&quot;gi bleed&quot;</td><td>21</td><td>1</td><td>null</td><td>null</td><td>null</td><td>null</td></tr><tr><td>&quot;../data/2024_l…</td><td>&quot;5c8cebcd-699f-…</td><td>100</td><td>&quot;These highligh…</td><td>8754</td><td>&quot;propafenone&quot;</td><td>10060795</td><td>&quot;hepatic enzyme…</td><td>500000301</td><td>&quot;acute liver in…</td><td>14</td><td>1</td><td>null</td><td>null</td><td>null</td><td>null</td></tr><tr><td>&quot;../data/2024_l…</td><td>&quot;ab8616a5-ea72-…</td><td>10</td><td>&quot;These highligh…</td><td>40254</td><td>&quot;valproate&quot;</td><td>10018830</td><td>&quot;haematemesis&quot;</td><td>500001001</td><td>&quot;gi bleed&quot;</td><td>11</td><td>1</td><td>null</td><td>null</td><td>null</td><td>null</td></tr><tr><td>&quot;../data/2024_l…</td><td>&quot;10a3fbc9-00c6-…</td><td>1</td><td>&quot;These highligh…</td><td>7646</td><td>&quot;omeprazole&quot;</td><td>10019692</td><td>&quot;hepatic necros…</td><td>500000301</td><td>&quot;acute liver in…</td><td>15</td><td>1</td><td>null</td><td>null</td><td>null</td><td>null</td></tr></tbody></table></div>"
      ],
      "text/plain": [
       "shape: (5, 16)\n",
       "┌────────────┬────────────┬───────────┬───────────┬───┬───────────┬───────────┬────────┬───────────┐\n",
       "│ file       ┆ set_id     ┆ spl_versi ┆ title     ┆ … ┆ cohort_id ┆ drug_conc ┆ affect ┆ reference │\n",
       "│ ---        ┆ ---        ┆ on        ┆ ---       ┆   ┆ _right    ┆ ept_id    ┆ ---    ┆ ---       │\n",
       "│ str        ┆ str        ┆ ---       ┆ str       ┆   ┆ ---       ┆ ---       ┆ i64    ┆ i64       │\n",
       "│            ┆            ┆ i64       ┆           ┆   ┆ i64       ┆ i64       ┆        ┆           │\n",
       "╞════════════╪════════════╪═══════════╪═══════════╪═══╪═══════════╪═══════════╪════════╪═══════════╡\n",
       "│ ../data/20 ┆ 4e8516dc-a ┆ 1         ┆ These hig ┆ … ┆ null      ┆ null      ┆ null   ┆ null      │\n",
       "│ 24_latest_ ┆ 3c6-4d8f-a ┆           ┆ hlights   ┆   ┆           ┆           ┆        ┆           │\n",
       "│ labels/lat ┆ a14-2c37c6 ┆           ┆ do not    ┆   ┆           ┆           ┆        ┆           │\n",
       "│ es…        ┆ c8…        ┆           ┆ include … ┆   ┆           ┆           ┆        ┆           │\n",
       "│ ../data/20 ┆ 0e98593a-8 ┆ 9         ┆ These hig ┆ … ┆ null      ┆ null      ┆ null   ┆ null      │\n",
       "│ 24_latest_ ┆ 424-48c8-a ┆           ┆ hlights   ┆   ┆           ┆           ┆        ┆           │\n",
       "│ labels/lat ┆ cc0-671f4b ┆           ┆ do not    ┆   ┆           ┆           ┆        ┆           │\n",
       "│ es…        ┆ 56…        ┆           ┆ include … ┆   ┆           ┆           ┆        ┆           │\n",
       "│ ../data/20 ┆ 5c8cebcd-6 ┆ 100       ┆ These hig ┆ … ┆ null      ┆ null      ┆ null   ┆ null      │\n",
       "│ 24_latest_ ┆ 99f-4c4c-9 ┆           ┆ hlights   ┆   ┆           ┆           ┆        ┆           │\n",
       "│ labels/lat ┆ 00b-94e0fe ┆           ┆ do not    ┆   ┆           ┆           ┆        ┆           │\n",
       "│ es…        ┆ 51…        ┆           ┆ include … ┆   ┆           ┆           ┆        ┆           │\n",
       "│ ../data/20 ┆ ab8616a5-e ┆ 10        ┆ These hig ┆ … ┆ null      ┆ null      ┆ null   ┆ null      │\n",
       "│ 24_latest_ ┆ a72-4df7-b ┆           ┆ hlights   ┆   ┆           ┆           ┆        ┆           │\n",
       "│ labels/lat ┆ 095-54ea19 ┆           ┆ do not    ┆   ┆           ┆           ┆        ┆           │\n",
       "│ es…        ┆ ef…        ┆           ┆ include … ┆   ┆           ┆           ┆        ┆           │\n",
       "│ ../data/20 ┆ 10a3fbc9-0 ┆ 1         ┆ These hig ┆ … ┆ null      ┆ null      ┆ null   ┆ null      │\n",
       "│ 24_latest_ ┆ 0c6-ad83-e ┆           ┆ hlights   ┆   ┆           ┆           ┆        ┆           │\n",
       "│ labels/lat ┆ 063-6294a9 ┆           ┆ do not    ┆   ┆           ┆           ┆        ┆           │\n",
       "│ es…        ┆ 0a…        ┆           ┆ include … ┆   ┆           ┆           ┆        ┆           │\n",
       "└────────────┴────────────┴───────────┴───────────┴───┴───────────┴───────────┴────────┴───────────┘"
      ]
     },
     "execution_count": 110,
     "metadata": {},
     "output_type": "execute_result"
    }
   ],
   "source": [
    "label_dat = pl.read_csv('../data/labels_w_ADRs.csv')\n",
    "label_dat.head()"
   ]
  },
  {
   "cell_type": "code",
   "execution_count": 111,
   "metadata": {},
   "outputs": [
    {
     "data": {
      "text/plain": [
       "860"
      ]
     },
     "execution_count": 111,
     "metadata": {},
     "output_type": "execute_result"
    }
   ],
   "source": [
    "len(label_dat['file'].unique())"
   ]
  },
  {
   "cell_type": "code",
   "execution_count": 112,
   "metadata": {},
   "outputs": [
    {
     "name": "stdout",
     "output_type": "stream",
     "text": [
      "[Document(page_content='{\"AR\": \"ADVERSE REACTIONS\\\\n\\\\n\\\\nClinical Trial Adverse Events. Clomiphene citrate, at recommended dosages, is generally well tolerated. Adverse reactions usually have been mild and transient and most have disappeared promptly after treatment has been discontinued. Adverse experiences reported in patients treated with clomiphene citrate during clinical studies are shown in Table 2.\\\\n\\\\nTable 2. Incidence of Adverse Events in Clinical Studies (Events Greater than 1%) (n = 8029*)\\\\n\\\\n\\\\n\\\\n\\\\n\\\\n\\\\n\\\\u00a0*Includes 498 patients whose reports may have been duplicated in the event totals and could not be distinguished as such. Also, excludes 47 patients who did not report symptom data.\\\\n\\\\n\\\\n\\\\n\\\\n\\\\nAdverse Event\\\\n\\\\n\\\\n%\\\\n\\\\n\\\\n\\\\n\\\\nOvarian Enlargement\\\\n\\\\n\\\\n13.6\\\\n\\\\n\\\\n\\\\n\\\\nVasomotor Flushes\\\\n\\\\n\\\\n10.4\\\\n\\\\n\\\\n\\\\n\\\\nAbdominal-Pelvic Discomfort/Distention/Bloating\\\\n\\\\n\\\\n5.5\\\\n\\\\n\\\\n\\\\n\\\\nNausea and Vomiting\\\\n\\\\n\\\\n2.2\\\\n\\\\n\\\\n\\\\n\\\\nBreast Discomfort\\\\n\\\\n\\\\n2.1\\\\n\\\\n\\\\n\\\\n\\\\nVisual Symptoms\\\\n\\\\n\\\\n1.5\\\\n\\\\n\\\\n\\\\n\\\\nBlurred vision, lights, floaters, waves, unspecified visual\\\\n\\\\n\\\\n\\\\n\\\\n\\\\ncomplaints, photophobia, diplopia, scotomata, phosphenes\\\\n\\\\n\\\\n\\\\n\\\\n\\\\nHeadache\\\\n\\\\n\\\\n1.3\\\\n\\\\n\\\\n\\\\n\\\\nAbnormal Uterine Bleeding\\\\n\\\\n\\\\n1.3\\\\n\\\\n\\\\n\\\\n\\\\nIntermenstrual spotting, menorrhagia\\\\n\\\\n\\\\n\\\\n\\\\n\\\\nThe following adverse events have been reported in fewer than 1% of patients in clinical trials: Acute abdomen, appetite increase, constipation, dermatitis or rash, depression, diarrhea, dizziness, fatigue, hair loss/dry hair, increased urinary frequency/volume, insomnia, light-headedness, nervous tension, vaginal dryness, vertigo, weight gain/loss.\\\\nPatients on prolonged clomiphene citrate therapy may show elevated serum levels of desmosterol. This is most likely due to a direct interference with cholesterol synthesis. However, the serum sterols in patients receiving the recommended dose of clomiphene citrate are not significantly altered. Ovarian cancer has been infrequently reported in patients who have received fertility drugs. Infertility is a primary risk factor for ovarian cancer; however, epidemiology data suggest that prolonged use of clomiphene may increase the risk of a borderline or invasive ovarian tumor.\\\\n\\\\n\\\\n\\\\n\\\\n\\\\n\\\\n\\\\n\\\\nPostmarketing Adverse Events\\\\n\\\\n\\\\n\\\\nThe following adverse reactions have been identified during the post approval use of clomiphene citrate. Because these reactions are reported voluntarily from a population of uncertain size, it is not always possible to reliably estimate their frequency or establish a causal relationship to drug exposure.\\\\n\\\\nBody as a Whole: Fever, tinnitus, weakness\\\\n\\\\nCardiovascular: Arrhythmia, chest pain, edema, hypertension, palpitation, phlebitis, pulmonary embolism, shortness of breath, tachycardia, thrombophlebitis\\\\n\\\\nCentral Nervous System: Migraine headache, paresthesia, seizure, stroke, syncope\\\\n\\\\nDermatologic: Acne, allergic reaction, erythema, erythema multiforme, erythema nodosum, hypertrichosis, pruritus, urticaria\\\\n\\\\nFetal/Neonatal Anomalies:\\\\n\\\\n\\\\nAbnormal bone development: skeletal malformations of the skull, face, nasal passages, jaw, hand, limb (ectromelia including amelia, hemimelia, and phocomelia),foot (clubfoot), spine and joints\\\\nCardiac abnormalities: septal heart defects, muscular ventricular septal defect, patent ductus arteriosus, tetralogy of Fallot, and coarctation of the aorta\\\\nChromosomal disorders: Downs syndrome\\\\nEar abnormalities and deafness\\\\nGastrointestinal tract abnormalities: cleft lip and palate, imperforate anus, tracheoesophageal fistula, diaphragmatic hernia, omphalocele\\\\nGenitalia abnormalities: hypospadias, cloacal exstrophy\\\\nLung tissue malformations\\\\nMalformations of the eye and lens (cataract)\\\\nNeoplasms: neuroectodermal tumor, thyroid tumor, hepatoblastoma, lymphocytic, leukemia\\\\nNervous system abnormalities: neural tube defects (anencephaly, meningomyelocele),microcephaly, and hydrocephalus\\\\nRenal abnormalities: renal agenesis and renal dysgenesis\\\\nOthers: dwarfism, mental retardation\\\\n\\\\n\\\\nGastrointestinal: Pancreatitis\\\\n\\\\nGenitourinary: Endometriosis, ovarian cyst (ovarian enlargement or cysts could, as such, be complicated by adnexal torsion), ovarian hemorrhage, tubal pregnancy, uterine hemorrhage,\\\\u00a0\\\\u00a0 reduced endometrial thickness\\\\n\\\\nHepatic: Transaminases increased, hepatitis.\\\\n\\\\nMetabolism Disorders: Hypertriglyceridemia, in some cases with pancreatitis\\\\n\\\\nMusculoskeletal: Arthralgia, back pain, myalgia.\\\\n\\\\nNeoplasms: Liver (hepatic hemangiosarcoma, liver cell adenoma, hepatocellular carcinoma); breast (fibrocystic disease, breast carcinoma); endometrium (endometrial carcinoma); nervous system (astrocytoma, pituitary tumor, prolactinoma, neurofibromatosis, glioblastoma multiforme, brain abcess); ovary (luteoma of pregnancy, dermoid cyst of the ovary, ovarian carcinoma); trophoblastic (hydatiform mole, choriocarcinoma); miscellaneous (melanoma, myeloma, perianal cysts, renal cell carcinoma, Hodgkin\\\\u2019s lymphoma, tongue carcinoma, bladder carcinoma);\\\\n\\\\nPsychiatric: Anxiety, irritability, mood changes, psychosis.\\\\n\\\\nVisual Disorders: Abnormal accommodation, cataract, eye pain, macular edema, optic neuritis, photopsia, posterior vitreous detachment, retinal hemorrhage, retinal thrombosis, retinal vascular spasm, temporary or prolonged loss of vision, possibly irreversible.\\\\n\\\\nOther: Leukocytosis, thyroid disorder.\\\\n\\\\n\\\\n\\\\n\\\\n\\\\n\\\\n\\\\n\\\\nDRUG ABUSE AND DEPENDENCE\\\\n\\\\nTolerance, abuse, or dependence with clomiphene citrate has not been reported.\", \"WA\": \"WARNINGS\\\\n\\\\n\\\\n\\\\n\\\\n\\\\n\\\\nVisual Symptoms\\\\n\\\\n\\\\nPatients should be advised that blurring or other visual symptoms such as spots or flashes (scintillating scotomata) may occasionally occur during therapy with clomiphene citrate. These visual symptoms increase in incidence with increasing total dose or therapy duration. These visual disturbances are usually reversible; however, cases of prolonged visual disturbance have been reported with some occurring after clomiphene citrate discontinuation. The visual disturbances may be irreversible, especially with increased dosage or duration of therapy. Patients should be warned that these visual symptoms may render such activities as driving a car or operating machinery more hazardous than usual, particularly under conditions of variable lighting.\\\\nThese visual symptoms appear to be due to intensification and prolongation of after-images. Symptoms often first appear or are accentuated with exposure to a brightly lit environment. While measured visual acuity usually has not been affected, a study patient taking 200 mg clomiphene citrate daily developed visual blurring on the 7th day of treatment, which progressed to severe diminution of visual acuity by the 10th day. No other abnormality was found, and the visual acuity returned to normal on the 3rd day after treatment was stopped.\\\\nOphthalmologically definable scotomata and retinal cell function (electroretinographic) changes have also been reported. A patient treated during clinical studies developed phosphenes and scotomata during prolonged clomiphene citrate administration, which disappeared by the 32nd day after stopping therapy.\\\\nPostmarketing surveillance of adverse events has also revealed other visual signs and symptoms during clomiphene citrate therapy (see ADVERSE REACTIONS).\\\\nWhile the etiology of these visual symptoms is not yet understood, patients with any visual symptoms should discontinue treatment and have a complete ophthalmological evaluation carried out promptly.\\\\n\\\\n\\\\n\\\\n\\\\n\\\\n\\\\n\\\\n\\\\n\\\\nOvarianHyperstimulationSyndrome\\\\n\\\\n\\\\nThe ovarian hyperstimulation syndrome (OHSS) has been reported to occur in patients receiving clomiphene citrate therapy for ovulation induction. OHSS may progress rapidly (within 24 hours to several days) and become a serious medical disorder. In some cases, OHSS occurred following cyclic use of clomiphene citrate therapy or when clomiphene citrate was used in combination with gonadotropins. Transient liver function test abnormalities suggestive of hepatic dysfunction, which may be accompanied by morphologic changes on liver biopsy, have been reported in association with OHSS.\\\\nOHSS is a medical event distinct from uncomplicated ovarian enlargement. The clinical signs of this syndrome in severe cases can include gross ovarian enlargement, gastrointestinal symptoms, ascites, dyspnea, oliguria, and pleural effusion. In addition, the following symptoms have been reported in association with this syndrome: pericardial effusion, anasarca, hydrothorax, acute abdomen, hypotension, renal failure, pulmonary edema, intraperitoneal and ovarian hemorrhage, deep venous thrombosis, torsion of the ovary, and acute respiratory distress. The early warning signs of OHSS are abdominal pain and distention, nausea, vomiting, diarrhea, and weight gain. Elevated urinary steroid levels, varying degrees of electrolyte imbalance, hypovolemia, hemoconcentration, and hypoproteinemia may occur. Death due to hypovolemic shock, hemoconcentration, or thromboembolism has occurred. Due to fragility of enlarged ovaries in severe cases, abdominal and pelvic examination should be performed very cautiously. If conception results, rapid progression to the severe form of the syndrome may occur.\\\\nTo minimize the hazard associated with occasional abnormal ovarian enlargement associated with clomiphene citrate therapy, the lowest dose consistent with expected clinical results should be used. Maximal enlargement of the ovary, whether physiologic or abnormal, may not occur until several days after discontinuation of the recommended dose of clomiphene citrate. Some patients with polycystic ovary syndrome who are unusually sensitive to gonadotropin may have an exaggerated response to usual doses of clomiphene citrate. Therefore, patients with polycystic ovary syndrome should be started on the lowest recommended dose and shortest treatment duration for the first course of therapy (see DOSAGE AND ADMINISTRATION).\\\\nIf enlargement of the ovary occurs, additional clomiphene citrate therapy should not be given until the ovaries have returned to pretreatment size, and the dosage or duration of the next course should be reduced. Ovarian enlargement and cyst formation associated with clomiphene citrate therapy usually regress spontaneously within a few days or weeks after discontinuing treatment. The potential benefit of subsequent clomiphene citrate therapy in these cases should exceed the risk. Unless surgical indication for laparotomy exists, such cystic enlargement should always be managed conservatively.\\\\nA causal relationship between ovarian hyperstimulation and ovarian cancer has not been determined. However, because a correlation between ovarian cancer and nulliparity, infertility, and age has been suggested, if ovarian cysts do not regress spontaneously, a thorough evaluation should be performed to rule out the presence of ovarian neoplasia.\", \"PR\": \"PRECAUTIONS\\\\n\\\\n\\\\n\\\\n\\\\n\\\\n\\\\nGeneral\\\\n\\\\n\\\\nCareful attention should be given to the selection of candidates for clomiphene citrate therapy. Pelvic examination is necessary prior to clomiphene citrate treatment and before each subsequent course (see CONTRAINDICATIONS and WARNINGS).\\\\n\\\\n\\\\n\\\\n\\\\n\\\\n\\\\n\\\\n\\\\n\\\\nInformation for Patients\\\\n\\\\n\\\\nThe purpose and risks of clomiphene citrate therapy should be presented to the patient before starting treatment. It should be emphasized that the goal of clomiphene citrate therapy is ovulation for subsequent pregnancy. The physician should counsel the patient with special regard to the following potential risks:\\\\n\\\\nVisual Symptoms: Advise that blurring or other visual symptoms occasionally may occur during or shortly after clomiphene citrate therapy. It should be made clear to the patient that, in some instances, visual disturbances may be prolonged, and possibly irreversible, especially with increased dosage or duration of therapy. Warn that visual symptoms may render such activities as driving a car or operating machinery more hazardous than usual, particularly under conditions of variable lighting (see\\\\u00a0\\\\nWARNINGS\\\\n).\\\\nThe patient should be instructed to inform the physician whenever any unusual visual symptoms occur. If the patient has any visual symptoms, treatment should be discontinued and complete ophthalmologic evaluation performed.\\\\n\\\\nAbdominal/Pelvic Pain or Distention: Ovarian enlargement may occur during or shortly after therapy with clomiphene citrate. To minimize the risks associated with ovarian enlargement, the patient should be instructed to inform the physician of any abdominal or pelvic pain, weight gain, discomfort, or distention after taking clomiphene citrate (see \\\\nWARNINGS\\\\n).\\\\n\\\\nMetabolism Disorders: Cases of hypertriglyceridemia have been reported. Preexisting or family history of hyperlipidemia and use of higher than recommended dose and/or longer duration of treatment with clomiphene citrate are associated with a risk of hypertriglyceridemia. Periodic monitoring of plasma triglycerides is recommended in patients with preexisting or family history of hyperlipidemia (see \\\\nADVERSE REACTIONS\\\\n). Pretreatment screening of triglyceride levels is recommended in patients initiating clomiphene citrate therapy.\\\\n\\\\nGastrointestinal Disorders: Cases of pancreatitis have been reported.\\\\n\\\\nMultiple Pregnancy: Inform the patient that there is an increased chance of multiple pregnancy, including bilateral tubal pregnancy and coexisting tubal and intrauterine pregnancy, when conception occurs in relation to clomiphene citrate therapy. The potential complications and hazards of multiple pregnancy should be explained.\\\\n\\\\nSpontaneous Abortion and Congenital Anomalies: Inform the patient that the available data suggest no increase in the rates of spontaneous abortion (miscarriage) or congenital anomalies with maternal clomiphene citrate use compared to rates in the general population.\\\\nDuring clinical investigation, the experience from  patients with known pregnancy outcome (Table 1) shows a spontaneous abortion rate of 20.4% and stillbirth rate of 1.0%. (See \\\\nCLINICAL STUDIES\\\\n). Among the birth anomalies spontaneously reported as individual cases since commercial availability of clomiphene citrate, the proportion of neural tube defects has been high among pregnancies associated with ovulation induced by clomiphene citrate, but this has not been supported by data from population-based studies.\\\\n\\\\n\\\\n\\\\n\\\\n\\\\n\\\\n\\\\n\\\\n\\\\nDrug Interactions\\\\n\\\\n\\\\nDrug interactions with clomiphene citrate have not been documented.\\\\n\\\\n\\\\n\\\\n\\\\n\\\\n\\\\n\\\\n\\\\n\\\\nCarcinogenesis, Mutagenesis, Impairment of Fertility\\\\n\\\\n\\\\nLong-term toxicity studies in animals have not been performed to evaluate the carcinogenic or mutagenic potential of clomiphene citrate.\\\\nOral administration of clomiphene citrate to male rats at doses of 0.3 or 1 mg/kg/day caused decreased fertility, while higher doses caused temporary infertility. Oral doses of 0.1 mg/kg/day in female rats temporarily interrupted the normal cyclic vaginal smear pattern and prevented conception. Doses of 0.3 mg/kg/day slightly reduced the number of ovulated ova and corpora lutea, while 3 mg/kg/day inhibited ovulation.\\\\n\\\\n\\\\n\\\\n\\\\n\\\\n\\\\n\\\\n\\\\n\\\\nPregnancy\\\\n\\\\n\\\\n\\\\nFetal Risk Summary\\\\n\\\\nClomiphene citrate use in pregnant women is contraindicated, as clomiphene citrate treatment does not offer benefit in this population. \\\\nAvailable human data do not suggest an increased risk for congenital anomalies above the background population risk. However, animal reproductive toxicology studies showed increased embryo-fetal loss and structural malformations in offspring. If this drug is used during pregnancy, or if the patient becomes pregnant while taking this drug, the patient should be apprised of the potential risks to the fetus.\\\\n\\\\nClinical Considerations\\\\n\\\\nTo avoid inadvertent clomiphene citrate administration during early pregnancy, appropriate tests should be utilized during each treatment cycle to determine whether ovulation and/or pregnancy occurs. Patients should be evaluated carefully to exclude ovarian enlargement or ovarian cyst formation between each treatment cycle. The next course of clomiphene citrate therapy should be delayed until these conditions have been excluded.\\\\nHuman Data\\\\nThe available human data from epidemiologic studies do not show any apparent cause and effect relationship between clomiphene citrate periconceptual exposure and an increased risk of overall birth defects, or any specific anomaly. However, due to the small number of cases of congenital anomalies occurring in clomiphene citrate treated women, these epidemiologic studies were only able to rule out large differences in risk. The studies did not consider factors associated with female subfertility and were unable to adjust for other important confounders.\\\\nIn addition, available data do not support an increase rate of spontaneous abortion among subfertile women treated with clomiphene for ovulation induction.\\\\nAnimal Data\\\\nOral administration of clomiphene citrate to pregnant rats during organogenesis at doses of 1 to 2 mg/kg/day resulted in hydramnion and weak, edematous fetuses with wavy ribs and other temporary bone changes. Doses of 8 mg/kg/day or more also caused increased resorptions and dead fetuses, dystocia, and delayed parturition, and 40 mg/kg/day resulted in increased maternal mortality. Single doses of 50 mg/kg caused fetal cataracts, while 200 mg/kg caused cleft palate.\\\\nFollowing injection of clomiphene citrate 2 mg/kg to mice and rats during pregnancy, the offspring exhibited metaplastic changes of the reproductive tract.  Newborn mice and rats injected during the first few days of life also developed metaplastic changes in uterine and vaginal mucosa, as well as premature vaginal opening and anovulatory ovaries. These findings are similar to the abnormal reproductive behavior and sterility described with other estrogens and antiestrogens.\\\\nIn rabbits, some temporary bone alterations were seen in fetuses from dams given oral doses of 20 or 40 mg/kg/day during pregnancy, but not following 8 mg/kg/day. No permanent malformations were observed in those studies. Also, rhesus monkeys given oral doses of 1.5 to 4.5 mg/kg/day for various periods during pregnancy did not have any abnormal offspring.\\\\n\\\\n\\\\nNursing Mothers\\\\n\\\\n\\\\nIt is not known whether clomiphene citrate is excreted in human milk. Because many drugs are excreted in human milk, caution should be exercised if clomiphene citrate is administered to a nursing woman. In some patients, clomiphene citrate may reduce lactation.\\\\n\\\\n\\\\nOvarian Cancer\\\\n\\\\n\\\\nProlonged use of clomiphene citrate tablets USP may increase the risk of a borderline or invasive ovarian tumor (see ADVERSE REACTIONS).\", \"OV\": \"OVERDOSAGE\\\\n\\\\n\\\\n\\\\nSigns and Symptoms\\\\n\\\\n\\\\nToxic effects accompanying acute overdosage of clomiphene citrate have not been reported. Signs and symptoms of overdosage as a result of the use of more than the recommended dose during clomiphene citrate therapy include nausea, vomiting, vasomotor flushes, visual blurring, spots or flashes, scotomata, ovarian enlargement with pelvic or abdominal pain. (See CONTRAINDICATIONS: Ovarian Cyst.)\\\\n\\\\nOral LD50. The acute oral LD50 of clomiphene citrate is 1700 mg/kg in mice and 5750 mg/kg in rats. The toxic dose in humans is not known.\\\\n\\\\nDialysis. It is not known if clomiphene citrate is dialyzable.\\\\n\\\\n\\\\nTreatment\\\\n\\\\n\\\\nIn the event of overdose, appropriate supportive measures should be employed in addition to gastrointestinal decontamination.\"}', metadata={'source': '/Users/undinagisladottir/Documents/Columbia/Tatonetti_Lab/causal-drug-ades/data/2024_latest_labels/latest_labels_ingredients/20240111_6370e342-16a5-4339-a13f-ba275fd5de09.json', 'seq_num': 1})]\n"
     ]
    }
   ],
   "source": [
    "loader = JSONLoader(\n",
    "    file_path='../data/2024_latest_labels/latest_labels_ingredients/20240111_6370e342-16a5-4339-a13f-ba275fd5de09.json',\n",
    "    jq_schema='.sections',\n",
    "    text_content=False)\n",
    "\n",
    "data = loader.load()\n",
    "pprint(data)"
   ]
  },
  {
   "cell_type": "code",
   "execution_count": 165,
   "metadata": {},
   "outputs": [
    {
     "data": {
      "text/plain": [
       "860"
      ]
     },
     "execution_count": 165,
     "metadata": {},
     "output_type": "execute_result"
    }
   ],
   "source": [
    "len(label_dat['file'].unique())"
   ]
  },
  {
   "cell_type": "code",
   "execution_count": 181,
   "metadata": {},
   "outputs": [
    {
     "data": {
      "text/html": [
       "<div><style>\n",
       ".dataframe > thead > tr,\n",
       ".dataframe > tbody > tr {\n",
       "  text-align: right;\n",
       "  white-space: pre-wrap;\n",
       "}\n",
       "</style>\n",
       "<small>shape: (5, 16)</small><table border=\"1\" class=\"dataframe\"><thead><tr><th>file</th><th>set_id</th><th>spl_version</th><th>title</th><th>ingredient_rx_cui</th><th>ingredient_name</th><th>pt_meddra_id</th><th>pt_meddra_term</th><th>cohort_id</th><th>condition_name</th><th>positive_controls</th><th>label</th><th>cohort_id_right</th><th>drug_concept_id</th><th>affect</th><th>reference</th></tr><tr><td>str</td><td>str</td><td>i64</td><td>str</td><td>i64</td><td>str</td><td>i64</td><td>str</td><td>i64</td><td>str</td><td>i64</td><td>i64</td><td>i64</td><td>i64</td><td>i64</td><td>i64</td></tr></thead><tbody><tr><td>&quot;../data/2024_l…</td><td>&quot;4e8516dc-a3c6-…</td><td>1</td><td>&quot;These highligh…</td><td>6064</td><td>&quot;isotretinoin&quot;</td><td>10019851</td><td>&quot;hepatotoxicity…</td><td>500000301</td><td>&quot;acute liver in…</td><td>28</td><td>1</td><td>null</td><td>null</td><td>null</td><td>null</td></tr><tr><td>&quot;../data/2024_l…</td><td>&quot;0e98593a-8424-…</td><td>9</td><td>&quot;These highligh…</td><td>20352</td><td>&quot;carvedilol&quot;</td><td>10017955</td><td>&quot;gastrointestin…</td><td>500001001</td><td>&quot;gi bleed&quot;</td><td>21</td><td>1</td><td>null</td><td>null</td><td>null</td><td>null</td></tr><tr><td>&quot;../data/2024_l…</td><td>&quot;5c8cebcd-699f-…</td><td>100</td><td>&quot;These highligh…</td><td>8754</td><td>&quot;propafenone&quot;</td><td>10060795</td><td>&quot;hepatic enzyme…</td><td>500000301</td><td>&quot;acute liver in…</td><td>14</td><td>1</td><td>null</td><td>null</td><td>null</td><td>null</td></tr><tr><td>&quot;../data/2024_l…</td><td>&quot;ab8616a5-ea72-…</td><td>10</td><td>&quot;These highligh…</td><td>40254</td><td>&quot;valproate&quot;</td><td>10018830</td><td>&quot;haematemesis&quot;</td><td>500001001</td><td>&quot;gi bleed&quot;</td><td>11</td><td>1</td><td>null</td><td>null</td><td>null</td><td>null</td></tr><tr><td>&quot;../data/2024_l…</td><td>&quot;10a3fbc9-00c6-…</td><td>1</td><td>&quot;These highligh…</td><td>7646</td><td>&quot;omeprazole&quot;</td><td>10019692</td><td>&quot;hepatic necros…</td><td>500000301</td><td>&quot;acute liver in…</td><td>15</td><td>1</td><td>null</td><td>null</td><td>null</td><td>null</td></tr></tbody></table></div>"
      ],
      "text/plain": [
       "shape: (5, 16)\n",
       "┌────────────┬────────────┬───────────┬───────────┬───┬───────────┬───────────┬────────┬───────────┐\n",
       "│ file       ┆ set_id     ┆ spl_versi ┆ title     ┆ … ┆ cohort_id ┆ drug_conc ┆ affect ┆ reference │\n",
       "│ ---        ┆ ---        ┆ on        ┆ ---       ┆   ┆ _right    ┆ ept_id    ┆ ---    ┆ ---       │\n",
       "│ str        ┆ str        ┆ ---       ┆ str       ┆   ┆ ---       ┆ ---       ┆ i64    ┆ i64       │\n",
       "│            ┆            ┆ i64       ┆           ┆   ┆ i64       ┆ i64       ┆        ┆           │\n",
       "╞════════════╪════════════╪═══════════╪═══════════╪═══╪═══════════╪═══════════╪════════╪═══════════╡\n",
       "│ ../data/20 ┆ 4e8516dc-a ┆ 1         ┆ These hig ┆ … ┆ null      ┆ null      ┆ null   ┆ null      │\n",
       "│ 24_latest_ ┆ 3c6-4d8f-a ┆           ┆ hlights   ┆   ┆           ┆           ┆        ┆           │\n",
       "│ labels/lat ┆ a14-2c37c6 ┆           ┆ do not    ┆   ┆           ┆           ┆        ┆           │\n",
       "│ es…        ┆ c8…        ┆           ┆ include … ┆   ┆           ┆           ┆        ┆           │\n",
       "│ ../data/20 ┆ 0e98593a-8 ┆ 9         ┆ These hig ┆ … ┆ null      ┆ null      ┆ null   ┆ null      │\n",
       "│ 24_latest_ ┆ 424-48c8-a ┆           ┆ hlights   ┆   ┆           ┆           ┆        ┆           │\n",
       "│ labels/lat ┆ cc0-671f4b ┆           ┆ do not    ┆   ┆           ┆           ┆        ┆           │\n",
       "│ es…        ┆ 56…        ┆           ┆ include … ┆   ┆           ┆           ┆        ┆           │\n",
       "│ ../data/20 ┆ 5c8cebcd-6 ┆ 100       ┆ These hig ┆ … ┆ null      ┆ null      ┆ null   ┆ null      │\n",
       "│ 24_latest_ ┆ 99f-4c4c-9 ┆           ┆ hlights   ┆   ┆           ┆           ┆        ┆           │\n",
       "│ labels/lat ┆ 00b-94e0fe ┆           ┆ do not    ┆   ┆           ┆           ┆        ┆           │\n",
       "│ es…        ┆ 51…        ┆           ┆ include … ┆   ┆           ┆           ┆        ┆           │\n",
       "│ ../data/20 ┆ ab8616a5-e ┆ 10        ┆ These hig ┆ … ┆ null      ┆ null      ┆ null   ┆ null      │\n",
       "│ 24_latest_ ┆ a72-4df7-b ┆           ┆ hlights   ┆   ┆           ┆           ┆        ┆           │\n",
       "│ labels/lat ┆ 095-54ea19 ┆           ┆ do not    ┆   ┆           ┆           ┆        ┆           │\n",
       "│ es…        ┆ ef…        ┆           ┆ include … ┆   ┆           ┆           ┆        ┆           │\n",
       "│ ../data/20 ┆ 10a3fbc9-0 ┆ 1         ┆ These hig ┆ … ┆ null      ┆ null      ┆ null   ┆ null      │\n",
       "│ 24_latest_ ┆ 0c6-ad83-e ┆           ┆ hlights   ┆   ┆           ┆           ┆        ┆           │\n",
       "│ labels/lat ┆ 063-6294a9 ┆           ┆ do not    ┆   ┆           ┆           ┆        ┆           │\n",
       "│ es…        ┆ 0a…        ┆           ┆ include … ┆   ┆           ┆           ┆        ┆           │\n",
       "└────────────┴────────────┴───────────┴───────────┴───┴───────────┴───────────┴────────┴───────────┘"
      ]
     },
     "execution_count": 181,
     "metadata": {},
     "output_type": "execute_result"
    }
   ],
   "source": [
    "label_dat.head()"
   ]
  },
  {
   "cell_type": "code",
   "execution_count": 205,
   "metadata": {},
   "outputs": [],
   "source": [
    "records = []"
   ]
  },
  {
   "cell_type": "code",
   "execution_count": 203,
   "metadata": {},
   "outputs": [],
   "source": [
    "def metadata_func(record: dict, metadata: dict) -> dict:\n",
    "    records.append(record)\n",
    "    # metadata[\"sections\"] = record.get(\"sections\")\n",
    "\n",
    "    return metadata\n"
   ]
  },
  {
   "cell_type": "code",
   "execution_count": 204,
   "metadata": {},
   "outputs": [],
   "source": [
    "'.users[] | \"\\(.first) \\(.last)\"'\n",
    "'.sections | \"\\(.WP) \\(.BW)\"'\n",
    "documents = []\n",
    "for file in label_dat['file'].unique()[:10]:\n",
    "    loader = JSONLoader(file_path=file,\n",
    "                        jq_schema='.sections | \"\\(.WP) \\(.BW)\"',\n",
    "                        text_content=False)\n",
    "    documents.extend(loader.load())\n",
    "\n",
    "text_splitter = CharacterTextSplitter(chunk_size=500, chunk_overlap=20, separator=\" \", add_start_index=True)\n",
    "chunks = text_splitter.split_documents(documents)"
   ]
  },
  {
   "cell_type": "code",
   "execution_count": 202,
   "metadata": {},
   "outputs": [
    {
     "data": {
      "text/plain": [
       "{'source': '/Users/undinagisladottir/Documents/Columbia/Tatonetti_Lab/causal-drug-ades/data/2024_latest_labels/latest_labels_ingredients/20240224_76e1839b-7462-4344-b319-001a5f57d67a.json',\n",
       " 'seq_num': 1,\n",
       " 'start_index': -1}"
      ]
     },
     "execution_count": 202,
     "metadata": {},
     "output_type": "execute_result"
    }
   ],
   "source": [
    "chunks[0].metadata"
   ]
  },
  {
   "cell_type": "code",
   "execution_count": 167,
   "metadata": {},
   "outputs": [
    {
     "data": {
      "text/plain": [
       "840"
      ]
     },
     "execution_count": 167,
     "metadata": {},
     "output_type": "execute_result"
    }
   ],
   "source": [
    "len(documents)"
   ]
  },
  {
   "cell_type": "code",
   "execution_count": 176,
   "metadata": {},
   "outputs": [
    {
     "data": {
      "text/plain": [
       "{'source': '/Users/undinagisladottir/Documents/Columbia/Tatonetti_Lab/causal-drug-ades/data/2024_latest_labels/latest_labels_ingredients/20240106_fe0ddd44-ef02-4827-b164-7fcbb45bcc1b.json',\n",
       " 'seq_num': 1,\n",
       " 'start_index': -1}"
      ]
     },
     "execution_count": 176,
     "metadata": {},
     "output_type": "execute_result"
    }
   ],
   "source": [
    "chunks[0].metadata"
   ]
  },
  {
   "cell_type": "code",
   "execution_count": 172,
   "metadata": {},
   "outputs": [
    {
     "data": {
      "text/plain": [
       "'common adverse reactions (\\\\u22655%) are peripheral edema , hypotension (including orthostatic hypotension), dizziness, hyperkalemia, and anemia\\\\u00a0(6.1).\\\\n\\\\nTo report SUSPECTED ADVERSE REACTIONS, contact Travere Therapeutics at 1-877-659-5518 or FDA at 1-800-FDA-1088 or www.fda.gov/medwatch. \\\\n\\\\n\\\\n\\\\n\\\\n\\\\n\\\\n\\\\n\\\\n6.1\\\\u2003\\\\u2003Clinical Trials\\\\nExperience\\\\n\\\\nBecause clinical trials are conducted under widely varying conditions, adverse reaction rates observed in the clinical trials of a drug'"
      ]
     },
     "execution_count": 172,
     "metadata": {},
     "output_type": "execute_result"
    }
   ],
   "source": [
    "chunks[100].page_content"
   ]
  },
  {
   "cell_type": "code",
   "execution_count": 195,
   "metadata": {},
   "outputs": [],
   "source": [
    "mapped_chunks = {}\n",
    "for chunk in chunks:\n",
    "    if chunk.metadata['source'] not in mapped_chunks:\n",
    "        mapped_chunks[chunk.metadata['source']] = []\n",
    "    mapped_chunks[chunk.metadata['source']].append(chunk)"
   ]
  },
  {
   "cell_type": "code",
   "execution_count": null,
   "metadata": {},
   "outputs": [],
   "source": [
    "mapped_dbs = {}\n",
    "for source, chunks in mapped_chunks.items():\n",
    "    mapped_dbs[source] = Chroma.from_documents(chunks,\n",
    "                                                embeddings=embedding_functions.SentenceTransformerEmbeddingFunction(\n",
    "                                                    model_name=\"infgrad/stella_en_400M_v5\"))"
   ]
  },
  {
   "cell_type": "code",
   "execution_count": 170,
   "metadata": {},
   "outputs": [],
   "source": [
    "db = Chroma.from_documents(chunks, OpenAIEmbeddings(openai_api_key=api_key), persist_directory=\"../../myChroma\")"
   ]
  },
  {
   "cell_type": "code",
   "execution_count": 153,
   "metadata": {},
   "outputs": [
    {
     "data": {
      "text/plain": [
       "'{\"AR\": \"6 ADVERSE REACTIONS \\\\n\\\\nThe following important adverse reactions are described below and elsewhere in the labeling:\\\\n\\\\n\\\\n\\\\u2022Diabetic Ketoacidosis in Patients with Type 1 Diabetes Mellitus and Other Ketoacidosis [see Warnings and Precautions (5.1)]\\\\n\\\\n\\\\n\\\\u2022Volume Depletion [see Warnings and Precautions (5.2)]\\\\n\\\\n\\\\n\\\\u2022Urosepsis and Pyelonephritis [see Warnings and Precautions (5.3)]\\\\n\\\\n\\\\n\\\\u2022Hypoglycemia with Concomitant Use with Insulin and Insulin Secretagogues [see Warnings'"
      ]
     },
     "execution_count": 153,
     "metadata": {},
     "output_type": "execute_result"
    }
   ],
   "source": []
  },
  {
   "cell_type": "code",
   "execution_count": 93,
   "metadata": {},
   "outputs": [
    {
     "name": "stdout",
     "output_type": "stream",
     "text": [
      "7398\n"
     ]
    }
   ],
   "source": [
    "db = Chroma(persist_directory=\"../../Chroma\", embedding_function=OpenAIEmbeddings(api_key=config[api_source]['openai_api_key']))\n",
    "retriever = db.as_retriever(search_kwargs={\"k\": 3})\n",
    "\n",
    "print(len(db.get()['documents']))"
   ]
  },
  {
   "cell_type": "code",
   "execution_count": 101,
   "metadata": {},
   "outputs": [
    {
     "ename": "AttributeError",
     "evalue": "'VectorStoreRetriever' object has no attribute 'search'",
     "output_type": "error",
     "traceback": [
      "\u001b[0;31m---------------------------------------------------------------------------\u001b[0m",
      "\u001b[0;31mAttributeError\u001b[0m                            Traceback (most recent call last)",
      "Cell \u001b[0;32mIn[101], line 1\u001b[0m\n\u001b[0;32m----> 1\u001b[0m retriever\u001b[38;5;241m.\u001b[39msearch(\u001b[38;5;124m\"\u001b[39m\u001b[38;5;124macetaminophen\u001b[39m\u001b[38;5;124m\"\u001b[39m)\n",
      "\u001b[0;31mAttributeError\u001b[0m: 'VectorStoreRetriever' object has no attribute 'search'"
     ]
    }
   ],
   "source": [
    "retriever"
   ]
  },
  {
   "cell_type": "code",
   "execution_count": 104,
   "metadata": {},
   "outputs": [
    {
     "data": {
      "text/plain": [
       "9794"
      ]
     },
     "execution_count": 104,
     "metadata": {},
     "output_type": "execute_result"
    }
   ],
   "source": [
    "len(chunks[0].page_content)"
   ]
  },
  {
   "cell_type": "markdown",
   "metadata": {},
   "source": [
    "## Run rest on EIR"
   ]
  },
  {
   "cell_type": "code",
   "execution_count": 44,
   "metadata": {},
   "outputs": [],
   "source": [
    "retriever = db.as_retriever()"
   ]
  },
  {
   "cell_type": "code",
   "execution_count": 45,
   "metadata": {},
   "outputs": [
    {
     "name": "stdout",
     "output_type": "stream",
     "text": [
      "input_variables=['context', 'question'] messages=[HumanMessagePromptTemplate(prompt=PromptTemplate(input_variables=['context', 'question'], template=\"\\nYou are an expert in summarizing current information. Create a concise and comprehensive summary\\nof the known knowledge for the causal assocation between a drug and an adverse event. \\nCraft a summary that is detailed, thorough, in-depth, and complex, while maintaining clarity and \\nconciseness. Incorporate the retrieved context, and previous medical literature.\\nIf you don't know the answer just say I don't know.\\nKeep your summarize to less than 3 sentences.\\nQuestion: {question} \\nContext: {context} \\nAnswer:\\n\"))]\n"
     ]
    }
   ],
   "source": [
    "from langchain.prompts import ChatPromptTemplate\n",
    "\n",
    "template = \"\"\"\n",
    "You are an expert in summarizing current information. Create a concise and comprehensive summary\n",
    "of the known knowledge for the causal assocation between a drug and an adverse event. \n",
    "Craft a summary that is detailed, thorough, in-depth, and complex, while maintaining clarity and \n",
    "conciseness. Incorporate the retrieved context, and previous medical literature.\n",
    "If you don't know the answer just say I don't know.\n",
    "Keep your summarize to less than 3 sentences.\n",
    "Question: {question} \n",
    "Context: {context} \n",
    "Answer:\n",
    "\"\"\"\n",
    "prompt = ChatPromptTemplate.from_template(template)\n",
    "\n",
    "print(prompt)"
   ]
  },
  {
   "cell_type": "code",
   "execution_count": 51,
   "metadata": {},
   "outputs": [
    {
     "ename": "AuthenticationError",
     "evalue": "Error code: 401 - {'error': {'message': 'Incorrect API key provided: sk-DxK9C***************************************2DQN. You can find your API key at https://platform.openai.com/account/api-keys.', 'type': 'invalid_request_error', 'param': None, 'code': 'invalid_api_key'}}",
     "output_type": "error",
     "traceback": [
      "\u001b[0;31m---------------------------------------------------------------------------\u001b[0m",
      "\u001b[0;31mAuthenticationError\u001b[0m                       Traceback (most recent call last)",
      "Cell \u001b[0;32mIn[51], line 11\u001b[0m\n\u001b[1;32m      3\u001b[0m rag_chain \u001b[38;5;241m=\u001b[39m (\n\u001b[1;32m      4\u001b[0m     {\u001b[38;5;124m\"\u001b[39m\u001b[38;5;124mcontext\u001b[39m\u001b[38;5;124m\"\u001b[39m: retriever,  \u001b[38;5;124m\"\u001b[39m\u001b[38;5;124mquestion\u001b[39m\u001b[38;5;124m\"\u001b[39m: RunnablePassthrough()} \n\u001b[1;32m      5\u001b[0m     \u001b[38;5;241m|\u001b[39m prompt \n\u001b[1;32m      6\u001b[0m     \u001b[38;5;241m|\u001b[39m llm\n\u001b[1;32m      7\u001b[0m     \u001b[38;5;241m|\u001b[39m StrOutputParser() \n\u001b[1;32m      8\u001b[0m )\n\u001b[1;32m     10\u001b[0m query \u001b[38;5;241m=\u001b[39m \u001b[38;5;124m\"\u001b[39m\u001b[38;5;124mWhat is the evidence, if any, supporting the causal association between lisinopril and acute kidney injury?\u001b[39m\u001b[38;5;124m\"\u001b[39m\n\u001b[0;32m---> 11\u001b[0m rag_chain\u001b[38;5;241m.\u001b[39minvoke(query)\n",
      "File \u001b[0;32m~/opt/anaconda3/envs/llm_cpus/lib/python3.11/site-packages/langchain_core/runnables/base.py:2075\u001b[0m, in \u001b[0;36mRunnableSequence.invoke\u001b[0;34m(self, input, config)\u001b[0m\n\u001b[1;32m   2073\u001b[0m \u001b[38;5;28;01mtry\u001b[39;00m:\n\u001b[1;32m   2074\u001b[0m     \u001b[38;5;28;01mfor\u001b[39;00m i, step \u001b[38;5;129;01min\u001b[39;00m \u001b[38;5;28menumerate\u001b[39m(\u001b[38;5;28mself\u001b[39m\u001b[38;5;241m.\u001b[39msteps):\n\u001b[0;32m-> 2075\u001b[0m         \u001b[38;5;28minput\u001b[39m \u001b[38;5;241m=\u001b[39m step\u001b[38;5;241m.\u001b[39minvoke(\n\u001b[1;32m   2076\u001b[0m             \u001b[38;5;28minput\u001b[39m,\n\u001b[1;32m   2077\u001b[0m             \u001b[38;5;66;03m# mark each step as a child run\u001b[39;00m\n\u001b[1;32m   2078\u001b[0m             patch_config(\n\u001b[1;32m   2079\u001b[0m                 config, callbacks\u001b[38;5;241m=\u001b[39mrun_manager\u001b[38;5;241m.\u001b[39mget_child(\u001b[38;5;124mf\u001b[39m\u001b[38;5;124m\"\u001b[39m\u001b[38;5;124mseq:step:\u001b[39m\u001b[38;5;132;01m{\u001b[39;00mi\u001b[38;5;241m+\u001b[39m\u001b[38;5;241m1\u001b[39m\u001b[38;5;132;01m}\u001b[39;00m\u001b[38;5;124m\"\u001b[39m)\n\u001b[1;32m   2080\u001b[0m             ),\n\u001b[1;32m   2081\u001b[0m         )\n\u001b[1;32m   2082\u001b[0m \u001b[38;5;66;03m# finish the root run\u001b[39;00m\n\u001b[1;32m   2083\u001b[0m \u001b[38;5;28;01mexcept\u001b[39;00m \u001b[38;5;167;01mBaseException\u001b[39;00m \u001b[38;5;28;01mas\u001b[39;00m e:\n",
      "File \u001b[0;32m~/opt/anaconda3/envs/llm_cpus/lib/python3.11/site-packages/langchain_core/language_models/chat_models.py:166\u001b[0m, in \u001b[0;36mBaseChatModel.invoke\u001b[0;34m(self, input, config, stop, **kwargs)\u001b[0m\n\u001b[1;32m    155\u001b[0m \u001b[38;5;28;01mdef\u001b[39;00m \u001b[38;5;21minvoke\u001b[39m(\n\u001b[1;32m    156\u001b[0m     \u001b[38;5;28mself\u001b[39m,\n\u001b[1;32m    157\u001b[0m     \u001b[38;5;28minput\u001b[39m: LanguageModelInput,\n\u001b[0;32m   (...)\u001b[0m\n\u001b[1;32m    161\u001b[0m     \u001b[38;5;241m*\u001b[39m\u001b[38;5;241m*\u001b[39mkwargs: Any,\n\u001b[1;32m    162\u001b[0m ) \u001b[38;5;241m-\u001b[39m\u001b[38;5;241m>\u001b[39m BaseMessage:\n\u001b[1;32m    163\u001b[0m     config \u001b[38;5;241m=\u001b[39m ensure_config(config)\n\u001b[1;32m    164\u001b[0m     \u001b[38;5;28;01mreturn\u001b[39;00m cast(\n\u001b[1;32m    165\u001b[0m         ChatGeneration,\n\u001b[0;32m--> 166\u001b[0m         \u001b[38;5;28mself\u001b[39m\u001b[38;5;241m.\u001b[39mgenerate_prompt(\n\u001b[1;32m    167\u001b[0m             [\u001b[38;5;28mself\u001b[39m\u001b[38;5;241m.\u001b[39m_convert_input(\u001b[38;5;28minput\u001b[39m)],\n\u001b[1;32m    168\u001b[0m             stop\u001b[38;5;241m=\u001b[39mstop,\n\u001b[1;32m    169\u001b[0m             callbacks\u001b[38;5;241m=\u001b[39mconfig\u001b[38;5;241m.\u001b[39mget(\u001b[38;5;124m\"\u001b[39m\u001b[38;5;124mcallbacks\u001b[39m\u001b[38;5;124m\"\u001b[39m),\n\u001b[1;32m    170\u001b[0m             tags\u001b[38;5;241m=\u001b[39mconfig\u001b[38;5;241m.\u001b[39mget(\u001b[38;5;124m\"\u001b[39m\u001b[38;5;124mtags\u001b[39m\u001b[38;5;124m\"\u001b[39m),\n\u001b[1;32m    171\u001b[0m             metadata\u001b[38;5;241m=\u001b[39mconfig\u001b[38;5;241m.\u001b[39mget(\u001b[38;5;124m\"\u001b[39m\u001b[38;5;124mmetadata\u001b[39m\u001b[38;5;124m\"\u001b[39m),\n\u001b[1;32m    172\u001b[0m             run_name\u001b[38;5;241m=\u001b[39mconfig\u001b[38;5;241m.\u001b[39mget(\u001b[38;5;124m\"\u001b[39m\u001b[38;5;124mrun_name\u001b[39m\u001b[38;5;124m\"\u001b[39m),\n\u001b[1;32m    173\u001b[0m             \u001b[38;5;241m*\u001b[39m\u001b[38;5;241m*\u001b[39mkwargs,\n\u001b[1;32m    174\u001b[0m         )\u001b[38;5;241m.\u001b[39mgenerations[\u001b[38;5;241m0\u001b[39m][\u001b[38;5;241m0\u001b[39m],\n\u001b[1;32m    175\u001b[0m     )\u001b[38;5;241m.\u001b[39mmessage\n",
      "File \u001b[0;32m~/opt/anaconda3/envs/llm_cpus/lib/python3.11/site-packages/langchain_core/language_models/chat_models.py:544\u001b[0m, in \u001b[0;36mBaseChatModel.generate_prompt\u001b[0;34m(self, prompts, stop, callbacks, **kwargs)\u001b[0m\n\u001b[1;32m    536\u001b[0m \u001b[38;5;28;01mdef\u001b[39;00m \u001b[38;5;21mgenerate_prompt\u001b[39m(\n\u001b[1;32m    537\u001b[0m     \u001b[38;5;28mself\u001b[39m,\n\u001b[1;32m    538\u001b[0m     prompts: List[PromptValue],\n\u001b[0;32m   (...)\u001b[0m\n\u001b[1;32m    541\u001b[0m     \u001b[38;5;241m*\u001b[39m\u001b[38;5;241m*\u001b[39mkwargs: Any,\n\u001b[1;32m    542\u001b[0m ) \u001b[38;5;241m-\u001b[39m\u001b[38;5;241m>\u001b[39m LLMResult:\n\u001b[1;32m    543\u001b[0m     prompt_messages \u001b[38;5;241m=\u001b[39m [p\u001b[38;5;241m.\u001b[39mto_messages() \u001b[38;5;28;01mfor\u001b[39;00m p \u001b[38;5;129;01min\u001b[39;00m prompts]\n\u001b[0;32m--> 544\u001b[0m     \u001b[38;5;28;01mreturn\u001b[39;00m \u001b[38;5;28mself\u001b[39m\u001b[38;5;241m.\u001b[39mgenerate(prompt_messages, stop\u001b[38;5;241m=\u001b[39mstop, callbacks\u001b[38;5;241m=\u001b[39mcallbacks, \u001b[38;5;241m*\u001b[39m\u001b[38;5;241m*\u001b[39mkwargs)\n",
      "File \u001b[0;32m~/opt/anaconda3/envs/llm_cpus/lib/python3.11/site-packages/langchain_core/language_models/chat_models.py:408\u001b[0m, in \u001b[0;36mBaseChatModel.generate\u001b[0;34m(self, messages, stop, callbacks, tags, metadata, run_name, **kwargs)\u001b[0m\n\u001b[1;32m    406\u001b[0m         \u001b[38;5;28;01mif\u001b[39;00m run_managers:\n\u001b[1;32m    407\u001b[0m             run_managers[i]\u001b[38;5;241m.\u001b[39mon_llm_error(e, response\u001b[38;5;241m=\u001b[39mLLMResult(generations\u001b[38;5;241m=\u001b[39m[]))\n\u001b[0;32m--> 408\u001b[0m         \u001b[38;5;28;01mraise\u001b[39;00m e\n\u001b[1;32m    409\u001b[0m flattened_outputs \u001b[38;5;241m=\u001b[39m [\n\u001b[1;32m    410\u001b[0m     LLMResult(generations\u001b[38;5;241m=\u001b[39m[res\u001b[38;5;241m.\u001b[39mgenerations], llm_output\u001b[38;5;241m=\u001b[39mres\u001b[38;5;241m.\u001b[39mllm_output)\n\u001b[1;32m    411\u001b[0m     \u001b[38;5;28;01mfor\u001b[39;00m res \u001b[38;5;129;01min\u001b[39;00m results\n\u001b[1;32m    412\u001b[0m ]\n\u001b[1;32m    413\u001b[0m llm_output \u001b[38;5;241m=\u001b[39m \u001b[38;5;28mself\u001b[39m\u001b[38;5;241m.\u001b[39m_combine_llm_outputs([res\u001b[38;5;241m.\u001b[39mllm_output \u001b[38;5;28;01mfor\u001b[39;00m res \u001b[38;5;129;01min\u001b[39;00m results])\n",
      "File \u001b[0;32m~/opt/anaconda3/envs/llm_cpus/lib/python3.11/site-packages/langchain_core/language_models/chat_models.py:398\u001b[0m, in \u001b[0;36mBaseChatModel.generate\u001b[0;34m(self, messages, stop, callbacks, tags, metadata, run_name, **kwargs)\u001b[0m\n\u001b[1;32m    395\u001b[0m \u001b[38;5;28;01mfor\u001b[39;00m i, m \u001b[38;5;129;01min\u001b[39;00m \u001b[38;5;28menumerate\u001b[39m(messages):\n\u001b[1;32m    396\u001b[0m     \u001b[38;5;28;01mtry\u001b[39;00m:\n\u001b[1;32m    397\u001b[0m         results\u001b[38;5;241m.\u001b[39mappend(\n\u001b[0;32m--> 398\u001b[0m             \u001b[38;5;28mself\u001b[39m\u001b[38;5;241m.\u001b[39m_generate_with_cache(\n\u001b[1;32m    399\u001b[0m                 m,\n\u001b[1;32m    400\u001b[0m                 stop\u001b[38;5;241m=\u001b[39mstop,\n\u001b[1;32m    401\u001b[0m                 run_manager\u001b[38;5;241m=\u001b[39mrun_managers[i] \u001b[38;5;28;01mif\u001b[39;00m run_managers \u001b[38;5;28;01melse\u001b[39;00m \u001b[38;5;28;01mNone\u001b[39;00m,\n\u001b[1;32m    402\u001b[0m                 \u001b[38;5;241m*\u001b[39m\u001b[38;5;241m*\u001b[39mkwargs,\n\u001b[1;32m    403\u001b[0m             )\n\u001b[1;32m    404\u001b[0m         )\n\u001b[1;32m    405\u001b[0m     \u001b[38;5;28;01mexcept\u001b[39;00m \u001b[38;5;167;01mBaseException\u001b[39;00m \u001b[38;5;28;01mas\u001b[39;00m e:\n\u001b[1;32m    406\u001b[0m         \u001b[38;5;28;01mif\u001b[39;00m run_managers:\n",
      "File \u001b[0;32m~/opt/anaconda3/envs/llm_cpus/lib/python3.11/site-packages/langchain_core/language_models/chat_models.py:577\u001b[0m, in \u001b[0;36mBaseChatModel._generate_with_cache\u001b[0;34m(self, messages, stop, run_manager, **kwargs)\u001b[0m\n\u001b[1;32m    573\u001b[0m     \u001b[38;5;28;01mraise\u001b[39;00m \u001b[38;5;167;01mValueError\u001b[39;00m(\n\u001b[1;32m    574\u001b[0m         \u001b[38;5;124m\"\u001b[39m\u001b[38;5;124mAsked to cache, but no cache found at `langchain.cache`.\u001b[39m\u001b[38;5;124m\"\u001b[39m\n\u001b[1;32m    575\u001b[0m     )\n\u001b[1;32m    576\u001b[0m \u001b[38;5;28;01mif\u001b[39;00m new_arg_supported:\n\u001b[0;32m--> 577\u001b[0m     \u001b[38;5;28;01mreturn\u001b[39;00m \u001b[38;5;28mself\u001b[39m\u001b[38;5;241m.\u001b[39m_generate(\n\u001b[1;32m    578\u001b[0m         messages, stop\u001b[38;5;241m=\u001b[39mstop, run_manager\u001b[38;5;241m=\u001b[39mrun_manager, \u001b[38;5;241m*\u001b[39m\u001b[38;5;241m*\u001b[39mkwargs\n\u001b[1;32m    579\u001b[0m     )\n\u001b[1;32m    580\u001b[0m \u001b[38;5;28;01melse\u001b[39;00m:\n\u001b[1;32m    581\u001b[0m     \u001b[38;5;28;01mreturn\u001b[39;00m \u001b[38;5;28mself\u001b[39m\u001b[38;5;241m.\u001b[39m_generate(messages, stop\u001b[38;5;241m=\u001b[39mstop, \u001b[38;5;241m*\u001b[39m\u001b[38;5;241m*\u001b[39mkwargs)\n",
      "File \u001b[0;32m~/opt/anaconda3/envs/llm_cpus/lib/python3.11/site-packages/langchain_openai/chat_models/base.py:462\u001b[0m, in \u001b[0;36mChatOpenAI._generate\u001b[0;34m(self, messages, stop, run_manager, stream, **kwargs)\u001b[0m\n\u001b[1;32m    456\u001b[0m message_dicts, params \u001b[38;5;241m=\u001b[39m \u001b[38;5;28mself\u001b[39m\u001b[38;5;241m.\u001b[39m_create_message_dicts(messages, stop)\n\u001b[1;32m    457\u001b[0m params \u001b[38;5;241m=\u001b[39m {\n\u001b[1;32m    458\u001b[0m     \u001b[38;5;241m*\u001b[39m\u001b[38;5;241m*\u001b[39mparams,\n\u001b[1;32m    459\u001b[0m     \u001b[38;5;241m*\u001b[39m\u001b[38;5;241m*\u001b[39m({\u001b[38;5;124m\"\u001b[39m\u001b[38;5;124mstream\u001b[39m\u001b[38;5;124m\"\u001b[39m: stream} \u001b[38;5;28;01mif\u001b[39;00m stream \u001b[38;5;129;01mis\u001b[39;00m \u001b[38;5;129;01mnot\u001b[39;00m \u001b[38;5;28;01mNone\u001b[39;00m \u001b[38;5;28;01melse\u001b[39;00m {}),\n\u001b[1;32m    460\u001b[0m     \u001b[38;5;241m*\u001b[39m\u001b[38;5;241m*\u001b[39mkwargs,\n\u001b[1;32m    461\u001b[0m }\n\u001b[0;32m--> 462\u001b[0m response \u001b[38;5;241m=\u001b[39m \u001b[38;5;28mself\u001b[39m\u001b[38;5;241m.\u001b[39mclient\u001b[38;5;241m.\u001b[39mcreate(messages\u001b[38;5;241m=\u001b[39mmessage_dicts, \u001b[38;5;241m*\u001b[39m\u001b[38;5;241m*\u001b[39mparams)\n\u001b[1;32m    463\u001b[0m \u001b[38;5;28;01mreturn\u001b[39;00m \u001b[38;5;28mself\u001b[39m\u001b[38;5;241m.\u001b[39m_create_chat_result(response)\n",
      "File \u001b[0;32m~/opt/anaconda3/envs/llm_cpus/lib/python3.11/site-packages/openai/_utils/_utils.py:275\u001b[0m, in \u001b[0;36mrequired_args.<locals>.inner.<locals>.wrapper\u001b[0;34m(*args, **kwargs)\u001b[0m\n\u001b[1;32m    273\u001b[0m             msg \u001b[38;5;241m=\u001b[39m \u001b[38;5;124mf\u001b[39m\u001b[38;5;124m\"\u001b[39m\u001b[38;5;124mMissing required argument: \u001b[39m\u001b[38;5;132;01m{\u001b[39;00mquote(missing[\u001b[38;5;241m0\u001b[39m])\u001b[38;5;132;01m}\u001b[39;00m\u001b[38;5;124m\"\u001b[39m\n\u001b[1;32m    274\u001b[0m     \u001b[38;5;28;01mraise\u001b[39;00m \u001b[38;5;167;01mTypeError\u001b[39;00m(msg)\n\u001b[0;32m--> 275\u001b[0m \u001b[38;5;28;01mreturn\u001b[39;00m func(\u001b[38;5;241m*\u001b[39margs, \u001b[38;5;241m*\u001b[39m\u001b[38;5;241m*\u001b[39mkwargs)\n",
      "File \u001b[0;32m~/opt/anaconda3/envs/llm_cpus/lib/python3.11/site-packages/openai/resources/chat/completions.py:663\u001b[0m, in \u001b[0;36mCompletions.create\u001b[0;34m(self, messages, model, frequency_penalty, function_call, functions, logit_bias, logprobs, max_tokens, n, presence_penalty, response_format, seed, stop, stream, temperature, tool_choice, tools, top_logprobs, top_p, user, extra_headers, extra_query, extra_body, timeout)\u001b[0m\n\u001b[1;32m    611\u001b[0m \u001b[38;5;129m@required_args\u001b[39m([\u001b[38;5;124m\"\u001b[39m\u001b[38;5;124mmessages\u001b[39m\u001b[38;5;124m\"\u001b[39m, \u001b[38;5;124m\"\u001b[39m\u001b[38;5;124mmodel\u001b[39m\u001b[38;5;124m\"\u001b[39m], [\u001b[38;5;124m\"\u001b[39m\u001b[38;5;124mmessages\u001b[39m\u001b[38;5;124m\"\u001b[39m, \u001b[38;5;124m\"\u001b[39m\u001b[38;5;124mmodel\u001b[39m\u001b[38;5;124m\"\u001b[39m, \u001b[38;5;124m\"\u001b[39m\u001b[38;5;124mstream\u001b[39m\u001b[38;5;124m\"\u001b[39m])\n\u001b[1;32m    612\u001b[0m \u001b[38;5;28;01mdef\u001b[39;00m \u001b[38;5;21mcreate\u001b[39m(\n\u001b[1;32m    613\u001b[0m     \u001b[38;5;28mself\u001b[39m,\n\u001b[0;32m   (...)\u001b[0m\n\u001b[1;32m    661\u001b[0m     timeout: \u001b[38;5;28mfloat\u001b[39m \u001b[38;5;241m|\u001b[39m httpx\u001b[38;5;241m.\u001b[39mTimeout \u001b[38;5;241m|\u001b[39m \u001b[38;5;28;01mNone\u001b[39;00m \u001b[38;5;241m|\u001b[39m NotGiven \u001b[38;5;241m=\u001b[39m NOT_GIVEN,\n\u001b[1;32m    662\u001b[0m ) \u001b[38;5;241m-\u001b[39m\u001b[38;5;241m>\u001b[39m ChatCompletion \u001b[38;5;241m|\u001b[39m Stream[ChatCompletionChunk]:\n\u001b[0;32m--> 663\u001b[0m     \u001b[38;5;28;01mreturn\u001b[39;00m \u001b[38;5;28mself\u001b[39m\u001b[38;5;241m.\u001b[39m_post(\n\u001b[1;32m    664\u001b[0m         \u001b[38;5;124m\"\u001b[39m\u001b[38;5;124m/chat/completions\u001b[39m\u001b[38;5;124m\"\u001b[39m,\n\u001b[1;32m    665\u001b[0m         body\u001b[38;5;241m=\u001b[39mmaybe_transform(\n\u001b[1;32m    666\u001b[0m             {\n\u001b[1;32m    667\u001b[0m                 \u001b[38;5;124m\"\u001b[39m\u001b[38;5;124mmessages\u001b[39m\u001b[38;5;124m\"\u001b[39m: messages,\n\u001b[1;32m    668\u001b[0m                 \u001b[38;5;124m\"\u001b[39m\u001b[38;5;124mmodel\u001b[39m\u001b[38;5;124m\"\u001b[39m: model,\n\u001b[1;32m    669\u001b[0m                 \u001b[38;5;124m\"\u001b[39m\u001b[38;5;124mfrequency_penalty\u001b[39m\u001b[38;5;124m\"\u001b[39m: frequency_penalty,\n\u001b[1;32m    670\u001b[0m                 \u001b[38;5;124m\"\u001b[39m\u001b[38;5;124mfunction_call\u001b[39m\u001b[38;5;124m\"\u001b[39m: function_call,\n\u001b[1;32m    671\u001b[0m                 \u001b[38;5;124m\"\u001b[39m\u001b[38;5;124mfunctions\u001b[39m\u001b[38;5;124m\"\u001b[39m: functions,\n\u001b[1;32m    672\u001b[0m                 \u001b[38;5;124m\"\u001b[39m\u001b[38;5;124mlogit_bias\u001b[39m\u001b[38;5;124m\"\u001b[39m: logit_bias,\n\u001b[1;32m    673\u001b[0m                 \u001b[38;5;124m\"\u001b[39m\u001b[38;5;124mlogprobs\u001b[39m\u001b[38;5;124m\"\u001b[39m: logprobs,\n\u001b[1;32m    674\u001b[0m                 \u001b[38;5;124m\"\u001b[39m\u001b[38;5;124mmax_tokens\u001b[39m\u001b[38;5;124m\"\u001b[39m: max_tokens,\n\u001b[1;32m    675\u001b[0m                 \u001b[38;5;124m\"\u001b[39m\u001b[38;5;124mn\u001b[39m\u001b[38;5;124m\"\u001b[39m: n,\n\u001b[1;32m    676\u001b[0m                 \u001b[38;5;124m\"\u001b[39m\u001b[38;5;124mpresence_penalty\u001b[39m\u001b[38;5;124m\"\u001b[39m: presence_penalty,\n\u001b[1;32m    677\u001b[0m                 \u001b[38;5;124m\"\u001b[39m\u001b[38;5;124mresponse_format\u001b[39m\u001b[38;5;124m\"\u001b[39m: response_format,\n\u001b[1;32m    678\u001b[0m                 \u001b[38;5;124m\"\u001b[39m\u001b[38;5;124mseed\u001b[39m\u001b[38;5;124m\"\u001b[39m: seed,\n\u001b[1;32m    679\u001b[0m                 \u001b[38;5;124m\"\u001b[39m\u001b[38;5;124mstop\u001b[39m\u001b[38;5;124m\"\u001b[39m: stop,\n\u001b[1;32m    680\u001b[0m                 \u001b[38;5;124m\"\u001b[39m\u001b[38;5;124mstream\u001b[39m\u001b[38;5;124m\"\u001b[39m: stream,\n\u001b[1;32m    681\u001b[0m                 \u001b[38;5;124m\"\u001b[39m\u001b[38;5;124mtemperature\u001b[39m\u001b[38;5;124m\"\u001b[39m: temperature,\n\u001b[1;32m    682\u001b[0m                 \u001b[38;5;124m\"\u001b[39m\u001b[38;5;124mtool_choice\u001b[39m\u001b[38;5;124m\"\u001b[39m: tool_choice,\n\u001b[1;32m    683\u001b[0m                 \u001b[38;5;124m\"\u001b[39m\u001b[38;5;124mtools\u001b[39m\u001b[38;5;124m\"\u001b[39m: tools,\n\u001b[1;32m    684\u001b[0m                 \u001b[38;5;124m\"\u001b[39m\u001b[38;5;124mtop_logprobs\u001b[39m\u001b[38;5;124m\"\u001b[39m: top_logprobs,\n\u001b[1;32m    685\u001b[0m                 \u001b[38;5;124m\"\u001b[39m\u001b[38;5;124mtop_p\u001b[39m\u001b[38;5;124m\"\u001b[39m: top_p,\n\u001b[1;32m    686\u001b[0m                 \u001b[38;5;124m\"\u001b[39m\u001b[38;5;124muser\u001b[39m\u001b[38;5;124m\"\u001b[39m: user,\n\u001b[1;32m    687\u001b[0m             },\n\u001b[1;32m    688\u001b[0m             completion_create_params\u001b[38;5;241m.\u001b[39mCompletionCreateParams,\n\u001b[1;32m    689\u001b[0m         ),\n\u001b[1;32m    690\u001b[0m         options\u001b[38;5;241m=\u001b[39mmake_request_options(\n\u001b[1;32m    691\u001b[0m             extra_headers\u001b[38;5;241m=\u001b[39mextra_headers, extra_query\u001b[38;5;241m=\u001b[39mextra_query, extra_body\u001b[38;5;241m=\u001b[39mextra_body, timeout\u001b[38;5;241m=\u001b[39mtimeout\n\u001b[1;32m    692\u001b[0m         ),\n\u001b[1;32m    693\u001b[0m         cast_to\u001b[38;5;241m=\u001b[39mChatCompletion,\n\u001b[1;32m    694\u001b[0m         stream\u001b[38;5;241m=\u001b[39mstream \u001b[38;5;129;01mor\u001b[39;00m \u001b[38;5;28;01mFalse\u001b[39;00m,\n\u001b[1;32m    695\u001b[0m         stream_cls\u001b[38;5;241m=\u001b[39mStream[ChatCompletionChunk],\n\u001b[1;32m    696\u001b[0m     )\n",
      "File \u001b[0;32m~/opt/anaconda3/envs/llm_cpus/lib/python3.11/site-packages/openai/_base_client.py:1200\u001b[0m, in \u001b[0;36mSyncAPIClient.post\u001b[0;34m(self, path, cast_to, body, options, files, stream, stream_cls)\u001b[0m\n\u001b[1;32m   1186\u001b[0m \u001b[38;5;28;01mdef\u001b[39;00m \u001b[38;5;21mpost\u001b[39m(\n\u001b[1;32m   1187\u001b[0m     \u001b[38;5;28mself\u001b[39m,\n\u001b[1;32m   1188\u001b[0m     path: \u001b[38;5;28mstr\u001b[39m,\n\u001b[0;32m   (...)\u001b[0m\n\u001b[1;32m   1195\u001b[0m     stream_cls: \u001b[38;5;28mtype\u001b[39m[_StreamT] \u001b[38;5;241m|\u001b[39m \u001b[38;5;28;01mNone\u001b[39;00m \u001b[38;5;241m=\u001b[39m \u001b[38;5;28;01mNone\u001b[39;00m,\n\u001b[1;32m   1196\u001b[0m ) \u001b[38;5;241m-\u001b[39m\u001b[38;5;241m>\u001b[39m ResponseT \u001b[38;5;241m|\u001b[39m _StreamT:\n\u001b[1;32m   1197\u001b[0m     opts \u001b[38;5;241m=\u001b[39m FinalRequestOptions\u001b[38;5;241m.\u001b[39mconstruct(\n\u001b[1;32m   1198\u001b[0m         method\u001b[38;5;241m=\u001b[39m\u001b[38;5;124m\"\u001b[39m\u001b[38;5;124mpost\u001b[39m\u001b[38;5;124m\"\u001b[39m, url\u001b[38;5;241m=\u001b[39mpath, json_data\u001b[38;5;241m=\u001b[39mbody, files\u001b[38;5;241m=\u001b[39mto_httpx_files(files), \u001b[38;5;241m*\u001b[39m\u001b[38;5;241m*\u001b[39moptions\n\u001b[1;32m   1199\u001b[0m     )\n\u001b[0;32m-> 1200\u001b[0m     \u001b[38;5;28;01mreturn\u001b[39;00m cast(ResponseT, \u001b[38;5;28mself\u001b[39m\u001b[38;5;241m.\u001b[39mrequest(cast_to, opts, stream\u001b[38;5;241m=\u001b[39mstream, stream_cls\u001b[38;5;241m=\u001b[39mstream_cls))\n",
      "File \u001b[0;32m~/opt/anaconda3/envs/llm_cpus/lib/python3.11/site-packages/openai/_base_client.py:889\u001b[0m, in \u001b[0;36mSyncAPIClient.request\u001b[0;34m(self, cast_to, options, remaining_retries, stream, stream_cls)\u001b[0m\n\u001b[1;32m    880\u001b[0m \u001b[38;5;28;01mdef\u001b[39;00m \u001b[38;5;21mrequest\u001b[39m(\n\u001b[1;32m    881\u001b[0m     \u001b[38;5;28mself\u001b[39m,\n\u001b[1;32m    882\u001b[0m     cast_to: Type[ResponseT],\n\u001b[0;32m   (...)\u001b[0m\n\u001b[1;32m    887\u001b[0m     stream_cls: \u001b[38;5;28mtype\u001b[39m[_StreamT] \u001b[38;5;241m|\u001b[39m \u001b[38;5;28;01mNone\u001b[39;00m \u001b[38;5;241m=\u001b[39m \u001b[38;5;28;01mNone\u001b[39;00m,\n\u001b[1;32m    888\u001b[0m ) \u001b[38;5;241m-\u001b[39m\u001b[38;5;241m>\u001b[39m ResponseT \u001b[38;5;241m|\u001b[39m _StreamT:\n\u001b[0;32m--> 889\u001b[0m     \u001b[38;5;28;01mreturn\u001b[39;00m \u001b[38;5;28mself\u001b[39m\u001b[38;5;241m.\u001b[39m_request(\n\u001b[1;32m    890\u001b[0m         cast_to\u001b[38;5;241m=\u001b[39mcast_to,\n\u001b[1;32m    891\u001b[0m         options\u001b[38;5;241m=\u001b[39moptions,\n\u001b[1;32m    892\u001b[0m         stream\u001b[38;5;241m=\u001b[39mstream,\n\u001b[1;32m    893\u001b[0m         stream_cls\u001b[38;5;241m=\u001b[39mstream_cls,\n\u001b[1;32m    894\u001b[0m         remaining_retries\u001b[38;5;241m=\u001b[39mremaining_retries,\n\u001b[1;32m    895\u001b[0m     )\n",
      "File \u001b[0;32m~/opt/anaconda3/envs/llm_cpus/lib/python3.11/site-packages/openai/_base_client.py:980\u001b[0m, in \u001b[0;36mSyncAPIClient._request\u001b[0;34m(self, cast_to, options, remaining_retries, stream, stream_cls)\u001b[0m\n\u001b[1;32m    977\u001b[0m         err\u001b[38;5;241m.\u001b[39mresponse\u001b[38;5;241m.\u001b[39mread()\n\u001b[1;32m    979\u001b[0m     log\u001b[38;5;241m.\u001b[39mdebug(\u001b[38;5;124m\"\u001b[39m\u001b[38;5;124mRe-raising status error\u001b[39m\u001b[38;5;124m\"\u001b[39m)\n\u001b[0;32m--> 980\u001b[0m     \u001b[38;5;28;01mraise\u001b[39;00m \u001b[38;5;28mself\u001b[39m\u001b[38;5;241m.\u001b[39m_make_status_error_from_response(err\u001b[38;5;241m.\u001b[39mresponse) \u001b[38;5;28;01mfrom\u001b[39;00m \u001b[38;5;28;01mNone\u001b[39;00m\n\u001b[1;32m    982\u001b[0m \u001b[38;5;28;01mreturn\u001b[39;00m \u001b[38;5;28mself\u001b[39m\u001b[38;5;241m.\u001b[39m_process_response(\n\u001b[1;32m    983\u001b[0m     cast_to\u001b[38;5;241m=\u001b[39mcast_to,\n\u001b[1;32m    984\u001b[0m     options\u001b[38;5;241m=\u001b[39moptions,\n\u001b[0;32m   (...)\u001b[0m\n\u001b[1;32m    987\u001b[0m     stream_cls\u001b[38;5;241m=\u001b[39mstream_cls,\n\u001b[1;32m    988\u001b[0m )\n",
      "\u001b[0;31mAuthenticationError\u001b[0m: Error code: 401 - {'error': {'message': 'Incorrect API key provided: sk-DxK9C***************************************2DQN. You can find your API key at https://platform.openai.com/account/api-keys.', 'type': 'invalid_request_error', 'param': None, 'code': 'invalid_api_key'}}"
     ]
    }
   ],
   "source": [
    "llm = ChatOpenAI(api_key=api_key, model_name=\"gpt-4-1106-preview\", temperature=0)\n",
    "\n",
    "rag_chain = (\n",
    "    {\"context\": retriever,  \"question\": RunnablePassthrough()} \n",
    "    | prompt \n",
    "    | llm\n",
    "    | StrOutputParser() \n",
    ")\n",
    "\n",
    "query = \"What is the evidence, if any, supporting the causal association between lisinopril and acute kidney injury?\"\n",
    "rag_chain.invoke(query)"
   ]
  },
  {
   "cell_type": "code",
   "execution_count": 52,
   "metadata": {},
   "outputs": [],
   "source": [
    "from typing import List, Optional\n",
    "\n",
    "from vertexai.language_models import TextEmbeddingInput, TextEmbeddingModel"
   ]
  },
  {
   "cell_type": "code",
   "execution_count": 53,
   "metadata": {},
   "outputs": [],
   "source": [
    "def text_embedding(words) -> list:\n",
    "    \"\"\"Text embedding with a Large Language Model.\"\"\"\n",
    "    model = TextEmbeddingModel.from_pretrained(\"textembedding-gecko@001\")\n",
    "    embeddings = model.get_embeddings(words)\n",
    "    for embedding in embeddings:\n",
    "        vector = embedding.values\n",
    "        print(f\"Embedding Vectors: {vector}\")\n",
    "        print(f\"Length of Embedding Vector: {len(vector)}\")\n",
    "    return vector\n"
   ]
  },
  {
   "cell_type": "code",
   "execution_count": 67,
   "metadata": {},
   "outputs": [
    {
     "ename": "GoogleAuthError",
     "evalue": "\nUnable to authenticate your request.\nDepending on your runtime environment, you can complete authentication by:\n- if in local JupyterLab instance: `!gcloud auth login` \n- if in Colab:\n    -`from google.colab import auth`\n    -`auth.authenticate_user()`\n- if in service account or other: please follow guidance in https://cloud.google.com/docs/authentication",
     "output_type": "error",
     "traceback": [
      "\u001b[0;31m---------------------------------------------------------------------------\u001b[0m",
      "\u001b[0;31mDefaultCredentialsError\u001b[0m                   Traceback (most recent call last)",
      "File \u001b[0;32m~/opt/anaconda3/envs/llm_cpus/lib/python3.11/site-packages/google/cloud/aiplatform/initializer.py:305\u001b[0m, in \u001b[0;36m_Config.project\u001b[0;34m(self)\u001b[0m\n\u001b[1;32m    304\u001b[0m \u001b[38;5;28;01mtry\u001b[39;00m:\n\u001b[0;32m--> 305\u001b[0m     \u001b[38;5;28mself\u001b[39m\u001b[38;5;241m.\u001b[39m_set_project_as_env_var_or_google_auth_default()\n\u001b[1;32m    306\u001b[0m     project_id \u001b[38;5;241m=\u001b[39m \u001b[38;5;28mself\u001b[39m\u001b[38;5;241m.\u001b[39m_project\n",
      "File \u001b[0;32m~/opt/anaconda3/envs/llm_cpus/lib/python3.11/site-packages/google/cloud/aiplatform/initializer.py:93\u001b[0m, in \u001b[0;36m_Config._set_project_as_env_var_or_google_auth_default\u001b[0;34m(self)\u001b[0m\n\u001b[1;32m     92\u001b[0m \u001b[38;5;28;01melse\u001b[39;00m:\n\u001b[0;32m---> 93\u001b[0m     credentials, project \u001b[38;5;241m=\u001b[39m google\u001b[38;5;241m.\u001b[39mauth\u001b[38;5;241m.\u001b[39mdefault()\n\u001b[1;32m     94\u001b[0m     \u001b[38;5;28mself\u001b[39m\u001b[38;5;241m.\u001b[39m_credentials \u001b[38;5;241m=\u001b[39m \u001b[38;5;28mself\u001b[39m\u001b[38;5;241m.\u001b[39m_credentials \u001b[38;5;129;01mor\u001b[39;00m credentials\n",
      "File \u001b[0;32m~/opt/anaconda3/envs/llm_cpus/lib/python3.11/site-packages/google/auth/_default.py:691\u001b[0m, in \u001b[0;36mdefault\u001b[0;34m(scopes, request, quota_project_id, default_scopes)\u001b[0m\n\u001b[1;32m    689\u001b[0m         \u001b[38;5;28;01mreturn\u001b[39;00m credentials, effective_project_id\n\u001b[0;32m--> 691\u001b[0m \u001b[38;5;28;01mraise\u001b[39;00m exceptions\u001b[38;5;241m.\u001b[39mDefaultCredentialsError(_CLOUD_SDK_MISSING_CREDENTIALS)\n",
      "\u001b[0;31mDefaultCredentialsError\u001b[0m: Your default credentials were not found. To set up Application Default Credentials, see https://cloud.google.com/docs/authentication/external/set-up-adc for more information.",
      "\nThe above exception was the direct cause of the following exception:\n",
      "\u001b[0;31mGoogleAuthError\u001b[0m                           Traceback (most recent call last)",
      "File \u001b[0;32m~/opt/anaconda3/envs/llm_cpus/lib/python3.11/site-packages/vertexai/_model_garden/_model_garden_models.py:289\u001b[0m, in \u001b[0;36m_ModelGardenModel.from_pretrained\u001b[0;34m(cls, model_name)\u001b[0m\n\u001b[1;32m    288\u001b[0m \u001b[38;5;28;01mtry\u001b[39;00m:\n\u001b[0;32m--> 289\u001b[0m     \u001b[38;5;28;01mreturn\u001b[39;00m _from_pretrained(interface_class\u001b[38;5;241m=\u001b[39m\u001b[38;5;28mcls\u001b[39m, model_name\u001b[38;5;241m=\u001b[39mmodel_name)\n\u001b[1;32m    290\u001b[0m \u001b[38;5;28;01mexcept\u001b[39;00m auth_exceptions\u001b[38;5;241m.\u001b[39mGoogleAuthError \u001b[38;5;28;01mas\u001b[39;00m e:\n",
      "File \u001b[0;32m~/opt/anaconda3/envs/llm_cpus/lib/python3.11/site-packages/vertexai/_model_garden/_model_garden_models.py:206\u001b[0m, in \u001b[0;36m_from_pretrained\u001b[0;34m(interface_class, model_name, publisher_model, tuned_vertex_model)\u001b[0m\n\u001b[1;32m    202\u001b[0m         \u001b[38;5;28;01mraise\u001b[39;00m \u001b[38;5;167;01mValueError\u001b[39;00m(\n\u001b[1;32m    203\u001b[0m             \u001b[38;5;124mf\u001b[39m\u001b[38;5;124m\"\u001b[39m\u001b[38;5;124mClass \u001b[39m\u001b[38;5;132;01m{\u001b[39;00minterface_class\u001b[38;5;132;01m}\u001b[39;00m\u001b[38;5;124m is not a correct model interface class since it does not have an instance schema URI.\u001b[39m\u001b[38;5;124m\"\u001b[39m\n\u001b[1;32m    204\u001b[0m         )\n\u001b[0;32m--> 206\u001b[0m     model_info \u001b[38;5;241m=\u001b[39m _get_model_info(\n\u001b[1;32m    207\u001b[0m         model_id\u001b[38;5;241m=\u001b[39mmodel_name,\n\u001b[1;32m    208\u001b[0m         schema_to_class_map\u001b[38;5;241m=\u001b[39m{interface_class\u001b[38;5;241m.\u001b[39m_INSTANCE_SCHEMA_URI: interface_class},\n\u001b[1;32m    209\u001b[0m     )\n\u001b[1;32m    211\u001b[0m \u001b[38;5;28;01melse\u001b[39;00m:\n",
      "File \u001b[0;32m~/opt/anaconda3/envs/llm_cpus/lib/python3.11/site-packages/vertexai/_model_garden/_model_garden_models.py:122\u001b[0m, in \u001b[0;36m_get_model_info\u001b[0;34m(model_id, schema_to_class_map, interface_class, publisher_model_res, tuned_vertex_model)\u001b[0m\n\u001b[1;32m    120\u001b[0m \u001b[38;5;28;01mif\u001b[39;00m \u001b[38;5;129;01mnot\u001b[39;00m publisher_model_res:\n\u001b[1;32m    121\u001b[0m     publisher_model_res \u001b[38;5;241m=\u001b[39m (\n\u001b[0;32m--> 122\u001b[0m         _publisher_models\u001b[38;5;241m.\u001b[39m_PublisherModel(  \u001b[38;5;66;03m# pylint: disable=protected-access\u001b[39;00m\n\u001b[1;32m    123\u001b[0m             resource_name\u001b[38;5;241m=\u001b[39mmodel_id\n\u001b[1;32m    124\u001b[0m         )\u001b[38;5;241m.\u001b[39m_gca_resource\n\u001b[1;32m    125\u001b[0m     )\n\u001b[1;32m    127\u001b[0m \u001b[38;5;28;01mif\u001b[39;00m \u001b[38;5;129;01mnot\u001b[39;00m publisher_model_res\u001b[38;5;241m.\u001b[39mname\u001b[38;5;241m.\u001b[39mstartswith(\u001b[38;5;124m\"\u001b[39m\u001b[38;5;124mpublishers/google/models/\u001b[39m\u001b[38;5;124m\"\u001b[39m):\n",
      "File \u001b[0;32m~/opt/anaconda3/envs/llm_cpus/lib/python3.11/site-packages/google/cloud/aiplatform/_publisher_models.py:63\u001b[0m, in \u001b[0;36m_PublisherModel.__init__\u001b[0;34m(self, resource_name, project, location, credentials)\u001b[0m\n\u001b[1;32m     44\u001b[0m \u001b[38;5;250m\u001b[39m\u001b[38;5;124;03m\"\"\"Retrieves an existing PublisherModel resource given a resource name or model garden id.\u001b[39;00m\n\u001b[1;32m     45\u001b[0m \n\u001b[1;32m     46\u001b[0m \u001b[38;5;124;03mArgs:\u001b[39;00m\n\u001b[0;32m   (...)\u001b[0m\n\u001b[1;32m     60\u001b[0m \u001b[38;5;124;03m        Overrides credentials set in aiplatform.init.\u001b[39;00m\n\u001b[1;32m     61\u001b[0m \u001b[38;5;124;03m\"\"\"\u001b[39;00m\n\u001b[0;32m---> 63\u001b[0m \u001b[38;5;28msuper\u001b[39m()\u001b[38;5;241m.\u001b[39m\u001b[38;5;21m__init__\u001b[39m(project\u001b[38;5;241m=\u001b[39mproject, location\u001b[38;5;241m=\u001b[39mlocation, credentials\u001b[38;5;241m=\u001b[39mcredentials)\n\u001b[1;32m     65\u001b[0m \u001b[38;5;28;01mif\u001b[39;00m \u001b[38;5;28mself\u001b[39m\u001b[38;5;241m.\u001b[39m_parse_resource_name(resource_name):\n",
      "File \u001b[0;32m~/opt/anaconda3/envs/llm_cpus/lib/python3.11/site-packages/google/cloud/aiplatform/base.py:556\u001b[0m, in \u001b[0;36mVertexAiResourceNoun.__init__\u001b[0;34m(self, project, location, credentials, resource_name)\u001b[0m\n\u001b[1;32m    552\u001b[0m     project, location \u001b[38;5;241m=\u001b[39m \u001b[38;5;28mself\u001b[39m\u001b[38;5;241m.\u001b[39m_get_and_validate_project_location(\n\u001b[1;32m    553\u001b[0m         resource_name\u001b[38;5;241m=\u001b[39mresource_name, project\u001b[38;5;241m=\u001b[39mproject, location\u001b[38;5;241m=\u001b[39mlocation\n\u001b[1;32m    554\u001b[0m     )\n\u001b[0;32m--> 556\u001b[0m \u001b[38;5;28mself\u001b[39m\u001b[38;5;241m.\u001b[39mproject \u001b[38;5;241m=\u001b[39m project \u001b[38;5;129;01mor\u001b[39;00m initializer\u001b[38;5;241m.\u001b[39mglobal_config\u001b[38;5;241m.\u001b[39mproject\n\u001b[1;32m    557\u001b[0m \u001b[38;5;28mself\u001b[39m\u001b[38;5;241m.\u001b[39mlocation \u001b[38;5;241m=\u001b[39m location \u001b[38;5;129;01mor\u001b[39;00m initializer\u001b[38;5;241m.\u001b[39mglobal_config\u001b[38;5;241m.\u001b[39mlocation\n",
      "File \u001b[0;32m~/opt/anaconda3/envs/llm_cpus/lib/python3.11/site-packages/google/cloud/aiplatform/initializer.py:308\u001b[0m, in \u001b[0;36m_Config.project\u001b[0;34m(self)\u001b[0m\n\u001b[1;32m    307\u001b[0m \u001b[38;5;28;01mexcept\u001b[39;00m GoogleAuthError \u001b[38;5;28;01mas\u001b[39;00m exc:\n\u001b[0;32m--> 308\u001b[0m     \u001b[38;5;28;01mraise\u001b[39;00m GoogleAuthError(project_not_found_exception_str) \u001b[38;5;28;01mfrom\u001b[39;00m \u001b[38;5;21;01mexc\u001b[39;00m\n\u001b[1;32m    310\u001b[0m \u001b[38;5;28;01mif\u001b[39;00m \u001b[38;5;129;01mnot\u001b[39;00m project_id:\n",
      "\u001b[0;31mGoogleAuthError\u001b[0m: Unable to find your project. Please provide a project ID by:\n- Passing a constructor argument\n- Using vertexai.init()\n- Setting project using 'gcloud config set project my-project'\n- Setting a GCP environment variable\n- To create a Google Cloud project, please follow guidance at https://developers.google.com/workspace/guides/create-project",
      "\nThe above exception was the direct cause of the following exception:\n",
      "\u001b[0;31mGoogleAuthError\u001b[0m                           Traceback (most recent call last)",
      "Cell \u001b[0;32mIn[67], line 1\u001b[0m\n\u001b[0;32m----> 1\u001b[0m text_embedding([\u001b[38;5;124m\"\u001b[39m\u001b[38;5;124mHello\u001b[39m\u001b[38;5;124m\"\u001b[39m, \u001b[38;5;124m\"\u001b[39m\u001b[38;5;124mWorld\u001b[39m\u001b[38;5;124m\"\u001b[39m])\n",
      "Cell \u001b[0;32mIn[53], line 3\u001b[0m, in \u001b[0;36mtext_embedding\u001b[0;34m(words)\u001b[0m\n\u001b[1;32m      1\u001b[0m \u001b[38;5;28;01mdef\u001b[39;00m \u001b[38;5;21mtext_embedding\u001b[39m(words) \u001b[38;5;241m-\u001b[39m\u001b[38;5;241m>\u001b[39m \u001b[38;5;28mlist\u001b[39m:\n\u001b[1;32m      2\u001b[0m \u001b[38;5;250m    \u001b[39m\u001b[38;5;124;03m\"\"\"Text embedding with a Large Language Model.\"\"\"\u001b[39;00m\n\u001b[0;32m----> 3\u001b[0m     model \u001b[38;5;241m=\u001b[39m TextEmbeddingModel\u001b[38;5;241m.\u001b[39mfrom_pretrained(\u001b[38;5;124m\"\u001b[39m\u001b[38;5;124mtextembedding-gecko@001\u001b[39m\u001b[38;5;124m\"\u001b[39m)\n\u001b[1;32m      4\u001b[0m     embeddings \u001b[38;5;241m=\u001b[39m model\u001b[38;5;241m.\u001b[39mget_embeddings(words)\n\u001b[1;32m      5\u001b[0m     \u001b[38;5;28;01mfor\u001b[39;00m embedding \u001b[38;5;129;01min\u001b[39;00m embeddings:\n",
      "File \u001b[0;32m~/opt/anaconda3/envs/llm_cpus/lib/python3.11/site-packages/vertexai/_model_garden/_model_garden_models.py:291\u001b[0m, in \u001b[0;36m_ModelGardenModel.from_pretrained\u001b[0;34m(cls, model_name)\u001b[0m\n\u001b[1;32m    289\u001b[0m     \u001b[38;5;28;01mreturn\u001b[39;00m _from_pretrained(interface_class\u001b[38;5;241m=\u001b[39m\u001b[38;5;28mcls\u001b[39m, model_name\u001b[38;5;241m=\u001b[39mmodel_name)\n\u001b[1;32m    290\u001b[0m \u001b[38;5;28;01mexcept\u001b[39;00m auth_exceptions\u001b[38;5;241m.\u001b[39mGoogleAuthError \u001b[38;5;28;01mas\u001b[39;00m e:\n\u001b[0;32m--> 291\u001b[0m     \u001b[38;5;28;01mraise\u001b[39;00m auth_exceptions\u001b[38;5;241m.\u001b[39mGoogleAuthError(credential_exception_str) \u001b[38;5;28;01mfrom\u001b[39;00m \u001b[38;5;21;01me\u001b[39;00m\n",
      "\u001b[0;31mGoogleAuthError\u001b[0m: \nUnable to authenticate your request.\nDepending on your runtime environment, you can complete authentication by:\n- if in local JupyterLab instance: `!gcloud auth login` \n- if in Colab:\n    -`from google.colab import auth`\n    -`auth.authenticate_user()`\n- if in service account or other: please follow guidance in https://cloud.google.com/docs/authentication"
     ]
    }
   ],
   "source": [
    "text_embedding([\"Hello\", \"World\"])"
   ]
  },
  {
   "cell_type": "code",
   "execution_count": 72,
   "metadata": {},
   "outputs": [],
   "source": [
    "import json"
   ]
  },
  {
   "cell_type": "code",
   "execution_count": 85,
   "metadata": {},
   "outputs": [
    {
     "name": "stdout",
     "output_type": "stream",
     "text": [
      "dict_keys(['error'])\n"
     ]
    }
   ],
   "source": [
    "f = open('../results/support_basic_embed.json')\n",
    "data = json.load(f)\n",
    "print(data.keys())\n"
   ]
  },
  {
   "cell_type": "code",
   "execution_count": null,
   "metadata": {},
   "outputs": [],
   "source": []
  }
 ],
 "metadata": {
  "kernelspec": {
   "display_name": "llm_cpus",
   "language": "python",
   "name": "python3"
  },
  "language_info": {
   "codemirror_mode": {
    "name": "ipython",
    "version": 3
   },
   "file_extension": ".py",
   "mimetype": "text/x-python",
   "name": "python",
   "nbconvert_exporter": "python",
   "pygments_lexer": "ipython3",
   "version": "3.11.7"
  }
 },
 "nbformat": 4,
 "nbformat_minor": 2
}
