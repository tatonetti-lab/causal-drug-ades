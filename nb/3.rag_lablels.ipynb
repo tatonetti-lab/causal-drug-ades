{
 "cells": [
  {
   "cell_type": "code",
   "execution_count": 14,
   "metadata": {},
   "outputs": [],
   "source": [
    "import polars as pl\n",
    "import pandas as pd\n",
    "import json\n",
    "from pprint import pprint\n",
    "\n",
    "# import\n",
    "from langchain_community.document_loaders import DirectoryLoader, JSONLoader\n",
    "from langchain_community.embeddings.sentence_transformer import (\n",
    "    SentenceTransformerEmbeddings\n",
    ")\n",
    "from langchain_community.embeddings import OpenAIEmbeddings\n",
    "from langchain_community.vectorstores import Chroma\n",
    "from langchain_text_splitters import CharacterTextSplitter\n",
    "from openai import OpenAI, AzureOpenAI\n",
    "from langchain_openai import ChatOpenAI"
   ]
  },
  {
   "cell_type": "code",
   "execution_count": 21,
   "metadata": {},
   "outputs": [],
   "source": [
    "config = json.load(open('../config.json'))\n",
    "\n",
    "organization = \"\"\n",
    "\n",
    "api_source = 'OpenAI'\n",
    "\n",
    "api_key = config[api_source]['openai_api_key'] #constants.AZURE_OPENAI_KEY\n",
    "api_endpoint = config[api_source]['openai_api_endpoint']  "
   ]
  },
  {
   "cell_type": "code",
   "execution_count": 3,
   "metadata": {},
   "outputs": [
    {
     "data": {
      "text/html": [
       "<div><style>\n",
       ".dataframe > thead > tr,\n",
       ".dataframe > tbody > tr {\n",
       "  text-align: right;\n",
       "  white-space: pre-wrap;\n",
       "}\n",
       "</style>\n",
       "<small>shape: (5, 9)</small><table border=\"1\" class=\"dataframe\"><thead><tr><th>SETID</th><th>SPL_VERSION</th><th>ingredients_names</th><th>ingredients_rxcuis</th><th>condition_name</th><th>pt_meddra_id</th><th>pt_meddra_term</th><th>file</th><th>title</th></tr><tr><td>str</td><td>i64</td><td>str</td><td>i64</td><td>str</td><td>i64</td><td>str</td><td>str</td><td>str</td></tr></thead><tbody><tr><td>&quot;0002ad27-779d-…</td><td>22</td><td>&quot;trametinib&quot;</td><td>1425099</td><td>&quot;GIB&quot;</td><td>10052534</td><td>&quot;large intestin…</td><td>&quot;../data/2024_l…</td><td>&quot;These highligh…</td></tr><tr><td>&quot;00aa81c2-73c7-…</td><td>4</td><td>&quot;esomeprazole&quot;</td><td>283742</td><td>&quot;GIB&quot;</td><td>10013839</td><td>&quot;duodenal ulcer…</td><td>&quot;../data/2024_l…</td><td>&quot;These highligh…</td></tr><tr><td>&quot;00fd1905-27e4-…</td><td>11</td><td>&quot;nitisinone&quot;</td><td>61805</td><td>&quot;GIB&quot;</td><td>10027141</td><td>&quot;melaena&quot;</td><td>&quot;../data/2024_l…</td><td>&quot;These highligh…</td></tr><tr><td>&quot;03880372-2c68-…</td><td>21</td><td>&quot;rilpivirine&quot;</td><td>1102270</td><td>&quot;ALI&quot;</td><td>10019851</td><td>&quot;hepatotoxicity…</td><td>&quot;../data/2024_l…</td><td>&quot;These highligh…</td></tr><tr><td>&quot;09beda19-56d6-…</td><td>33</td><td>&quot;linaclotide&quot;</td><td>1307404</td><td>&quot;GIB&quot;</td><td>10038063</td><td>&quot;rectal haemorr…</td><td>&quot;../data/2024_l…</td><td>&quot;These highligh…</td></tr></tbody></table></div>"
      ],
      "text/plain": [
       "shape: (5, 9)\n",
       "┌───────────┬───────────┬───────────┬───────────┬───┬───────────┬───────────┬───────────┬──────────┐\n",
       "│ SETID     ┆ SPL_VERSI ┆ ingredien ┆ ingredien ┆ … ┆ pt_meddra ┆ pt_meddra ┆ file      ┆ title    │\n",
       "│ ---       ┆ ON        ┆ ts_names  ┆ ts_rxcuis ┆   ┆ _id       ┆ _term     ┆ ---       ┆ ---      │\n",
       "│ str       ┆ ---       ┆ ---       ┆ ---       ┆   ┆ ---       ┆ ---       ┆ str       ┆ str      │\n",
       "│           ┆ i64       ┆ str       ┆ i64       ┆   ┆ i64       ┆ str       ┆           ┆          │\n",
       "╞═══════════╪═══════════╪═══════════╪═══════════╪═══╪═══════════╪═══════════╪═══════════╪══════════╡\n",
       "│ 0002ad27- ┆ 22        ┆ trametini ┆ 1425099   ┆ … ┆ 10052534  ┆ large int ┆ ../data/2 ┆ These    │\n",
       "│ 779d-42ab ┆           ┆ b         ┆           ┆   ┆           ┆ estinal   ┆ 024_lates ┆ highligh │\n",
       "│ -83b5-bc6 ┆           ┆           ┆           ┆   ┆           ┆ haemorrha ┆ t_labels/ ┆ ts do    │\n",
       "│ 54534…    ┆           ┆           ┆           ┆   ┆           ┆ ge        ┆ gold_…    ┆ not      │\n",
       "│           ┆           ┆           ┆           ┆   ┆           ┆           ┆           ┆ include  │\n",
       "│           ┆           ┆           ┆           ┆   ┆           ┆           ┆           ┆ …        │\n",
       "│ 00aa81c2- ┆ 4         ┆ esomepraz ┆ 283742    ┆ … ┆ 10013839  ┆ duodenal  ┆ ../data/2 ┆ These    │\n",
       "│ 73c7-4bf8 ┆           ┆ ole       ┆           ┆   ┆           ┆ ulcer hae ┆ 024_lates ┆ highligh │\n",
       "│ -94e9-f64 ┆           ┆           ┆           ┆   ┆           ┆ morrhage  ┆ t_labels/ ┆ ts do    │\n",
       "│ 4381b…    ┆           ┆           ┆           ┆   ┆           ┆           ┆ lates…    ┆ not      │\n",
       "│           ┆           ┆           ┆           ┆   ┆           ┆           ┆           ┆ include  │\n",
       "│           ┆           ┆           ┆           ┆   ┆           ┆           ┆           ┆ …        │\n",
       "│ 00fd1905- ┆ 11        ┆ nitisinon ┆ 61805     ┆ … ┆ 10027141  ┆ melaena   ┆ ../data/2 ┆ These    │\n",
       "│ 27e4-420e ┆           ┆ e         ┆           ┆   ┆           ┆           ┆ 024_lates ┆ highligh │\n",
       "│ -8dc5-a69 ┆           ┆           ┆           ┆   ┆           ┆           ┆ t_labels/ ┆ ts do    │\n",
       "│ e4ddc…    ┆           ┆           ┆           ┆   ┆           ┆           ┆ lates…    ┆ not      │\n",
       "│           ┆           ┆           ┆           ┆   ┆           ┆           ┆           ┆ include  │\n",
       "│           ┆           ┆           ┆           ┆   ┆           ┆           ┆           ┆ …        │\n",
       "│ 03880372- ┆ 21        ┆ rilpiviri ┆ 1102270   ┆ … ┆ 10019851  ┆ hepatotox ┆ ../data/2 ┆ These    │\n",
       "│ 2c68-45c6 ┆           ┆ ne        ┆           ┆   ┆           ┆ icity     ┆ 024_lates ┆ highligh │\n",
       "│ -a53a-f42 ┆           ┆           ┆           ┆   ┆           ┆           ┆ t_labels/ ┆ ts do    │\n",
       "│ 0c495…    ┆           ┆           ┆           ┆   ┆           ┆           ┆ lates…    ┆ not      │\n",
       "│           ┆           ┆           ┆           ┆   ┆           ┆           ┆           ┆ include  │\n",
       "│           ┆           ┆           ┆           ┆   ┆           ┆           ┆           ┆ …        │\n",
       "│ 09beda19- ┆ 33        ┆ linacloti ┆ 1307404   ┆ … ┆ 10038063  ┆ rectal    ┆ ../data/2 ┆ These    │\n",
       "│ 56d6-4a56 ┆           ┆ de        ┆           ┆   ┆           ┆ haemorrha ┆ 024_lates ┆ highligh │\n",
       "│ -afdc-9a7 ┆           ┆           ┆           ┆   ┆           ┆ ge        ┆ t_labels/ ┆ ts do    │\n",
       "│ 7b70b…    ┆           ┆           ┆           ┆   ┆           ┆           ┆ gold_…    ┆ not      │\n",
       "│           ┆           ┆           ┆           ┆   ┆           ┆           ┆           ┆ include  │\n",
       "│           ┆           ┆           ┆           ┆   ┆           ┆           ┆           ┆ …        │\n",
       "└───────────┴───────────┴───────────┴───────────┴───┴───────────┴───────────┴───────────┴──────────┘"
      ]
     },
     "execution_count": 3,
     "metadata": {},
     "output_type": "execute_result"
    }
   ],
   "source": [
    "label_dat = pl.read_csv('../data/labels_for_rag.csv')\n",
    "label_dat.head()"
   ]
  },
  {
   "cell_type": "code",
   "execution_count": 17,
   "metadata": {},
   "outputs": [
    {
     "name": "stdout",
     "output_type": "stream",
     "text": [
      "[Document(page_content='{\"AR\": \"ADVERSE REACTIONS\\\\n\\\\n\\\\nClinical Trial Adverse Events. Clomiphene citrate, at recommended dosages, is generally well tolerated. Adverse reactions usually have been mild and transient and most have disappeared promptly after treatment has been discontinued. Adverse experiences reported in patients treated with clomiphene citrate during clinical studies are shown in Table 2.\\\\n\\\\nTable 2. Incidence of Adverse Events in Clinical Studies (Events Greater than 1%) (n = 8029*)\\\\n\\\\n\\\\n\\\\n\\\\n\\\\n\\\\n\\\\u00a0*Includes 498 patients whose reports may have been duplicated in the event totals and could not be distinguished as such. Also, excludes 47 patients who did not report symptom data.\\\\n\\\\n\\\\n\\\\n\\\\n\\\\nAdverse Event\\\\n\\\\n\\\\n%\\\\n\\\\n\\\\n\\\\n\\\\nOvarian Enlargement\\\\n\\\\n\\\\n13.6\\\\n\\\\n\\\\n\\\\n\\\\nVasomotor Flushes\\\\n\\\\n\\\\n10.4\\\\n\\\\n\\\\n\\\\n\\\\nAbdominal-Pelvic Discomfort/Distention/Bloating\\\\n\\\\n\\\\n5.5\\\\n\\\\n\\\\n\\\\n\\\\nNausea and Vomiting\\\\n\\\\n\\\\n2.2\\\\n\\\\n\\\\n\\\\n\\\\nBreast Discomfort\\\\n\\\\n\\\\n2.1\\\\n\\\\n\\\\n\\\\n\\\\nVisual Symptoms\\\\n\\\\n\\\\n1.5\\\\n\\\\n\\\\n\\\\n\\\\nBlurred vision, lights, floaters, waves, unspecified visual\\\\n\\\\n\\\\n\\\\n\\\\n\\\\ncomplaints, photophobia, diplopia, scotomata, phosphenes\\\\n\\\\n\\\\n\\\\n\\\\n\\\\nHeadache\\\\n\\\\n\\\\n1.3\\\\n\\\\n\\\\n\\\\n\\\\nAbnormal Uterine Bleeding\\\\n\\\\n\\\\n1.3\\\\n\\\\n\\\\n\\\\n\\\\nIntermenstrual spotting, menorrhagia\\\\n\\\\n\\\\n\\\\n\\\\n\\\\nThe following adverse events have been reported in fewer than 1% of patients in clinical trials: Acute abdomen, appetite increase, constipation, dermatitis or rash, depression, diarrhea, dizziness, fatigue, hair loss/dry hair, increased urinary frequency/volume, insomnia, light-headedness, nervous tension, vaginal dryness, vertigo, weight gain/loss.\\\\nPatients on prolonged clomiphene citrate therapy may show elevated serum levels of desmosterol. This is most likely due to a direct interference with cholesterol synthesis. However, the serum sterols in patients receiving the recommended dose of clomiphene citrate are not significantly altered. Ovarian cancer has been infrequently reported in patients who have received fertility drugs. Infertility is a primary risk factor for ovarian cancer; however, epidemiology data suggest that prolonged use of clomiphene may increase the risk of a borderline or invasive ovarian tumor.\\\\n\\\\n\\\\n\\\\n\\\\n\\\\n\\\\n\\\\n\\\\nPostmarketing Adverse Events\\\\n\\\\n\\\\n\\\\nThe following adverse reactions have been identified during the post approval use of clomiphene citrate. Because these reactions are reported voluntarily from a population of uncertain size, it is not always possible to reliably estimate their frequency or establish a causal relationship to drug exposure.\\\\n\\\\nBody as a Whole: Fever, tinnitus, weakness\\\\n\\\\nCardiovascular: Arrhythmia, chest pain, edema, hypertension, palpitation, phlebitis, pulmonary embolism, shortness of breath, tachycardia, thrombophlebitis\\\\n\\\\nCentral Nervous System: Migraine headache, paresthesia, seizure, stroke, syncope\\\\n\\\\nDermatologic: Acne, allergic reaction, erythema, erythema multiforme, erythema nodosum, hypertrichosis, pruritus, urticaria\\\\n\\\\nFetal/Neonatal Anomalies:\\\\n\\\\n\\\\nAbnormal bone development: skeletal malformations of the skull, face, nasal passages, jaw, hand, limb (ectromelia including amelia, hemimelia, and phocomelia),foot (clubfoot), spine and joints\\\\nCardiac abnormalities: septal heart defects, muscular ventricular septal defect, patent ductus arteriosus, tetralogy of Fallot, and coarctation of the aorta\\\\nChromosomal disorders: Downs syndrome\\\\nEar abnormalities and deafness\\\\nGastrointestinal tract abnormalities: cleft lip and palate, imperforate anus, tracheoesophageal fistula, diaphragmatic hernia, omphalocele\\\\nGenitalia abnormalities: hypospadias, cloacal exstrophy\\\\nLung tissue malformations\\\\nMalformations of the eye and lens (cataract)\\\\nNeoplasms: neuroectodermal tumor, thyroid tumor, hepatoblastoma, lymphocytic, leukemia\\\\nNervous system abnormalities: neural tube defects (anencephaly, meningomyelocele),microcephaly, and hydrocephalus\\\\nRenal abnormalities: renal agenesis and renal dysgenesis\\\\nOthers: dwarfism, mental retardation\\\\n\\\\n\\\\nGastrointestinal: Pancreatitis\\\\n\\\\nGenitourinary: Endometriosis, ovarian cyst (ovarian enlargement or cysts could, as such, be complicated by adnexal torsion), ovarian hemorrhage, tubal pregnancy, uterine hemorrhage,\\\\u00a0\\\\u00a0 reduced endometrial thickness\\\\n\\\\nHepatic: Transaminases increased, hepatitis.\\\\n\\\\nMetabolism Disorders: Hypertriglyceridemia, in some cases with pancreatitis\\\\n\\\\nMusculoskeletal: Arthralgia, back pain, myalgia.\\\\n\\\\nNeoplasms: Liver (hepatic hemangiosarcoma, liver cell adenoma, hepatocellular carcinoma); breast (fibrocystic disease, breast carcinoma); endometrium (endometrial carcinoma); nervous system (astrocytoma, pituitary tumor, prolactinoma, neurofibromatosis, glioblastoma multiforme, brain abcess); ovary (luteoma of pregnancy, dermoid cyst of the ovary, ovarian carcinoma); trophoblastic (hydatiform mole, choriocarcinoma); miscellaneous (melanoma, myeloma, perianal cysts, renal cell carcinoma, Hodgkin\\\\u2019s lymphoma, tongue carcinoma, bladder carcinoma);\\\\n\\\\nPsychiatric: Anxiety, irritability, mood changes, psychosis.\\\\n\\\\nVisual Disorders: Abnormal accommodation, cataract, eye pain, macular edema, optic neuritis, photopsia, posterior vitreous detachment, retinal hemorrhage, retinal thrombosis, retinal vascular spasm, temporary or prolonged loss of vision, possibly irreversible.\\\\n\\\\nOther: Leukocytosis, thyroid disorder.\\\\n\\\\n\\\\n\\\\n\\\\n\\\\n\\\\n\\\\n\\\\nDRUG ABUSE AND DEPENDENCE\\\\n\\\\nTolerance, abuse, or dependence with clomiphene citrate has not been reported.\", \"WA\": \"WARNINGS\\\\n\\\\n\\\\n\\\\n\\\\n\\\\n\\\\nVisual Symptoms\\\\n\\\\n\\\\nPatients should be advised that blurring or other visual symptoms such as spots or flashes (scintillating scotomata) may occasionally occur during therapy with clomiphene citrate. These visual symptoms increase in incidence with increasing total dose or therapy duration. These visual disturbances are usually reversible; however, cases of prolonged visual disturbance have been reported with some occurring after clomiphene citrate discontinuation. The visual disturbances may be irreversible, especially with increased dosage or duration of therapy. Patients should be warned that these visual symptoms may render such activities as driving a car or operating machinery more hazardous than usual, particularly under conditions of variable lighting.\\\\nThese visual symptoms appear to be due to intensification and prolongation of after-images. Symptoms often first appear or are accentuated with exposure to a brightly lit environment. While measured visual acuity usually has not been affected, a study patient taking 200 mg clomiphene citrate daily developed visual blurring on the 7th day of treatment, which progressed to severe diminution of visual acuity by the 10th day. No other abnormality was found, and the visual acuity returned to normal on the 3rd day after treatment was stopped.\\\\nOphthalmologically definable scotomata and retinal cell function (electroretinographic) changes have also been reported. A patient treated during clinical studies developed phosphenes and scotomata during prolonged clomiphene citrate administration, which disappeared by the 32nd day after stopping therapy.\\\\nPostmarketing surveillance of adverse events has also revealed other visual signs and symptoms during clomiphene citrate therapy (see ADVERSE REACTIONS).\\\\nWhile the etiology of these visual symptoms is not yet understood, patients with any visual symptoms should discontinue treatment and have a complete ophthalmological evaluation carried out promptly.\\\\n\\\\n\\\\n\\\\n\\\\n\\\\n\\\\n\\\\n\\\\n\\\\nOvarianHyperstimulationSyndrome\\\\n\\\\n\\\\nThe ovarian hyperstimulation syndrome (OHSS) has been reported to occur in patients receiving clomiphene citrate therapy for ovulation induction. OHSS may progress rapidly (within 24 hours to several days) and become a serious medical disorder. In some cases, OHSS occurred following cyclic use of clomiphene citrate therapy or when clomiphene citrate was used in combination with gonadotropins. Transient liver function test abnormalities suggestive of hepatic dysfunction, which may be accompanied by morphologic changes on liver biopsy, have been reported in association with OHSS.\\\\nOHSS is a medical event distinct from uncomplicated ovarian enlargement. The clinical signs of this syndrome in severe cases can include gross ovarian enlargement, gastrointestinal symptoms, ascites, dyspnea, oliguria, and pleural effusion. In addition, the following symptoms have been reported in association with this syndrome: pericardial effusion, anasarca, hydrothorax, acute abdomen, hypotension, renal failure, pulmonary edema, intraperitoneal and ovarian hemorrhage, deep venous thrombosis, torsion of the ovary, and acute respiratory distress. The early warning signs of OHSS are abdominal pain and distention, nausea, vomiting, diarrhea, and weight gain. Elevated urinary steroid levels, varying degrees of electrolyte imbalance, hypovolemia, hemoconcentration, and hypoproteinemia may occur. Death due to hypovolemic shock, hemoconcentration, or thromboembolism has occurred. Due to fragility of enlarged ovaries in severe cases, abdominal and pelvic examination should be performed very cautiously. If conception results, rapid progression to the severe form of the syndrome may occur.\\\\nTo minimize the hazard associated with occasional abnormal ovarian enlargement associated with clomiphene citrate therapy, the lowest dose consistent with expected clinical results should be used. Maximal enlargement of the ovary, whether physiologic or abnormal, may not occur until several days after discontinuation of the recommended dose of clomiphene citrate. Some patients with polycystic ovary syndrome who are unusually sensitive to gonadotropin may have an exaggerated response to usual doses of clomiphene citrate. Therefore, patients with polycystic ovary syndrome should be started on the lowest recommended dose and shortest treatment duration for the first course of therapy (see DOSAGE AND ADMINISTRATION).\\\\nIf enlargement of the ovary occurs, additional clomiphene citrate therapy should not be given until the ovaries have returned to pretreatment size, and the dosage or duration of the next course should be reduced. Ovarian enlargement and cyst formation associated with clomiphene citrate therapy usually regress spontaneously within a few days or weeks after discontinuing treatment. The potential benefit of subsequent clomiphene citrate therapy in these cases should exceed the risk. Unless surgical indication for laparotomy exists, such cystic enlargement should always be managed conservatively.\\\\nA causal relationship between ovarian hyperstimulation and ovarian cancer has not been determined. However, because a correlation between ovarian cancer and nulliparity, infertility, and age has been suggested, if ovarian cysts do not regress spontaneously, a thorough evaluation should be performed to rule out the presence of ovarian neoplasia.\", \"PR\": \"PRECAUTIONS\\\\n\\\\n\\\\n\\\\n\\\\n\\\\n\\\\nGeneral\\\\n\\\\n\\\\nCareful attention should be given to the selection of candidates for clomiphene citrate therapy. Pelvic examination is necessary prior to clomiphene citrate treatment and before each subsequent course (see CONTRAINDICATIONS and WARNINGS).\\\\n\\\\n\\\\n\\\\n\\\\n\\\\n\\\\n\\\\n\\\\n\\\\nInformation for Patients\\\\n\\\\n\\\\nThe purpose and risks of clomiphene citrate therapy should be presented to the patient before starting treatment. It should be emphasized that the goal of clomiphene citrate therapy is ovulation for subsequent pregnancy. The physician should counsel the patient with special regard to the following potential risks:\\\\n\\\\nVisual Symptoms: Advise that blurring or other visual symptoms occasionally may occur during or shortly after clomiphene citrate therapy. It should be made clear to the patient that, in some instances, visual disturbances may be prolonged, and possibly irreversible, especially with increased dosage or duration of therapy. Warn that visual symptoms may render such activities as driving a car or operating machinery more hazardous than usual, particularly under conditions of variable lighting (see\\\\u00a0\\\\nWARNINGS\\\\n).\\\\nThe patient should be instructed to inform the physician whenever any unusual visual symptoms occur. If the patient has any visual symptoms, treatment should be discontinued and complete ophthalmologic evaluation performed.\\\\n\\\\nAbdominal/Pelvic Pain or Distention: Ovarian enlargement may occur during or shortly after therapy with clomiphene citrate. To minimize the risks associated with ovarian enlargement, the patient should be instructed to inform the physician of any abdominal or pelvic pain, weight gain, discomfort, or distention after taking clomiphene citrate (see \\\\nWARNINGS\\\\n).\\\\n\\\\nMetabolism Disorders: Cases of hypertriglyceridemia have been reported. Preexisting or family history of hyperlipidemia and use of higher than recommended dose and/or longer duration of treatment with clomiphene citrate are associated with a risk of hypertriglyceridemia. Periodic monitoring of plasma triglycerides is recommended in patients with preexisting or family history of hyperlipidemia (see \\\\nADVERSE REACTIONS\\\\n). Pretreatment screening of triglyceride levels is recommended in patients initiating clomiphene citrate therapy.\\\\n\\\\nGastrointestinal Disorders: Cases of pancreatitis have been reported.\\\\n\\\\nMultiple Pregnancy: Inform the patient that there is an increased chance of multiple pregnancy, including bilateral tubal pregnancy and coexisting tubal and intrauterine pregnancy, when conception occurs in relation to clomiphene citrate therapy. The potential complications and hazards of multiple pregnancy should be explained.\\\\n\\\\nSpontaneous Abortion and Congenital Anomalies: Inform the patient that the available data suggest no increase in the rates of spontaneous abortion (miscarriage) or congenital anomalies with maternal clomiphene citrate use compared to rates in the general population.\\\\nDuring clinical investigation, the experience from  patients with known pregnancy outcome (Table 1) shows a spontaneous abortion rate of 20.4% and stillbirth rate of 1.0%. (See \\\\nCLINICAL STUDIES\\\\n). Among the birth anomalies spontaneously reported as individual cases since commercial availability of clomiphene citrate, the proportion of neural tube defects has been high among pregnancies associated with ovulation induced by clomiphene citrate, but this has not been supported by data from population-based studies.\\\\n\\\\n\\\\n\\\\n\\\\n\\\\n\\\\n\\\\n\\\\n\\\\nDrug Interactions\\\\n\\\\n\\\\nDrug interactions with clomiphene citrate have not been documented.\\\\n\\\\n\\\\n\\\\n\\\\n\\\\n\\\\n\\\\n\\\\n\\\\nCarcinogenesis, Mutagenesis, Impairment of Fertility\\\\n\\\\n\\\\nLong-term toxicity studies in animals have not been performed to evaluate the carcinogenic or mutagenic potential of clomiphene citrate.\\\\nOral administration of clomiphene citrate to male rats at doses of 0.3 or 1 mg/kg/day caused decreased fertility, while higher doses caused temporary infertility. Oral doses of 0.1 mg/kg/day in female rats temporarily interrupted the normal cyclic vaginal smear pattern and prevented conception. Doses of 0.3 mg/kg/day slightly reduced the number of ovulated ova and corpora lutea, while 3 mg/kg/day inhibited ovulation.\\\\n\\\\n\\\\n\\\\n\\\\n\\\\n\\\\n\\\\n\\\\n\\\\nPregnancy\\\\n\\\\n\\\\n\\\\nFetal Risk Summary\\\\n\\\\nClomiphene citrate use in pregnant women is contraindicated, as clomiphene citrate treatment does not offer benefit in this population. \\\\nAvailable human data do not suggest an increased risk for congenital anomalies above the background population risk. However, animal reproductive toxicology studies showed increased embryo-fetal loss and structural malformations in offspring. If this drug is used during pregnancy, or if the patient becomes pregnant while taking this drug, the patient should be apprised of the potential risks to the fetus.\\\\n\\\\nClinical Considerations\\\\n\\\\nTo avoid inadvertent clomiphene citrate administration during early pregnancy, appropriate tests should be utilized during each treatment cycle to determine whether ovulation and/or pregnancy occurs. Patients should be evaluated carefully to exclude ovarian enlargement or ovarian cyst formation between each treatment cycle. The next course of clomiphene citrate therapy should be delayed until these conditions have been excluded.\\\\nHuman Data\\\\nThe available human data from epidemiologic studies do not show any apparent cause and effect relationship between clomiphene citrate periconceptual exposure and an increased risk of overall birth defects, or any specific anomaly. However, due to the small number of cases of congenital anomalies occurring in clomiphene citrate treated women, these epidemiologic studies were only able to rule out large differences in risk. The studies did not consider factors associated with female subfertility and were unable to adjust for other important confounders.\\\\nIn addition, available data do not support an increase rate of spontaneous abortion among subfertile women treated with clomiphene for ovulation induction.\\\\nAnimal Data\\\\nOral administration of clomiphene citrate to pregnant rats during organogenesis at doses of 1 to 2 mg/kg/day resulted in hydramnion and weak, edematous fetuses with wavy ribs and other temporary bone changes. Doses of 8 mg/kg/day or more also caused increased resorptions and dead fetuses, dystocia, and delayed parturition, and 40 mg/kg/day resulted in increased maternal mortality. Single doses of 50 mg/kg caused fetal cataracts, while 200 mg/kg caused cleft palate.\\\\nFollowing injection of clomiphene citrate 2 mg/kg to mice and rats during pregnancy, the offspring exhibited metaplastic changes of the reproductive tract.  Newborn mice and rats injected during the first few days of life also developed metaplastic changes in uterine and vaginal mucosa, as well as premature vaginal opening and anovulatory ovaries. These findings are similar to the abnormal reproductive behavior and sterility described with other estrogens and antiestrogens.\\\\nIn rabbits, some temporary bone alterations were seen in fetuses from dams given oral doses of 20 or 40 mg/kg/day during pregnancy, but not following 8 mg/kg/day. No permanent malformations were observed in those studies. Also, rhesus monkeys given oral doses of 1.5 to 4.5 mg/kg/day for various periods during pregnancy did not have any abnormal offspring.\\\\n\\\\n\\\\nNursing Mothers\\\\n\\\\n\\\\nIt is not known whether clomiphene citrate is excreted in human milk. Because many drugs are excreted in human milk, caution should be exercised if clomiphene citrate is administered to a nursing woman. In some patients, clomiphene citrate may reduce lactation.\\\\n\\\\n\\\\nOvarian Cancer\\\\n\\\\n\\\\nProlonged use of clomiphene citrate tablets USP may increase the risk of a borderline or invasive ovarian tumor (see ADVERSE REACTIONS).\", \"OV\": \"OVERDOSAGE\\\\n\\\\n\\\\n\\\\nSigns and Symptoms\\\\n\\\\n\\\\nToxic effects accompanying acute overdosage of clomiphene citrate have not been reported. Signs and symptoms of overdosage as a result of the use of more than the recommended dose during clomiphene citrate therapy include nausea, vomiting, vasomotor flushes, visual blurring, spots or flashes, scotomata, ovarian enlargement with pelvic or abdominal pain. (See CONTRAINDICATIONS: Ovarian Cyst.)\\\\n\\\\nOral LD50. The acute oral LD50 of clomiphene citrate is 1700 mg/kg in mice and 5750 mg/kg in rats. The toxic dose in humans is not known.\\\\n\\\\nDialysis. It is not known if clomiphene citrate is dialyzable.\\\\n\\\\n\\\\nTreatment\\\\n\\\\n\\\\nIn the event of overdose, appropriate supportive measures should be employed in addition to gastrointestinal decontamination.\"}', metadata={'source': '/Users/undinagisladottir/Documents/Columbia/Tatonetti_Lab/causal-drug-ades/data/2024_latest_labels/latest_labels_ingredients/20240111_6370e342-16a5-4339-a13f-ba275fd5de09.json', 'seq_num': 1})]\n"
     ]
    }
   ],
   "source": [
    "loader = JSONLoader(\n",
    "    file_path='../data/2024_latest_labels/latest_labels_ingredients/20240111_6370e342-16a5-4339-a13f-ba275fd5de09.json',\n",
    "    jq_schema='.sections',\n",
    "    text_content=False)\n",
    "\n",
    "data = loader.load()\n",
    "pprint(data)"
   ]
  },
  {
   "cell_type": "code",
   "execution_count": 22,
   "metadata": {},
   "outputs": [
    {
     "name": "stderr",
     "output_type": "stream",
     "text": [
      "/Users/undinagisladottir/opt/anaconda3/envs/llm_cpus/lib/python3.11/site-packages/langchain_core/_api/deprecation.py:117: LangChainDeprecationWarning: The class `langchain_community.embeddings.openai.OpenAIEmbeddings` was deprecated in langchain-community 0.0.9 and will be removed in 0.2.0. An updated version of the class exists in the langchain-openai package and should be used instead. To use it run `pip install -U langchain-openai` and import as `from langchain_openai import OpenAIEmbeddings`.\n",
      "  warn_deprecated(\n"
     ]
    }
   ],
   "source": [
    "documents = []\n",
    "for file in label_dat['file'].unique():\n",
    "    loader = JSONLoader(file_path='../data/2024_latest_labels/latest_labels_ingredients/20240111_6370e342-16a5-4339-a13f-ba275fd5de09.json',\n",
    "                        jq_schema='.sections',\n",
    "                        text_content=False)\n",
    "    documents.extend(loader.load())\n",
    "\n",
    "text_splitter = CharacterTextSplitter()\n",
    "chunks = text_splitter.split_documents(documents)\n",
    "db = Chroma.from_documents(chunks, OpenAIEmbeddings(openai_api_key=api_key), persist_directory=\"../../Chroma\")\n",
    "db.persist()"
   ]
  }
 ],
 "metadata": {
  "kernelspec": {
   "display_name": "llm_cpus",
   "language": "python",
   "name": "python3"
  },
  "language_info": {
   "codemirror_mode": {
    "name": "ipython",
    "version": 3
   },
   "file_extension": ".py",
   "mimetype": "text/x-python",
   "name": "python",
   "nbconvert_exporter": "python",
   "pygments_lexer": "ipython3",
   "version": "3.11.7"
  }
 },
 "nbformat": 4,
 "nbformat_minor": 2
}
