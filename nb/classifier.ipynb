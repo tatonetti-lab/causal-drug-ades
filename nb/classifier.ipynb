{
 "cells": [
  {
   "cell_type": "code",
   "execution_count": 2,
   "metadata": {},
   "outputs": [],
   "source": [
    "import numpy as np\n",
    "import sys\n",
    "import polars as pl\n",
    "import pandas as pd\n",
    "import random\n",
    "from sklearn.model_selection import train_test_split\n",
    "from sklearn.linear_model import LogisticRegression\n",
    "from sklearn.ensemble import RandomForestClassifier\n",
    "from sklearn.neighbors import KNeighborsClassifier\n",
    "from imblearn.under_sampling import NearMiss\n",
    "from sklearn import metrics\n",
    "from sklearn.metrics import classification_report, accuracy_score, precision_score, recall_score, f1_score, roc_curve, auc, confusion_matrix, precision_recall_curve\n",
    "from sklearn import preprocessing\n",
    "from sklearn.model_selection import cross_val_score"
   ]
  },
  {
   "cell_type": "code",
   "execution_count": 20,
   "metadata": {},
   "outputs": [
    {
     "name": "stdout",
     "output_type": "stream",
     "text": [
      "(1476, 2051)\n"
     ]
    },
    {
     "data": {
      "text/html": [
       "<div><style>\n",
       ".dataframe > thead > tr,\n",
       ".dataframe > tbody > tr {\n",
       "  text-align: right;\n",
       "  white-space: pre-wrap;\n",
       "}\n",
       "</style>\n",
       "<small>shape: (5, 2_051)</small><table border=\"1\" class=\"dataframe\"><thead><tr><th>condition_name</th><th>drug_name</th><th>affect</th><th>0</th><th>1</th><th>2</th><th>3</th><th>4</th><th>5</th><th>6</th><th>7</th><th>8</th><th>9</th><th>10</th><th>11</th><th>12</th><th>13</th><th>14</th><th>15</th><th>16</th><th>17</th><th>18</th><th>19</th><th>20</th><th>21</th><th>22</th><th>23</th><th>24</th><th>25</th><th>26</th><th>27</th><th>28</th><th>29</th><th>30</th><th>31</th><th>32</th><th>33</th><th>&hellip;</th><th>987_duplicated_0</th><th>988_duplicated_0</th><th>989_duplicated_0</th><th>990_duplicated_0</th><th>991_duplicated_0</th><th>992_duplicated_0</th><th>993_duplicated_0</th><th>994_duplicated_0</th><th>995_duplicated_0</th><th>996_duplicated_0</th><th>997_duplicated_0</th><th>998_duplicated_0</th><th>999_duplicated_0</th><th>1000_duplicated_0</th><th>1001_duplicated_0</th><th>1002_duplicated_0</th><th>1003_duplicated_0</th><th>1004_duplicated_0</th><th>1005_duplicated_0</th><th>1006_duplicated_0</th><th>1007_duplicated_0</th><th>1008_duplicated_0</th><th>1009_duplicated_0</th><th>1010_duplicated_0</th><th>1011_duplicated_0</th><th>1012_duplicated_0</th><th>1013_duplicated_0</th><th>1014_duplicated_0</th><th>1015_duplicated_0</th><th>1016_duplicated_0</th><th>1017_duplicated_0</th><th>1018_duplicated_0</th><th>1019_duplicated_0</th><th>1020_duplicated_0</th><th>1021_duplicated_0</th><th>1022_duplicated_0</th><th>1023_duplicated_0</th></tr><tr><td>str</td><td>str</td><td>i32</td><td>f64</td><td>f64</td><td>f64</td><td>f64</td><td>f64</td><td>f64</td><td>f64</td><td>f64</td><td>f64</td><td>f64</td><td>f64</td><td>f64</td><td>f64</td><td>f64</td><td>f64</td><td>f64</td><td>f64</td><td>f64</td><td>f64</td><td>f64</td><td>f64</td><td>f64</td><td>f64</td><td>f64</td><td>f64</td><td>f64</td><td>f64</td><td>f64</td><td>f64</td><td>f64</td><td>f64</td><td>f64</td><td>f64</td><td>f64</td><td>&hellip;</td><td>f64</td><td>f64</td><td>f64</td><td>f64</td><td>f64</td><td>f64</td><td>f64</td><td>f64</td><td>f64</td><td>f64</td><td>f64</td><td>f64</td><td>f64</td><td>f64</td><td>f64</td><td>f64</td><td>f64</td><td>f64</td><td>f64</td><td>f64</td><td>f64</td><td>f64</td><td>f64</td><td>f64</td><td>f64</td><td>f64</td><td>f64</td><td>f64</td><td>f64</td><td>f64</td><td>f64</td><td>f64</td><td>f64</td><td>f64</td><td>f64</td><td>f64</td><td>f64</td></tr></thead><tbody><tr><td>&quot;acute kidney i…</td><td>&quot;6-aminocaproic…</td><td>0</td><td>-0.113791</td><td>0.5761229</td><td>-0.057424</td><td>0.422981</td><td>-1.039098</td><td>-0.316022</td><td>0.475713</td><td>0.384223</td><td>0.5568268</td><td>0.8824807</td><td>-0.369988</td><td>-0.578911</td><td>-0.141257</td><td>0.029517</td><td>-0.631581</td><td>-0.261116</td><td>0.013399</td><td>-0.50964</td><td>-0.322155</td><td>-0.16976</td><td>0.739859</td><td>-0.040078</td><td>0.254749</td><td>0.067516</td><td>0.2803745</td><td>1.0264088</td><td>0.255942</td><td>-0.605479</td><td>1.5246605</td><td>0.5719897</td><td>-0.041438</td><td>0.3692937</td><td>0.716658</td><td>0.339189</td><td>&hellip;</td><td>1.1658257</td><td>0.059245</td><td>0.416834</td><td>-0.527663</td><td>0.247297</td><td>0.5109924</td><td>0.199492</td><td>-0.105386</td><td>0.3376889</td><td>0.419384</td><td>-0.238846</td><td>0.6458211</td><td>-0.75336</td><td>-0.320593</td><td>0.215728</td><td>0.109278</td><td>0.3314094</td><td>0.594011</td><td>-0.255532</td><td>0.249085</td><td>0.3002335</td><td>0.042368</td><td>-0.217641</td><td>0.045214</td><td>0.365678</td><td>-0.577791</td><td>0.7765181</td><td>0.338307</td><td>-0.757739</td><td>-0.324013</td><td>-0.650646</td><td>0.5834112</td><td>0.9333886</td><td>-0.554994</td><td>-0.122884</td><td>-0.441791</td><td>-0.550147</td></tr><tr><td>&quot;acute kidney i…</td><td>&quot;3-iodobenzylgu…</td><td>0</td><td>0.167238</td><td>0.075416</td><td>0.351527</td><td>0.191419</td><td>-0.820671</td><td>0.10259</td><td>0.172632</td><td>0.143705</td><td>-0.002329</td><td>0.561895</td><td>0.593211</td><td>-0.399002</td><td>0.601526</td><td>-0.297195</td><td>0.0374561</td><td>0.544703</td><td>-0.043588</td><td>-0.268589</td><td>-0.042387</td><td>0.312905</td><td>0.830163</td><td>0.6969075</td><td>-0.537826</td><td>0.5075295</td><td>-0.235583</td><td>0.9864152</td><td>-0.089572</td><td>-0.11895</td><td>1.3799655</td><td>0.4286258</td><td>0.193598</td><td>-0.245762</td><td>1.162368</td><td>-0.254496</td><td>&hellip;</td><td>0.416473</td><td>-0.104335</td><td>0.16713</td><td>-0.505979</td><td>0.237364</td><td>0.7699128</td><td>0.140969</td><td>0.6449821</td><td>0.325432</td><td>-0.076962</td><td>-0.389527</td><td>0.4648688</td><td>-0.833855</td><td>-0.344343</td><td>-0.120699</td><td>0.22262</td><td>0.328187</td><td>0.461831</td><td>0.160315</td><td>0.4900108</td><td>-0.339558</td><td>0.219848</td><td>0.276337</td><td>0.008242</td><td>0.7823667</td><td>-0.884464</td><td>0.487854</td><td>0.1376159</td><td>-0.255247</td><td>-0.350863</td><td>-0.000354</td><td>0.6476129</td><td>1.1781952</td><td>-0.479792</td><td>0.089264</td><td>-0.3088</td><td>-0.232126</td></tr><tr><td>&quot;acute kidney i…</td><td>&quot;abacavir&quot;</td><td>0</td><td>-0.950485</td><td>0.584202</td><td>-0.062872</td><td>0.225852</td><td>-0.368249</td><td>0.009063</td><td>-0.46825</td><td>-0.410719</td><td>0.203988</td><td>0.6683506</td><td>-0.391967</td><td>-0.558072</td><td>0.473859</td><td>0.03328</td><td>-0.638843</td><td>0.120856</td><td>0.133404</td><td>-0.539722</td><td>-0.148631</td><td>0.233409</td><td>0.7949639</td><td>0.7236491</td><td>-0.629767</td><td>-0.268083</td><td>0.158468</td><td>0.8079171</td><td>-0.140388</td><td>-0.691627</td><td>1.2390614</td><td>0.243923</td><td>-0.01037</td><td>-0.41288</td><td>0.796795</td><td>-0.361516</td><td>&hellip;</td><td>1.0070913</td><td>0.3670554</td><td>0.996402</td><td>-0.82922</td><td>0.165006</td><td>0.8591236</td><td>0.737249</td><td>-0.549624</td><td>0.389619</td><td>0.2588</td><td>-0.188909</td><td>0.154625</td><td>-0.698787</td><td>0.025228</td><td>-0.24539</td><td>0.001009</td><td>0.4528022</td><td>0.136914</td><td>0.01325</td><td>0.5839833</td><td>0.2742374</td><td>0.162868</td><td>0.165932</td><td>0.039104</td><td>0.609531</td><td>-0.882788</td><td>0.4865759</td><td>-0.054819</td><td>-0.29218</td><td>-0.347759</td><td>-0.542438</td><td>0.36695</td><td>1.1608756</td><td>-0.724895</td><td>0.161244</td><td>0.193736</td><td>-0.699643</td></tr><tr><td>&quot;acute kidney i…</td><td>&quot;abatacept&quot;</td><td>0</td><td>-0.644795</td><td>0.6654043</td><td>0.018576</td><td>0.2889785</td><td>-0.504876</td><td>0.31782</td><td>-0.222896</td><td>-0.263948</td><td>0.168481</td><td>0.8802953</td><td>-0.495485</td><td>-0.44851</td><td>0.189278</td><td>0.21243</td><td>-0.803692</td><td>-0.070876</td><td>-0.214516</td><td>-0.172695</td><td>-0.198993</td><td>0.274046</td><td>0.74019</td><td>0.6826604</td><td>-0.260914</td><td>-0.370646</td><td>0.1252962</td><td>0.6904323</td><td>-0.148557</td><td>-0.643003</td><td>1.4017996</td><td>0.586186</td><td>0.006193</td><td>-0.145872</td><td>0.693184</td><td>0.151168</td><td>&hellip;</td><td>1.4076331</td><td>0.6122786</td><td>0.432108</td><td>-0.451074</td><td>0.210564</td><td>0.47348</td><td>0.457086</td><td>0.105763</td><td>0.504564</td><td>0.44329</td><td>0.260639</td><td>0.551414</td><td>-0.624523</td><td>-0.286071</td><td>-0.077608</td><td>0.14784</td><td>0.37661</td><td>0.4917209</td><td>0.2599635</td><td>0.6102624</td><td>-0.012514</td><td>0.223976</td><td>-0.108235</td><td>0.170128</td><td>0.7445779</td><td>-0.971231</td><td>0.6271078</td><td>0.109472</td><td>-0.663006</td><td>-0.335138</td><td>-0.487633</td><td>0.2993779</td><td>0.771351</td><td>-0.35752</td><td>0.140006</td><td>-0.479819</td><td>-0.665837</td></tr><tr><td>&quot;acute kidney i…</td><td>&quot;abemaciclib&quot;</td><td>0</td><td>-0.321315</td><td>0.095288</td><td>0.031969</td><td>0.285429</td><td>-0.090508</td><td>0.7392465</td><td>-0.014736</td><td>-0.58783</td><td>0.496446</td><td>1.13638</td><td>-0.227364</td><td>-0.665901</td><td>0.211377</td><td>-1.049659</td><td>-0.298218</td><td>-0.298889</td><td>0.109319</td><td>-0.482085</td><td>-0.129278</td><td>0.3819297</td><td>1.1451916</td><td>0.430311</td><td>0.3275</td><td>0.217305</td><td>-0.700397</td><td>1.0643435</td><td>0.263392</td><td>-0.891269</td><td>0.803679</td><td>1.1250405</td><td>-0.313871</td><td>0.02912</td><td>0.878989</td><td>-0.165224</td><td>&hellip;</td><td>0.407151</td><td>-0.164216</td><td>0.8426841</td><td>-0.565621</td><td>-0.030819</td><td>0.663494</td><td>0.863509</td><td>0.121952</td><td>0.3325903</td><td>0.98039</td><td>-0.177101</td><td>-0.161349</td><td>0.2599125</td><td>0.138193</td><td>-0.172958</td><td>0.052935</td><td>0.2937497</td><td>0.239732</td><td>-0.656719</td><td>0.641902</td><td>0.109112</td><td>0.195424</td><td>-0.203523</td><td>0.5096087</td><td>0.293409</td><td>-0.965997</td><td>0.195351</td><td>0.248844</td><td>-0.513589</td><td>0.472769</td><td>-0.182507</td><td>0.3904834</td><td>0.4845075</td><td>-0.311689</td><td>-0.368671</td><td>0.032888</td><td>-0.406301</td></tr></tbody></table></div>"
      ],
      "text/plain": [
       "shape: (5, 2_051)\n",
       "┌────────────┬────────────┬────────┬───────────┬───┬───────────┬───────────┬───────────┬───────────┐\n",
       "│ condition_ ┆ drug_name  ┆ affect ┆ 0         ┆ … ┆ 1020_dupl ┆ 1021_dupl ┆ 1022_dupl ┆ 1023_dupl │\n",
       "│ name       ┆ ---        ┆ ---    ┆ ---       ┆   ┆ icated_0  ┆ icated_0  ┆ icated_0  ┆ icated_0  │\n",
       "│ ---        ┆ str        ┆ i32    ┆ f64       ┆   ┆ ---       ┆ ---       ┆ ---       ┆ ---       │\n",
       "│ str        ┆            ┆        ┆           ┆   ┆ f64       ┆ f64       ┆ f64       ┆ f64       │\n",
       "╞════════════╪════════════╪════════╪═══════════╪═══╪═══════════╪═══════════╪═══════════╪═══════════╡\n",
       "│ acute      ┆ 6-aminocap ┆ 0      ┆ -0.113791 ┆ … ┆ -0.554994 ┆ -0.122884 ┆ -0.441791 ┆ -0.550147 │\n",
       "│ kidney     ┆ roic acid  ┆        ┆           ┆   ┆           ┆           ┆           ┆           │\n",
       "│ injury     ┆            ┆        ┆           ┆   ┆           ┆           ┆           ┆           │\n",
       "│ acute      ┆ 3-iodobenz ┆ 0      ┆ 0.167238  ┆ … ┆ -0.479792 ┆ 0.089264  ┆ -0.3088   ┆ -0.232126 │\n",
       "│ kidney     ┆ ylguanidin ┆        ┆           ┆   ┆           ┆           ┆           ┆           │\n",
       "│ injury     ┆ e          ┆        ┆           ┆   ┆           ┆           ┆           ┆           │\n",
       "│ acute      ┆ abacavir   ┆ 0      ┆ -0.950485 ┆ … ┆ -0.724895 ┆ 0.161244  ┆ 0.193736  ┆ -0.699643 │\n",
       "│ kidney     ┆            ┆        ┆           ┆   ┆           ┆           ┆           ┆           │\n",
       "│ injury     ┆            ┆        ┆           ┆   ┆           ┆           ┆           ┆           │\n",
       "│ acute      ┆ abatacept  ┆ 0      ┆ -0.644795 ┆ … ┆ -0.35752  ┆ 0.140006  ┆ -0.479819 ┆ -0.665837 │\n",
       "│ kidney     ┆            ┆        ┆           ┆   ┆           ┆           ┆           ┆           │\n",
       "│ injury     ┆            ┆        ┆           ┆   ┆           ┆           ┆           ┆           │\n",
       "│ acute      ┆ abemacicli ┆ 0      ┆ -0.321315 ┆ … ┆ -0.311689 ┆ -0.368671 ┆ 0.032888  ┆ -0.406301 │\n",
       "│ kidney     ┆ b          ┆        ┆           ┆   ┆           ┆           ┆           ┆           │\n",
       "│ injury     ┆            ┆        ┆           ┆   ┆           ┆           ┆           ┆           │\n",
       "└────────────┴────────────┴────────┴───────────┴───┴───────────┴───────────┴───────────┴───────────┘"
      ]
     },
     "execution_count": 20,
     "metadata": {},
     "output_type": "execute_result"
    }
   ],
   "source": [
    "data = (pl.read_csv('../results/results/embeddings/rag_ember-v1_gpt4_embeddings.csv', # has_header=False,\n",
    "                    new_columns=['condition_name', 'drug_name', 'affect'])\n",
    "        .filter(pl.col('affect') != 0)\n",
    "        .with_columns(\n",
    "            pl.when(pl.col('affect') == 1).then(1).otherwise(0).alias(\"affect\")\n",
    "            )\n",
    "        )\n",
    "print(data.shape)\n",
    "data.head()"
   ]
  },
  {
   "cell_type": "code",
   "execution_count": 21,
   "metadata": {},
   "outputs": [
    {
     "data": {
      "text/html": [
       "<div><style>\n",
       ".dataframe > thead > tr,\n",
       ".dataframe > tbody > tr {\n",
       "  text-align: right;\n",
       "  white-space: pre-wrap;\n",
       "}\n",
       "</style>\n",
       "<small>shape: (4, 2)</small><table border=\"1\" class=\"dataframe\"><thead><tr><th>condition_name</th><th>count</th></tr><tr><td>str</td><td>u32</td></tr></thead><tbody><tr><td>&quot;acute kidney i…</td><td>425</td></tr><tr><td>&quot;acute liver in…</td><td>512</td></tr><tr><td>&quot;acute myocardi…</td><td>313</td></tr><tr><td>&quot;gi bleed&quot;</td><td>226</td></tr></tbody></table></div>"
      ],
      "text/plain": [
       "shape: (4, 2)\n",
       "┌─────────────────────────────┬───────┐\n",
       "│ condition_name              ┆ count │\n",
       "│ ---                         ┆ ---   │\n",
       "│ str                         ┆ u32   │\n",
       "╞═════════════════════════════╪═══════╡\n",
       "│ acute kidney injury         ┆ 425   │\n",
       "│ acute liver injury          ┆ 512   │\n",
       "│ acute myocardial infarction ┆ 313   │\n",
       "│ gi bleed                    ┆ 226   │\n",
       "└─────────────────────────────┴───────┘"
      ]
     },
     "execution_count": 21,
     "metadata": {},
     "output_type": "execute_result"
    }
   ],
   "source": [
    "data['condition_name'].value_counts().sort(by = 'condition_name')"
   ]
  },
  {
   "cell_type": "code",
   "execution_count": 22,
   "metadata": {},
   "outputs": [],
   "source": [
    "embed_col_names = [x for x in data.columns if x not in ['condition_name', 'drug_name', 'affect', 'outcome', 'status', '']]\n",
    "support_cols = [x for x in embed_col_names if 'duplicated' not in x]\n",
    "refute_cols = [x for x in embed_col_names if 'duplicated' in x]"
   ]
  },
  {
   "cell_type": "code",
   "execution_count": 23,
   "metadata": {},
   "outputs": [
    {
     "data": {
      "text/html": [
       "<div><style>\n",
       ".dataframe > thead > tr,\n",
       ".dataframe > tbody > tr {\n",
       "  text-align: right;\n",
       "  white-space: pre-wrap;\n",
       "}\n",
       "</style>\n",
       "<small>shape: (2, 2)</small><table border=\"1\" class=\"dataframe\"><thead><tr><th>affect</th><th>count</th></tr><tr><td>i32</td><td>u32</td></tr></thead><tbody><tr><td>1</td><td>139</td></tr><tr><td>0</td><td>1337</td></tr></tbody></table></div>"
      ],
      "text/plain": [
       "shape: (2, 2)\n",
       "┌────────┬───────┐\n",
       "│ affect ┆ count │\n",
       "│ ---    ┆ ---   │\n",
       "│ i32    ┆ u32   │\n",
       "╞════════╪═══════╡\n",
       "│ 1      ┆ 139   │\n",
       "│ 0      ┆ 1337  │\n",
       "└────────┴───────┘"
      ]
     },
     "execution_count": 23,
     "metadata": {},
     "output_type": "execute_result"
    }
   ],
   "source": [
    "data['affect'].value_counts()"
   ]
  },
  {
   "cell_type": "code",
   "execution_count": 24,
   "metadata": {},
   "outputs": [],
   "source": [
    "condition = 'acute kidney injury'"
   ]
  },
  {
   "cell_type": "code",
   "execution_count": 26,
   "metadata": {},
   "outputs": [],
   "source": [
    "def make_classifier(model):\n",
    "    if model == 'logistic':\n",
    "        clf = LogisticRegression(random_state=0)\n",
    "    if model == 'rf':\n",
    "        clf = RandomForestClassifier(random_state=0)\n",
    "    if model == 'knn':\n",
    "        clf = KNeighborsClassifier(n_neighbors=5, random_state=0)\n",
    "    return clf"
   ]
  },
  {
   "cell_type": "markdown",
   "metadata": {},
   "source": [
    "## Cross Validation"
   ]
  },
  {
   "cell_type": "code",
   "execution_count": null,
   "metadata": {},
   "outputs": [],
   "source": [
    "def get_cross_vals(X,y, ):\n"
   ]
  },
  {
   "cell_type": "code",
   "execution_count": 25,
   "metadata": {},
   "outputs": [
    {
     "ename": "NameError",
     "evalue": "name 'clf' is not defined",
     "output_type": "error",
     "traceback": [
      "\u001b[0;31m---------------------------------------------------------------------------\u001b[0m",
      "\u001b[0;31mNameError\u001b[0m                                 Traceback (most recent call last)",
      "Cell \u001b[0;32mIn[25], line 1\u001b[0m\n\u001b[0;32m----> 1\u001b[0m \u001b[38;5;28mprint\u001b[39m(cross_val_score(clf, X_actual, y_actual, cv\u001b[38;5;241m=\u001b[39m\u001b[38;5;241m5\u001b[39m, scoring \u001b[38;5;241m=\u001b[39m \u001b[38;5;124m'\u001b[39m\u001b[38;5;124mroc_auc\u001b[39m\u001b[38;5;124m'\u001b[39m))\n\u001b[1;32m      2\u001b[0m \u001b[38;5;28mprint\u001b[39m(cross_val_score(clf, X_actual, y_actual, cv\u001b[38;5;241m=\u001b[39m\u001b[38;5;241m5\u001b[39m, scoring \u001b[38;5;241m=\u001b[39m \u001b[38;5;124m'\u001b[39m\u001b[38;5;124maverage_precision\u001b[39m\u001b[38;5;124m'\u001b[39m))\n",
      "\u001b[0;31mNameError\u001b[0m: name 'clf' is not defined"
     ]
    }
   ],
   "source": [
    "print(cross_val_score(clf, X_actual, y_actual, cv=5, scoring = 'roc_auc'))\n",
    "print(cross_val_score(clf, X_actual, y_actual, cv=5, scoring = 'average_precision'))"
   ]
  },
  {
   "cell_type": "markdown",
   "metadata": {},
   "source": [
    "## Undersampling"
   ]
  },
  {
   "cell_type": "code",
   "execution_count": 85,
   "metadata": {},
   "outputs": [],
   "source": [
    "random.seed(100)\n",
    "y_actual = data['affect'].to_numpy()\n",
    "X_actual = data[embed_col_names].to_numpy()\n",
    "undersample = NearMiss(version=1, n_neighbors=5)\n",
    "X,y = undersample.fit_resample(X_actual, y_actual)"
   ]
  },
  {
   "cell_type": "code",
   "execution_count": 86,
   "metadata": {},
   "outputs": [],
   "source": [
    "# train on other data - train test split\n",
    "X_train, X_test, y_train, y_test = train_test_split(X, y, test_size=0.25, random_state=100, stratify=y)"
   ]
  },
  {
   "cell_type": "code",
   "execution_count": 87,
   "metadata": {},
   "outputs": [],
   "source": [
    "clf = LogisticRegression(random_state=0)\n",
    "clf.fit(X_train, y_train)\n",
    "predictions = clf.predict(X_test)\n",
    "predict_probs = clf.predict_proba(X_test)"
   ]
  },
  {
   "cell_type": "code",
   "execution_count": null,
   "metadata": {},
   "outputs": [],
   "source": []
  },
  {
   "cell_type": "code",
   "execution_count": 89,
   "metadata": {},
   "outputs": [
    {
     "name": "stdout",
     "output_type": "stream",
     "text": [
      "Best threshold:  0.8467536368462844\n",
      "Best F1-Score:  0.9117647058823528\n"
     ]
    }
   ],
   "source": [
    "precision, recall, thresholds = precision_recall_curve(y_test, predict_probs[:,1])\n",
    "f1_scores = 2*recall*precision/(recall+precision)\n",
    "print('Best threshold: ', thresholds[np.argmax(f1_scores)])\n",
    "print('Best F1-Score: ', np.max(f1_scores))"
   ]
  },
  {
   "cell_type": "code",
   "execution_count": 90,
   "metadata": {},
   "outputs": [
    {
     "name": "stdout",
     "output_type": "stream",
     "text": [
      "[[31  4]\n",
      " [ 3 31]]\n",
      "              precision    recall  f1-score   support\n",
      "\n",
      "           0       0.91      0.89      0.90        35\n",
      "           1       0.89      0.91      0.90        34\n",
      "\n",
      "    accuracy                           0.90        69\n",
      "   macro avg       0.90      0.90      0.90        69\n",
      "weighted avg       0.90      0.90      0.90        69\n",
      "\n"
     ]
    }
   ],
   "source": [
    "print(confusion_matrix(y_test, predictions))\n",
    "print(classification_report(y_test, predictions))"
   ]
  },
  {
   "cell_type": "code",
   "execution_count": 97,
   "metadata": {},
   "outputs": [
    {
     "name": "stdout",
     "output_type": "stream",
     "text": [
      "[0.88736871 0.82324489 0.76457999 0.79454254 0.88242376]\n",
      "[0.53185648 0.3257435  0.30931476 0.42108849 0.56033103]\n"
     ]
    }
   ],
   "source": [
    "print(cross_val_score(clf, X_actual, y_actual, cv=5, scoring = 'roc_auc'))\n",
    "print(cross_val_score(clf, X_actual, y_actual, cv=5, scoring = 'average_precision'))"
   ]
  },
  {
   "cell_type": "code",
   "execution_count": 63,
   "metadata": {},
   "outputs": [
    {
     "name": "stdout",
     "output_type": "stream",
     "text": [
      "[[537 800]\n",
      " [  3 135]]\n",
      "0.2516309412861137\n"
     ]
    }
   ],
   "source": [
    "predictions = clf.predict(X_actual)\n",
    "print(confusion_matrix(y_actual, predictions))\n",
    "print(f1_score(y_actual, predictions))"
   ]
  },
  {
   "cell_type": "code",
   "execution_count": 91,
   "metadata": {},
   "outputs": [],
   "source": [
    "\n",
    "X_train, X_test, y_train, y_test = train_test_split(X_actual, y_actual, test_size=0.3, random_state=100, stratify=y_actual)"
   ]
  },
  {
   "cell_type": "code",
   "execution_count": 92,
   "metadata": {},
   "outputs": [
    {
     "name": "stdout",
     "output_type": "stream",
     "text": [
      "[[385  17]\n",
      " [ 24  17]]\n",
      "0.4533333333333333\n",
      "0.90744920993228\n"
     ]
    }
   ],
   "source": [
    "clf = LogisticRegression(random_state=0,    max_iter=1000) #, class_weight='balanced')\n",
    "clf.fit(X_train, y_train)\n",
    "predictions = clf.predict(X_test)\n",
    "predict_proba = clf.predict_proba(X_test)\n",
    "print(confusion_matrix(y_test, predictions))\n",
    "print(f1_score(y_test, predictions))\n",
    "print(accuracy_score(y_test, predictions))"
   ]
  },
  {
   "cell_type": "code",
   "execution_count": 72,
   "metadata": {},
   "outputs": [
    {
     "name": "stdout",
     "output_type": "stream",
     "text": [
      "Best threshold:  0.4159840383391849\n",
      "Best F1-Score:  0.5227272727272727\n"
     ]
    }
   ],
   "source": [
    "precision, recall, thresholds = precision_recall_curve(y_test, predict_proba[:,1])\n",
    "f1_scores = 2*recall*precision/(recall+precision)\n",
    "print('Best threshold: ', thresholds[np.argmax(f1_scores)])\n",
    "print('Best F1-Score: ', np.max(f1_scores))"
   ]
  },
  {
   "cell_type": "code",
   "execution_count": null,
   "metadata": {},
   "outputs": [],
   "source": []
  }
 ],
 "metadata": {
  "kernelspec": {
   "display_name": "llm_cpus",
   "language": "python",
   "name": "python3"
  },
  "language_info": {
   "codemirror_mode": {
    "name": "ipython",
    "version": 3
   },
   "file_extension": ".py",
   "mimetype": "text/x-python",
   "name": "python",
   "nbconvert_exporter": "python",
   "pygments_lexer": "ipython3",
   "version": "3.11.7"
  }
 },
 "nbformat": 4,
 "nbformat_minor": 2
}
