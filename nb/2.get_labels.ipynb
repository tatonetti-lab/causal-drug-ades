{
 "cells": [
  {
   "cell_type": "code",
   "execution_count": 260,
   "metadata": {},
   "outputs": [],
   "source": [
    "import polars as pl\n",
    "from glob import glob\n",
    "import sys\n",
    "import json"
   ]
  },
  {
   "cell_type": "code",
   "execution_count": 267,
   "metadata": {},
   "outputs": [
    {
     "data": {
      "text/html": [
       "<div><style>\n",
       ".dataframe > thead > tr,\n",
       ".dataframe > tbody > tr {\n",
       "  text-align: right;\n",
       "  white-space: pre-wrap;\n",
       "}\n",
       "</style>\n",
       "<small>shape: (5, 5)</small><table border=\"1\" class=\"dataframe\"><thead><tr><th>cohort_id</th><th>condition_name</th><th>pt_meddra_id</th><th>pt_meddra_term</th><th>positive_controls</th></tr><tr><td>i64</td><td>str</td><td>i64</td><td>str</td><td>i64</td></tr></thead><tbody><tr><td>500000401</td><td>&quot;acute kidney i…</td><td>10038435</td><td>&quot;renal failure&quot;</td><td>20</td></tr><tr><td>500000401</td><td>&quot;acute kidney i…</td><td>10062237</td><td>&quot;renal impairme…</td><td>8</td></tr><tr><td>500000401</td><td>&quot;acute kidney i…</td><td>10069339</td><td>&quot;acute kidney i…</td><td>6</td></tr><tr><td>500000301</td><td>&quot;acute liver in…</td><td>10000804</td><td>&quot;acute hepatic …</td><td>5</td></tr><tr><td>500000301</td><td>&quot;acute liver in…</td><td>10019663</td><td>&quot;hepatic failur…</td><td>45</td></tr></tbody></table></div>"
      ],
      "text/plain": [
       "shape: (5, 5)\n",
       "┌───────────┬─────────────────────┬──────────────┬───────────────────────┬───────────────────┐\n",
       "│ cohort_id ┆ condition_name      ┆ pt_meddra_id ┆ pt_meddra_term        ┆ positive_controls │\n",
       "│ ---       ┆ ---                 ┆ ---          ┆ ---                   ┆ ---               │\n",
       "│ i64       ┆ str                 ┆ i64          ┆ str                   ┆ i64               │\n",
       "╞═══════════╪═════════════════════╪══════════════╪═══════════════════════╪═══════════════════╡\n",
       "│ 500000401 ┆ acute kidney injury ┆ 10038435     ┆ renal failure         ┆ 20                │\n",
       "│ 500000401 ┆ acute kidney injury ┆ 10062237     ┆ renal impairment      ┆ 8                 │\n",
       "│ 500000401 ┆ acute kidney injury ┆ 10069339     ┆ acute kidney injury   ┆ 6                 │\n",
       "│ 500000301 ┆ acute liver injury  ┆ 10000804     ┆ acute hepatic failure ┆ 5                 │\n",
       "│ 500000301 ┆ acute liver injury  ┆ 10019663     ┆ hepatic failure       ┆ 45                │\n",
       "└───────────┴─────────────────────┴──────────────┴───────────────────────┴───────────────────┘"
      ]
     },
     "execution_count": 267,
     "metadata": {},
     "output_type": "execute_result"
    }
   ],
   "source": [
    "# cohort_id\tcondition_name\tmeddra_pt_id\tmeddra_pt_term\tPositive Controls (N)\n",
    "meddra_mappings = (pl.read_csv('../data/onsides_mapping.csv')\n",
    "                   .select(\n",
    "                       pl.col('cohort_id'),\n",
    "                       pl.col('condition_name').str.to_lowercase(),\n",
    "                       pl.col('meddra_pt_id').alias('pt_meddra_id'),\n",
    "                       pl.col('meddra_pt_term').str.to_lowercase().alias('pt_meddra_term'),\n",
    "                       pl.col('Positive Controls (N)').alias('positive_controls')               \n",
    "                       )\n",
    "                   )\n",
    "meddra_mappings.head()"
   ]
  },
  {
   "cell_type": "markdown",
   "metadata": {},
   "source": [
    "## Get Labels with ADRs from Reference Set\n",
    "\n",
    "Reference set contains: AKI, ALI, AMI, and GIB"
   ]
  },
  {
   "cell_type": "code",
   "execution_count": 321,
   "metadata": {},
   "outputs": [
    {
     "data": {
      "text/html": [
       "<div><style>\n",
       ".dataframe > thead > tr,\n",
       ".dataframe > tbody > tr {\n",
       "  text-align: right;\n",
       "  white-space: pre-wrap;\n",
       "}\n",
       "</style>\n",
       "<small>shape: (5, 4)</small><table border=\"1\" class=\"dataframe\"><thead><tr><th>pt_meddra_id</th><th>pt_meddra_term</th><th>ingredients_rxcuis</th><th>ingredients_names</th></tr><tr><td>i64</td><td>str</td><td>i64</td><td>str</td></tr></thead><tbody><tr><td>10000059</td><td>&quot;abdominal disc…</td><td>6916</td><td>&quot;metolazone&quot;</td></tr><tr><td>10000060</td><td>&quot;abdominal dist…</td><td>6916</td><td>&quot;metolazone&quot;</td></tr><tr><td>10000081</td><td>&quot;abdominal pain…</td><td>6916</td><td>&quot;metolazone&quot;</td></tr><tr><td>10001507</td><td>&quot;agranulocytosi…</td><td>6916</td><td>&quot;metolazone&quot;</td></tr><tr><td>10001682</td><td>&quot;alkalosis hypo…</td><td>6916</td><td>&quot;metolazone&quot;</td></tr></tbody></table></div>"
      ],
      "text/plain": [
       "shape: (5, 4)\n",
       "┌──────────────┬──────────────────────────┬────────────────────┬───────────────────┐\n",
       "│ pt_meddra_id ┆ pt_meddra_term           ┆ ingredients_rxcuis ┆ ingredients_names │\n",
       "│ ---          ┆ ---                      ┆ ---                ┆ ---               │\n",
       "│ i64          ┆ str                      ┆ i64                ┆ str               │\n",
       "╞══════════════╪══════════════════════════╪════════════════════╪═══════════════════╡\n",
       "│ 10000059     ┆ abdominal discomfort     ┆ 6916               ┆ metolazone        │\n",
       "│ 10000060     ┆ abdominal distension     ┆ 6916               ┆ metolazone        │\n",
       "│ 10000081     ┆ abdominal pain           ┆ 6916               ┆ metolazone        │\n",
       "│ 10001507     ┆ agranulocytosis          ┆ 6916               ┆ metolazone        │\n",
       "│ 10001682     ┆ alkalosis hypochloraemic ┆ 6916               ┆ metolazone        │\n",
       "└──────────────┴──────────────────────────┴────────────────────┴───────────────────┘"
      ]
     },
     "execution_count": 321,
     "metadata": {},
     "output_type": "execute_result"
    }
   ],
   "source": [
    "adr_section = (\n",
    "    pl.read_csv('/Users/undinagisladottir/Documents/Columbia/Tatonetti_Lab/20231113_onsides/adverse_reactions.csv',\n",
    "                          dtypes={\n",
    "                            'pt_meddra_id': pl.Int64,\n",
    "                            'pt_meddra_term': pl.Utf8,\n",
    "                            'num_ingredients':  pl.Int64,\n",
    "                            'ingredients_rxcuis': pl.Utf8,\n",
    "                            'ingredients_names': pl.Utf8\n",
    "                          })\n",
    "                          .filter(pl.col('num_ingredients') == 1)\n",
    "                          .select(\n",
    "                              pl.col('pt_meddra_id'),\n",
    "                              pl.col('pt_meddra_term').str.to_lowercase(),\n",
    "                              pl.col('ingredients_rxcuis').cast(pl.Int64),\n",
    "                              pl.col('ingredients_names').str.to_lowercase()\n",
    "                              )\n",
    ")\n",
    "adr_section.head()\n"
   ]
  },
  {
   "cell_type": "code",
   "execution_count": 348,
   "metadata": {},
   "outputs": [
    {
     "data": {
      "text/html": [
       "<div><style>\n",
       ".dataframe > thead > tr,\n",
       ".dataframe > tbody > tr {\n",
       "  text-align: right;\n",
       "  white-space: pre-wrap;\n",
       "}\n",
       "</style>\n",
       "<small>shape: (3, 7)</small><table border=\"1\" class=\"dataframe\"><thead><tr><th>pt_meddra_id</th><th>pt_meddra_term</th><th>ingredients_rxcuis</th><th>ingredients_names</th><th>cohort_id</th><th>condition_name</th><th>positive_controls</th></tr><tr><td>i64</td><td>str</td><td>i64</td><td>str</td><td>i64</td><td>str</td><td>i64</td></tr></thead><tbody><tr><td>10028596</td><td>&quot;myocardial inf…</td><td>214354</td><td>&quot;candesartan&quot;</td><td>500000801</td><td>&quot;acute myocardi…</td><td>29</td></tr><tr><td>10038435</td><td>&quot;renal failure&quot;</td><td>214354</td><td>&quot;candesartan&quot;</td><td>500000401</td><td>&quot;acute kidney i…</td><td>20</td></tr><tr><td>10062237</td><td>&quot;renal impairme…</td><td>214354</td><td>&quot;candesartan&quot;</td><td>500000401</td><td>&quot;acute kidney i…</td><td>8</td></tr></tbody></table></div>"
      ],
      "text/plain": [
       "shape: (3, 7)\n",
       "┌──────────────┬──────────────┬──────────────┬─────────────┬───────────┬─────────────┬─────────────┐\n",
       "│ pt_meddra_id ┆ pt_meddra_te ┆ ingredients_ ┆ ingredients ┆ cohort_id ┆ condition_n ┆ positive_co │\n",
       "│ ---          ┆ rm           ┆ rxcuis       ┆ _names      ┆ ---       ┆ ame         ┆ ntrols      │\n",
       "│ i64          ┆ ---          ┆ ---          ┆ ---         ┆ i64       ┆ ---         ┆ ---         │\n",
       "│              ┆ str          ┆ i64          ┆ str         ┆           ┆ str         ┆ i64         │\n",
       "╞══════════════╪══════════════╪══════════════╪═════════════╪═══════════╪═════════════╪═════════════╡\n",
       "│ 10028596     ┆ myocardial   ┆ 214354       ┆ candesartan ┆ 500000801 ┆ acute       ┆ 29          │\n",
       "│              ┆ infarction   ┆              ┆             ┆           ┆ myocardial  ┆             │\n",
       "│              ┆              ┆              ┆             ┆           ┆ infarction  ┆             │\n",
       "│ 10038435     ┆ renal        ┆ 214354       ┆ candesartan ┆ 500000401 ┆ acute       ┆ 20          │\n",
       "│              ┆ failure      ┆              ┆             ┆           ┆ kidney      ┆             │\n",
       "│              ┆              ┆              ┆             ┆           ┆ injury      ┆             │\n",
       "│ 10062237     ┆ renal        ┆ 214354       ┆ candesartan ┆ 500000401 ┆ acute       ┆ 8           │\n",
       "│              ┆ impairment   ┆              ┆             ┆           ┆ kidney      ┆             │\n",
       "│              ┆              ┆              ┆             ┆           ┆ injury      ┆             │\n",
       "└──────────────┴──────────────┴──────────────┴─────────────┴───────────┴─────────────┴─────────────┘"
      ]
     },
     "execution_count": 348,
     "metadata": {},
     "output_type": "execute_result"
    }
   ],
   "source": [
    "merged_data = (\n",
    "    adr_section\n",
    "    .join(meddra_mappings, on=[\"pt_meddra_id\", \"pt_meddra_term\"], how='inner')\n",
    "    )\n",
    "merged_data.head()\n",
    "merged_data.filter(pl.col('ingredients_names') == 'candesartan')"
   ]
  },
  {
   "cell_type": "code",
   "execution_count": 269,
   "metadata": {},
   "outputs": [
    {
     "data": {
      "text/html": [
       "<div><style>\n",
       ".dataframe > thead > tr,\n",
       ".dataframe > tbody > tr {\n",
       "  text-align: right;\n",
       "  white-space: pre-wrap;\n",
       "}\n",
       "</style>\n",
       "<small>shape: (5, 6)</small><table border=\"1\" class=\"dataframe\"><thead><tr><th>product_rx_cui</th><th>product_name</th><th>product_omop_concept_id</th><th>ingredient_rx_cui</th><th>ingredient_name</th><th>ingredient_omop_concept_id</th></tr><tr><td>i64</td><td>str</td><td>i64</td><td>i64</td><td>str</td><td>i64</td></tr></thead><tbody><tr><td>1000000</td><td>&quot;amlodipine 5 M…</td><td>40224176</td><td>17767</td><td>&quot;amlodipine&quot;</td><td>1332418</td></tr><tr><td>1000000</td><td>&quot;amlodipine 5 M…</td><td>40224176</td><td>5487</td><td>&quot;hydrochlorothi…</td><td>974166</td></tr><tr><td>1000000</td><td>&quot;amlodipine 5 M…</td><td>40224176</td><td>321064</td><td>&quot;olmesartan&quot;</td><td>40226742</td></tr><tr><td>1000001</td><td>&quot;amlodipine 5 M…</td><td>40224178</td><td>17767</td><td>&quot;amlodipine&quot;</td><td>1332418</td></tr><tr><td>1000001</td><td>&quot;amlodipine 5 M…</td><td>40224178</td><td>5487</td><td>&quot;hydrochlorothi…</td><td>974166</td></tr></tbody></table></div>"
      ],
      "text/plain": [
       "shape: (5, 6)\n",
       "┌────────────────┬────────────────┬────────────────┬───────────────┬───────────────┬───────────────┐\n",
       "│ product_rx_cui ┆ product_name   ┆ product_omop_c ┆ ingredient_rx ┆ ingredient_na ┆ ingredient_om │\n",
       "│ ---            ┆ ---            ┆ oncept_id      ┆ _cui          ┆ me            ┆ op_concept_id │\n",
       "│ i64            ┆ str            ┆ ---            ┆ ---           ┆ ---           ┆ ---           │\n",
       "│                ┆                ┆ i64            ┆ i64           ┆ str           ┆ i64           │\n",
       "╞════════════════╪════════════════╪════════════════╪═══════════════╪═══════════════╪═══════════════╡\n",
       "│ 1000000        ┆ amlodipine 5   ┆ 40224176       ┆ 17767         ┆ amlodipine    ┆ 1332418       │\n",
       "│                ┆ MG / hydrochlo ┆                ┆               ┆               ┆               │\n",
       "│                ┆ rothi…         ┆                ┆               ┆               ┆               │\n",
       "│ 1000000        ┆ amlodipine 5   ┆ 40224176       ┆ 5487          ┆ hydrochloroth ┆ 974166        │\n",
       "│                ┆ MG / hydrochlo ┆                ┆               ┆ iazide        ┆               │\n",
       "│                ┆ rothi…         ┆                ┆               ┆               ┆               │\n",
       "│ 1000000        ┆ amlodipine 5   ┆ 40224176       ┆ 321064        ┆ olmesartan    ┆ 40226742      │\n",
       "│                ┆ MG / hydrochlo ┆                ┆               ┆               ┆               │\n",
       "│                ┆ rothi…         ┆                ┆               ┆               ┆               │\n",
       "│ 1000001        ┆ amlodipine 5   ┆ 40224178       ┆ 17767         ┆ amlodipine    ┆ 1332418       │\n",
       "│                ┆ MG / hydrochlo ┆                ┆               ┆               ┆               │\n",
       "│                ┆ rothi…         ┆                ┆               ┆               ┆               │\n",
       "│ 1000001        ┆ amlodipine 5   ┆ 40224178       ┆ 5487          ┆ hydrochloroth ┆ 974166        │\n",
       "│                ┆ MG / hydrochlo ┆                ┆               ┆ iazide        ┆               │\n",
       "│                ┆ rothi…         ┆                ┆               ┆               ┆               │\n",
       "└────────────────┴────────────────┴────────────────┴───────────────┴───────────────┴───────────────┘"
      ]
     },
     "execution_count": 269,
     "metadata": {},
     "output_type": "execute_result"
    }
   ],
   "source": [
    "rxnorm_2024_mappings = pl.read_csv('../data/20240312/rxnorm_mappings.csv').select(\n",
    "    pl.col('SETID').alias('set_id'),\n",
    "    pl.col('SPL_VERSION').alias('spl_version'),\n",
    "    pl.col('RXCUI'), #.alias('ingredients_rxcuis'),\n",
    "    pl.col('RXSTRING'),   \n",
    ")\n",
    "rxnorm_ingredient = pl.read_csv('../data/20240312/rxnorm_product_to_ingredient.csv')\n",
    "rxnorm_2024_mappings.head()\n",
    "rxnorm_ingredient.head()"
   ]
  },
  {
   "cell_type": "code",
   "execution_count": 349,
   "metadata": {},
   "outputs": [
    {
     "data": {
      "text/html": [
       "<div><style>\n",
       ".dataframe > thead > tr,\n",
       ".dataframe > tbody > tr {\n",
       "  text-align: right;\n",
       "  white-space: pre-wrap;\n",
       "}\n",
       "</style>\n",
       "<small>shape: (5, 9)</small><table border=\"1\" class=\"dataframe\"><thead><tr><th>set_id</th><th>spl_version</th><th>RXCUI</th><th>RXSTRING</th><th>product_name</th><th>product_omop_concept_id</th><th>ingredient_rx_cui</th><th>ingredient_name</th><th>ingredient_omop_concept_id</th></tr><tr><td>str</td><td>i64</td><td>i64</td><td>str</td><td>str</td><td>i64</td><td>i64</td><td>str</td><td>i64</td></tr></thead><tbody><tr><td>&quot;000155a8-709c-…</td><td>27</td><td>198014</td><td>&quot;naproxen 500 M…</td><td>&quot;naproxen 500 M…</td><td>19019273</td><td>7258</td><td>&quot;naproxen&quot;</td><td>1115008</td></tr><tr><td>&quot;000155a8-709c-…</td><td>27</td><td>198014</td><td>&quot;naproxen 500 M…</td><td>&quot;naproxen 500 M…</td><td>19019273</td><td>7258</td><td>&quot;naproxen&quot;</td><td>1115008</td></tr><tr><td>&quot;0001d1cf-f727-…</td><td>2</td><td>1046593</td><td>&quot;benzalkonium c…</td><td>&quot;benzalkonium c…</td><td>40229527</td><td>1378</td><td>&quot;benzalkonium&quot;</td><td>916460</td></tr><tr><td>&quot;0001d1cf-f727-…</td><td>2</td><td>1046593</td><td>&quot;benzalkonium c…</td><td>&quot;benzalkonium c…</td><td>40229527</td><td>1378</td><td>&quot;benzalkonium&quot;</td><td>916460</td></tr><tr><td>&quot;0001d1cf-f727-…</td><td>2</td><td>1046593</td><td>&quot;benzalkonium c…</td><td>&quot;benzalkonium c…</td><td>40229527</td><td>1378</td><td>&quot;benzalkonium&quot;</td><td>916460</td></tr></tbody></table></div>"
      ],
      "text/plain": [
       "shape: (5, 9)\n",
       "┌────────────┬───────────┬─────────┬───────────┬───┬───────────┬───────────┬───────────┬───────────┐\n",
       "│ set_id     ┆ spl_versi ┆ RXCUI   ┆ RXSTRING  ┆ … ┆ product_o ┆ ingredien ┆ ingredien ┆ ingredien │\n",
       "│ ---        ┆ on        ┆ ---     ┆ ---       ┆   ┆ mop_conce ┆ t_rx_cui  ┆ t_name    ┆ t_omop_co │\n",
       "│ str        ┆ ---       ┆ i64     ┆ str       ┆   ┆ pt_id     ┆ ---       ┆ ---       ┆ ncept_id  │\n",
       "│            ┆ i64       ┆         ┆           ┆   ┆ ---       ┆ i64       ┆ str       ┆ ---       │\n",
       "│            ┆           ┆         ┆           ┆   ┆ i64       ┆           ┆           ┆ i64       │\n",
       "╞════════════╪═══════════╪═════════╪═══════════╪═══╪═══════════╪═══════════╪═══════════╪═══════════╡\n",
       "│ 000155a8-7 ┆ 27        ┆ 198014  ┆ naproxen  ┆ … ┆ 19019273  ┆ 7258      ┆ naproxen  ┆ 1115008   │\n",
       "│ 09c-44e5-a ┆           ┆         ┆ 500 MG    ┆   ┆           ┆           ┆           ┆           │\n",
       "│ 75f-cd890f ┆           ┆         ┆ Oral      ┆   ┆           ┆           ┆           ┆           │\n",
       "│ 3a…        ┆           ┆         ┆ Tablet    ┆   ┆           ┆           ┆           ┆           │\n",
       "│ 000155a8-7 ┆ 27        ┆ 198014  ┆ naproxen  ┆ … ┆ 19019273  ┆ 7258      ┆ naproxen  ┆ 1115008   │\n",
       "│ 09c-44e5-a ┆           ┆         ┆ 500 MG    ┆   ┆           ┆           ┆           ┆           │\n",
       "│ 75f-cd890f ┆           ┆         ┆ Oral      ┆   ┆           ┆           ┆           ┆           │\n",
       "│ 3a…        ┆           ┆         ┆ Tablet    ┆   ┆           ┆           ┆           ┆           │\n",
       "│ 0001d1cf-f ┆ 2         ┆ 1046593 ┆ benzalkon ┆ … ┆ 40229527  ┆ 1378      ┆ benzalkon ┆ 916460    │\n",
       "│ 727-4875-a ┆           ┆         ┆ ium       ┆   ┆           ┆           ┆ ium       ┆           │\n",
       "│ 44f-5a51f7 ┆           ┆         ┆ chloride  ┆   ┆           ┆           ┆           ┆           │\n",
       "│ b6…        ┆           ┆         ┆ 0.13 %    ┆   ┆           ┆           ┆           ┆           │\n",
       "│            ┆           ┆         ┆ Med…      ┆   ┆           ┆           ┆           ┆           │\n",
       "│ 0001d1cf-f ┆ 2         ┆ 1046593 ┆ benzalkon ┆ … ┆ 40229527  ┆ 1378      ┆ benzalkon ┆ 916460    │\n",
       "│ 727-4875-a ┆           ┆         ┆ ium       ┆   ┆           ┆           ┆ ium       ┆           │\n",
       "│ 44f-5a51f7 ┆           ┆         ┆ chloride  ┆   ┆           ┆           ┆           ┆           │\n",
       "│ b6…        ┆           ┆         ┆ 0.13 %    ┆   ┆           ┆           ┆           ┆           │\n",
       "│            ┆           ┆         ┆ Med…      ┆   ┆           ┆           ┆           ┆           │\n",
       "│ 0001d1cf-f ┆ 2         ┆ 1046593 ┆ benzalkon ┆ … ┆ 40229527  ┆ 1378      ┆ benzalkon ┆ 916460    │\n",
       "│ 727-4875-a ┆           ┆         ┆ ium       ┆   ┆           ┆           ┆ ium       ┆           │\n",
       "│ 44f-5a51f7 ┆           ┆         ┆ chloride  ┆   ┆           ┆           ┆           ┆           │\n",
       "│ b6…        ┆           ┆         ┆ 1.3 MG/ML ┆   ┆           ┆           ┆           ┆           │\n",
       "│            ┆           ┆         ┆ …         ┆   ┆           ┆           ┆           ┆           │\n",
       "└────────────┴───────────┴─────────┴───────────┴───┴───────────┴───────────┴───────────┴───────────┘"
      ]
     },
     "execution_count": 349,
     "metadata": {},
     "output_type": "execute_result"
    }
   ],
   "source": [
    "product_2024 = (rxnorm_2024_mappings.join(rxnorm_ingredient,\n",
    "                           right_on=['product_rx_cui'],\n",
    "                           left_on = 'RXCUI', how='inner')\n",
    "                     .select(\n",
    "                         pl.col('set_id').alias('SETID'),\n",
    "                         pl.col('spl_version').alias('SPL_VERSION'),\n",
    "                         pl.col('ingredient_rx_cui'),\n",
    "                         pl.col('ingredient_name')\n",
    "                     )\n",
    ")\n",
    "product_2024.head()"
   ]
  },
  {
   "cell_type": "code",
   "execution_count": 329,
   "metadata": {},
   "outputs": [
    {
     "data": {
      "text/html": [
       "<div><style>\n",
       ".dataframe > thead > tr,\n",
       ".dataframe > tbody > tr {\n",
       "  text-align: right;\n",
       "  white-space: pre-wrap;\n",
       "}\n",
       "</style>\n",
       "<small>shape: (5, 9)</small><table border=\"1\" class=\"dataframe\"><thead><tr><th>pt_meddra_id</th><th>pt_meddra_term</th><th>ingredients_rxcuis</th><th>ingredients_names</th><th>cohort_id</th><th>condition_name</th><th>positive_controls</th><th>SETID</th><th>SPL_VERSION</th></tr><tr><td>i64</td><td>str</td><td>i64</td><td>str</td><td>i64</td><td>str</td><td>i64</td><td>str</td><td>i64</td></tr></thead><tbody><tr><td>10017955</td><td>&quot;gastrointestin…</td><td>7258</td><td>&quot;naproxen&quot;</td><td>500001001</td><td>&quot;gi bleed&quot;</td><td>21</td><td>&quot;000155a8-709c-…</td><td>27</td></tr><tr><td>10018830</td><td>&quot;haematemesis&quot;</td><td>7258</td><td>&quot;naproxen&quot;</td><td>500001001</td><td>&quot;gi bleed&quot;</td><td>11</td><td>&quot;000155a8-709c-…</td><td>27</td></tr><tr><td>10019663</td><td>&quot;hepatic failur…</td><td>7258</td><td>&quot;naproxen&quot;</td><td>500000301</td><td>&quot;acute liver in…</td><td>45</td><td>&quot;000155a8-709c-…</td><td>27</td></tr><tr><td>10024690</td><td>&quot;liver function…</td><td>7258</td><td>&quot;naproxen&quot;</td><td>500000301</td><td>&quot;acute liver in…</td><td>15</td><td>&quot;000155a8-709c-…</td><td>27</td></tr><tr><td>10028596</td><td>&quot;myocardial inf…</td><td>7258</td><td>&quot;naproxen&quot;</td><td>500000801</td><td>&quot;acute myocardi…</td><td>29</td><td>&quot;000155a8-709c-…</td><td>27</td></tr></tbody></table></div>"
      ],
      "text/plain": [
       "shape: (5, 9)\n",
       "┌───────────┬───────────┬───────────┬───────────┬───┬───────────┬───────────┬───────────┬──────────┐\n",
       "│ pt_meddra ┆ pt_meddra ┆ ingredien ┆ ingredien ┆ … ┆ condition ┆ positive_ ┆ SETID     ┆ SPL_VERS │\n",
       "│ _id       ┆ _term     ┆ ts_rxcuis ┆ ts_names  ┆   ┆ _name     ┆ controls  ┆ ---       ┆ ION      │\n",
       "│ ---       ┆ ---       ┆ ---       ┆ ---       ┆   ┆ ---       ┆ ---       ┆ str       ┆ ---      │\n",
       "│ i64       ┆ str       ┆ i64       ┆ str       ┆   ┆ str       ┆ i64       ┆           ┆ i64      │\n",
       "╞═══════════╪═══════════╪═══════════╪═══════════╪═══╪═══════════╪═══════════╪═══════════╪══════════╡\n",
       "│ 10017955  ┆ gastroint ┆ 7258      ┆ naproxen  ┆ … ┆ gi bleed  ┆ 21        ┆ 000155a8- ┆ 27       │\n",
       "│           ┆ estinal   ┆           ┆           ┆   ┆           ┆           ┆ 709c-44e5 ┆          │\n",
       "│           ┆ haemorrha ┆           ┆           ┆   ┆           ┆           ┆ -a75f-cd8 ┆          │\n",
       "│           ┆ ge        ┆           ┆           ┆   ┆           ┆           ┆ 90f3a…    ┆          │\n",
       "│ 10018830  ┆ haemateme ┆ 7258      ┆ naproxen  ┆ … ┆ gi bleed  ┆ 11        ┆ 000155a8- ┆ 27       │\n",
       "│           ┆ sis       ┆           ┆           ┆   ┆           ┆           ┆ 709c-44e5 ┆          │\n",
       "│           ┆           ┆           ┆           ┆   ┆           ┆           ┆ -a75f-cd8 ┆          │\n",
       "│           ┆           ┆           ┆           ┆   ┆           ┆           ┆ 90f3a…    ┆          │\n",
       "│ 10019663  ┆ hepatic   ┆ 7258      ┆ naproxen  ┆ … ┆ acute     ┆ 45        ┆ 000155a8- ┆ 27       │\n",
       "│           ┆ failure   ┆           ┆           ┆   ┆ liver     ┆           ┆ 709c-44e5 ┆          │\n",
       "│           ┆           ┆           ┆           ┆   ┆ injury    ┆           ┆ -a75f-cd8 ┆          │\n",
       "│           ┆           ┆           ┆           ┆   ┆           ┆           ┆ 90f3a…    ┆          │\n",
       "│ 10024690  ┆ liver     ┆ 7258      ┆ naproxen  ┆ … ┆ acute     ┆ 15        ┆ 000155a8- ┆ 27       │\n",
       "│           ┆ function  ┆           ┆           ┆   ┆ liver     ┆           ┆ 709c-44e5 ┆          │\n",
       "│           ┆ test      ┆           ┆           ┆   ┆ injury    ┆           ┆ -a75f-cd8 ┆          │\n",
       "│           ┆ abnormal  ┆           ┆           ┆   ┆           ┆           ┆ 90f3a…    ┆          │\n",
       "│ 10028596  ┆ myocardia ┆ 7258      ┆ naproxen  ┆ … ┆ acute myo ┆ 29        ┆ 000155a8- ┆ 27       │\n",
       "│           ┆ l infarct ┆           ┆           ┆   ┆ cardial   ┆           ┆ 709c-44e5 ┆          │\n",
       "│           ┆ ion       ┆           ┆           ┆   ┆ infarctio ┆           ┆ -a75f-cd8 ┆          │\n",
       "│           ┆           ┆           ┆           ┆   ┆ n         ┆           ┆ 90f3a…    ┆          │\n",
       "└───────────┴───────────┴───────────┴───────────┴───┴───────────┴───────────┴───────────┴──────────┘"
      ]
     },
     "execution_count": 329,
     "metadata": {},
     "output_type": "execute_result"
    }
   ],
   "source": [
    "product_2024_setids = (adr_section.join(meddra_mappings,\n",
    "                 on=[\"pt_meddra_id\", \"pt_meddra_term\"],\n",
    "                 how='inner')\n",
    "            .join(product_2024, # set_id\tspl_version\tingredient_rx_cui\tingredient_name\n",
    "                  right_on=['ingredient_rx_cui', 'ingredient_name'],\n",
    "                  left_on=['ingredients_rxcuis', 'ingredients_names']\n",
    "))\n",
    "# .join(rxnorm_2024_mappings,\n",
    "#       on=['set_id', 'spl_version'],\n",
    "#       how='inner').select(\n",
    "#     pl.col('set_id'),\n",
    "#     pl.col('spl_version'),\n",
    "#     pl.col('ingredients_names'),\n",
    "#     pl.col('ingredients_rxcuis'),\n",
    "#     pl.col('RXSTRING'),\n",
    "#     pl.col('RXCUI')\n",
    "# )).head()\n",
    "product_2024_setids.head()"
   ]
  },
  {
   "cell_type": "code",
   "execution_count": 352,
   "metadata": {},
   "outputs": [],
   "source": [
    "# map set_id and spl_version to file name\n",
    "label_dir = '../data/2024_latest_labels/'\n",
    "active_labels = glob(label_dir+'*/*.json')\n",
    "all_labels = []\n",
    "count = 0\n",
    "for label in active_labels:\n",
    "    # Opening JSON file\n",
    "    f = open(label)\n",
    "    data = json.load(f)\n",
    "    count += 1\n",
    "    all_labels.append([label, data['set_id'], data['spl_version'], data['title']])"
   ]
  },
  {
   "cell_type": "code",
   "execution_count": 353,
   "metadata": {},
   "outputs": [
    {
     "data": {
      "text/html": [
       "<div><style>\n",
       ".dataframe > thead > tr,\n",
       ".dataframe > tbody > tr {\n",
       "  text-align: right;\n",
       "  white-space: pre-wrap;\n",
       "}\n",
       "</style>\n",
       "<small>shape: (5, 4)</small><table border=\"1\" class=\"dataframe\"><thead><tr><th>file</th><th>set_id</th><th>spl_version</th><th>title</th></tr><tr><td>str</td><td>str</td><td>i64</td><td>str</td></tr></thead><tbody><tr><td>&quot;../data/2024_l…</td><td>&quot;df12ceb2-5b4b-…</td><td>19</td><td>&quot;These highligh…</td></tr><tr><td>&quot;../data/2024_l…</td><td>&quot;0ab861c2-d5ca-…</td><td>1</td><td>&quot;These highligh…</td></tr><tr><td>&quot;../data/2024_l…</td><td>&quot;a88ac1b4-e2c9-…</td><td>41</td><td>&quot;These highligh…</td></tr><tr><td>&quot;../data/2024_l…</td><td>&quot;f7b3f443-e83d-…</td><td>49</td><td>&quot;These highligh…</td></tr><tr><td>&quot;../data/2024_l…</td><td>&quot;a398400e-bd31-…</td><td>14</td><td>&quot;These highligh…</td></tr></tbody></table></div>"
      ],
      "text/plain": [
       "shape: (5, 4)\n",
       "┌────────────────────────────┬───────────────────────────┬─────────────┬───────────────────────────┐\n",
       "│ file                       ┆ set_id                    ┆ spl_version ┆ title                     │\n",
       "│ ---                        ┆ ---                       ┆ ---         ┆ ---                       │\n",
       "│ str                        ┆ str                       ┆ i64         ┆ str                       │\n",
       "╞════════════════════════════╪═══════════════════════════╪═════════════╪═══════════════════════════╡\n",
       "│ ../data/2024_latest_labels ┆ df12ceb2-5b4b-4ab5-a317-2 ┆ 19          ┆ These highlights do not   │\n",
       "│ /gold_…                    ┆ a36bf2a…                  ┆             ┆ include …                 │\n",
       "│ ../data/2024_latest_labels ┆ 0ab861c2-d5ca-4f92-854c-6 ┆ 1           ┆ These highlights do not   │\n",
       "│ /gold_…                    ┆ 477971a…                  ┆             ┆ include …                 │\n",
       "│ ../data/2024_latest_labels ┆ a88ac1b4-e2c9-45c0-b321-4 ┆ 41          ┆ These highlights do not   │\n",
       "│ /gold_…                    ┆ 7859021…                  ┆             ┆ include …                 │\n",
       "│ ../data/2024_latest_labels ┆ f7b3f443-e83d-4bf2-0e96-0 ┆ 49          ┆ These highlights do not   │\n",
       "│ /gold_…                    ┆ 23448fe…                  ┆             ┆ include …                 │\n",
       "│ ../data/2024_latest_labels ┆ a398400e-bd31-41a9-9696-4 ┆ 14          ┆ These highlights do not   │\n",
       "│ /gold_…                    ┆ f7c0656…                  ┆             ┆ include …                 │\n",
       "└────────────────────────────┴───────────────────────────┴─────────────┴───────────────────────────┘"
      ]
     },
     "execution_count": 353,
     "metadata": {},
     "output_type": "execute_result"
    }
   ],
   "source": [
    "label_df = pl.DataFrame(all_labels, schema=[(\"file\", pl.Utf8),\n",
    "                                            (\"set_id\", pl.Utf8),\n",
    "                                            (\"spl_version\", pl.Int64),\n",
    "                                            (\"title\", pl.Utf8)])\n",
    "label_df.head()"
   ]
  },
  {
   "cell_type": "code",
   "execution_count": 405,
   "metadata": {},
   "outputs": [
    {
     "data": {
      "text/html": [
       "<div><style>\n",
       ".dataframe > thead > tr,\n",
       ".dataframe > tbody > tr {\n",
       "  text-align: right;\n",
       "  white-space: pre-wrap;\n",
       "}\n",
       "</style>\n",
       "<small>shape: (8, 11)</small><table border=\"1\" class=\"dataframe\"><thead><tr><th>file</th><th>set_id</th><th>spl_version</th><th>title</th><th>RXCUI</th><th>RXSTRING</th><th>product_name</th><th>product_omop_concept_id</th><th>ingredient_rx_cui</th><th>ingredient_name</th><th>ingredient_omop_concept_id</th></tr><tr><td>str</td><td>str</td><td>i64</td><td>str</td><td>i64</td><td>str</td><td>str</td><td>i64</td><td>i64</td><td>str</td><td>i64</td></tr></thead><tbody><tr><td>&quot;../data/2024_l…</td><td>&quot;1c90aa68-cc12-…</td><td>11</td><td>&quot;These highligh…</td><td>153822</td><td>&quot;candesartan ci…</td><td>&quot;candesartan ci…</td><td>1351558</td><td>214354</td><td>&quot;candesartan&quot;</td><td>1351557</td></tr><tr><td>&quot;../data/2024_l…</td><td>&quot;1c90aa68-cc12-…</td><td>11</td><td>&quot;These highligh…</td><td>153822</td><td>&quot;candesartan ci…</td><td>&quot;candesartan ci…</td><td>1351558</td><td>214354</td><td>&quot;candesartan&quot;</td><td>1351557</td></tr><tr><td>&quot;../data/2024_l…</td><td>&quot;1c90aa68-cc12-…</td><td>11</td><td>&quot;These highligh…</td><td>153823</td><td>&quot;candesartan ci…</td><td>&quot;candesartan ci…</td><td>1351559</td><td>214354</td><td>&quot;candesartan&quot;</td><td>1351557</td></tr><tr><td>&quot;../data/2024_l…</td><td>&quot;1c90aa68-cc12-…</td><td>11</td><td>&quot;These highligh…</td><td>153823</td><td>&quot;candesartan ci…</td><td>&quot;candesartan ci…</td><td>1351559</td><td>214354</td><td>&quot;candesartan&quot;</td><td>1351557</td></tr><tr><td>&quot;../data/2024_l…</td><td>&quot;1c90aa68-cc12-…</td><td>11</td><td>&quot;These highligh…</td><td>577776</td><td>&quot;candesartan ci…</td><td>&quot;candesartan ci…</td><td>1351583</td><td>214354</td><td>&quot;candesartan&quot;</td><td>1351557</td></tr><tr><td>&quot;../data/2024_l…</td><td>&quot;1c90aa68-cc12-…</td><td>11</td><td>&quot;These highligh…</td><td>577776</td><td>&quot;candesartan ci…</td><td>&quot;candesartan ci…</td><td>1351583</td><td>214354</td><td>&quot;candesartan&quot;</td><td>1351557</td></tr><tr><td>&quot;../data/2024_l…</td><td>&quot;1c90aa68-cc12-…</td><td>11</td><td>&quot;These highligh…</td><td>639537</td><td>&quot;candesartan ci…</td><td>&quot;candesartan ci…</td><td>1351587</td><td>214354</td><td>&quot;candesartan&quot;</td><td>1351557</td></tr><tr><td>&quot;../data/2024_l…</td><td>&quot;1c90aa68-cc12-…</td><td>11</td><td>&quot;These highligh…</td><td>639537</td><td>&quot;candesartan ci…</td><td>&quot;candesartan ci…</td><td>1351587</td><td>214354</td><td>&quot;candesartan&quot;</td><td>1351557</td></tr></tbody></table></div>"
      ],
      "text/plain": [
       "shape: (8, 11)\n",
       "┌───────────┬───────────┬───────────┬───────────┬───┬───────────┬───────────┬───────────┬──────────┐\n",
       "│ file      ┆ set_id    ┆ spl_versi ┆ title     ┆ … ┆ product_o ┆ ingredien ┆ ingredien ┆ ingredie │\n",
       "│ ---       ┆ ---       ┆ on        ┆ ---       ┆   ┆ mop_conce ┆ t_rx_cui  ┆ t_name    ┆ nt_omop_ │\n",
       "│ str       ┆ str       ┆ ---       ┆ str       ┆   ┆ pt_id     ┆ ---       ┆ ---       ┆ concept_ │\n",
       "│           ┆           ┆ i64       ┆           ┆   ┆ ---       ┆ i64       ┆ str       ┆ id       │\n",
       "│           ┆           ┆           ┆           ┆   ┆ i64       ┆           ┆           ┆ ---      │\n",
       "│           ┆           ┆           ┆           ┆   ┆           ┆           ┆           ┆ i64      │\n",
       "╞═══════════╪═══════════╪═══════════╪═══════════╪═══╪═══════════╪═══════════╪═══════════╪══════════╡\n",
       "│ ../data/2 ┆ 1c90aa68- ┆ 11        ┆ These hig ┆ … ┆ 1351558   ┆ 214354    ┆ candesart ┆ 1351557  │\n",
       "│ 024_lates ┆ cc12-41ef ┆           ┆ hlights   ┆   ┆           ┆           ┆ an        ┆          │\n",
       "│ t_labels/ ┆ -aebc-261 ┆           ┆ do not    ┆   ┆           ┆           ┆           ┆          │\n",
       "│ lates…    ┆ 6ae45…    ┆           ┆ include … ┆   ┆           ┆           ┆           ┆          │\n",
       "│ ../data/2 ┆ 1c90aa68- ┆ 11        ┆ These hig ┆ … ┆ 1351558   ┆ 214354    ┆ candesart ┆ 1351557  │\n",
       "│ 024_lates ┆ cc12-41ef ┆           ┆ hlights   ┆   ┆           ┆           ┆ an        ┆          │\n",
       "│ t_labels/ ┆ -aebc-261 ┆           ┆ do not    ┆   ┆           ┆           ┆           ┆          │\n",
       "│ lates…    ┆ 6ae45…    ┆           ┆ include … ┆   ┆           ┆           ┆           ┆          │\n",
       "│ ../data/2 ┆ 1c90aa68- ┆ 11        ┆ These hig ┆ … ┆ 1351559   ┆ 214354    ┆ candesart ┆ 1351557  │\n",
       "│ 024_lates ┆ cc12-41ef ┆           ┆ hlights   ┆   ┆           ┆           ┆ an        ┆          │\n",
       "│ t_labels/ ┆ -aebc-261 ┆           ┆ do not    ┆   ┆           ┆           ┆           ┆          │\n",
       "│ lates…    ┆ 6ae45…    ┆           ┆ include … ┆   ┆           ┆           ┆           ┆          │\n",
       "│ ../data/2 ┆ 1c90aa68- ┆ 11        ┆ These hig ┆ … ┆ 1351559   ┆ 214354    ┆ candesart ┆ 1351557  │\n",
       "│ 024_lates ┆ cc12-41ef ┆           ┆ hlights   ┆   ┆           ┆           ┆ an        ┆          │\n",
       "│ t_labels/ ┆ -aebc-261 ┆           ┆ do not    ┆   ┆           ┆           ┆           ┆          │\n",
       "│ lates…    ┆ 6ae45…    ┆           ┆ include … ┆   ┆           ┆           ┆           ┆          │\n",
       "│ ../data/2 ┆ 1c90aa68- ┆ 11        ┆ These hig ┆ … ┆ 1351583   ┆ 214354    ┆ candesart ┆ 1351557  │\n",
       "│ 024_lates ┆ cc12-41ef ┆           ┆ hlights   ┆   ┆           ┆           ┆ an        ┆          │\n",
       "│ t_labels/ ┆ -aebc-261 ┆           ┆ do not    ┆   ┆           ┆           ┆           ┆          │\n",
       "│ lates…    ┆ 6ae45…    ┆           ┆ include … ┆   ┆           ┆           ┆           ┆          │\n",
       "│ ../data/2 ┆ 1c90aa68- ┆ 11        ┆ These hig ┆ … ┆ 1351583   ┆ 214354    ┆ candesart ┆ 1351557  │\n",
       "│ 024_lates ┆ cc12-41ef ┆           ┆ hlights   ┆   ┆           ┆           ┆ an        ┆          │\n",
       "│ t_labels/ ┆ -aebc-261 ┆           ┆ do not    ┆   ┆           ┆           ┆           ┆          │\n",
       "│ lates…    ┆ 6ae45…    ┆           ┆ include … ┆   ┆           ┆           ┆           ┆          │\n",
       "│ ../data/2 ┆ 1c90aa68- ┆ 11        ┆ These hig ┆ … ┆ 1351587   ┆ 214354    ┆ candesart ┆ 1351557  │\n",
       "│ 024_lates ┆ cc12-41ef ┆           ┆ hlights   ┆   ┆           ┆           ┆ an        ┆          │\n",
       "│ t_labels/ ┆ -aebc-261 ┆           ┆ do not    ┆   ┆           ┆           ┆           ┆          │\n",
       "│ lates…    ┆ 6ae45…    ┆           ┆ include … ┆   ┆           ┆           ┆           ┆          │\n",
       "│ ../data/2 ┆ 1c90aa68- ┆ 11        ┆ These hig ┆ … ┆ 1351587   ┆ 214354    ┆ candesart ┆ 1351557  │\n",
       "│ 024_lates ┆ cc12-41ef ┆           ┆ hlights   ┆   ┆           ┆           ┆ an        ┆          │\n",
       "│ t_labels/ ┆ -aebc-261 ┆           ┆ do not    ┆   ┆           ┆           ┆           ┆          │\n",
       "│ lates…    ┆ 6ae45…    ┆           ┆ include … ┆   ┆           ┆           ┆           ┆          │\n",
       "└───────────┴───────────┴───────────┴───────────┴───┴───────────┴───────────┴───────────┴──────────┘"
      ]
     },
     "execution_count": 405,
     "metadata": {},
     "output_type": "execute_result"
    }
   ],
   "source": [
    "(label_df.join(product_2024, on=[\"set_id\", \"spl_version\"],\n",
    "               how='inner')\n",
    "               .filter(\n",
    "                       (pl.col('title').str.contains('candesartan'))\n",
    "                   )\n",
    ")"
   ]
  },
  {
   "cell_type": "code",
   "execution_count": 227,
   "metadata": {},
   "outputs": [],
   "source": [
    "# 280213 --- 70137\n",
    "(product_2024_setids.join(label_df,\n",
    "                        right_on=[\"set_id\", \"spl_version\"],\n",
    "                        left_on=[\"SETID\", \"SPL_VERSION\"],\n",
    "                        how='inner')\n",
    "        .select(\n",
    "            pl.col('SETID'),\n",
    "            pl.col('SPL_VERSION'),\n",
    "            pl.col('ingredients_names'),\n",
    "            pl.col('ingredients_rxcuis'),\n",
    "            pl.col('condition_name'),\n",
    "            pl.col('pt_meddra_id'),\n",
    "            pl.col('pt_meddra_term'),\n",
    "            pl.col('file'),\n",
    "            pl.col('title')\n",
    "        ).unique()\n",
    ").write_csv('../data/labels_for_rag.csv')"
   ]
  },
  {
   "cell_type": "code",
   "execution_count": 361,
   "metadata": {},
   "outputs": [
    {
     "data": {
      "text/html": [
       "<div><style>\n",
       ".dataframe > thead > tr,\n",
       ".dataframe > tbody > tr {\n",
       "  text-align: right;\n",
       "  white-space: pre-wrap;\n",
       "}\n",
       "</style>\n",
       "<small>shape: (5, 11)</small><table border=\"1\" class=\"dataframe\"><thead><tr><th>pt_meddra_id</th><th>pt_meddra_term</th><th>ingredients_rxcuis</th><th>ingredients_names</th><th>cohort_id</th><th>condition_name</th><th>positive_controls</th><th>SETID</th><th>SPL_VERSION</th><th>file</th><th>title</th></tr><tr><td>i64</td><td>str</td><td>i64</td><td>str</td><td>i64</td><td>str</td><td>i64</td><td>str</td><td>i64</td><td>str</td><td>str</td></tr></thead><tbody><tr><td>10018830</td><td>&quot;haematemesis&quot;</td><td>1425099</td><td>&quot;trametinib&quot;</td><td>500001001</td><td>&quot;gi bleed&quot;</td><td>11</td><td>&quot;0002ad27-779d-…</td><td>22</td><td>&quot;../data/2024_l…</td><td>&quot;These highligh…</td></tr><tr><td>10018830</td><td>&quot;haematemesis&quot;</td><td>1425099</td><td>&quot;trametinib&quot;</td><td>500001001</td><td>&quot;gi bleed&quot;</td><td>11</td><td>&quot;0002ad27-779d-…</td><td>22</td><td>&quot;../data/2024_l…</td><td>&quot;These highligh…</td></tr><tr><td>10038435</td><td>&quot;renal failure&quot;</td><td>1425099</td><td>&quot;trametinib&quot;</td><td>500000401</td><td>&quot;acute kidney i…</td><td>20</td><td>&quot;0002ad27-779d-…</td><td>22</td><td>&quot;../data/2024_l…</td><td>&quot;These highligh…</td></tr><tr><td>10038435</td><td>&quot;renal failure&quot;</td><td>1425099</td><td>&quot;trametinib&quot;</td><td>500000401</td><td>&quot;acute kidney i…</td><td>20</td><td>&quot;0002ad27-779d-…</td><td>22</td><td>&quot;../data/2024_l…</td><td>&quot;These highligh…</td></tr><tr><td>10018830</td><td>&quot;haematemesis&quot;</td><td>1425099</td><td>&quot;trametinib&quot;</td><td>500001001</td><td>&quot;gi bleed&quot;</td><td>11</td><td>&quot;0002ad27-779d-…</td><td>22</td><td>&quot;../data/2024_l…</td><td>&quot;These highligh…</td></tr></tbody></table></div>"
      ],
      "text/plain": [
       "shape: (5, 11)\n",
       "┌───────────┬───────────┬───────────┬───────────┬───┬───────────┬───────────┬───────────┬──────────┐\n",
       "│ pt_meddra ┆ pt_meddra ┆ ingredien ┆ ingredien ┆ … ┆ SETID     ┆ SPL_VERSI ┆ file      ┆ title    │\n",
       "│ _id       ┆ _term     ┆ ts_rxcuis ┆ ts_names  ┆   ┆ ---       ┆ ON        ┆ ---       ┆ ---      │\n",
       "│ ---       ┆ ---       ┆ ---       ┆ ---       ┆   ┆ str       ┆ ---       ┆ str       ┆ str      │\n",
       "│ i64       ┆ str       ┆ i64       ┆ str       ┆   ┆           ┆ i64       ┆           ┆          │\n",
       "╞═══════════╪═══════════╪═══════════╪═══════════╪═══╪═══════════╪═══════════╪═══════════╪══════════╡\n",
       "│ 10018830  ┆ haemateme ┆ 1425099   ┆ trametini ┆ … ┆ 0002ad27- ┆ 22        ┆ ../data/2 ┆ These    │\n",
       "│           ┆ sis       ┆           ┆ b         ┆   ┆ 779d-42ab ┆           ┆ 024_lates ┆ highligh │\n",
       "│           ┆           ┆           ┆           ┆   ┆ -83b5-bc6 ┆           ┆ t_labels/ ┆ ts do    │\n",
       "│           ┆           ┆           ┆           ┆   ┆ 54534…    ┆           ┆ gold_…    ┆ not      │\n",
       "│           ┆           ┆           ┆           ┆   ┆           ┆           ┆           ┆ include  │\n",
       "│           ┆           ┆           ┆           ┆   ┆           ┆           ┆           ┆ …        │\n",
       "│ 10018830  ┆ haemateme ┆ 1425099   ┆ trametini ┆ … ┆ 0002ad27- ┆ 22        ┆ ../data/2 ┆ These    │\n",
       "│           ┆ sis       ┆           ┆ b         ┆   ┆ 779d-42ab ┆           ┆ 024_lates ┆ highligh │\n",
       "│           ┆           ┆           ┆           ┆   ┆ -83b5-bc6 ┆           ┆ t_labels/ ┆ ts do    │\n",
       "│           ┆           ┆           ┆           ┆   ┆ 54534…    ┆           ┆ lates…    ┆ not      │\n",
       "│           ┆           ┆           ┆           ┆   ┆           ┆           ┆           ┆ include  │\n",
       "│           ┆           ┆           ┆           ┆   ┆           ┆           ┆           ┆ …        │\n",
       "│ 10038435  ┆ renal     ┆ 1425099   ┆ trametini ┆ … ┆ 0002ad27- ┆ 22        ┆ ../data/2 ┆ These    │\n",
       "│           ┆ failure   ┆           ┆ b         ┆   ┆ 779d-42ab ┆           ┆ 024_lates ┆ highligh │\n",
       "│           ┆           ┆           ┆           ┆   ┆ -83b5-bc6 ┆           ┆ t_labels/ ┆ ts do    │\n",
       "│           ┆           ┆           ┆           ┆   ┆ 54534…    ┆           ┆ gold_…    ┆ not      │\n",
       "│           ┆           ┆           ┆           ┆   ┆           ┆           ┆           ┆ include  │\n",
       "│           ┆           ┆           ┆           ┆   ┆           ┆           ┆           ┆ …        │\n",
       "│ 10038435  ┆ renal     ┆ 1425099   ┆ trametini ┆ … ┆ 0002ad27- ┆ 22        ┆ ../data/2 ┆ These    │\n",
       "│           ┆ failure   ┆           ┆ b         ┆   ┆ 779d-42ab ┆           ┆ 024_lates ┆ highligh │\n",
       "│           ┆           ┆           ┆           ┆   ┆ -83b5-bc6 ┆           ┆ t_labels/ ┆ ts do    │\n",
       "│           ┆           ┆           ┆           ┆   ┆ 54534…    ┆           ┆ lates…    ┆ not      │\n",
       "│           ┆           ┆           ┆           ┆   ┆           ┆           ┆           ┆ include  │\n",
       "│           ┆           ┆           ┆           ┆   ┆           ┆           ┆           ┆ …        │\n",
       "│ 10018830  ┆ haemateme ┆ 1425099   ┆ trametini ┆ … ┆ 0002ad27- ┆ 22        ┆ ../data/2 ┆ These    │\n",
       "│           ┆ sis       ┆           ┆ b         ┆   ┆ 779d-42ab ┆           ┆ 024_lates ┆ highligh │\n",
       "│           ┆           ┆           ┆           ┆   ┆ -83b5-bc6 ┆           ┆ t_labels/ ┆ ts do    │\n",
       "│           ┆           ┆           ┆           ┆   ┆ 54534…    ┆           ┆ gold_…    ┆ not      │\n",
       "│           ┆           ┆           ┆           ┆   ┆           ┆           ┆           ┆ include  │\n",
       "│           ┆           ┆           ┆           ┆   ┆           ┆           ┆           ┆ …        │\n",
       "└───────────┴───────────┴───────────┴───────────┴───┴───────────┴───────────┴───────────┴──────────┘"
      ]
     },
     "execution_count": 361,
     "metadata": {},
     "output_type": "execute_result"
    }
   ],
   "source": [
    "product_mappings = (product_2024_setids.join(label_df,\n",
    "                        right_on=[\"set_id\", \"spl_version\"],\n",
    "                        left_on=[\"SETID\", \"SPL_VERSION\"],\n",
    "                        how='inner')\n",
    ")\n",
    "product_mappings.head()"
   ]
  },
  {
   "cell_type": "code",
   "execution_count": 362,
   "metadata": {},
   "outputs": [
    {
     "data": {
      "text/html": [
       "<div><style>\n",
       ".dataframe > thead > tr,\n",
       ".dataframe > tbody > tr {\n",
       "  text-align: right;\n",
       "  white-space: pre-wrap;\n",
       "}\n",
       "</style>\n",
       "<small>shape: (5, 11)</small><table border=\"1\" class=\"dataframe\"><thead><tr><th>pt_meddra_id</th><th>pt_meddra_term</th><th>ingredients_rxcuis</th><th>ingredients_names</th><th>cohort_id</th><th>condition_name</th><th>positive_controls</th><th>SETID</th><th>SPL_VERSION</th><th>file</th><th>title</th></tr><tr><td>i64</td><td>str</td><td>i64</td><td>str</td><td>i64</td><td>str</td><td>i64</td><td>str</td><td>i64</td><td>str</td><td>str</td></tr></thead><tbody><tr><td>10028596</td><td>&quot;myocardial inf…</td><td>214354</td><td>&quot;candesartan&quot;</td><td>500000801</td><td>&quot;acute myocardi…</td><td>29</td><td>&quot;1c90aa68-cc12-…</td><td>11</td><td>&quot;../data/2024_l…</td><td>&quot;These highligh…</td></tr><tr><td>10038435</td><td>&quot;renal failure&quot;</td><td>214354</td><td>&quot;candesartan&quot;</td><td>500000401</td><td>&quot;acute kidney i…</td><td>20</td><td>&quot;1c90aa68-cc12-…</td><td>11</td><td>&quot;../data/2024_l…</td><td>&quot;These highligh…</td></tr><tr><td>10062237</td><td>&quot;renal impairme…</td><td>214354</td><td>&quot;candesartan&quot;</td><td>500000401</td><td>&quot;acute kidney i…</td><td>8</td><td>&quot;1c90aa68-cc12-…</td><td>11</td><td>&quot;../data/2024_l…</td><td>&quot;These highligh…</td></tr><tr><td>10028596</td><td>&quot;myocardial inf…</td><td>214354</td><td>&quot;candesartan&quot;</td><td>500000801</td><td>&quot;acute myocardi…</td><td>29</td><td>&quot;1c90aa68-cc12-…</td><td>11</td><td>&quot;../data/2024_l…</td><td>&quot;These highligh…</td></tr><tr><td>10038435</td><td>&quot;renal failure&quot;</td><td>214354</td><td>&quot;candesartan&quot;</td><td>500000401</td><td>&quot;acute kidney i…</td><td>20</td><td>&quot;1c90aa68-cc12-…</td><td>11</td><td>&quot;../data/2024_l…</td><td>&quot;These highligh…</td></tr></tbody></table></div>"
      ],
      "text/plain": [
       "shape: (5, 11)\n",
       "┌───────────┬───────────┬───────────┬───────────┬───┬───────────┬───────────┬───────────┬──────────┐\n",
       "│ pt_meddra ┆ pt_meddra ┆ ingredien ┆ ingredien ┆ … ┆ SETID     ┆ SPL_VERSI ┆ file      ┆ title    │\n",
       "│ _id       ┆ _term     ┆ ts_rxcuis ┆ ts_names  ┆   ┆ ---       ┆ ON        ┆ ---       ┆ ---      │\n",
       "│ ---       ┆ ---       ┆ ---       ┆ ---       ┆   ┆ str       ┆ ---       ┆ str       ┆ str      │\n",
       "│ i64       ┆ str       ┆ i64       ┆ str       ┆   ┆           ┆ i64       ┆           ┆          │\n",
       "╞═══════════╪═══════════╪═══════════╪═══════════╪═══╪═══════════╪═══════════╪═══════════╪══════════╡\n",
       "│ 10028596  ┆ myocardia ┆ 214354    ┆ candesart ┆ … ┆ 1c90aa68- ┆ 11        ┆ ../data/2 ┆ These    │\n",
       "│           ┆ l infarct ┆           ┆ an        ┆   ┆ cc12-41ef ┆           ┆ 024_lates ┆ highligh │\n",
       "│           ┆ ion       ┆           ┆           ┆   ┆ -aebc-261 ┆           ┆ t_labels/ ┆ ts do    │\n",
       "│           ┆           ┆           ┆           ┆   ┆ 6ae45…    ┆           ┆ lates…    ┆ not      │\n",
       "│           ┆           ┆           ┆           ┆   ┆           ┆           ┆           ┆ include  │\n",
       "│           ┆           ┆           ┆           ┆   ┆           ┆           ┆           ┆ …        │\n",
       "│ 10038435  ┆ renal     ┆ 214354    ┆ candesart ┆ … ┆ 1c90aa68- ┆ 11        ┆ ../data/2 ┆ These    │\n",
       "│           ┆ failure   ┆           ┆ an        ┆   ┆ cc12-41ef ┆           ┆ 024_lates ┆ highligh │\n",
       "│           ┆           ┆           ┆           ┆   ┆ -aebc-261 ┆           ┆ t_labels/ ┆ ts do    │\n",
       "│           ┆           ┆           ┆           ┆   ┆ 6ae45…    ┆           ┆ lates…    ┆ not      │\n",
       "│           ┆           ┆           ┆           ┆   ┆           ┆           ┆           ┆ include  │\n",
       "│           ┆           ┆           ┆           ┆   ┆           ┆           ┆           ┆ …        │\n",
       "│ 10062237  ┆ renal imp ┆ 214354    ┆ candesart ┆ … ┆ 1c90aa68- ┆ 11        ┆ ../data/2 ┆ These    │\n",
       "│           ┆ airment   ┆           ┆ an        ┆   ┆ cc12-41ef ┆           ┆ 024_lates ┆ highligh │\n",
       "│           ┆           ┆           ┆           ┆   ┆ -aebc-261 ┆           ┆ t_labels/ ┆ ts do    │\n",
       "│           ┆           ┆           ┆           ┆   ┆ 6ae45…    ┆           ┆ lates…    ┆ not      │\n",
       "│           ┆           ┆           ┆           ┆   ┆           ┆           ┆           ┆ include  │\n",
       "│           ┆           ┆           ┆           ┆   ┆           ┆           ┆           ┆ …        │\n",
       "│ 10028596  ┆ myocardia ┆ 214354    ┆ candesart ┆ … ┆ 1c90aa68- ┆ 11        ┆ ../data/2 ┆ These    │\n",
       "│           ┆ l infarct ┆           ┆ an        ┆   ┆ cc12-41ef ┆           ┆ 024_lates ┆ highligh │\n",
       "│           ┆ ion       ┆           ┆           ┆   ┆ -aebc-261 ┆           ┆ t_labels/ ┆ ts do    │\n",
       "│           ┆           ┆           ┆           ┆   ┆ 6ae45…    ┆           ┆ lates…    ┆ not      │\n",
       "│           ┆           ┆           ┆           ┆   ┆           ┆           ┆           ┆ include  │\n",
       "│           ┆           ┆           ┆           ┆   ┆           ┆           ┆           ┆ …        │\n",
       "│ 10038435  ┆ renal     ┆ 214354    ┆ candesart ┆ … ┆ 1c90aa68- ┆ 11        ┆ ../data/2 ┆ These    │\n",
       "│           ┆ failure   ┆           ┆ an        ┆   ┆ cc12-41ef ┆           ┆ 024_lates ┆ highligh │\n",
       "│           ┆           ┆           ┆           ┆   ┆ -aebc-261 ┆           ┆ t_labels/ ┆ ts do    │\n",
       "│           ┆           ┆           ┆           ┆   ┆ 6ae45…    ┆           ┆ lates…    ┆ not      │\n",
       "│           ┆           ┆           ┆           ┆   ┆           ┆           ┆           ┆ include  │\n",
       "│           ┆           ┆           ┆           ┆   ┆           ┆           ┆           ┆ …        │\n",
       "└───────────┴───────────┴───────────┴───────────┴───┴───────────┴───────────┴───────────┴──────────┘"
      ]
     },
     "execution_count": 362,
     "metadata": {},
     "output_type": "execute_result"
    }
   ],
   "source": [
    "product_mappings.filter(pl.col('ingredients_names') == 'candesartan').head()"
   ]
  },
  {
   "cell_type": "code",
   "execution_count": 360,
   "metadata": {},
   "outputs": [
    {
     "data": {
      "text/html": [
       "<div><style>\n",
       ".dataframe > thead > tr,\n",
       ".dataframe > tbody > tr {\n",
       "  text-align: right;\n",
       "  white-space: pre-wrap;\n",
       "}\n",
       "</style>\n",
       "<small>shape: (5, 5)</small><table border=\"1\" class=\"dataframe\"><thead><tr><th>cohort_id</th><th>condition_name</th><th>drug_concept_id</th><th>drug_name</th><th>affect</th></tr><tr><td>i64</td><td>str</td><td>i64</td><td>str</td><td>i64</td></tr></thead><tbody><tr><td>500000401</td><td>&quot;acute kidney i…</td><td>1703687</td><td>&quot;acyclovir&quot;</td><td>1</td></tr><tr><td>500000401</td><td>&quot;acute kidney i…</td><td>1167322</td><td>&quot;allopurinol&quot;</td><td>1</td></tr><tr><td>500000401</td><td>&quot;acute kidney i…</td><td>19026710</td><td>&quot;capreomycin&quot;</td><td>1</td></tr><tr><td>500000401</td><td>&quot;acute kidney i…</td><td>1340128</td><td>&quot;captopril&quot;</td><td>1</td></tr><tr><td>500000401</td><td>&quot;acute kidney i…</td><td>992590</td><td>&quot;chlorothiazide…</td><td>1</td></tr></tbody></table></div>"
      ],
      "text/plain": [
       "shape: (5, 5)\n",
       "┌───────────┬─────────────────────┬─────────────────┬────────────────┬────────┐\n",
       "│ cohort_id ┆ condition_name      ┆ drug_concept_id ┆ drug_name      ┆ affect │\n",
       "│ ---       ┆ ---                 ┆ ---             ┆ ---            ┆ ---    │\n",
       "│ i64       ┆ str                 ┆ i64             ┆ str            ┆ i64    │\n",
       "╞═══════════╪═════════════════════╪═════════════════╪════════════════╪════════╡\n",
       "│ 500000401 ┆ acute kidney injury ┆ 1703687         ┆ acyclovir      ┆ 1      │\n",
       "│ 500000401 ┆ acute kidney injury ┆ 1167322         ┆ allopurinol    ┆ 1      │\n",
       "│ 500000401 ┆ acute kidney injury ┆ 19026710        ┆ capreomycin    ┆ 1      │\n",
       "│ 500000401 ┆ acute kidney injury ┆ 1340128         ┆ captopril      ┆ 1      │\n",
       "│ 500000401 ┆ acute kidney injury ┆ 992590          ┆ chlorothiazide ┆ 1      │\n",
       "└───────────┴─────────────────────┴─────────────────┴────────────────┴────────┘"
      ]
     },
     "execution_count": 360,
     "metadata": {},
     "output_type": "execute_result"
    }
   ],
   "source": [
    "pryan_set = (pl.read_csv('../data/pryan_reference_set_ades.csv')\n",
    "             .select(\n",
    "                 pl.col('cohort_id'), \n",
    "                 pl.col('condition_name').str.to_lowercase(),\n",
    "                 'drug_concept_id',\n",
    "                 pl.col('drug_name').str.to_lowercase(),\n",
    "                 'affect'\n",
    "             )\n",
    "             )\n",
    "pryan_set.head()"
   ]
  },
  {
   "cell_type": "code",
   "execution_count": 381,
   "metadata": {},
   "outputs": [
    {
     "name": "stderr",
     "output_type": "stream",
     "text": [
      "/var/folders/sv/s1jkxt011xn9v02w3w30vx640000gn/T/ipykernel_77975/1849558158.py:21: DeprecationWarning: `groupby` is deprecated. It has been renamed to `group_by`.\n",
      "  .groupby(['condition_name', 'affect']).agg(pl.col('reference').sum(),\n"
     ]
    },
    {
     "data": {
      "text/html": [
       "<div><style>\n",
       ".dataframe > thead > tr,\n",
       ".dataframe > tbody > tr {\n",
       "  text-align: right;\n",
       "  white-space: pre-wrap;\n",
       "}\n",
       "</style>\n",
       "<small>shape: (8, 5)</small><table border=\"1\" class=\"dataframe\"><thead><tr><th>condition_name</th><th>affect</th><th>reference</th><th>product</th><th>missed</th></tr><tr><td>str</td><td>i64</td><td>i32</td><td>i32</td><td>i32</td></tr></thead><tbody><tr><td>&quot;acute liver in…</td><td>0</td><td>37</td><td>2</td><td>35</td></tr><tr><td>&quot;gi bleed&quot;</td><td>0</td><td>67</td><td>2</td><td>65</td></tr><tr><td>&quot;acute kidney i…</td><td>1</td><td>24</td><td>22</td><td>2</td></tr><tr><td>&quot;acute liver in…</td><td>1</td><td>81</td><td>59</td><td>22</td></tr><tr><td>&quot;acute kidney i…</td><td>0</td><td>64</td><td>2</td><td>62</td></tr><tr><td>&quot;acute myocardi…</td><td>1</td><td>36</td><td>28</td><td>8</td></tr><tr><td>&quot;acute myocardi…</td><td>0</td><td>66</td><td>0</td><td>66</td></tr><tr><td>&quot;gi bleed&quot;</td><td>1</td><td>24</td><td>21</td><td>3</td></tr></tbody></table></div>"
      ],
      "text/plain": [
       "shape: (8, 5)\n",
       "┌─────────────────────────────┬────────┬───────────┬─────────┬────────┐\n",
       "│ condition_name              ┆ affect ┆ reference ┆ product ┆ missed │\n",
       "│ ---                         ┆ ---    ┆ ---       ┆ ---     ┆ ---    │\n",
       "│ str                         ┆ i64    ┆ i32       ┆ i32     ┆ i32    │\n",
       "╞═════════════════════════════╪════════╪═══════════╪═════════╪════════╡\n",
       "│ acute liver injury          ┆ 0      ┆ 37        ┆ 2       ┆ 35     │\n",
       "│ gi bleed                    ┆ 0      ┆ 67        ┆ 2       ┆ 65     │\n",
       "│ acute kidney injury         ┆ 1      ┆ 24        ┆ 22      ┆ 2      │\n",
       "│ acute liver injury          ┆ 1      ┆ 81        ┆ 59      ┆ 22     │\n",
       "│ acute kidney injury         ┆ 0      ┆ 64        ┆ 2       ┆ 62     │\n",
       "│ acute myocardial infarction ┆ 1      ┆ 36        ┆ 28      ┆ 8      │\n",
       "│ acute myocardial infarction ┆ 0      ┆ 66        ┆ 0       ┆ 66     │\n",
       "│ gi bleed                    ┆ 1      ┆ 24        ┆ 21      ┆ 3      │\n",
       "└─────────────────────────────┴────────┴───────────┴─────────┴────────┘"
      ]
     },
     "execution_count": 381,
     "metadata": {},
     "output_type": "execute_result"
    }
   ],
   "source": [
    "(\n",
    "    pryan_set\n",
    "    .with_columns(\n",
    "        reference = 1\n",
    "    )\n",
    "    .join(\n",
    "        product_mappings.with_columns(product = 1),\n",
    "        left_on = ['drug_name', 'condition_name'],\n",
    "        right_on = ['ingredients_names', 'condition_name'],\n",
    "        how='left'\n",
    "    )\n",
    "    .select(\n",
    "        'drug_name',\n",
    "        'condition_name',\n",
    "        'affect',\n",
    "        'reference',\n",
    "        'product'\n",
    "    )\n",
    "    .unique(['drug_name', 'condition_name', 'affect', 'product'])\n",
    "    .fill_null(0)\n",
    "    .groupby(['condition_name', 'affect']).agg(pl.col('reference').sum(),\n",
    "                                     pl.col('product').sum())\n",
    "    .with_columns(\n",
    "        (pl.col('reference') - pl.col('product')).alias('missed')\n",
    "    )\n",
    ")"
   ]
  },
  {
   "cell_type": "code",
   "execution_count": 367,
   "metadata": {},
   "outputs": [
    {
     "data": {
      "text/html": [
       "<div><style>\n",
       ".dataframe > thead > tr,\n",
       ".dataframe > tbody > tr {\n",
       "  text-align: right;\n",
       "  white-space: pre-wrap;\n",
       "}\n",
       "</style>\n",
       "<small>shape: (165, 5)</small><table border=\"1\" class=\"dataframe\"><thead><tr><th>condition_name</th><th>drug_name</th><th>affect</th><th>reference</th><th>product</th></tr><tr><td>str</td><td>str</td><td>i64</td><td>i32</td><td>i32</td></tr></thead><tbody><tr><td>&quot;acute kidney i…</td><td>&quot;acyclovir&quot;</td><td>1</td><td>1</td><td>1</td></tr><tr><td>&quot;acute kidney i…</td><td>&quot;allopurinol&quot;</td><td>1</td><td>1</td><td>1</td></tr><tr><td>&quot;acute kidney i…</td><td>&quot;candesartan&quot;</td><td>1</td><td>1</td><td>1</td></tr><tr><td>&quot;acute kidney i…</td><td>&quot;capreomycin&quot;</td><td>1</td><td>1</td><td>0</td></tr><tr><td>&quot;acute kidney i…</td><td>&quot;captopril&quot;</td><td>1</td><td>1</td><td>1</td></tr><tr><td>&quot;acute kidney i…</td><td>&quot;chlorothiazide…</td><td>1</td><td>1</td><td>1</td></tr><tr><td>&quot;acute kidney i…</td><td>&quot;cyclosporine&quot;</td><td>1</td><td>1</td><td>1</td></tr><tr><td>&quot;acute kidney i…</td><td>&quot;diflunisal&quot;</td><td>1</td><td>1</td><td>1</td></tr><tr><td>&quot;acute kidney i…</td><td>&quot;enalaprilat&quot;</td><td>1</td><td>1</td><td>1</td></tr><tr><td>&quot;acute kidney i…</td><td>&quot;etodolac&quot;</td><td>1</td><td>1</td><td>1</td></tr><tr><td>&quot;acute kidney i…</td><td>&quot;fenoprofen&quot;</td><td>1</td><td>1</td><td>1</td></tr><tr><td>&quot;acute kidney i…</td><td>&quot;hydrochlorothi…</td><td>1</td><td>1</td><td>1</td></tr><tr><td>&hellip;</td><td>&hellip;</td><td>&hellip;</td><td>&hellip;</td><td>&hellip;</td></tr><tr><td>&quot;gi bleed&quot;</td><td>&quot;ketorolac&quot;</td><td>1</td><td>1</td><td>1</td></tr><tr><td>&quot;gi bleed&quot;</td><td>&quot;mefenamate&quot;</td><td>1</td><td>1</td><td>1</td></tr><tr><td>&quot;gi bleed&quot;</td><td>&quot;meloxicam&quot;</td><td>1</td><td>1</td><td>1</td></tr><tr><td>&quot;gi bleed&quot;</td><td>&quot;nabumetone&quot;</td><td>1</td><td>1</td><td>1</td></tr><tr><td>&quot;gi bleed&quot;</td><td>&quot;naproxen&quot;</td><td>1</td><td>1</td><td>1</td></tr><tr><td>&quot;gi bleed&quot;</td><td>&quot;oxaprozin&quot;</td><td>1</td><td>1</td><td>1</td></tr><tr><td>&quot;gi bleed&quot;</td><td>&quot;piroxicam&quot;</td><td>1</td><td>1</td><td>1</td></tr><tr><td>&quot;gi bleed&quot;</td><td>&quot;potassium chlo…</td><td>1</td><td>1</td><td>1</td></tr><tr><td>&quot;gi bleed&quot;</td><td>&quot;sertraline&quot;</td><td>1</td><td>1</td><td>0</td></tr><tr><td>&quot;gi bleed&quot;</td><td>&quot;sulindac&quot;</td><td>1</td><td>1</td><td>1</td></tr><tr><td>&quot;gi bleed&quot;</td><td>&quot;tolmetin&quot;</td><td>1</td><td>1</td><td>1</td></tr><tr><td>&quot;gi bleed&quot;</td><td>&quot;valdecoxib&quot;</td><td>1</td><td>1</td><td>0</td></tr></tbody></table></div>"
      ],
      "text/plain": [
       "shape: (165, 5)\n",
       "┌─────────────────────┬────────────────────┬────────┬───────────┬─────────┐\n",
       "│ condition_name      ┆ drug_name          ┆ affect ┆ reference ┆ product │\n",
       "│ ---                 ┆ ---                ┆ ---    ┆ ---       ┆ ---     │\n",
       "│ str                 ┆ str                ┆ i64    ┆ i32       ┆ i32     │\n",
       "╞═════════════════════╪════════════════════╪════════╪═══════════╪═════════╡\n",
       "│ acute kidney injury ┆ acyclovir          ┆ 1      ┆ 1         ┆ 1       │\n",
       "│ acute kidney injury ┆ allopurinol        ┆ 1      ┆ 1         ┆ 1       │\n",
       "│ acute kidney injury ┆ candesartan        ┆ 1      ┆ 1         ┆ 1       │\n",
       "│ acute kidney injury ┆ capreomycin        ┆ 1      ┆ 1         ┆ 0       │\n",
       "│ acute kidney injury ┆ captopril          ┆ 1      ┆ 1         ┆ 1       │\n",
       "│ …                   ┆ …                  ┆ …      ┆ …         ┆ …       │\n",
       "│ gi bleed            ┆ potassium chloride ┆ 1      ┆ 1         ┆ 1       │\n",
       "│ gi bleed            ┆ sertraline         ┆ 1      ┆ 1         ┆ 0       │\n",
       "│ gi bleed            ┆ sulindac           ┆ 1      ┆ 1         ┆ 1       │\n",
       "│ gi bleed            ┆ tolmetin           ┆ 1      ┆ 1         ┆ 1       │\n",
       "│ gi bleed            ┆ valdecoxib         ┆ 1      ┆ 1         ┆ 0       │\n",
       "└─────────────────────┴────────────────────┴────────┴───────────┴─────────┘"
      ]
     },
     "execution_count": 367,
     "metadata": {},
     "output_type": "execute_result"
    }
   ],
   "source": [
    "(\n",
    "    pryan_set\n",
    "    .with_columns(\n",
    "        reference = 1\n",
    "    )\n",
    "    .join(\n",
    "        product_mappings.with_columns(product = 1),\n",
    "        left_on = ['drug_name', 'condition_name'],\n",
    "        right_on = ['ingredients_names', 'condition_name'],\n",
    "        how='left'\n",
    "    )\n",
    "    .select(\n",
    "        'condition_name',\n",
    "        'drug_name',\n",
    "        'affect',\n",
    "        'reference',\n",
    "        'product'\n",
    "    )\n",
    "    .unique(['drug_name', 'condition_name', 'affect', 'product'])\n",
    "    .fill_null(0)\n",
    "    .filter(pl.col('affect') == 1)\n",
    ").sort(['condition_name', 'drug_name'])"
   ]
  },
  {
   "cell_type": "code",
   "execution_count": 368,
   "metadata": {},
   "outputs": [
    {
     "data": {
      "text/html": [
       "<div><style>\n",
       ".dataframe > thead > tr,\n",
       ".dataframe > tbody > tr {\n",
       "  text-align: right;\n",
       "  white-space: pre-wrap;\n",
       "}\n",
       "</style>\n",
       "<small>shape: (104, 1)</small><table border=\"1\" class=\"dataframe\"><thead><tr><th>file</th></tr><tr><td>str</td></tr></thead><tbody><tr><td>&quot;../data/2024_l…</td></tr><tr><td>&quot;../data/2024_l…</td></tr><tr><td>&quot;../data/2024_l…</td></tr><tr><td>&quot;../data/2024_l…</td></tr><tr><td>&quot;../data/2024_l…</td></tr><tr><td>&quot;../data/2024_l…</td></tr><tr><td>&quot;../data/2024_l…</td></tr><tr><td>&quot;../data/2024_l…</td></tr><tr><td>&quot;../data/2024_l…</td></tr><tr><td>&quot;../data/2024_l…</td></tr><tr><td>&quot;../data/2024_l…</td></tr><tr><td>&quot;../data/2024_l…</td></tr><tr><td>&hellip;</td></tr><tr><td>&quot;../data/2024_l…</td></tr><tr><td>&quot;../data/2024_l…</td></tr><tr><td>&quot;../data/2024_l…</td></tr><tr><td>&quot;../data/2024_l…</td></tr><tr><td>&quot;../data/2024_l…</td></tr><tr><td>&quot;../data/2024_l…</td></tr><tr><td>&quot;../data/2024_l…</td></tr><tr><td>&quot;../data/2024_l…</td></tr><tr><td>&quot;../data/2024_l…</td></tr><tr><td>&quot;../data/2024_l…</td></tr><tr><td>&quot;../data/2024_l…</td></tr><tr><td>&quot;../data/2024_l…</td></tr></tbody></table></div>"
      ],
      "text/plain": [
       "shape: (104, 1)\n",
       "┌───────────────────────────────────┐\n",
       "│ file                              │\n",
       "│ ---                               │\n",
       "│ str                               │\n",
       "╞═══════════════════════════════════╡\n",
       "│ ../data/2024_latest_labels/lates… │\n",
       "│ ../data/2024_latest_labels/lates… │\n",
       "│ ../data/2024_latest_labels/lates… │\n",
       "│ ../data/2024_latest_labels/lates… │\n",
       "│ ../data/2024_latest_labels/lates… │\n",
       "│ …                                 │\n",
       "│ ../data/2024_latest_labels/lates… │\n",
       "│ ../data/2024_latest_labels/lates… │\n",
       "│ ../data/2024_latest_labels/lates… │\n",
       "│ ../data/2024_latest_labels/lates… │\n",
       "│ ../data/2024_latest_labels/lates… │\n",
       "└───────────────────────────────────┘"
      ]
     },
     "execution_count": 368,
     "metadata": {},
     "output_type": "execute_result"
    }
   ],
   "source": [
    "(\n",
    "    pryan_set\n",
    "    .filter(\n",
    "        pl.col('affect') == 1\n",
    "    ).select('drug_name').unique()\n",
    "    .join(\n",
    "        product_mappings.with_columns(label = 1),\n",
    "        left_on = ['drug_name'],\n",
    "        right_on = ['ingredients_names'],\n",
    "        how='inner'\n",
    "    ).select('file').unique()\n",
    ")"
   ]
  },
  {
   "cell_type": "code",
   "execution_count": 370,
   "metadata": {},
   "outputs": [
    {
     "data": {
      "text/plain": [
       "(123, 1)"
      ]
     },
     "execution_count": 370,
     "metadata": {},
     "output_type": "execute_result"
    }
   ],
   "source": [
    "pos_cont_drugs = pryan_set.filter(pl.col('affect') == 1).select('drug_name').unique()\n",
    "pos_cont_drugs.shape"
   ]
  },
  {
   "cell_type": "code",
   "execution_count": 379,
   "metadata": {},
   "outputs": [
    {
     "data": {
      "text/plain": [
       "114"
      ]
     },
     "execution_count": 379,
     "metadata": {},
     "output_type": "execute_result"
    }
   ],
   "source": [
    "num_titles = set()\n",
    "for label in label_df.iter_rows():\n",
    "    is_in_title = [x.lower() in label[-1].lower() for x in pos_cont_drugs['drug_name'].to_list()]\n",
    "    if any(is_in_title):\n",
    "        num_titles.add(label[-1])\n",
    "\n",
    "len(num_titles)"
   ]
  },
  {
   "cell_type": "code",
   "execution_count": 315,
   "metadata": {},
   "outputs": [
    {
     "name": "stdout",
     "output_type": "stream",
     "text": [
      "('../data/2024_latest_labels/latest_labels_ingredients/20240221_1c90aa68-cc12-41ef-aebc-2616ae45683a.json', '1c90aa68-cc12-41ef-aebc-2616ae45683a', 11, 'These highlights do not include all the information needed to use \\n\\ncandesartan cilexetil \\n\\n safely and effectively.  See full prescribing information for \\n\\ncandesartan cilexetil \\n\\n.\\n\\nCandesartan cilexetil tablets, for oral use\\nInitial U.S. Approval: 1998')\n"
     ]
    }
   ],
   "source": [
    "for label in label_df.iter_rows():\n",
    "    if 'candesartan' in label[-1].lower():\n",
    "        print(label)"
   ]
  },
  {
   "cell_type": "code",
   "execution_count": 325,
   "metadata": {},
   "outputs": [
    {
     "data": {
      "text/html": [
       "<div><style>\n",
       ".dataframe > thead > tr,\n",
       ".dataframe > tbody > tr {\n",
       "  text-align: right;\n",
       "  white-space: pre-wrap;\n",
       "}\n",
       "</style>\n",
       "<small>shape: (5, 9)</small><table border=\"1\" class=\"dataframe\"><thead><tr><th>pt_meddra_id</th><th>pt_meddra_term</th><th>ingredients_rxcuis</th><th>ingredients_names</th><th>cohort_id</th><th>condition_name</th><th>positive_controls</th><th>SETID</th><th>SPL_VERSION</th></tr><tr><td>i64</td><td>str</td><td>i64</td><td>str</td><td>i64</td><td>str</td><td>i64</td><td>str</td><td>i64</td></tr></thead><tbody><tr><td>10028596</td><td>&quot;myocardial inf…</td><td>214354</td><td>&quot;candesartan&quot;</td><td>500000801</td><td>&quot;acute myocardi…</td><td>29</td><td>&quot;1c90aa68-cc12-…</td><td>11</td></tr><tr><td>10038435</td><td>&quot;renal failure&quot;</td><td>214354</td><td>&quot;candesartan&quot;</td><td>500000401</td><td>&quot;acute kidney i…</td><td>20</td><td>&quot;1c90aa68-cc12-…</td><td>11</td></tr><tr><td>10062237</td><td>&quot;renal impairme…</td><td>214354</td><td>&quot;candesartan&quot;</td><td>500000401</td><td>&quot;acute kidney i…</td><td>8</td><td>&quot;1c90aa68-cc12-…</td><td>11</td></tr><tr><td>10028596</td><td>&quot;myocardial inf…</td><td>214354</td><td>&quot;candesartan&quot;</td><td>500000801</td><td>&quot;acute myocardi…</td><td>29</td><td>&quot;1c90aa68-cc12-…</td><td>11</td></tr><tr><td>10038435</td><td>&quot;renal failure&quot;</td><td>214354</td><td>&quot;candesartan&quot;</td><td>500000401</td><td>&quot;acute kidney i…</td><td>20</td><td>&quot;1c90aa68-cc12-…</td><td>11</td></tr></tbody></table></div>"
      ],
      "text/plain": [
       "shape: (5, 9)\n",
       "┌───────────┬───────────┬───────────┬───────────┬───┬───────────┬───────────┬───────────┬──────────┐\n",
       "│ pt_meddra ┆ pt_meddra ┆ ingredien ┆ ingredien ┆ … ┆ condition ┆ positive_ ┆ SETID     ┆ SPL_VERS │\n",
       "│ _id       ┆ _term     ┆ ts_rxcuis ┆ ts_names  ┆   ┆ _name     ┆ controls  ┆ ---       ┆ ION      │\n",
       "│ ---       ┆ ---       ┆ ---       ┆ ---       ┆   ┆ ---       ┆ ---       ┆ str       ┆ ---      │\n",
       "│ i64       ┆ str       ┆ i64       ┆ str       ┆   ┆ str       ┆ i64       ┆           ┆ i64      │\n",
       "╞═══════════╪═══════════╪═══════════╪═══════════╪═══╪═══════════╪═══════════╪═══════════╪══════════╡\n",
       "│ 10028596  ┆ myocardia ┆ 214354    ┆ candesart ┆ … ┆ acute myo ┆ 29        ┆ 1c90aa68- ┆ 11       │\n",
       "│           ┆ l infarct ┆           ┆ an        ┆   ┆ cardial   ┆           ┆ cc12-41ef ┆          │\n",
       "│           ┆ ion       ┆           ┆           ┆   ┆ infarctio ┆           ┆ -aebc-261 ┆          │\n",
       "│           ┆           ┆           ┆           ┆   ┆ n         ┆           ┆ 6ae45…    ┆          │\n",
       "│ 10038435  ┆ renal     ┆ 214354    ┆ candesart ┆ … ┆ acute     ┆ 20        ┆ 1c90aa68- ┆ 11       │\n",
       "│           ┆ failure   ┆           ┆ an        ┆   ┆ kidney    ┆           ┆ cc12-41ef ┆          │\n",
       "│           ┆           ┆           ┆           ┆   ┆ injury    ┆           ┆ -aebc-261 ┆          │\n",
       "│           ┆           ┆           ┆           ┆   ┆           ┆           ┆ 6ae45…    ┆          │\n",
       "│ 10062237  ┆ renal imp ┆ 214354    ┆ candesart ┆ … ┆ acute     ┆ 8         ┆ 1c90aa68- ┆ 11       │\n",
       "│           ┆ airment   ┆           ┆ an        ┆   ┆ kidney    ┆           ┆ cc12-41ef ┆          │\n",
       "│           ┆           ┆           ┆           ┆   ┆ injury    ┆           ┆ -aebc-261 ┆          │\n",
       "│           ┆           ┆           ┆           ┆   ┆           ┆           ┆ 6ae45…    ┆          │\n",
       "│ 10028596  ┆ myocardia ┆ 214354    ┆ candesart ┆ … ┆ acute myo ┆ 29        ┆ 1c90aa68- ┆ 11       │\n",
       "│           ┆ l infarct ┆           ┆ an        ┆   ┆ cardial   ┆           ┆ cc12-41ef ┆          │\n",
       "│           ┆ ion       ┆           ┆           ┆   ┆ infarctio ┆           ┆ -aebc-261 ┆          │\n",
       "│           ┆           ┆           ┆           ┆   ┆ n         ┆           ┆ 6ae45…    ┆          │\n",
       "│ 10038435  ┆ renal     ┆ 214354    ┆ candesart ┆ … ┆ acute     ┆ 20        ┆ 1c90aa68- ┆ 11       │\n",
       "│           ┆ failure   ┆           ┆ an        ┆   ┆ kidney    ┆           ┆ cc12-41ef ┆          │\n",
       "│           ┆           ┆           ┆           ┆   ┆ injury    ┆           ┆ -aebc-261 ┆          │\n",
       "│           ┆           ┆           ┆           ┆   ┆           ┆           ┆ 6ae45…    ┆          │\n",
       "└───────────┴───────────┴───────────┴───────────┴───┴───────────┴───────────┴───────────┴──────────┘"
      ]
     },
     "execution_count": 325,
     "metadata": {},
     "output_type": "execute_result"
    }
   ],
   "source": [
    "product_2024_setids.filter(pl.col('SETID') == '1c90aa68-cc12-41ef-aebc-2616ae45683a').head()"
   ]
  },
  {
   "cell_type": "code",
   "execution_count": 378,
   "metadata": {},
   "outputs": [
    {
     "data": {
      "text/html": [
       "<div><style>\n",
       ".dataframe > thead > tr,\n",
       ".dataframe > tbody > tr {\n",
       "  text-align: right;\n",
       "  white-space: pre-wrap;\n",
       "}\n",
       "</style>\n",
       "<small>shape: (5, 13)</small><table border=\"1\" class=\"dataframe\"><thead><tr><th>cohort_id</th><th>condition_name</th><th>drug_concept_id</th><th>drug_name</th><th>affect</th><th>pt_meddra_id</th><th>pt_meddra_term</th><th>ingredients_rxcuis</th><th>cohort_id_right</th><th>condition_name_right</th><th>positive_controls</th><th>SETID</th><th>SPL_VERSION</th></tr><tr><td>i64</td><td>str</td><td>i64</td><td>str</td><td>i64</td><td>i64</td><td>str</td><td>i64</td><td>i64</td><td>str</td><td>i64</td><td>str</td><td>i64</td></tr></thead><tbody><tr><td>500000401</td><td>&quot;acute kidney i…</td><td>1351557</td><td>&quot;candesartan&quot;</td><td>1</td><td>10028596</td><td>&quot;myocardial inf…</td><td>214354</td><td>500000801</td><td>&quot;acute myocardi…</td><td>29</td><td>&quot;1c90aa68-cc12-…</td><td>11</td></tr><tr><td>500000401</td><td>&quot;acute kidney i…</td><td>1351557</td><td>&quot;candesartan&quot;</td><td>1</td><td>10038435</td><td>&quot;renal failure&quot;</td><td>214354</td><td>500000401</td><td>&quot;acute kidney i…</td><td>20</td><td>&quot;1c90aa68-cc12-…</td><td>11</td></tr><tr><td>500000401</td><td>&quot;acute kidney i…</td><td>1351557</td><td>&quot;candesartan&quot;</td><td>1</td><td>10062237</td><td>&quot;renal impairme…</td><td>214354</td><td>500000401</td><td>&quot;acute kidney i…</td><td>8</td><td>&quot;1c90aa68-cc12-…</td><td>11</td></tr><tr><td>500000401</td><td>&quot;acute kidney i…</td><td>1351557</td><td>&quot;candesartan&quot;</td><td>1</td><td>10028596</td><td>&quot;myocardial inf…</td><td>214354</td><td>500000801</td><td>&quot;acute myocardi…</td><td>29</td><td>&quot;1c90aa68-cc12-…</td><td>11</td></tr><tr><td>500000401</td><td>&quot;acute kidney i…</td><td>1351557</td><td>&quot;candesartan&quot;</td><td>1</td><td>10038435</td><td>&quot;renal failure&quot;</td><td>214354</td><td>500000401</td><td>&quot;acute kidney i…</td><td>20</td><td>&quot;1c90aa68-cc12-…</td><td>11</td></tr></tbody></table></div>"
      ],
      "text/plain": [
       "shape: (5, 13)\n",
       "┌───────────┬───────────┬───────────┬───────────┬───┬───────────┬───────────┬───────────┬──────────┐\n",
       "│ cohort_id ┆ condition ┆ drug_conc ┆ drug_name ┆ … ┆ condition ┆ positive_ ┆ SETID     ┆ SPL_VERS │\n",
       "│ ---       ┆ _name     ┆ ept_id    ┆ ---       ┆   ┆ _name_rig ┆ controls  ┆ ---       ┆ ION      │\n",
       "│ i64       ┆ ---       ┆ ---       ┆ str       ┆   ┆ ht        ┆ ---       ┆ str       ┆ ---      │\n",
       "│           ┆ str       ┆ i64       ┆           ┆   ┆ ---       ┆ i64       ┆           ┆ i64      │\n",
       "│           ┆           ┆           ┆           ┆   ┆ str       ┆           ┆           ┆          │\n",
       "╞═══════════╪═══════════╪═══════════╪═══════════╪═══╪═══════════╪═══════════╪═══════════╪══════════╡\n",
       "│ 500000401 ┆ acute     ┆ 1351557   ┆ candesart ┆ … ┆ acute myo ┆ 29        ┆ 1c90aa68- ┆ 11       │\n",
       "│           ┆ kidney    ┆           ┆ an        ┆   ┆ cardial   ┆           ┆ cc12-41ef ┆          │\n",
       "│           ┆ injury    ┆           ┆           ┆   ┆ infarctio ┆           ┆ -aebc-261 ┆          │\n",
       "│           ┆           ┆           ┆           ┆   ┆ n         ┆           ┆ 6ae45…    ┆          │\n",
       "│ 500000401 ┆ acute     ┆ 1351557   ┆ candesart ┆ … ┆ acute     ┆ 20        ┆ 1c90aa68- ┆ 11       │\n",
       "│           ┆ kidney    ┆           ┆ an        ┆   ┆ kidney    ┆           ┆ cc12-41ef ┆          │\n",
       "│           ┆ injury    ┆           ┆           ┆   ┆ injury    ┆           ┆ -aebc-261 ┆          │\n",
       "│           ┆           ┆           ┆           ┆   ┆           ┆           ┆ 6ae45…    ┆          │\n",
       "│ 500000401 ┆ acute     ┆ 1351557   ┆ candesart ┆ … ┆ acute     ┆ 8         ┆ 1c90aa68- ┆ 11       │\n",
       "│           ┆ kidney    ┆           ┆ an        ┆   ┆ kidney    ┆           ┆ cc12-41ef ┆          │\n",
       "│           ┆ injury    ┆           ┆           ┆   ┆ injury    ┆           ┆ -aebc-261 ┆          │\n",
       "│           ┆           ┆           ┆           ┆   ┆           ┆           ┆ 6ae45…    ┆          │\n",
       "│ 500000401 ┆ acute     ┆ 1351557   ┆ candesart ┆ … ┆ acute myo ┆ 29        ┆ 1c90aa68- ┆ 11       │\n",
       "│           ┆ kidney    ┆           ┆ an        ┆   ┆ cardial   ┆           ┆ cc12-41ef ┆          │\n",
       "│           ┆ injury    ┆           ┆           ┆   ┆ infarctio ┆           ┆ -aebc-261 ┆          │\n",
       "│           ┆           ┆           ┆           ┆   ┆ n         ┆           ┆ 6ae45…    ┆          │\n",
       "│ 500000401 ┆ acute     ┆ 1351557   ┆ candesart ┆ … ┆ acute     ┆ 20        ┆ 1c90aa68- ┆ 11       │\n",
       "│           ┆ kidney    ┆           ┆ an        ┆   ┆ kidney    ┆           ┆ cc12-41ef ┆          │\n",
       "│           ┆ injury    ┆           ┆           ┆   ┆ injury    ┆           ┆ -aebc-261 ┆          │\n",
       "│           ┆           ┆           ┆           ┆   ┆           ┆           ┆ 6ae45…    ┆          │\n",
       "└───────────┴───────────┴───────────┴───────────┴───┴───────────┴───────────┴───────────┴──────────┘"
      ]
     },
     "execution_count": 378,
     "metadata": {},
     "output_type": "execute_result"
    }
   ],
   "source": [
    "pryan_set.filter(pl.col('drug_name') == 'candesartan').join(\n",
    "    product_2024_setids.filter(pl.col('SETID') == '1c90aa68-cc12-41ef-aebc-2616ae45683a').head(),\n",
    "    left_on = 'drug_name',\n",
    "    right_on='ingredients_names'\n",
    ")"
   ]
  },
  {
   "cell_type": "code",
   "execution_count": null,
   "metadata": {},
   "outputs": [],
   "source": []
  }
 ],
 "metadata": {
  "kernelspec": {
   "display_name": "llm_cpus",
   "language": "python",
   "name": "python3"
  },
  "language_info": {
   "codemirror_mode": {
    "name": "ipython",
    "version": 3
   },
   "file_extension": ".py",
   "mimetype": "text/x-python",
   "name": "python",
   "nbconvert_exporter": "python",
   "pygments_lexer": "ipython3",
   "version": "3.11.7"
  }
 },
 "nbformat": 4,
 "nbformat_minor": 2
}
