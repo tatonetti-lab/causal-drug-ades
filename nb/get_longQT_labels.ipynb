{
 "cells": [
  {
   "cell_type": "code",
   "execution_count": 15,
   "metadata": {},
   "outputs": [],
   "source": [
    "import polars as pl\n",
    "import pandas as pd"
   ]
  },
  {
   "cell_type": "code",
   "execution_count": 52,
   "metadata": {},
   "outputs": [
    {
     "data": {
      "text/html": [
       "<div><style>\n",
       ".dataframe > thead > tr,\n",
       ".dataframe > tbody > tr {\n",
       "  text-align: right;\n",
       "  white-space: pre-wrap;\n",
       "}\n",
       "</style>\n",
       "<small>shape: (3, 5)</small><table border=\"1\" class=\"dataframe\"><thead><tr><th>drug_name</th><th>drug_class</th><th>thera_use</th><th>pubmed</th><th>literal</th></tr><tr><td>str</td><td>str</td><td>str</td><td>str</td><td>str</td></tr></thead><tbody><tr><td>&quot;papaverine hcl…</td><td>&quot;Vasodilator, C…</td><td>&quot;Diagnostic adj…</td><td>&quot;LINK&quot;</td><td>&quot;papaverine&quot;</td></tr><tr><td>&quot;cesium chlorid…</td><td>&quot;toxin&quot;</td><td>&quot;Alternative th…</td><td>&quot;LINK&quot;</td><td>&quot;cesium chlorid…</td></tr><tr><td>&quot;quizartinib&quot;</td><td>&quot;Tyrosine kinas…</td><td>&quot;Acute myeloid …</td><td>&quot;LINK&quot;</td><td>&quot;quizartinib&quot;</td></tr></tbody></table></div>"
      ],
      "text/plain": [
       "shape: (3, 5)\n",
       "┌──────────────────┬──────────────────────────┬─────────────────────────┬────────┬─────────────────┐\n",
       "│ drug_name        ┆ drug_class               ┆ thera_use               ┆ pubmed ┆ literal         │\n",
       "│ ---              ┆ ---                      ┆ ---                     ┆ ---    ┆ ---             │\n",
       "│ str              ┆ str                      ┆ str                     ┆ str    ┆ str             │\n",
       "╞══════════════════╪══════════════════════════╪═════════════════════════╪════════╪═════════════════╡\n",
       "│ papaverine hcl   ┆ Vasodilator, Coronary    ┆ Diagnostic adjunct      ┆ LINK   ┆ papaverine      │\n",
       "│ (intra-coronary) ┆                          ┆                         ┆        ┆                 │\n",
       "│ cesium chloride  ┆ toxin                    ┆ Alternative therapy     ┆ LINK   ┆ cesium chloride │\n",
       "│                  ┆                          ┆ cancer                  ┆        ┆                 │\n",
       "│ quizartinib      ┆ Tyrosine kinase          ┆ Acute myeloid leukemia  ┆ LINK   ┆ quizartinib     │\n",
       "│                  ┆ inhibitor                ┆                         ┆        ┆                 │\n",
       "└──────────────────┴──────────────────────────┴─────────────────────────┴────────┴─────────────────┘"
      ]
     },
     "execution_count": 52,
     "metadata": {},
     "output_type": "execute_result"
    }
   ],
   "source": [
    "longqt = (\n",
    "    pl.read_csv('../data/longQT.csv',\n",
    "                new_columns=['drug_name', 'drug_class', 'thera_use', 'pubmed'])\n",
    "    .with_columns(\n",
    "        pl.col('drug_name').str.to_lowercase())\n",
    "    .filter(pl.col('drug_name').is_in(['papaverine hcl (intra-coronary)', 'cesium chloride', 'quizartinib']))\n",
    "    .with_columns(\n",
    "        pl.when(pl.col('drug_name') == 'papaverine hcl (intra-coronary)')\n",
    "        .then(pl.lit('papaverine'))\n",
    "        .otherwise(pl.col('drug_name')).alias('drug_name')\n",
    "    )\n",
    "    )\n",
    "longqt.head()"
   ]
  },
  {
   "cell_type": "code",
   "execution_count": 8,
   "metadata": {},
   "outputs": [
    {
     "name": "stdout",
     "output_type": "stream",
     "text": [
      "(2109, 16)\n"
     ]
    },
    {
     "data": {
      "text/html": [
       "<div><style>\n",
       ".dataframe > thead > tr,\n",
       ".dataframe > tbody > tr {\n",
       "  text-align: right;\n",
       "  white-space: pre-wrap;\n",
       "}\n",
       "</style>\n",
       "<small>shape: (5, 16)</small><table border=\"1\" class=\"dataframe\"><thead><tr><th>file</th><th>set_id</th><th>spl_version</th><th>title</th><th>ingredient_rx_cui</th><th>ingredient_name</th><th>pt_meddra_id</th><th>pt_meddra_term</th><th>cohort_id</th><th>condition_name</th><th>positive_controls</th><th>label</th><th>cohort_id_right</th><th>drug_concept_id</th><th>affect</th><th>reference</th></tr><tr><td>str</td><td>str</td><td>i64</td><td>str</td><td>i64</td><td>str</td><td>i64</td><td>str</td><td>i64</td><td>str</td><td>i64</td><td>i64</td><td>i64</td><td>i64</td><td>i64</td><td>i64</td></tr></thead><tbody><tr><td>&quot;../data/2024_l…</td><td>&quot;4e8516dc-a3c6-…</td><td>1</td><td>&quot;These highligh…</td><td>6064</td><td>&quot;isotretinoin&quot;</td><td>10019851</td><td>&quot;hepatotoxicity…</td><td>500000301</td><td>&quot;acute liver in…</td><td>28</td><td>1</td><td>null</td><td>null</td><td>null</td><td>null</td></tr><tr><td>&quot;../data/2024_l…</td><td>&quot;0e98593a-8424-…</td><td>9</td><td>&quot;These highligh…</td><td>20352</td><td>&quot;carvedilol&quot;</td><td>10017955</td><td>&quot;gastrointestin…</td><td>500001001</td><td>&quot;gi bleed&quot;</td><td>21</td><td>1</td><td>null</td><td>null</td><td>null</td><td>null</td></tr><tr><td>&quot;../data/2024_l…</td><td>&quot;5c8cebcd-699f-…</td><td>100</td><td>&quot;These highligh…</td><td>8754</td><td>&quot;propafenone&quot;</td><td>10060795</td><td>&quot;hepatic enzyme…</td><td>500000301</td><td>&quot;acute liver in…</td><td>14</td><td>1</td><td>null</td><td>null</td><td>null</td><td>null</td></tr><tr><td>&quot;../data/2024_l…</td><td>&quot;ab8616a5-ea72-…</td><td>10</td><td>&quot;These highligh…</td><td>40254</td><td>&quot;valproate&quot;</td><td>10018830</td><td>&quot;haematemesis&quot;</td><td>500001001</td><td>&quot;gi bleed&quot;</td><td>11</td><td>1</td><td>null</td><td>null</td><td>null</td><td>null</td></tr><tr><td>&quot;../data/2024_l…</td><td>&quot;10a3fbc9-00c6-…</td><td>1</td><td>&quot;These highligh…</td><td>7646</td><td>&quot;omeprazole&quot;</td><td>10019692</td><td>&quot;hepatic necros…</td><td>500000301</td><td>&quot;acute liver in…</td><td>15</td><td>1</td><td>null</td><td>null</td><td>null</td><td>null</td></tr></tbody></table></div>"
      ],
      "text/plain": [
       "shape: (5, 16)\n",
       "┌────────────┬────────────┬───────────┬───────────┬───┬───────────┬───────────┬────────┬───────────┐\n",
       "│ file       ┆ set_id     ┆ spl_versi ┆ title     ┆ … ┆ cohort_id ┆ drug_conc ┆ affect ┆ reference │\n",
       "│ ---        ┆ ---        ┆ on        ┆ ---       ┆   ┆ _right    ┆ ept_id    ┆ ---    ┆ ---       │\n",
       "│ str        ┆ str        ┆ ---       ┆ str       ┆   ┆ ---       ┆ ---       ┆ i64    ┆ i64       │\n",
       "│            ┆            ┆ i64       ┆           ┆   ┆ i64       ┆ i64       ┆        ┆           │\n",
       "╞════════════╪════════════╪═══════════╪═══════════╪═══╪═══════════╪═══════════╪════════╪═══════════╡\n",
       "│ ../data/20 ┆ 4e8516dc-a ┆ 1         ┆ These hig ┆ … ┆ null      ┆ null      ┆ null   ┆ null      │\n",
       "│ 24_latest_ ┆ 3c6-4d8f-a ┆           ┆ hlights   ┆   ┆           ┆           ┆        ┆           │\n",
       "│ labels/lat ┆ a14-2c37c6 ┆           ┆ do not    ┆   ┆           ┆           ┆        ┆           │\n",
       "│ es…        ┆ c8…        ┆           ┆ include … ┆   ┆           ┆           ┆        ┆           │\n",
       "│ ../data/20 ┆ 0e98593a-8 ┆ 9         ┆ These hig ┆ … ┆ null      ┆ null      ┆ null   ┆ null      │\n",
       "│ 24_latest_ ┆ 424-48c8-a ┆           ┆ hlights   ┆   ┆           ┆           ┆        ┆           │\n",
       "│ labels/lat ┆ cc0-671f4b ┆           ┆ do not    ┆   ┆           ┆           ┆        ┆           │\n",
       "│ es…        ┆ 56…        ┆           ┆ include … ┆   ┆           ┆           ┆        ┆           │\n",
       "│ ../data/20 ┆ 5c8cebcd-6 ┆ 100       ┆ These hig ┆ … ┆ null      ┆ null      ┆ null   ┆ null      │\n",
       "│ 24_latest_ ┆ 99f-4c4c-9 ┆           ┆ hlights   ┆   ┆           ┆           ┆        ┆           │\n",
       "│ labels/lat ┆ 00b-94e0fe ┆           ┆ do not    ┆   ┆           ┆           ┆        ┆           │\n",
       "│ es…        ┆ 51…        ┆           ┆ include … ┆   ┆           ┆           ┆        ┆           │\n",
       "│ ../data/20 ┆ ab8616a5-e ┆ 10        ┆ These hig ┆ … ┆ null      ┆ null      ┆ null   ┆ null      │\n",
       "│ 24_latest_ ┆ a72-4df7-b ┆           ┆ hlights   ┆   ┆           ┆           ┆        ┆           │\n",
       "│ labels/lat ┆ 095-54ea19 ┆           ┆ do not    ┆   ┆           ┆           ┆        ┆           │\n",
       "│ es…        ┆ ef…        ┆           ┆ include … ┆   ┆           ┆           ┆        ┆           │\n",
       "│ ../data/20 ┆ 10a3fbc9-0 ┆ 1         ┆ These hig ┆ … ┆ null      ┆ null      ┆ null   ┆ null      │\n",
       "│ 24_latest_ ┆ 0c6-ad83-e ┆           ┆ hlights   ┆   ┆           ┆           ┆        ┆           │\n",
       "│ labels/lat ┆ 063-6294a9 ┆           ┆ do not    ┆   ┆           ┆           ┆        ┆           │\n",
       "│ es…        ┆ 0a…        ┆           ┆ include … ┆   ┆           ┆           ┆        ┆           │\n",
       "└────────────┴────────────┴───────────┴───────────┴───┴───────────┴───────────┴────────┴───────────┘"
      ]
     },
     "execution_count": 8,
     "metadata": {},
     "output_type": "execute_result"
    }
   ],
   "source": [
    "labels_w_ADRs = pl.read_csv(\"../data/labels_w_ADRs.csv\")\n",
    "print(labels_w_ADRs.shape)\n",
    "labels_w_ADRs.head()"
   ]
  },
  {
   "cell_type": "code",
   "execution_count": 17,
   "metadata": {},
   "outputs": [],
   "source": [
    "adr_section = (\n",
    "pl.read_csv('/Users/undinagisladottir/Documents/Columbia/Tatonetti_Lab/20231113_onsides/adverse_reactions.csv',\n",
    "                        dtypes={\n",
    "                        'pt_meddra_id': pl.Int64,\n",
    "                        'pt_meddra_term': pl.Utf8,\n",
    "                        'num_ingredients':  pl.Int64,\n",
    "                        'ingredients_rxcuis': pl.Utf8,\n",
    "                        'ingredients_names': pl.Utf8\n",
    "                        })\n",
    "                        .filter(pl.col('num_ingredients') == 1)\n",
    "                        .select(\n",
    "                            pl.col('pt_meddra_id'),\n",
    "                            pl.col('pt_meddra_term').str.to_lowercase(),\n",
    "                            pl.col('ingredients_rxcuis').cast(pl.Int64).alias('ingredient_rx_cui'),\n",
    "                            pl.col('ingredients_names').str.to_lowercase().alias('ingredient_name')\n",
    "                            )\n",
    ")\n",
    "\n",
    "box_warnings = (pl.from_pandas(pd.read_csv('/Users/undinagisladottir/Documents/Columbia/Tatonetti_Lab/20231113_onsides/boxed_warnings.csv'))\n",
    "                .filter(pl.col('num_ingredients') == 1)\n",
    "                .select(\n",
    "                    pl.col('pt_meddra_id'),\n",
    "                    pl.col('pt_meddra_term').str.to_lowercase(),\n",
    "                    pl.col('ingredients_rxcuis').cast(pl.Int64).alias('ingredient_rx_cui'),\n",
    "                    pl.col('ingredients_names').str.to_lowercase().alias('ingredient_name')\n",
    "                    )                \n",
    "                )\n",
    "\n",
    "adr_section = pl.concat([adr_section, box_warnings])"
   ]
  },
  {
   "cell_type": "code",
   "execution_count": 18,
   "metadata": {},
   "outputs": [
    {
     "data": {
      "text/html": [
       "<div><style>\n",
       ".dataframe > thead > tr,\n",
       ".dataframe > tbody > tr {\n",
       "  text-align: right;\n",
       "  white-space: pre-wrap;\n",
       "}\n",
       "</style>\n",
       "<small>shape: (5, 4)</small><table border=\"1\" class=\"dataframe\"><thead><tr><th>pt_meddra_id</th><th>pt_meddra_term</th><th>ingredient_rx_cui</th><th>ingredient_name</th></tr><tr><td>i64</td><td>str</td><td>i64</td><td>str</td></tr></thead><tbody><tr><td>10000059</td><td>&quot;abdominal disc…</td><td>6916</td><td>&quot;metolazone&quot;</td></tr><tr><td>10000060</td><td>&quot;abdominal dist…</td><td>6916</td><td>&quot;metolazone&quot;</td></tr><tr><td>10000081</td><td>&quot;abdominal pain…</td><td>6916</td><td>&quot;metolazone&quot;</td></tr><tr><td>10001507</td><td>&quot;agranulocytosi…</td><td>6916</td><td>&quot;metolazone&quot;</td></tr><tr><td>10001682</td><td>&quot;alkalosis hypo…</td><td>6916</td><td>&quot;metolazone&quot;</td></tr></tbody></table></div>"
      ],
      "text/plain": [
       "shape: (5, 4)\n",
       "┌──────────────┬──────────────────────────┬───────────────────┬─────────────────┐\n",
       "│ pt_meddra_id ┆ pt_meddra_term           ┆ ingredient_rx_cui ┆ ingredient_name │\n",
       "│ ---          ┆ ---                      ┆ ---               ┆ ---             │\n",
       "│ i64          ┆ str                      ┆ i64               ┆ str             │\n",
       "╞══════════════╪══════════════════════════╪═══════════════════╪═════════════════╡\n",
       "│ 10000059     ┆ abdominal discomfort     ┆ 6916              ┆ metolazone      │\n",
       "│ 10000060     ┆ abdominal distension     ┆ 6916              ┆ metolazone      │\n",
       "│ 10000081     ┆ abdominal pain           ┆ 6916              ┆ metolazone      │\n",
       "│ 10001507     ┆ agranulocytosis          ┆ 6916              ┆ metolazone      │\n",
       "│ 10001682     ┆ alkalosis hypochloraemic ┆ 6916              ┆ metolazone      │\n",
       "└──────────────┴──────────────────────────┴───────────────────┴─────────────────┘"
      ]
     },
     "execution_count": 18,
     "metadata": {},
     "output_type": "execute_result"
    }
   ],
   "source": [
    "adr_section.head()"
   ]
  },
  {
   "cell_type": "code",
   "execution_count": 41,
   "metadata": {},
   "outputs": [
    {
     "data": {
      "text/html": [
       "<div><style>\n",
       ".dataframe > thead > tr,\n",
       ".dataframe > tbody > tr {\n",
       "  text-align: right;\n",
       "  white-space: pre-wrap;\n",
       "}\n",
       "</style>\n",
       "<small>shape: (2, 2)</small><table border=\"1\" class=\"dataframe\"><thead><tr><th>pt_meddra_term</th><th>pt_meddra_id</th></tr><tr><td>str</td><td>i64</td></tr></thead><tbody><tr><td>&quot;electrocardiog…</td><td>10014387</td></tr><tr><td>&quot;long qt syndro…</td><td>10024803</td></tr></tbody></table></div>"
      ],
      "text/plain": [
       "shape: (2, 2)\n",
       "┌────────────────────────────────┬──────────────┐\n",
       "│ pt_meddra_term                 ┆ pt_meddra_id │\n",
       "│ ---                            ┆ ---          │\n",
       "│ str                            ┆ i64          │\n",
       "╞════════════════════════════════╪══════════════╡\n",
       "│ electrocardiogram qt prolonged ┆ 10014387     │\n",
       "│ long qt syndrome               ┆ 10024803     │\n",
       "└────────────────────────────────┴──────────────┘"
      ]
     },
     "execution_count": 41,
     "metadata": {},
     "output_type": "execute_result"
    }
   ],
   "source": [
    "# get the qt meddra pt terms\n",
    "qt_meddra_pt = (longqt\n",
    " .join(adr_section, left_on='drug_name', right_on='ingredient_name', how='inner')\n",
    " .filter(pl.col('pt_meddra_term').str.contains('(?i)qt'))\n",
    " .select(pl.col('pt_meddra_term'), pl.col('pt_meddra_id')).unique()\n",
    " )\n",
    "qt_meddra_pt"
   ]
  },
  {
   "cell_type": "code",
   "execution_count": 49,
   "metadata": {},
   "outputs": [
    {
     "name": "stdout",
     "output_type": "stream",
     "text": [
      "shape: (3, 3)\n",
      "┌─────────────────────────────────┬───────────────────────────┬────────────────────────────┐\n",
      "│ drug_name                       ┆ drug_class                ┆ thera_use                  │\n",
      "│ ---                             ┆ ---                       ┆ ---                        │\n",
      "│ str                             ┆ str                       ┆ str                        │\n",
      "╞═════════════════════════════════╪═══════════════════════════╪════════════════════════════╡\n",
      "│ papaverine hcl (intra-coronary) ┆ Vasodilator, Coronary     ┆ Diagnostic adjunct         │\n",
      "│ cesium chloride                 ┆ toxin                     ┆ Alternative therapy cancer │\n",
      "│ quizartinib                     ┆ Tyrosine kinase inhibitor ┆ Acute myeloid leukemia     │\n",
      "└─────────────────────────────────┴───────────────────────────┴────────────────────────────┘\n"
     ]
    }
   ],
   "source": [
    "missed_drugs = (longqt\n",
    " .join(adr_section, left_on='drug_name', right_on='ingredient_name', how='left')\n",
    " .filter(pl.col('pt_meddra_id').is_null())\n",
    " .select(pl.col('drug_name'), pl.col('drug_class'), 'thera_use')\n",
    ")\n",
    "print(missed_drugs)"
   ]
  },
  {
   "cell_type": "code",
   "execution_count": null,
   "metadata": {},
   "outputs": [],
   "source": []
  }
 ],
 "metadata": {
  "kernelspec": {
   "display_name": "llm_cpus",
   "language": "python",
   "name": "python3"
  },
  "language_info": {
   "codemirror_mode": {
    "name": "ipython",
    "version": 3
   },
   "file_extension": ".py",
   "mimetype": "text/x-python",
   "name": "python",
   "nbconvert_exporter": "python",
   "pygments_lexer": "ipython3",
   "version": "3.11.7"
  }
 },
 "nbformat": 4,
 "nbformat_minor": 2
}
