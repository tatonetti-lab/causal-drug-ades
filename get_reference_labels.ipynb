{
 "cells": [
  {
   "cell_type": "code",
   "execution_count": 76,
   "id": "03b6be0c",
   "metadata": {},
   "outputs": [],
   "source": [
    "library(tidyverse)\n",
    "library(DBI)\n",
    "library(purrr)\n",
    "library(jsonlite)"
   ]
  },
  {
   "cell_type": "code",
   "execution_count": 77,
   "id": "16fb6ca7",
   "metadata": {},
   "outputs": [],
   "source": [
    "## connect to database\n",
    "con1 <- DBI::dbConnect(\n",
    "    RMySQL::MySQL(), \n",
    "    host = \"localhost\",\n",
    "    user = \"uog2000\",\n",
    "    port = 3307,\n",
    "    dbname = \"user_uog2000\",\n",
    "    password = read_file('/home/uog2000/mimir_setup/password.txt') %>% str_replace('\\n', '')\n",
    ")"
   ]
  },
  {
   "cell_type": "code",
   "execution_count": 6,
   "id": "c0bb8069",
   "metadata": {},
   "outputs": [],
   "source": [
    "referece_ades <- con1 %>% tbl('reference_ades') %>% as_tibble()"
   ]
  },
  {
   "cell_type": "code",
   "execution_count": 15,
   "id": "b02d3c45",
   "metadata": {},
   "outputs": [
    {
     "data": {
      "text/html": [
       "'Acyclovir|Allopurinol|Capreomycin|Captopril|Chlorothiazide|Cyclosporine|Diflunisal|Enalaprilat|Etodolac|Fenoprofen|Hydrochlorothiazide|Ibuprofen|Ketoprofen|Ketorolac|Lisinopril|Mefenamate|Naproxen|Olmesartan medoxomil|Piroxicam|candesartan|meloxicam|moexipril|oxaprozin|telmisartan|Acarbose|Adenosine|Amylases|Benzocaine|Chlorambucil|Chlorazepate|Clozapine|Cosyntropin|Dacarbazine|Dicyclomine|Disulfiram|Endopeptidases|Ergotamine|Flavoxate|Flutamide|Griseofulvin|Hyoscyamine|Imipramine|Ketoconazole|Ketotifen|Lactulose|Lipase|Loratadine|Mebendazole|Methenamine|Methocarbamol|Miconazole|Nelfinavir|Neostigmine|Nortriptyline|Paromomycin|Penicillin V|Phentermine|Phentolamine|Prilocaine|Primidone|Prochlorperazine|Scopolamine|Simethicone|Sodium Phosphate, Monobasic|Temazepam|Tetrahydrocannabinol|Thiabendazole|Thiothixene|Tinidazole|Urea|Vitamin A|almotriptan|benzonatate|bromfenac|darbepoetin alfa|darifenacin|darunavir|eletriptan|entecavir|ferrous gluconate|frovatriptan|gatifloxacin|infliximab|metaxalone|orlistat|ramelteon|rizatriptan|zafirlukast|Acetazolamide|Busulfan|Carbamazepine|Caspofungin|Ciprofloxacin|Didanosine|Diltiazem|Erythromycin|Fluconazole|Indomethacin|Interferon beta-1a|Itraconazole|Lamivudine|Levofloxacin|Methimazole|Methotrexate|Methyldopa|Nevirapine|Niacin|Nifedipine|Nitrofurantoin|Norfloxacin|Ofloxacin|Penicillamine|Propylthiouracil|Ramipril|Rifampin|Stavudine|Sulfisoxazole|Sulindac|Tamoxifen|Tenofovir|Thioguanine|Tolmetin|Valproate|Zalcitabine|Zidovudine|abacavir|alatrofloxacin|bortezomib|bosentan|celecoxib|efavirenz|felbamate|gemcitabine|gemifloxacin|imatinib|isoniazid|lamotrigine|nefazodone|pioglitazone|posaconazole|quinapril|terbinafine|tipranavir|tolcapone|trandolapril|trovafloxacin|voriconazole|Droperidol|Propantheline|Sucralfate|fluticasone|lithium citrate|oxybutynin|salmeterol|sitagliptin|Amlodipine|Amoxapine|Bromocriptine|Desipramine|Dipyridamole|Epoetin Alfa|Estradiol|Estrogens, Conjugated (USP)|Factor VIIa|Flurbiprofen|Salsalate|Sumatriptan|estropipate|nabumetone|naratriptan|zolmitriptan|Clindamycin|Pemoline|Sulfasalazine|Citalopram|Escitalopram|Fluoxetine|Potassium Chloride|Sertraline|clopidogrel|valdecoxib|rosiglitazone'"
      ],
      "text/latex": [
       "'Acyclovir\\textbar{}Allopurinol\\textbar{}Capreomycin\\textbar{}Captopril\\textbar{}Chlorothiazide\\textbar{}Cyclosporine\\textbar{}Diflunisal\\textbar{}Enalaprilat\\textbar{}Etodolac\\textbar{}Fenoprofen\\textbar{}Hydrochlorothiazide\\textbar{}Ibuprofen\\textbar{}Ketoprofen\\textbar{}Ketorolac\\textbar{}Lisinopril\\textbar{}Mefenamate\\textbar{}Naproxen\\textbar{}Olmesartan medoxomil\\textbar{}Piroxicam\\textbar{}candesartan\\textbar{}meloxicam\\textbar{}moexipril\\textbar{}oxaprozin\\textbar{}telmisartan\\textbar{}Acarbose\\textbar{}Adenosine\\textbar{}Amylases\\textbar{}Benzocaine\\textbar{}Chlorambucil\\textbar{}Chlorazepate\\textbar{}Clozapine\\textbar{}Cosyntropin\\textbar{}Dacarbazine\\textbar{}Dicyclomine\\textbar{}Disulfiram\\textbar{}Endopeptidases\\textbar{}Ergotamine\\textbar{}Flavoxate\\textbar{}Flutamide\\textbar{}Griseofulvin\\textbar{}Hyoscyamine\\textbar{}Imipramine\\textbar{}Ketoconazole\\textbar{}Ketotifen\\textbar{}Lactulose\\textbar{}Lipase\\textbar{}Loratadine\\textbar{}Mebendazole\\textbar{}Methenamine\\textbar{}Methocarbamol\\textbar{}Miconazole\\textbar{}Nelfinavir\\textbar{}Neostigmine\\textbar{}Nortriptyline\\textbar{}Paromomycin\\textbar{}Penicillin V\\textbar{}Phentermine\\textbar{}Phentolamine\\textbar{}Prilocaine\\textbar{}Primidone\\textbar{}Prochlorperazine\\textbar{}Scopolamine\\textbar{}Simethicone\\textbar{}Sodium Phosphate, Monobasic\\textbar{}Temazepam\\textbar{}Tetrahydrocannabinol\\textbar{}Thiabendazole\\textbar{}Thiothixene\\textbar{}Tinidazole\\textbar{}Urea\\textbar{}Vitamin A\\textbar{}almotriptan\\textbar{}benzonatate\\textbar{}bromfenac\\textbar{}darbepoetin alfa\\textbar{}darifenacin\\textbar{}darunavir\\textbar{}eletriptan\\textbar{}entecavir\\textbar{}ferrous gluconate\\textbar{}frovatriptan\\textbar{}gatifloxacin\\textbar{}infliximab\\textbar{}metaxalone\\textbar{}orlistat\\textbar{}ramelteon\\textbar{}rizatriptan\\textbar{}zafirlukast\\textbar{}Acetazolamide\\textbar{}Busulfan\\textbar{}Carbamazepine\\textbar{}Caspofungin\\textbar{}Ciprofloxacin\\textbar{}Didanosine\\textbar{}Diltiazem\\textbar{}Erythromycin\\textbar{}Fluconazole\\textbar{}Indomethacin\\textbar{}Interferon beta-1a\\textbar{}Itraconazole\\textbar{}Lamivudine\\textbar{}Levofloxacin\\textbar{}Methimazole\\textbar{}Methotrexate\\textbar{}Methyldopa\\textbar{}Nevirapine\\textbar{}Niacin\\textbar{}Nifedipine\\textbar{}Nitrofurantoin\\textbar{}Norfloxacin\\textbar{}Ofloxacin\\textbar{}Penicillamine\\textbar{}Propylthiouracil\\textbar{}Ramipril\\textbar{}Rifampin\\textbar{}Stavudine\\textbar{}Sulfisoxazole\\textbar{}Sulindac\\textbar{}Tamoxifen\\textbar{}Tenofovir\\textbar{}Thioguanine\\textbar{}Tolmetin\\textbar{}Valproate\\textbar{}Zalcitabine\\textbar{}Zidovudine\\textbar{}abacavir\\textbar{}alatrofloxacin\\textbar{}bortezomib\\textbar{}bosentan\\textbar{}celecoxib\\textbar{}efavirenz\\textbar{}felbamate\\textbar{}gemcitabine\\textbar{}gemifloxacin\\textbar{}imatinib\\textbar{}isoniazid\\textbar{}lamotrigine\\textbar{}nefazodone\\textbar{}pioglitazone\\textbar{}posaconazole\\textbar{}quinapril\\textbar{}terbinafine\\textbar{}tipranavir\\textbar{}tolcapone\\textbar{}trandolapril\\textbar{}trovafloxacin\\textbar{}voriconazole\\textbar{}Droperidol\\textbar{}Propantheline\\textbar{}Sucralfate\\textbar{}fluticasone\\textbar{}lithium citrate\\textbar{}oxybutynin\\textbar{}salmeterol\\textbar{}sitagliptin\\textbar{}Amlodipine\\textbar{}Amoxapine\\textbar{}Bromocriptine\\textbar{}Desipramine\\textbar{}Dipyridamole\\textbar{}Epoetin Alfa\\textbar{}Estradiol\\textbar{}Estrogens, Conjugated (USP)\\textbar{}Factor VIIa\\textbar{}Flurbiprofen\\textbar{}Salsalate\\textbar{}Sumatriptan\\textbar{}estropipate\\textbar{}nabumetone\\textbar{}naratriptan\\textbar{}zolmitriptan\\textbar{}Clindamycin\\textbar{}Pemoline\\textbar{}Sulfasalazine\\textbar{}Citalopram\\textbar{}Escitalopram\\textbar{}Fluoxetine\\textbar{}Potassium Chloride\\textbar{}Sertraline\\textbar{}clopidogrel\\textbar{}valdecoxib\\textbar{}rosiglitazone'"
      ],
      "text/markdown": [
       "'Acyclovir|Allopurinol|Capreomycin|Captopril|Chlorothiazide|Cyclosporine|Diflunisal|Enalaprilat|Etodolac|Fenoprofen|Hydrochlorothiazide|Ibuprofen|Ketoprofen|Ketorolac|Lisinopril|Mefenamate|Naproxen|Olmesartan medoxomil|Piroxicam|candesartan|meloxicam|moexipril|oxaprozin|telmisartan|Acarbose|Adenosine|Amylases|Benzocaine|Chlorambucil|Chlorazepate|Clozapine|Cosyntropin|Dacarbazine|Dicyclomine|Disulfiram|Endopeptidases|Ergotamine|Flavoxate|Flutamide|Griseofulvin|Hyoscyamine|Imipramine|Ketoconazole|Ketotifen|Lactulose|Lipase|Loratadine|Mebendazole|Methenamine|Methocarbamol|Miconazole|Nelfinavir|Neostigmine|Nortriptyline|Paromomycin|Penicillin V|Phentermine|Phentolamine|Prilocaine|Primidone|Prochlorperazine|Scopolamine|Simethicone|Sodium Phosphate, Monobasic|Temazepam|Tetrahydrocannabinol|Thiabendazole|Thiothixene|Tinidazole|Urea|Vitamin A|almotriptan|benzonatate|bromfenac|darbepoetin alfa|darifenacin|darunavir|eletriptan|entecavir|ferrous gluconate|frovatriptan|gatifloxacin|infliximab|metaxalone|orlistat|ramelteon|rizatriptan|zafirlukast|Acetazolamide|Busulfan|Carbamazepine|Caspofungin|Ciprofloxacin|Didanosine|Diltiazem|Erythromycin|Fluconazole|Indomethacin|Interferon beta-1a|Itraconazole|Lamivudine|Levofloxacin|Methimazole|Methotrexate|Methyldopa|Nevirapine|Niacin|Nifedipine|Nitrofurantoin|Norfloxacin|Ofloxacin|Penicillamine|Propylthiouracil|Ramipril|Rifampin|Stavudine|Sulfisoxazole|Sulindac|Tamoxifen|Tenofovir|Thioguanine|Tolmetin|Valproate|Zalcitabine|Zidovudine|abacavir|alatrofloxacin|bortezomib|bosentan|celecoxib|efavirenz|felbamate|gemcitabine|gemifloxacin|imatinib|isoniazid|lamotrigine|nefazodone|pioglitazone|posaconazole|quinapril|terbinafine|tipranavir|tolcapone|trandolapril|trovafloxacin|voriconazole|Droperidol|Propantheline|Sucralfate|fluticasone|lithium citrate|oxybutynin|salmeterol|sitagliptin|Amlodipine|Amoxapine|Bromocriptine|Desipramine|Dipyridamole|Epoetin Alfa|Estradiol|Estrogens, Conjugated (USP)|Factor VIIa|Flurbiprofen|Salsalate|Sumatriptan|estropipate|nabumetone|naratriptan|zolmitriptan|Clindamycin|Pemoline|Sulfasalazine|Citalopram|Escitalopram|Fluoxetine|Potassium Chloride|Sertraline|clopidogrel|valdecoxib|rosiglitazone'"
      ],
      "text/plain": [
       "[1] \"Acyclovir|Allopurinol|Capreomycin|Captopril|Chlorothiazide|Cyclosporine|Diflunisal|Enalaprilat|Etodolac|Fenoprofen|Hydrochlorothiazide|Ibuprofen|Ketoprofen|Ketorolac|Lisinopril|Mefenamate|Naproxen|Olmesartan medoxomil|Piroxicam|candesartan|meloxicam|moexipril|oxaprozin|telmisartan|Acarbose|Adenosine|Amylases|Benzocaine|Chlorambucil|Chlorazepate|Clozapine|Cosyntropin|Dacarbazine|Dicyclomine|Disulfiram|Endopeptidases|Ergotamine|Flavoxate|Flutamide|Griseofulvin|Hyoscyamine|Imipramine|Ketoconazole|Ketotifen|Lactulose|Lipase|Loratadine|Mebendazole|Methenamine|Methocarbamol|Miconazole|Nelfinavir|Neostigmine|Nortriptyline|Paromomycin|Penicillin V|Phentermine|Phentolamine|Prilocaine|Primidone|Prochlorperazine|Scopolamine|Simethicone|Sodium Phosphate, Monobasic|Temazepam|Tetrahydrocannabinol|Thiabendazole|Thiothixene|Tinidazole|Urea|Vitamin A|almotriptan|benzonatate|bromfenac|darbepoetin alfa|darifenacin|darunavir|eletriptan|entecavir|ferrous gluconate|frovatriptan|gatifloxacin|infliximab|metaxalone|orlistat|ramelteon|rizatriptan|zafirlukast|Acetazolamide|Busulfan|Carbamazepine|Caspofungin|Ciprofloxacin|Didanosine|Diltiazem|Erythromycin|Fluconazole|Indomethacin|Interferon beta-1a|Itraconazole|Lamivudine|Levofloxacin|Methimazole|Methotrexate|Methyldopa|Nevirapine|Niacin|Nifedipine|Nitrofurantoin|Norfloxacin|Ofloxacin|Penicillamine|Propylthiouracil|Ramipril|Rifampin|Stavudine|Sulfisoxazole|Sulindac|Tamoxifen|Tenofovir|Thioguanine|Tolmetin|Valproate|Zalcitabine|Zidovudine|abacavir|alatrofloxacin|bortezomib|bosentan|celecoxib|efavirenz|felbamate|gemcitabine|gemifloxacin|imatinib|isoniazid|lamotrigine|nefazodone|pioglitazone|posaconazole|quinapril|terbinafine|tipranavir|tolcapone|trandolapril|trovafloxacin|voriconazole|Droperidol|Propantheline|Sucralfate|fluticasone|lithium citrate|oxybutynin|salmeterol|sitagliptin|Amlodipine|Amoxapine|Bromocriptine|Desipramine|Dipyridamole|Epoetin Alfa|Estradiol|Estrogens, Conjugated (USP)|Factor VIIa|Flurbiprofen|Salsalate|Sumatriptan|estropipate|nabumetone|naratriptan|zolmitriptan|Clindamycin|Pemoline|Sulfasalazine|Citalopram|Escitalopram|Fluoxetine|Potassium Chloride|Sertraline|clopidogrel|valdecoxib|rosiglitazone\""
      ]
     },
     "metadata": {},
     "output_type": "display_data"
    }
   ],
   "source": [
    "paste0(unique(referece_ades$drug_name), collapse = '|')"
   ]
  },
  {
   "cell_type": "code",
   "execution_count": 18,
   "id": "c45c8a7b",
   "metadata": {},
   "outputs": [],
   "source": [
    "path <- \"../drug_labels/latest_labels_ingredients/\"\n",
    "files <- dir(path, pattern = \"*.json\")"
   ]
  },
  {
   "cell_type": "code",
   "execution_count": 33,
   "id": "ff20a262",
   "metadata": {},
   "outputs": [
    {
     "data": {
      "text/html": [
       "<table>\n",
       "<caption>A tibble: 6 × 5</caption>\n",
       "<thead>\n",
       "\t<tr><th scope=col>set_id</th><th scope=col>label_id</th><th scope=col>spl_version</th><th scope=col>sections</th><th scope=col>title</th></tr>\n",
       "\t<tr><th scope=col>&lt;chr&gt;</th><th scope=col>&lt;chr&gt;</th><th scope=col>&lt;chr&gt;</th><th scope=col>&lt;named list&gt;</th><th scope=col>&lt;chr&gt;</th></tr>\n",
       "</thead>\n",
       "<tbody>\n",
       "\t<tr><td>1612d931-d86e-4dba-bbd7-0aac3eaee131</td><td>B08BDAA0-28F1-6D59-3526-C965D2DB1A6F</td><td>1</td><td>ADVERSE REACTIONS\n",
       "Adverse reactions include, in decreasing order of frequency, elevation of intraocular pressure (IOP) with possible development of glaucoma and infrequent optic nerve damage, posterior subcapsular cataract formation, and delayed wound healing.Although systemic effects are extremely uncommon, there have been rare occurrences of systemic hypercorticoidism after use of topical steroids.Corticosteroid-containing preparations have also been reported to cause acute anterior uveitis and perforation of the globe. Keratitis, conjunctivitis, corneal ulcers, mydriasis, conjunctival hyperemia, loss of accommodation and ptosis have occasionally been reported following local use of corticosteroids.The development of secondary ocular infection (bacterial, fungal and viral) has occurred. Fungal and viral infections of the cornea are particularly prone to develop coincidentally with long-term applications of steroids. The possibility of fungal invasion should be considered in any persistent corneal ulceration where steroid treatment has been used (see WARNINGS).Transient burning and stinging upon instillation and other minor symptoms of ocular irritation have been reported with the use of HMS® suspension.  Other adverse events reported with the use of HMS® suspension include: allergic reactions, foreign body sensation, and visual disturbance (blurry vision).</td><td>HMS®(medrysone ophthalmic suspension) 1%          </td></tr>\n",
       "\t<tr><td>1612d931-d86e-4dba-bbd7-0aac3eaee131</td><td>B08BDAA0-28F1-6D59-3526-C965D2DB1A6F</td><td>1</td><td>WARNINGS\n",
       "HMS® (medrysone ophthalmic suspension) is not recommended for use in iritis and uveitis as its therapeutic effectiveness has not been demonstrated in these conditions.Prolonged use of corticosteroids may result in glaucoma with damage to the optic nerve, defects in visual acuity and fields of vision, and in posterior subcapsular cataract formation. Prolonged use may also suppress the host immune response and thus increase the hazard of secondary ocular infections.Various ocular diseases and long-term use of topical corticosteroids have been known to cause corneal and scleral thinning. Use of topical corticosteroids in the presence of thin corneal or scleral tissue may lead to perforation.Acute purulent infections of the eye may be masked or activity enhanced by the presence of corticosteroid medication.If this product is used for 10 days or longer, intraocular pressure should be routinely monitored even though it may be difficult in children and uncooperative patients.Steroids should be used with caution in the presence of glaucoma. Intraocular pressure should be checked frequently.The use of steroids after cataract surgery may delay healing and increase the incidence of bleb formation.Use of ocular steroids may prolong the course and may exacerbate the severity of many viral infections of the eye (including herpes simplex). Employment of a corticosteroid medication in the treatment of patients with a history of herpes simplex requires great caution; frequent slit lamp microscopy is recommended.Corticosteroids are not effective in mustard gas keratitis and Sjögren's keratoconjunctivitis.</td><td>HMS®(medrysone ophthalmic suspension) 1%          </td></tr>\n",
       "\t<tr><td>1612d931-d86e-4dba-bbd7-0aac3eaee131</td><td>B08BDAA0-28F1-6D59-3526-C965D2DB1A6F</td><td>1</td><td>PRECAUTIONS\n",
       "\n",
       "\n",
       "\n",
       "\n",
       "\n",
       "General:\n",
       "The initial prescription and renewal of the medication order beyond 20 milliliters of HMS® suspension should be made by a physician only after examination of the patient with the aid of magnification, such as slit lamp biomicroscopy and, where appropriate, fluorescein staining. If signs and symptoms fail to improve after two days, the patient should be re-evaluated.As fungal infections of the cornea are particularly prone to develop coincidentally with long-term local corticosteroid applications, fungal invasion should be suspected in any persistent corneal ulceration where a corticosteroid has been used or is in use. Fungal cultures should be taken when appropriate.If this product is used for 10 days or longer, intraocular pressure should be monitored (see WARNINGS).\n",
       "\n",
       "\n",
       "\n",
       "\n",
       "\n",
       "\n",
       "\n",
       "Information for Patients:\n",
       "If inflammation or pain persists longer than 48 hours or becomes aggravated, the patient should be advised to discontinue use of the medication and consult a physician.This product is sterile when packaged. To prevent contamination, care should be taken to avoid touching the bottle tip to eyelids or to any other surface. The use of this bottle by more than one person may spread infection. Keep bottle tightly closed when not in use. Keep out of the reach of children.\n",
       "\n",
       "\n",
       "\n",
       "\n",
       "\n",
       "\n",
       "\n",
       "Carcinogenesis, Mutagenesis, Impairment of Fertility:\n",
       "No studies have been conducted in animals or in humans to evaluate the potential of these effects.\n",
       "\n",
       "\n",
       "\n",
       "\n",
       "\n",
       "\n",
       "\n",
       "Pregnancy:\n",
       "\n",
       "\n",
       "\n",
       "\n",
       "\n",
       "Teratogenic effects. Pregnancy Category C. Medrysone has been shown to be embryocidal in rabbits when given in doses 10 and 30 times the human ocular dose. Two drops of medrysone were applied to both eyes of pregnant rabbits 4 times per day on day 6 through 18 of gestation.  A significant increase in early resorptions was observed in the treated rabbits. There are no adequate and well-controlled studies of medrysone in pregnant women. Medrysone should be used during pregnancy only if the potential benefit justifies the potential risk to the fetus.\n",
       "\n",
       "\n",
       "\n",
       "\n",
       "\n",
       "\n",
       "\n",
       "\n",
       "\n",
       "Nursing Mothers:\n",
       "It is not known whether topical ophthalmic administration of corticosteroids could result in sufficient systemic absorption to produce detectable quantities in human breast milk. Systemically administered corticosteroids appear in human milk and could suppress growth, interfere with endogenous corticosteroid production, or cause other untoward effects. Because of the potential for serious adverse reactions in nursing infants from medrysone, a decision should be made whether to discontinue nursing or to discontinue the drug, taking into account the importance of the drug to the mother.\n",
       "\n",
       "\n",
       "\n",
       "\n",
       "\n",
       "\n",
       "\n",
       "Pediatric Use:\n",
       "Safety and effectiveness in pediatric patients below the age of 3 years have not been established.\n",
       "\n",
       "\n",
       "\n",
       "\n",
       "\n",
       "\n",
       "\n",
       "Geriatric Use:\n",
       "No overall differences in safety or effectiveness have been observed between elderly and younger patients.</td><td>HMS®(medrysone ophthalmic suspension) 1%          </td></tr>\n",
       "\t<tr><td>1612d931-d86e-4dba-bbd7-0aac3eaee131</td><td>B08BDAA0-28F1-6D59-3526-C965D2DB1A6F</td><td>1</td><td>OVERDOSAGE\n",
       "Overdosage will not ordinarily cause acute problems.  If accidentally ingested, drink fluids to dilute.</td><td>HMS®(medrysone ophthalmic suspension) 1%          </td></tr>\n",
       "\t<tr><td>312042cf-df60-4dc5-90dd-4e77ebd4a781</td><td>312042cf-df60-4dc5-90dd-4e77ebd4a781</td><td>1</td><td>ADVERSE REACTIONS\n",
       "Careful observation should be made for severe cholinergic reactions in the hyperreactive individual. The myasthenic patient in\n",
       "\t\t\t\t\t\t\tcrisis who is being tested with ENLON should be observed for bradycardia or cardiac standstill and cholinergic reactions if an overdose is given.The following reactions common to anticholinesterase agents may occur, although not all of these reactions have been reported with\n",
       "\t\t\t\t\t\t\tthe administration of ENLON, probably because of its short duration of action and limited indications:\n",
       "\n",
       "\n",
       "Eye:Increased lacrimation, pupillary constriction, spasm of accommodation, diplopia, conjunctival hyperemia.\n",
       "CNS:Convulsions, dysarthria, dysphonia, dysphagia.\n",
       "Respiratory:Increased tracheobronchial secretions, laryngospasm, bronchiolar constriction, paralysis of muscles of respiration, central respiratory\n",
       "\t\t\t\t\t\t\t\t\tparalysis.\n",
       "Cardiac:Arrhythmias (especially bradycardia), fall in cardiac output leading to hypotension.\n",
       "G.I.:Increased salivary, gastric and intestinal secretion, nausea, vomiting, increased peristalsis, diarrhea, abdominal cramps.\n",
       "Skeletal Muscle:Weakness, fasciculations.\n",
       "Miscellaneous:Increased urinary frequency and incontinence, diaphoresis.</td><td>ENLON (edrophonium chloride injection, USP)Rx only</td></tr>\n",
       "\t<tr><td>312042cf-df60-4dc5-90dd-4e77ebd4a781</td><td>312042cf-df60-4dc5-90dd-4e77ebd4a781</td><td>1</td><td>WARNINGS\n",
       "Whenever anticholinesterase drugs are used for testing, a syringe containing 1 mg of atropine sulfate should be immediately\n",
       "\t\t\t\t\t\t\tavailable to be given in aliquots intravenously to counteract severe cholinergic reactions which may occur in the hypersensitive individual, whether he is normal or myasthenic. ENLON\n",
       "\t\t\t\t\t\t\tshould be used with caution in patients with bronchial asthma or cardiac dysrhythmias. The transient bradycardia which sometimes occurs can be relieved by atropine sulfate. Isolated\n",
       "\t\t\t\t\t\t\tinstances of cardiac and respiratory arrest following administration of ENLON have been reported. It is postulated that these are vagotonic effects.Contains sodium sulfite, a sulfite that may cause allergic-type reactions including anaphylactic symptoms and life-threatening or\n",
       "\t\t\t\t\t\t\tless severe asthmatic episodes in certain susceptible people. The overall prevalence of sulfite sensitivity in the general population is unknown and probably low. Sulfite sensitivity is\n",
       "\t\t\t\t\t\t\tseen more frequently in asthmatic than in nonasthmatic people.\n",
       "\n",
       "\n",
       "\n",
       "\n",
       "Usage in Pregnancy\n",
       "The safety of ENLON during pregnancy or lactation in humans has not been established. Therefore, use of ENLON in women who may\n",
       "\t\t\t\t\t\t\t\t\tbecome pregnant requires weighing the drug’s potential benefits against its possible hazards to mother and child.</td><td>ENLON (edrophonium chloride injection, USP)Rx only</td></tr>\n",
       "</tbody>\n",
       "</table>\n"
      ],
      "text/latex": [
       "A tibble: 6 × 5\n",
       "\\begin{tabular}{lllll}\n",
       " set\\_id & label\\_id & spl\\_version & sections & title\\\\\n",
       " <chr> & <chr> & <chr> & <named list> & <chr>\\\\\n",
       "\\hline\n",
       "\t 1612d931-d86e-4dba-bbd7-0aac3eaee131 & B08BDAA0-28F1-6D59-3526-C965D2DB1A6F & 1 & ADVERSE REACTIONS\n",
       "Adverse reactions include, in decreasing order of frequency, elevation of intraocular pressure (IOP) with possible development of glaucoma and infrequent optic nerve damage, posterior subcapsular cataract formation, and delayed wound healing.Although systemic effects are extremely uncommon, there have been rare occurrences of systemic hypercorticoidism after use of topical steroids.Corticosteroid-containing preparations have also been reported to cause acute anterior uveitis and perforation of the globe. Keratitis, conjunctivitis, corneal ulcers, mydriasis, conjunctival hyperemia, loss of accommodation and ptosis have occasionally been reported following local use of corticosteroids.The development of secondary ocular infection (bacterial, fungal and viral) has occurred. Fungal and viral infections of the cornea are particularly prone to develop coincidentally with long-term applications of steroids. The possibility of fungal invasion should be considered in any persistent corneal ulceration where steroid treatment has been used (see WARNINGS).Transient burning and stinging upon instillation and other minor symptoms of ocular irritation have been reported with the use of HMS® suspension.  Other adverse events reported with the use of HMS® suspension include: allergic reactions, foreign body sensation, and visual disturbance (blurry vision). & HMS®(medrysone ophthalmic suspension) 1\\%          \\\\\n",
       "\t 1612d931-d86e-4dba-bbd7-0aac3eaee131 & B08BDAA0-28F1-6D59-3526-C965D2DB1A6F & 1 & WARNINGS\n",
       "HMS® (medrysone ophthalmic suspension) is not recommended for use in iritis and uveitis as its therapeutic effectiveness has not been demonstrated in these conditions.Prolonged use of corticosteroids may result in glaucoma with damage to the optic nerve, defects in visual acuity and fields of vision, and in posterior subcapsular cataract formation. Prolonged use may also suppress the host immune response and thus increase the hazard of secondary ocular infections.Various ocular diseases and long-term use of topical corticosteroids have been known to cause corneal and scleral thinning. Use of topical corticosteroids in the presence of thin corneal or scleral tissue may lead to perforation.Acute purulent infections of the eye may be masked or activity enhanced by the presence of corticosteroid medication.If this product is used for 10 days or longer, intraocular pressure should be routinely monitored even though it may be difficult in children and uncooperative patients.Steroids should be used with caution in the presence of glaucoma. Intraocular pressure should be checked frequently.The use of steroids after cataract surgery may delay healing and increase the incidence of bleb formation.Use of ocular steroids may prolong the course and may exacerbate the severity of many viral infections of the eye (including herpes simplex). Employment of a corticosteroid medication in the treatment of patients with a history of herpes simplex requires great caution; frequent slit lamp microscopy is recommended.Corticosteroids are not effective in mustard gas keratitis and Sjögren's keratoconjunctivitis. & HMS®(medrysone ophthalmic suspension) 1\\%          \\\\\n",
       "\t 1612d931-d86e-4dba-bbd7-0aac3eaee131 & B08BDAA0-28F1-6D59-3526-C965D2DB1A6F & 1 & PRECAUTIONS\n",
       "\n",
       "\n",
       "\n",
       "\n",
       "\n",
       "General:\n",
       "The initial prescription and renewal of the medication order beyond 20 milliliters of HMS® suspension should be made by a physician only after examination of the patient with the aid of magnification, such as slit lamp biomicroscopy and, where appropriate, fluorescein staining. If signs and symptoms fail to improve after two days, the patient should be re-evaluated.As fungal infections of the cornea are particularly prone to develop coincidentally with long-term local corticosteroid applications, fungal invasion should be suspected in any persistent corneal ulceration where a corticosteroid has been used or is in use. Fungal cultures should be taken when appropriate.If this product is used for 10 days or longer, intraocular pressure should be monitored (see WARNINGS).\n",
       "\n",
       "\n",
       "\n",
       "\n",
       "\n",
       "\n",
       "\n",
       "Information for Patients:\n",
       "If inflammation or pain persists longer than 48 hours or becomes aggravated, the patient should be advised to discontinue use of the medication and consult a physician.This product is sterile when packaged. To prevent contamination, care should be taken to avoid touching the bottle tip to eyelids or to any other surface. The use of this bottle by more than one person may spread infection. Keep bottle tightly closed when not in use. Keep out of the reach of children.\n",
       "\n",
       "\n",
       "\n",
       "\n",
       "\n",
       "\n",
       "\n",
       "Carcinogenesis, Mutagenesis, Impairment of Fertility:\n",
       "No studies have been conducted in animals or in humans to evaluate the potential of these effects.\n",
       "\n",
       "\n",
       "\n",
       "\n",
       "\n",
       "\n",
       "\n",
       "Pregnancy:\n",
       "\n",
       "\n",
       "\n",
       "\n",
       "\n",
       "Teratogenic effects. Pregnancy Category C. Medrysone has been shown to be embryocidal in rabbits when given in doses 10 and 30 times the human ocular dose. Two drops of medrysone were applied to both eyes of pregnant rabbits 4 times per day on day 6 through 18 of gestation.  A significant increase in early resorptions was observed in the treated rabbits. There are no adequate and well-controlled studies of medrysone in pregnant women. Medrysone should be used during pregnancy only if the potential benefit justifies the potential risk to the fetus.\n",
       "\n",
       "\n",
       "\n",
       "\n",
       "\n",
       "\n",
       "\n",
       "\n",
       "\n",
       "Nursing Mothers:\n",
       "It is not known whether topical ophthalmic administration of corticosteroids could result in sufficient systemic absorption to produce detectable quantities in human breast milk. Systemically administered corticosteroids appear in human milk and could suppress growth, interfere with endogenous corticosteroid production, or cause other untoward effects. Because of the potential for serious adverse reactions in nursing infants from medrysone, a decision should be made whether to discontinue nursing or to discontinue the drug, taking into account the importance of the drug to the mother.\n",
       "\n",
       "\n",
       "\n",
       "\n",
       "\n",
       "\n",
       "\n",
       "Pediatric Use:\n",
       "Safety and effectiveness in pediatric patients below the age of 3 years have not been established.\n",
       "\n",
       "\n",
       "\n",
       "\n",
       "\n",
       "\n",
       "\n",
       "Geriatric Use:\n",
       "No overall differences in safety or effectiveness have been observed between elderly and younger patients. & HMS®(medrysone ophthalmic suspension) 1\\%          \\\\\n",
       "\t 1612d931-d86e-4dba-bbd7-0aac3eaee131 & B08BDAA0-28F1-6D59-3526-C965D2DB1A6F & 1 & OVERDOSAGE\n",
       "Overdosage will not ordinarily cause acute problems.  If accidentally ingested, drink fluids to dilute. & HMS®(medrysone ophthalmic suspension) 1\\%          \\\\\n",
       "\t 312042cf-df60-4dc5-90dd-4e77ebd4a781 & 312042cf-df60-4dc5-90dd-4e77ebd4a781 & 1 & ADVERSE REACTIONS\n",
       "Careful observation should be made for severe cholinergic reactions in the hyperreactive individual. The myasthenic patient in\n",
       "\t\t\t\t\t\t\tcrisis who is being tested with ENLON should be observed for bradycardia or cardiac standstill and cholinergic reactions if an overdose is given.The following reactions common to anticholinesterase agents may occur, although not all of these reactions have been reported with\n",
       "\t\t\t\t\t\t\tthe administration of ENLON, probably because of its short duration of action and limited indications:\n",
       "\n",
       "\n",
       "Eye:Increased lacrimation, pupillary constriction, spasm of accommodation, diplopia, conjunctival hyperemia.\n",
       "CNS:Convulsions, dysarthria, dysphonia, dysphagia.\n",
       "Respiratory:Increased tracheobronchial secretions, laryngospasm, bronchiolar constriction, paralysis of muscles of respiration, central respiratory\n",
       "\t\t\t\t\t\t\t\t\tparalysis.\n",
       "Cardiac:Arrhythmias (especially bradycardia), fall in cardiac output leading to hypotension.\n",
       "G.I.:Increased salivary, gastric and intestinal secretion, nausea, vomiting, increased peristalsis, diarrhea, abdominal cramps.\n",
       "Skeletal Muscle:Weakness, fasciculations.\n",
       "Miscellaneous:Increased urinary frequency and incontinence, diaphoresis. & ENLON (edrophonium chloride injection, USP)Rx only\\\\\n",
       "\t 312042cf-df60-4dc5-90dd-4e77ebd4a781 & 312042cf-df60-4dc5-90dd-4e77ebd4a781 & 1 & WARNINGS\n",
       "Whenever anticholinesterase drugs are used for testing, a syringe containing 1 mg of atropine sulfate should be immediately\n",
       "\t\t\t\t\t\t\tavailable to be given in aliquots intravenously to counteract severe cholinergic reactions which may occur in the hypersensitive individual, whether he is normal or myasthenic. ENLON\n",
       "\t\t\t\t\t\t\tshould be used with caution in patients with bronchial asthma or cardiac dysrhythmias. The transient bradycardia which sometimes occurs can be relieved by atropine sulfate. Isolated\n",
       "\t\t\t\t\t\t\tinstances of cardiac and respiratory arrest following administration of ENLON have been reported. It is postulated that these are vagotonic effects.Contains sodium sulfite, a sulfite that may cause allergic-type reactions including anaphylactic symptoms and life-threatening or\n",
       "\t\t\t\t\t\t\tless severe asthmatic episodes in certain susceptible people. The overall prevalence of sulfite sensitivity in the general population is unknown and probably low. Sulfite sensitivity is\n",
       "\t\t\t\t\t\t\tseen more frequently in asthmatic than in nonasthmatic people.\n",
       "\n",
       "\n",
       "\n",
       "\n",
       "Usage in Pregnancy\n",
       "The safety of ENLON during pregnancy or lactation in humans has not been established. Therefore, use of ENLON in women who may\n",
       "\t\t\t\t\t\t\t\t\tbecome pregnant requires weighing the drug’s potential benefits against its possible hazards to mother and child. & ENLON (edrophonium chloride injection, USP)Rx only\\\\\n",
       "\\end{tabular}\n"
      ],
      "text/markdown": [
       "\n",
       "A tibble: 6 × 5\n",
       "\n",
       "| set_id &lt;chr&gt; | label_id &lt;chr&gt; | spl_version &lt;chr&gt; | sections &lt;named list&gt; | title &lt;chr&gt; |\n",
       "|---|---|---|---|---|\n",
       "| 1612d931-d86e-4dba-bbd7-0aac3eaee131 | B08BDAA0-28F1-6D59-3526-C965D2DB1A6F | 1 | ADVERSE REACTIONS\n",
       "Adverse reactions include, in decreasing order of frequency, elevation of intraocular pressure (IOP) with possible development of glaucoma and infrequent optic nerve damage, posterior subcapsular cataract formation, and delayed wound healing.Although systemic effects are extremely uncommon, there have been rare occurrences of systemic hypercorticoidism after use of topical steroids.Corticosteroid-containing preparations have also been reported to cause acute anterior uveitis and perforation of the globe. Keratitis, conjunctivitis, corneal ulcers, mydriasis, conjunctival hyperemia, loss of accommodation and ptosis have occasionally been reported following local use of corticosteroids.The development of secondary ocular infection (bacterial, fungal and viral) has occurred. Fungal and viral infections of the cornea are particularly prone to develop coincidentally with long-term applications of steroids. The possibility of fungal invasion should be considered in any persistent corneal ulceration where steroid treatment has been used (see WARNINGS).Transient burning and stinging upon instillation and other minor symptoms of ocular irritation have been reported with the use of HMS® suspension.  Other adverse events reported with the use of HMS® suspension include: allergic reactions, foreign body sensation, and visual disturbance (blurry vision). | HMS®(medrysone ophthalmic suspension) 1%           |\n",
       "| 1612d931-d86e-4dba-bbd7-0aac3eaee131 | B08BDAA0-28F1-6D59-3526-C965D2DB1A6F | 1 | WARNINGS\n",
       "HMS® (medrysone ophthalmic suspension) is not recommended for use in iritis and uveitis as its therapeutic effectiveness has not been demonstrated in these conditions.Prolonged use of corticosteroids may result in glaucoma with damage to the optic nerve, defects in visual acuity and fields of vision, and in posterior subcapsular cataract formation. Prolonged use may also suppress the host immune response and thus increase the hazard of secondary ocular infections.Various ocular diseases and long-term use of topical corticosteroids have been known to cause corneal and scleral thinning. Use of topical corticosteroids in the presence of thin corneal or scleral tissue may lead to perforation.Acute purulent infections of the eye may be masked or activity enhanced by the presence of corticosteroid medication.If this product is used for 10 days or longer, intraocular pressure should be routinely monitored even though it may be difficult in children and uncooperative patients.Steroids should be used with caution in the presence of glaucoma. Intraocular pressure should be checked frequently.The use of steroids after cataract surgery may delay healing and increase the incidence of bleb formation.Use of ocular steroids may prolong the course and may exacerbate the severity of many viral infections of the eye (including herpes simplex). Employment of a corticosteroid medication in the treatment of patients with a history of herpes simplex requires great caution; frequent slit lamp microscopy is recommended.Corticosteroids are not effective in mustard gas keratitis and Sjögren's keratoconjunctivitis. | HMS®(medrysone ophthalmic suspension) 1%           |\n",
       "| 1612d931-d86e-4dba-bbd7-0aac3eaee131 | B08BDAA0-28F1-6D59-3526-C965D2DB1A6F | 1 | PRECAUTIONS\n",
       "\n",
       "\n",
       "\n",
       "\n",
       "\n",
       "General:\n",
       "The initial prescription and renewal of the medication order beyond 20 milliliters of HMS® suspension should be made by a physician only after examination of the patient with the aid of magnification, such as slit lamp biomicroscopy and, where appropriate, fluorescein staining. If signs and symptoms fail to improve after two days, the patient should be re-evaluated.As fungal infections of the cornea are particularly prone to develop coincidentally with long-term local corticosteroid applications, fungal invasion should be suspected in any persistent corneal ulceration where a corticosteroid has been used or is in use. Fungal cultures should be taken when appropriate.If this product is used for 10 days or longer, intraocular pressure should be monitored (see WARNINGS).\n",
       "\n",
       "\n",
       "\n",
       "\n",
       "\n",
       "\n",
       "\n",
       "Information for Patients:\n",
       "If inflammation or pain persists longer than 48 hours or becomes aggravated, the patient should be advised to discontinue use of the medication and consult a physician.This product is sterile when packaged. To prevent contamination, care should be taken to avoid touching the bottle tip to eyelids or to any other surface. The use of this bottle by more than one person may spread infection. Keep bottle tightly closed when not in use. Keep out of the reach of children.\n",
       "\n",
       "\n",
       "\n",
       "\n",
       "\n",
       "\n",
       "\n",
       "Carcinogenesis, Mutagenesis, Impairment of Fertility:\n",
       "No studies have been conducted in animals or in humans to evaluate the potential of these effects.\n",
       "\n",
       "\n",
       "\n",
       "\n",
       "\n",
       "\n",
       "\n",
       "Pregnancy:\n",
       "\n",
       "\n",
       "\n",
       "\n",
       "\n",
       "Teratogenic effects. Pregnancy Category C. Medrysone has been shown to be embryocidal in rabbits when given in doses 10 and 30 times the human ocular dose. Two drops of medrysone were applied to both eyes of pregnant rabbits 4 times per day on day 6 through 18 of gestation.  A significant increase in early resorptions was observed in the treated rabbits. There are no adequate and well-controlled studies of medrysone in pregnant women. Medrysone should be used during pregnancy only if the potential benefit justifies the potential risk to the fetus.\n",
       "\n",
       "\n",
       "\n",
       "\n",
       "\n",
       "\n",
       "\n",
       "\n",
       "\n",
       "Nursing Mothers:\n",
       "It is not known whether topical ophthalmic administration of corticosteroids could result in sufficient systemic absorption to produce detectable quantities in human breast milk. Systemically administered corticosteroids appear in human milk and could suppress growth, interfere with endogenous corticosteroid production, or cause other untoward effects. Because of the potential for serious adverse reactions in nursing infants from medrysone, a decision should be made whether to discontinue nursing or to discontinue the drug, taking into account the importance of the drug to the mother.\n",
       "\n",
       "\n",
       "\n",
       "\n",
       "\n",
       "\n",
       "\n",
       "Pediatric Use:\n",
       "Safety and effectiveness in pediatric patients below the age of 3 years have not been established.\n",
       "\n",
       "\n",
       "\n",
       "\n",
       "\n",
       "\n",
       "\n",
       "Geriatric Use:\n",
       "No overall differences in safety or effectiveness have been observed between elderly and younger patients. | HMS®(medrysone ophthalmic suspension) 1%           |\n",
       "| 1612d931-d86e-4dba-bbd7-0aac3eaee131 | B08BDAA0-28F1-6D59-3526-C965D2DB1A6F | 1 | OVERDOSAGE\n",
       "Overdosage will not ordinarily cause acute problems.  If accidentally ingested, drink fluids to dilute. | HMS®(medrysone ophthalmic suspension) 1%           |\n",
       "| 312042cf-df60-4dc5-90dd-4e77ebd4a781 | 312042cf-df60-4dc5-90dd-4e77ebd4a781 | 1 | ADVERSE REACTIONS\n",
       "Careful observation should be made for severe cholinergic reactions in the hyperreactive individual. The myasthenic patient in\n",
       "\t\t\t\t\t\t\tcrisis who is being tested with ENLON should be observed for bradycardia or cardiac standstill and cholinergic reactions if an overdose is given.The following reactions common to anticholinesterase agents may occur, although not all of these reactions have been reported with\n",
       "\t\t\t\t\t\t\tthe administration of ENLON, probably because of its short duration of action and limited indications:\n",
       "\n",
       "\n",
       "Eye:Increased lacrimation, pupillary constriction, spasm of accommodation, diplopia, conjunctival hyperemia.\n",
       "CNS:Convulsions, dysarthria, dysphonia, dysphagia.\n",
       "Respiratory:Increased tracheobronchial secretions, laryngospasm, bronchiolar constriction, paralysis of muscles of respiration, central respiratory\n",
       "\t\t\t\t\t\t\t\t\tparalysis.\n",
       "Cardiac:Arrhythmias (especially bradycardia), fall in cardiac output leading to hypotension.\n",
       "G.I.:Increased salivary, gastric and intestinal secretion, nausea, vomiting, increased peristalsis, diarrhea, abdominal cramps.\n",
       "Skeletal Muscle:Weakness, fasciculations.\n",
       "Miscellaneous:Increased urinary frequency and incontinence, diaphoresis. | ENLON (edrophonium chloride injection, USP)Rx only |\n",
       "| 312042cf-df60-4dc5-90dd-4e77ebd4a781 | 312042cf-df60-4dc5-90dd-4e77ebd4a781 | 1 | WARNINGS\n",
       "Whenever anticholinesterase drugs are used for testing, a syringe containing 1 mg of atropine sulfate should be immediately\n",
       "\t\t\t\t\t\t\tavailable to be given in aliquots intravenously to counteract severe cholinergic reactions which may occur in the hypersensitive individual, whether he is normal or myasthenic. ENLON\n",
       "\t\t\t\t\t\t\tshould be used with caution in patients with bronchial asthma or cardiac dysrhythmias. The transient bradycardia which sometimes occurs can be relieved by atropine sulfate. Isolated\n",
       "\t\t\t\t\t\t\tinstances of cardiac and respiratory arrest following administration of ENLON have been reported. It is postulated that these are vagotonic effects.Contains sodium sulfite, a sulfite that may cause allergic-type reactions including anaphylactic symptoms and life-threatening or\n",
       "\t\t\t\t\t\t\tless severe asthmatic episodes in certain susceptible people. The overall prevalence of sulfite sensitivity in the general population is unknown and probably low. Sulfite sensitivity is\n",
       "\t\t\t\t\t\t\tseen more frequently in asthmatic than in nonasthmatic people.\n",
       "\n",
       "\n",
       "\n",
       "\n",
       "Usage in Pregnancy\n",
       "The safety of ENLON during pregnancy or lactation in humans has not been established. Therefore, use of ENLON in women who may\n",
       "\t\t\t\t\t\t\t\t\tbecome pregnant requires weighing the drug’s potential benefits against its possible hazards to mother and child. | ENLON (edrophonium chloride injection, USP)Rx only |\n",
       "\n"
      ],
      "text/plain": [
       "  set_id                               label_id                            \n",
       "1 1612d931-d86e-4dba-bbd7-0aac3eaee131 B08BDAA0-28F1-6D59-3526-C965D2DB1A6F\n",
       "2 1612d931-d86e-4dba-bbd7-0aac3eaee131 B08BDAA0-28F1-6D59-3526-C965D2DB1A6F\n",
       "3 1612d931-d86e-4dba-bbd7-0aac3eaee131 B08BDAA0-28F1-6D59-3526-C965D2DB1A6F\n",
       "4 1612d931-d86e-4dba-bbd7-0aac3eaee131 B08BDAA0-28F1-6D59-3526-C965D2DB1A6F\n",
       "5 312042cf-df60-4dc5-90dd-4e77ebd4a781 312042cf-df60-4dc5-90dd-4e77ebd4a781\n",
       "6 312042cf-df60-4dc5-90dd-4e77ebd4a781 312042cf-df60-4dc5-90dd-4e77ebd4a781\n",
       "  spl_version\n",
       "1 1          \n",
       "2 1          \n",
       "3 1          \n",
       "4 1          \n",
       "5 1          \n",
       "6 1          \n",
       "  sections                                                                                                                                                                                                                                                                                                                                                                                                                                                                                                                                                                                                                                                                                                                                                                                                                                                                                                                                                                                                                                                                                                                                                                                                                                                                                                                                                                                                                                                                                                                                                                                                                                                                                                                                                                                                                                                                                                                                                                                                                                                                                                                                                                                                                                                                                                                                                                                                                                                                                                                                                                                                                                                                                                                                                                                                                                                                                                                                                                                                                                                                                             \n",
       "1 ADVERSE REACTIONS\\nAdverse reactions include, in decreasing order of frequency, elevation of intraocular pressure (IOP) with possible development of glaucoma and infrequent optic nerve damage, posterior subcapsular cataract formation, and delayed wound healing.Although systemic effects are extremely uncommon, there have been rare occurrences of systemic hypercorticoidism after use of topical steroids.Corticosteroid-containing preparations have also been reported to cause acute anterior uveitis and perforation of the globe. Keratitis, conjunctivitis, corneal ulcers, mydriasis, conjunctival hyperemia, loss of accommodation and ptosis have occasionally been reported following local use of corticosteroids.The development of secondary ocular infection (bacterial, fungal and viral) has occurred. Fungal and viral infections of the cornea are particularly prone to develop coincidentally with long-term applications of steroids. The possibility of fungal invasion should be considered in any persistent corneal ulceration where steroid treatment has been used (see WARNINGS).Transient burning and stinging upon instillation and other minor symptoms of ocular irritation have been reported with the use of HMS® suspension.  Other adverse events reported with the use of HMS® suspension include: allergic reactions, foreign body sensation, and visual disturbance (blurry vision).                                                                                                                                                                                                                                                                                                                                                                                                                                                                                                                                                                                                                                                                                                                                                                                                                                                                                                                                                                                                                                                                                                                                                                                                                                                                                                                                                                                                                                                                                                                                                                                                                                                                \n",
       "2 WARNINGS\\nHMS® (medrysone ophthalmic suspension) is not recommended for use in iritis and uveitis as its therapeutic effectiveness has not been demonstrated in these conditions.Prolonged use of corticosteroids may result in glaucoma with damage to the optic nerve, defects in visual acuity and fields of vision, and in posterior subcapsular cataract formation. Prolonged use may also suppress the host immune response and thus increase the hazard of secondary ocular infections.Various ocular diseases and long-term use of topical corticosteroids have been known to cause corneal and scleral thinning. Use of topical corticosteroids in the presence of thin corneal or scleral tissue may lead to perforation.Acute purulent infections of the eye may be masked or activity enhanced by the presence of corticosteroid medication.If this product is used for 10 days or longer, intraocular pressure should be routinely monitored even though it may be difficult in children and uncooperative patients.Steroids should be used with caution in the presence of glaucoma. Intraocular pressure should be checked frequently.The use of steroids after cataract surgery may delay healing and increase the incidence of bleb formation.Use of ocular steroids may prolong the course and may exacerbate the severity of many viral infections of the eye (including herpes simplex). Employment of a corticosteroid medication in the treatment of patients with a history of herpes simplex requires great caution; frequent slit lamp microscopy is recommended.Corticosteroids are not effective in mustard gas keratitis and Sjögren's keratoconjunctivitis.                                                                                                                                                                                                                                                                                                                                                                                                                                                                                                                                                                                                                                                                                                                                                                                                                                                                                                                                                                                                                                                                                                                                                                                                                                                                                                                                                                                                             \n",
       "3 PRECAUTIONS\\n\\n\\n\\n\\n\\nGeneral:\\nThe initial prescription and renewal of the medication order beyond 20 milliliters of HMS® suspension should be made by a physician only after examination of the patient with the aid of magnification, such as slit lamp biomicroscopy and, where appropriate, fluorescein staining. If signs and symptoms fail to improve after two days, the patient should be re-evaluated.As fungal infections of the cornea are particularly prone to develop coincidentally with long-term local corticosteroid applications, fungal invasion should be suspected in any persistent corneal ulceration where a corticosteroid has been used or is in use. Fungal cultures should be taken when appropriate.If this product is used for 10 days or longer, intraocular pressure should be monitored (see WARNINGS).\\n\\n\\n\\n\\n\\n\\n\\nInformation for Patients:\\nIf inflammation or pain persists longer than 48 hours or becomes aggravated, the patient should be advised to discontinue use of the medication and consult a physician.This product is sterile when packaged. To prevent contamination, care should be taken to avoid touching the bottle tip to eyelids or to any other surface. The use of this bottle by more than one person may spread infection. Keep bottle tightly closed when not in use. Keep out of the reach of children.\\n\\n\\n\\n\\n\\n\\n\\nCarcinogenesis, Mutagenesis, Impairment of Fertility:\\nNo studies have been conducted in animals or in humans to evaluate the potential of these effects.\\n\\n\\n\\n\\n\\n\\n\\nPregnancy:\\n\\n\\n\\n\\n\\nTeratogenic effects. Pregnancy Category C. Medrysone has been shown to be embryocidal in rabbits when given in doses 10 and 30 times the human ocular dose. Two drops of medrysone were applied to both eyes of pregnant rabbits 4 times per day on day 6 through 18 of gestation.  A significant increase in early resorptions was observed in the treated rabbits. There are no adequate and well-controlled studies of medrysone in pregnant women. Medrysone should be used during pregnancy only if the potential benefit justifies the potential risk to the fetus.\\n\\n\\n\\n\\n\\n\\n\\n\\n\\nNursing Mothers:\\nIt is not known whether topical ophthalmic administration of corticosteroids could result in sufficient systemic absorption to produce detectable quantities in human breast milk. Systemically administered corticosteroids appear in human milk and could suppress growth, interfere with endogenous corticosteroid production, or cause other untoward effects. Because of the potential for serious adverse reactions in nursing infants from medrysone, a decision should be made whether to discontinue nursing or to discontinue the drug, taking into account the importance of the drug to the mother.\\n\\n\\n\\n\\n\\n\\n\\nPediatric Use:\\nSafety and effectiveness in pediatric patients below the age of 3 years have not been established.\\n\\n\\n\\n\\n\\n\\n\\nGeriatric Use:\\nNo overall differences in safety or effectiveness have been observed between elderly and younger patients.\n",
       "4 OVERDOSAGE\\nOverdosage will not ordinarily cause acute problems.  If accidentally ingested, drink fluids to dilute.                                                                                                                                                                                                                                                                                                                                                                                                                                                                                                                                                                                                                                                                                                                                                                                                                                                                                                                                                                                                                                                                                                                                                                                                                                                                                                                                                                                                                                                                                                                                                                                                                                                                                                                                                                                                                                                                                                                                                                                                                                                                                                                                                                                                                                                                                                                                                                                                                                                                                                                                                                                                                                                                                                                                                                                                                                                                                                                                                                                  \n",
       "5 ADVERSE REACTIONS\\nCareful observation should be made for severe cholinergic reactions in the hyperreactive individual. The myasthenic patient in\\n\\t\\t\\t\\t\\t\\t\\tcrisis who is being tested with ENLON should be observed for bradycardia or cardiac standstill and cholinergic reactions if an overdose is given.The following reactions common to anticholinesterase agents may occur, although not all of these reactions have been reported with\\n\\t\\t\\t\\t\\t\\t\\tthe administration of ENLON, probably because of its short duration of action and limited indications:\\n\\n\\nEye:Increased lacrimation, pupillary constriction, spasm of accommodation, diplopia, conjunctival hyperemia.\\nCNS:Convulsions, dysarthria, dysphonia, dysphagia.\\nRespiratory:Increased tracheobronchial secretions, laryngospasm, bronchiolar constriction, paralysis of muscles of respiration, central respiratory\\n\\t\\t\\t\\t\\t\\t\\t\\t\\tparalysis.\\nCardiac:Arrhythmias (especially bradycardia), fall in cardiac output leading to hypotension.\\nG.I.:Increased salivary, gastric and intestinal secretion, nausea, vomiting, increased peristalsis, diarrhea, abdominal cramps.\\nSkeletal Muscle:Weakness, fasciculations.\\nMiscellaneous:Increased urinary frequency and incontinence, diaphoresis.                                                                                                                                                                                                                                                                                                                                                                                                                                                                                                                                                                                                                                                                                                                                                                                                                                                                                                                                                                                                                                                                                                                                                                                                                                                                                                                                                                                                                                                                                                                                                                                                                                                                                                                                                                                                              \n",
       "6 WARNINGS\\nWhenever anticholinesterase drugs are used for testing, a syringe containing 1 mg of atropine sulfate should be immediately\\n\\t\\t\\t\\t\\t\\t\\tavailable to be given in aliquots intravenously to counteract severe cholinergic reactions which may occur in the hypersensitive individual, whether he is normal or myasthenic. ENLON\\n\\t\\t\\t\\t\\t\\t\\tshould be used with caution in patients with bronchial asthma or cardiac dysrhythmias. The transient bradycardia which sometimes occurs can be relieved by atropine sulfate. Isolated\\n\\t\\t\\t\\t\\t\\t\\tinstances of cardiac and respiratory arrest following administration of ENLON have been reported. It is postulated that these are vagotonic effects.Contains sodium sulfite, a sulfite that may cause allergic-type reactions including anaphylactic symptoms and life-threatening or\\n\\t\\t\\t\\t\\t\\t\\tless severe asthmatic episodes in certain susceptible people. The overall prevalence of sulfite sensitivity in the general population is unknown and probably low. Sulfite sensitivity is\\n\\t\\t\\t\\t\\t\\t\\tseen more frequently in asthmatic than in nonasthmatic people.\\n\\n\\n\\n\\nUsage in Pregnancy\\nThe safety of ENLON during pregnancy or lactation in humans has not been established. Therefore, use of ENLON in women who may\\n\\t\\t\\t\\t\\t\\t\\t\\t\\tbecome pregnant requires weighing the drug’s potential benefits against its possible hazards to mother and child.                                                                                                                                                                                                                                                                                                                                                                                                                                                                                                                                                                                                                                                                                                                                                                                                                                                                                                                                                                                                                                                                                                                                                                                                                                                                                                                                                                                                                                                                                                                                                                                                                                                        \n",
       "  title                                             \n",
       "1 HMS®(medrysone ophthalmic suspension) 1%          \n",
       "2 HMS®(medrysone ophthalmic suspension) 1%          \n",
       "3 HMS®(medrysone ophthalmic suspension) 1%          \n",
       "4 HMS®(medrysone ophthalmic suspension) 1%          \n",
       "5 ENLON (edrophonium chloride injection, USP)Rx only\n",
       "6 ENLON (edrophonium chloride injection, USP)Rx only"
      ]
     },
     "metadata": {},
     "output_type": "display_data"
    }
   ],
   "source": [
    "data <- files %>%\n",
    "       map_df(~fromJSON(file.path(path, .), flatten = TRUE))\n",
    "data %>% head()"
   ]
  },
  {
   "cell_type": "code",
   "execution_count": 45,
   "id": "801ff3ac",
   "metadata": {},
   "outputs": [],
   "source": [
    "my_pattern = paste0(unique(referece_ades$drug_name), collapse = '|') %>% tolower()\n",
    "\n",
    "ref_labels <- data %>% rowwise() %>%\n",
    "    mutate(title = title %>% tolower()) %>%\n",
    "    filter(grepl(pattern = my_pattern, x = title)) %>%\n",
    "    mutate(drug_name = str_match(title, my_pattern)[1]) %>% ungroup()"
   ]
  },
  {
   "cell_type": "code",
   "execution_count": 51,
   "id": "952c3a2a",
   "metadata": {},
   "outputs": [],
   "source": [
    "reference_labels <- referece_ades %>%\n",
    "    mutate(drug_name = drug_name %>% tolower()) %>%\n",
    "    inner_join(ref_labels, by = 'drug_name', multiple = 'all') %>%\n",
    "    filter(!(drug_name == 'acyclovir' & grepl(pattern='valacyclovir', x = title)))"
   ]
  },
  {
   "cell_type": "code",
   "execution_count": 82,
   "id": "7f3aa975",
   "metadata": {},
   "outputs": [
    {
     "name": "stderr",
     "output_type": "stream",
     "text": [
      "\u001b[1m\u001b[22m`summarise()` has grouped output by 'cohort_id', 'condition_name', 'drug_concept_id', 'drug_name', 'affect', 'set_id', 'label_id',\n",
      "'spl_version'. You can override using the `.groups` argument.\n"
     ]
    }
   ],
   "source": [
    "reference_labels %>%\n",
    "    group_by(cohort_id, condition_name, drug_concept_id, drug_name, affect, set_id, label_id, spl_version, title) %>%\n",
    "    summarise(sections = paste0(sections, collapse = '\\n')) %>%\n",
    "    write_csv('reference_set_labels.csv')"
   ]
  },
  {
   "cell_type": "raw",
   "id": "0f1397ef",
   "metadata": {},
   "source": [
    "reference_labels %>%\n",
    "write_csv('reference_set_labels.csv')"
   ]
  },
  {
   "cell_type": "code",
   "execution_count": 63,
   "id": "e9ddc2c6",
   "metadata": {},
   "outputs": [
    {
     "name": "stderr",
     "output_type": "stream",
     "text": [
      "\u001b[1m\u001b[22mJoining with `by = join_by(cohort_id, condition_name, drug_concept_id, drug_name,\n",
      "affect)`\n",
      "Warning message in left_join(., reference_labels %>% mutate(retrieved = 1)):\n",
      "“\u001b[1m\u001b[22mEach row in `x` is expected to match at most 1 row in `y`.\n",
      "\u001b[36mℹ\u001b[39m Row 1 of `x` matches multiple rows.\n",
      "\u001b[36mℹ\u001b[39m If multiple matches are expected, set `multiple = \"all\"` to silence this warning.”\n"
     ]
    },
    {
     "data": {
      "text/html": [
       "<table>\n",
       "<caption>A tibble: 4 × 4</caption>\n",
       "<thead>\n",
       "\t<tr><th scope=col>condition_name</th><th scope=col>n_drugs</th><th scope=col>n_retrieved</th><th scope=col>prop</th></tr>\n",
       "\t<tr><th scope=col>&lt;chr&gt;</th><th scope=col>&lt;int&gt;</th><th scope=col>&lt;dbl&gt;</th><th scope=col>&lt;dbl&gt;</th></tr>\n",
       "</thead>\n",
       "<tbody>\n",
       "\t<tr><td>Acute kidney injury        </td><td> 88</td><td>71</td><td>80.68</td></tr>\n",
       "\t<tr><td>Acute liver injury         </td><td>118</td><td>99</td><td>83.90</td></tr>\n",
       "\t<tr><td>Acute myocardial infarction</td><td>102</td><td>81</td><td>79.41</td></tr>\n",
       "\t<tr><td>GI bleed                   </td><td> 91</td><td>71</td><td>78.02</td></tr>\n",
       "</tbody>\n",
       "</table>\n"
      ],
      "text/latex": [
       "A tibble: 4 × 4\n",
       "\\begin{tabular}{llll}\n",
       " condition\\_name & n\\_drugs & n\\_retrieved & prop\\\\\n",
       " <chr> & <int> & <dbl> & <dbl>\\\\\n",
       "\\hline\n",
       "\t Acute kidney injury         &  88 & 71 & 80.68\\\\\n",
       "\t Acute liver injury          & 118 & 99 & 83.90\\\\\n",
       "\t Acute myocardial infarction & 102 & 81 & 79.41\\\\\n",
       "\t GI bleed                    &  91 & 71 & 78.02\\\\\n",
       "\\end{tabular}\n"
      ],
      "text/markdown": [
       "\n",
       "A tibble: 4 × 4\n",
       "\n",
       "| condition_name &lt;chr&gt; | n_drugs &lt;int&gt; | n_retrieved &lt;dbl&gt; | prop &lt;dbl&gt; |\n",
       "|---|---|---|---|\n",
       "| Acute kidney injury         |  88 | 71 | 80.68 |\n",
       "| Acute liver injury          | 118 | 99 | 83.90 |\n",
       "| Acute myocardial infarction | 102 | 81 | 79.41 |\n",
       "| GI bleed                    |  91 | 71 | 78.02 |\n",
       "\n"
      ],
      "text/plain": [
       "  condition_name              n_drugs n_retrieved prop \n",
       "1 Acute kidney injury          88     71          80.68\n",
       "2 Acute liver injury          118     99          83.90\n",
       "3 Acute myocardial infarction 102     81          79.41\n",
       "4 GI bleed                     91     71          78.02"
      ]
     },
     "metadata": {},
     "output_type": "display_data"
    }
   ],
   "source": [
    "referece_ades %>% mutate(drug_name = tolower(drug_name)) %>%\n",
    "    left_join(reference_labels %>% mutate(retrieved = 1)) %>%\n",
    "    replace_na(list('retrieved' = 0)) %>%\n",
    "    distinct(condition_name, drug_concept_id, retrieved) %>%\n",
    "    group_by(condition_name) %>%\n",
    "    summarise(n_drugs = n_distinct(drug_concept_id),\n",
    "              n_retrieved = sum(retrieved),\n",
    "              prop = round(n_retrieved/n_drugs * 100, digits = 2))"
   ]
  },
  {
   "cell_type": "code",
   "execution_count": 74,
   "id": "4959d488",
   "metadata": {},
   "outputs": [
    {
     "data": {
      "text/html": [
       "<table>\n",
       "<caption>A tibble: 1 × 1</caption>\n",
       "<thead>\n",
       "\t<tr><th scope=col>avg_num_labels</th></tr>\n",
       "\t<tr><th scope=col>&lt;dbl&gt;</th></tr>\n",
       "</thead>\n",
       "<tbody>\n",
       "\t<tr><td>4.573333</td></tr>\n",
       "</tbody>\n",
       "</table>\n"
      ],
      "text/latex": [
       "A tibble: 1 × 1\n",
       "\\begin{tabular}{l}\n",
       " avg\\_num\\_labels\\\\\n",
       " <dbl>\\\\\n",
       "\\hline\n",
       "\t 4.573333\\\\\n",
       "\\end{tabular}\n"
      ],
      "text/markdown": [
       "\n",
       "A tibble: 1 × 1\n",
       "\n",
       "| avg_num_labels &lt;dbl&gt; |\n",
       "|---|\n",
       "| 4.573333 |\n",
       "\n"
      ],
      "text/plain": [
       "  avg_num_labels\n",
       "1 4.573333      "
      ]
     },
     "metadata": {},
     "output_type": "display_data"
    }
   ],
   "source": [
    "reference_labels %>%\n",
    "#     group_by(condition_name, drug_name) %>%\n",
    "#     summarise(num_labels = n()) %>%\n",
    "#     group_by(condition_name) %>%\n",
    "#     summarise(avg_num_labels = round(mean(num_labels), digits = 2))\n",
    "    distinct(drug_name, sections) %>%\n",
    "    group_by(drug_name) %>%\n",
    "    summarise(num_labels = n())  %>%\n",
    "    summarise(avg_num_labels = mean(num_labels))"
   ]
  },
  {
   "cell_type": "code",
   "execution_count": 70,
   "id": "c9940901",
   "metadata": {},
   "outputs": [
    {
     "data": {
      "text/html": [
       "<ol class=list-inline>\n",
       "\t<li>150</li>\n",
       "\t<li>1</li>\n",
       "</ol>\n"
      ],
      "text/latex": [
       "\\begin{enumerate*}\n",
       "\\item 150\n",
       "\\item 1\n",
       "\\end{enumerate*}\n"
      ],
      "text/markdown": [
       "1. 150\n",
       "2. 1\n",
       "\n",
       "\n"
      ],
      "text/plain": [
       "[1] 150   1"
      ]
     },
     "metadata": {},
     "output_type": "display_data"
    }
   ],
   "source": [
    "reference_labels %>% distinct(drug_concept_id) %>% dim()"
   ]
  },
  {
   "cell_type": "code",
   "execution_count": 71,
   "id": "4e0f4567",
   "metadata": {},
   "outputs": [
    {
     "data": {
      "text/html": [
       "<ol class=list-inline>\n",
       "\t<li>182</li>\n",
       "\t<li>1</li>\n",
       "</ol>\n"
      ],
      "text/latex": [
       "\\begin{enumerate*}\n",
       "\\item 182\n",
       "\\item 1\n",
       "\\end{enumerate*}\n"
      ],
      "text/markdown": [
       "1. 182\n",
       "2. 1\n",
       "\n",
       "\n"
      ],
      "text/plain": [
       "[1] 182   1"
      ]
     },
     "metadata": {},
     "output_type": "display_data"
    }
   ],
   "source": [
    "referece_ades %>% distinct(drug_concept_id) %>% dim()"
   ]
  }
 ],
 "metadata": {
  "kernelspec": {
   "display_name": "R [conda env:geno] *",
   "language": "R",
   "name": "conda-env-geno-r"
  },
  "language_info": {
   "codemirror_mode": "r",
   "file_extension": ".r",
   "mimetype": "text/x-r-source",
   "name": "R",
   "pygments_lexer": "r",
   "version": "3.6.1"
  }
 },
 "nbformat": 4,
 "nbformat_minor": 5
}
